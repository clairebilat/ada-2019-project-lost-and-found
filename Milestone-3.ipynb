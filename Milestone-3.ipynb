{
 "cells": [
  {
   "cell_type": "markdown",
   "metadata": {},
   "source": [
    "# Where can you eat safely in Chigago : an analysis based on the inspections reports from the Chicago department of Public Health's Food Protection Program.\n",
    "\n",
    "## 1. Introduction\n",
    "\n",
    "  The Chicago department of Public Health’s Food Protection Program provides a database which contains the information from inspection reports of restaurants and other food establishments in Chicago from 2010 to the present. It contains many informations about the establishments, like their type of facility (grocery stores, restaurants, coffee shop, …) and their locations. Many informations about the violations listed are also provided in the database, like the description of the findings that caused them and the reason that invoked the staff from the program to led an inspection.\n",
    "\n",
    "**The main research question is : Where can you eat safely in Chicago ?**\n",
    "\n",
    "The adjective `safely` is chosen wisely because it has multiple meanings : you can eat in a `safe` way making sure that the establishment where you go respects particular hygiene rules, but also that the place is `safe` according to the crime rate of its district.\n",
    "\n",
    "  To begin, it has been decided that the analysis of the data will be done temporally. Indeed, the field of restoration is known to be in a constant evolution : each year, many establishments are opening while other are closing or changing of owner - especially in big cities. \n",
    "This is why the different calculations and comparisons will be done by year. To answer the main question about where to eat in Chicago, the answer will be given based on the latest data.\n",
    "Also, a map visualization seems to be a good solution to diplay the results, as the analysis is spatio-temporal. \n",
    "\n",
    "\n",
    "### Hygiene Score\n",
    "\n",
    "The hygiene of the public and private food establishments listed in the dataset will be calculated using on a `hygiene score` based on the different violations reported and the final result of the inspection. In order to compare the places to eat by delimited zones, a mean will be computed by community area.\n",
    "  \n",
    "**Questions :** \n",
    "\n",
    "*Are their significant differences of hygiene scores between the community areas ?*\n",
    "\n",
    "*How is the evolution over time ?*\n",
    "  \n",
    "\n",
    "### A little study about Management\n",
    "\n",
    "Two datasets have been found, which contain the owner's et license's informations of Chicago establishments. It would be interesting to merge it with the first dataset in order to study the trends regarding the management of the establishments.\n",
    "  \n",
    "**Questions :**\n",
    "\n",
    "*Is their a relation between the number of establishments that an owner has and the hygiene scores obtained ?*\n",
    "\n",
    "*In which way a change of owner changes the hygiene score of an establishment ?*\n",
    "\n",
    "\n",
    "### Crime Score\n",
    "\n",
    "The Chicago Crime Report can be used in order to compute a `crime score` for each community area, following the same principle than in the first point. This way, it will be possible to compare the crime and hygiene scores according to the community areas.\n",
    "\n",
    "**Questions :**\n",
    "\n",
    "*Criminology domain*\n",
    "\n",
    "\n",
    "### Limits :\n",
    "\n",
    "An important point is to pay intention to the number of inspected establishments compared to the total number of establishments. It is certain than the variations of this ratio between the community areas has an impact on the results. An explanation of the variations should be purposed.\n",
    "In order to give a complete answer to the main research question, the uninspected establishments have to be taken into account.\n",
    "   \n",
    "\n",
    "### Definitions :\n",
    "\n",
    "Hygiene Rules : Food Code Rules\n",
    "\n",
    "Community Area :\n",
    "\n",
    "\n",
    "The purpose of the project is to help the consumer to easily choose where to eat in Chicago and to provide them an interactive and intuitive way to browse the different places offered to them. Also, it could help the Chicago department of Public Health’s Food Protection Program to adapt their methods relying on the situation described by the findings of the analysis (for example, if a prevention program should be proposed for a specific area or type of facility).\n",
    "\n",
    "\n",
    "---"
   ]
  },
  {
   "cell_type": "code",
   "execution_count": 73,
   "metadata": {},
   "outputs": [],
   "source": [
    "%matplotlib inline\n",
    "import pandas as pd\n",
    "import numpy as np\n",
    "import re\n",
    "from matplotlib.ticker import MaxNLocator\n",
    "import matplotlib.pyplot as plt\n",
    "import requests as req\n",
    "from bs4 import BeautifulSoup\n",
    "import seaborn as sns\n",
    "from shapely.geometry import Point\n",
    "from shapely.geometry.polygon import Polygon"
   ]
  },
  {
   "cell_type": "markdown",
   "metadata": {},
   "source": [
    "## 2. Preprocessing\n"
   ]
  },
  {
   "cell_type": "markdown",
   "metadata": {},
   "source": [
    "First a quick look at how the dataset is organized. "
   ]
  },
  {
   "cell_type": "code",
   "execution_count": 74,
   "metadata": {},
   "outputs": [
    {
     "data": {
      "text/html": [
       "<div>\n",
       "<style scoped>\n",
       "    .dataframe tbody tr th:only-of-type {\n",
       "        vertical-align: middle;\n",
       "    }\n",
       "\n",
       "    .dataframe tbody tr th {\n",
       "        vertical-align: top;\n",
       "    }\n",
       "\n",
       "    .dataframe thead th {\n",
       "        text-align: right;\n",
       "    }\n",
       "</style>\n",
       "<table border=\"1\" class=\"dataframe\">\n",
       "  <thead>\n",
       "    <tr style=\"text-align: right;\">\n",
       "      <th></th>\n",
       "      <th>Inspection ID</th>\n",
       "      <th>DBA Name</th>\n",
       "      <th>AKA Name</th>\n",
       "      <th>License #</th>\n",
       "      <th>Facility Type</th>\n",
       "      <th>Risk</th>\n",
       "      <th>Address</th>\n",
       "      <th>City</th>\n",
       "      <th>State</th>\n",
       "      <th>Zip</th>\n",
       "      <th>...</th>\n",
       "      <th>Results</th>\n",
       "      <th>Violations</th>\n",
       "      <th>Latitude</th>\n",
       "      <th>Longitude</th>\n",
       "      <th>Location</th>\n",
       "      <th>Historical Wards 2003-2015</th>\n",
       "      <th>Zip Codes</th>\n",
       "      <th>Community Areas</th>\n",
       "      <th>Census Tracts</th>\n",
       "      <th>Wards</th>\n",
       "    </tr>\n",
       "  </thead>\n",
       "  <tbody>\n",
       "    <tr>\n",
       "      <th>0</th>\n",
       "      <td>2320971</td>\n",
       "      <td>JUMPSTART EARLY LEARNING ACADEMY</td>\n",
       "      <td>JUMPSTART EARLY LEARNING ACADEMY</td>\n",
       "      <td>2589822.0</td>\n",
       "      <td>Children's Services Facility</td>\n",
       "      <td>Risk 1 (High)</td>\n",
       "      <td>7559 W ADDISON ST</td>\n",
       "      <td>CHICAGO</td>\n",
       "      <td>IL</td>\n",
       "      <td>60634.0</td>\n",
       "      <td>...</td>\n",
       "      <td>Pass w/ Conditions</td>\n",
       "      <td>5. PROCEDURES FOR RESPONDING TO VOMITING AND D...</td>\n",
       "      <td>41.945065</td>\n",
       "      <td>-87.816734</td>\n",
       "      <td>{'longitude': '41.945064857019986', 'latitude'...</td>\n",
       "      <td>NaN</td>\n",
       "      <td>NaN</td>\n",
       "      <td>NaN</td>\n",
       "      <td>NaN</td>\n",
       "      <td>NaN</td>\n",
       "    </tr>\n",
       "    <tr>\n",
       "      <th>1</th>\n",
       "      <td>2320918</td>\n",
       "      <td>BEEFSTEAK</td>\n",
       "      <td>BEEFSTEAK</td>\n",
       "      <td>2698445.0</td>\n",
       "      <td>Restaurant</td>\n",
       "      <td>Risk 1 (High)</td>\n",
       "      <td>303 E SUPERIOR ST</td>\n",
       "      <td>CHICAGO</td>\n",
       "      <td>IL</td>\n",
       "      <td>60611.0</td>\n",
       "      <td>...</td>\n",
       "      <td>Pass</td>\n",
       "      <td>39. CONTAMINATION PREVENTED DURING FOOD PREPAR...</td>\n",
       "      <td>41.895692</td>\n",
       "      <td>-87.620143</td>\n",
       "      <td>{'longitude': '41.895692401410514', 'latitude'...</td>\n",
       "      <td>NaN</td>\n",
       "      <td>NaN</td>\n",
       "      <td>NaN</td>\n",
       "      <td>NaN</td>\n",
       "      <td>NaN</td>\n",
       "    </tr>\n",
       "    <tr>\n",
       "      <th>2</th>\n",
       "      <td>2320986</td>\n",
       "      <td>BABA'S COFFEE</td>\n",
       "      <td>BABA'S COFFEE</td>\n",
       "      <td>2423353.0</td>\n",
       "      <td>Restaurant</td>\n",
       "      <td>Risk 1 (High)</td>\n",
       "      <td>5544-5546 N KEDZIE AVE</td>\n",
       "      <td>CHICAGO</td>\n",
       "      <td>IL</td>\n",
       "      <td>60625.0</td>\n",
       "      <td>...</td>\n",
       "      <td>No Entry</td>\n",
       "      <td>NaN</td>\n",
       "      <td>41.982582</td>\n",
       "      <td>-87.708996</td>\n",
       "      <td>{'longitude': '41.98258181784537', 'latitude':...</td>\n",
       "      <td>NaN</td>\n",
       "      <td>NaN</td>\n",
       "      <td>NaN</td>\n",
       "      <td>NaN</td>\n",
       "      <td>NaN</td>\n",
       "    </tr>\n",
       "  </tbody>\n",
       "</table>\n",
       "<p>3 rows × 22 columns</p>\n",
       "</div>"
      ],
      "text/plain": [
       "   Inspection ID                          DBA Name  \\\n",
       "0        2320971  JUMPSTART EARLY LEARNING ACADEMY   \n",
       "1        2320918                         BEEFSTEAK   \n",
       "2        2320986                     BABA'S COFFEE   \n",
       "\n",
       "                           AKA Name  License #                 Facility Type  \\\n",
       "0  JUMPSTART EARLY LEARNING ACADEMY  2589822.0  Children's Services Facility   \n",
       "1                         BEEFSTEAK  2698445.0                    Restaurant   \n",
       "2                     BABA'S COFFEE  2423353.0                    Restaurant   \n",
       "\n",
       "            Risk                  Address     City State      Zip  ...  \\\n",
       "0  Risk 1 (High)       7559 W ADDISON ST   CHICAGO    IL  60634.0  ...   \n",
       "1  Risk 1 (High)       303 E SUPERIOR ST   CHICAGO    IL  60611.0  ...   \n",
       "2  Risk 1 (High)  5544-5546 N KEDZIE AVE   CHICAGO    IL  60625.0  ...   \n",
       "\n",
       "              Results                                         Violations  \\\n",
       "0  Pass w/ Conditions  5. PROCEDURES FOR RESPONDING TO VOMITING AND D...   \n",
       "1                Pass  39. CONTAMINATION PREVENTED DURING FOOD PREPAR...   \n",
       "2            No Entry                                                NaN   \n",
       "\n",
       "    Latitude  Longitude                                           Location  \\\n",
       "0  41.945065 -87.816734  {'longitude': '41.945064857019986', 'latitude'...   \n",
       "1  41.895692 -87.620143  {'longitude': '41.895692401410514', 'latitude'...   \n",
       "2  41.982582 -87.708996  {'longitude': '41.98258181784537', 'latitude':...   \n",
       "\n",
       "   Historical Wards 2003-2015 Zip Codes  Community Areas  Census Tracts  Wards  \n",
       "0                         NaN       NaN              NaN            NaN    NaN  \n",
       "1                         NaN       NaN              NaN            NaN    NaN  \n",
       "2                         NaN       NaN              NaN            NaN    NaN  \n",
       "\n",
       "[3 rows x 22 columns]"
      ]
     },
     "execution_count": 74,
     "metadata": {},
     "output_type": "execute_result"
    }
   ],
   "source": [
    "eat_seat = pd.read_csv('food-inspections.csv',sep=',') #creation of the dataframe\n",
    "eat_seat.head(3)"
   ]
  },
  {
   "cell_type": "code",
   "execution_count": 75,
   "metadata": {},
   "outputs": [
    {
     "name": "stdout",
     "output_type": "stream",
     "text": [
      "<class 'pandas.core.frame.DataFrame'>\n",
      "RangeIndex: 195312 entries, 0 to 195311\n",
      "Data columns (total 22 columns):\n",
      "Inspection ID                 195312 non-null int64\n",
      "DBA Name                      195312 non-null object\n",
      "AKA Name                      192862 non-null object\n",
      "License #                     195295 non-null float64\n",
      "Facility Type                 190535 non-null object\n",
      "Risk                          195239 non-null object\n",
      "Address                       195312 non-null object\n",
      "City                          195173 non-null object\n",
      "State                         195270 non-null object\n",
      "Zip                           195261 non-null float64\n",
      "Inspection Date               195312 non-null object\n",
      "Inspection Type               195311 non-null object\n",
      "Results                       195312 non-null object\n",
      "Violations                    143530 non-null object\n",
      "Latitude                      194627 non-null float64\n",
      "Longitude                     194627 non-null float64\n",
      "Location                      194627 non-null object\n",
      "Historical Wards 2003-2015    0 non-null float64\n",
      "Zip Codes                     0 non-null float64\n",
      "Community Areas               0 non-null float64\n",
      "Census Tracts                 0 non-null float64\n",
      "Wards                         0 non-null float64\n",
      "dtypes: float64(9), int64(1), object(12)\n",
      "memory usage: 32.8+ MB\n"
     ]
    }
   ],
   "source": [
    "eat_seat.info()"
   ]
  },
  {
   "cell_type": "markdown",
   "metadata": {},
   "source": [
    "The dataset contains :\n",
    "- 195'312 entries\n",
    "- 22 columns (listed above)"
   ]
  },
  {
   "cell_type": "markdown",
   "metadata": {},
   "source": [
    "### 2.1 Columns Cleaning"
   ]
  },
  {
   "cell_type": "markdown",
   "metadata": {},
   "source": [
    "### Duplicates management\n",
    "\n",
    "To begin, it is primary to check if there are duplicates and, if so, decide how to handle them."
   ]
  },
  {
   "cell_type": "code",
   "execution_count": 76,
   "metadata": {},
   "outputs": [
    {
     "data": {
      "text/plain": [
       "492"
      ]
     },
     "execution_count": 76,
     "metadata": {},
     "output_type": "execute_result"
    }
   ],
   "source": [
    "duplicates = eat_seat[eat_seat.duplicated(subset=None, keep=False)]\n",
    "len(duplicates)"
   ]
  },
  {
   "cell_type": "markdown",
   "metadata": {},
   "source": [
    "It is not realistic that two rows contain the exact same cells : two inspections cannot happen at the same time, the explanation is that one is the duplicate of the other.\n",
    "Considering this postulate, we can drop the duplicates. "
   ]
  },
  {
   "cell_type": "code",
   "execution_count": 77,
   "metadata": {},
   "outputs": [],
   "source": [
    "eat_seat = eat_seat.drop_duplicates()"
   ]
  },
  {
   "cell_type": "code",
   "execution_count": 78,
   "metadata": {},
   "outputs": [
    {
     "data": {
      "text/plain": [
       "195066"
      ]
     },
     "execution_count": 78,
     "metadata": {},
     "output_type": "execute_result"
    }
   ],
   "source": [
    "len(eat_seat)"
   ]
  },
  {
   "cell_type": "markdown",
   "metadata": {},
   "source": [
    "### Missing and useless values"
   ]
  },
  {
   "cell_type": "markdown",
   "metadata": {},
   "source": [
    "Now, we want to see which values are missing."
   ]
  },
  {
   "cell_type": "code",
   "execution_count": 79,
   "metadata": {},
   "outputs": [
    {
     "data": {
      "text/plain": [
       "Inspection ID                      0\n",
       "DBA Name                           0\n",
       "AKA Name                        2450\n",
       "License #                         17\n",
       "Facility Type                   4774\n",
       "Risk                              73\n",
       "Address                            0\n",
       "City                             138\n",
       "State                             42\n",
       "Zip                               50\n",
       "Inspection Date                    0\n",
       "Inspection Type                    1\n",
       "Results                            0\n",
       "Violations                     51732\n",
       "Latitude                         684\n",
       "Longitude                        684\n",
       "Location                         684\n",
       "Historical Wards 2003-2015    195066\n",
       "Zip Codes                     195066\n",
       "Community Areas               195066\n",
       "Census Tracts                 195066\n",
       "Wards                         195066\n",
       "dtype: int64"
      ]
     },
     "execution_count": 79,
     "metadata": {},
     "output_type": "execute_result"
    }
   ],
   "source": [
    "eat_seat.isnull().sum()"
   ]
  },
  {
   "cell_type": "code",
   "execution_count": 80,
   "metadata": {},
   "outputs": [
    {
     "data": {
      "image/png": "[encoded data removed]",
      "text/plain": [
       "<Figure size 432x288 with 1 Axes>"
      ]
     },
     "metadata": {
      "needs_background": "light"
     },
     "output_type": "display_data"
    }
   ],
   "source": [
    "preview = pd.DataFrame(eat_seat.isnull().sum()).plot.barh(title = 'Missing Values by Columns')"
   ]
  },
  {
   "cell_type": "markdown",
   "metadata": {},
   "source": [
    "As we can see, the columns `Historical Wards 2003-2015`, `Zip Codes`, `Community Areas`, `Census Tracts` and `Wards` are empty and will be dropped.\n",
    "\n",
    "We will only be using the `DBA Name` (the name under which the establishment is doing business ; DBA = doing business as), so we drop the `AKA Name` column too.\n",
    "\n",
    "Also, we will use the `Latitude` and `Longitude` in our analysis, so we can drop de `Location`, `Zip`, `City` and `State` columns too. `Address` column is kept because it can help us to notice some inconsistencies."
   ]
  },
  {
   "cell_type": "code",
   "execution_count": 81,
   "metadata": {},
   "outputs": [
    {
     "data": {
      "text/html": [
       "<div>\n",
       "<style scoped>\n",
       "    .dataframe tbody tr th:only-of-type {\n",
       "        vertical-align: middle;\n",
       "    }\n",
       "\n",
       "    .dataframe tbody tr th {\n",
       "        vertical-align: top;\n",
       "    }\n",
       "\n",
       "    .dataframe thead th {\n",
       "        text-align: right;\n",
       "    }\n",
       "</style>\n",
       "<table border=\"1\" class=\"dataframe\">\n",
       "  <thead>\n",
       "    <tr style=\"text-align: right;\">\n",
       "      <th></th>\n",
       "      <th>Inspection ID</th>\n",
       "      <th>DBA Name</th>\n",
       "      <th>License #</th>\n",
       "      <th>Facility Type</th>\n",
       "      <th>Risk</th>\n",
       "      <th>Address</th>\n",
       "      <th>Inspection Date</th>\n",
       "      <th>Inspection Type</th>\n",
       "      <th>Results</th>\n",
       "      <th>Violations</th>\n",
       "      <th>Latitude</th>\n",
       "      <th>Longitude</th>\n",
       "    </tr>\n",
       "  </thead>\n",
       "  <tbody>\n",
       "    <tr>\n",
       "      <th>0</th>\n",
       "      <td>2320971</td>\n",
       "      <td>JUMPSTART EARLY LEARNING ACADEMY</td>\n",
       "      <td>2589822.0</td>\n",
       "      <td>Children's Services Facility</td>\n",
       "      <td>Risk 1 (High)</td>\n",
       "      <td>7559 W ADDISON ST</td>\n",
       "      <td>2019-11-01T00:00:00.000</td>\n",
       "      <td>Canvass</td>\n",
       "      <td>Pass w/ Conditions</td>\n",
       "      <td>5. PROCEDURES FOR RESPONDING TO VOMITING AND D...</td>\n",
       "      <td>41.945065</td>\n",
       "      <td>-87.816734</td>\n",
       "    </tr>\n",
       "    <tr>\n",
       "      <th>1</th>\n",
       "      <td>2320918</td>\n",
       "      <td>BEEFSTEAK</td>\n",
       "      <td>2698445.0</td>\n",
       "      <td>Restaurant</td>\n",
       "      <td>Risk 1 (High)</td>\n",
       "      <td>303 E SUPERIOR ST</td>\n",
       "      <td>2019-11-01T00:00:00.000</td>\n",
       "      <td>License</td>\n",
       "      <td>Pass</td>\n",
       "      <td>39. CONTAMINATION PREVENTED DURING FOOD PREPAR...</td>\n",
       "      <td>41.895692</td>\n",
       "      <td>-87.620143</td>\n",
       "    </tr>\n",
       "  </tbody>\n",
       "</table>\n",
       "</div>"
      ],
      "text/plain": [
       "   Inspection ID                          DBA Name  License #  \\\n",
       "0        2320971  JUMPSTART EARLY LEARNING ACADEMY  2589822.0   \n",
       "1        2320918                         BEEFSTEAK  2698445.0   \n",
       "\n",
       "                  Facility Type           Risk             Address  \\\n",
       "0  Children's Services Facility  Risk 1 (High)  7559 W ADDISON ST    \n",
       "1                    Restaurant  Risk 1 (High)  303 E SUPERIOR ST    \n",
       "\n",
       "           Inspection Date Inspection Type             Results  \\\n",
       "0  2019-11-01T00:00:00.000         Canvass  Pass w/ Conditions   \n",
       "1  2019-11-01T00:00:00.000         License                Pass   \n",
       "\n",
       "                                          Violations   Latitude  Longitude  \n",
       "0  5. PROCEDURES FOR RESPONDING TO VOMITING AND D...  41.945065 -87.816734  \n",
       "1  39. CONTAMINATION PREVENTED DURING FOOD PREPAR...  41.895692 -87.620143  "
      ]
     },
     "execution_count": 81,
     "metadata": {},
     "output_type": "execute_result"
    }
   ],
   "source": [
    "eat_seat = eat_seat.drop(columns = ['AKA Name','Historical Wards 2003-2015', 'Zip Codes', 'Community Areas',\\\n",
    "                                    'Census Tracts', 'Location', 'Wards', 'City', 'State', 'Zip'])\n",
    "eat_seat.head(2)"
   ]
  },
  {
   "cell_type": "markdown",
   "metadata": {},
   "source": [
    "#### Assistants' comments :\n",
    "•\tIf you want to cast columns to a certain type, prefer\n",
    "\n",
    "pandas.to_numeric\n",
    "\n",
    "**J'ai essayé mais ça n'enlève pas le .0 qui est notre seul objectif maintenant, du coup petit fonction qui retourne ce qu'on veut. Mais ça joue pas je sais pas pourquoi**\n",
    " \n",
    "\n",
    "same for using findall (pandas.Series.str.findall)"
   ]
  },
  {
   "cell_type": "markdown",
   "metadata": {},
   "source": [
    "### Type Casting\n",
    "\n",
    "In order to standardize the data, the numbers in the `License` column are converted into integer."
   ]
  },
  {
   "cell_type": "code",
   "execution_count": 82,
   "metadata": {},
   "outputs": [],
   "source": [
    "eat_seat['License #'] = pd.to_numeric(eat_seat['License #'], downcast= 'integer')"
   ]
  },
  {
   "cell_type": "code",
   "execution_count": 83,
   "metadata": {},
   "outputs": [],
   "source": [
    "def nbestethic(nb) :\n",
    "    try :\n",
    "        return int(nb)\n",
    "    except :\n",
    "        print(nb)\n",
    "        return nb"
   ]
  },
  {
   "cell_type": "code",
   "execution_count": 84,
   "metadata": {},
   "outputs": [
    {
     "name": "stdout",
     "output_type": "stream",
     "text": [
      "nan\n",
      "nan\n",
      "nan\n",
      "nan\n",
      "nan\n",
      "nan\n",
      "nan\n",
      "nan\n",
      "nan\n",
      "nan\n",
      "nan\n",
      "nan\n",
      "nan\n",
      "nan\n",
      "nan\n",
      "nan\n",
      "nan\n"
     ]
    },
    {
     "data": {
      "text/html": [
       "<div>\n",
       "<style scoped>\n",
       "    .dataframe tbody tr th:only-of-type {\n",
       "        vertical-align: middle;\n",
       "    }\n",
       "\n",
       "    .dataframe tbody tr th {\n",
       "        vertical-align: top;\n",
       "    }\n",
       "\n",
       "    .dataframe thead th {\n",
       "        text-align: right;\n",
       "    }\n",
       "</style>\n",
       "<table border=\"1\" class=\"dataframe\">\n",
       "  <thead>\n",
       "    <tr style=\"text-align: right;\">\n",
       "      <th></th>\n",
       "      <th>Inspection ID</th>\n",
       "      <th>DBA Name</th>\n",
       "      <th>License #</th>\n",
       "      <th>Facility Type</th>\n",
       "      <th>Risk</th>\n",
       "      <th>Address</th>\n",
       "      <th>Inspection Date</th>\n",
       "      <th>Inspection Type</th>\n",
       "      <th>Results</th>\n",
       "      <th>Violations</th>\n",
       "      <th>Latitude</th>\n",
       "      <th>Longitude</th>\n",
       "    </tr>\n",
       "  </thead>\n",
       "  <tbody>\n",
       "    <tr>\n",
       "      <th>0</th>\n",
       "      <td>2320971</td>\n",
       "      <td>JUMPSTART EARLY LEARNING ACADEMY</td>\n",
       "      <td>2589822.0</td>\n",
       "      <td>Children's Services Facility</td>\n",
       "      <td>Risk 1 (High)</td>\n",
       "      <td>7559 W ADDISON ST</td>\n",
       "      <td>2019-11-01T00:00:00.000</td>\n",
       "      <td>Canvass</td>\n",
       "      <td>Pass w/ Conditions</td>\n",
       "      <td>5. PROCEDURES FOR RESPONDING TO VOMITING AND D...</td>\n",
       "      <td>41.945065</td>\n",
       "      <td>-87.816734</td>\n",
       "    </tr>\n",
       "    <tr>\n",
       "      <th>1</th>\n",
       "      <td>2320918</td>\n",
       "      <td>BEEFSTEAK</td>\n",
       "      <td>2698445.0</td>\n",
       "      <td>Restaurant</td>\n",
       "      <td>Risk 1 (High)</td>\n",
       "      <td>303 E SUPERIOR ST</td>\n",
       "      <td>2019-11-01T00:00:00.000</td>\n",
       "      <td>License</td>\n",
       "      <td>Pass</td>\n",
       "      <td>39. CONTAMINATION PREVENTED DURING FOOD PREPAR...</td>\n",
       "      <td>41.895692</td>\n",
       "      <td>-87.620143</td>\n",
       "    </tr>\n",
       "  </tbody>\n",
       "</table>\n",
       "</div>"
      ],
      "text/plain": [
       "   Inspection ID                          DBA Name  License #  \\\n",
       "0        2320971  JUMPSTART EARLY LEARNING ACADEMY  2589822.0   \n",
       "1        2320918                         BEEFSTEAK  2698445.0   \n",
       "\n",
       "                  Facility Type           Risk             Address  \\\n",
       "0  Children's Services Facility  Risk 1 (High)  7559 W ADDISON ST    \n",
       "1                    Restaurant  Risk 1 (High)  303 E SUPERIOR ST    \n",
       "\n",
       "           Inspection Date Inspection Type             Results  \\\n",
       "0  2019-11-01T00:00:00.000         Canvass  Pass w/ Conditions   \n",
       "1  2019-11-01T00:00:00.000         License                Pass   \n",
       "\n",
       "                                          Violations   Latitude  Longitude  \n",
       "0  5. PROCEDURES FOR RESPONDING TO VOMITING AND D...  41.945065 -87.816734  \n",
       "1  39. CONTAMINATION PREVENTED DURING FOOD PREPAR...  41.895692 -87.620143  "
      ]
     },
     "execution_count": 84,
     "metadata": {},
     "output_type": "execute_result"
    }
   ],
   "source": [
    "eat_seat['License #'] = eat_seat['License #'].apply(nbestethic)\n",
    "eat_seat.head(2)"
   ]
  },
  {
   "cell_type": "markdown",
   "metadata": {},
   "source": [
    "### Inspection date and Risk"
   ]
  },
  {
   "cell_type": "markdown",
   "metadata": {},
   "source": [
    "There are also adjustments to make in the following columns, because the formats can be optimized :\n",
    "\n",
    "* In `Inspection Date`, only the day will be kept, not the time of day that is actually not given\n",
    "* In `Risk`, only the number will remain"
   ]
  },
  {
   "cell_type": "code",
   "execution_count": 85,
   "metadata": {},
   "outputs": [],
   "source": [
    "#pandas.to_datetime(arg, errors='raise', dayfirst=False, yearfirst=False, utc=None, box=True, \n",
    "#format=None, exact=True, unit=None, infer_datetime_format=False, origin='unix', cache=True)\n",
    "\n",
    "eat_seat['Inspection Date'] = eat_seat['Inspection Date'].apply(lambda x:x.split('T')[0])"
   ]
  },
  {
   "cell_type": "code",
   "execution_count": 86,
   "metadata": {},
   "outputs": [],
   "source": [
    "from datetime import datetime, date, time"
   ]
  },
  {
   "cell_type": "code",
   "execution_count": 87,
   "metadata": {},
   "outputs": [],
   "source": [
    "eat_seat['Inspection Date'] = eat_seat['Inspection Date'].apply(lambda x:datetime.strptime(x, '%Y-%m-%d'))"
   ]
  },
  {
   "cell_type": "code",
   "execution_count": 88,
   "metadata": {},
   "outputs": [
    {
     "data": {
      "text/plain": [
       "Text(0, 0.5, '#Inspections')"
      ]
     },
     "execution_count": 88,
     "metadata": {},
     "output_type": "execute_result"
    },
    {
     "data": {
      "image/png": "[encoded data removed]",
      "text/plain": [
       "<Figure size 432x288 with 1 Axes>"
      ]
     },
     "metadata": {
      "needs_background": "light"
     },
     "output_type": "display_data"
    }
   ],
   "source": [
    "def inspection_per_year(dblp):\n",
    "    return dblp[['Inspection Date', 'Inspection ID']].groupby('Inspection Date').count()\n",
    "\n",
    "ax = inspection_per_year(eat_seat).plot(rot=-45)\n",
    "ax.set_xlabel('Year')\n",
    "ax.set_ylabel('#Inspections')"
   ]
  },
  {
   "cell_type": "code",
   "execution_count": 89,
   "metadata": {},
   "outputs": [
    {
     "data": {
      "text/plain": [
       "0"
      ]
     },
     "execution_count": 89,
     "metadata": {},
     "output_type": "execute_result"
    }
   ],
   "source": [
    "len(eat_seat[eat_seat['Inspection Date'].isnull()])"
   ]
  },
  {
   "cell_type": "markdown",
   "metadata": {},
   "source": [
    "We see in this graph that all the `Inspection Date` are between 2011 and 2019, which makes sense. Also, there is no missing inspection date. This column is now cleaned.\n",
    "\n",
    "For the `Risk` column, we first want to check what types of risk are listed."
   ]
  },
  {
   "cell_type": "code",
   "execution_count": 90,
   "metadata": {},
   "outputs": [
    {
     "data": {
      "text/plain": [
       "array(['Risk 1 (High)', 'Risk 2 (Medium)', 'Risk 3 (Low)', nan, 'All'],\n",
       "      dtype=object)"
      ]
     },
     "execution_count": 90,
     "metadata": {},
     "output_type": "execute_result"
    }
   ],
   "source": [
    "eat_seat.Risk.unique()"
   ]
  },
  {
   "cell_type": "markdown",
   "metadata": {},
   "source": [
    "We will replace **All** and **High Risk** by *3*, **Medium Risk** by *2* and **Low Risk** by *1*."
   ]
  },
  {
   "cell_type": "code",
   "execution_count": 91,
   "metadata": {},
   "outputs": [
    {
     "data": {
      "text/html": [
       "<div>\n",
       "<style scoped>\n",
       "    .dataframe tbody tr th:only-of-type {\n",
       "        vertical-align: middle;\n",
       "    }\n",
       "\n",
       "    .dataframe tbody tr th {\n",
       "        vertical-align: top;\n",
       "    }\n",
       "\n",
       "    .dataframe thead th {\n",
       "        text-align: right;\n",
       "    }\n",
       "</style>\n",
       "<table border=\"1\" class=\"dataframe\">\n",
       "  <thead>\n",
       "    <tr style=\"text-align: right;\">\n",
       "      <th></th>\n",
       "      <th>Inspection ID</th>\n",
       "      <th>DBA Name</th>\n",
       "      <th>License #</th>\n",
       "      <th>Facility Type</th>\n",
       "      <th>Risk</th>\n",
       "      <th>Address</th>\n",
       "      <th>Inspection Date</th>\n",
       "      <th>Inspection Type</th>\n",
       "      <th>Results</th>\n",
       "      <th>Violations</th>\n",
       "      <th>Latitude</th>\n",
       "      <th>Longitude</th>\n",
       "    </tr>\n",
       "  </thead>\n",
       "  <tbody>\n",
       "    <tr>\n",
       "      <th>0</th>\n",
       "      <td>2320971</td>\n",
       "      <td>JUMPSTART EARLY LEARNING ACADEMY</td>\n",
       "      <td>2589822.0</td>\n",
       "      <td>Children's Services Facility</td>\n",
       "      <td>3.0</td>\n",
       "      <td>7559 W ADDISON ST</td>\n",
       "      <td>2019-11-01</td>\n",
       "      <td>Canvass</td>\n",
       "      <td>Pass w/ Conditions</td>\n",
       "      <td>5. PROCEDURES FOR RESPONDING TO VOMITING AND D...</td>\n",
       "      <td>41.945065</td>\n",
       "      <td>-87.816734</td>\n",
       "    </tr>\n",
       "    <tr>\n",
       "      <th>1</th>\n",
       "      <td>2320918</td>\n",
       "      <td>BEEFSTEAK</td>\n",
       "      <td>2698445.0</td>\n",
       "      <td>Restaurant</td>\n",
       "      <td>3.0</td>\n",
       "      <td>303 E SUPERIOR ST</td>\n",
       "      <td>2019-11-01</td>\n",
       "      <td>License</td>\n",
       "      <td>Pass</td>\n",
       "      <td>39. CONTAMINATION PREVENTED DURING FOOD PREPAR...</td>\n",
       "      <td>41.895692</td>\n",
       "      <td>-87.620143</td>\n",
       "    </tr>\n",
       "    <tr>\n",
       "      <th>2</th>\n",
       "      <td>2320986</td>\n",
       "      <td>BABA'S COFFEE</td>\n",
       "      <td>2423353.0</td>\n",
       "      <td>Restaurant</td>\n",
       "      <td>3.0</td>\n",
       "      <td>5544-5546 N KEDZIE AVE</td>\n",
       "      <td>2019-11-01</td>\n",
       "      <td>Canvass</td>\n",
       "      <td>No Entry</td>\n",
       "      <td>NaN</td>\n",
       "      <td>41.982582</td>\n",
       "      <td>-87.708996</td>\n",
       "    </tr>\n",
       "  </tbody>\n",
       "</table>\n",
       "</div>"
      ],
      "text/plain": [
       "   Inspection ID                          DBA Name  License #  \\\n",
       "0        2320971  JUMPSTART EARLY LEARNING ACADEMY  2589822.0   \n",
       "1        2320918                         BEEFSTEAK  2698445.0   \n",
       "2        2320986                     BABA'S COFFEE  2423353.0   \n",
       "\n",
       "                  Facility Type  Risk                  Address  \\\n",
       "0  Children's Services Facility   3.0       7559 W ADDISON ST    \n",
       "1                    Restaurant   3.0       303 E SUPERIOR ST    \n",
       "2                    Restaurant   3.0  5544-5546 N KEDZIE AVE    \n",
       "\n",
       "  Inspection Date Inspection Type             Results  \\\n",
       "0      2019-11-01         Canvass  Pass w/ Conditions   \n",
       "1      2019-11-01         License                Pass   \n",
       "2      2019-11-01         Canvass            No Entry   \n",
       "\n",
       "                                          Violations   Latitude  Longitude  \n",
       "0  5. PROCEDURES FOR RESPONDING TO VOMITING AND D...  41.945065 -87.816734  \n",
       "1  39. CONTAMINATION PREVENTED DURING FOOD PREPAR...  41.895692 -87.620143  \n",
       "2                                                NaN  41.982582 -87.708996  "
      ]
     },
     "execution_count": 91,
     "metadata": {},
     "output_type": "execute_result"
    }
   ],
   "source": [
    "eat_seat['Risk'] = eat_seat['Risk'].replace({'All':3, 'Risk 1 (High)':3, 'Risk 2 (Medium)':2, 'Risk 3 (Low)':1})\n",
    "eat_seat['Risk'] = pd.to_numeric(eat_seat['Risk'], downcast= 'integer')\n",
    "eat_seat.head(3)"
   ]
  },
  {
   "cell_type": "code",
   "execution_count": 92,
   "metadata": {},
   "outputs": [
    {
     "data": {
      "text/plain": [
       "Text(0.5, 0, '#Inspections')"
      ]
     },
     "execution_count": 92,
     "metadata": {},
     "output_type": "execute_result"
    },
    {
     "data": {
      "image/png": "[encoded data removed]",
      "text/plain": [
       "<Figure size 432x288 with 1 Axes>"
      ]
     },
     "metadata": {
      "needs_background": "light"
     },
     "output_type": "display_data"
    }
   ],
   "source": [
    "def inspection_per_risk(dblp):\n",
    "    return dblp[['Risk', 'Inspection ID']].groupby('Risk').count()\n",
    "\n",
    "\n",
    "ax = inspection_per_risk(eat_seat).plot(kind=\"barh\")\n",
    "ax.set_ylabel('Risk')\n",
    "ax.set_xlabel('#Inspections')"
   ]
  },
  {
   "cell_type": "code",
   "execution_count": 93,
   "metadata": {},
   "outputs": [
    {
     "data": {
      "text/plain": [
       "73"
      ]
     },
     "execution_count": 93,
     "metadata": {},
     "output_type": "execute_result"
    }
   ],
   "source": [
    "len(eat_seat[eat_seat['Risk'].isnull()])"
   ]
  },
  {
   "cell_type": "markdown",
   "metadata": {},
   "source": [
    "We see in this graph that all the `Risk` are between 1 and 3. There is, for now, 73 missing values, but as it is not a problem for now, we will just keep it in mind."
   ]
  },
  {
   "cell_type": "markdown",
   "metadata": {},
   "source": [
    "### 2.2 Facilities of interest Selection"
   ]
  },
  {
   "cell_type": "markdown",
   "metadata": {},
   "source": [
    "Then, we want to put the different facility types in categories that make sense for our project."
   ]
  },
  {
   "cell_type": "code",
   "execution_count": 94,
   "metadata": {},
   "outputs": [],
   "source": [
    "#df['Facility Type'].unique()"
   ]
  },
  {
   "cell_type": "markdown",
   "metadata": {},
   "source": [
    "This command returns a list which contains the different facility types found in the `Facility Type column`. A lot of different types of facility are found in the data.\n",
    "\n",
    "First, we thought about only select the \"private\" establishments, where it is possible to eat a main course (for example, the places where you can only eat an ice cream are deleted of our list). They all are categorized in order to be compared with each other.\n"
   ]
  },
  {
   "cell_type": "code",
   "execution_count": 95,
   "metadata": {},
   "outputs": [],
   "source": [
    "public_dic = {'restaurant' : ['Restaurant', 'DINING HALL', 'TENT RSTAURANT'], \\\n",
    "              'grocery_restaurant' : ['Grocery & Restaurant', 'GROCERY& RESTAURANT', 'GROCERY/RESTAURANT',\\\n",
    "                                    'GROCERY/ RESTAURANT', 'GROCERY STORE/ RESTAURANT', 'GROCERY & RESTAURANT',\\\n",
    "                                    'RESTAURANT/GROCERY', 'grocery & restaurant', 'RESTAURANT/GROCERY STORE',\\\n",
    "                                    'GROCERY/TAQUERIA', 'GAS STATION/RESTAURANT'],\\\n",
    "              'banquet' : ['LOUNGE/BANQUET HALL', 'BANQUET', 'Banquet Hall', 'BANQUET FACILITY', 'banquet hall',\\\n",
    "                         'banquets', 'Banquet Dining',  'Banquet/kitchen','RESTAURANT.BANQUET HALLS',\\\n",
    "                         'BANQUET HALL', 'Banquet', 'BOWLING LANES/BANQUETS'], \\\n",
    "              'rooftop_restaurant' : ['Wrigley Roof Top', 'REST/ROOFTOP'],\\\n",
    "              'bar_restaurant' : ['RESTAURANT/BAR', 'RESTUARANT AND BAR', 'BAR/GRILL', 'RESTAURANT/BAR/THEATER',\\\n",
    "                                'JUICE AND SALAD BAR', 'SUSHI COUNTER', 'TAVERN/RESTAURANT', 'tavern/restaurant',\\\n",
    "                                'TAVERN GRILL'], \\\n",
    "              'bakery_restaurant' : ['BAKERY/ RESTAURANT', 'bakery/restaurant', 'RESTAURANT/BAKERY'], \\\n",
    "              'liquor_restaurant' : ['RESTAURANT AND LIQUOR', 'RESTAURANT/LIQUOR'], \\\n",
    "              'catering' : ['CATERING/CAFE', 'Catering'], \\\n",
    "              'golden_diner' : ['Golden Diner']}"
   ]
  },
  {
   "cell_type": "code",
   "execution_count": 96,
   "metadata": {},
   "outputs": [
    {
     "data": {
      "text/plain": [
       "63"
      ]
     },
     "execution_count": 96,
     "metadata": {},
     "output_type": "execute_result"
    }
   ],
   "source": [
    "facilitytype = 'BANQUET'\n",
    "len(eat_seat[eat_seat['Facility Type'] == facilitytype])"
   ]
  },
  {
   "cell_type": "markdown",
   "metadata": {},
   "source": [
    "This command returns the number of occurencs of the `Facility Type` inputed. \n",
    "\n",
    "With trying different types previously categorized and listed in the `public_dic` dictionary we have noted that the results were too distant to conduct a meaningful analysis. That's why we then decided to also select \"public\" establishments like school cafeterias and hospitals. It could be interesting to compare private and public inspection results.\n"
   ]
  },
  {
   "cell_type": "code",
   "execution_count": 97,
   "metadata": {},
   "outputs": [],
   "source": [
    "private_dic = {'daycare' : ['Daycare Above and Under 2 Years', 'Daycare (2 - 6 Years)', 'Daycare Combo 1586',\\\n",
    "                          'Daycare (Under 2 Years)', 'DAYCARE 2 YRS TO 12 YRS', 'Daycare Night', 'DAY CARE 2-14',\\\n",
    "                          'Daycare (2 Years)', 'DAYCARE', 'ADULT DAYCARE', '15 monts to 5 years old', 'youth housing',\\\n",
    "                          'DAYCARE 1586', 'DAYCARE COMBO', '1584-DAY CARE ABOVE 2 YEARS', 'CHURCH/DAY CARE', 'DAY CARE',\\\n",
    "                          'DAYCARE 6 WKS-5YRS', 'DAY CARE 1023', 'DAYCARE 2-6, UNDER 6', 'Day Care Combo (1586)'], \\\n",
    "               'school' : ['SCHOOL', 'School', 'PRIVATE SCHOOL', 'AFTER SCHOOL PROGRAM', 'COLLEGE',\\\n",
    "                         'BEFORE AND AFTER SCHOOL PROGRAM', 'Private School', 'TEACHING SCHOOL',\\\n",
    "                         'PUBLIC SHCOOL', 'CHARTER SCHOOL CAFETERIA', 'CAFETERIA', 'Cafeteria', 'cafeteria',\\\n",
    "                         'UNIVERSITY CAFETERIA', 'PREP INSIDE SCHOOL', 'CHARTER SCHOOL', 'school cafeteria',\\\n",
    "                         'CHARTER SCHOOL/CAFETERIA', 'School Cafeteria', 'ALTERNATIVE SCHOOL', 'CITY OF CHICAGO COLLEGE',\\\n",
    "                         'after school program', 'CHURCH/AFTER SCHOOL PROGRAM', 'AFTER SCHOOL CARE'], \\\n",
    "               'childrens_services' : [\"Children's Services Facility\", 'CHILDRENS SERVICES FACILITY', \\\n",
    "                                     \"CHILDERN'S SERVICE FACILITY\", \"1023 CHILDREN'S SERVICES FACILITY\", \\\n",
    "                                     \"1023 CHILDERN'S SERVICES FACILITY\", \"1023-CHILDREN'S SERVICES FACILITY\", \\\n",
    "                                     \"1023 CHILDERN'S SERVICE FACILITY\", \"1023 CHILDERN'S SERVICE S FACILITY\", \\\n",
    "                                     'CHILDERN ACTIVITY FACILITY', \"CHILDERN'S SERVICES  FACILITY\", '1023'], \\\n",
    "               'adultcare' : ['Long Term Care', 'REHAB CENTER', 'Hospital', 'ASSISTED LIVING', 'SENIOR DAY CARE',\\\n",
    "                            'Assisted Living', 'NURSING HOME', 'ASSISTED LIVING FACILITY', 'SUPPORTIVE LIVING FACILITY',\\\n",
    "                            'Assisted Living Senior Care', 'Adult Family Care Center', '1005 NURSING HOME', \\\n",
    "                            'Long-Term Care Facility', 'LONG TERM CARE FACILITY', 'ASSISSTED LIVING',\\\n",
    "                            'Long-Term Care','Long Term Care Facility', 'VFW HALL']}"
   ]
  },
  {
   "cell_type": "code",
   "execution_count": 98,
   "metadata": {},
   "outputs": [],
   "source": [
    "total_dic = {**public_dic , **private_dic}"
   ]
  },
  {
   "cell_type": "code",
   "execution_count": 99,
   "metadata": {},
   "outputs": [],
   "source": [
    "#inverting the dict \n",
    "facilities = {}\n",
    "for key in total_dic :\n",
    "    for facility in total_dic[key] :\n",
    "        facilities[facility] = key"
   ]
  },
  {
   "cell_type": "code",
   "execution_count": 100,
   "metadata": {},
   "outputs": [
    {
     "data": {
      "text/html": [
       "<div>\n",
       "<style scoped>\n",
       "    .dataframe tbody tr th:only-of-type {\n",
       "        vertical-align: middle;\n",
       "    }\n",
       "\n",
       "    .dataframe tbody tr th {\n",
       "        vertical-align: top;\n",
       "    }\n",
       "\n",
       "    .dataframe thead th {\n",
       "        text-align: right;\n",
       "    }\n",
       "</style>\n",
       "<table border=\"1\" class=\"dataframe\">\n",
       "  <thead>\n",
       "    <tr style=\"text-align: right;\">\n",
       "      <th></th>\n",
       "      <th>FacilityGroup</th>\n",
       "    </tr>\n",
       "  </thead>\n",
       "  <tbody>\n",
       "    <tr>\n",
       "      <th>Restaurant</th>\n",
       "      <td>restaurant</td>\n",
       "    </tr>\n",
       "    <tr>\n",
       "      <th>DINING HALL</th>\n",
       "      <td>restaurant</td>\n",
       "    </tr>\n",
       "    <tr>\n",
       "      <th>TENT RSTAURANT</th>\n",
       "      <td>restaurant</td>\n",
       "    </tr>\n",
       "  </tbody>\n",
       "</table>\n",
       "</div>"
      ],
      "text/plain": [
       "               FacilityGroup\n",
       "Restaurant        restaurant\n",
       "DINING HALL       restaurant\n",
       "TENT RSTAURANT    restaurant"
      ]
     },
     "execution_count": 100,
     "metadata": {},
     "output_type": "execute_result"
    }
   ],
   "source": [
    "facilitygroups = pd.DataFrame(data = facilities.values(), index=facilities.keys(), columns = ['FacilityGroup'])\n",
    "facilitygroups.head(3)"
   ]
  },
  {
   "cell_type": "code",
   "execution_count": 101,
   "metadata": {},
   "outputs": [],
   "source": [
    "facilitygroups.index.name = 'Facility Type'"
   ]
  },
  {
   "cell_type": "code",
   "execution_count": 102,
   "metadata": {},
   "outputs": [
    {
     "data": {
      "text/html": [
       "<div>\n",
       "<style scoped>\n",
       "    .dataframe tbody tr th:only-of-type {\n",
       "        vertical-align: middle;\n",
       "    }\n",
       "\n",
       "    .dataframe tbody tr th {\n",
       "        vertical-align: top;\n",
       "    }\n",
       "\n",
       "    .dataframe thead th {\n",
       "        text-align: right;\n",
       "    }\n",
       "</style>\n",
       "<table border=\"1\" class=\"dataframe\">\n",
       "  <thead>\n",
       "    <tr style=\"text-align: right;\">\n",
       "      <th></th>\n",
       "      <th>Inspection ID</th>\n",
       "      <th>DBA Name</th>\n",
       "      <th>License #</th>\n",
       "      <th>Facility Type</th>\n",
       "      <th>Risk</th>\n",
       "      <th>Address</th>\n",
       "      <th>Inspection Date</th>\n",
       "      <th>Inspection Type</th>\n",
       "      <th>Results</th>\n",
       "      <th>Violations</th>\n",
       "      <th>Latitude</th>\n",
       "      <th>Longitude</th>\n",
       "      <th>FacilityGroup</th>\n",
       "    </tr>\n",
       "  </thead>\n",
       "  <tbody>\n",
       "    <tr>\n",
       "      <th>0</th>\n",
       "      <td>2320971</td>\n",
       "      <td>JUMPSTART EARLY LEARNING ACADEMY</td>\n",
       "      <td>2589822.0</td>\n",
       "      <td>Children's Services Facility</td>\n",
       "      <td>3.0</td>\n",
       "      <td>7559 W ADDISON ST</td>\n",
       "      <td>2019-11-01</td>\n",
       "      <td>Canvass</td>\n",
       "      <td>Pass w/ Conditions</td>\n",
       "      <td>5. PROCEDURES FOR RESPONDING TO VOMITING AND D...</td>\n",
       "      <td>41.945065</td>\n",
       "      <td>-87.816734</td>\n",
       "      <td>childrens_services</td>\n",
       "    </tr>\n",
       "    <tr>\n",
       "      <th>1</th>\n",
       "      <td>2320944</td>\n",
       "      <td>ACADEMY OF CREATIVE THINKING, INC.</td>\n",
       "      <td>2308857.0</td>\n",
       "      <td>Children's Services Facility</td>\n",
       "      <td>3.0</td>\n",
       "      <td>4200 N Central AVE</td>\n",
       "      <td>2019-11-01</td>\n",
       "      <td>Canvass</td>\n",
       "      <td>Pass w/ Conditions</td>\n",
       "      <td>10. ADEQUATE HANDWASHING SINKS PROPERLY SUPPLI...</td>\n",
       "      <td>41.956874</td>\n",
       "      <td>-87.767272</td>\n",
       "      <td>childrens_services</td>\n",
       "    </tr>\n",
       "    <tr>\n",
       "      <th>2</th>\n",
       "      <td>2320896</td>\n",
       "      <td>LITTLE ACHIEVERS ACADEMY</td>\n",
       "      <td>2216050.0</td>\n",
       "      <td>Children's Services Facility</td>\n",
       "      <td>3.0</td>\n",
       "      <td>3801 W DIVERSEY AVE</td>\n",
       "      <td>2019-10-31</td>\n",
       "      <td>Canvass</td>\n",
       "      <td>Fail</td>\n",
       "      <td>3. MANAGEMENT, FOOD EMPLOYEE AND CONDITIONAL E...</td>\n",
       "      <td>41.931741</td>\n",
       "      <td>-87.722146</td>\n",
       "      <td>childrens_services</td>\n",
       "    </tr>\n",
       "  </tbody>\n",
       "</table>\n",
       "</div>"
      ],
      "text/plain": [
       "   Inspection ID                            DBA Name  License #  \\\n",
       "0        2320971    JUMPSTART EARLY LEARNING ACADEMY  2589822.0   \n",
       "1        2320944  ACADEMY OF CREATIVE THINKING, INC.  2308857.0   \n",
       "2        2320896            LITTLE ACHIEVERS ACADEMY  2216050.0   \n",
       "\n",
       "                  Facility Type  Risk               Address Inspection Date  \\\n",
       "0  Children's Services Facility   3.0    7559 W ADDISON ST       2019-11-01   \n",
       "1  Children's Services Facility   3.0   4200 N Central AVE       2019-11-01   \n",
       "2  Children's Services Facility   3.0  3801 W DIVERSEY AVE       2019-10-31   \n",
       "\n",
       "  Inspection Type             Results  \\\n",
       "0         Canvass  Pass w/ Conditions   \n",
       "1         Canvass  Pass w/ Conditions   \n",
       "2         Canvass                Fail   \n",
       "\n",
       "                                          Violations   Latitude  Longitude  \\\n",
       "0  5. PROCEDURES FOR RESPONDING TO VOMITING AND D...  41.945065 -87.816734   \n",
       "1  10. ADEQUATE HANDWASHING SINKS PROPERLY SUPPLI...  41.956874 -87.767272   \n",
       "2  3. MANAGEMENT, FOOD EMPLOYEE AND CONDITIONAL E...  41.931741 -87.722146   \n",
       "\n",
       "        FacilityGroup  \n",
       "0  childrens_services  \n",
       "1  childrens_services  \n",
       "2  childrens_services  "
      ]
     },
     "execution_count": 102,
     "metadata": {},
     "output_type": "execute_result"
    }
   ],
   "source": [
    "#pandas.merge(left, right, how='inner', on=None, left_on=None, right_on=None, left_index=False, \n",
    "#             right_index=False, sort=False, suffixes=('_x', '_y'), copy=True, indicator=False, validate=None)\n",
    "\n",
    "eat_seat = pd.merge(eat_seat, facilitygroups, on = ['Facility Type'])\n",
    "eat_seat.head(3)"
   ]
  },
  {
   "cell_type": "code",
   "execution_count": 103,
   "metadata": {},
   "outputs": [
    {
     "data": {
      "text/plain": [
       "Text(0.5, 0, '#Inspections')"
      ]
     },
     "execution_count": 103,
     "metadata": {},
     "output_type": "execute_result"
    },
    {
     "data": {
      "image/png": "[encoded data removed]",
      "text/plain": [
       "<Figure size 432x288 with 1 Axes>"
      ]
     },
     "metadata": {
      "needs_background": "light"
     },
     "output_type": "display_data"
    }
   ],
   "source": [
    "def inspection_per_facility(dblp):\n",
    "    return dblp[['FacilityGroup', 'Inspection ID']].groupby('FacilityGroup').count()\n",
    "\n",
    "\n",
    "ax = inspection_per_facility(eat_seat).plot(kind=\"barh\")\n",
    "ax.set_ylabel('Facility Type')\n",
    "ax.set_xlabel('#Inspections')"
   ]
  },
  {
   "cell_type": "markdown",
   "metadata": {},
   "source": [
    "### Non-defined licenses numbers\n",
    "\n",
    "There are also missing license numbers, corresponding to the *nan* printed in the output of the subsection \"Type casting\". We see in the graph below that there is some inspection numbers corresponding to 0, which is not a valid license number."
   ]
  },
  {
   "cell_type": "code",
   "execution_count": 104,
   "metadata": {},
   "outputs": [
    {
     "data": {
      "text/plain": [
       "Text(0, 0.5, '#Inspections')"
      ]
     },
     "execution_count": 104,
     "metadata": {},
     "output_type": "execute_result"
    },
    {
     "data": {
      "image/png": "[encoded data removed]",
      "text/plain": [
       "<Figure size 432x288 with 1 Axes>"
      ]
     },
     "metadata": {
      "needs_background": "light"
     },
     "output_type": "display_data"
    }
   ],
   "source": [
    "def inspection_per_license(dblp):\n",
    "    return dblp[['License #', 'Inspection ID']].groupby('License #').count()\n",
    "\n",
    "ax = inspection_per_license(eat_seat).plot(rot=-45)\n",
    "ax.set_xlabel('License #')\n",
    "ax.set_ylabel('#Inspections')"
   ]
  },
  {
   "cell_type": "markdown",
   "metadata": {},
   "source": [
    "The following dataframe displays the establishments where the license number is missing or is corresponding to 0.0."
   ]
  },
  {
   "cell_type": "code",
   "execution_count": 105,
   "metadata": {},
   "outputs": [
    {
     "data": {
      "text/html": [
       "<div>\n",
       "<style scoped>\n",
       "    .dataframe tbody tr th:only-of-type {\n",
       "        vertical-align: middle;\n",
       "    }\n",
       "\n",
       "    .dataframe tbody tr th {\n",
       "        vertical-align: top;\n",
       "    }\n",
       "\n",
       "    .dataframe thead th {\n",
       "        text-align: right;\n",
       "    }\n",
       "</style>\n",
       "<table border=\"1\" class=\"dataframe\">\n",
       "  <thead>\n",
       "    <tr style=\"text-align: right;\">\n",
       "      <th></th>\n",
       "      <th>Inspection ID</th>\n",
       "      <th>DBA Name</th>\n",
       "      <th>License #</th>\n",
       "      <th>Facility Type</th>\n",
       "      <th>Risk</th>\n",
       "      <th>Address</th>\n",
       "      <th>Inspection Date</th>\n",
       "      <th>Inspection Type</th>\n",
       "      <th>Results</th>\n",
       "      <th>Violations</th>\n",
       "      <th>Latitude</th>\n",
       "      <th>Longitude</th>\n",
       "      <th>FacilityGroup</th>\n",
       "    </tr>\n",
       "  </thead>\n",
       "  <tbody>\n",
       "    <tr>\n",
       "      <th>6053</th>\n",
       "      <td>2303443</td>\n",
       "      <td>SUBWAY SANDWICHES</td>\n",
       "      <td>0.0</td>\n",
       "      <td>Restaurant</td>\n",
       "      <td>3.0</td>\n",
       "      <td>3951 N KIMBALL AVE</td>\n",
       "      <td>2019-07-22</td>\n",
       "      <td>Canvass</td>\n",
       "      <td>Fail</td>\n",
       "      <td>2. CITY OF CHICAGO FOOD SERVICE SANITATION CER...</td>\n",
       "      <td>41.953544</td>\n",
       "      <td>-87.712743</td>\n",
       "      <td>restaurant</td>\n",
       "    </tr>\n",
       "    <tr>\n",
       "      <th>6718</th>\n",
       "      <td>2300450</td>\n",
       "      <td>SUBWAY</td>\n",
       "      <td>0.0</td>\n",
       "      <td>Restaurant</td>\n",
       "      <td>3.0</td>\n",
       "      <td>4771 N LINCOLN AVE</td>\n",
       "      <td>2019-06-28</td>\n",
       "      <td>Canvass</td>\n",
       "      <td>Out of Business</td>\n",
       "      <td>NaN</td>\n",
       "      <td>41.968506</td>\n",
       "      <td>-87.688338</td>\n",
       "      <td>restaurant</td>\n",
       "    </tr>\n",
       "    <tr>\n",
       "      <th>7090</th>\n",
       "      <td>2293900</td>\n",
       "      <td>SUBWAY</td>\n",
       "      <td>0.0</td>\n",
       "      <td>Restaurant</td>\n",
       "      <td>3.0</td>\n",
       "      <td>4771 N LINCOLN AVE</td>\n",
       "      <td>2019-06-20</td>\n",
       "      <td>Canvass Re-Inspection</td>\n",
       "      <td>Pass w/ Conditions</td>\n",
       "      <td>3. MANAGEMENT, FOOD EMPLOYEE AND CONDITIONAL E...</td>\n",
       "      <td>41.968506</td>\n",
       "      <td>-87.688338</td>\n",
       "      <td>restaurant</td>\n",
       "    </tr>\n",
       "    <tr>\n",
       "      <th>7377</th>\n",
       "      <td>2293545</td>\n",
       "      <td>SUBWAY</td>\n",
       "      <td>0.0</td>\n",
       "      <td>Restaurant</td>\n",
       "      <td>3.0</td>\n",
       "      <td>4771 N LINCOLN AVE</td>\n",
       "      <td>2019-06-13</td>\n",
       "      <td>Canvass</td>\n",
       "      <td>Fail</td>\n",
       "      <td>1. PERSON IN CHARGE PRESENT, DEMONSTRATES KNOW...</td>\n",
       "      <td>41.968506</td>\n",
       "      <td>-87.688338</td>\n",
       "      <td>restaurant</td>\n",
       "    </tr>\n",
       "    <tr>\n",
       "      <th>10435</th>\n",
       "      <td>2282242</td>\n",
       "      <td>ALTHEA BY MKC</td>\n",
       "      <td>0.0</td>\n",
       "      <td>Restaurant</td>\n",
       "      <td>3.0</td>\n",
       "      <td>700 N MICHIGAN AVE</td>\n",
       "      <td>2019-03-28</td>\n",
       "      <td>Canvass</td>\n",
       "      <td>Out of Business</td>\n",
       "      <td>NaN</td>\n",
       "      <td>41.894980</td>\n",
       "      <td>-87.624400</td>\n",
       "      <td>restaurant</td>\n",
       "    </tr>\n",
       "  </tbody>\n",
       "</table>\n",
       "</div>"
      ],
      "text/plain": [
       "       Inspection ID           DBA Name  License # Facility Type  Risk  \\\n",
       "6053         2303443  SUBWAY SANDWICHES        0.0    Restaurant   3.0   \n",
       "6718         2300450             SUBWAY        0.0    Restaurant   3.0   \n",
       "7090         2293900             SUBWAY        0.0    Restaurant   3.0   \n",
       "7377         2293545             SUBWAY        0.0    Restaurant   3.0   \n",
       "10435        2282242      ALTHEA BY MKC        0.0    Restaurant   3.0   \n",
       "\n",
       "                   Address Inspection Date        Inspection Type  \\\n",
       "6053   3951 N KIMBALL AVE       2019-07-22                Canvass   \n",
       "6718   4771 N LINCOLN AVE       2019-06-28                Canvass   \n",
       "7090   4771 N LINCOLN AVE       2019-06-20  Canvass Re-Inspection   \n",
       "7377   4771 N LINCOLN AVE       2019-06-13                Canvass   \n",
       "10435  700 N MICHIGAN AVE       2019-03-28                Canvass   \n",
       "\n",
       "                  Results                                         Violations  \\\n",
       "6053                 Fail  2. CITY OF CHICAGO FOOD SERVICE SANITATION CER...   \n",
       "6718      Out of Business                                                NaN   \n",
       "7090   Pass w/ Conditions  3. MANAGEMENT, FOOD EMPLOYEE AND CONDITIONAL E...   \n",
       "7377                 Fail  1. PERSON IN CHARGE PRESENT, DEMONSTRATES KNOW...   \n",
       "10435     Out of Business                                                NaN   \n",
       "\n",
       "        Latitude  Longitude FacilityGroup  \n",
       "6053   41.953544 -87.712743    restaurant  \n",
       "6718   41.968506 -87.688338    restaurant  \n",
       "7090   41.968506 -87.688338    restaurant  \n",
       "7377   41.968506 -87.688338    restaurant  \n",
       "10435  41.894980 -87.624400    restaurant  "
      ]
     },
     "execution_count": 105,
     "metadata": {},
     "output_type": "execute_result"
    }
   ],
   "source": [
    "missing = eat_seat[eat_seat['License #'].isnull() | eat_seat['License #'] == 0.0]\n",
    "missing.head()"
   ]
  },
  {
   "cell_type": "code",
   "execution_count": 106,
   "metadata": {},
   "outputs": [
    {
     "data": {
      "text/plain": [
       "172"
      ]
     },
     "execution_count": 106,
     "metadata": {},
     "output_type": "execute_result"
    }
   ],
   "source": [
    "len(missing)"
   ]
  },
  {
   "cell_type": "markdown",
   "metadata": {},
   "source": [
    "In order to resolve this problem, we search if there are other establishments with the same DBA Name so that, if so, we can attribute their license number to the non-defined license ones."
   ]
  },
  {
   "cell_type": "code",
   "execution_count": 107,
   "metadata": {},
   "outputs": [
    {
     "data": {
      "text/html": [
       "<div>\n",
       "<style scoped>\n",
       "    .dataframe tbody tr th:only-of-type {\n",
       "        vertical-align: middle;\n",
       "    }\n",
       "\n",
       "    .dataframe tbody tr th {\n",
       "        vertical-align: top;\n",
       "    }\n",
       "\n",
       "    .dataframe thead th {\n",
       "        text-align: right;\n",
       "    }\n",
       "</style>\n",
       "<table border=\"1\" class=\"dataframe\">\n",
       "  <thead>\n",
       "    <tr style=\"text-align: right;\">\n",
       "      <th></th>\n",
       "      <th>Inspection ID</th>\n",
       "      <th>DBA Name</th>\n",
       "      <th>License #</th>\n",
       "      <th>Facility Type</th>\n",
       "      <th>Risk</th>\n",
       "      <th>Address</th>\n",
       "      <th>Inspection Date</th>\n",
       "      <th>Inspection Type</th>\n",
       "      <th>Results</th>\n",
       "      <th>Violations</th>\n",
       "      <th>Latitude</th>\n",
       "      <th>Longitude</th>\n",
       "      <th>FacilityGroup</th>\n",
       "    </tr>\n",
       "  </thead>\n",
       "  <tbody>\n",
       "    <tr>\n",
       "      <th>3096</th>\n",
       "      <td>2320750</td>\n",
       "      <td>SUBWAY</td>\n",
       "      <td>2522465.0</td>\n",
       "      <td>Restaurant</td>\n",
       "      <td>3.0</td>\n",
       "      <td>6352 N Milwaukee AVE</td>\n",
       "      <td>2019-10-30</td>\n",
       "      <td>Canvass</td>\n",
       "      <td>Pass</td>\n",
       "      <td>39. CONTAMINATION PREVENTED DURING FOOD PREPAR...</td>\n",
       "      <td>41.996447</td>\n",
       "      <td>-87.787207</td>\n",
       "      <td>restaurant</td>\n",
       "    </tr>\n",
       "    <tr>\n",
       "      <th>3337</th>\n",
       "      <td>2316090</td>\n",
       "      <td>WENDY'S</td>\n",
       "      <td>1145755.0</td>\n",
       "      <td>Restaurant</td>\n",
       "      <td>3.0</td>\n",
       "      <td>7601 S CICERO AVE</td>\n",
       "      <td>2019-10-18</td>\n",
       "      <td>Complaint</td>\n",
       "      <td>Pass</td>\n",
       "      <td>49. NON-FOOD/FOOD CONTACT SURFACES CLEAN - Com...</td>\n",
       "      <td>41.754660</td>\n",
       "      <td>-87.741385</td>\n",
       "      <td>restaurant</td>\n",
       "    </tr>\n",
       "    <tr>\n",
       "      <th>3363</th>\n",
       "      <td>2316054</td>\n",
       "      <td>SUBWAY</td>\n",
       "      <td>2590201.0</td>\n",
       "      <td>Restaurant</td>\n",
       "      <td>3.0</td>\n",
       "      <td>2512 W NORTH AVE</td>\n",
       "      <td>2019-10-18</td>\n",
       "      <td>Complaint Re-Inspection</td>\n",
       "      <td>Pass</td>\n",
       "      <td>39. CONTAMINATION PREVENTED DURING FOOD PREPAR...</td>\n",
       "      <td>41.910399</td>\n",
       "      <td>-87.690207</td>\n",
       "      <td>restaurant</td>\n",
       "    </tr>\n",
       "    <tr>\n",
       "      <th>3424</th>\n",
       "      <td>2315927</td>\n",
       "      <td>SUBWAY</td>\n",
       "      <td>2590201.0</td>\n",
       "      <td>Restaurant</td>\n",
       "      <td>3.0</td>\n",
       "      <td>2512 W NORTH AVE</td>\n",
       "      <td>2019-10-16</td>\n",
       "      <td>Complaint Re-Inspection</td>\n",
       "      <td>Fail</td>\n",
       "      <td>39. CONTAMINATION PREVENTED DURING FOOD PREPAR...</td>\n",
       "      <td>41.910399</td>\n",
       "      <td>-87.690207</td>\n",
       "      <td>restaurant</td>\n",
       "    </tr>\n",
       "    <tr>\n",
       "      <th>3509</th>\n",
       "      <td>2315770</td>\n",
       "      <td>SUBWAY</td>\n",
       "      <td>2163012.0</td>\n",
       "      <td>Restaurant</td>\n",
       "      <td>3.0</td>\n",
       "      <td>4157 W Peterson AVE</td>\n",
       "      <td>2019-10-11</td>\n",
       "      <td>Canvass</td>\n",
       "      <td>Pass w/ Conditions</td>\n",
       "      <td>3. MANAGEMENT, FOOD EMPLOYEE AND CONDITIONAL E...</td>\n",
       "      <td>41.989965</td>\n",
       "      <td>-87.733433</td>\n",
       "      <td>restaurant</td>\n",
       "    </tr>\n",
       "  </tbody>\n",
       "</table>\n",
       "</div>"
      ],
      "text/plain": [
       "      Inspection ID DBA Name  License # Facility Type  Risk  \\\n",
       "3096        2320750   SUBWAY  2522465.0    Restaurant   3.0   \n",
       "3337        2316090  WENDY'S  1145755.0    Restaurant   3.0   \n",
       "3363        2316054   SUBWAY  2590201.0    Restaurant   3.0   \n",
       "3424        2315927   SUBWAY  2590201.0    Restaurant   3.0   \n",
       "3509        2315770   SUBWAY  2163012.0    Restaurant   3.0   \n",
       "\n",
       "                    Address Inspection Date          Inspection Type  \\\n",
       "3096  6352 N Milwaukee AVE       2019-10-30                  Canvass   \n",
       "3337     7601 S CICERO AVE       2019-10-18                Complaint   \n",
       "3363      2512 W NORTH AVE       2019-10-18  Complaint Re-Inspection   \n",
       "3424      2512 W NORTH AVE       2019-10-16  Complaint Re-Inspection   \n",
       "3509   4157 W Peterson AVE       2019-10-11                  Canvass   \n",
       "\n",
       "                 Results                                         Violations  \\\n",
       "3096                Pass  39. CONTAMINATION PREVENTED DURING FOOD PREPAR...   \n",
       "3337                Pass  49. NON-FOOD/FOOD CONTACT SURFACES CLEAN - Com...   \n",
       "3363                Pass  39. CONTAMINATION PREVENTED DURING FOOD PREPAR...   \n",
       "3424                Fail  39. CONTAMINATION PREVENTED DURING FOOD PREPAR...   \n",
       "3509  Pass w/ Conditions  3. MANAGEMENT, FOOD EMPLOYEE AND CONDITIONAL E...   \n",
       "\n",
       "       Latitude  Longitude FacilityGroup  \n",
       "3096  41.996447 -87.787207    restaurant  \n",
       "3337  41.754660 -87.741385    restaurant  \n",
       "3363  41.910399 -87.690207    restaurant  \n",
       "3424  41.910399 -87.690207    restaurant  \n",
       "3509  41.989965 -87.733433    restaurant  "
      ]
     },
     "execution_count": 107,
     "metadata": {},
     "output_type": "execute_result"
    }
   ],
   "source": [
    "missing_found = eat_seat[eat_seat['DBA Name'].isin(missing['DBA Name']) & (eat_seat['License #'].notnull() & eat_seat['License #'] != 0.0)]\n",
    "missing_found.head()"
   ]
  },
  {
   "cell_type": "code",
   "execution_count": 108,
   "metadata": {},
   "outputs": [
    {
     "data": {
      "text/plain": [
       "3396"
      ]
     },
     "execution_count": 108,
     "metadata": {},
     "output_type": "execute_result"
    }
   ],
   "source": [
    "len(missing_found)"
   ]
  },
  {
   "cell_type": "markdown",
   "metadata": {},
   "source": [
    "We see that there is 3396 entries in the *database* having a `License number` and corresponding to an esthablishment who has at some point a **missing** `License number`.\n",
    "We will search in those entries the ones corresponding to the `DBA name`, `Latitude` and `Longitude` of the ones having a **missing** `License number`, take the latest entry (the latest inspection), and infer that the **missing** `License number` can be replaced by the one of this entry."
   ]
  },
  {
   "cell_type": "code",
   "execution_count": 109,
   "metadata": {},
   "outputs": [],
   "source": [
    "missing_found = missing_found.drop(columns = ['Facility Type', 'Risk', 'Address', 'Inspection Type', 'Results', 'Violations', 'FacilityGroup'])"
   ]
  },
  {
   "cell_type": "code",
   "execution_count": 110,
   "metadata": {},
   "outputs": [
    {
     "data": {
      "text/html": [
       "<div>\n",
       "<style scoped>\n",
       "    .dataframe tbody tr th:only-of-type {\n",
       "        vertical-align: middle;\n",
       "    }\n",
       "\n",
       "    .dataframe tbody tr th {\n",
       "        vertical-align: top;\n",
       "    }\n",
       "\n",
       "    .dataframe thead th {\n",
       "        text-align: right;\n",
       "    }\n",
       "</style>\n",
       "<table border=\"1\" class=\"dataframe\">\n",
       "  <thead>\n",
       "    <tr style=\"text-align: right;\">\n",
       "      <th></th>\n",
       "      <th></th>\n",
       "      <th></th>\n",
       "      <th>Inspection Date</th>\n",
       "    </tr>\n",
       "    <tr>\n",
       "      <th>DBA Name</th>\n",
       "      <th>Latitude</th>\n",
       "      <th>Longitude</th>\n",
       "      <th></th>\n",
       "    </tr>\n",
       "  </thead>\n",
       "  <tbody>\n",
       "    <tr>\n",
       "      <th>ALTHEA BY MKC</th>\n",
       "      <th>41.894980</th>\n",
       "      <th>-87.624400</th>\n",
       "      <td>2019-05-30</td>\n",
       "    </tr>\n",
       "    <tr>\n",
       "      <th rowspan=\"4\" valign=\"top\">ARAMARK</th>\n",
       "      <th>41.653637</th>\n",
       "      <th>-87.605071</th>\n",
       "      <td>2019-01-29</td>\n",
       "    </tr>\n",
       "    <tr>\n",
       "      <th>41.785791</th>\n",
       "      <th>-87.603745</th>\n",
       "      <td>2016-08-22</td>\n",
       "    </tr>\n",
       "    <tr>\n",
       "      <th>41.788311</th>\n",
       "      <th>-87.604770</th>\n",
       "      <td>2018-10-31</td>\n",
       "    </tr>\n",
       "    <tr>\n",
       "      <th>41.791261</th>\n",
       "      <th>-87.605085</th>\n",
       "      <td>2016-10-27</td>\n",
       "    </tr>\n",
       "  </tbody>\n",
       "</table>\n",
       "</div>"
      ],
      "text/plain": [
       "                                   Inspection Date\n",
       "DBA Name      Latitude  Longitude                 \n",
       "ALTHEA BY MKC 41.894980 -87.624400      2019-05-30\n",
       "ARAMARK       41.653637 -87.605071      2019-01-29\n",
       "              41.785791 -87.603745      2016-08-22\n",
       "              41.788311 -87.604770      2018-10-31\n",
       "              41.791261 -87.605085      2016-10-27"
      ]
     },
     "execution_count": 110,
     "metadata": {},
     "output_type": "execute_result"
    }
   ],
   "source": [
    "latest = pd.DataFrame(missing_found.groupby(['DBA Name', 'Latitude', 'Longitude'])['Inspection Date'].max())\n",
    "latest.head()"
   ]
  },
  {
   "cell_type": "code",
   "execution_count": 111,
   "metadata": {},
   "outputs": [
    {
     "data": {
      "text/plain": [
       "319"
      ]
     },
     "execution_count": 111,
     "metadata": {},
     "output_type": "execute_result"
    }
   ],
   "source": [
    "len(latest)"
   ]
  },
  {
   "cell_type": "code",
   "execution_count": 112,
   "metadata": {},
   "outputs": [
    {
     "data": {
      "text/html": [
       "<div>\n",
       "<style scoped>\n",
       "    .dataframe tbody tr th:only-of-type {\n",
       "        vertical-align: middle;\n",
       "    }\n",
       "\n",
       "    .dataframe tbody tr th {\n",
       "        vertical-align: top;\n",
       "    }\n",
       "\n",
       "    .dataframe thead th {\n",
       "        text-align: right;\n",
       "    }\n",
       "</style>\n",
       "<table border=\"1\" class=\"dataframe\">\n",
       "  <thead>\n",
       "    <tr style=\"text-align: right;\">\n",
       "      <th></th>\n",
       "      <th>Inspection Date</th>\n",
       "      <th>DBA Name</th>\n",
       "      <th>Latitude</th>\n",
       "      <th>Longitude</th>\n",
       "      <th>Inspection ID</th>\n",
       "      <th>License #</th>\n",
       "    </tr>\n",
       "  </thead>\n",
       "  <tbody>\n",
       "    <tr>\n",
       "      <th>0</th>\n",
       "      <td>2019-05-30</td>\n",
       "      <td>ALTHEA BY MKC</td>\n",
       "      <td>41.894980</td>\n",
       "      <td>-87.624400</td>\n",
       "      <td>2290702</td>\n",
       "      <td>2646659.0</td>\n",
       "    </tr>\n",
       "    <tr>\n",
       "      <th>1</th>\n",
       "      <td>2019-05-30</td>\n",
       "      <td>ALTHEA BY MKC</td>\n",
       "      <td>41.894980</td>\n",
       "      <td>-87.624400</td>\n",
       "      <td>2290711</td>\n",
       "      <td>2659160.0</td>\n",
       "    </tr>\n",
       "    <tr>\n",
       "      <th>2</th>\n",
       "      <td>2019-05-30</td>\n",
       "      <td>ALTHEA BY MKC</td>\n",
       "      <td>41.894980</td>\n",
       "      <td>-87.624400</td>\n",
       "      <td>2290710</td>\n",
       "      <td>2659161.0</td>\n",
       "    </tr>\n",
       "    <tr>\n",
       "      <th>3</th>\n",
       "      <td>2019-01-29</td>\n",
       "      <td>ARAMARK</td>\n",
       "      <td>41.653637</td>\n",
       "      <td>-87.605071</td>\n",
       "      <td>2261263</td>\n",
       "      <td>3759928.0</td>\n",
       "    </tr>\n",
       "    <tr>\n",
       "      <th>4</th>\n",
       "      <td>2016-08-22</td>\n",
       "      <td>ARAMARK</td>\n",
       "      <td>41.785791</td>\n",
       "      <td>-87.603745</td>\n",
       "      <td>1950902</td>\n",
       "      <td>2162462.0</td>\n",
       "    </tr>\n",
       "  </tbody>\n",
       "</table>\n",
       "</div>"
      ],
      "text/plain": [
       "  Inspection Date       DBA Name   Latitude  Longitude  Inspection ID  \\\n",
       "0      2019-05-30  ALTHEA BY MKC  41.894980 -87.624400        2290702   \n",
       "1      2019-05-30  ALTHEA BY MKC  41.894980 -87.624400        2290711   \n",
       "2      2019-05-30  ALTHEA BY MKC  41.894980 -87.624400        2290710   \n",
       "3      2019-01-29        ARAMARK  41.653637 -87.605071        2261263   \n",
       "4      2016-08-22        ARAMARK  41.785791 -87.603745        1950902   \n",
       "\n",
       "   License #  \n",
       "0  2646659.0  \n",
       "1  2659160.0  \n",
       "2  2659161.0  \n",
       "3  3759928.0  \n",
       "4  2162462.0  "
      ]
     },
     "execution_count": 112,
     "metadata": {},
     "output_type": "execute_result"
    }
   ],
   "source": [
    "#DataFrame.merge(self, right, how='inner', on=None, left_on=None, right_on=None, left_index=False, right_index=False, sort=False, suffixes=('_x', '_y'), copy=True, indicator=False, validate=None)\n",
    "latest_v2 = pd.merge(latest, missing_found, how='inner', on=['Inspection Date', 'DBA Name', 'Latitude', 'Longitude'])\n",
    "latest_v2.head()"
   ]
  },
  {
   "cell_type": "markdown",
   "metadata": {},
   "source": [
    "In *latest* we have an entry per unique couple \"DBA Name + Latitude + Longitude\" corresponding to the latest inspection date found for this couple in *missing_found* (reminder : in *missing_found*, there is each entry of *eat_seat* that has the name of an establishment where at some point the `License number` is **missing**). In *latest_v2* we keep every entry corresponding to those \"DBA Name + Latitude + Longitude + latest inspection date\" that appear in missing_found, in order to investigate the potential duplicates."
   ]
  },
  {
   "cell_type": "code",
   "execution_count": 113,
   "metadata": {},
   "outputs": [
    {
     "name": "stdout",
     "output_type": "stream",
     "text": [
      "Duplicates detected !\n"
     ]
    }
   ],
   "source": [
    "if len(latest) < len(latest_v2) :\n",
    "    print('Duplicates detected !')\n",
    "else : \n",
    "    print('No Duplicates !')"
   ]
  },
  {
   "cell_type": "markdown",
   "metadata": {},
   "source": [
    "We see that there is duplicates of entries because the length of *latest_v2* is greater than the length of latest. We investigate that."
   ]
  },
  {
   "cell_type": "code",
   "execution_count": 114,
   "metadata": {},
   "outputs": [
    {
     "data": {
      "text/html": [
       "<div>\n",
       "<style scoped>\n",
       "    .dataframe tbody tr th:only-of-type {\n",
       "        vertical-align: middle;\n",
       "    }\n",
       "\n",
       "    .dataframe tbody tr th {\n",
       "        vertical-align: top;\n",
       "    }\n",
       "\n",
       "    .dataframe thead th {\n",
       "        text-align: right;\n",
       "    }\n",
       "</style>\n",
       "<table border=\"1\" class=\"dataframe\">\n",
       "  <thead>\n",
       "    <tr style=\"text-align: right;\">\n",
       "      <th></th>\n",
       "      <th>Inspection Date</th>\n",
       "      <th>DBA Name</th>\n",
       "      <th>Latitude</th>\n",
       "      <th>Longitude</th>\n",
       "      <th>Inspection ID</th>\n",
       "      <th>License #</th>\n",
       "    </tr>\n",
       "  </thead>\n",
       "  <tbody>\n",
       "    <tr>\n",
       "      <th>0</th>\n",
       "      <td>2019-05-30</td>\n",
       "      <td>ALTHEA BY MKC</td>\n",
       "      <td>41.894980</td>\n",
       "      <td>-87.624400</td>\n",
       "      <td>2290702</td>\n",
       "      <td>2646659.0</td>\n",
       "    </tr>\n",
       "    <tr>\n",
       "      <th>1</th>\n",
       "      <td>2019-05-30</td>\n",
       "      <td>ALTHEA BY MKC</td>\n",
       "      <td>41.894980</td>\n",
       "      <td>-87.624400</td>\n",
       "      <td>2290711</td>\n",
       "      <td>2659160.0</td>\n",
       "    </tr>\n",
       "    <tr>\n",
       "      <th>2</th>\n",
       "      <td>2019-05-30</td>\n",
       "      <td>ALTHEA BY MKC</td>\n",
       "      <td>41.894980</td>\n",
       "      <td>-87.624400</td>\n",
       "      <td>2290710</td>\n",
       "      <td>2659161.0</td>\n",
       "    </tr>\n",
       "    <tr>\n",
       "      <th>23</th>\n",
       "      <td>2019-03-21</td>\n",
       "      <td>CHARTWELLS</td>\n",
       "      <td>41.743152</td>\n",
       "      <td>-87.587883</td>\n",
       "      <td>2279761</td>\n",
       "      <td>2549069.0</td>\n",
       "    </tr>\n",
       "    <tr>\n",
       "      <th>24</th>\n",
       "      <td>2019-03-21</td>\n",
       "      <td>CHARTWELLS</td>\n",
       "      <td>41.743152</td>\n",
       "      <td>-87.587883</td>\n",
       "      <td>2279746</td>\n",
       "      <td>2549069.0</td>\n",
       "    </tr>\n",
       "    <tr>\n",
       "      <th>60</th>\n",
       "      <td>2018-11-05</td>\n",
       "      <td>LA MICHOACANA</td>\n",
       "      <td>41.808399</td>\n",
       "      <td>-87.674814</td>\n",
       "      <td>2232769</td>\n",
       "      <td>2476172.0</td>\n",
       "    </tr>\n",
       "    <tr>\n",
       "      <th>61</th>\n",
       "      <td>2018-11-05</td>\n",
       "      <td>LA MICHOACANA</td>\n",
       "      <td>41.808399</td>\n",
       "      <td>-87.674814</td>\n",
       "      <td>2232771</td>\n",
       "      <td>2631675.0</td>\n",
       "    </tr>\n",
       "    <tr>\n",
       "      <th>109</th>\n",
       "      <td>2012-03-15</td>\n",
       "      <td>SUBWAY</td>\n",
       "      <td>41.750750</td>\n",
       "      <td>-87.629792</td>\n",
       "      <td>1214209</td>\n",
       "      <td>1947565.0</td>\n",
       "    </tr>\n",
       "    <tr>\n",
       "      <th>110</th>\n",
       "      <td>2012-03-15</td>\n",
       "      <td>SUBWAY</td>\n",
       "      <td>41.750750</td>\n",
       "      <td>-87.629792</td>\n",
       "      <td>1214210</td>\n",
       "      <td>2036493.0</td>\n",
       "    </tr>\n",
       "    <tr>\n",
       "      <th>145</th>\n",
       "      <td>2018-08-28</td>\n",
       "      <td>SUBWAY</td>\n",
       "      <td>41.815330</td>\n",
       "      <td>-87.665288</td>\n",
       "      <td>2213584</td>\n",
       "      <td>2595987.0</td>\n",
       "    </tr>\n",
       "    <tr>\n",
       "      <th>146</th>\n",
       "      <td>2018-08-28</td>\n",
       "      <td>SUBWAY</td>\n",
       "      <td>41.815330</td>\n",
       "      <td>-87.665288</td>\n",
       "      <td>2213579</td>\n",
       "      <td>2621567.0</td>\n",
       "    </tr>\n",
       "    <tr>\n",
       "      <th>177</th>\n",
       "      <td>2015-12-07</td>\n",
       "      <td>SUBWAY</td>\n",
       "      <td>41.878003</td>\n",
       "      <td>-87.634299</td>\n",
       "      <td>1607215</td>\n",
       "      <td>1516580.0</td>\n",
       "    </tr>\n",
       "    <tr>\n",
       "      <th>178</th>\n",
       "      <td>2015-12-07</td>\n",
       "      <td>SUBWAY</td>\n",
       "      <td>41.878003</td>\n",
       "      <td>-87.634299</td>\n",
       "      <td>1591320</td>\n",
       "      <td>1516580.0</td>\n",
       "    </tr>\n",
       "    <tr>\n",
       "      <th>192</th>\n",
       "      <td>2019-01-29</td>\n",
       "      <td>SUBWAY</td>\n",
       "      <td>41.884624</td>\n",
       "      <td>-87.620476</td>\n",
       "      <td>2261270</td>\n",
       "      <td>70217.0</td>\n",
       "    </tr>\n",
       "    <tr>\n",
       "      <th>193</th>\n",
       "      <td>2019-01-29</td>\n",
       "      <td>SUBWAY</td>\n",
       "      <td>41.884624</td>\n",
       "      <td>-87.620476</td>\n",
       "      <td>2261283</td>\n",
       "      <td>2646445.0</td>\n",
       "    </tr>\n",
       "    <tr>\n",
       "      <th>194</th>\n",
       "      <td>2019-01-29</td>\n",
       "      <td>SUBWAY</td>\n",
       "      <td>41.884624</td>\n",
       "      <td>-87.620476</td>\n",
       "      <td>2261295</td>\n",
       "      <td>70217.0</td>\n",
       "    </tr>\n",
       "    <tr>\n",
       "      <th>320</th>\n",
       "      <td>2014-03-13</td>\n",
       "      <td>WENDY'S</td>\n",
       "      <td>41.692476</td>\n",
       "      <td>-87.622842</td>\n",
       "      <td>1401916</td>\n",
       "      <td>1145749.0</td>\n",
       "    </tr>\n",
       "    <tr>\n",
       "      <th>321</th>\n",
       "      <td>2014-03-13</td>\n",
       "      <td>WENDY'S</td>\n",
       "      <td>41.692476</td>\n",
       "      <td>-87.622842</td>\n",
       "      <td>1401915</td>\n",
       "      <td>1145749.0</td>\n",
       "    </tr>\n",
       "  </tbody>\n",
       "</table>\n",
       "</div>"
      ],
      "text/plain": [
       "    Inspection Date       DBA Name   Latitude  Longitude  Inspection ID  \\\n",
       "0        2019-05-30  ALTHEA BY MKC  41.894980 -87.624400        2290702   \n",
       "1        2019-05-30  ALTHEA BY MKC  41.894980 -87.624400        2290711   \n",
       "2        2019-05-30  ALTHEA BY MKC  41.894980 -87.624400        2290710   \n",
       "23       2019-03-21     CHARTWELLS  41.743152 -87.587883        2279761   \n",
       "24       2019-03-21     CHARTWELLS  41.743152 -87.587883        2279746   \n",
       "60       2018-11-05  LA MICHOACANA  41.808399 -87.674814        2232769   \n",
       "61       2018-11-05  LA MICHOACANA  41.808399 -87.674814        2232771   \n",
       "109      2012-03-15         SUBWAY  41.750750 -87.629792        1214209   \n",
       "110      2012-03-15         SUBWAY  41.750750 -87.629792        1214210   \n",
       "145      2018-08-28         SUBWAY  41.815330 -87.665288        2213584   \n",
       "146      2018-08-28         SUBWAY  41.815330 -87.665288        2213579   \n",
       "177      2015-12-07         SUBWAY  41.878003 -87.634299        1607215   \n",
       "178      2015-12-07         SUBWAY  41.878003 -87.634299        1591320   \n",
       "192      2019-01-29         SUBWAY  41.884624 -87.620476        2261270   \n",
       "193      2019-01-29         SUBWAY  41.884624 -87.620476        2261283   \n",
       "194      2019-01-29         SUBWAY  41.884624 -87.620476        2261295   \n",
       "320      2014-03-13        WENDY'S  41.692476 -87.622842        1401916   \n",
       "321      2014-03-13        WENDY'S  41.692476 -87.622842        1401915   \n",
       "\n",
       "     License #  \n",
       "0    2646659.0  \n",
       "1    2659160.0  \n",
       "2    2659161.0  \n",
       "23   2549069.0  \n",
       "24   2549069.0  \n",
       "60   2476172.0  \n",
       "61   2631675.0  \n",
       "109  1947565.0  \n",
       "110  2036493.0  \n",
       "145  2595987.0  \n",
       "146  2621567.0  \n",
       "177  1516580.0  \n",
       "178  1516580.0  \n",
       "192    70217.0  \n",
       "193  2646445.0  \n",
       "194    70217.0  \n",
       "320  1145749.0  \n",
       "321  1145749.0  "
      ]
     },
     "execution_count": 114,
     "metadata": {},
     "output_type": "execute_result"
    }
   ],
   "source": [
    "#DataFrame.duplicated(self, subset=None, keep='first')\n",
    "latest_duplicated = latest_v2[latest_v2.duplicated(subset = ['Inspection Date', 'DBA Name', 'Latitude', 'Longitude'], keep=False)]\n",
    "latest_duplicated"
   ]
  },
  {
   "cell_type": "markdown",
   "metadata": {},
   "source": [
    "For *Chartwells*, *Subway \"41.878003 - 87.634299\"* and *Wendy's* those duplicates are not a problem because the `License number` is the same for each duplicate. But for the other 5 duplicates the `License number` varies and there is no obvious way to decide which license number to keep; those entries will then be dropped. For the others, the license number hereby found will be used to complete the primary database."
   ]
  },
  {
   "cell_type": "code",
   "execution_count": 115,
   "metadata": {},
   "outputs": [],
   "source": [
    "latest_duplicated = latest_duplicated.drop(columns = ['Inspection Date', 'Inspection ID'])"
   ]
  },
  {
   "cell_type": "code",
   "execution_count": 116,
   "metadata": {},
   "outputs": [],
   "source": [
    "#DataFrame.drop_duplicates(self, subset=None, keep='first', inplace=False)\n",
    "\n",
    "tuples = latest_duplicated.drop_duplicates(subset = ['DBA Name', 'Latitude', 'Longitude', 'License #'], keep = False)"
   ]
  },
  {
   "cell_type": "code",
   "execution_count": 117,
   "metadata": {},
   "outputs": [],
   "source": [
    "tuples = tuples.drop_duplicates(subset = ['DBA Name', 'Latitude', 'Longitude'], keep = 'first')"
   ]
  },
  {
   "cell_type": "code",
   "execution_count": 118,
   "metadata": {},
   "outputs": [],
   "source": [
    "tuples = tuples.set_index(['DBA Name', 'Latitude', 'Longitude'])"
   ]
  },
  {
   "cell_type": "code",
   "execution_count": 119,
   "metadata": {},
   "outputs": [],
   "source": [
    "dup = latest_v2[latest_v2.duplicated(subset = ['DBA Name', 'Latitude', 'Longitude', 'License #'], keep='first')]"
   ]
  },
  {
   "cell_type": "code",
   "execution_count": 120,
   "metadata": {},
   "outputs": [],
   "source": [
    "dup = dup.set_index(['DBA Name', 'Latitude', 'Longitude'])"
   ]
  },
  {
   "cell_type": "code",
   "execution_count": 121,
   "metadata": {},
   "outputs": [
    {
     "data": {
      "text/html": [
       "<div>\n",
       "<style scoped>\n",
       "    .dataframe tbody tr th:only-of-type {\n",
       "        vertical-align: middle;\n",
       "    }\n",
       "\n",
       "    .dataframe tbody tr th {\n",
       "        vertical-align: top;\n",
       "    }\n",
       "\n",
       "    .dataframe thead th {\n",
       "        text-align: right;\n",
       "    }\n",
       "</style>\n",
       "<table border=\"1\" class=\"dataframe\">\n",
       "  <thead>\n",
       "    <tr style=\"text-align: right;\">\n",
       "      <th></th>\n",
       "      <th></th>\n",
       "      <th></th>\n",
       "      <th>Inspection Date</th>\n",
       "      <th>Inspection ID</th>\n",
       "      <th>License #</th>\n",
       "    </tr>\n",
       "    <tr>\n",
       "      <th>DBA Name</th>\n",
       "      <th>Latitude</th>\n",
       "      <th>Longitude</th>\n",
       "      <th></th>\n",
       "      <th></th>\n",
       "      <th></th>\n",
       "    </tr>\n",
       "  </thead>\n",
       "  <tbody>\n",
       "    <tr>\n",
       "      <th>CHARTWELLS</th>\n",
       "      <th>41.743152</th>\n",
       "      <th>-87.587883</th>\n",
       "      <td>2019-03-21</td>\n",
       "      <td>2279746</td>\n",
       "      <td>2549069.0</td>\n",
       "    </tr>\n",
       "    <tr>\n",
       "      <th>SUBWAY</th>\n",
       "      <th>41.878003</th>\n",
       "      <th>-87.634299</th>\n",
       "      <td>2015-12-07</td>\n",
       "      <td>1591320</td>\n",
       "      <td>1516580.0</td>\n",
       "    </tr>\n",
       "    <tr>\n",
       "      <th>WENDY'S</th>\n",
       "      <th>41.692476</th>\n",
       "      <th>-87.622842</th>\n",
       "      <td>2014-03-13</td>\n",
       "      <td>1401915</td>\n",
       "      <td>1145749.0</td>\n",
       "    </tr>\n",
       "  </tbody>\n",
       "</table>\n",
       "</div>"
      ],
      "text/plain": [
       "                                Inspection Date  Inspection ID  License #\n",
       "DBA Name   Latitude  Longitude                                           \n",
       "CHARTWELLS 41.743152 -87.587883      2019-03-21        2279746  2549069.0\n",
       "SUBWAY     41.878003 -87.634299      2015-12-07        1591320  1516580.0\n",
       "WENDY'S    41.692476 -87.622842      2014-03-13        1401915  1145749.0"
      ]
     },
     "execution_count": 121,
     "metadata": {},
     "output_type": "execute_result"
    }
   ],
   "source": [
    "unique = dup[~dup.index.isin(tuples.index)]\n",
    "unique"
   ]
  },
  {
   "cell_type": "code",
   "execution_count": 122,
   "metadata": {},
   "outputs": [],
   "source": [
    "#to_fill = latest_v2 - latest_duplicated + unique"
   ]
  },
  {
   "cell_type": "code",
   "execution_count": 123,
   "metadata": {},
   "outputs": [],
   "source": [
    "latest_v2 = latest_v2.set_index(['DBA Name', 'Latitude', 'Longitude'])"
   ]
  },
  {
   "cell_type": "code",
   "execution_count": 124,
   "metadata": {},
   "outputs": [],
   "source": [
    "latest_duplicated = latest_duplicated.set_index(['DBA Name', 'Latitude', 'Longitude'])"
   ]
  },
  {
   "cell_type": "code",
   "execution_count": 125,
   "metadata": {},
   "outputs": [],
   "source": [
    "latest_v2 = latest_v2[~latest_v2.index.isin(latest_duplicated.index)]"
   ]
  },
  {
   "cell_type": "code",
   "execution_count": 126,
   "metadata": {},
   "outputs": [],
   "source": [
    "to_fill = latest_v2.append(unique)"
   ]
  },
  {
   "cell_type": "code",
   "execution_count": 127,
   "metadata": {},
   "outputs": [
    {
     "data": {
      "text/html": [
       "<div>\n",
       "<style scoped>\n",
       "    .dataframe tbody tr th:only-of-type {\n",
       "        vertical-align: middle;\n",
       "    }\n",
       "\n",
       "    .dataframe tbody tr th {\n",
       "        vertical-align: top;\n",
       "    }\n",
       "\n",
       "    .dataframe thead th {\n",
       "        text-align: right;\n",
       "    }\n",
       "</style>\n",
       "<table border=\"1\" class=\"dataframe\">\n",
       "  <thead>\n",
       "    <tr style=\"text-align: right;\">\n",
       "      <th></th>\n",
       "      <th></th>\n",
       "      <th></th>\n",
       "      <th>Inspection Date</th>\n",
       "      <th>Inspection ID</th>\n",
       "      <th>License #</th>\n",
       "    </tr>\n",
       "    <tr>\n",
       "      <th>DBA Name</th>\n",
       "      <th>Latitude</th>\n",
       "      <th>Longitude</th>\n",
       "      <th></th>\n",
       "      <th></th>\n",
       "      <th></th>\n",
       "    </tr>\n",
       "  </thead>\n",
       "  <tbody>\n",
       "    <tr>\n",
       "      <th rowspan=\"5\" valign=\"top\">ARAMARK</th>\n",
       "      <th>41.653637</th>\n",
       "      <th>-87.605071</th>\n",
       "      <td>2019-01-29</td>\n",
       "      <td>2261263</td>\n",
       "      <td>3759928.0</td>\n",
       "    </tr>\n",
       "    <tr>\n",
       "      <th>41.785791</th>\n",
       "      <th>-87.603745</th>\n",
       "      <td>2016-08-22</td>\n",
       "      <td>1950902</td>\n",
       "      <td>2162462.0</td>\n",
       "    </tr>\n",
       "    <tr>\n",
       "      <th>41.788311</th>\n",
       "      <th>-87.604770</th>\n",
       "      <td>2018-10-31</td>\n",
       "      <td>2232591</td>\n",
       "      <td>2374384.0</td>\n",
       "    </tr>\n",
       "    <tr>\n",
       "      <th>41.791261</th>\n",
       "      <th>-87.605085</th>\n",
       "      <td>2016-10-27</td>\n",
       "      <td>1970345</td>\n",
       "      <td>2374382.0</td>\n",
       "    </tr>\n",
       "    <tr>\n",
       "      <th>41.866310</th>\n",
       "      <th>-87.610270</th>\n",
       "      <td>2014-05-30</td>\n",
       "      <td>1453362</td>\n",
       "      <td>2253161.0</td>\n",
       "    </tr>\n",
       "  </tbody>\n",
       "</table>\n",
       "</div>"
      ],
      "text/plain": [
       "                              Inspection Date  Inspection ID  License #\n",
       "DBA Name Latitude  Longitude                                           \n",
       "ARAMARK  41.653637 -87.605071      2019-01-29        2261263  3759928.0\n",
       "         41.785791 -87.603745      2016-08-22        1950902  2162462.0\n",
       "         41.788311 -87.604770      2018-10-31        2232591  2374384.0\n",
       "         41.791261 -87.605085      2016-10-27        1970345  2374382.0\n",
       "         41.866310 -87.610270      2014-05-30        1453362  2253161.0"
      ]
     },
     "execution_count": 127,
     "metadata": {},
     "output_type": "execute_result"
    }
   ],
   "source": [
    "to_fill.head()"
   ]
  },
  {
   "cell_type": "markdown",
   "metadata": {},
   "source": [
    "Now for every `DBA Name`, `Latitude` and `Longitude` having a **missing** `License number` in *eat_seat* but existing in *to_fill*, we can replace the **missing** `License number` in *eat_seat* by the one in *to_fill*. First we replace every Null value by 0.0 as we infered it was the same in the database."
   ]
  },
  {
   "cell_type": "code",
   "execution_count": 128,
   "metadata": {},
   "outputs": [],
   "source": [
    "eat_seat['License #'].fillna(0.0, inplace = True)"
   ]
  },
  {
   "cell_type": "code",
   "execution_count": 129,
   "metadata": {},
   "outputs": [],
   "source": [
    "for i, row in eat_seat.iterrows() :\n",
    "    if (bool(float(row['License #']) == 0.0)) & ((row['DBA Name'], row['Latitude'], row['Longitude']) in to_fill.index) :\n",
    "        eat_seat.loc[i, 'License #'] = float(to_fill.loc[(row['DBA Name'], row['Latitude'], row['Longitude']),['License #']]) #replace by the one in to_fill"
   ]
  },
  {
   "cell_type": "code",
   "execution_count": 130,
   "metadata": {},
   "outputs": [
    {
     "data": {
      "text/plain": [
       "129"
      ]
     },
     "execution_count": 130,
     "metadata": {},
     "output_type": "execute_result"
    }
   ],
   "source": [
    "len(eat_seat[eat_seat['License #'] == 0.0])"
   ]
  },
  {
   "cell_type": "markdown",
   "metadata": {},
   "source": [
    "We now delete the rows that still have a missing number, corresponding to those we were not able to infer."
   ]
  },
  {
   "cell_type": "code",
   "execution_count": 131,
   "metadata": {},
   "outputs": [],
   "source": [
    "missing = eat_seat[eat_seat['License #'] == 0.0]"
   ]
  },
  {
   "cell_type": "code",
   "execution_count": 132,
   "metadata": {},
   "outputs": [],
   "source": [
    "eat_seat = eat_seat.drop(missing.index)"
   ]
  },
  {
   "cell_type": "code",
   "execution_count": 133,
   "metadata": {},
   "outputs": [],
   "source": [
    "eat_seat = eat_seat.rename(columns={\"License #\": \"License\"}) #rename the column 'License #' into 'License'"
   ]
  },
  {
   "cell_type": "code",
   "execution_count": 134,
   "metadata": {},
   "outputs": [
    {
     "data": {
      "text/plain": [
       "23887"
      ]
     },
     "execution_count": 134,
     "metadata": {},
     "output_type": "execute_result"
    }
   ],
   "source": [
    "len(eat_seat.License.unique())"
   ]
  },
  {
   "cell_type": "code",
   "execution_count": 135,
   "metadata": {},
   "outputs": [
    {
     "data": {
      "text/plain": [
       "Text(0, 0.5, '#Inspections')"
      ]
     },
     "execution_count": 135,
     "metadata": {},
     "output_type": "execute_result"
    },
    {
     "data": {
      "image/png": "[encoded data removed]",
      "text/plain": [
       "<Figure size 432x288 with 1 Axes>"
      ]
     },
     "metadata": {
      "needs_background": "light"
     },
     "output_type": "display_data"
    }
   ],
   "source": [
    "def inspection_per_license(dblp):\n",
    "    return dblp[['License', 'Inspection ID']].groupby('License').count()\n",
    "\n",
    "ax = inspection_per_license(eat_seat).plot(rot=-45)\n",
    "ax.set_xlabel('License #')\n",
    "ax.set_ylabel('#Inspections')"
   ]
  },
  {
   "cell_type": "markdown",
   "metadata": {},
   "source": [
    "### 2.3 Community Areas"
   ]
  },
  {
   "cell_type": "code",
   "execution_count": 136,
   "metadata": {},
   "outputs": [
    {
     "data": {
      "text/plain": [
       "Inspection ID          0\n",
       "DBA Name               0\n",
       "License                0\n",
       "Facility Type          0\n",
       "Risk                   3\n",
       "Address                0\n",
       "Inspection Date        0\n",
       "Inspection Type        1\n",
       "Results                0\n",
       "Violations         36685\n",
       "Latitude             461\n",
       "Longitude            461\n",
       "FacilityGroup          0\n",
       "dtype: int64"
      ]
     },
     "execution_count": 136,
     "metadata": {},
     "output_type": "execute_result"
    }
   ],
   "source": [
    "#eat_seat = eat_seat.fillna(value = {'Latitude': 0, 'Longitude': 0})\n",
    "eat_seat.isnull().sum()"
   ]
  },
  {
   "cell_type": "code",
   "execution_count": 137,
   "metadata": {},
   "outputs": [
    {
     "data": {
      "text/plain": [
       "Text(0, 0.5, '#Inspections')"
      ]
     },
     "execution_count": 137,
     "metadata": {},
     "output_type": "execute_result"
    },
    {
     "data": {
      "image/png": "[encoded data removed]",
      "text/plain": [
       "<Figure size 432x288 with 1 Axes>"
      ]
     },
     "metadata": {
      "needs_background": "light"
     },
     "output_type": "display_data"
    }
   ],
   "source": [
    "def inspection_per_latitude(dblp):\n",
    "    return dblp[['Latitude', 'Inspection ID']].groupby('Latitude').count()\n",
    "\n",
    "ax = inspection_per_latitude(eat_seat).plot(rot=-45)\n",
    "ax.set_xlabel('Latitude')\n",
    "ax.set_ylabel('#Inspections')"
   ]
  },
  {
   "cell_type": "code",
   "execution_count": 138,
   "metadata": {},
   "outputs": [
    {
     "data": {
      "text/plain": [
       "Text(0, 0.5, '#Inspections')"
      ]
     },
     "execution_count": 138,
     "metadata": {},
     "output_type": "execute_result"
    },
    {
     "data": {
      "image/png": "[encoded data removed]",
      "text/plain": [
       "<Figure size 432x288 with 1 Axes>"
      ]
     },
     "metadata": {
      "needs_background": "light"
     },
     "output_type": "display_data"
    }
   ],
   "source": [
    "def inspection_per_longitude(dblp):\n",
    "    return dblp[['Longitude', 'Inspection ID']].groupby('Longitude').count()\n",
    "\n",
    "ax = inspection_per_longitude(eat_seat).plot(rot=-45)\n",
    "ax.set_xlabel('Longitude')\n",
    "ax.set_ylabel('#Inspections')"
   ]
  },
  {
   "cell_type": "markdown",
   "metadata": {},
   "source": [
    "We see that there are entries with the `Latitude` or `Longitude` still missing. We create a dataframe containing them."
   ]
  },
  {
   "cell_type": "code",
   "execution_count": 139,
   "metadata": {},
   "outputs": [
    {
     "data": {
      "text/plain": [
       "461"
      ]
     },
     "execution_count": 139,
     "metadata": {},
     "output_type": "execute_result"
    }
   ],
   "source": [
    "#movies[(movies.duration >= 200) & (movies.genre == 'Drama')]\n",
    "\n",
    "missing_location = eat_seat[(eat_seat['Longitude'].isnull()) | (eat_seat['Latitude'].isnull())]\n",
    "\n",
    "len(missing_location)"
   ]
  },
  {
   "cell_type": "code",
   "execution_count": 140,
   "metadata": {},
   "outputs": [
    {
     "data": {
      "text/plain": [
       "0"
      ]
     },
     "execution_count": 140,
     "metadata": {},
     "output_type": "execute_result"
    }
   ],
   "source": [
    "only_longitude_or_latitude = missing_location = eat_seat[(eat_seat['Longitude'].isnull()) ^ (eat_seat['Latitude'].isnull())]\n",
    "len(only_longitude_or_latitude)"
   ]
  },
  {
   "cell_type": "markdown",
   "metadata": {},
   "source": [
    "We see that there is no entry where only either the `Latitude` or the `Longitude` is missing so we can consider one of the two missing as the only condition for the next iterating processes."
   ]
  },
  {
   "cell_type": "markdown",
   "metadata": {},
   "source": [
    "We search in the dataframe *eat_seat* if those *missing_location* entries are sometimes entered in the data with the `Latitude` and `Longitude` columns not empty."
   ]
  },
  {
   "cell_type": "code",
   "execution_count": 141,
   "metadata": {},
   "outputs": [
    {
     "data": {
      "text/html": [
       "<div>\n",
       "<style scoped>\n",
       "    .dataframe tbody tr th:only-of-type {\n",
       "        vertical-align: middle;\n",
       "    }\n",
       "\n",
       "    .dataframe tbody tr th {\n",
       "        vertical-align: top;\n",
       "    }\n",
       "\n",
       "    .dataframe thead th {\n",
       "        text-align: right;\n",
       "    }\n",
       "</style>\n",
       "<table border=\"1\" class=\"dataframe\">\n",
       "  <thead>\n",
       "    <tr style=\"text-align: right;\">\n",
       "      <th></th>\n",
       "      <th>Inspection ID</th>\n",
       "      <th>DBA Name</th>\n",
       "      <th>License</th>\n",
       "      <th>Facility Type</th>\n",
       "      <th>Risk</th>\n",
       "      <th>Address</th>\n",
       "      <th>Inspection Date</th>\n",
       "      <th>Inspection Type</th>\n",
       "      <th>Results</th>\n",
       "      <th>Violations</th>\n",
       "      <th>Latitude</th>\n",
       "      <th>Longitude</th>\n",
       "      <th>FacilityGroup</th>\n",
       "    </tr>\n",
       "  </thead>\n",
       "  <tbody>\n",
       "  </tbody>\n",
       "</table>\n",
       "</div>"
      ],
      "text/plain": [
       "Empty DataFrame\n",
       "Columns: [Inspection ID, DBA Name, License, Facility Type, Risk, Address, Inspection Date, Inspection Type, Results, Violations, Latitude, Longitude, FacilityGroup]\n",
       "Index: []"
      ]
     },
     "execution_count": 141,
     "metadata": {},
     "output_type": "execute_result"
    }
   ],
   "source": [
    "eat_seat[eat_seat['License'].isin(missing_location['License']) & (eat_seat['Longitude'].notnull())]"
   ]
  },
  {
   "cell_type": "markdown",
   "metadata": {},
   "source": [
    "We see that there is no entry we can use to infere the `Latitude` and `Longitude` missing : the rows with undefined coordinates are dropped."
   ]
  },
  {
   "cell_type": "code",
   "execution_count": 142,
   "metadata": {},
   "outputs": [],
   "source": [
    "Long_null = eat_seat[eat_seat['Longitude'].isnull()].index\n",
    "eat_seat.drop(Long_null, inplace=True)\n",
    "\n",
    "Lat_null = eat_seat[eat_seat['Latitude'].isnull()].index\n",
    "eat_seat.drop(Lat_null, inplace=True)"
   ]
  },
  {
   "cell_type": "code",
   "execution_count": 143,
   "metadata": {},
   "outputs": [
    {
     "data": {
      "text/html": [
       "<div>\n",
       "<style scoped>\n",
       "    .dataframe tbody tr th:only-of-type {\n",
       "        vertical-align: middle;\n",
       "    }\n",
       "\n",
       "    .dataframe tbody tr th {\n",
       "        vertical-align: top;\n",
       "    }\n",
       "\n",
       "    .dataframe thead th {\n",
       "        text-align: right;\n",
       "    }\n",
       "</style>\n",
       "<table border=\"1\" class=\"dataframe\">\n",
       "  <thead>\n",
       "    <tr style=\"text-align: right;\">\n",
       "      <th></th>\n",
       "      <th>Inspection ID</th>\n",
       "      <th>DBA Name</th>\n",
       "      <th>License</th>\n",
       "      <th>Facility Type</th>\n",
       "      <th>Risk</th>\n",
       "      <th>Address</th>\n",
       "      <th>Inspection Date</th>\n",
       "      <th>Inspection Type</th>\n",
       "      <th>Results</th>\n",
       "      <th>Violations</th>\n",
       "      <th>Latitude</th>\n",
       "      <th>Longitude</th>\n",
       "      <th>FacilityGroup</th>\n",
       "      <th>Location</th>\n",
       "    </tr>\n",
       "  </thead>\n",
       "  <tbody>\n",
       "    <tr>\n",
       "      <th>0</th>\n",
       "      <td>2320971</td>\n",
       "      <td>JUMPSTART EARLY LEARNING ACADEMY</td>\n",
       "      <td>2589822.0</td>\n",
       "      <td>Children's Services Facility</td>\n",
       "      <td>3.0</td>\n",
       "      <td>7559 W ADDISON ST</td>\n",
       "      <td>2019-11-01</td>\n",
       "      <td>Canvass</td>\n",
       "      <td>Pass w/ Conditions</td>\n",
       "      <td>5. PROCEDURES FOR RESPONDING TO VOMITING AND D...</td>\n",
       "      <td>41.945065</td>\n",
       "      <td>-87.816734</td>\n",
       "      <td>childrens_services</td>\n",
       "      <td>POINT (41.94506485701999 -87.81673402827133)</td>\n",
       "    </tr>\n",
       "    <tr>\n",
       "      <th>1</th>\n",
       "      <td>2320944</td>\n",
       "      <td>ACADEMY OF CREATIVE THINKING, INC.</td>\n",
       "      <td>2308857.0</td>\n",
       "      <td>Children's Services Facility</td>\n",
       "      <td>3.0</td>\n",
       "      <td>4200 N Central AVE</td>\n",
       "      <td>2019-11-01</td>\n",
       "      <td>Canvass</td>\n",
       "      <td>Pass w/ Conditions</td>\n",
       "      <td>10. ADEQUATE HANDWASHING SINKS PROPERLY SUPPLI...</td>\n",
       "      <td>41.956874</td>\n",
       "      <td>-87.767272</td>\n",
       "      <td>childrens_services</td>\n",
       "      <td>POINT (41.94506485701999 -87.81673402827133)</td>\n",
       "    </tr>\n",
       "    <tr>\n",
       "      <th>2</th>\n",
       "      <td>2320896</td>\n",
       "      <td>LITTLE ACHIEVERS ACADEMY</td>\n",
       "      <td>2216050.0</td>\n",
       "      <td>Children's Services Facility</td>\n",
       "      <td>3.0</td>\n",
       "      <td>3801 W DIVERSEY AVE</td>\n",
       "      <td>2019-10-31</td>\n",
       "      <td>Canvass</td>\n",
       "      <td>Fail</td>\n",
       "      <td>3. MANAGEMENT, FOOD EMPLOYEE AND CONDITIONAL E...</td>\n",
       "      <td>41.931741</td>\n",
       "      <td>-87.722146</td>\n",
       "      <td>childrens_services</td>\n",
       "      <td>POINT (41.94506485701999 -87.81673402827133)</td>\n",
       "    </tr>\n",
       "  </tbody>\n",
       "</table>\n",
       "</div>"
      ],
      "text/plain": [
       "   Inspection ID                            DBA Name    License  \\\n",
       "0        2320971    JUMPSTART EARLY LEARNING ACADEMY  2589822.0   \n",
       "1        2320944  ACADEMY OF CREATIVE THINKING, INC.  2308857.0   \n",
       "2        2320896            LITTLE ACHIEVERS ACADEMY  2216050.0   \n",
       "\n",
       "                  Facility Type  Risk               Address Inspection Date  \\\n",
       "0  Children's Services Facility   3.0    7559 W ADDISON ST       2019-11-01   \n",
       "1  Children's Services Facility   3.0   4200 N Central AVE       2019-11-01   \n",
       "2  Children's Services Facility   3.0  3801 W DIVERSEY AVE       2019-10-31   \n",
       "\n",
       "  Inspection Type             Results  \\\n",
       "0         Canvass  Pass w/ Conditions   \n",
       "1         Canvass  Pass w/ Conditions   \n",
       "2         Canvass                Fail   \n",
       "\n",
       "                                          Violations   Latitude  Longitude  \\\n",
       "0  5. PROCEDURES FOR RESPONDING TO VOMITING AND D...  41.945065 -87.816734   \n",
       "1  10. ADEQUATE HANDWASHING SINKS PROPERLY SUPPLI...  41.956874 -87.767272   \n",
       "2  3. MANAGEMENT, FOOD EMPLOYEE AND CONDITIONAL E...  41.931741 -87.722146   \n",
       "\n",
       "        FacilityGroup                                      Location  \n",
       "0  childrens_services  POINT (41.94506485701999 -87.81673402827133)  \n",
       "1  childrens_services  POINT (41.94506485701999 -87.81673402827133)  \n",
       "2  childrens_services  POINT (41.94506485701999 -87.81673402827133)  "
      ]
     },
     "execution_count": 143,
     "metadata": {},
     "output_type": "execute_result"
    }
   ],
   "source": [
    "eat_seat['Location'] = Point(list(zip(eat_seat['Latitude'], eat_seat['Longitude'])))\n",
    "eat_seat.head(3)"
   ]
  },
  {
   "cell_type": "markdown",
   "metadata": {},
   "source": [
    "https://data.cityofchicago.org/Facilities-Geographic-Boundaries/Boundaries-Community-Areas-current-/cauq-8yn6 provides a dataset containing **A COMPLETER**\n",
    "\n",
    "It will allows to properly attribute the *Community Areas* numbers to each establishments."
   ]
  },
  {
   "cell_type": "code",
   "execution_count": 177,
   "metadata": {},
   "outputs": [
    {
     "data": {
      "text/html": [
       "<div>\n",
       "<style scoped>\n",
       "    .dataframe tbody tr th:only-of-type {\n",
       "        vertical-align: middle;\n",
       "    }\n",
       "\n",
       "    .dataframe tbody tr th {\n",
       "        vertical-align: top;\n",
       "    }\n",
       "\n",
       "    .dataframe thead th {\n",
       "        text-align: right;\n",
       "    }\n",
       "</style>\n",
       "<table border=\"1\" class=\"dataframe\">\n",
       "  <thead>\n",
       "    <tr style=\"text-align: right;\">\n",
       "      <th></th>\n",
       "      <th>the_geom</th>\n",
       "      <th>AREA_NUMBE</th>\n",
       "    </tr>\n",
       "  </thead>\n",
       "  <tbody>\n",
       "    <tr>\n",
       "      <th>0</th>\n",
       "      <td>MULTIPOLYGON (((-87.60914087617894 41.84469250...</td>\n",
       "      <td>35</td>\n",
       "    </tr>\n",
       "    <tr>\n",
       "      <th>1</th>\n",
       "      <td>MULTIPOLYGON (((-87.59215283879394 41.81692934...</td>\n",
       "      <td>36</td>\n",
       "    </tr>\n",
       "    <tr>\n",
       "      <th>2</th>\n",
       "      <td>MULTIPOLYGON (((-87.62879823733725 41.80189303...</td>\n",
       "      <td>37</td>\n",
       "    </tr>\n",
       "  </tbody>\n",
       "</table>\n",
       "</div>"
      ],
      "text/plain": [
       "                                            the_geom  AREA_NUMBE\n",
       "0  MULTIPOLYGON (((-87.60914087617894 41.84469250...          35\n",
       "1  MULTIPOLYGON (((-87.59215283879394 41.81692934...          36\n",
       "2  MULTIPOLYGON (((-87.62879823733725 41.80189303...          37"
      ]
     },
     "execution_count": 177,
     "metadata": {},
     "output_type": "execute_result"
    }
   ],
   "source": [
    "commareas = pd.read_csv('CommAreas.csv', error_bad_lines=False)\n",
    "commareas = commareas.drop(columns = ['PERIMETER', 'AREA', 'COMAREA_', 'COMAREA_ID',\\\n",
    "                                   'COMMUNITY', 'AREA_NUM_1', 'SHAPE_AREA', 'SHAPE_LEN'])\n",
    "commareas.head(3)"
   ]
  },
  {
   "cell_type": "code",
   "execution_count": 178,
   "metadata": {},
   "outputs": [
    {
     "name": "stdout",
     "output_type": "stream",
     "text": [
      "<class 'pandas.core.frame.DataFrame'>\n",
      "RangeIndex: 77 entries, 0 to 76\n",
      "Data columns (total 2 columns):\n",
      "the_geom      77 non-null object\n",
      "AREA_NUMBE    77 non-null int64\n",
      "dtypes: int64(1), object(1)\n",
      "memory usage: 1.3+ KB\n"
     ]
    }
   ],
   "source": [
    "commareas.info()"
   ]
  },
  {
   "cell_type": "markdown",
   "metadata": {},
   "source": [
    "The **clean_polygon** function is created to standardized the `the_geom` column which needs to be in the same format than the `Location` column from the *eat_seat* Dataframe. "
   ]
  },
  {
   "cell_type": "code",
   "execution_count": 179,
   "metadata": {},
   "outputs": [],
   "source": [
    "def clean_polygon(poly) :\n",
    "    liste = poly.strip('MULTIPOLYGON (((').strip(')))').split(', ')\n",
    "    list_pairs = []\n",
    "    for coordinates in liste :\n",
    "        pair = coordinates.split(' ')\n",
    "        pair[0] = re.sub(\"[^0-9.]\", \"\", pair[0])\n",
    "        pair[1] = re.sub(\"[^0-9.]\", \"\", pair[1])\n",
    "        pair = tuple((float(pair[1]), -float(pair[0])))\n",
    "        list_pairs.append(pair)\n",
    "    return Polygon(list_pairs)"
   ]
  },
  {
   "cell_type": "code",
   "execution_count": 180,
   "metadata": {},
   "outputs": [],
   "source": [
    "commareas.the_geom = commareas.the_geom.apply(clean_polygon)"
   ]
  },
  {
   "cell_type": "code",
   "execution_count": 181,
   "metadata": {},
   "outputs": [
    {
     "data": {
      "text/html": [
       "<div>\n",
       "<style scoped>\n",
       "    .dataframe tbody tr th:only-of-type {\n",
       "        vertical-align: middle;\n",
       "    }\n",
       "\n",
       "    .dataframe tbody tr th {\n",
       "        vertical-align: top;\n",
       "    }\n",
       "\n",
       "    .dataframe thead th {\n",
       "        text-align: right;\n",
       "    }\n",
       "</style>\n",
       "<table border=\"1\" class=\"dataframe\">\n",
       "  <thead>\n",
       "    <tr style=\"text-align: right;\">\n",
       "      <th></th>\n",
       "      <th>the_geom</th>\n",
       "      <th>AREA_NUMBE</th>\n",
       "    </tr>\n",
       "  </thead>\n",
       "  <tbody>\n",
       "    <tr>\n",
       "      <th>0</th>\n",
       "      <td>POLYGON ((41.84469250265398 -87.60914087617894...</td>\n",
       "      <td>35</td>\n",
       "    </tr>\n",
       "    <tr>\n",
       "      <th>1</th>\n",
       "      <td>POLYGON ((41.81692934626684 -87.59215283879394...</td>\n",
       "      <td>36</td>\n",
       "    </tr>\n",
       "    <tr>\n",
       "      <th>2</th>\n",
       "      <td>POLYGON ((41.80189303368919 -87.62879823733725...</td>\n",
       "      <td>37</td>\n",
       "    </tr>\n",
       "    <tr>\n",
       "      <th>3</th>\n",
       "      <td>POLYGON ((41.81681377057218 -87.6067081256125,...</td>\n",
       "      <td>38</td>\n",
       "    </tr>\n",
       "    <tr>\n",
       "      <th>4</th>\n",
       "      <td>POLYGON ((41.81692934626684 -87.59215283879394...</td>\n",
       "      <td>39</td>\n",
       "    </tr>\n",
       "  </tbody>\n",
       "</table>\n",
       "</div>"
      ],
      "text/plain": [
       "                                            the_geom  AREA_NUMBE\n",
       "0  POLYGON ((41.84469250265398 -87.60914087617894...          35\n",
       "1  POLYGON ((41.81692934626684 -87.59215283879394...          36\n",
       "2  POLYGON ((41.80189303368919 -87.62879823733725...          37\n",
       "3  POLYGON ((41.81681377057218 -87.6067081256125,...          38\n",
       "4  POLYGON ((41.81692934626684 -87.59215283879394...          39"
      ]
     },
     "execution_count": 181,
     "metadata": {},
     "output_type": "execute_result"
    }
   ],
   "source": [
    "commareas.head()"
   ]
  },
  {
   "cell_type": "code",
   "execution_count": 182,
   "metadata": {},
   "outputs": [
    {
     "name": "stdout",
     "output_type": "stream",
     "text": [
      "<class 'pandas.core.frame.DataFrame'>\n",
      "RangeIndex: 77 entries, 0 to 76\n",
      "Data columns (total 2 columns):\n",
      "the_geom      77 non-null object\n",
      "AREA_NUMBE    77 non-null int64\n",
      "dtypes: int64(1), object(1)\n",
      "memory usage: 1.3+ KB\n"
     ]
    }
   ],
   "source": [
    "commareas.info()"
   ]
  },
  {
   "cell_type": "code",
   "execution_count": 187,
   "metadata": {},
   "outputs": [
    {
     "data": {
      "image/svg+xml": [
       "<svg xmlns=\"http://www.w3.org/2000/svg\" xmlns:xlink=\"http://www.w3.org/1999/xlink\" width=\"100.0\" height=\"100.0\" viewBox=\"41.822591055222745 -87.63105568086317 0.024225639169642932 0.029441782990076604\" preserveAspectRatio=\"xMinYMin meet\"><g transform=\"matrix(1,0,0,-1,0,-175.23266957873625)\"><path fill-rule=\"evenodd\" fill=\"#66cc99\" stroke=\"#555555\" stroke-width=\"0.0005888356598015321\" opacity=\"0.6\" d=\"M 41.84469250265398,-87.60914087617894 L 41.84466159842403,-87.60914874757808 L 41.84458961193954,-87.6091611204126 L 41.84451717732316,-87.60916766215838 L 41.844456260738305,-87.60916860600166 L 41.84423871659811,-87.60915012199398 L 41.844194738881015,-87.60907241249289 L 41.84410646928696,-87.60900627147821 L 41.84404345755115,-87.6089650217216 L 41.84395529375054,-87.60891566390615 L 41.84387361649532,-87.60889980118988 L 41.84380438280048,-87.60886701371862 L 41.843697606960866,-87.6088514342449 L 41.84357184776641,-87.60881089281094 L 41.84336451715353,-87.60877127222787 L 41.84330772696518,-87.6087215608253 L 41.8432195630558,-87.6086722038968 L 41.84307466210119,-87.60858152789015 L 41.84294847915887,-87.60847385682872 L 41.842822455284654,-87.60839135990155 L 41.842652243366025,-87.60826740295646 L 41.8425073420888,-87.6081767282837 L 41.84237488419488,-87.60806913018423 L 41.84230554400334,-87.60801956189378 L 41.84218004974061,-87.60802097919012 L 41.841972824540626,-87.60799814396883 L 41.841790698735295,-87.60797502577404 L 41.84164638018418,-87.60797665573624 L 41.84151461078273,-87.60797814395544 L 41.841395391080624,-87.60797949042825 L 41.841269684549616,-87.60794734337547 L 41.841131269858444,-87.60789016476892 L 41.841030609153385,-87.60784934325733 L 41.84088554850424,-87.60773349881661 L 41.84076193793285,-87.60765630433343 L 41.84063821932318,-87.60757583127271 L 41.84056030772689,-87.6075276050287 L 41.8406673852424,-87.60698398203986 L 41.84056137258804,-87.60667816425287 L 41.8405034355691,-87.6067136151486 L 41.8406001098064,-87.60699497654772 L 41.84050284488112,-87.60750090432951 L 41.84045994995043,-87.60746117926243 L 41.8404185047603,-87.6074422035133 L 41.840393959622695,-87.60743327042276 L 41.840369491545005,-87.60743661712895 L 41.840365281721716,-87.60743928899147 L 41.84034814941911,-87.60745016250611 L 41.84026855755554,-87.60741319770523 L 41.8401049906963,-87.6073479140525 L 41.839651627989795,-87.60721091962495 L 41.83951203695919,-87.60709523007235 L 41.83945657994122,-87.6070048463328 L 41.839428186975006,-87.6069413139757 L 41.83940983506439,-87.60690335604389 L 41.83937313502478,-87.60682817415362 L 41.83933868152847,-87.60676104002668 L 41.839302628268136,-87.6067012650412 L 41.83927493662529,-87.60666194501849 L 41.83924284081271,-87.60662047337766 L 41.83921297273568,-87.60658411311552 L 41.839143911110426,-87.60651223400238 L 41.83912449626031,-87.60649228113142 L 41.83910082122609,-87.60646795004266 L 41.8390847982843,-87.60645125093528 L 41.838635021124844,-87.60615627839611 L 41.83863856938326,-87.60614048964922 L 41.83896006065134,-87.60470984485778 L 41.83958213897359,-87.60427773013896 L 41.83982732700224,-87.60427494700933 L 41.839828572849825,-87.60418506322291 L 41.83955437173228,-87.60419546274869 L 41.83887987015849,-87.6046670348703 L 41.838551275839215,-87.6061349887994 L 41.838521050813995,-87.60613594090006 L 41.838439168115144,-87.60612905110638 L 41.83829878378583,-87.60611500648443 L 41.83815839945421,-87.60610096228648 L 41.838023811031206,-87.60607903537436 L 41.83784275712224,-87.60610453595177 L 41.83764981525618,-87.606098903652 L 41.83745682361732,-87.6060854548612 L 41.837293058456886,-87.60607167523855 L 41.83709981933828,-87.60601914567565 L 41.83686571348489,-87.6059748958184 L 41.83665488941116,-87.60591474903025 L 41.83657303828816,-87.60588836937116 L 41.83644401552207,-87.60584678660146 L 41.83630908017949,-87.60577014757045 L 41.83612129017827,-87.60565502444967 L 41.835956732012164,-87.60551618882357 L 41.835680669196044,-87.605308267931 L 41.83546300860147,-87.60509186989756 L 41.835221619239185,-87.60482102658287 L 41.83506850350857,-87.60464298237355 L 41.834991969650574,-87.60455786851962 L 41.83481066860084,-87.60454429254064 L 41.83458973976794,-87.60473439460594 L 41.83442211178847,-87.60503332163134 L 41.8342640426192,-87.60499603131495 L 41.834035731872085,-87.60494390499075 L 41.83379558184427,-87.60486846410286 L 41.83360189620019,-87.60474559827315 L 41.833443331091175,-87.60463015102505 L 41.83334931168295,-87.604553054253 L 41.833255043960676,-87.60443687878075 L 41.833196046173526,-87.60435156855912 L 41.83313680026707,-87.60422718000717 L 41.833077355735895,-87.60407152848585 L 41.83303544639763,-87.60391567815884 L 41.83302271342319,-87.60375168052485 L 41.83302181972346,-87.60361099735938 L 41.8330093349105,-87.60348607822625 L 41.832967573800744,-87.60335367562936 L 41.832914171955366,-87.60322922202496 L 41.832837538231495,-87.60312848114357 L 41.83273157881759,-87.60301244159074 L 41.83260233760942,-87.6029122993678 L 41.83247299689993,-87.6027965268307 L 41.8323321149557,-87.60270433428013 L 41.8322385911775,-87.60270539787906 L 41.832063383573455,-87.6027308385819 L 41.83185315432156,-87.60276449415319 L 41.831771321076374,-87.60276542470949 L 41.83163083681798,-87.60273575745133 L 41.83149050142202,-87.60272953768576 L 41.83136624686849,-87.60271020373473 L 41.831366205493254,-87.60279792684253 L 41.83133289168212,-87.60295002259089 L 41.831233947813665,-87.60583494110023 L 41.8312328435106,-87.60604987532471 L 41.831238201487615,-87.60620267769549 L 41.83123285448887,-87.60670209233 L 41.831232869841756,-87.606867209866 L 41.83123300421992,-87.60721395667723 L 41.83121711934547,-87.60749035997108 L 41.831209305504984,-87.60828613364302 L 41.8312019660337,-87.60903306355263 L 41.83119840059783,-87.60939573919717 L 41.83118622461551,-87.61063335779062 L 41.82977587052868,-87.61100082838723 L 41.829746837592936,-87.61100977742004 L 41.82971690718809,-87.61102002075548 L 41.82949383396628,-87.61108240937965 L 41.82879669316715,-87.61127644643562 L 41.82879495798718,-87.6112769297158 L 41.82872977935159,-87.61129507044366 L 41.828726102971636,-87.61129609251971 L 41.8286004419779,-87.61133106844254 L 41.828288268551084,-87.61141795484548 L 41.828283040811726,-87.6114194096817 L 41.82805426402368,-87.61148308354647 L 41.827906610717164,-87.61152417890156 L 41.82753625992378,-87.61162668483897 L 41.827307782942455,-87.61168992270575 L 41.826766349392365,-87.61184008668512 L 41.826594073939546,-87.6118869698757 L 41.82636768508939,-87.61194857940868 L 41.825972922946335,-87.61205793722819 L 41.825722741393655,-87.61212792870876 L 41.82526241103294,-87.61225564053575 L 41.82484022992761,-87.612371284661 L 41.82408938703784,-87.61257695182505 L 41.82389080436826,-87.61262427240324 L 41.82388477547809,-87.6130758654639 L 41.82386898740089,-87.61436403578777 L 41.82385938125493,-87.61514774092865 L 41.823855371507904,-87.61547482918266 L 41.82384759153282,-87.61610922732862 L 41.823838138571745,-87.61673229764081 L 41.82383410684318,-87.6169968247584 L 41.823830117109004,-87.61725854542576 L 41.82382323440645,-87.61770996887728 L 41.82382029480847,-87.61794972729895 L 41.82381704991014,-87.61821435998765 L 41.82381291721503,-87.61855131811477 L 41.82380910891891,-87.61886174704809 L 41.82380522981068,-87.6191776059241 L 41.82379527105946,-87.61998816931428 L 41.823790266119566,-87.6203953593824 L 41.82378340565402,-87.62095332331943 L 41.82377526662078,-87.621601977331 L 41.82376738535718,-87.62222982586809 L 41.8237659160261,-87.62234636529709 L 41.82376514143418,-87.62240779067577 L 41.82375582186965,-87.62314672394419 L 41.82374167382763,-87.62426776090003 L 41.82374128181012,-87.62432122057882 L 41.823739621387354,-87.62446432460376 L 41.82373573205627,-87.62482271022685 L 41.82373410984478,-87.62497215617218 L 41.823728676357206,-87.62531936394625 L 41.82372484976207,-87.62559794622197 L 41.823723113788866,-87.62574361151339 L 41.82372101452223,-87.62591974777155 L 41.82371873558156,-87.62608002880258 L 41.82371376337644,-87.62642224681794 L 41.823711005506475,-87.62661202560267 L 41.823708098430295,-87.62698708871412 L 41.82370489557261,-87.62722493958559 L 41.82369902364277,-87.62759341436937 L 41.823696775306935,-87.62773448699598 L 41.823690216380776,-87.62806959946485 L 41.82368758213177,-87.62830656309072 L 41.82368504138434,-87.62861793055147 L 41.82368383824463,-87.62876532190948 L 41.823681491629785,-87.62896819971361 L 41.82525934799594,-87.6290244306088 L 41.82545397858708,-87.62903126474522 L 41.82568941259352,-87.62903952949067 L 41.82588558267482,-87.62904559798746 L 41.827330175681396,-87.62909202844186 L 41.82742323154351,-87.629078277241 L 41.82751006493895,-87.62904767937303 L 41.82758239620534,-87.6289882542485 L 41.82763876746277,-87.62893520544169 L 41.827679390892364,-87.62892312909783 L 41.82785560198587,-87.62893235142421 L 41.8280296980469,-87.62893682713786 L 41.828254949754225,-87.62894162229728 L 41.82848127007687,-87.62894615002593 L 41.82864605580177,-87.62894944329425 L 41.82874004853824,-87.62895135775234 L 41.8288427894428,-87.62895345039777 L 41.82907433177236,-87.62895931485161 L 41.829190319373325,-87.62896232305424 L 41.829317951650516,-87.62896563327081 L 41.82958984164497,-87.62897263322995 L 41.82989077031297,-87.62898034190802 L 41.8301564021986,-87.62898715371682 L 41.83036985714663,-87.62899259212473 L 41.83064138923154,-87.62899941197773 L 41.830832745534224,-87.62900366242076 L 41.83097494947967,-87.6289956829958 L 41.83097286273807,-87.62914494787348 L 41.830971465313596,-87.62924490110424 L 41.83097119521164,-87.62938395427692 L 41.830971014650956,-87.62947678531101 L 41.83097091006582,-87.62953047752917 L 41.83097085070067,-87.62956105280259 L 41.83105962785828,-87.62956551124786 L 41.8317530083214,-87.62958360079345 L 41.832772324761066,-87.62961050449962 L 41.832976461301044,-87.62961560755922 L 41.83320906924982,-87.62962110403036 L 41.83348044993503,-87.62962751662482 L 41.83416010127783,-87.62964438186586 L 41.834164516741104,-87.62964450669803 L 41.83453510117711,-87.62965495205756 L 41.83461359383559,-87.62965689611431 L 41.834624827815304,-87.62965717450093 L 41.83481301289367,-87.62966239819558 L 41.834826384400785,-87.62966276949251 L 41.835811382721865,-87.62968729954912 L 41.83620399301686,-87.62969845481213 L 41.83703485087789,-87.62972206129456 L 41.837568129220855,-87.62973867443164 L 41.8382656717337,-87.62976040512385 L 41.838353031903786,-87.62976266727085 L 41.83909986471921,-87.62978240745022 L 41.839285545769336,-87.62978731526665 L 41.8395088959655,-87.62979312536777 L 41.8398042945127,-87.62980089974609 L 41.84033848453514,-87.62981523196885 L 41.84086397914195,-87.62982944639644 L 41.84132829754799,-87.62984200586298 L 41.84171396118601,-87.62985750747164 L 41.84183507881404,-87.62986099278226 L 41.841908213085944,-87.6298630971705 L 41.84201589244176,-87.62986619608758 L 41.842337156372686,-87.6298755442474 L 41.842786172707804,-87.62988457175123 L 41.843344479660935,-87.62990488053723 L 41.84376221345144,-87.6299142509396 L 41.844275668802176,-87.62992853162326 L 41.844346292142035,-87.6299306071144 L 41.84479973030914,-87.62994472511954 L 41.84541345389926,-87.62996222540512 L 41.84554483294518,-87.62996524445613 L 41.8455448376101,-87.62996524440503 L 41.84554551930566,-87.62978701013436 L 41.84555305828908,-87.62946563465283 L 41.845556605816,-87.62916818464839 L 41.84556186641418,-87.6287270019684 L 41.84556618736959,-87.62846068796401 L 41.84557078962573,-87.62812269392072 L 41.845573582786784,-87.6279175403243 L 41.84557628827242,-87.62765212480178 L 41.84557971917767,-87.62723696033879 L 41.84558510580382,-87.62696086827799 L 41.84558902557868,-87.626759948515 L 41.84559649351904,-87.6263770885952 L 41.845598321530275,-87.62626462170768 L 41.84559950033062,-87.62619207701408 L 41.845599653005316,-87.62618268755014 L 41.84560028470999,-87.6261438181312 L 41.84560047579133,-87.62613206505814 L 41.84560095184785,-87.62610277231113 L 41.84560626078572,-87.62579736038988 L 41.845610239172636,-87.62553890384234 L 41.84561360323313,-87.6253261003465 L 41.8456220249375,-87.62479326359232 L 41.84562673998775,-87.62446484494104 L 41.84563048858288,-87.62417259011782 L 41.84563171639113,-87.62407957621411 L 41.845638283661515,-87.62363620477177 L 41.84564190127839,-87.62339191457188 L 41.84566047015669,-87.62213772959383 L 41.84568496332577,-87.6204813312996 L 41.84568719127351,-87.62033059868752 L 41.84571019803325,-87.61886420373885 L 41.84572625798535,-87.61783987812659 L 41.84572320256934,-87.61767140560433 L 41.8456681813441,-87.61729852317009 L 41.84565509712538,-87.6172098519016 L 41.84564451357035,-87.61692091130472 L 41.845644375074734,-87.61666117918084 L 41.845643283921696,-87.61661825064743 L 41.84564215109581,-87.6165950318313 L 41.84563904253457,-87.61657183470187 L 41.84563194000045,-87.6165506643851 L 41.84561787435471,-87.61652626796287 L 41.84559687858458,-87.61650393113958 L 41.84557187894618,-87.61647763860628 L 41.8455503785129,-87.61645798626154 L 41.84552604871384,-87.61643788913666 L 41.84523118998587,-87.61625954807323 L 41.84520023617664,-87.6162377994153 L 41.845178045565824,-87.61621749508849 L 41.84515916976654,-87.61619627183542 L 41.84514162682185,-87.61616875933031 L 41.8451280515347,-87.61613940345198 L 41.845114442263544,-87.61610021213887 L 41.845104231954615,-87.61607353456458 L 41.845095979047386,-87.61603520097006 L 41.845093122317444,-87.61600840420323 L 41.845092172650496,-87.61596180512016 L 41.845106871334245,-87.6151126399903 L 41.845109933063014,-87.61499270629601 L 41.84516621622945,-87.61500079131932 L 41.84516647456036,-87.6140006899687 L 41.845166431553054,-87.61350109943994 L 41.845166392439836,-87.61240099157794 L 41.84522518051949,-87.61192963329063 L 41.84526623463236,-87.61158088907992 L 41.84526654890619,-87.61141060498178 L 41.84526643893846,-87.61112256411772 L 41.845266448213025,-87.61091654922386 L 41.845266503985904,-87.60940614540634 L 41.845217733268264,-87.60940949182275 L 41.84515338263664,-87.60937658092277 L 41.84469250265398,-87.60914087617894 z\" /></g></svg>"
      ],
      "text/plain": [
       "<shapely.geometry.polygon.Polygon at 0x211ca5cceb8>"
      ]
     },
     "execution_count": 187,
     "metadata": {},
     "output_type": "execute_result"
    }
   ],
   "source": [
    "polygon = commareas.loc[0, ['the_geom']][0]\n",
    "polygon"
   ]
  },
  {
   "cell_type": "code",
   "execution_count": 189,
   "metadata": {},
   "outputs": [
    {
     "data": {
      "image/svg+xml": [
       "<svg xmlns=\"http://www.w3.org/2000/svg\" xmlns:xlink=\"http://www.w3.org/1999/xlink\" width=\"100.0\" height=\"100.0\" viewBox=\"40.94506485701999 -88.81673402827133 2.0 2.0\" preserveAspectRatio=\"xMinYMin meet\"><g transform=\"matrix(1,0,0,-1,0,-175.63346805654265)\"><circle cx=\"41.94506485701999\" cy=\"-87.81673402827133\" r=\"0.06\" stroke=\"#555555\" stroke-width=\"0.02\" fill=\"#66cc99\" opacity=\"0.6\" /></g></svg>"
      ],
      "text/plain": [
       "<shapely.geometry.point.Point at 0x211ca5c40b8>"
      ]
     },
     "execution_count": 189,
     "metadata": {},
     "output_type": "execute_result"
    }
   ],
   "source": [
    "point = eat_seat.loc[0, ['Location']][0]\n",
    "point"
   ]
  },
  {
   "cell_type": "code",
   "execution_count": 190,
   "metadata": {},
   "outputs": [
    {
     "data": {
      "text/plain": [
       "False"
      ]
     },
     "execution_count": 190,
     "metadata": {},
     "output_type": "execute_result"
    }
   ],
   "source": [
    "polygon.contains(point)"
   ]
  },
  {
   "cell_type": "code",
   "execution_count": 258,
   "metadata": {},
   "outputs": [],
   "source": [
    "def comarea_attribution(row) :\n",
    "    for i, area in commareas.iterrows() :\n",
    "        if (commareas.loc[i, ['the_geom']][0].contains(row.loc['Location'])) :\n",
    "            var = float(commareas.loc[i, ['AREA_NUMBE']])\n",
    "            return var\n",
    "#comme ça elle marche pour une row mais interminable pour toute la dataset il faut modif"
   ]
  },
  {
   "cell_type": "code",
   "execution_count": 261,
   "metadata": {},
   "outputs": [],
   "source": [
    "def comarea_attribution(row) :\n",
    "    var = 0.0\n",
    "    for i, area in commareas.iterrows() :\n",
    "        if var == 0.0 :\n",
    "            if (commareas.loc[i, ['the_geom']][0].contains(row.loc['Location'])) :\n",
    "                var = float(commareas.loc[i, ['AREA_NUMBE']])\n",
    "        if var != 0 :\n",
    "            return var\n",
    "            break\n",
    "#marche aussi comme ça pour une row, maybe prend moins de temps grâce au break..."
   ]
  },
  {
   "cell_type": "code",
   "execution_count": 262,
   "metadata": {},
   "outputs": [],
   "source": [
    "row = eat_seat.loc[0]"
   ]
  },
  {
   "cell_type": "code",
   "execution_count": 263,
   "metadata": {},
   "outputs": [
    {
     "name": "stdout",
     "output_type": "stream",
     "text": [
      "17.0\n"
     ]
    }
   ],
   "source": [
    "area = comarea_attribution(row)\n",
    "print(area)"
   ]
  },
  {
   "cell_type": "code",
   "execution_count": 254,
   "metadata": {
    "collapsed": true,
    "jupyter": {
     "outputs_hidden": true
    }
   },
   "outputs": [
    {
     "ename": "AttributeError",
     "evalue": "'Series' object has no attribute 'contains'",
     "output_type": "error",
     "traceback": [
      "\u001b[1;31m---------------------------------------------------------------------------\u001b[0m",
      "\u001b[1;31mAttributeError\u001b[0m                            Traceback (most recent call last)",
      "\u001b[1;32m<ipython-input-254-9a1d3345ff60>\u001b[0m in \u001b[0;36m<module>\u001b[1;34m\u001b[0m\n\u001b[1;32m----> 1\u001b[1;33m \u001b[0marea\u001b[0m \u001b[1;33m=\u001b[0m \u001b[0mcommareas\u001b[0m\u001b[1;33m[\u001b[0m\u001b[1;34m'AREA_NUMBE'\u001b[0m\u001b[1;33m]\u001b[0m\u001b[1;33m[\u001b[0m\u001b[0mcommareas\u001b[0m\u001b[1;33m[\u001b[0m\u001b[1;34m'the_geom'\u001b[0m\u001b[1;33m]\u001b[0m\u001b[1;33m.\u001b[0m\u001b[0mcontains\u001b[0m\u001b[1;33m(\u001b[0m\u001b[0mrow\u001b[0m\u001b[1;33m.\u001b[0m\u001b[0mloc\u001b[0m\u001b[1;33m[\u001b[0m\u001b[1;34m'Location'\u001b[0m\u001b[1;33m]\u001b[0m\u001b[1;33m)\u001b[0m\u001b[1;33m]\u001b[0m\u001b[1;33m\u001b[0m\u001b[1;33m\u001b[0m\u001b[0m\n\u001b[0m\u001b[0;32m      2\u001b[0m \u001b[0marea\u001b[0m\u001b[1;33m\u001b[0m\u001b[1;33m\u001b[0m\u001b[0m\n",
      "\u001b[1;32m~\\Anaconda3\\lib\\site-packages\\pandas\\core\\generic.py\u001b[0m in \u001b[0;36m__getattr__\u001b[1;34m(self, name)\u001b[0m\n\u001b[0;32m   5065\u001b[0m             \u001b[1;32mif\u001b[0m \u001b[0mself\u001b[0m\u001b[1;33m.\u001b[0m\u001b[0m_info_axis\u001b[0m\u001b[1;33m.\u001b[0m\u001b[0m_can_hold_identifiers_and_holds_name\u001b[0m\u001b[1;33m(\u001b[0m\u001b[0mname\u001b[0m\u001b[1;33m)\u001b[0m\u001b[1;33m:\u001b[0m\u001b[1;33m\u001b[0m\u001b[1;33m\u001b[0m\u001b[0m\n\u001b[0;32m   5066\u001b[0m                 \u001b[1;32mreturn\u001b[0m \u001b[0mself\u001b[0m\u001b[1;33m[\u001b[0m\u001b[0mname\u001b[0m\u001b[1;33m]\u001b[0m\u001b[1;33m\u001b[0m\u001b[1;33m\u001b[0m\u001b[0m\n\u001b[1;32m-> 5067\u001b[1;33m             \u001b[1;32mreturn\u001b[0m \u001b[0mobject\u001b[0m\u001b[1;33m.\u001b[0m\u001b[0m__getattribute__\u001b[0m\u001b[1;33m(\u001b[0m\u001b[0mself\u001b[0m\u001b[1;33m,\u001b[0m \u001b[0mname\u001b[0m\u001b[1;33m)\u001b[0m\u001b[1;33m\u001b[0m\u001b[1;33m\u001b[0m\u001b[0m\n\u001b[0m\u001b[0;32m   5068\u001b[0m \u001b[1;33m\u001b[0m\u001b[0m\n\u001b[0;32m   5069\u001b[0m     \u001b[1;32mdef\u001b[0m \u001b[0m__setattr__\u001b[0m\u001b[1;33m(\u001b[0m\u001b[0mself\u001b[0m\u001b[1;33m,\u001b[0m \u001b[0mname\u001b[0m\u001b[1;33m,\u001b[0m \u001b[0mvalue\u001b[0m\u001b[1;33m)\u001b[0m\u001b[1;33m:\u001b[0m\u001b[1;33m\u001b[0m\u001b[1;33m\u001b[0m\u001b[0m\n",
      "\u001b[1;31mAttributeError\u001b[0m: 'Series' object has no attribute 'contains'"
     ]
    }
   ],
   "source": [
    "area = commareas['AREA_NUMBE'][commareas['the_geom'].contains(row.loc['Location'])]\n",
    "area\n",
    "#ne marche pas car quand on \"appelle\" comme ça the_geom l'objet est une séries pas un polygon ! dommage ça prendrait vachement moins de temps"
   ]
  },
  {
   "cell_type": "code",
   "execution_count": 264,
   "metadata": {},
   "outputs": [
    {
     "ename": "KeyboardInterrupt",
     "evalue": "",
     "output_type": "error",
     "traceback": [
      "\u001b[1;31m---------------------------------------------------------------------------\u001b[0m",
      "\u001b[1;31mKeyboardInterrupt\u001b[0m                         Traceback (most recent call last)",
      "\u001b[1;32m<ipython-input-264-4d6b0831528e>\u001b[0m in \u001b[0;36m<module>\u001b[1;34m\u001b[0m\n\u001b[1;32m----> 1\u001b[1;33m \u001b[0meat_seat\u001b[0m\u001b[1;33m[\u001b[0m\u001b[1;34m'Community Area'\u001b[0m\u001b[1;33m]\u001b[0m \u001b[1;33m=\u001b[0m \u001b[0meat_seat\u001b[0m\u001b[1;33m.\u001b[0m\u001b[0mapply\u001b[0m\u001b[1;33m(\u001b[0m\u001b[1;32mlambda\u001b[0m \u001b[0mrow\u001b[0m \u001b[1;33m:\u001b[0m \u001b[0mcomarea_attribution\u001b[0m\u001b[1;33m(\u001b[0m\u001b[0mrow\u001b[0m\u001b[1;33m)\u001b[0m\u001b[1;33m,\u001b[0m \u001b[0maxis\u001b[0m \u001b[1;33m=\u001b[0m \u001b[1;36m1\u001b[0m\u001b[1;33m)\u001b[0m\u001b[1;33m\u001b[0m\u001b[1;33m\u001b[0m\u001b[0m\n\u001b[0m",
      "\u001b[1;32m~\\Anaconda3\\lib\\site-packages\\pandas\\core\\frame.py\u001b[0m in \u001b[0;36mapply\u001b[1;34m(self, func, axis, broadcast, raw, reduce, result_type, args, **kwds)\u001b[0m\n\u001b[0;32m   6485\u001b[0m                          \u001b[0margs\u001b[0m\u001b[1;33m=\u001b[0m\u001b[0margs\u001b[0m\u001b[1;33m,\u001b[0m\u001b[1;33m\u001b[0m\u001b[1;33m\u001b[0m\u001b[0m\n\u001b[0;32m   6486\u001b[0m                          kwds=kwds)\n\u001b[1;32m-> 6487\u001b[1;33m         \u001b[1;32mreturn\u001b[0m \u001b[0mop\u001b[0m\u001b[1;33m.\u001b[0m\u001b[0mget_result\u001b[0m\u001b[1;33m(\u001b[0m\u001b[1;33m)\u001b[0m\u001b[1;33m\u001b[0m\u001b[1;33m\u001b[0m\u001b[0m\n\u001b[0m\u001b[0;32m   6488\u001b[0m \u001b[1;33m\u001b[0m\u001b[0m\n\u001b[0;32m   6489\u001b[0m     \u001b[1;32mdef\u001b[0m \u001b[0mapplymap\u001b[0m\u001b[1;33m(\u001b[0m\u001b[0mself\u001b[0m\u001b[1;33m,\u001b[0m \u001b[0mfunc\u001b[0m\u001b[1;33m)\u001b[0m\u001b[1;33m:\u001b[0m\u001b[1;33m\u001b[0m\u001b[1;33m\u001b[0m\u001b[0m\n",
      "\u001b[1;32m~\\Anaconda3\\lib\\site-packages\\pandas\\core\\apply.py\u001b[0m in \u001b[0;36mget_result\u001b[1;34m(self)\u001b[0m\n\u001b[0;32m    149\u001b[0m             \u001b[1;32mreturn\u001b[0m \u001b[0mself\u001b[0m\u001b[1;33m.\u001b[0m\u001b[0mapply_raw\u001b[0m\u001b[1;33m(\u001b[0m\u001b[1;33m)\u001b[0m\u001b[1;33m\u001b[0m\u001b[1;33m\u001b[0m\u001b[0m\n\u001b[0;32m    150\u001b[0m \u001b[1;33m\u001b[0m\u001b[0m\n\u001b[1;32m--> 151\u001b[1;33m         \u001b[1;32mreturn\u001b[0m \u001b[0mself\u001b[0m\u001b[1;33m.\u001b[0m\u001b[0mapply_standard\u001b[0m\u001b[1;33m(\u001b[0m\u001b[1;33m)\u001b[0m\u001b[1;33m\u001b[0m\u001b[1;33m\u001b[0m\u001b[0m\n\u001b[0m\u001b[0;32m    152\u001b[0m \u001b[1;33m\u001b[0m\u001b[0m\n\u001b[0;32m    153\u001b[0m     \u001b[1;32mdef\u001b[0m \u001b[0mapply_empty_result\u001b[0m\u001b[1;33m(\u001b[0m\u001b[0mself\u001b[0m\u001b[1;33m)\u001b[0m\u001b[1;33m:\u001b[0m\u001b[1;33m\u001b[0m\u001b[1;33m\u001b[0m\u001b[0m\n",
      "\u001b[1;32m~\\Anaconda3\\lib\\site-packages\\pandas\\core\\apply.py\u001b[0m in \u001b[0;36mapply_standard\u001b[1;34m(self)\u001b[0m\n\u001b[0;32m    249\u001b[0m                                           \u001b[0maxis\u001b[0m\u001b[1;33m=\u001b[0m\u001b[0mself\u001b[0m\u001b[1;33m.\u001b[0m\u001b[0maxis\u001b[0m\u001b[1;33m,\u001b[0m\u001b[1;33m\u001b[0m\u001b[1;33m\u001b[0m\u001b[0m\n\u001b[0;32m    250\u001b[0m                                           \u001b[0mdummy\u001b[0m\u001b[1;33m=\u001b[0m\u001b[0mdummy\u001b[0m\u001b[1;33m,\u001b[0m\u001b[1;33m\u001b[0m\u001b[1;33m\u001b[0m\u001b[0m\n\u001b[1;32m--> 251\u001b[1;33m                                           labels=labels)\n\u001b[0m\u001b[0;32m    252\u001b[0m                 \u001b[1;32mreturn\u001b[0m \u001b[0mself\u001b[0m\u001b[1;33m.\u001b[0m\u001b[0mobj\u001b[0m\u001b[1;33m.\u001b[0m\u001b[0m_constructor_sliced\u001b[0m\u001b[1;33m(\u001b[0m\u001b[0mresult\u001b[0m\u001b[1;33m,\u001b[0m \u001b[0mindex\u001b[0m\u001b[1;33m=\u001b[0m\u001b[0mlabels\u001b[0m\u001b[1;33m)\u001b[0m\u001b[1;33m\u001b[0m\u001b[1;33m\u001b[0m\u001b[0m\n\u001b[0;32m    253\u001b[0m             \u001b[1;32mexcept\u001b[0m \u001b[0mException\u001b[0m\u001b[1;33m:\u001b[0m\u001b[1;33m\u001b[0m\u001b[1;33m\u001b[0m\u001b[0m\n",
      "\u001b[1;32mpandas/_libs/reduction.pyx\u001b[0m in \u001b[0;36mpandas._libs.reduction.reduce\u001b[1;34m()\u001b[0m\n",
      "\u001b[1;32mpandas/_libs/reduction.pyx\u001b[0m in \u001b[0;36mpandas._libs.reduction.Reducer.get_result\u001b[1;34m()\u001b[0m\n",
      "\u001b[1;32m<ipython-input-264-4d6b0831528e>\u001b[0m in \u001b[0;36m<lambda>\u001b[1;34m(row)\u001b[0m\n\u001b[1;32m----> 1\u001b[1;33m \u001b[0meat_seat\u001b[0m\u001b[1;33m[\u001b[0m\u001b[1;34m'Community Area'\u001b[0m\u001b[1;33m]\u001b[0m \u001b[1;33m=\u001b[0m \u001b[0meat_seat\u001b[0m\u001b[1;33m.\u001b[0m\u001b[0mapply\u001b[0m\u001b[1;33m(\u001b[0m\u001b[1;32mlambda\u001b[0m \u001b[0mrow\u001b[0m \u001b[1;33m:\u001b[0m \u001b[0mcomarea_attribution\u001b[0m\u001b[1;33m(\u001b[0m\u001b[0mrow\u001b[0m\u001b[1;33m)\u001b[0m\u001b[1;33m,\u001b[0m \u001b[0maxis\u001b[0m \u001b[1;33m=\u001b[0m \u001b[1;36m1\u001b[0m\u001b[1;33m)\u001b[0m\u001b[1;33m\u001b[0m\u001b[1;33m\u001b[0m\u001b[0m\n\u001b[0m",
      "\u001b[1;32m<ipython-input-261-cf92d767fade>\u001b[0m in \u001b[0;36mcomarea_attribution\u001b[1;34m(row)\u001b[0m\n\u001b[0;32m      3\u001b[0m     \u001b[1;32mfor\u001b[0m \u001b[0mi\u001b[0m\u001b[1;33m,\u001b[0m \u001b[0marea\u001b[0m \u001b[1;32min\u001b[0m \u001b[0mcommareas\u001b[0m\u001b[1;33m.\u001b[0m\u001b[0miterrows\u001b[0m\u001b[1;33m(\u001b[0m\u001b[1;33m)\u001b[0m \u001b[1;33m:\u001b[0m\u001b[1;33m\u001b[0m\u001b[1;33m\u001b[0m\u001b[0m\n\u001b[0;32m      4\u001b[0m         \u001b[1;32mif\u001b[0m \u001b[0mvar\u001b[0m \u001b[1;33m==\u001b[0m \u001b[1;36m0.0\u001b[0m \u001b[1;33m:\u001b[0m\u001b[1;33m\u001b[0m\u001b[1;33m\u001b[0m\u001b[0m\n\u001b[1;32m----> 5\u001b[1;33m             \u001b[1;32mif\u001b[0m \u001b[1;33m(\u001b[0m\u001b[0mcommareas\u001b[0m\u001b[1;33m.\u001b[0m\u001b[0mloc\u001b[0m\u001b[1;33m[\u001b[0m\u001b[0mi\u001b[0m\u001b[1;33m,\u001b[0m \u001b[1;33m[\u001b[0m\u001b[1;34m'the_geom'\u001b[0m\u001b[1;33m]\u001b[0m\u001b[1;33m]\u001b[0m\u001b[1;33m[\u001b[0m\u001b[1;36m0\u001b[0m\u001b[1;33m]\u001b[0m\u001b[1;33m.\u001b[0m\u001b[0mcontains\u001b[0m\u001b[1;33m(\u001b[0m\u001b[0mrow\u001b[0m\u001b[1;33m.\u001b[0m\u001b[0mloc\u001b[0m\u001b[1;33m[\u001b[0m\u001b[1;34m'Location'\u001b[0m\u001b[1;33m]\u001b[0m\u001b[1;33m)\u001b[0m\u001b[1;33m)\u001b[0m \u001b[1;33m:\u001b[0m\u001b[1;33m\u001b[0m\u001b[1;33m\u001b[0m\u001b[0m\n\u001b[0m\u001b[0;32m      6\u001b[0m                 \u001b[0mvar\u001b[0m \u001b[1;33m=\u001b[0m \u001b[0mfloat\u001b[0m\u001b[1;33m(\u001b[0m\u001b[0mcommareas\u001b[0m\u001b[1;33m.\u001b[0m\u001b[0mloc\u001b[0m\u001b[1;33m[\u001b[0m\u001b[0mi\u001b[0m\u001b[1;33m,\u001b[0m \u001b[1;33m[\u001b[0m\u001b[1;34m'AREA_NUMBE'\u001b[0m\u001b[1;33m]\u001b[0m\u001b[1;33m]\u001b[0m\u001b[1;33m)\u001b[0m\u001b[1;33m\u001b[0m\u001b[1;33m\u001b[0m\u001b[0m\n\u001b[0;32m      7\u001b[0m         \u001b[1;32mif\u001b[0m \u001b[0mvar\u001b[0m \u001b[1;33m!=\u001b[0m \u001b[1;36m0\u001b[0m \u001b[1;33m:\u001b[0m\u001b[1;33m\u001b[0m\u001b[1;33m\u001b[0m\u001b[0m\n",
      "\u001b[1;32m~\\Anaconda3\\lib\\site-packages\\pandas\\core\\indexing.py\u001b[0m in \u001b[0;36m__getitem__\u001b[1;34m(self, key)\u001b[0m\n\u001b[0;32m   1492\u001b[0m             \u001b[1;32mexcept\u001b[0m \u001b[1;33m(\u001b[0m\u001b[0mKeyError\u001b[0m\u001b[1;33m,\u001b[0m \u001b[0mIndexError\u001b[0m\u001b[1;33m,\u001b[0m \u001b[0mAttributeError\u001b[0m\u001b[1;33m)\u001b[0m\u001b[1;33m:\u001b[0m\u001b[1;33m\u001b[0m\u001b[1;33m\u001b[0m\u001b[0m\n\u001b[0;32m   1493\u001b[0m                 \u001b[1;32mpass\u001b[0m\u001b[1;33m\u001b[0m\u001b[1;33m\u001b[0m\u001b[0m\n\u001b[1;32m-> 1494\u001b[1;33m             \u001b[1;32mreturn\u001b[0m \u001b[0mself\u001b[0m\u001b[1;33m.\u001b[0m\u001b[0m_getitem_tuple\u001b[0m\u001b[1;33m(\u001b[0m\u001b[0mkey\u001b[0m\u001b[1;33m)\u001b[0m\u001b[1;33m\u001b[0m\u001b[1;33m\u001b[0m\u001b[0m\n\u001b[0m\u001b[0;32m   1495\u001b[0m         \u001b[1;32melse\u001b[0m\u001b[1;33m:\u001b[0m\u001b[1;33m\u001b[0m\u001b[1;33m\u001b[0m\u001b[0m\n\u001b[0;32m   1496\u001b[0m             \u001b[1;31m# we by definition only have the 0th axis\u001b[0m\u001b[1;33m\u001b[0m\u001b[1;33m\u001b[0m\u001b[1;33m\u001b[0m\u001b[0m\n",
      "\u001b[1;32m~\\Anaconda3\\lib\\site-packages\\pandas\\core\\indexing.py\u001b[0m in \u001b[0;36m_getitem_tuple\u001b[1;34m(self, tup)\u001b[0m\n\u001b[0;32m    866\u001b[0m     \u001b[1;32mdef\u001b[0m \u001b[0m_getitem_tuple\u001b[0m\u001b[1;33m(\u001b[0m\u001b[0mself\u001b[0m\u001b[1;33m,\u001b[0m \u001b[0mtup\u001b[0m\u001b[1;33m)\u001b[0m\u001b[1;33m:\u001b[0m\u001b[1;33m\u001b[0m\u001b[1;33m\u001b[0m\u001b[0m\n\u001b[0;32m    867\u001b[0m         \u001b[1;32mtry\u001b[0m\u001b[1;33m:\u001b[0m\u001b[1;33m\u001b[0m\u001b[1;33m\u001b[0m\u001b[0m\n\u001b[1;32m--> 868\u001b[1;33m             \u001b[1;32mreturn\u001b[0m \u001b[0mself\u001b[0m\u001b[1;33m.\u001b[0m\u001b[0m_getitem_lowerdim\u001b[0m\u001b[1;33m(\u001b[0m\u001b[0mtup\u001b[0m\u001b[1;33m)\u001b[0m\u001b[1;33m\u001b[0m\u001b[1;33m\u001b[0m\u001b[0m\n\u001b[0m\u001b[0;32m    869\u001b[0m         \u001b[1;32mexcept\u001b[0m \u001b[0mIndexingError\u001b[0m\u001b[1;33m:\u001b[0m\u001b[1;33m\u001b[0m\u001b[1;33m\u001b[0m\u001b[0m\n\u001b[0;32m    870\u001b[0m             \u001b[1;32mpass\u001b[0m\u001b[1;33m\u001b[0m\u001b[1;33m\u001b[0m\u001b[0m\n",
      "\u001b[1;32m~\\Anaconda3\\lib\\site-packages\\pandas\\core\\indexing.py\u001b[0m in \u001b[0;36m_getitem_lowerdim\u001b[1;34m(self, tup)\u001b[0m\n\u001b[0;32m   1015\u001b[0m                     \u001b[1;32mreturn\u001b[0m \u001b[0msection\u001b[0m\u001b[1;33m\u001b[0m\u001b[1;33m\u001b[0m\u001b[0m\n\u001b[0;32m   1016\u001b[0m                 \u001b[1;31m# This is an elided recursive call to iloc/loc/etc'\u001b[0m\u001b[1;33m\u001b[0m\u001b[1;33m\u001b[0m\u001b[1;33m\u001b[0m\u001b[0m\n\u001b[1;32m-> 1017\u001b[1;33m                 \u001b[1;32mreturn\u001b[0m \u001b[0mgetattr\u001b[0m\u001b[1;33m(\u001b[0m\u001b[0msection\u001b[0m\u001b[1;33m,\u001b[0m \u001b[0mself\u001b[0m\u001b[1;33m.\u001b[0m\u001b[0mname\u001b[0m\u001b[1;33m)\u001b[0m\u001b[1;33m[\u001b[0m\u001b[0mnew_key\u001b[0m\u001b[1;33m]\u001b[0m\u001b[1;33m\u001b[0m\u001b[1;33m\u001b[0m\u001b[0m\n\u001b[0m\u001b[0;32m   1018\u001b[0m \u001b[1;33m\u001b[0m\u001b[0m\n\u001b[0;32m   1019\u001b[0m         \u001b[1;32mraise\u001b[0m \u001b[0mIndexingError\u001b[0m\u001b[1;33m(\u001b[0m\u001b[1;34m'not applicable'\u001b[0m\u001b[1;33m)\u001b[0m\u001b[1;33m\u001b[0m\u001b[1;33m\u001b[0m\u001b[0m\n",
      "\u001b[1;32m~\\Anaconda3\\lib\\site-packages\\pandas\\core\\indexing.py\u001b[0m in \u001b[0;36m__getitem__\u001b[1;34m(self, key)\u001b[0m\n\u001b[0;32m   1498\u001b[0m \u001b[1;33m\u001b[0m\u001b[0m\n\u001b[0;32m   1499\u001b[0m             \u001b[0mmaybe_callable\u001b[0m \u001b[1;33m=\u001b[0m \u001b[0mcom\u001b[0m\u001b[1;33m.\u001b[0m\u001b[0mapply_if_callable\u001b[0m\u001b[1;33m(\u001b[0m\u001b[0mkey\u001b[0m\u001b[1;33m,\u001b[0m \u001b[0mself\u001b[0m\u001b[1;33m.\u001b[0m\u001b[0mobj\u001b[0m\u001b[1;33m)\u001b[0m\u001b[1;33m\u001b[0m\u001b[1;33m\u001b[0m\u001b[0m\n\u001b[1;32m-> 1500\u001b[1;33m             \u001b[1;32mreturn\u001b[0m \u001b[0mself\u001b[0m\u001b[1;33m.\u001b[0m\u001b[0m_getitem_axis\u001b[0m\u001b[1;33m(\u001b[0m\u001b[0mmaybe_callable\u001b[0m\u001b[1;33m,\u001b[0m \u001b[0maxis\u001b[0m\u001b[1;33m=\u001b[0m\u001b[0maxis\u001b[0m\u001b[1;33m)\u001b[0m\u001b[1;33m\u001b[0m\u001b[1;33m\u001b[0m\u001b[0m\n\u001b[0m\u001b[0;32m   1501\u001b[0m \u001b[1;33m\u001b[0m\u001b[0m\n\u001b[0;32m   1502\u001b[0m     \u001b[1;32mdef\u001b[0m \u001b[0m_is_scalar_access\u001b[0m\u001b[1;33m(\u001b[0m\u001b[0mself\u001b[0m\u001b[1;33m,\u001b[0m \u001b[0mkey\u001b[0m\u001b[1;33m)\u001b[0m\u001b[1;33m:\u001b[0m\u001b[1;33m\u001b[0m\u001b[1;33m\u001b[0m\u001b[0m\n",
      "\u001b[1;32m~\\Anaconda3\\lib\\site-packages\\pandas\\core\\indexing.py\u001b[0m in \u001b[0;36m_getitem_axis\u001b[1;34m(self, key, axis)\u001b[0m\n\u001b[0;32m   1900\u001b[0m                     \u001b[1;32mraise\u001b[0m \u001b[0mValueError\u001b[0m\u001b[1;33m(\u001b[0m\u001b[1;34m'Cannot index with multidimensional key'\u001b[0m\u001b[1;33m)\u001b[0m\u001b[1;33m\u001b[0m\u001b[1;33m\u001b[0m\u001b[0m\n\u001b[0;32m   1901\u001b[0m \u001b[1;33m\u001b[0m\u001b[0m\n\u001b[1;32m-> 1902\u001b[1;33m                 \u001b[1;32mreturn\u001b[0m \u001b[0mself\u001b[0m\u001b[1;33m.\u001b[0m\u001b[0m_getitem_iterable\u001b[0m\u001b[1;33m(\u001b[0m\u001b[0mkey\u001b[0m\u001b[1;33m,\u001b[0m \u001b[0maxis\u001b[0m\u001b[1;33m=\u001b[0m\u001b[0maxis\u001b[0m\u001b[1;33m)\u001b[0m\u001b[1;33m\u001b[0m\u001b[1;33m\u001b[0m\u001b[0m\n\u001b[0m\u001b[0;32m   1903\u001b[0m \u001b[1;33m\u001b[0m\u001b[0m\n\u001b[0;32m   1904\u001b[0m             \u001b[1;31m# nested tuple slicing\u001b[0m\u001b[1;33m\u001b[0m\u001b[1;33m\u001b[0m\u001b[1;33m\u001b[0m\u001b[0m\n",
      "\u001b[1;32m~\\Anaconda3\\lib\\site-packages\\pandas\\core\\indexing.py\u001b[0m in \u001b[0;36m_getitem_iterable\u001b[1;34m(self, key, axis)\u001b[0m\n\u001b[0;32m   1203\u001b[0m             \u001b[1;31m# A collection of keys\u001b[0m\u001b[1;33m\u001b[0m\u001b[1;33m\u001b[0m\u001b[1;33m\u001b[0m\u001b[0m\n\u001b[0;32m   1204\u001b[0m             keyarr, indexer = self._get_listlike_indexer(key, axis,\n\u001b[1;32m-> 1205\u001b[1;33m                                                          raise_missing=False)\n\u001b[0m\u001b[0;32m   1206\u001b[0m             return self.obj._reindex_with_indexers({axis: [keyarr, indexer]},\n\u001b[0;32m   1207\u001b[0m                                                    copy=True, allow_dups=True)\n",
      "\u001b[1;32m~\\Anaconda3\\lib\\site-packages\\pandas\\core\\indexing.py\u001b[0m in \u001b[0;36m_get_listlike_indexer\u001b[1;34m(self, key, axis, raise_missing)\u001b[0m\n\u001b[0;32m   1152\u001b[0m             \u001b[1;32mif\u001b[0m \u001b[0mlen\u001b[0m\u001b[1;33m(\u001b[0m\u001b[0max\u001b[0m\u001b[1;33m)\u001b[0m \u001b[1;32mor\u001b[0m \u001b[1;32mnot\u001b[0m \u001b[0mlen\u001b[0m\u001b[1;33m(\u001b[0m\u001b[0mkey\u001b[0m\u001b[1;33m)\u001b[0m\u001b[1;33m:\u001b[0m\u001b[1;33m\u001b[0m\u001b[1;33m\u001b[0m\u001b[0m\n\u001b[0;32m   1153\u001b[0m                 \u001b[0mkey\u001b[0m \u001b[1;33m=\u001b[0m \u001b[0mself\u001b[0m\u001b[1;33m.\u001b[0m\u001b[0m_convert_for_reindex\u001b[0m\u001b[1;33m(\u001b[0m\u001b[0mkey\u001b[0m\u001b[1;33m,\u001b[0m \u001b[0maxis\u001b[0m\u001b[1;33m)\u001b[0m\u001b[1;33m\u001b[0m\u001b[1;33m\u001b[0m\u001b[0m\n\u001b[1;32m-> 1154\u001b[1;33m             \u001b[0mindexer\u001b[0m \u001b[1;33m=\u001b[0m \u001b[0max\u001b[0m\u001b[1;33m.\u001b[0m\u001b[0mget_indexer_for\u001b[0m\u001b[1;33m(\u001b[0m\u001b[0mkey\u001b[0m\u001b[1;33m)\u001b[0m\u001b[1;33m\u001b[0m\u001b[1;33m\u001b[0m\u001b[0m\n\u001b[0m\u001b[0;32m   1155\u001b[0m             \u001b[0mkeyarr\u001b[0m \u001b[1;33m=\u001b[0m \u001b[0max\u001b[0m\u001b[1;33m.\u001b[0m\u001b[0mreindex\u001b[0m\u001b[1;33m(\u001b[0m\u001b[0mkeyarr\u001b[0m\u001b[1;33m)\u001b[0m\u001b[1;33m[\u001b[0m\u001b[1;36m0\u001b[0m\u001b[1;33m]\u001b[0m\u001b[1;33m\u001b[0m\u001b[1;33m\u001b[0m\u001b[0m\n\u001b[0;32m   1156\u001b[0m         \u001b[1;32melse\u001b[0m\u001b[1;33m:\u001b[0m\u001b[1;33m\u001b[0m\u001b[1;33m\u001b[0m\u001b[0m\n",
      "\u001b[1;32m~\\Anaconda3\\lib\\site-packages\\pandas\\core\\indexes\\base.py\u001b[0m in \u001b[0;36mget_indexer_for\u001b[1;34m(self, target, **kwargs)\u001b[0m\n\u001b[0;32m   4453\u001b[0m         \"\"\"\n\u001b[0;32m   4454\u001b[0m         \u001b[1;32mif\u001b[0m \u001b[0mself\u001b[0m\u001b[1;33m.\u001b[0m\u001b[0mis_unique\u001b[0m\u001b[1;33m:\u001b[0m\u001b[1;33m\u001b[0m\u001b[1;33m\u001b[0m\u001b[0m\n\u001b[1;32m-> 4455\u001b[1;33m             \u001b[1;32mreturn\u001b[0m \u001b[0mself\u001b[0m\u001b[1;33m.\u001b[0m\u001b[0mget_indexer\u001b[0m\u001b[1;33m(\u001b[0m\u001b[0mtarget\u001b[0m\u001b[1;33m,\u001b[0m \u001b[1;33m**\u001b[0m\u001b[0mkwargs\u001b[0m\u001b[1;33m)\u001b[0m\u001b[1;33m\u001b[0m\u001b[1;33m\u001b[0m\u001b[0m\n\u001b[0m\u001b[0;32m   4456\u001b[0m         \u001b[0mindexer\u001b[0m\u001b[1;33m,\u001b[0m \u001b[0m_\u001b[0m \u001b[1;33m=\u001b[0m \u001b[0mself\u001b[0m\u001b[1;33m.\u001b[0m\u001b[0mget_indexer_non_unique\u001b[0m\u001b[1;33m(\u001b[0m\u001b[0mtarget\u001b[0m\u001b[1;33m,\u001b[0m \u001b[1;33m**\u001b[0m\u001b[0mkwargs\u001b[0m\u001b[1;33m)\u001b[0m\u001b[1;33m\u001b[0m\u001b[1;33m\u001b[0m\u001b[0m\n\u001b[0;32m   4457\u001b[0m         \u001b[1;32mreturn\u001b[0m \u001b[0mindexer\u001b[0m\u001b[1;33m\u001b[0m\u001b[1;33m\u001b[0m\u001b[0m\n",
      "\u001b[1;32m~\\Anaconda3\\lib\\site-packages\\pandas\\core\\indexes\\base.py\u001b[0m in \u001b[0;36mget_indexer\u001b[1;34m(self, target, method, limit, tolerance)\u001b[0m\n\u001b[0;32m   2716\u001b[0m     \u001b[1;32mdef\u001b[0m \u001b[0mget_indexer\u001b[0m\u001b[1;33m(\u001b[0m\u001b[0mself\u001b[0m\u001b[1;33m,\u001b[0m \u001b[0mtarget\u001b[0m\u001b[1;33m,\u001b[0m \u001b[0mmethod\u001b[0m\u001b[1;33m=\u001b[0m\u001b[1;32mNone\u001b[0m\u001b[1;33m,\u001b[0m \u001b[0mlimit\u001b[0m\u001b[1;33m=\u001b[0m\u001b[1;32mNone\u001b[0m\u001b[1;33m,\u001b[0m \u001b[0mtolerance\u001b[0m\u001b[1;33m=\u001b[0m\u001b[1;32mNone\u001b[0m\u001b[1;33m)\u001b[0m\u001b[1;33m:\u001b[0m\u001b[1;33m\u001b[0m\u001b[1;33m\u001b[0m\u001b[0m\n\u001b[0;32m   2717\u001b[0m         \u001b[0mmethod\u001b[0m \u001b[1;33m=\u001b[0m \u001b[0mmissing\u001b[0m\u001b[1;33m.\u001b[0m\u001b[0mclean_reindex_fill_method\u001b[0m\u001b[1;33m(\u001b[0m\u001b[0mmethod\u001b[0m\u001b[1;33m)\u001b[0m\u001b[1;33m\u001b[0m\u001b[1;33m\u001b[0m\u001b[0m\n\u001b[1;32m-> 2718\u001b[1;33m         \u001b[0mtarget\u001b[0m \u001b[1;33m=\u001b[0m \u001b[0mensure_index\u001b[0m\u001b[1;33m(\u001b[0m\u001b[0mtarget\u001b[0m\u001b[1;33m)\u001b[0m\u001b[1;33m\u001b[0m\u001b[1;33m\u001b[0m\u001b[0m\n\u001b[0m\u001b[0;32m   2719\u001b[0m         \u001b[1;32mif\u001b[0m \u001b[0mtolerance\u001b[0m \u001b[1;32mis\u001b[0m \u001b[1;32mnot\u001b[0m \u001b[1;32mNone\u001b[0m\u001b[1;33m:\u001b[0m\u001b[1;33m\u001b[0m\u001b[1;33m\u001b[0m\u001b[0m\n\u001b[0;32m   2720\u001b[0m             \u001b[0mtolerance\u001b[0m \u001b[1;33m=\u001b[0m \u001b[0mself\u001b[0m\u001b[1;33m.\u001b[0m\u001b[0m_convert_tolerance\u001b[0m\u001b[1;33m(\u001b[0m\u001b[0mtolerance\u001b[0m\u001b[1;33m,\u001b[0m \u001b[0mtarget\u001b[0m\u001b[1;33m)\u001b[0m\u001b[1;33m\u001b[0m\u001b[1;33m\u001b[0m\u001b[0m\n",
      "\u001b[1;32m~\\Anaconda3\\lib\\site-packages\\pandas\\core\\indexes\\base.py\u001b[0m in \u001b[0;36mensure_index\u001b[1;34m(index_like, copy)\u001b[0m\n\u001b[0;32m   5362\u001b[0m             \u001b[0mindex_like\u001b[0m \u001b[1;33m=\u001b[0m \u001b[0mlist\u001b[0m\u001b[1;33m(\u001b[0m\u001b[0mindex_like\u001b[0m\u001b[1;33m)\u001b[0m\u001b[1;33m\u001b[0m\u001b[1;33m\u001b[0m\u001b[0m\n\u001b[0;32m   5363\u001b[0m \u001b[1;33m\u001b[0m\u001b[0m\n\u001b[1;32m-> 5364\u001b[1;33m         \u001b[0mconverted\u001b[0m\u001b[1;33m,\u001b[0m \u001b[0mall_arrays\u001b[0m \u001b[1;33m=\u001b[0m \u001b[0mlib\u001b[0m\u001b[1;33m.\u001b[0m\u001b[0mclean_index_list\u001b[0m\u001b[1;33m(\u001b[0m\u001b[0mindex_like\u001b[0m\u001b[1;33m)\u001b[0m\u001b[1;33m\u001b[0m\u001b[1;33m\u001b[0m\u001b[0m\n\u001b[0m\u001b[0;32m   5365\u001b[0m \u001b[1;33m\u001b[0m\u001b[0m\n\u001b[0;32m   5366\u001b[0m         \u001b[1;32mif\u001b[0m \u001b[0mlen\u001b[0m\u001b[1;33m(\u001b[0m\u001b[0mconverted\u001b[0m\u001b[1;33m)\u001b[0m \u001b[1;33m>\u001b[0m \u001b[1;36m0\u001b[0m \u001b[1;32mand\u001b[0m \u001b[0mall_arrays\u001b[0m\u001b[1;33m:\u001b[0m\u001b[1;33m\u001b[0m\u001b[1;33m\u001b[0m\u001b[0m\n",
      "\u001b[1;32mpandas/_libs/lib.pyx\u001b[0m in \u001b[0;36mpandas._libs.lib.clean_index_list\u001b[1;34m()\u001b[0m\n",
      "\u001b[1;32mpandas/_libs/lib.pyx\u001b[0m in \u001b[0;36mpandas._libs.lib.infer_dtype\u001b[1;34m()\u001b[0m\n",
      "\u001b[1;32m~\\Anaconda3\\lib\\importlib\\_bootstrap.py\u001b[0m in \u001b[0;36m_find_and_load\u001b[1;34m(name, import_)\u001b[0m\n",
      "\u001b[1;32m~\\Anaconda3\\lib\\importlib\\_bootstrap.py\u001b[0m in \u001b[0;36m_find_and_load_unlocked\u001b[1;34m(name, import_)\u001b[0m\n",
      "\u001b[1;32m~\\Anaconda3\\lib\\importlib\\_bootstrap.py\u001b[0m in \u001b[0;36m_find_spec\u001b[1;34m(name, path, target)\u001b[0m\n",
      "\u001b[1;32m~\\Anaconda3\\lib\\importlib\\_bootstrap_external.py\u001b[0m in \u001b[0;36mfind_spec\u001b[1;34m(cls, fullname, path, target)\u001b[0m\n",
      "\u001b[1;32m~\\Anaconda3\\lib\\importlib\\_bootstrap_external.py\u001b[0m in \u001b[0;36m_get_spec\u001b[1;34m(cls, fullname, path, target)\u001b[0m\n",
      "\u001b[1;32m~\\Anaconda3\\lib\\importlib\\_bootstrap_external.py\u001b[0m in \u001b[0;36mfind_spec\u001b[1;34m(self, fullname, target)\u001b[0m\n",
      "\u001b[1;32m~\\Anaconda3\\lib\\importlib\\_bootstrap_external.py\u001b[0m in \u001b[0;36m_path_stat\u001b[1;34m(path)\u001b[0m\n",
      "\u001b[1;31mKeyboardInterrupt\u001b[0m: "
     ]
    }
   ],
   "source": [
    "eat_seat['Community Area'] = eat_seat.apply(lambda row : comarea_attribution(row), axis = 1)"
   ]
  },
  {
   "cell_type": "code",
   "execution_count": null,
   "metadata": {},
   "outputs": [],
   "source": [
    "eat_seat.head()"
   ]
  },
  {
   "cell_type": "markdown",
   "metadata": {},
   "source": [
    "### 2.4 The Violations\n",
    "\n",
    "The Food Code Rules has changed since the 1st July 2018. After investigating those changes, it seems that only the denomination of the violations but not the violation itself has changed, and a few additionnal violations has been added in the possible violations. It means that those changes does not need more processing and can just be considered together as a common list of violations."
   ]
  },
  {
   "cell_type": "code",
   "execution_count": null,
   "metadata": {},
   "outputs": [],
   "source": [
    "len(eat_seat.Violations.unique())"
   ]
  },
  {
   "cell_type": "code",
   "execution_count": null,
   "metadata": {},
   "outputs": [],
   "source": [
    "eat_seat.Violations[0]"
   ]
  },
  {
   "cell_type": "markdown",
   "metadata": {},
   "source": [
    "It seems that every violation is a unique entry because it contains not only the violation type but also the comments of the inspectors. We have to split the Violations column into 3 different columns :\n",
    "- Violation number\n",
    "- Violation type\n",
    "- Violation comments\n",
    "\n",
    "It seems that every violation cell is architectured this way :\n",
    "\"number of the violation\". \"TYPE OF THE VIOLATION\" - Comments : \"comments of the inspector\" (this format repeated as many times as the number of violations detected the day of the inspection, separated with a vertical line)\n",
    "\n",
    "We just want to keep the violation number (because we can check which violation it is online). We create a column NumberViolations containing the ID of the violations found during the corresponding investigation. The rest is not kept because the titles of the violations can be found online and we do not plan on using the comments of the investigators.\n",
    "\n",
    "As we can do this cleaning only for the rows where the field Violations is not empty, we will temporarily drop all the other rows."
   ]
  },
  {
   "cell_type": "code",
   "execution_count": null,
   "metadata": {},
   "outputs": [],
   "source": [
    "temp = eat_seat.dropna(subset=['Violations'], axis = 0, how = 'all')"
   ]
  },
  {
   "cell_type": "code",
   "execution_count": null,
   "metadata": {},
   "outputs": [],
   "source": [
    "violations = temp.apply(lambda row: re.findall('\\|\\s([0-9]+)[.]', str(row['Violations'])), axis = 1)"
   ]
  },
  {
   "cell_type": "code",
   "execution_count": null,
   "metadata": {},
   "outputs": [],
   "source": [
    "first_violations = temp.apply(lambda row: row['Violations'].split('.')[0], axis = 1)"
   ]
  },
  {
   "cell_type": "code",
   "execution_count": null,
   "metadata": {},
   "outputs": [],
   "source": [
    "for violation, first_violation in zip(violations, first_violations):\n",
    "    violation.append(first_violation)\n",
    "\n",
    "flat_list = [item for sublist in violations for item in sublist]\n",
    "unique, counts = np.unique(flat_list, return_counts=True)"
   ]
  },
  {
   "cell_type": "code",
   "execution_count": null,
   "metadata": {},
   "outputs": [],
   "source": [
    "temp = temp.assign(NumberViolations = violations)"
   ]
  },
  {
   "cell_type": "code",
   "execution_count": null,
   "metadata": {},
   "outputs": [],
   "source": [
    "temp = temp[['Inspection ID', 'NumberViolations']]\n",
    "temp.head(3)"
   ]
  },
  {
   "cell_type": "code",
   "execution_count": null,
   "metadata": {},
   "outputs": [],
   "source": [
    "len(eat_seat)"
   ]
  },
  {
   "cell_type": "markdown",
   "metadata": {},
   "source": [
    "Now that we have a dataframe with every inspection ID of the inspections where violations has been found and a column containing the list of those violations, we can add it to the primary dataframe."
   ]
  },
  {
   "cell_type": "code",
   "execution_count": null,
   "metadata": {},
   "outputs": [],
   "source": [
    "eat_seat = pd.merge(eat_seat, temp, how='left', on='Inspection ID', left_index=True, right_index=False)"
   ]
  },
  {
   "cell_type": "code",
   "execution_count": null,
   "metadata": {},
   "outputs": [],
   "source": [
    "eat_seat = eat_seat.set_index(['Inspection ID']) #redifines the Index\n",
    "eat_seat.head(3)"
   ]
  },
  {
   "cell_type": "code",
   "execution_count": null,
   "metadata": {},
   "outputs": [],
   "source": [
    "eat_seat.index.is_unique"
   ]
  },
  {
   "cell_type": "code",
   "execution_count": null,
   "metadata": {},
   "outputs": [],
   "source": [
    "len(eat_seat)"
   ]
  },
  {
   "cell_type": "markdown",
   "metadata": {},
   "source": [
    "### 2.4 The Inspection Results"
   ]
  },
  {
   "cell_type": "code",
   "execution_count": null,
   "metadata": {},
   "outputs": [],
   "source": [
    "eat_seat.isnull().sum()"
   ]
  },
  {
   "cell_type": "markdown",
   "metadata": {},
   "source": [
    "We see that there are more than 50'000 rows where the Violations column is empty. We have to study wether those cells are empty because there were no violations (meaning the estalishment is healthy) or because the inspection was not successfull (meaning we can drop the row because it can not be used in our research)."
   ]
  },
  {
   "cell_type": "code",
   "execution_count": null,
   "metadata": {},
   "outputs": [],
   "source": [
    "eat_seat.Results.unique()"
   ]
  },
  {
   "cell_type": "markdown",
   "metadata": {},
   "source": [
    "We create new databases for every entries of the column Results in order to study them."
   ]
  },
  {
   "cell_type": "code",
   "execution_count": null,
   "metadata": {},
   "outputs": [],
   "source": [
    "noentry = eat_seat[eat_seat['Results']=='No Entry']"
   ]
  },
  {
   "cell_type": "code",
   "execution_count": null,
   "metadata": {},
   "outputs": [],
   "source": [
    "outofbusiness = eat_seat[eat_seat['Results']=='Out of Business']"
   ]
  },
  {
   "cell_type": "code",
   "execution_count": null,
   "metadata": {},
   "outputs": [],
   "source": [
    "notready = eat_seat[eat_seat['Results']=='Not Ready']"
   ]
  },
  {
   "cell_type": "code",
   "execution_count": null,
   "metadata": {},
   "outputs": [],
   "source": [
    "businessnotlocated = eat_seat[eat_seat['Results']=='Business Not Located']"
   ]
  },
  {
   "cell_type": "code",
   "execution_count": null,
   "metadata": {},
   "outputs": [],
   "source": [
    "passwithconditions = eat_seat[eat_seat['Results']=='Pass w/ Conditions']"
   ]
  },
  {
   "cell_type": "code",
   "execution_count": null,
   "metadata": {},
   "outputs": [],
   "source": [
    "passed = eat_seat[eat_seat['Results']=='Pass']"
   ]
  },
  {
   "cell_type": "code",
   "execution_count": null,
   "metadata": {},
   "outputs": [],
   "source": [
    "fail = eat_seat[eat_seat['Results']=='Fail']"
   ]
  },
  {
   "cell_type": "markdown",
   "metadata": {},
   "source": [
    "We investigate how many of each results' type has the column Violations empty."
   ]
  },
  {
   "cell_type": "code",
   "execution_count": null,
   "metadata": {},
   "outputs": [],
   "source": [
    "results_dic = {'No Entry' : noentry, 'Out of Business' : outofbusiness, 'Not Ready' : notready,\\\n",
    "               'Business Not Located' : businessnotlocated, 'Pass With Conditions' : passwithconditions, 'Pass' : passed, 'Fail' : fail}"
   ]
  },
  {
   "cell_type": "code",
   "execution_count": null,
   "metadata": {},
   "outputs": [],
   "source": [
    "for name, result in results_dic.items() :\n",
    "    print(name, ':', len(result[result['Violations'].isnull()]), 'empty Violation columns /', len(result),\\\n",
    "          'columns =', (len(result[result['Violations'].isnull()])/len(result)), '\\n')"
   ]
  },
  {
   "cell_type": "markdown",
   "metadata": {},
   "source": [
    "We see that almost every entries where the Result is either 'No entry', 'Out of Business', 'Not ready' or 'Business not located' have the Violations field empty. We can safely drop those lines because they are not pertinent for our research."
   ]
  },
  {
   "cell_type": "code",
   "execution_count": null,
   "metadata": {},
   "outputs": [],
   "source": [
    "results = ['Pass', 'Pass w/ Conditions', 'Fail']"
   ]
  },
  {
   "cell_type": "code",
   "execution_count": null,
   "metadata": {},
   "outputs": [],
   "source": [
    "eat_seat = eat_seat.loc[eat_seat['Results'].isin(results)]\n",
    "len(eat_seat)"
   ]
  },
  {
   "cell_type": "markdown",
   "metadata": {},
   "source": [
    "Now we have to take care of the cases where there is no Violations and the Result is either Pass, Fail or Pass with conditions.\n",
    "\n",
    "When the result is Pass and the Violation field is empty, we can add a 0 in the column \"NumberViolations\"."
   ]
  },
  {
   "cell_type": "code",
   "execution_count": null,
   "metadata": {},
   "outputs": [],
   "source": [
    "eat_seat['NumberViolations'].fillna(0, inplace=True)"
   ]
  },
  {
   "cell_type": "code",
   "execution_count": null,
   "metadata": {},
   "outputs": [],
   "source": [
    "len(eat_seat)"
   ]
  },
  {
   "cell_type": "markdown",
   "metadata": {},
   "source": [
    "When the result is either Fail or Pass with conditions but the Violations field is empty, we will drop those rows because there are missing values. An establishment can indeed not fail an inspection or receive conditions when no violation is found, those entries make no sense and can not be taken into account in our research."
   ]
  },
  {
   "cell_type": "code",
   "execution_count": null,
   "metadata": {},
   "outputs": [],
   "source": [
    "results = ['Pass w/ Conditions', 'Fail']\n",
    "EmptyViolations = eat_seat[eat_seat['NumberViolations'] == 0]\n",
    "EmptyinResults = EmptyViolations.loc[eat_seat['Results'].isin(results)]\n",
    "indexes = EmptyinResults.index\n",
    "eat_seat = eat_seat.drop(labels = indexes)"
   ]
  },
  {
   "cell_type": "code",
   "execution_count": null,
   "metadata": {},
   "outputs": [],
   "source": [
    "len(eat_seat)"
   ]
  },
  {
   "cell_type": "markdown",
   "metadata": {},
   "source": [
    "Now we can replace Pass by 1, Pass w/ conditions by 2, and Fail by 3 (that will be useful during the computation of the healthiness score)."
   ]
  },
  {
   "cell_type": "code",
   "execution_count": null,
   "metadata": {},
   "outputs": [],
   "source": [
    "eat_seat['Results'].unique()"
   ]
  },
  {
   "cell_type": "code",
   "execution_count": null,
   "metadata": {},
   "outputs": [],
   "source": [
    "eat_seat['Results'] = eat_seat['Results'].replace({'Fail':3, 'Pass w/ Conditions':2, 'Pass':1})\n"
   ]
  },
  {
   "cell_type": "code",
   "execution_count": null,
   "metadata": {},
   "outputs": [],
   "source": [
    "eat_seat.head(3)"
   ]
  },
  {
   "cell_type": "code",
   "execution_count": null,
   "metadata": {},
   "outputs": [],
   "source": [
    "eat_seat.Results = pd.to_numeric(eat_seat.Results, downcast = 'integer')\n",
    "eat_seat.Results = eat_seat.Results.apply(nbestethic) "
   ]
  },
  {
   "cell_type": "markdown",
   "metadata": {},
   "source": [
    "Now we can compute the healthiness score of each inspection by multiplying the Results score with the number of Violations :\n"
   ]
  },
  {
   "cell_type": "code",
   "execution_count": null,
   "metadata": {},
   "outputs": [],
   "source": [
    "#add 0 in the new column InspectionScore for every row\n",
    "liste = []\n",
    "for i in range (0, len(eat_seat)) :\n",
    "                liste.append(0)\n",
    "                \n",
    "eat_seat['InspectionScore'] = liste"
   ]
  },
  {
   "cell_type": "code",
   "execution_count": null,
   "metadata": {},
   "outputs": [],
   "source": [
    "#add the multiplication for the rows where NumberViolations != 0\n",
    "for ID in eat_seat.index :\n",
    "    if eat_seat.at[ID, 'NumberViolations'] != 0 :\n",
    "        eat_seat.at[ID, 'InspectionScore'] = len(eat_seat.at[ID, 'NumberViolations']) * eat_seat.at[ID, 'Results']"
   ]
  },
  {
   "cell_type": "code",
   "execution_count": null,
   "metadata": {},
   "outputs": [],
   "source": [
    "eat_seat.head(3)"
   ]
  },
  {
   "cell_type": "markdown",
   "metadata": {},
   "source": [
    "## 3. Hygiene Score computation"
   ]
  },
  {
   "cell_type": "markdown",
   "metadata": {},
   "source": [
    "Now we want to add every InspectionScore that an establishment has and then divide this by the numer of inspections of this establishment in order to compute a score per establishment. This score will be stored in a new column FacilityScore.\n",
    "\n",
    "**NB :** This is a first try in order to make an analysis of the data. We know that this score is not fair because an establishment could have been very bad in the past and is now very healthy but we could use it in another formula later (compute the progress of an establishment for example)."
   ]
  },
  {
   "cell_type": "markdown",
   "metadata": {},
   "source": [
    "#### Assistants' comments :\n",
    "•\tNB.: Please read this to order to understand the difference between df.loc[...] and df[...]. When in doubt use .loc.\n",
    "https://pandas.pydata.org/pandas-docs/stable/user_guide/indexing.html\n",
    "\n",
    "•\tYour method of removing duplicate restaurants assumes that license numbers are not reused, **check that** instead of assuming it."
   ]
  },
  {
   "cell_type": "code",
   "execution_count": null,
   "metadata": {},
   "outputs": [],
   "source": [
    "#keeping just one occurence of License\n",
    "df_restaurants = eat_seat.drop_duplicates(subset=['License'])\n",
    "df_restaurants.head(3)"
   ]
  },
  {
   "cell_type": "code",
   "execution_count": null,
   "metadata": {},
   "outputs": [],
   "source": [
    "df_restaurants = df_restaurants.set_index(['License']) #redifines the Index"
   ]
  },
  {
   "cell_type": "code",
   "execution_count": null,
   "metadata": {},
   "outputs": [],
   "source": [
    "df_restaurants.head(3)"
   ]
  },
  {
   "cell_type": "code",
   "execution_count": null,
   "metadata": {},
   "outputs": [],
   "source": [
    "#drop columns that gives info about inspection and not facility\n",
    "df_restaurants = df_restaurants.drop(columns = ['Inspection Date', 'Inspection Type', 'Results', 'NumberViolations', 'InspectionScore'])\n",
    "df_restaurants.head(3)"
   ]
  },
  {
   "cell_type": "markdown",
   "metadata": {},
   "source": [
    "Now we have a dataframe with every facility listed in our preprocessed database. We want to create a column containing the addition of every InspectionScore of each license."
   ]
  },
  {
   "cell_type": "code",
   "execution_count": null,
   "metadata": {},
   "outputs": [],
   "source": [
    "#compute the number of inspections in the primary dataset per license number\n",
    "\n",
    "dic = {}\n",
    "\n",
    "for license in df_restaurants.index :\n",
    "    score = 0\n",
    "    for row in eat_seat[eat_seat['License']==license].index :\n",
    "        score = 0 + eat_seat.at[row, 'InspectionScore']\n",
    "    dic[license] = score\n"
   ]
  },
  {
   "cell_type": "markdown",
   "metadata": {},
   "source": [
    "**Essayer de faire un groupby.sum() ou quelque chose comme ça !**\n",
    "\n",
    "#### Assistants' comments :\n",
    "•\tin cell In [74] you have a mistake... check that.\n",
    "\n",
    "**\"Facility score\" encore besoin ? Vu que l'analyse est par année**"
   ]
  },
  {
   "cell_type": "code",
   "execution_count": null,
   "metadata": {},
   "outputs": [],
   "source": [
    "#add this number in the new database\n",
    "df_restaurants['FacilityScore'] = dic.values()"
   ]
  },
  {
   "cell_type": "code",
   "execution_count": null,
   "metadata": {},
   "outputs": [],
   "source": [
    "#compute the number of inspections in the primary dataset per license number\n",
    "\n",
    "dic = {}\n",
    "\n",
    "for license in df_restaurants.index :\n",
    "    score = len(eat_seat[eat_seat['License'] == license])\n",
    "    dic[license] = score"
   ]
  },
  {
   "cell_type": "code",
   "execution_count": null,
   "metadata": {},
   "outputs": [],
   "source": [
    "#add this number in the new database\n",
    "df_restaurants['NumberOfInspections'] = dic.values()"
   ]
  },
  {
   "cell_type": "code",
   "execution_count": null,
   "metadata": {},
   "outputs": [],
   "source": [
    "df_restaurants.head(3)"
   ]
  },
  {
   "cell_type": "code",
   "execution_count": null,
   "metadata": {},
   "outputs": [],
   "source": [
    "#only keep the new column\n",
    "df_restaurants = df_restaurants.drop(columns = ['DBA Name', 'Risk', 'Address', 'Latitude', 'Longitude', 'FacilityGroup', \n",
    "                                                'Violations', 'Location', 'Facility Type'])\n",
    "df_restaurants.head(3)"
   ]
  },
  {
   "cell_type": "code",
   "execution_count": null,
   "metadata": {},
   "outputs": [],
   "source": [
    "dic = {}\n",
    "\n",
    "\n",
    "for inspection in eat_seat.index :\n",
    "    license = eat_seat.loc[inspection, 'License']\n",
    "    facilityscore = df_restaurants.loc[license, 'FacilityScore'] / df_restaurants.loc[license, 'NumberOfInspections']\n",
    "    dic[inspection] = facilityscore\n",
    "    "
   ]
  },
  {
   "cell_type": "code",
   "execution_count": null,
   "metadata": {},
   "outputs": [],
   "source": [
    "eat_seat['FacilityScore'] = dic.values()"
   ]
  },
  {
   "cell_type": "code",
   "execution_count": null,
   "metadata": {},
   "outputs": [],
   "source": [
    "eat_seat.head(3)"
   ]
  },
  {
   "cell_type": "markdown",
   "metadata": {},
   "source": [
    "## 4.1 Additional Dataset - BUSINESS LICENSES/OWNERS\n",
    "\n",
    "We found two datasets on Kaggle gathering the business licenses and the business owners of Chicago. It could be interesting to observe the results of different establishments owned by the same person."
   ]
  },
  {
   "cell_type": "markdown",
   "metadata": {},
   "source": [
    "### Business Licenses\n",
    "\n",
    "The first dataset contains the details about every licensed establishments. There are a lot of columns but the only ones interesting us are :\n",
    "- the `license id` column to have a link with the *chicago food inspections* dataset\n",
    "- the `account number` column to have a link with the *business owners* dataset\n",
    "- the `police district` column in case we want to have a link with the *crime* dataset"
   ]
  },
  {
   "cell_type": "code",
   "execution_count": null,
   "metadata": {},
   "outputs": [],
   "source": [
    "licenses = pd.read_csv('business-licenses.csv', sep=',', low_memory = False) #creation of the dataframe\n"
   ]
  },
  {
   "cell_type": "code",
   "execution_count": null,
   "metadata": {},
   "outputs": [],
   "source": [
    "licenses = pd.read_csv('business-licenses.csv', sep=',') #creation of the dataframe\n",
    "licenses = licenses.rename(str.lower, axis='columns')\n",
    "licenses = licenses.drop(columns = ['city', 'state', 'id', 'precinct', 'ward precinct', 'business activity id',\\\n",
    "                                'license number', 'application type', 'application created date',\\\n",
    "                                'application requirements complete', 'payment date', 'conditional approval',\\\n",
    "                                'license term start date', 'license term expiration date', 'license approved for issuance',\\\n",
    "                                'date issued', 'license status', 'license status change date', 'ssa',\\\n",
    "                                'historical wards 2003-2015', 'zip codes', 'wards', 'census tracts', 'location',\\\n",
    "                                'license code', 'license description', 'business activity', 'site number',\\\n",
    "                               'zip code', 'latitude', 'longitude', 'address', 'legal name', 'doing business as name',\\\n",
    "                                'community areas', 'ward'])\n",
    "\n",
    "licenses['police district'] = pd.to_numeric(licenses['police district'], downcast = 'integer') \n",
    "licenses.head(3)"
   ]
  },
  {
   "cell_type": "code",
   "execution_count": null,
   "metadata": {},
   "outputs": [],
   "source": [
    "licenses = licenses.set_index('account number')\n",
    "licenses.head(3)"
   ]
  },
  {
   "cell_type": "code",
   "execution_count": null,
   "metadata": {},
   "outputs": [],
   "source": [
    "print(len(licenses.index))"
   ]
  },
  {
   "cell_type": "markdown",
   "metadata": {},
   "source": [
    "### Business Owners\n",
    "\n",
    "The second dataset contains the details about every license owners. We have decided to keep the following columns :\n",
    "- the `account number` column to have a link with the *business licenses* dataset\n",
    "- the `owner first name` and the `owner last name` columns in order to create a `full name` column"
   ]
  },
  {
   "cell_type": "code",
   "execution_count": null,
   "metadata": {},
   "outputs": [],
   "source": [
    "owners = pd.read_csv('business-owners.csv',sep=',') #creation of the dataframe\n",
    "owners = owners.rename(str.lower, axis='columns')\n",
    "owners = owners.drop(columns = ['suffix', 'legal entity owner', 'owner middle initial', 'legal name', 'title'])\n",
    "owners.head(3)"
   ]
  },
  {
   "cell_type": "code",
   "execution_count": null,
   "metadata": {},
   "outputs": [],
   "source": [
    "owners['full name'] = owners['owner first name'] + ' ' + owners['owner last name']\n",
    "owners = owners.drop(columns = ['owner first name', 'owner last name'])"
   ]
  },
  {
   "cell_type": "markdown",
   "metadata": {},
   "source": [
    "A `full name` column is enough for the needs that we have to link the licenses to the owners."
   ]
  },
  {
   "cell_type": "code",
   "execution_count": null,
   "metadata": {},
   "outputs": [],
   "source": [
    "owners.head(3)"
   ]
  },
  {
   "cell_type": "code",
   "execution_count": null,
   "metadata": {},
   "outputs": [],
   "source": [
    "len(owners['account number'].unique())"
   ]
  },
  {
   "cell_type": "code",
   "execution_count": null,
   "metadata": {},
   "outputs": [],
   "source": [
    "len(owners['full name'].unique())"
   ]
  },
  {
   "cell_type": "markdown",
   "metadata": {},
   "source": [
    "Here we can see that the number of accounts is not the same that the number of full names. For now, we will consider that a same account can be shared by several people (for example, it could be the case for partners owning a business together)."
   ]
  },
  {
   "cell_type": "code",
   "execution_count": null,
   "metadata": {},
   "outputs": [],
   "source": [
    "owners = pd.DataFrame(owners.groupby('account number')['full name'].apply(list))"
   ]
  },
  {
   "cell_type": "code",
   "execution_count": null,
   "metadata": {},
   "outputs": [],
   "source": [
    "owners.head(3)"
   ]
  },
  {
   "cell_type": "markdown",
   "metadata": {},
   "source": [
    "We can observe that the lists of the `full name` column contain duplicates and 'nan' values. A function *clean_list* can be defined to clean them."
   ]
  },
  {
   "cell_type": "code",
   "execution_count": null,
   "metadata": {},
   "outputs": [],
   "source": [
    "def clean_list(liste) :\n",
    "    cleaned = []\n",
    "    for element in liste :\n",
    "        if type(element) == str and element not in cleaned :\n",
    "            cleaned.append(element)\n",
    "    return cleaned"
   ]
  },
  {
   "cell_type": "code",
   "execution_count": null,
   "metadata": {},
   "outputs": [],
   "source": [
    "owners['full name'] = owners['full name'].apply(clean_list)"
   ]
  },
  {
   "cell_type": "code",
   "execution_count": null,
   "metadata": {},
   "outputs": [],
   "source": [
    "owners.head(3)"
   ]
  },
  {
   "cell_type": "markdown",
   "metadata": {},
   "source": [
    "### Business Licenses-Owners\n",
    "\n",
    "Setting both the indexes of the *licenses* and the *owners* dataframes we can now merge them together."
   ]
  },
  {
   "cell_type": "code",
   "execution_count": null,
   "metadata": {},
   "outputs": [],
   "source": [
    "business = pd.merge(licenses, owners, right_index = True, left_index = True)"
   ]
  },
  {
   "cell_type": "code",
   "execution_count": null,
   "metadata": {},
   "outputs": [],
   "source": [
    "business.head(3)"
   ]
  },
  {
   "cell_type": "code",
   "execution_count": null,
   "metadata": {},
   "outputs": [],
   "source": [
    "business.reset_index(level=0, inplace=True)"
   ]
  },
  {
   "cell_type": "code",
   "execution_count": null,
   "metadata": {},
   "outputs": [],
   "source": [
    "business.head(3)"
   ]
  },
  {
   "cell_type": "markdown",
   "metadata": {},
   "source": [
    "### Second Main Dataframe\n",
    "\n",
    "Setting both the indexes of the *business* and the *eat_seat* dataframes we can now merge them together."
   ]
  },
  {
   "cell_type": "code",
   "execution_count": null,
   "metadata": {},
   "outputs": [],
   "source": [
    "business = business.rename(columns= {'license id' : 'License'})\n",
    "business = business.set_index('License')\n",
    "\n",
    "eat_seat = eat_seat.set_index('License')"
   ]
  },
  {
   "cell_type": "code",
   "execution_count": null,
   "metadata": {},
   "outputs": [],
   "source": [
    "eat_seat_2 = pd.merge(eat_seat, business, right_index = True, left_index = True)"
   ]
  },
  {
   "cell_type": "code",
   "execution_count": null,
   "metadata": {},
   "outputs": [],
   "source": [
    "eat_seat_2.head(3)"
   ]
  },
  {
   "cell_type": "code",
   "execution_count": null,
   "metadata": {},
   "outputs": [],
   "source": [
    "eat_seat_2.to_csv('newfood.csv')"
   ]
  },
  {
   "cell_type": "markdown",
   "metadata": {},
   "source": [
    "## 4.2 Additional Dataset - CRIME "
   ]
  },
  {
   "cell_type": "markdown",
   "metadata": {},
   "source": [
    "### looking at the dataset and modify it"
   ]
  },
  {
   "cell_type": "code",
   "execution_count": null,
   "metadata": {},
   "outputs": [],
   "source": [
    "crime_2001_2004 = pd.read_csv('Chicago_Crimes_2001_to_2004.csv', error_bad_lines=False)"
   ]
  },
  {
   "cell_type": "code",
   "execution_count": null,
   "metadata": {},
   "outputs": [],
   "source": [
    "crime_2005_2007 = pd.read_csv('Chicago_Crimes_2005_to_2007.csv', error_bad_lines=False)"
   ]
  },
  {
   "cell_type": "code",
   "execution_count": null,
   "metadata": {},
   "outputs": [],
   "source": [
    "crime_2008_2011 = pd.read_csv('Chicago_Crimes_2008_to_2011.csv', error_bad_lines=False)"
   ]
  },
  {
   "cell_type": "code",
   "execution_count": null,
   "metadata": {},
   "outputs": [],
   "source": [
    "crime_2012_2017 = pd.read_csv('Chicago_Crimes_2012_to_2017.csv', error_bad_lines=False)"
   ]
  },
  {
   "cell_type": "code",
   "execution_count": null,
   "metadata": {},
   "outputs": [],
   "source": [
    "crime = crime_2001_2004.append(crime_2005_2007).append(crime_2008_2011).append(crime_2012_2017)\n",
    "\n",
    "crime.head(3)"
   ]
  },
  {
   "cell_type": "code",
   "execution_count": null,
   "metadata": {},
   "outputs": [],
   "source": [
    "crime.to_csv('crime.csv')"
   ]
  },
  {
   "cell_type": "markdown",
   "metadata": {},
   "source": [
    "Load the data found on https://www.kaggle.com/currie32/crimes-in-chicago in pandas DataFrames and concatenate them. The *crime* dataframe is saved in a csv file.\n",
    "\n",
    "The datasets have several columns not interesting for us, there are dropped. In terms of location we decide to only keep the `Community Area` column in order to have a link with the *chicago food inspections* dataset. We also keep the longitude and latitude to maybe map the crimes for the visualization."
   ]
  },
  {
   "cell_type": "code",
   "execution_count": null,
   "metadata": {},
   "outputs": [],
   "source": [
    "crime = crime.drop(['District', 'Ward', 'Unnamed: 0','Case Number','IUCR','Arrest', 'Domestic','FBI Code','X Coordinate','Y Coordinate','Updated On', 'Location Description'], axis=1)\n",
    "crime.head(3)"
   ]
  },
  {
   "cell_type": "code",
   "execution_count": null,
   "metadata": {},
   "outputs": [],
   "source": [
    "commareas = pd.read_csv('CommAreas.csv', error_bad_lines=False)\n",
    "commareas.head(3)"
   ]
  },
  {
   "cell_type": "markdown",
   "metadata": {},
   "source": [
    "Importation of the new dataset containing the comm areas and their geographical polygon"
   ]
  },
  {
   "cell_type": "code",
   "execution_count": null,
   "metadata": {},
   "outputs": [],
   "source": [
    "polygons = commareas['the_geom']\n",
    "comareanum = commareas['AREA_NUMBE']"
   ]
  },
  {
   "cell_type": "markdown",
   "metadata": {},
   "source": [
    "Creating 2 list, one containing the polygon, the other one the comm area number"
   ]
  },
  {
   "cell_type": "code",
   "execution_count": 167,
   "metadata": {},
   "outputs": [],
   "source": [
    "from shapely.geometry import Point\n",
    "from shapely.geometry.polygon import Polygon"
   ]
  },
  {
   "cell_type": "markdown",
   "metadata": {},
   "source": [
    "importing geometry from shapely"
   ]
  },
  {
   "cell_type": "code",
   "execution_count": null,
   "metadata": {},
   "outputs": [],
   "source": [
    "def polyfunc(x) :\n",
    "    for p in x :\n",
    "        test.strip('MULTIPOLYGON (((').strip(')))').split(',')\n",
    "        b = x.strip(' ').strip(')').strip('(').split(' ')\n",
    "        pair = (float(b[1]),float(b[0]))\n",
    "        \n"
   ]
  },
  {
   "cell_type": "markdown",
   "metadata": {},
   "source": [
    "Function to help formatting the polygon --> it take the long and lat, split them and reunite them in a tupple "
   ]
  },
  {
   "cell_type": "code",
   "execution_count": null,
   "metadata": {},
   "outputs": [],
   "source": [
    "d = {}\n",
    "c = 0\n",
    "for test in polygons :\n",
    "    test = test.strip('MULTIPOLYGON (((').strip(')))').split(',')\n",
    "    test = list(map(lambda x : polyfunc(x),test))\n",
    "    polygon = Polygon(test)\n",
    "    d[comareanum[c]] = polygon\n",
    "    c += 1"
   ]
  },
  {
   "cell_type": "markdown",
   "metadata": {},
   "source": [
    "loop that formate all the polygons, clear the useless infos, put them into a list of tupple and stock them in a dictionary : \n",
    "comm area number | polygon"
   ]
  },
  {
   "cell_type": "code",
   "execution_count": null,
   "metadata": {},
   "outputs": [],
   "source": [
    "Loc = crime['Location']\n",
    "loc = []\n",
    "for x in Loc :\n",
    "    if type(x) == float :\n",
    "        pass\n",
    "    else :\n",
    "        x = x.strip('(').strip(')').split(',')\n",
    "        x = (float(x[0]),float(x[1]))\n",
    "    loc.append(x)"
   ]
  },
  {
   "cell_type": "markdown",
   "metadata": {},
   "source": [
    "Turn the element in the Location column from string to tupple of float --> lat and long"
   ]
  },
  {
   "cell_type": "code",
   "execution_count": null,
   "metadata": {},
   "outputs": [],
   "source": [
    "ca = crime['Community Area']"
   ]
  },
  {
   "cell_type": "code",
   "execution_count": null,
   "metadata": {},
   "outputs": [],
   "source": [
    "c = []\n",
    "count = 0\n",
    "for x in ca :\n",
    "    if pd.isna(x) :\n",
    "        if type(loc[count]) == tuple :\n",
    "            point = Point(loc[count])\n",
    "            con = 1\n",
    "            for y in d :\n",
    "                if d[y].contains(point) :\n",
    "                    c.append(float(y))\n",
    "                    break\n",
    "                else :\n",
    "                    con += 1\n",
    "                    if con > len(d) :\n",
    "                        c.append(0.0)\n",
    "                    else :\n",
    "                        pass\n",
    "        else :\n",
    "            c.append(0.0)\n",
    "    else :\n",
    "        c.append(x)\n",
    "        \n",
    "    count +=1"
   ]
  },
  {
   "cell_type": "markdown",
   "metadata": {},
   "source": [
    "Here the loop check if the comm area from each row is already given. \n",
    "\n",
    "If it is, it gives its value.\n",
    "\n",
    "If it's not, the loop calculates the comm area by checking if the location point is in a comm area polygon and gives the comm area number.\n",
    "\n",
    "If the comm area number, the number 0.0 is given so we can exclude this row"
   ]
  },
  {
   "cell_type": "code",
   "execution_count": null,
   "metadata": {},
   "outputs": [],
   "source": [
    "print(len(c))\n",
    "count = 0\n",
    "for x in c :\n",
    "    if x == 0.0 :\n",
    "        count += 1\n",
    "    else :\n",
    "        pass\n",
    "print(count)"
   ]
  },
  {
   "cell_type": "code",
   "execution_count": null,
   "metadata": {},
   "outputs": [],
   "source": [
    "crime['Comm Area'] = c\n",
    "crime.head(3)"
   ]
  },
  {
   "cell_type": "code",
   "execution_count": null,
   "metadata": {},
   "outputs": [],
   "source": [
    "for x in crime.columns :\n",
    "    print(x + ' : ' + str(crime[x].isnull().values.any()) + ' --> ' + str(crime[x].isnull().sum()))"
   ]
  },
  {
   "cell_type": "markdown",
   "metadata": {},
   "source": [
    "Here we are looking at the missing values. Most of the missing data are part of the location's columns. The `Block` column contains anonymized addresses (\"XX\"). By replacing the XX by 00 we already can get an approximative position of where the crimes took place."
   ]
  },
  {
   "cell_type": "code",
   "execution_count": null,
   "metadata": {},
   "outputs": [],
   "source": [
    "def block_approx(address) :\n",
    "    return address.replace('XX','00')"
   ]
  },
  {
   "cell_type": "code",
   "execution_count": null,
   "metadata": {},
   "outputs": [],
   "source": [
    "crime.Block = crime.Block.apply(block_approx)"
   ]
  },
  {
   "cell_type": "code",
   "execution_count": null,
   "metadata": {},
   "outputs": [],
   "source": [
    "print(set(crime['Primary Type']))"
   ]
  },
  {
   "cell_type": "markdown",
   "metadata": {},
   "source": [
    "We print all the `Primary Type` of crimes in order to create a dictionary with every crime type keyed with their minimum sentence in terms of a year of imprisonment. -- More details below."
   ]
  },
  {
   "cell_type": "code",
   "execution_count": null,
   "metadata": {},
   "outputs": [],
   "source": [
    "crime_penalty = {'PROSTITUTION' : 0.1, 'DOMESTIC VIOLENCE' : 0.1, 'MOTOR VEHICLE THEFT' : 3.0, 'ASSAULT' : 0.1, 'OFFENSE INVOLVING CHILDREN' : 0.1,\\\n",
    "                 'RITUALISM' : 0.1, 'BATTERY' : 0.1, 'NON-CRIMINAL (SUBJECT SPECIFIED)' : 0.1, 'CRIM SEXUAL ASSAULT' : 4.0, 'GAMBLING' : 0.1,\\\n",
    "                 'PUBLIC INDECENCY' : 0.1, 'OTHER OFFENSE' : 0.1, 'LIQUOR LAW VIOLATION' : 0.1, 'OTHER NARCOTIC VIOLATION' : 0.1, 'OBSCENITY' : 0.1,\\\n",
    "                 'NON-CRIMINAL' : 0.1, 'KIDNAPPING' : 3.0, 'HOMICIDE' : 20.0, 'NARCOTICS' : 0.1, 'ARSON' : 6.0, 'DECEPTIVE PRACTICE' : 0.1, 'ROBBERY' : 3.0,\\\n",
    "                 'BURGLARY' : 3.0, 'NON - CRIMINAL' : 0.1, 'INTIMIDATION' : 2.0, 'HUMAN TRAFFICKING' : 4.0, 'SEX OFFENSE' : 4.0, 'CRIMINAL TRESPASS' : 0.1,\\\n",
    "                 'CONCEALED CARRY LICENSE VIOLATION' : 2.0, 'CRIMINAL DAMAGE' : 1.0, 'INTERFERENCE WITH PUBLIC OFFICER' : 0.1, 'PUBLIC PEACE VIOLATION' : 0.1,\\\n",
    "                 'WEAPONS VIOLATION' : 0.1, 'THEFT' : 0.1, 'STALKING' : 0.1}"
   ]
  },
  {
   "cell_type": "markdown",
   "metadata": {},
   "source": [
    "To make the *crime_penalty* dictionary, we checked the minimum prison penalty (in years) for each crime types. For the crime where the penalty is less than 1 year, the value is fixed at 0.1 when no prison is needed, and the score in month (6 months = 0.5) if a minmum prison penalty is given in months.\n",
    "\n",
    "These values are taken from the **Illinois Penalty Code**."
   ]
  },
  {
   "cell_type": "code",
   "execution_count": null,
   "metadata": {},
   "outputs": [],
   "source": [
    "Primary_Type = []\n",
    "for x in crime['Primary Type'] :\n",
    "    if x == 'NON-CRIMINAL (SUBJECT SPECIFIED)' or x == 'NON - CRIMINAL' :\n",
    "        Primary_Type.append('NON-CRIMINAL')\n",
    "    else :\n",
    "        Primary_Type.append(x)\n",
    "        \n",
    "crime['Primary_Type'] = Primary_Type"
   ]
  },
  {
   "cell_type": "markdown",
   "metadata": {},
   "source": [
    "Here we group all the NON-CRIMINAL values under one label (3 label before)"
   ]
  },
  {
   "cell_type": "code",
   "execution_count": null,
   "metadata": {},
   "outputs": [],
   "source": [
    "crimescore = []\n",
    "for x in crime['Primary_Type'] :\n",
    "    crimescore.append(crime_penalty[x])\n",
    "crime['crimescore'] = crimescore"
   ]
  },
  {
   "cell_type": "markdown",
   "metadata": {},
   "source": [
    "Here we create a new column with the crimescore for each row associated with the correspondat Primary type crime."
   ]
  },
  {
   "cell_type": "code",
   "execution_count": null,
   "metadata": {},
   "outputs": [],
   "source": [
    "crime.head(3)"
   ]
  },
  {
   "cell_type": "code",
   "execution_count": null,
   "metadata": {},
   "outputs": [],
   "source": [
    "crimetest = pd.DataFrame()\n",
    "crimetest['Community Area'] = crime['Comm Area']\n",
    "crimetest['crimescore'] = crime['crimescore']\n",
    "\n",
    "crimetest.head(3)"
   ]
  },
  {
   "cell_type": "markdown",
   "metadata": {},
   "source": [
    "Here we select the community area and the crimescore area in order to calculate the crimescore for each community area."
   ]
  },
  {
   "cell_type": "code",
   "execution_count": null,
   "metadata": {},
   "outputs": [],
   "source": [
    "crime_CA = crimetest.groupby('Community Area').sum()\n",
    "\n",
    "crime_CA"
   ]
  },
  {
   "cell_type": "markdown",
   "metadata": {},
   "source": [
    "Here we have the DataFrame interesting us : \n",
    "\n",
    "- Community area | Crimescore\n",
    "\n",
    "Using this DataFrame, we'll be able to see if there is a correlation between restaurant quality and crime in Chicago."
   ]
  },
  {
   "cell_type": "markdown",
   "metadata": {},
   "source": [
    "# Can the data bring us answer to our questions ?"
   ]
  },
  {
   "cell_type": "markdown",
   "metadata": {},
   "source": [
    "We think so, All the informations we need to make the different analysis are in the 3 datasets. For the healthiness of the restaurants and in the different community area, all the data are in the food inspections dataframe.\n",
    "\n",
    "For the analysis about the different owners of different facilities, all the informations needed were processed and are in the license dataset.\n",
    "\n",
    "And for the crime related analysis, the informations were processed and we have all we need in the crime dataset."
   ]
  },
  {
   "cell_type": "markdown",
   "metadata": {},
   "source": [
    "# What comes next ?"
   ]
  },
  {
   "cell_type": "markdown",
   "metadata": {},
   "source": [
    "We'll first start to get deeper into the analysis, and maybe come back to modify or arrange the data one last time according to our needs.\n",
    "\n",
    "When the analysis will be completed, we'll start to get to the visualization : What is the best way to present our results ? Is the map still a good visualization ? How to handle the map ?\n",
    "\n",
    "Then we'll finally report our results, and start preparing the presentation."
   ]
  },
  {
   "cell_type": "markdown",
   "metadata": {},
   "source": [
    "# Hypothesis ?"
   ]
  },
  {
   "cell_type": "markdown",
   "metadata": {},
   "source": [
    "Our first hypothesis is that the repartition of the unhealthy facilities are not randomly distributed, we think that these unhealthy facilities are concentrated in particular community areas.\n",
    "\n",
    "We think that the public facilities are usually healthier than private one. The hospital or public restaurants should have more restrictions that private one.\n",
    "\n",
    "We also make the hypothesis that owners having several facilities are usually more looking at the healthiness of their restaurants than the owner of only one restaurant.\n",
    "\n",
    "We finally make the hypothesis that the facilities placed in community areas with a lot of crimes are less inspected that other facilities. But when they're inspected, they may have a lower score than facilities placed in other places."
   ]
  },
  {
   "cell_type": "markdown",
   "metadata": {},
   "source": [
    "#### Assistants' comments :\n",
    "•\tmaybe instead of just copy-pasting a map from somewhere else try to incorporate it in your own style and plots\n",
    "\n",
    "•\tthe whole \"using a dict and then it's values\" works, but is far from an ideal choice. Try to find a pandas way. Data science in Python uses Pandas all the time, and thus is somewhat of the language you have to speak when you want to be a good data scientist.\n",
    "\n",
    "•\tw.r.t. Hypothesis: think again what dataset you have and what you have done with it. does having a dataset of food inspections give you a complete overview of where and if a restaurant exists? Justify this claim in your report/presentation.\n",
    "\n",
    "\n",
    "•\tin general:\n",
    "•\tgood work, but correct the above-mentioned points.\n",
    "•\tnice separation of work, quite easy to follow.\n",
    "•\tyou need to provide more structure\n",
    "•\ttry to define what you mean with healthiness sooner. I would assume you would use the type of food they serve, and not how many inspection violations they have. Definitions should be first thing you mention.\n",
    "•\tI would have liked to see more plots and visualisations, as they would also have helped you to see what you are doing. Don't start with visualisations at the end, data science is not a linear path, but more like a circle of iterations.\n"
   ]
  },
  {
   "cell_type": "code",
   "execution_count": null,
   "metadata": {},
   "outputs": [],
   "source": []
  },
  {
   "cell_type": "code",
   "execution_count": null,
   "metadata": {},
   "outputs": [],
   "source": []
  },
  {
   "cell_type": "code",
   "execution_count": null,
   "metadata": {},
   "outputs": [],
   "source": []
  },
  {
   "cell_type": "code",
   "execution_count": null,
   "metadata": {},
   "outputs": [],
   "source": []
  },
  {
   "cell_type": "code",
   "execution_count": null,
   "metadata": {},
   "outputs": [],
   "source": []
  },
  {
   "cell_type": "code",
   "execution_count": null,
   "metadata": {},
   "outputs": [],
   "source": []
  }
 ],
 "metadata": {
  "kernelspec": {
   "display_name": "Python 3",
   "language": "python",
   "name": "python3"
  },
  "language_info": {
   "codemirror_mode": {
    "name": "ipython",
    "version": 3
   },
   "file_extension": ".py",
   "mimetype": "text/x-python",
   "name": "python",
   "nbconvert_exporter": "python",
   "pygments_lexer": "ipython3",
   "version": "3.7.3"
  }
 },
 "nbformat": 4,
 "nbformat_minor": 4
}
