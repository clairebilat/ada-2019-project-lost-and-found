{
 "cells": [
  {
   "cell_type": "markdown",
   "metadata": {},
   "source": [
    "# Where can you eat safely in Chigago : an analysis based on the inspections reports from the Chicago department of Public Health's Food Protection Program.\n",
    "\n",
    "## 1. Introduction\n",
    "\n",
    "  The Chicago department of Public Health’s Food Protection Program provides a database which contains the information from inspection reports of restaurants and other food establishments in Chicago from 2010 to the present. It contains many informations about the establishments, like their type of facility (grocery stores, restaurants, coffee shop, …) and their locations. Many informations about the violations listed are also provided in the database, like the description of the findings that caused them and the reason that invoked the staff from the program to led an inspection.\n",
    "\n",
    "**The main research question is : Where can you eat safely in Chicago ?**\n",
    "\n",
    "The adjective `safely` is chosen wisely because it has multiple meanings : you can eat in a `safe` way making sure that the establishment where you go respects particular hygiene rules, but also that the place is `safe` according to the crime rate of its district.\n",
    "\n",
    "  To begin, it has been decided that the analysis of the data will be done temporally. Indeed, the field of restoration is known to be in a constant evolution : each year, many establishments are opening while other are closing or changing of owner - especially in big cities. \n",
    "This is why the different calculations and comparisons will be done by year. To answer the main question about where to eat in Chicago, the answer will be given based on the latest data.\n",
    "Also, a map visualization seems to be a good solution to diplay the results, as the analysis is spatio-temporal. \n",
    "\n",
    "\n",
    "### Hygiene Score\n",
    "\n",
    "The hygiene of the public and private food establishments listed in the dataset will be calculated using on a `hygiene score` based on the different violations reported and the final result of the inspection. In order to compare the places to eat by delimited zones, a mean will be computed by community area.\n",
    "  \n",
    "**Questions :** \n",
    "\n",
    "*Are their significant differences of hygiene scores between the community areas ?*\n",
    "\n",
    "*How is the evolution over time ?*\n",
    "  \n",
    "\n",
    "### A little study about Management\n",
    "\n",
    "Two datasets have been found, which contain the owner's et license's informations of Chicago establishments. It would be interesting to merge it with the first dataset in order to study the trends regarding the management of the establishments.\n",
    "  \n",
    "**Questions :**\n",
    "\n",
    "*Is their a relation between the number of establishments that an owner has and the hygiene scores obtained ?*\n",
    "\n",
    "*In which way a change of owner changes the hygiene score of an establishment ?*\n",
    "\n",
    "\n",
    "### Crime Score\n",
    "\n",
    "The Chicago Crime Report can be used in order to compute a `crime score` for each community area, following the same principle than in the first point. This way, it will be possible to compare the crime and hygiene scores according to the community areas.\n",
    "\n",
    "**Questions :**\n",
    "\n",
    "*Criminology domain*\n",
    "\n",
    "\n",
    "### Limits :\n",
    "\n",
    "An important point is to pay intention to the number of inspected establishments compared to the total number of establishments. It is certain than the variations of this ratio between the community areas has an impact on the results. An explanation of the variations should be purposed.\n",
    "In order to give a complete answer to the main research question, the uninspected establishments have to be taken into account.\n",
    "   \n",
    "\n",
    "### Definitions :\n",
    "\n",
    "Hygiene Rules : Food Code Rules\n",
    "\n",
    "Community Area :\n",
    "\n",
    "\n",
    "The purpose of the project is to help the consumer to easily choose where to eat in Chicago and to provide them an interactive and intuitive way to browse the different places offered to them. Also, it could help the Chicago department of Public Health’s Food Protection Program to adapt their methods relying on the situation described by the findings of the analysis (for example, if a prevention program should be proposed for a specific area or type of facility).\n",
    "\n",
    "\n",
    "---"
   ]
  },
  {
   "cell_type": "code",
   "execution_count": 1,
   "metadata": {},
   "outputs": [],
   "source": [
    "%matplotlib inline\n",
    "import pandas as pd\n",
    "import numpy as np\n",
    "import re\n",
    "from matplotlib.ticker import MaxNLocator\n",
    "import matplotlib.pyplot as plt\n",
    "import requests as req\n",
    "from bs4 import BeautifulSoup\n",
    "import seaborn as sns\n",
    "from shapely.geometry import Point\n",
    "from shapely.geometry.polygon import Polygon"
   ]
  },
  {
   "cell_type": "markdown",
   "metadata": {},
   "source": [
    "## 2. Preprocessing\n"
   ]
  },
  {
   "cell_type": "markdown",
   "metadata": {},
   "source": [
    "First a quick look at how the dataset is organized. "
   ]
  },
  {
   "cell_type": "code",
   "execution_count": 2,
   "metadata": {},
   "outputs": [
    {
     "data": {
      "text/html": [
       "<div>\n",
       "<style scoped>\n",
       "    .dataframe tbody tr th:only-of-type {\n",
       "        vertical-align: middle;\n",
       "    }\n",
       "\n",
       "    .dataframe tbody tr th {\n",
       "        vertical-align: top;\n",
       "    }\n",
       "\n",
       "    .dataframe thead th {\n",
       "        text-align: right;\n",
       "    }\n",
       "</style>\n",
       "<table border=\"1\" class=\"dataframe\">\n",
       "  <thead>\n",
       "    <tr style=\"text-align: right;\">\n",
       "      <th></th>\n",
       "      <th>Inspection ID</th>\n",
       "      <th>DBA Name</th>\n",
       "      <th>AKA Name</th>\n",
       "      <th>License #</th>\n",
       "      <th>Facility Type</th>\n",
       "      <th>Risk</th>\n",
       "      <th>Address</th>\n",
       "      <th>City</th>\n",
       "      <th>State</th>\n",
       "      <th>Zip</th>\n",
       "      <th>...</th>\n",
       "      <th>Results</th>\n",
       "      <th>Violations</th>\n",
       "      <th>Latitude</th>\n",
       "      <th>Longitude</th>\n",
       "      <th>Location</th>\n",
       "      <th>Historical Wards 2003-2015</th>\n",
       "      <th>Zip Codes</th>\n",
       "      <th>Community Areas</th>\n",
       "      <th>Census Tracts</th>\n",
       "      <th>Wards</th>\n",
       "    </tr>\n",
       "  </thead>\n",
       "  <tbody>\n",
       "    <tr>\n",
       "      <td>0</td>\n",
       "      <td>2352683</td>\n",
       "      <td>CHIPOTLE MEXICAN GRILL</td>\n",
       "      <td>CHIPOTLE MEXICAN GRILL</td>\n",
       "      <td>2670642.0</td>\n",
       "      <td>Restaurant</td>\n",
       "      <td>Risk 1 (High)</td>\n",
       "      <td>1025 W ADDISON ST</td>\n",
       "      <td>CHICAGO</td>\n",
       "      <td>IL</td>\n",
       "      <td>60613.0</td>\n",
       "      <td>...</td>\n",
       "      <td>Pass w/ Conditions</td>\n",
       "      <td>3. MANAGEMENT, FOOD EMPLOYEE AND CONDITIONAL E...</td>\n",
       "      <td>41.947118</td>\n",
       "      <td>-87.655381</td>\n",
       "      <td>{'latitude': '-87.6553811622124', 'longitude':...</td>\n",
       "      <td>NaN</td>\n",
       "      <td>NaN</td>\n",
       "      <td>NaN</td>\n",
       "      <td>NaN</td>\n",
       "      <td>NaN</td>\n",
       "    </tr>\n",
       "    <tr>\n",
       "      <td>1</td>\n",
       "      <td>2352734</td>\n",
       "      <td>CHILI'S T-I</td>\n",
       "      <td>CHILI'S (T1-B14)</td>\n",
       "      <td>34169.0</td>\n",
       "      <td>Restaurant</td>\n",
       "      <td>Risk 1 (High)</td>\n",
       "      <td>11601 W TOUHY AVE</td>\n",
       "      <td>CHICAGO</td>\n",
       "      <td>IL</td>\n",
       "      <td>60666.0</td>\n",
       "      <td>...</td>\n",
       "      <td>Pass</td>\n",
       "      <td>10. ADEQUATE HANDWASHING SINKS PROPERLY SUPPLI...</td>\n",
       "      <td>42.008536</td>\n",
       "      <td>-87.914428</td>\n",
       "      <td>{'latitude': '-87.91442843927047', 'longitude'...</td>\n",
       "      <td>NaN</td>\n",
       "      <td>NaN</td>\n",
       "      <td>NaN</td>\n",
       "      <td>NaN</td>\n",
       "      <td>NaN</td>\n",
       "    </tr>\n",
       "    <tr>\n",
       "      <td>2</td>\n",
       "      <td>2352713</td>\n",
       "      <td>NICK'S FIRE GRILL STEAK &amp; LEMONADE INC.</td>\n",
       "      <td>NICK'S FIRE GRILL STEAK &amp; LEMONADE INC.</td>\n",
       "      <td>2699090.0</td>\n",
       "      <td>NaN</td>\n",
       "      <td>Risk 1 (High)</td>\n",
       "      <td>2900 W 63RD ST</td>\n",
       "      <td>CHICAGO</td>\n",
       "      <td>IL</td>\n",
       "      <td>60629.0</td>\n",
       "      <td>...</td>\n",
       "      <td>Not Ready</td>\n",
       "      <td>NaN</td>\n",
       "      <td>41.779190</td>\n",
       "      <td>-87.695892</td>\n",
       "      <td>{'latitude': '-87.69589237398256', 'longitude'...</td>\n",
       "      <td>NaN</td>\n",
       "      <td>NaN</td>\n",
       "      <td>NaN</td>\n",
       "      <td>NaN</td>\n",
       "      <td>NaN</td>\n",
       "    </tr>\n",
       "  </tbody>\n",
       "</table>\n",
       "<p>3 rows × 22 columns</p>\n",
       "</div>"
      ],
      "text/plain": [
       "   Inspection ID                                 DBA Name  \\\n",
       "0        2352683                   CHIPOTLE MEXICAN GRILL   \n",
       "1        2352734                              CHILI'S T-I   \n",
       "2        2352713  NICK'S FIRE GRILL STEAK & LEMONADE INC.   \n",
       "\n",
       "                                  AKA Name  License # Facility Type  \\\n",
       "0                   CHIPOTLE MEXICAN GRILL  2670642.0    Restaurant   \n",
       "1                         CHILI'S (T1-B14)    34169.0    Restaurant   \n",
       "2  NICK'S FIRE GRILL STEAK & LEMONADE INC.  2699090.0           NaN   \n",
       "\n",
       "            Risk             Address     City State      Zip  ...  \\\n",
       "0  Risk 1 (High)  1025 W ADDISON ST   CHICAGO    IL  60613.0  ...   \n",
       "1  Risk 1 (High)  11601 W TOUHY AVE   CHICAGO    IL  60666.0  ...   \n",
       "2  Risk 1 (High)     2900 W 63RD ST   CHICAGO    IL  60629.0  ...   \n",
       "\n",
       "              Results                                         Violations  \\\n",
       "0  Pass w/ Conditions  3. MANAGEMENT, FOOD EMPLOYEE AND CONDITIONAL E...   \n",
       "1                Pass  10. ADEQUATE HANDWASHING SINKS PROPERLY SUPPLI...   \n",
       "2           Not Ready                                                NaN   \n",
       "\n",
       "    Latitude  Longitude                                           Location  \\\n",
       "0  41.947118 -87.655381  {'latitude': '-87.6553811622124', 'longitude':...   \n",
       "1  42.008536 -87.914428  {'latitude': '-87.91442843927047', 'longitude'...   \n",
       "2  41.779190 -87.695892  {'latitude': '-87.69589237398256', 'longitude'...   \n",
       "\n",
       "   Historical Wards 2003-2015 Zip Codes  Community Areas  Census Tracts  Wards  \n",
       "0                         NaN       NaN              NaN            NaN    NaN  \n",
       "1                         NaN       NaN              NaN            NaN    NaN  \n",
       "2                         NaN       NaN              NaN            NaN    NaN  \n",
       "\n",
       "[3 rows x 22 columns]"
      ]
     },
     "execution_count": 2,
     "metadata": {},
     "output_type": "execute_result"
    }
   ],
   "source": [
    "eat_seat = pd.read_csv('food-inspections.csv',sep=',') #creation of the dataframe\n",
    "eat_seat.head(3)"
   ]
  },
  {
   "cell_type": "code",
   "execution_count": 3,
   "metadata": {},
   "outputs": [
    {
     "name": "stdout",
     "output_type": "stream",
     "text": [
      "<class 'pandas.core.frame.DataFrame'>\n",
      "RangeIndex: 196825 entries, 0 to 196824\n",
      "Data columns (total 22 columns):\n",
      "Inspection ID                 196825 non-null int64\n",
      "DBA Name                      196825 non-null object\n",
      "AKA Name                      194367 non-null object\n",
      "License #                     196808 non-null float64\n",
      "Facility Type                 192057 non-null object\n",
      "Risk                          196756 non-null object\n",
      "Address                       196825 non-null object\n",
      "City                          196686 non-null object\n",
      "State                         196783 non-null object\n",
      "Zip                           196775 non-null float64\n",
      "Inspection Date               196825 non-null object\n",
      "Inspection Type               196824 non-null object\n",
      "Results                       196825 non-null object\n",
      "Violations                    144559 non-null object\n",
      "Latitude                      196135 non-null float64\n",
      "Longitude                     196135 non-null float64\n",
      "Location                      196135 non-null object\n",
      "Historical Wards 2003-2015    0 non-null float64\n",
      "Zip Codes                     0 non-null float64\n",
      "Community Areas               0 non-null float64\n",
      "Census Tracts                 0 non-null float64\n",
      "Wards                         0 non-null float64\n",
      "dtypes: float64(9), int64(1), object(12)\n",
      "memory usage: 33.0+ MB\n"
     ]
    }
   ],
   "source": [
    "eat_seat.info()"
   ]
  },
  {
   "cell_type": "markdown",
   "metadata": {},
   "source": [
    "The dataset contains :\n",
    "- 195'312 entries\n",
    "- 22 columns (listed above)"
   ]
  },
  {
   "cell_type": "markdown",
   "metadata": {},
   "source": [
    "### 2.1 Columns Cleaning"
   ]
  },
  {
   "cell_type": "markdown",
   "metadata": {},
   "source": [
    "### Duplicates management\n",
    "\n",
    "To begin, it is primary to check if there are duplicates and, if so, decide how to handle them."
   ]
  },
  {
   "cell_type": "code",
   "execution_count": 4,
   "metadata": {},
   "outputs": [
    {
     "data": {
      "text/plain": [
       "298"
      ]
     },
     "execution_count": 4,
     "metadata": {},
     "output_type": "execute_result"
    }
   ],
   "source": [
    "duplicates = eat_seat[eat_seat.duplicated(subset=None, keep=False)]\n",
    "len(duplicates)"
   ]
  },
  {
   "cell_type": "markdown",
   "metadata": {},
   "source": [
    "It is not realistic that two rows contain the exact same cells : two inspections cannot happen at the same time, the explanation is that one is the duplicate of the other.\n",
    "Considering this postulate, we can drop the duplicates. "
   ]
  },
  {
   "cell_type": "code",
   "execution_count": 5,
   "metadata": {},
   "outputs": [],
   "source": [
    "eat_seat = eat_seat.drop_duplicates()"
   ]
  },
  {
   "cell_type": "code",
   "execution_count": 6,
   "metadata": {},
   "outputs": [
    {
     "data": {
      "text/plain": [
       "196676"
      ]
     },
     "execution_count": 6,
     "metadata": {},
     "output_type": "execute_result"
    }
   ],
   "source": [
    "len(eat_seat)"
   ]
  },
  {
   "cell_type": "markdown",
   "metadata": {},
   "source": [
    "### Missing and useless values"
   ]
  },
  {
   "cell_type": "markdown",
   "metadata": {},
   "source": [
    "Now, we want to see which values are missing."
   ]
  },
  {
   "cell_type": "code",
   "execution_count": 7,
   "metadata": {},
   "outputs": [
    {
     "data": {
      "text/plain": [
       "Inspection ID                      0\n",
       "DBA Name                           0\n",
       "AKA Name                        2457\n",
       "License #                         17\n",
       "Facility Type                   4768\n",
       "Risk                              69\n",
       "Address                            0\n",
       "City                             139\n",
       "State                             42\n",
       "Zip                               50\n",
       "Inspection Date                    0\n",
       "Inspection Type                    1\n",
       "Results                            0\n",
       "Violations                     52234\n",
       "Latitude                         689\n",
       "Longitude                        689\n",
       "Location                         689\n",
       "Historical Wards 2003-2015    196676\n",
       "Zip Codes                     196676\n",
       "Community Areas               196676\n",
       "Census Tracts                 196676\n",
       "Wards                         196676\n",
       "dtype: int64"
      ]
     },
     "execution_count": 7,
     "metadata": {},
     "output_type": "execute_result"
    }
   ],
   "source": [
    "eat_seat.isnull().sum()"
   ]
  },
  {
   "cell_type": "code",
   "execution_count": 8,
   "metadata": {},
   "outputs": [
    {
     "data": {
      "image/png": "[encoded data removed]",
      "text/plain": [
       "<Figure size 432x288 with 1 Axes>"
      ]
     },
     "metadata": {
      "needs_background": "light"
     },
     "output_type": "display_data"
    }
   ],
   "source": [
    "preview = pd.DataFrame(eat_seat.isnull().sum()).plot.barh(title = 'Missing Values by Columns')"
   ]
  },
  {
   "cell_type": "markdown",
   "metadata": {},
   "source": [
    "As we can see, the columns `Historical Wards 2003-2015`, `Zip Codes`, `Community Areas`, `Census Tracts` and `Wards` are empty and will be dropped.\n",
    "\n",
    "We will only be using the `DBA Name` (the name under which the establishment is doing business ; DBA = doing business as), so we drop the `AKA Name` column too.\n",
    "\n",
    "Also, we will use the `Latitude` and `Longitude` in our analysis, so we can drop de `Location`, `Zip`, `City` and `State` columns too. `Address` column is kept because it can help us to notice some inconsistencies."
   ]
  },
  {
   "cell_type": "code",
   "execution_count": 9,
   "metadata": {},
   "outputs": [
    {
     "data": {
      "text/html": [
       "<div>\n",
       "<style scoped>\n",
       "    .dataframe tbody tr th:only-of-type {\n",
       "        vertical-align: middle;\n",
       "    }\n",
       "\n",
       "    .dataframe tbody tr th {\n",
       "        vertical-align: top;\n",
       "    }\n",
       "\n",
       "    .dataframe thead th {\n",
       "        text-align: right;\n",
       "    }\n",
       "</style>\n",
       "<table border=\"1\" class=\"dataframe\">\n",
       "  <thead>\n",
       "    <tr style=\"text-align: right;\">\n",
       "      <th></th>\n",
       "      <th>Inspection ID</th>\n",
       "      <th>DBA Name</th>\n",
       "      <th>License #</th>\n",
       "      <th>Facility Type</th>\n",
       "      <th>Risk</th>\n",
       "      <th>Address</th>\n",
       "      <th>Inspection Date</th>\n",
       "      <th>Inspection Type</th>\n",
       "      <th>Results</th>\n",
       "      <th>Violations</th>\n",
       "      <th>Latitude</th>\n",
       "      <th>Longitude</th>\n",
       "    </tr>\n",
       "  </thead>\n",
       "  <tbody>\n",
       "    <tr>\n",
       "      <td>0</td>\n",
       "      <td>2352683</td>\n",
       "      <td>CHIPOTLE MEXICAN GRILL</td>\n",
       "      <td>2670642.0</td>\n",
       "      <td>Restaurant</td>\n",
       "      <td>Risk 1 (High)</td>\n",
       "      <td>1025 W ADDISON ST</td>\n",
       "      <td>2019-12-04T00:00:00.000</td>\n",
       "      <td>License Re-Inspection</td>\n",
       "      <td>Pass w/ Conditions</td>\n",
       "      <td>3. MANAGEMENT, FOOD EMPLOYEE AND CONDITIONAL E...</td>\n",
       "      <td>41.947118</td>\n",
       "      <td>-87.655381</td>\n",
       "    </tr>\n",
       "    <tr>\n",
       "      <td>1</td>\n",
       "      <td>2352734</td>\n",
       "      <td>CHILI'S T-I</td>\n",
       "      <td>34169.0</td>\n",
       "      <td>Restaurant</td>\n",
       "      <td>Risk 1 (High)</td>\n",
       "      <td>11601 W TOUHY AVE</td>\n",
       "      <td>2019-12-04T00:00:00.000</td>\n",
       "      <td>Canvass</td>\n",
       "      <td>Pass</td>\n",
       "      <td>10. ADEQUATE HANDWASHING SINKS PROPERLY SUPPLI...</td>\n",
       "      <td>42.008536</td>\n",
       "      <td>-87.914428</td>\n",
       "    </tr>\n",
       "  </tbody>\n",
       "</table>\n",
       "</div>"
      ],
      "text/plain": [
       "   Inspection ID                DBA Name  License # Facility Type  \\\n",
       "0        2352683  CHIPOTLE MEXICAN GRILL  2670642.0    Restaurant   \n",
       "1        2352734             CHILI'S T-I    34169.0    Restaurant   \n",
       "\n",
       "            Risk             Address          Inspection Date  \\\n",
       "0  Risk 1 (High)  1025 W ADDISON ST   2019-12-04T00:00:00.000   \n",
       "1  Risk 1 (High)  11601 W TOUHY AVE   2019-12-04T00:00:00.000   \n",
       "\n",
       "         Inspection Type             Results  \\\n",
       "0  License Re-Inspection  Pass w/ Conditions   \n",
       "1                Canvass                Pass   \n",
       "\n",
       "                                          Violations   Latitude  Longitude  \n",
       "0  3. MANAGEMENT, FOOD EMPLOYEE AND CONDITIONAL E...  41.947118 -87.655381  \n",
       "1  10. ADEQUATE HANDWASHING SINKS PROPERLY SUPPLI...  42.008536 -87.914428  "
      ]
     },
     "execution_count": 9,
     "metadata": {},
     "output_type": "execute_result"
    }
   ],
   "source": [
    "eat_seat = eat_seat.drop(columns = ['AKA Name','Historical Wards 2003-2015', 'Zip Codes', 'Community Areas',\\\n",
    "                                    'Census Tracts', 'Location', 'Wards', 'City', 'State', 'Zip'])\n",
    "eat_seat.head(2)"
   ]
  },
  {
   "cell_type": "markdown",
   "metadata": {},
   "source": [
    "#### Assistants' comments :\n",
    "•\tIf you want to cast columns to a certain type, prefer\n",
    "\n",
    "pandas.to_numeric\n",
    "\n",
    "**J'ai essayé mais ça n'enlève pas le .0 qui est notre seul objectif maintenant, du coup petit fonction qui retourne ce qu'on veut. Mais ça joue pas je sais pas pourquoi**\n",
    " \n",
    "\n",
    "same for using findall (pandas.Series.str.findall)"
   ]
  },
  {
   "cell_type": "markdown",
   "metadata": {},
   "source": [
    "### Type Casting\n",
    "\n",
    "In order to standardize the data, the numbers in the `License` column are converted into integer."
   ]
  },
  {
   "cell_type": "code",
   "execution_count": 10,
   "metadata": {},
   "outputs": [],
   "source": [
    "eat_seat['License #'] = pd.to_numeric(eat_seat['License #'], downcast= 'integer')"
   ]
  },
  {
   "cell_type": "code",
   "execution_count": 11,
   "metadata": {},
   "outputs": [],
   "source": [
    "def nbestethic(nb) :\n",
    "    try :\n",
    "        return int(nb)\n",
    "    except :\n",
    "        print(nb)\n",
    "        return nb"
   ]
  },
  {
   "cell_type": "code",
   "execution_count": 12,
   "metadata": {},
   "outputs": [
    {
     "name": "stdout",
     "output_type": "stream",
     "text": [
      "nan\n",
      "nan\n",
      "nan\n",
      "nan\n",
      "nan\n",
      "nan\n",
      "nan\n",
      "nan\n",
      "nan\n",
      "nan\n",
      "nan\n",
      "nan\n",
      "nan\n",
      "nan\n",
      "nan\n",
      "nan\n",
      "nan\n"
     ]
    },
    {
     "data": {
      "text/html": [
       "<div>\n",
       "<style scoped>\n",
       "    .dataframe tbody tr th:only-of-type {\n",
       "        vertical-align: middle;\n",
       "    }\n",
       "\n",
       "    .dataframe tbody tr th {\n",
       "        vertical-align: top;\n",
       "    }\n",
       "\n",
       "    .dataframe thead th {\n",
       "        text-align: right;\n",
       "    }\n",
       "</style>\n",
       "<table border=\"1\" class=\"dataframe\">\n",
       "  <thead>\n",
       "    <tr style=\"text-align: right;\">\n",
       "      <th></th>\n",
       "      <th>Inspection ID</th>\n",
       "      <th>DBA Name</th>\n",
       "      <th>License #</th>\n",
       "      <th>Facility Type</th>\n",
       "      <th>Risk</th>\n",
       "      <th>Address</th>\n",
       "      <th>Inspection Date</th>\n",
       "      <th>Inspection Type</th>\n",
       "      <th>Results</th>\n",
       "      <th>Violations</th>\n",
       "      <th>Latitude</th>\n",
       "      <th>Longitude</th>\n",
       "    </tr>\n",
       "  </thead>\n",
       "  <tbody>\n",
       "    <tr>\n",
       "      <td>0</td>\n",
       "      <td>2352683</td>\n",
       "      <td>CHIPOTLE MEXICAN GRILL</td>\n",
       "      <td>2670642.0</td>\n",
       "      <td>Restaurant</td>\n",
       "      <td>Risk 1 (High)</td>\n",
       "      <td>1025 W ADDISON ST</td>\n",
       "      <td>2019-12-04T00:00:00.000</td>\n",
       "      <td>License Re-Inspection</td>\n",
       "      <td>Pass w/ Conditions</td>\n",
       "      <td>3. MANAGEMENT, FOOD EMPLOYEE AND CONDITIONAL E...</td>\n",
       "      <td>41.947118</td>\n",
       "      <td>-87.655381</td>\n",
       "    </tr>\n",
       "    <tr>\n",
       "      <td>1</td>\n",
       "      <td>2352734</td>\n",
       "      <td>CHILI'S T-I</td>\n",
       "      <td>34169.0</td>\n",
       "      <td>Restaurant</td>\n",
       "      <td>Risk 1 (High)</td>\n",
       "      <td>11601 W TOUHY AVE</td>\n",
       "      <td>2019-12-04T00:00:00.000</td>\n",
       "      <td>Canvass</td>\n",
       "      <td>Pass</td>\n",
       "      <td>10. ADEQUATE HANDWASHING SINKS PROPERLY SUPPLI...</td>\n",
       "      <td>42.008536</td>\n",
       "      <td>-87.914428</td>\n",
       "    </tr>\n",
       "  </tbody>\n",
       "</table>\n",
       "</div>"
      ],
      "text/plain": [
       "   Inspection ID                DBA Name  License # Facility Type  \\\n",
       "0        2352683  CHIPOTLE MEXICAN GRILL  2670642.0    Restaurant   \n",
       "1        2352734             CHILI'S T-I    34169.0    Restaurant   \n",
       "\n",
       "            Risk             Address          Inspection Date  \\\n",
       "0  Risk 1 (High)  1025 W ADDISON ST   2019-12-04T00:00:00.000   \n",
       "1  Risk 1 (High)  11601 W TOUHY AVE   2019-12-04T00:00:00.000   \n",
       "\n",
       "         Inspection Type             Results  \\\n",
       "0  License Re-Inspection  Pass w/ Conditions   \n",
       "1                Canvass                Pass   \n",
       "\n",
       "                                          Violations   Latitude  Longitude  \n",
       "0  3. MANAGEMENT, FOOD EMPLOYEE AND CONDITIONAL E...  41.947118 -87.655381  \n",
       "1  10. ADEQUATE HANDWASHING SINKS PROPERLY SUPPLI...  42.008536 -87.914428  "
      ]
     },
     "execution_count": 12,
     "metadata": {},
     "output_type": "execute_result"
    }
   ],
   "source": [
    "eat_seat['License #'] = eat_seat['License #'].apply(nbestethic)\n",
    "eat_seat.head(2)"
   ]
  },
  {
   "cell_type": "markdown",
   "metadata": {},
   "source": [
    "### Inspection date and Risk"
   ]
  },
  {
   "cell_type": "markdown",
   "metadata": {},
   "source": [
    "There are also adjustments to make in the following columns, because the formats can be optimized :\n",
    "\n",
    "* In `Inspection Date`, only the day will be kept, not the time of day that is actually not given\n",
    "* In `Risk`, only the number will remain"
   ]
  },
  {
   "cell_type": "code",
   "execution_count": 13,
   "metadata": {},
   "outputs": [],
   "source": [
    "#pandas.to_datetime(arg, errors='raise', dayfirst=False, yearfirst=False, utc=None, box=True, \n",
    "#format=None, exact=True, unit=None, infer_datetime_format=False, origin='unix', cache=True)\n",
    "\n",
    "eat_seat['Inspection Date'] = eat_seat['Inspection Date'].apply(lambda x:x.split('T')[0])"
   ]
  },
  {
   "cell_type": "code",
   "execution_count": 14,
   "metadata": {},
   "outputs": [],
   "source": [
    "from datetime import datetime, date, time"
   ]
  },
  {
   "cell_type": "code",
   "execution_count": 15,
   "metadata": {},
   "outputs": [],
   "source": [
    "eat_seat['Inspection Date'] = eat_seat['Inspection Date'].apply(lambda x:datetime.strptime(x, '%Y-%m-%d'))"
   ]
  },
  {
   "cell_type": "code",
   "execution_count": 16,
   "metadata": {},
   "outputs": [
    {
     "data": {
      "text/plain": [
       "Text(0, 0.5, '#Inspections')"
      ]
     },
     "execution_count": 16,
     "metadata": {},
     "output_type": "execute_result"
    },
    {
     "data": {
      "image/png": "[encoded data removed]",
      "text/plain": [
       "<Figure size 432x288 with 1 Axes>"
      ]
     },
     "metadata": {
      "needs_background": "light"
     },
     "output_type": "display_data"
    }
   ],
   "source": [
    "def inspection_per_year(dblp):\n",
    "    return dblp[['Inspection Date', 'Inspection ID']].groupby('Inspection Date').count()\n",
    "\n",
    "ax = inspection_per_year(eat_seat).plot(rot=-45)\n",
    "ax.set_xlabel('Year')\n",
    "ax.set_ylabel('#Inspections')"
   ]
  },
  {
   "cell_type": "code",
   "execution_count": 17,
   "metadata": {},
   "outputs": [
    {
     "data": {
      "text/plain": [
       "0"
      ]
     },
     "execution_count": 17,
     "metadata": {},
     "output_type": "execute_result"
    }
   ],
   "source": [
    "len(eat_seat[eat_seat['Inspection Date'].isnull()])"
   ]
  },
  {
   "cell_type": "markdown",
   "metadata": {},
   "source": [
    "We see in this graph that all the `Inspection Date` are between 2011 and 2019, which makes sense. Also, there is no missing inspection date. This column is now cleaned.\n",
    "\n",
    "For the `Risk` column, we first want to check what types of risk are listed."
   ]
  },
  {
   "cell_type": "code",
   "execution_count": 18,
   "metadata": {},
   "outputs": [
    {
     "data": {
      "text/plain": [
       "array(['Risk 1 (High)', 'Risk 3 (Low)', 'Risk 2 (Medium)', 'All', nan],\n",
       "      dtype=object)"
      ]
     },
     "execution_count": 18,
     "metadata": {},
     "output_type": "execute_result"
    }
   ],
   "source": [
    "eat_seat.Risk.unique()"
   ]
  },
  {
   "cell_type": "markdown",
   "metadata": {},
   "source": [
    "We will replace **All** and **High Risk** by *3*, **Medium Risk** by *2* and **Low Risk** by *1*."
   ]
  },
  {
   "cell_type": "code",
   "execution_count": 19,
   "metadata": {},
   "outputs": [
    {
     "data": {
      "text/html": [
       "<div>\n",
       "<style scoped>\n",
       "    .dataframe tbody tr th:only-of-type {\n",
       "        vertical-align: middle;\n",
       "    }\n",
       "\n",
       "    .dataframe tbody tr th {\n",
       "        vertical-align: top;\n",
       "    }\n",
       "\n",
       "    .dataframe thead th {\n",
       "        text-align: right;\n",
       "    }\n",
       "</style>\n",
       "<table border=\"1\" class=\"dataframe\">\n",
       "  <thead>\n",
       "    <tr style=\"text-align: right;\">\n",
       "      <th></th>\n",
       "      <th>Inspection ID</th>\n",
       "      <th>DBA Name</th>\n",
       "      <th>License #</th>\n",
       "      <th>Facility Type</th>\n",
       "      <th>Risk</th>\n",
       "      <th>Address</th>\n",
       "      <th>Inspection Date</th>\n",
       "      <th>Inspection Type</th>\n",
       "      <th>Results</th>\n",
       "      <th>Violations</th>\n",
       "      <th>Latitude</th>\n",
       "      <th>Longitude</th>\n",
       "    </tr>\n",
       "  </thead>\n",
       "  <tbody>\n",
       "    <tr>\n",
       "      <td>0</td>\n",
       "      <td>2352683</td>\n",
       "      <td>CHIPOTLE MEXICAN GRILL</td>\n",
       "      <td>2670642.0</td>\n",
       "      <td>Restaurant</td>\n",
       "      <td>3.0</td>\n",
       "      <td>1025 W ADDISON ST</td>\n",
       "      <td>2019-12-04</td>\n",
       "      <td>License Re-Inspection</td>\n",
       "      <td>Pass w/ Conditions</td>\n",
       "      <td>3. MANAGEMENT, FOOD EMPLOYEE AND CONDITIONAL E...</td>\n",
       "      <td>41.947118</td>\n",
       "      <td>-87.655381</td>\n",
       "    </tr>\n",
       "    <tr>\n",
       "      <td>1</td>\n",
       "      <td>2352734</td>\n",
       "      <td>CHILI'S T-I</td>\n",
       "      <td>34169.0</td>\n",
       "      <td>Restaurant</td>\n",
       "      <td>3.0</td>\n",
       "      <td>11601 W TOUHY AVE</td>\n",
       "      <td>2019-12-04</td>\n",
       "      <td>Canvass</td>\n",
       "      <td>Pass</td>\n",
       "      <td>10. ADEQUATE HANDWASHING SINKS PROPERLY SUPPLI...</td>\n",
       "      <td>42.008536</td>\n",
       "      <td>-87.914428</td>\n",
       "    </tr>\n",
       "    <tr>\n",
       "      <td>2</td>\n",
       "      <td>2352713</td>\n",
       "      <td>NICK'S FIRE GRILL STEAK &amp; LEMONADE INC.</td>\n",
       "      <td>2699090.0</td>\n",
       "      <td>NaN</td>\n",
       "      <td>3.0</td>\n",
       "      <td>2900 W 63RD ST</td>\n",
       "      <td>2019-12-04</td>\n",
       "      <td>License</td>\n",
       "      <td>Not Ready</td>\n",
       "      <td>NaN</td>\n",
       "      <td>41.779190</td>\n",
       "      <td>-87.695892</td>\n",
       "    </tr>\n",
       "  </tbody>\n",
       "</table>\n",
       "</div>"
      ],
      "text/plain": [
       "   Inspection ID                                 DBA Name  License #  \\\n",
       "0        2352683                   CHIPOTLE MEXICAN GRILL  2670642.0   \n",
       "1        2352734                              CHILI'S T-I    34169.0   \n",
       "2        2352713  NICK'S FIRE GRILL STEAK & LEMONADE INC.  2699090.0   \n",
       "\n",
       "  Facility Type  Risk             Address Inspection Date  \\\n",
       "0    Restaurant   3.0  1025 W ADDISON ST       2019-12-04   \n",
       "1    Restaurant   3.0  11601 W TOUHY AVE       2019-12-04   \n",
       "2           NaN   3.0     2900 W 63RD ST       2019-12-04   \n",
       "\n",
       "         Inspection Type             Results  \\\n",
       "0  License Re-Inspection  Pass w/ Conditions   \n",
       "1                Canvass                Pass   \n",
       "2                License           Not Ready   \n",
       "\n",
       "                                          Violations   Latitude  Longitude  \n",
       "0  3. MANAGEMENT, FOOD EMPLOYEE AND CONDITIONAL E...  41.947118 -87.655381  \n",
       "1  10. ADEQUATE HANDWASHING SINKS PROPERLY SUPPLI...  42.008536 -87.914428  \n",
       "2                                                NaN  41.779190 -87.695892  "
      ]
     },
     "execution_count": 19,
     "metadata": {},
     "output_type": "execute_result"
    }
   ],
   "source": [
    "eat_seat['Risk'] = eat_seat['Risk'].replace({'All':3, 'Risk 1 (High)':3, 'Risk 2 (Medium)':2, 'Risk 3 (Low)':1})\n",
    "eat_seat['Risk'] = pd.to_numeric(eat_seat['Risk'], downcast= 'integer')\n",
    "eat_seat.head(3)"
   ]
  },
  {
   "cell_type": "code",
   "execution_count": 20,
   "metadata": {},
   "outputs": [
    {
     "data": {
      "text/plain": [
       "Text(0.5, 0, '#Inspections')"
      ]
     },
     "execution_count": 20,
     "metadata": {},
     "output_type": "execute_result"
    },
    {
     "data": {
      "image/png": "[encoded data removed]",
      "text/plain": [
       "<Figure size 432x288 with 1 Axes>"
      ]
     },
     "metadata": {
      "needs_background": "light"
     },
     "output_type": "display_data"
    }
   ],
   "source": [
    "def inspection_per_risk(dblp):\n",
    "    return dblp[['Risk', 'Inspection ID']].groupby('Risk').count()\n",
    "\n",
    "\n",
    "ax = inspection_per_risk(eat_seat).plot(kind=\"barh\")\n",
    "ax.set_ylabel('Risk')\n",
    "ax.set_xlabel('#Inspections')"
   ]
  },
  {
   "cell_type": "code",
   "execution_count": 21,
   "metadata": {},
   "outputs": [
    {
     "data": {
      "text/plain": [
       "69"
      ]
     },
     "execution_count": 21,
     "metadata": {},
     "output_type": "execute_result"
    }
   ],
   "source": [
    "len(eat_seat[eat_seat['Risk'].isnull()])"
   ]
  },
  {
   "cell_type": "markdown",
   "metadata": {},
   "source": [
    "We see in this graph that all the `Risk` are between 1 and 3. There is, for now, 73 missing values, but as it is not a problem for now, we will just keep it in mind."
   ]
  },
  {
   "cell_type": "markdown",
   "metadata": {},
   "source": [
    "### 2.2 Facilities of interest Selection"
   ]
  },
  {
   "cell_type": "markdown",
   "metadata": {},
   "source": [
    "Then, we want to put the different facility types in categories that make sense for our project."
   ]
  },
  {
   "cell_type": "code",
   "execution_count": 22,
   "metadata": {},
   "outputs": [],
   "source": [
    "#df['Facility Type'].unique()"
   ]
  },
  {
   "cell_type": "markdown",
   "metadata": {},
   "source": [
    "This command returns a list which contains the different facility types found in the `Facility Type column`. A lot of different types of facility are found in the data.\n",
    "\n",
    "First, we thought about only select the \"private\" establishments, where it is possible to eat a main course (for example, the places where you can only eat an ice cream are deleted of our list). They all are categorized in order to be compared with each other.\n"
   ]
  },
  {
   "cell_type": "code",
   "execution_count": 23,
   "metadata": {},
   "outputs": [],
   "source": [
    "public_dic = {'restaurant' : ['Restaurant', 'DINING HALL', 'TENT RSTAURANT'], \\\n",
    "              'grocery_restaurant' : ['Grocery & Restaurant', 'GROCERY& RESTAURANT', 'GROCERY/RESTAURANT',\\\n",
    "                                    'GROCERY/ RESTAURANT', 'GROCERY STORE/ RESTAURANT', 'GROCERY & RESTAURANT',\\\n",
    "                                    'RESTAURANT/GROCERY', 'grocery & restaurant', 'RESTAURANT/GROCERY STORE',\\\n",
    "                                    'GROCERY/TAQUERIA', 'GAS STATION/RESTAURANT'],\\\n",
    "              'banquet' : ['LOUNGE/BANQUET HALL', 'BANQUET', 'Banquet Hall', 'BANQUET FACILITY', 'banquet hall',\\\n",
    "                         'banquets', 'Banquet Dining',  'Banquet/kitchen','RESTAURANT.BANQUET HALLS',\\\n",
    "                         'BANQUET HALL', 'Banquet', 'BOWLING LANES/BANQUETS'], \\\n",
    "              'rooftop_restaurant' : ['Wrigley Roof Top', 'REST/ROOFTOP'],\\\n",
    "              'bar_restaurant' : ['RESTAURANT/BAR', 'RESTUARANT AND BAR', 'BAR/GRILL', 'RESTAURANT/BAR/THEATER',\\\n",
    "                                'JUICE AND SALAD BAR', 'SUSHI COUNTER', 'TAVERN/RESTAURANT', 'tavern/restaurant',\\\n",
    "                                'TAVERN GRILL'], \\\n",
    "              'bakery_restaurant' : ['BAKERY/ RESTAURANT', 'bakery/restaurant', 'RESTAURANT/BAKERY'], \\\n",
    "              'liquor_restaurant' : ['RESTAURANT AND LIQUOR', 'RESTAURANT/LIQUOR'], \\\n",
    "              'catering' : ['CATERING/CAFE', 'Catering'], \\\n",
    "              'golden_diner' : ['Golden Diner']}"
   ]
  },
  {
   "cell_type": "code",
   "execution_count": 24,
   "metadata": {},
   "outputs": [
    {
     "data": {
      "text/plain": [
       "64"
      ]
     },
     "execution_count": 24,
     "metadata": {},
     "output_type": "execute_result"
    }
   ],
   "source": [
    "facilitytype = 'BANQUET'\n",
    "len(eat_seat[eat_seat['Facility Type'] == facilitytype])"
   ]
  },
  {
   "cell_type": "markdown",
   "metadata": {},
   "source": [
    "This command returns the number of occurencs of the `Facility Type` inputed. \n",
    "\n",
    "With trying different types previously categorized and listed in the `public_dic` dictionary we have noted that the results were too distant to conduct a meaningful analysis. That's why we then decided to also select \"public\" establishments like school cafeterias and hospitals. It could be interesting to compare private and public inspection results.\n"
   ]
  },
  {
   "cell_type": "code",
   "execution_count": 25,
   "metadata": {},
   "outputs": [],
   "source": [
    "private_dic = {'daycare' : ['Daycare Above and Under 2 Years', 'Daycare (2 - 6 Years)', 'Daycare Combo 1586',\\\n",
    "                          'Daycare (Under 2 Years)', 'DAYCARE 2 YRS TO 12 YRS', 'Daycare Night', 'DAY CARE 2-14',\\\n",
    "                          'Daycare (2 Years)', 'DAYCARE', 'ADULT DAYCARE', '15 monts to 5 years old', 'youth housing',\\\n",
    "                          'DAYCARE 1586', 'DAYCARE COMBO', '1584-DAY CARE ABOVE 2 YEARS', 'CHURCH/DAY CARE', 'DAY CARE',\\\n",
    "                          'DAYCARE 6 WKS-5YRS', 'DAY CARE 1023', 'DAYCARE 2-6, UNDER 6', 'Day Care Combo (1586)'], \\\n",
    "               'school' : ['SCHOOL', 'School', 'PRIVATE SCHOOL', 'AFTER SCHOOL PROGRAM', 'COLLEGE',\\\n",
    "                         'BEFORE AND AFTER SCHOOL PROGRAM', 'Private School', 'TEACHING SCHOOL',\\\n",
    "                         'PUBLIC SHCOOL', 'CHARTER SCHOOL CAFETERIA', 'CAFETERIA', 'Cafeteria', 'cafeteria',\\\n",
    "                         'UNIVERSITY CAFETERIA', 'PREP INSIDE SCHOOL', 'CHARTER SCHOOL', 'school cafeteria',\\\n",
    "                         'CHARTER SCHOOL/CAFETERIA', 'School Cafeteria', 'ALTERNATIVE SCHOOL', 'CITY OF CHICAGO COLLEGE',\\\n",
    "                         'after school program', 'CHURCH/AFTER SCHOOL PROGRAM', 'AFTER SCHOOL CARE'], \\\n",
    "               'childrens_services' : [\"Children's Services Facility\", 'CHILDRENS SERVICES FACILITY', \\\n",
    "                                     \"CHILDERN'S SERVICE FACILITY\", \"1023 CHILDREN'S SERVICES FACILITY\", \\\n",
    "                                     \"1023 CHILDERN'S SERVICES FACILITY\", \"1023-CHILDREN'S SERVICES FACILITY\", \\\n",
    "                                     \"1023 CHILDERN'S SERVICE FACILITY\", \"1023 CHILDERN'S SERVICE S FACILITY\", \\\n",
    "                                     'CHILDERN ACTIVITY FACILITY', \"CHILDERN'S SERVICES  FACILITY\", '1023'], \\\n",
    "               'adultcare' : ['Long Term Care', 'REHAB CENTER', 'Hospital', 'ASSISTED LIVING', 'SENIOR DAY CARE',\\\n",
    "                            'Assisted Living', 'NURSING HOME', 'ASSISTED LIVING FACILITY', 'SUPPORTIVE LIVING FACILITY',\\\n",
    "                            'Assisted Living Senior Care', 'Adult Family Care Center', '1005 NURSING HOME', \\\n",
    "                            'Long-Term Care Facility', 'LONG TERM CARE FACILITY', 'ASSISSTED LIVING',\\\n",
    "                            'Long-Term Care','Long Term Care Facility', 'VFW HALL']}"
   ]
  },
  {
   "cell_type": "code",
   "execution_count": 26,
   "metadata": {},
   "outputs": [],
   "source": [
    "total_dic = {**public_dic , **private_dic}"
   ]
  },
  {
   "cell_type": "code",
   "execution_count": 27,
   "metadata": {},
   "outputs": [],
   "source": [
    "#inverting the dict \n",
    "facilities = {}\n",
    "for key in total_dic :\n",
    "    for facility in total_dic[key] :\n",
    "        facilities[facility] = key"
   ]
  },
  {
   "cell_type": "code",
   "execution_count": 28,
   "metadata": {},
   "outputs": [
    {
     "data": {
      "text/html": [
       "<div>\n",
       "<style scoped>\n",
       "    .dataframe tbody tr th:only-of-type {\n",
       "        vertical-align: middle;\n",
       "    }\n",
       "\n",
       "    .dataframe tbody tr th {\n",
       "        vertical-align: top;\n",
       "    }\n",
       "\n",
       "    .dataframe thead th {\n",
       "        text-align: right;\n",
       "    }\n",
       "</style>\n",
       "<table border=\"1\" class=\"dataframe\">\n",
       "  <thead>\n",
       "    <tr style=\"text-align: right;\">\n",
       "      <th></th>\n",
       "      <th>FacilityGroup</th>\n",
       "    </tr>\n",
       "  </thead>\n",
       "  <tbody>\n",
       "    <tr>\n",
       "      <td>Restaurant</td>\n",
       "      <td>restaurant</td>\n",
       "    </tr>\n",
       "    <tr>\n",
       "      <td>DINING HALL</td>\n",
       "      <td>restaurant</td>\n",
       "    </tr>\n",
       "    <tr>\n",
       "      <td>TENT RSTAURANT</td>\n",
       "      <td>restaurant</td>\n",
       "    </tr>\n",
       "  </tbody>\n",
       "</table>\n",
       "</div>"
      ],
      "text/plain": [
       "               FacilityGroup\n",
       "Restaurant        restaurant\n",
       "DINING HALL       restaurant\n",
       "TENT RSTAURANT    restaurant"
      ]
     },
     "execution_count": 28,
     "metadata": {},
     "output_type": "execute_result"
    }
   ],
   "source": [
    "facilitygroups = pd.DataFrame(data = facilities.values(), index=facilities.keys(), columns = ['FacilityGroup'])\n",
    "facilitygroups.head(3)"
   ]
  },
  {
   "cell_type": "code",
   "execution_count": 29,
   "metadata": {},
   "outputs": [],
   "source": [
    "facilitygroups.index.name = 'Facility Type'"
   ]
  },
  {
   "cell_type": "code",
   "execution_count": 30,
   "metadata": {},
   "outputs": [
    {
     "data": {
      "text/html": [
       "<div>\n",
       "<style scoped>\n",
       "    .dataframe tbody tr th:only-of-type {\n",
       "        vertical-align: middle;\n",
       "    }\n",
       "\n",
       "    .dataframe tbody tr th {\n",
       "        vertical-align: top;\n",
       "    }\n",
       "\n",
       "    .dataframe thead th {\n",
       "        text-align: right;\n",
       "    }\n",
       "</style>\n",
       "<table border=\"1\" class=\"dataframe\">\n",
       "  <thead>\n",
       "    <tr style=\"text-align: right;\">\n",
       "      <th></th>\n",
       "      <th>Inspection ID</th>\n",
       "      <th>DBA Name</th>\n",
       "      <th>License #</th>\n",
       "      <th>Facility Type</th>\n",
       "      <th>Risk</th>\n",
       "      <th>Address</th>\n",
       "      <th>Inspection Date</th>\n",
       "      <th>Inspection Type</th>\n",
       "      <th>Results</th>\n",
       "      <th>Violations</th>\n",
       "      <th>Latitude</th>\n",
       "      <th>Longitude</th>\n",
       "      <th>FacilityGroup</th>\n",
       "    </tr>\n",
       "  </thead>\n",
       "  <tbody>\n",
       "    <tr>\n",
       "      <td>0</td>\n",
       "      <td>2352683</td>\n",
       "      <td>CHIPOTLE MEXICAN GRILL</td>\n",
       "      <td>2670642.0</td>\n",
       "      <td>Restaurant</td>\n",
       "      <td>3.0</td>\n",
       "      <td>1025 W ADDISON ST</td>\n",
       "      <td>2019-12-04</td>\n",
       "      <td>License Re-Inspection</td>\n",
       "      <td>Pass w/ Conditions</td>\n",
       "      <td>3. MANAGEMENT, FOOD EMPLOYEE AND CONDITIONAL E...</td>\n",
       "      <td>41.947118</td>\n",
       "      <td>-87.655381</td>\n",
       "      <td>restaurant</td>\n",
       "    </tr>\n",
       "    <tr>\n",
       "      <td>1</td>\n",
       "      <td>2352734</td>\n",
       "      <td>CHILI'S T-I</td>\n",
       "      <td>34169.0</td>\n",
       "      <td>Restaurant</td>\n",
       "      <td>3.0</td>\n",
       "      <td>11601 W TOUHY AVE</td>\n",
       "      <td>2019-12-04</td>\n",
       "      <td>Canvass</td>\n",
       "      <td>Pass</td>\n",
       "      <td>10. ADEQUATE HANDWASHING SINKS PROPERLY SUPPLI...</td>\n",
       "      <td>42.008536</td>\n",
       "      <td>-87.914428</td>\n",
       "      <td>restaurant</td>\n",
       "    </tr>\n",
       "    <tr>\n",
       "      <td>2</td>\n",
       "      <td>2352701</td>\n",
       "      <td>TAQUERIA BLUE LINE INC.</td>\n",
       "      <td>2703436.0</td>\n",
       "      <td>Restaurant</td>\n",
       "      <td>3.0</td>\n",
       "      <td>3401 W BELMONT AVE</td>\n",
       "      <td>2019-12-04</td>\n",
       "      <td>License</td>\n",
       "      <td>Pass w/ Conditions</td>\n",
       "      <td>3. MANAGEMENT, FOOD EMPLOYEE AND CONDITIONAL E...</td>\n",
       "      <td>41.939168</td>\n",
       "      <td>-87.712546</td>\n",
       "      <td>restaurant</td>\n",
       "    </tr>\n",
       "  </tbody>\n",
       "</table>\n",
       "</div>"
      ],
      "text/plain": [
       "   Inspection ID                 DBA Name  License # Facility Type  Risk  \\\n",
       "0        2352683   CHIPOTLE MEXICAN GRILL  2670642.0    Restaurant   3.0   \n",
       "1        2352734              CHILI'S T-I    34169.0    Restaurant   3.0   \n",
       "2        2352701  TAQUERIA BLUE LINE INC.  2703436.0    Restaurant   3.0   \n",
       "\n",
       "               Address Inspection Date        Inspection Type  \\\n",
       "0   1025 W ADDISON ST       2019-12-04  License Re-Inspection   \n",
       "1   11601 W TOUHY AVE       2019-12-04                Canvass   \n",
       "2  3401 W BELMONT AVE       2019-12-04                License   \n",
       "\n",
       "              Results                                         Violations  \\\n",
       "0  Pass w/ Conditions  3. MANAGEMENT, FOOD EMPLOYEE AND CONDITIONAL E...   \n",
       "1                Pass  10. ADEQUATE HANDWASHING SINKS PROPERLY SUPPLI...   \n",
       "2  Pass w/ Conditions  3. MANAGEMENT, FOOD EMPLOYEE AND CONDITIONAL E...   \n",
       "\n",
       "    Latitude  Longitude FacilityGroup  \n",
       "0  41.947118 -87.655381    restaurant  \n",
       "1  42.008536 -87.914428    restaurant  \n",
       "2  41.939168 -87.712546    restaurant  "
      ]
     },
     "execution_count": 30,
     "metadata": {},
     "output_type": "execute_result"
    }
   ],
   "source": [
    "#pandas.merge(left, right, how='inner', on=None, left_on=None, right_on=None, left_index=False, \n",
    "#             right_index=False, sort=False, suffixes=('_x', '_y'), copy=True, indicator=False, validate=None)\n",
    "\n",
    "eat_seat = pd.merge(eat_seat, facilitygroups, on = ['Facility Type'])\n",
    "eat_seat.head(3)"
   ]
  },
  {
   "cell_type": "code",
   "execution_count": 31,
   "metadata": {},
   "outputs": [
    {
     "data": {
      "text/plain": [
       "Text(0.5, 0, '#Inspections')"
      ]
     },
     "execution_count": 31,
     "metadata": {},
     "output_type": "execute_result"
    },
    {
     "data": {
      "image/png": "[encoded data removed]",
      "text/plain": [
       "<Figure size 432x288 with 1 Axes>"
      ]
     },
     "metadata": {
      "needs_background": "light"
     },
     "output_type": "display_data"
    }
   ],
   "source": [
    "def inspection_per_facility(dblp):\n",
    "    return dblp[['FacilityGroup', 'Inspection ID']].groupby('FacilityGroup').count()\n",
    "\n",
    "\n",
    "ax = inspection_per_facility(eat_seat).plot(kind=\"barh\")\n",
    "ax.set_ylabel('Facility Type')\n",
    "ax.set_xlabel('#Inspections')"
   ]
  },
  {
   "cell_type": "code",
   "execution_count": 32,
   "metadata": {},
   "outputs": [],
   "source": [
    "public_private = {'daycare' : 'Private', 'school' : 'Private', 'children-services' : 'Private', 'adultcare' : 'Private',\\\n",
    "                  'restaurant' : 'Public', 'grocery_restaurant' : 'Public', 'banquet' : 'Public', 'rooftop_restaurant' : 'Public',\\\n",
    "                'bar_restaurant' : 'Public', 'bakery_restaurant' : 'Public', 'liquor_restaurant' : 'Public' , 'catering' : 'Public', 'golden_diner' : 'Public'}"
   ]
  },
  {
   "cell_type": "markdown",
   "metadata": {},
   "source": [
    "This dictionnary is filled with the type (public vs private) of each type of facility"
   ]
  },
  {
   "cell_type": "code",
   "execution_count": 33,
   "metadata": {},
   "outputs": [
    {
     "data": {
      "text/html": [
       "<div>\n",
       "<style scoped>\n",
       "    .dataframe tbody tr th:only-of-type {\n",
       "        vertical-align: middle;\n",
       "    }\n",
       "\n",
       "    .dataframe tbody tr th {\n",
       "        vertical-align: top;\n",
       "    }\n",
       "\n",
       "    .dataframe thead th {\n",
       "        text-align: right;\n",
       "    }\n",
       "</style>\n",
       "<table border=\"1\" class=\"dataframe\">\n",
       "  <thead>\n",
       "    <tr style=\"text-align: right;\">\n",
       "      <th></th>\n",
       "      <th>Public_Private</th>\n",
       "    </tr>\n",
       "  </thead>\n",
       "  <tbody>\n",
       "    <tr>\n",
       "      <td>daycare</td>\n",
       "      <td>Private</td>\n",
       "    </tr>\n",
       "    <tr>\n",
       "      <td>school</td>\n",
       "      <td>Private</td>\n",
       "    </tr>\n",
       "    <tr>\n",
       "      <td>children-services</td>\n",
       "      <td>Private</td>\n",
       "    </tr>\n",
       "    <tr>\n",
       "      <td>adultcare</td>\n",
       "      <td>Private</td>\n",
       "    </tr>\n",
       "    <tr>\n",
       "      <td>restaurant</td>\n",
       "      <td>Public</td>\n",
       "    </tr>\n",
       "  </tbody>\n",
       "</table>\n",
       "</div>"
      ],
      "text/plain": [
       "                  Public_Private\n",
       "daycare                  Private\n",
       "school                   Private\n",
       "children-services        Private\n",
       "adultcare                Private\n",
       "restaurant                Public"
      ]
     },
     "execution_count": 33,
     "metadata": {},
     "output_type": "execute_result"
    }
   ],
   "source": [
    "public_private_df = pd.DataFrame(data = public_private.values(), index=public_private.keys(), columns = ['Public_Private'])\n",
    "public_private_df.head(5)"
   ]
  },
  {
   "cell_type": "markdown",
   "metadata": {},
   "source": [
    "storing the dic in a df and checking if it worked properly"
   ]
  },
  {
   "cell_type": "code",
   "execution_count": 34,
   "metadata": {},
   "outputs": [],
   "source": [
    "public_private_df.index.name = 'FacilityGroup'"
   ]
  },
  {
   "cell_type": "markdown",
   "metadata": {},
   "source": [
    "Renaming the index to merge on the facility type"
   ]
  },
  {
   "cell_type": "code",
   "execution_count": 35,
   "metadata": {},
   "outputs": [
    {
     "data": {
      "text/html": [
       "<div>\n",
       "<style scoped>\n",
       "    .dataframe tbody tr th:only-of-type {\n",
       "        vertical-align: middle;\n",
       "    }\n",
       "\n",
       "    .dataframe tbody tr th {\n",
       "        vertical-align: top;\n",
       "    }\n",
       "\n",
       "    .dataframe thead th {\n",
       "        text-align: right;\n",
       "    }\n",
       "</style>\n",
       "<table border=\"1\" class=\"dataframe\">\n",
       "  <thead>\n",
       "    <tr style=\"text-align: right;\">\n",
       "      <th></th>\n",
       "      <th>Inspection ID</th>\n",
       "      <th>DBA Name</th>\n",
       "      <th>License #</th>\n",
       "      <th>Facility Type</th>\n",
       "      <th>Risk</th>\n",
       "      <th>Address</th>\n",
       "      <th>Inspection Date</th>\n",
       "      <th>Inspection Type</th>\n",
       "      <th>Results</th>\n",
       "      <th>Violations</th>\n",
       "      <th>Latitude</th>\n",
       "      <th>Longitude</th>\n",
       "      <th>FacilityGroup</th>\n",
       "      <th>Public_Private</th>\n",
       "    </tr>\n",
       "  </thead>\n",
       "  <tbody>\n",
       "    <tr>\n",
       "      <td>0</td>\n",
       "      <td>2352683</td>\n",
       "      <td>CHIPOTLE MEXICAN GRILL</td>\n",
       "      <td>2670642.0</td>\n",
       "      <td>Restaurant</td>\n",
       "      <td>3.0</td>\n",
       "      <td>1025 W ADDISON ST</td>\n",
       "      <td>2019-12-04</td>\n",
       "      <td>License Re-Inspection</td>\n",
       "      <td>Pass w/ Conditions</td>\n",
       "      <td>3. MANAGEMENT, FOOD EMPLOYEE AND CONDITIONAL E...</td>\n",
       "      <td>41.947118</td>\n",
       "      <td>-87.655381</td>\n",
       "      <td>restaurant</td>\n",
       "      <td>Public</td>\n",
       "    </tr>\n",
       "    <tr>\n",
       "      <td>1</td>\n",
       "      <td>2352734</td>\n",
       "      <td>CHILI'S T-I</td>\n",
       "      <td>34169.0</td>\n",
       "      <td>Restaurant</td>\n",
       "      <td>3.0</td>\n",
       "      <td>11601 W TOUHY AVE</td>\n",
       "      <td>2019-12-04</td>\n",
       "      <td>Canvass</td>\n",
       "      <td>Pass</td>\n",
       "      <td>10. ADEQUATE HANDWASHING SINKS PROPERLY SUPPLI...</td>\n",
       "      <td>42.008536</td>\n",
       "      <td>-87.914428</td>\n",
       "      <td>restaurant</td>\n",
       "      <td>Public</td>\n",
       "    </tr>\n",
       "    <tr>\n",
       "      <td>2</td>\n",
       "      <td>2352701</td>\n",
       "      <td>TAQUERIA BLUE LINE INC.</td>\n",
       "      <td>2703436.0</td>\n",
       "      <td>Restaurant</td>\n",
       "      <td>3.0</td>\n",
       "      <td>3401 W BELMONT AVE</td>\n",
       "      <td>2019-12-04</td>\n",
       "      <td>License</td>\n",
       "      <td>Pass w/ Conditions</td>\n",
       "      <td>3. MANAGEMENT, FOOD EMPLOYEE AND CONDITIONAL E...</td>\n",
       "      <td>41.939168</td>\n",
       "      <td>-87.712546</td>\n",
       "      <td>restaurant</td>\n",
       "      <td>Public</td>\n",
       "    </tr>\n",
       "  </tbody>\n",
       "</table>\n",
       "</div>"
      ],
      "text/plain": [
       "   Inspection ID                 DBA Name  License # Facility Type  Risk  \\\n",
       "0        2352683   CHIPOTLE MEXICAN GRILL  2670642.0    Restaurant   3.0   \n",
       "1        2352734              CHILI'S T-I    34169.0    Restaurant   3.0   \n",
       "2        2352701  TAQUERIA BLUE LINE INC.  2703436.0    Restaurant   3.0   \n",
       "\n",
       "               Address Inspection Date        Inspection Type  \\\n",
       "0   1025 W ADDISON ST       2019-12-04  License Re-Inspection   \n",
       "1   11601 W TOUHY AVE       2019-12-04                Canvass   \n",
       "2  3401 W BELMONT AVE       2019-12-04                License   \n",
       "\n",
       "              Results                                         Violations  \\\n",
       "0  Pass w/ Conditions  3. MANAGEMENT, FOOD EMPLOYEE AND CONDITIONAL E...   \n",
       "1                Pass  10. ADEQUATE HANDWASHING SINKS PROPERLY SUPPLI...   \n",
       "2  Pass w/ Conditions  3. MANAGEMENT, FOOD EMPLOYEE AND CONDITIONAL E...   \n",
       "\n",
       "    Latitude  Longitude FacilityGroup Public_Private  \n",
       "0  41.947118 -87.655381    restaurant         Public  \n",
       "1  42.008536 -87.914428    restaurant         Public  \n",
       "2  41.939168 -87.712546    restaurant         Public  "
      ]
     },
     "execution_count": 35,
     "metadata": {},
     "output_type": "execute_result"
    }
   ],
   "source": [
    "eat_seat = pd.merge(eat_seat, public_private_df, on = ['FacilityGroup'])\n",
    "eat_seat.head(3)"
   ]
  },
  {
   "cell_type": "markdown",
   "metadata": {},
   "source": [
    "### Non-defined licenses numbers\n",
    "\n",
    "There are also missing license numbers, corresponding to the *nan* printed in the output of the subsection \"Type casting\". We see in the graph below that there is some inspection numbers corresponding to 0, which is not a valid license number."
   ]
  },
  {
   "cell_type": "code",
   "execution_count": 36,
   "metadata": {},
   "outputs": [
    {
     "data": {
      "text/plain": [
       "Text(0, 0.5, '#Inspections')"
      ]
     },
     "execution_count": 36,
     "metadata": {},
     "output_type": "execute_result"
    },
    {
     "data": {
      "image/png": "[encoded data removed]",
      "text/plain": [
       "<Figure size 432x288 with 1 Axes>"
      ]
     },
     "metadata": {
      "needs_background": "light"
     },
     "output_type": "display_data"
    }
   ],
   "source": [
    "def inspection_per_license(dblp):\n",
    "    return dblp[['License #', 'Inspection ID']].groupby('License #').count()\n",
    "\n",
    "ax = inspection_per_license(eat_seat).plot(rot=-45)\n",
    "ax.set_xlabel('License #')\n",
    "ax.set_ylabel('#Inspections')"
   ]
  },
  {
   "cell_type": "markdown",
   "metadata": {},
   "source": [
    "The following dataframe displays the establishments where the license number is missing or is corresponding to 0.0."
   ]
  },
  {
   "cell_type": "code",
   "execution_count": 37,
   "metadata": {},
   "outputs": [
    {
     "data": {
      "text/html": [
       "<div>\n",
       "<style scoped>\n",
       "    .dataframe tbody tr th:only-of-type {\n",
       "        vertical-align: middle;\n",
       "    }\n",
       "\n",
       "    .dataframe tbody tr th {\n",
       "        vertical-align: top;\n",
       "    }\n",
       "\n",
       "    .dataframe thead th {\n",
       "        text-align: right;\n",
       "    }\n",
       "</style>\n",
       "<table border=\"1\" class=\"dataframe\">\n",
       "  <thead>\n",
       "    <tr style=\"text-align: right;\">\n",
       "      <th></th>\n",
       "      <th>Inspection ID</th>\n",
       "      <th>DBA Name</th>\n",
       "      <th>License #</th>\n",
       "      <th>Facility Type</th>\n",
       "      <th>Risk</th>\n",
       "      <th>Address</th>\n",
       "      <th>Inspection Date</th>\n",
       "      <th>Inspection Type</th>\n",
       "      <th>Results</th>\n",
       "      <th>Violations</th>\n",
       "      <th>Latitude</th>\n",
       "      <th>Longitude</th>\n",
       "      <th>FacilityGroup</th>\n",
       "      <th>Public_Private</th>\n",
       "    </tr>\n",
       "  </thead>\n",
       "  <tbody>\n",
       "    <tr>\n",
       "      <td>3931</td>\n",
       "      <td>2303443</td>\n",
       "      <td>SUBWAY SANDWICHES</td>\n",
       "      <td>0.0</td>\n",
       "      <td>Restaurant</td>\n",
       "      <td>3.0</td>\n",
       "      <td>3951 N KIMBALL AVE</td>\n",
       "      <td>2019-07-22</td>\n",
       "      <td>Canvass</td>\n",
       "      <td>Fail</td>\n",
       "      <td>2. CITY OF CHICAGO FOOD SERVICE SANITATION CER...</td>\n",
       "      <td>41.953544</td>\n",
       "      <td>-87.712743</td>\n",
       "      <td>restaurant</td>\n",
       "      <td>Public</td>\n",
       "    </tr>\n",
       "    <tr>\n",
       "      <td>4723</td>\n",
       "      <td>2300450</td>\n",
       "      <td>SUBWAY</td>\n",
       "      <td>0.0</td>\n",
       "      <td>Restaurant</td>\n",
       "      <td>3.0</td>\n",
       "      <td>4771 N LINCOLN AVE</td>\n",
       "      <td>2019-06-28</td>\n",
       "      <td>Canvass</td>\n",
       "      <td>Out of Business</td>\n",
       "      <td>NaN</td>\n",
       "      <td>41.968506</td>\n",
       "      <td>-87.688338</td>\n",
       "      <td>restaurant</td>\n",
       "      <td>Public</td>\n",
       "    </tr>\n",
       "    <tr>\n",
       "      <td>5096</td>\n",
       "      <td>2293900</td>\n",
       "      <td>SUBWAY</td>\n",
       "      <td>0.0</td>\n",
       "      <td>Restaurant</td>\n",
       "      <td>3.0</td>\n",
       "      <td>4771 N LINCOLN AVE</td>\n",
       "      <td>2019-06-20</td>\n",
       "      <td>Canvass Re-Inspection</td>\n",
       "      <td>Pass w/ Conditions</td>\n",
       "      <td>3. MANAGEMENT, FOOD EMPLOYEE AND CONDITIONAL E...</td>\n",
       "      <td>41.968506</td>\n",
       "      <td>-87.688338</td>\n",
       "      <td>restaurant</td>\n",
       "      <td>Public</td>\n",
       "    </tr>\n",
       "    <tr>\n",
       "      <td>5430</td>\n",
       "      <td>2293545</td>\n",
       "      <td>SUBWAY</td>\n",
       "      <td>0.0</td>\n",
       "      <td>Restaurant</td>\n",
       "      <td>3.0</td>\n",
       "      <td>4771 N LINCOLN AVE</td>\n",
       "      <td>2019-06-13</td>\n",
       "      <td>Canvass</td>\n",
       "      <td>Fail</td>\n",
       "      <td>1. PERSON IN CHARGE PRESENT, DEMONSTRATES KNOW...</td>\n",
       "      <td>41.968506</td>\n",
       "      <td>-87.688338</td>\n",
       "      <td>restaurant</td>\n",
       "      <td>Public</td>\n",
       "    </tr>\n",
       "    <tr>\n",
       "      <td>8457</td>\n",
       "      <td>2282242</td>\n",
       "      <td>ALTHEA BY MKC</td>\n",
       "      <td>0.0</td>\n",
       "      <td>Restaurant</td>\n",
       "      <td>3.0</td>\n",
       "      <td>700 N MICHIGAN AVE</td>\n",
       "      <td>2019-03-28</td>\n",
       "      <td>Canvass</td>\n",
       "      <td>Out of Business</td>\n",
       "      <td>NaN</td>\n",
       "      <td>41.894980</td>\n",
       "      <td>-87.624400</td>\n",
       "      <td>restaurant</td>\n",
       "      <td>Public</td>\n",
       "    </tr>\n",
       "  </tbody>\n",
       "</table>\n",
       "</div>"
      ],
      "text/plain": [
       "      Inspection ID           DBA Name  License # Facility Type  Risk  \\\n",
       "3931        2303443  SUBWAY SANDWICHES        0.0    Restaurant   3.0   \n",
       "4723        2300450             SUBWAY        0.0    Restaurant   3.0   \n",
       "5096        2293900             SUBWAY        0.0    Restaurant   3.0   \n",
       "5430        2293545             SUBWAY        0.0    Restaurant   3.0   \n",
       "8457        2282242      ALTHEA BY MKC        0.0    Restaurant   3.0   \n",
       "\n",
       "                  Address Inspection Date        Inspection Type  \\\n",
       "3931  3951 N KIMBALL AVE       2019-07-22                Canvass   \n",
       "4723  4771 N LINCOLN AVE       2019-06-28                Canvass   \n",
       "5096  4771 N LINCOLN AVE       2019-06-20  Canvass Re-Inspection   \n",
       "5430  4771 N LINCOLN AVE       2019-06-13                Canvass   \n",
       "8457  700 N MICHIGAN AVE       2019-03-28                Canvass   \n",
       "\n",
       "                 Results                                         Violations  \\\n",
       "3931                Fail  2. CITY OF CHICAGO FOOD SERVICE SANITATION CER...   \n",
       "4723     Out of Business                                                NaN   \n",
       "5096  Pass w/ Conditions  3. MANAGEMENT, FOOD EMPLOYEE AND CONDITIONAL E...   \n",
       "5430                Fail  1. PERSON IN CHARGE PRESENT, DEMONSTRATES KNOW...   \n",
       "8457     Out of Business                                                NaN   \n",
       "\n",
       "       Latitude  Longitude FacilityGroup Public_Private  \n",
       "3931  41.953544 -87.712743    restaurant         Public  \n",
       "4723  41.968506 -87.688338    restaurant         Public  \n",
       "5096  41.968506 -87.688338    restaurant         Public  \n",
       "5430  41.968506 -87.688338    restaurant         Public  \n",
       "8457  41.894980 -87.624400    restaurant         Public  "
      ]
     },
     "execution_count": 37,
     "metadata": {},
     "output_type": "execute_result"
    }
   ],
   "source": [
    "missing = eat_seat[eat_seat['License #'].isnull() | eat_seat['License #'] == 0.0]\n",
    "missing.head()"
   ]
  },
  {
   "cell_type": "code",
   "execution_count": 38,
   "metadata": {},
   "outputs": [
    {
     "data": {
      "text/plain": [
       "172"
      ]
     },
     "execution_count": 38,
     "metadata": {},
     "output_type": "execute_result"
    }
   ],
   "source": [
    "len(missing)"
   ]
  },
  {
   "cell_type": "markdown",
   "metadata": {},
   "source": [
    "In order to resolve this problem, we search if there are other establishments with the same DBA Name so that, if so, we can attribute their license number to the non-defined license ones."
   ]
  },
  {
   "cell_type": "code",
   "execution_count": 39,
   "metadata": {},
   "outputs": [
    {
     "data": {
      "text/html": [
       "<div>\n",
       "<style scoped>\n",
       "    .dataframe tbody tr th:only-of-type {\n",
       "        vertical-align: middle;\n",
       "    }\n",
       "\n",
       "    .dataframe tbody tr th {\n",
       "        vertical-align: top;\n",
       "    }\n",
       "\n",
       "    .dataframe thead th {\n",
       "        text-align: right;\n",
       "    }\n",
       "</style>\n",
       "<table border=\"1\" class=\"dataframe\">\n",
       "  <thead>\n",
       "    <tr style=\"text-align: right;\">\n",
       "      <th></th>\n",
       "      <th>Inspection ID</th>\n",
       "      <th>DBA Name</th>\n",
       "      <th>License #</th>\n",
       "      <th>Facility Type</th>\n",
       "      <th>Risk</th>\n",
       "      <th>Address</th>\n",
       "      <th>Inspection Date</th>\n",
       "      <th>Inspection Type</th>\n",
       "      <th>Results</th>\n",
       "      <th>Violations</th>\n",
       "      <th>Latitude</th>\n",
       "      <th>Longitude</th>\n",
       "      <th>FacilityGroup</th>\n",
       "      <th>Public_Private</th>\n",
       "    </tr>\n",
       "  </thead>\n",
       "  <tbody>\n",
       "    <tr>\n",
       "      <td>10</td>\n",
       "      <td>2352617</td>\n",
       "      <td>SUBWAY</td>\n",
       "      <td>2703766.0</td>\n",
       "      <td>Restaurant</td>\n",
       "      <td>3.0</td>\n",
       "      <td>615 W LAKE ST</td>\n",
       "      <td>2019-12-03</td>\n",
       "      <td>License</td>\n",
       "      <td>Pass w/ Conditions</td>\n",
       "      <td>3. MANAGEMENT, FOOD EMPLOYEE AND CONDITIONAL E...</td>\n",
       "      <td>41.885594</td>\n",
       "      <td>-87.643462</td>\n",
       "      <td>restaurant</td>\n",
       "      <td>Public</td>\n",
       "    </tr>\n",
       "    <tr>\n",
       "      <td>259</td>\n",
       "      <td>2345950</td>\n",
       "      <td>BRITISH AIRWAYS</td>\n",
       "      <td>2517808.0</td>\n",
       "      <td>Restaurant</td>\n",
       "      <td>3.0</td>\n",
       "      <td>11601 W TOUHY AVE</td>\n",
       "      <td>2019-11-19</td>\n",
       "      <td>Canvass</td>\n",
       "      <td>Pass w/ Conditions</td>\n",
       "      <td>22. PROPER COLD HOLDING TEMPERATURES - Comment...</td>\n",
       "      <td>42.008536</td>\n",
       "      <td>-87.914428</td>\n",
       "      <td>restaurant</td>\n",
       "      <td>Public</td>\n",
       "    </tr>\n",
       "    <tr>\n",
       "      <td>501</td>\n",
       "      <td>2345318</td>\n",
       "      <td>SUBWAY</td>\n",
       "      <td>2529116.0</td>\n",
       "      <td>Restaurant</td>\n",
       "      <td>3.0</td>\n",
       "      <td>2620 N NARRAGANSETT AVE</td>\n",
       "      <td>2019-11-08</td>\n",
       "      <td>Canvass Re-Inspection</td>\n",
       "      <td>Pass w/ Conditions</td>\n",
       "      <td>3. MANAGEMENT, FOOD EMPLOYEE AND CONDITIONAL E...</td>\n",
       "      <td>41.927995</td>\n",
       "      <td>-87.785752</td>\n",
       "      <td>restaurant</td>\n",
       "      <td>Public</td>\n",
       "    </tr>\n",
       "    <tr>\n",
       "      <td>607</td>\n",
       "      <td>2321166</td>\n",
       "      <td>SUBWAY</td>\n",
       "      <td>2529116.0</td>\n",
       "      <td>Restaurant</td>\n",
       "      <td>3.0</td>\n",
       "      <td>2620 N NARRAGANSETT AVE</td>\n",
       "      <td>2019-11-06</td>\n",
       "      <td>Canvass</td>\n",
       "      <td>Fail</td>\n",
       "      <td>3. MANAGEMENT, FOOD EMPLOYEE AND CONDITIONAL E...</td>\n",
       "      <td>41.927995</td>\n",
       "      <td>-87.785752</td>\n",
       "      <td>restaurant</td>\n",
       "      <td>Public</td>\n",
       "    </tr>\n",
       "    <tr>\n",
       "      <td>760</td>\n",
       "      <td>2320750</td>\n",
       "      <td>SUBWAY</td>\n",
       "      <td>2522465.0</td>\n",
       "      <td>Restaurant</td>\n",
       "      <td>3.0</td>\n",
       "      <td>6352 N Milwaukee AVE</td>\n",
       "      <td>2019-10-30</td>\n",
       "      <td>Canvass</td>\n",
       "      <td>Pass</td>\n",
       "      <td>39. CONTAMINATION PREVENTED DURING FOOD PREPAR...</td>\n",
       "      <td>41.996447</td>\n",
       "      <td>-87.787207</td>\n",
       "      <td>restaurant</td>\n",
       "      <td>Public</td>\n",
       "    </tr>\n",
       "  </tbody>\n",
       "</table>\n",
       "</div>"
      ],
      "text/plain": [
       "     Inspection ID         DBA Name  License # Facility Type  Risk  \\\n",
       "10         2352617           SUBWAY  2703766.0    Restaurant   3.0   \n",
       "259        2345950  BRITISH AIRWAYS  2517808.0    Restaurant   3.0   \n",
       "501        2345318           SUBWAY  2529116.0    Restaurant   3.0   \n",
       "607        2321166           SUBWAY  2529116.0    Restaurant   3.0   \n",
       "760        2320750           SUBWAY  2522465.0    Restaurant   3.0   \n",
       "\n",
       "                      Address Inspection Date        Inspection Type  \\\n",
       "10             615 W LAKE ST       2019-12-03                License   \n",
       "259        11601 W TOUHY AVE       2019-11-19                Canvass   \n",
       "501  2620 N NARRAGANSETT AVE       2019-11-08  Canvass Re-Inspection   \n",
       "607  2620 N NARRAGANSETT AVE       2019-11-06                Canvass   \n",
       "760     6352 N Milwaukee AVE       2019-10-30                Canvass   \n",
       "\n",
       "                Results                                         Violations  \\\n",
       "10   Pass w/ Conditions  3. MANAGEMENT, FOOD EMPLOYEE AND CONDITIONAL E...   \n",
       "259  Pass w/ Conditions  22. PROPER COLD HOLDING TEMPERATURES - Comment...   \n",
       "501  Pass w/ Conditions  3. MANAGEMENT, FOOD EMPLOYEE AND CONDITIONAL E...   \n",
       "607                Fail  3. MANAGEMENT, FOOD EMPLOYEE AND CONDITIONAL E...   \n",
       "760                Pass  39. CONTAMINATION PREVENTED DURING FOOD PREPAR...   \n",
       "\n",
       "      Latitude  Longitude FacilityGroup Public_Private  \n",
       "10   41.885594 -87.643462    restaurant         Public  \n",
       "259  42.008536 -87.914428    restaurant         Public  \n",
       "501  41.927995 -87.785752    restaurant         Public  \n",
       "607  41.927995 -87.785752    restaurant         Public  \n",
       "760  41.996447 -87.787207    restaurant         Public  "
      ]
     },
     "execution_count": 39,
     "metadata": {},
     "output_type": "execute_result"
    }
   ],
   "source": [
    "missing_found = eat_seat[eat_seat['DBA Name'].isin(missing['DBA Name']) & (eat_seat['License #'].notnull() & eat_seat['License #'] != 0.0)]\n",
    "missing_found.head()"
   ]
  },
  {
   "cell_type": "code",
   "execution_count": 40,
   "metadata": {},
   "outputs": [
    {
     "data": {
      "text/plain": [
       "3415"
      ]
     },
     "execution_count": 40,
     "metadata": {},
     "output_type": "execute_result"
    }
   ],
   "source": [
    "len(missing_found)"
   ]
  },
  {
   "cell_type": "markdown",
   "metadata": {},
   "source": [
    "We see that there is 3396 entries in the *database* having a `License number` and corresponding to an esthablishment who has at some point a **missing** `License number`.\n",
    "We will search in those entries the ones corresponding to the `DBA name`, `Latitude` and `Longitude` of the ones having a **missing** `License number`, take the latest entry (the latest inspection), and infer that the **missing** `License number` can be replaced by the one of this entry."
   ]
  },
  {
   "cell_type": "code",
   "execution_count": 41,
   "metadata": {},
   "outputs": [],
   "source": [
    "missing_found = missing_found.drop(columns = ['Facility Type', 'Risk', 'Address', 'Inspection Type', 'Results', 'Violations', 'FacilityGroup'])"
   ]
  },
  {
   "cell_type": "code",
   "execution_count": 42,
   "metadata": {},
   "outputs": [
    {
     "data": {
      "text/html": [
       "<div>\n",
       "<style scoped>\n",
       "    .dataframe tbody tr th:only-of-type {\n",
       "        vertical-align: middle;\n",
       "    }\n",
       "\n",
       "    .dataframe tbody tr th {\n",
       "        vertical-align: top;\n",
       "    }\n",
       "\n",
       "    .dataframe thead th {\n",
       "        text-align: right;\n",
       "    }\n",
       "</style>\n",
       "<table border=\"1\" class=\"dataframe\">\n",
       "  <thead>\n",
       "    <tr style=\"text-align: right;\">\n",
       "      <th></th>\n",
       "      <th></th>\n",
       "      <th></th>\n",
       "      <th>Inspection Date</th>\n",
       "    </tr>\n",
       "    <tr>\n",
       "      <th>DBA Name</th>\n",
       "      <th>Latitude</th>\n",
       "      <th>Longitude</th>\n",
       "      <th></th>\n",
       "    </tr>\n",
       "  </thead>\n",
       "  <tbody>\n",
       "    <tr>\n",
       "      <td>ALTHEA BY MKC</td>\n",
       "      <td>41.894980</td>\n",
       "      <td>-87.624400</td>\n",
       "      <td>2019-05-30</td>\n",
       "    </tr>\n",
       "    <tr>\n",
       "      <td rowspan=\"4\" valign=\"top\">ARAMARK</td>\n",
       "      <td>41.653637</td>\n",
       "      <td>-87.605071</td>\n",
       "      <td>2019-01-29</td>\n",
       "    </tr>\n",
       "    <tr>\n",
       "      <td>41.785791</td>\n",
       "      <td>-87.603745</td>\n",
       "      <td>2016-08-22</td>\n",
       "    </tr>\n",
       "    <tr>\n",
       "      <td>41.788311</td>\n",
       "      <td>-87.604770</td>\n",
       "      <td>2018-10-31</td>\n",
       "    </tr>\n",
       "    <tr>\n",
       "      <td>41.791261</td>\n",
       "      <td>-87.605085</td>\n",
       "      <td>2016-10-27</td>\n",
       "    </tr>\n",
       "  </tbody>\n",
       "</table>\n",
       "</div>"
      ],
      "text/plain": [
       "                                   Inspection Date\n",
       "DBA Name      Latitude  Longitude                 \n",
       "ALTHEA BY MKC 41.894980 -87.624400      2019-05-30\n",
       "ARAMARK       41.653637 -87.605071      2019-01-29\n",
       "              41.785791 -87.603745      2016-08-22\n",
       "              41.788311 -87.604770      2018-10-31\n",
       "              41.791261 -87.605085      2016-10-27"
      ]
     },
     "execution_count": 42,
     "metadata": {},
     "output_type": "execute_result"
    }
   ],
   "source": [
    "latest = pd.DataFrame(missing_found.groupby(['DBA Name', 'Latitude', 'Longitude'])['Inspection Date'].max())\n",
    "latest.head()"
   ]
  },
  {
   "cell_type": "code",
   "execution_count": 43,
   "metadata": {},
   "outputs": [
    {
     "data": {
      "text/plain": [
       "319"
      ]
     },
     "execution_count": 43,
     "metadata": {},
     "output_type": "execute_result"
    }
   ],
   "source": [
    "len(latest)"
   ]
  },
  {
   "cell_type": "code",
   "execution_count": 44,
   "metadata": {},
   "outputs": [
    {
     "data": {
      "text/html": [
       "<div>\n",
       "<style scoped>\n",
       "    .dataframe tbody tr th:only-of-type {\n",
       "        vertical-align: middle;\n",
       "    }\n",
       "\n",
       "    .dataframe tbody tr th {\n",
       "        vertical-align: top;\n",
       "    }\n",
       "\n",
       "    .dataframe thead th {\n",
       "        text-align: right;\n",
       "    }\n",
       "</style>\n",
       "<table border=\"1\" class=\"dataframe\">\n",
       "  <thead>\n",
       "    <tr style=\"text-align: right;\">\n",
       "      <th></th>\n",
       "      <th>Inspection Date</th>\n",
       "      <th>DBA Name</th>\n",
       "      <th>Latitude</th>\n",
       "      <th>Longitude</th>\n",
       "      <th>Inspection ID</th>\n",
       "      <th>License #</th>\n",
       "      <th>Public_Private</th>\n",
       "    </tr>\n",
       "  </thead>\n",
       "  <tbody>\n",
       "    <tr>\n",
       "      <td>0</td>\n",
       "      <td>2019-05-30</td>\n",
       "      <td>ALTHEA BY MKC</td>\n",
       "      <td>41.894980</td>\n",
       "      <td>-87.624400</td>\n",
       "      <td>2290711</td>\n",
       "      <td>2659160.0</td>\n",
       "      <td>Public</td>\n",
       "    </tr>\n",
       "    <tr>\n",
       "      <td>1</td>\n",
       "      <td>2019-05-30</td>\n",
       "      <td>ALTHEA BY MKC</td>\n",
       "      <td>41.894980</td>\n",
       "      <td>-87.624400</td>\n",
       "      <td>2290710</td>\n",
       "      <td>2659161.0</td>\n",
       "      <td>Public</td>\n",
       "    </tr>\n",
       "    <tr>\n",
       "      <td>2</td>\n",
       "      <td>2019-05-30</td>\n",
       "      <td>ALTHEA BY MKC</td>\n",
       "      <td>41.894980</td>\n",
       "      <td>-87.624400</td>\n",
       "      <td>2290702</td>\n",
       "      <td>2646659.0</td>\n",
       "      <td>Public</td>\n",
       "    </tr>\n",
       "    <tr>\n",
       "      <td>3</td>\n",
       "      <td>2019-01-29</td>\n",
       "      <td>ARAMARK</td>\n",
       "      <td>41.653637</td>\n",
       "      <td>-87.605071</td>\n",
       "      <td>2261263</td>\n",
       "      <td>3759928.0</td>\n",
       "      <td>Private</td>\n",
       "    </tr>\n",
       "    <tr>\n",
       "      <td>4</td>\n",
       "      <td>2016-08-22</td>\n",
       "      <td>ARAMARK</td>\n",
       "      <td>41.785791</td>\n",
       "      <td>-87.603745</td>\n",
       "      <td>1950902</td>\n",
       "      <td>2162462.0</td>\n",
       "      <td>Public</td>\n",
       "    </tr>\n",
       "  </tbody>\n",
       "</table>\n",
       "</div>"
      ],
      "text/plain": [
       "  Inspection Date       DBA Name   Latitude  Longitude  Inspection ID  \\\n",
       "0      2019-05-30  ALTHEA BY MKC  41.894980 -87.624400        2290711   \n",
       "1      2019-05-30  ALTHEA BY MKC  41.894980 -87.624400        2290710   \n",
       "2      2019-05-30  ALTHEA BY MKC  41.894980 -87.624400        2290702   \n",
       "3      2019-01-29        ARAMARK  41.653637 -87.605071        2261263   \n",
       "4      2016-08-22        ARAMARK  41.785791 -87.603745        1950902   \n",
       "\n",
       "   License # Public_Private  \n",
       "0  2659160.0         Public  \n",
       "1  2659161.0         Public  \n",
       "2  2646659.0         Public  \n",
       "3  3759928.0        Private  \n",
       "4  2162462.0         Public  "
      ]
     },
     "execution_count": 44,
     "metadata": {},
     "output_type": "execute_result"
    }
   ],
   "source": [
    "#DataFrame.merge(self, right, how='inner', on=None, left_on=None, right_on=None, left_index=False, right_index=False, sort=False, suffixes=('_x', '_y'), copy=True, indicator=False, validate=None)\n",
    "latest_v2 = pd.merge(latest, missing_found, how='inner', on=['Inspection Date', 'DBA Name', 'Latitude', 'Longitude'])\n",
    "latest_v2.head()"
   ]
  },
  {
   "cell_type": "markdown",
   "metadata": {},
   "source": [
    "In *latest* we have an entry per unique couple \"DBA Name + Latitude + Longitude\" corresponding to the latest inspection date found for this couple in *missing_found* (reminder : in *missing_found*, there is each entry of *eat_seat* that has the name of an establishment where at some point the `License number` is **missing**). In *latest_v2* we keep every entry corresponding to those \"DBA Name + Latitude + Longitude + latest inspection date\" that appear in missing_found, in order to investigate the potential duplicates."
   ]
  },
  {
   "cell_type": "code",
   "execution_count": 45,
   "metadata": {},
   "outputs": [
    {
     "name": "stdout",
     "output_type": "stream",
     "text": [
      "Duplicates detected !\n"
     ]
    }
   ],
   "source": [
    "if len(latest) < len(latest_v2) :\n",
    "    print('Duplicates detected !')\n",
    "else : \n",
    "    print('No Duplicates !')"
   ]
  },
  {
   "cell_type": "markdown",
   "metadata": {},
   "source": [
    "We see that there is duplicates of entries because the length of *latest_v2* is greater than the length of latest. We investigate that."
   ]
  },
  {
   "cell_type": "code",
   "execution_count": 46,
   "metadata": {},
   "outputs": [
    {
     "data": {
      "text/html": [
       "<div>\n",
       "<style scoped>\n",
       "    .dataframe tbody tr th:only-of-type {\n",
       "        vertical-align: middle;\n",
       "    }\n",
       "\n",
       "    .dataframe tbody tr th {\n",
       "        vertical-align: top;\n",
       "    }\n",
       "\n",
       "    .dataframe thead th {\n",
       "        text-align: right;\n",
       "    }\n",
       "</style>\n",
       "<table border=\"1\" class=\"dataframe\">\n",
       "  <thead>\n",
       "    <tr style=\"text-align: right;\">\n",
       "      <th></th>\n",
       "      <th>Inspection Date</th>\n",
       "      <th>DBA Name</th>\n",
       "      <th>Latitude</th>\n",
       "      <th>Longitude</th>\n",
       "      <th>Inspection ID</th>\n",
       "      <th>License #</th>\n",
       "      <th>Public_Private</th>\n",
       "    </tr>\n",
       "  </thead>\n",
       "  <tbody>\n",
       "    <tr>\n",
       "      <td>0</td>\n",
       "      <td>2019-05-30</td>\n",
       "      <td>ALTHEA BY MKC</td>\n",
       "      <td>41.894980</td>\n",
       "      <td>-87.624400</td>\n",
       "      <td>2290711</td>\n",
       "      <td>2659160.0</td>\n",
       "      <td>Public</td>\n",
       "    </tr>\n",
       "    <tr>\n",
       "      <td>1</td>\n",
       "      <td>2019-05-30</td>\n",
       "      <td>ALTHEA BY MKC</td>\n",
       "      <td>41.894980</td>\n",
       "      <td>-87.624400</td>\n",
       "      <td>2290710</td>\n",
       "      <td>2659161.0</td>\n",
       "      <td>Public</td>\n",
       "    </tr>\n",
       "    <tr>\n",
       "      <td>2</td>\n",
       "      <td>2019-05-30</td>\n",
       "      <td>ALTHEA BY MKC</td>\n",
       "      <td>41.894980</td>\n",
       "      <td>-87.624400</td>\n",
       "      <td>2290702</td>\n",
       "      <td>2646659.0</td>\n",
       "      <td>Public</td>\n",
       "    </tr>\n",
       "    <tr>\n",
       "      <td>23</td>\n",
       "      <td>2019-03-21</td>\n",
       "      <td>CHARTWELLS</td>\n",
       "      <td>41.743152</td>\n",
       "      <td>-87.587883</td>\n",
       "      <td>2279746</td>\n",
       "      <td>2549069.0</td>\n",
       "      <td>Private</td>\n",
       "    </tr>\n",
       "    <tr>\n",
       "      <td>24</td>\n",
       "      <td>2019-03-21</td>\n",
       "      <td>CHARTWELLS</td>\n",
       "      <td>41.743152</td>\n",
       "      <td>-87.587883</td>\n",
       "      <td>2279761</td>\n",
       "      <td>2549069.0</td>\n",
       "      <td>Private</td>\n",
       "    </tr>\n",
       "    <tr>\n",
       "      <td>60</td>\n",
       "      <td>2018-11-05</td>\n",
       "      <td>LA MICHOACANA</td>\n",
       "      <td>41.808399</td>\n",
       "      <td>-87.674814</td>\n",
       "      <td>2232769</td>\n",
       "      <td>2476172.0</td>\n",
       "      <td>Public</td>\n",
       "    </tr>\n",
       "    <tr>\n",
       "      <td>61</td>\n",
       "      <td>2018-11-05</td>\n",
       "      <td>LA MICHOACANA</td>\n",
       "      <td>41.808399</td>\n",
       "      <td>-87.674814</td>\n",
       "      <td>2232771</td>\n",
       "      <td>2631675.0</td>\n",
       "      <td>Public</td>\n",
       "    </tr>\n",
       "    <tr>\n",
       "      <td>94</td>\n",
       "      <td>2019-08-06</td>\n",
       "      <td>SUBWAY</td>\n",
       "      <td>41.707374</td>\n",
       "      <td>-87.617030</td>\n",
       "      <td>2304209</td>\n",
       "      <td>2683476.0</td>\n",
       "      <td>Public</td>\n",
       "    </tr>\n",
       "    <tr>\n",
       "      <td>95</td>\n",
       "      <td>2019-08-06</td>\n",
       "      <td>SUBWAY</td>\n",
       "      <td>41.707374</td>\n",
       "      <td>-87.617030</td>\n",
       "      <td>2304217</td>\n",
       "      <td>1804587.0</td>\n",
       "      <td>Public</td>\n",
       "    </tr>\n",
       "    <tr>\n",
       "      <td>110</td>\n",
       "      <td>2012-03-15</td>\n",
       "      <td>SUBWAY</td>\n",
       "      <td>41.750750</td>\n",
       "      <td>-87.629792</td>\n",
       "      <td>1214209</td>\n",
       "      <td>1947565.0</td>\n",
       "      <td>Public</td>\n",
       "    </tr>\n",
       "    <tr>\n",
       "      <td>111</td>\n",
       "      <td>2012-03-15</td>\n",
       "      <td>SUBWAY</td>\n",
       "      <td>41.750750</td>\n",
       "      <td>-87.629792</td>\n",
       "      <td>1214210</td>\n",
       "      <td>2036493.0</td>\n",
       "      <td>Public</td>\n",
       "    </tr>\n",
       "    <tr>\n",
       "      <td>177</td>\n",
       "      <td>2015-12-07</td>\n",
       "      <td>SUBWAY</td>\n",
       "      <td>41.878003</td>\n",
       "      <td>-87.634299</td>\n",
       "      <td>1607215</td>\n",
       "      <td>1516580.0</td>\n",
       "      <td>Public</td>\n",
       "    </tr>\n",
       "    <tr>\n",
       "      <td>178</td>\n",
       "      <td>2015-12-07</td>\n",
       "      <td>SUBWAY</td>\n",
       "      <td>41.878003</td>\n",
       "      <td>-87.634299</td>\n",
       "      <td>1591320</td>\n",
       "      <td>1516580.0</td>\n",
       "      <td>Public</td>\n",
       "    </tr>\n",
       "    <tr>\n",
       "      <td>192</td>\n",
       "      <td>2019-01-29</td>\n",
       "      <td>SUBWAY</td>\n",
       "      <td>41.884624</td>\n",
       "      <td>-87.620476</td>\n",
       "      <td>2261295</td>\n",
       "      <td>70217.0</td>\n",
       "      <td>Public</td>\n",
       "    </tr>\n",
       "    <tr>\n",
       "      <td>193</td>\n",
       "      <td>2019-01-29</td>\n",
       "      <td>SUBWAY</td>\n",
       "      <td>41.884624</td>\n",
       "      <td>-87.620476</td>\n",
       "      <td>2261270</td>\n",
       "      <td>70217.0</td>\n",
       "      <td>Public</td>\n",
       "    </tr>\n",
       "    <tr>\n",
       "      <td>194</td>\n",
       "      <td>2019-01-29</td>\n",
       "      <td>SUBWAY</td>\n",
       "      <td>41.884624</td>\n",
       "      <td>-87.620476</td>\n",
       "      <td>2261283</td>\n",
       "      <td>2646445.0</td>\n",
       "      <td>Public</td>\n",
       "    </tr>\n",
       "    <tr>\n",
       "      <td>320</td>\n",
       "      <td>2014-03-13</td>\n",
       "      <td>WENDY'S</td>\n",
       "      <td>41.692476</td>\n",
       "      <td>-87.622842</td>\n",
       "      <td>1401915</td>\n",
       "      <td>1145749.0</td>\n",
       "      <td>Public</td>\n",
       "    </tr>\n",
       "    <tr>\n",
       "      <td>321</td>\n",
       "      <td>2014-03-13</td>\n",
       "      <td>WENDY'S</td>\n",
       "      <td>41.692476</td>\n",
       "      <td>-87.622842</td>\n",
       "      <td>1401916</td>\n",
       "      <td>1145749.0</td>\n",
       "      <td>Public</td>\n",
       "    </tr>\n",
       "  </tbody>\n",
       "</table>\n",
       "</div>"
      ],
      "text/plain": [
       "    Inspection Date       DBA Name   Latitude  Longitude  Inspection ID  \\\n",
       "0        2019-05-30  ALTHEA BY MKC  41.894980 -87.624400        2290711   \n",
       "1        2019-05-30  ALTHEA BY MKC  41.894980 -87.624400        2290710   \n",
       "2        2019-05-30  ALTHEA BY MKC  41.894980 -87.624400        2290702   \n",
       "23       2019-03-21     CHARTWELLS  41.743152 -87.587883        2279746   \n",
       "24       2019-03-21     CHARTWELLS  41.743152 -87.587883        2279761   \n",
       "60       2018-11-05  LA MICHOACANA  41.808399 -87.674814        2232769   \n",
       "61       2018-11-05  LA MICHOACANA  41.808399 -87.674814        2232771   \n",
       "94       2019-08-06         SUBWAY  41.707374 -87.617030        2304209   \n",
       "95       2019-08-06         SUBWAY  41.707374 -87.617030        2304217   \n",
       "110      2012-03-15         SUBWAY  41.750750 -87.629792        1214209   \n",
       "111      2012-03-15         SUBWAY  41.750750 -87.629792        1214210   \n",
       "177      2015-12-07         SUBWAY  41.878003 -87.634299        1607215   \n",
       "178      2015-12-07         SUBWAY  41.878003 -87.634299        1591320   \n",
       "192      2019-01-29         SUBWAY  41.884624 -87.620476        2261295   \n",
       "193      2019-01-29         SUBWAY  41.884624 -87.620476        2261270   \n",
       "194      2019-01-29         SUBWAY  41.884624 -87.620476        2261283   \n",
       "320      2014-03-13        WENDY'S  41.692476 -87.622842        1401915   \n",
       "321      2014-03-13        WENDY'S  41.692476 -87.622842        1401916   \n",
       "\n",
       "     License # Public_Private  \n",
       "0    2659160.0         Public  \n",
       "1    2659161.0         Public  \n",
       "2    2646659.0         Public  \n",
       "23   2549069.0        Private  \n",
       "24   2549069.0        Private  \n",
       "60   2476172.0         Public  \n",
       "61   2631675.0         Public  \n",
       "94   2683476.0         Public  \n",
       "95   1804587.0         Public  \n",
       "110  1947565.0         Public  \n",
       "111  2036493.0         Public  \n",
       "177  1516580.0         Public  \n",
       "178  1516580.0         Public  \n",
       "192    70217.0         Public  \n",
       "193    70217.0         Public  \n",
       "194  2646445.0         Public  \n",
       "320  1145749.0         Public  \n",
       "321  1145749.0         Public  "
      ]
     },
     "execution_count": 46,
     "metadata": {},
     "output_type": "execute_result"
    }
   ],
   "source": [
    "#DataFrame.duplicated(self, subset=None, keep='first')\n",
    "latest_duplicated = latest_v2[latest_v2.duplicated(subset = ['Inspection Date', 'DBA Name', 'Latitude', 'Longitude'], keep=False)]\n",
    "latest_duplicated"
   ]
  },
  {
   "cell_type": "markdown",
   "metadata": {},
   "source": [
    "For *Chartwells*, *Subway \"41.878003 - 87.634299\"* and *Wendy's* those duplicates are not a problem because the `License number` is the same for each duplicate. But for the other 5 duplicates the `License number` varies and there is no obvious way to decide which license number to keep; those entries will then be dropped. For the others, the license number hereby found will be used to complete the primary database."
   ]
  },
  {
   "cell_type": "code",
   "execution_count": 47,
   "metadata": {},
   "outputs": [],
   "source": [
    "latest_duplicated = latest_duplicated.drop(columns = ['Inspection Date', 'Inspection ID'])"
   ]
  },
  {
   "cell_type": "code",
   "execution_count": 48,
   "metadata": {},
   "outputs": [],
   "source": [
    "#DataFrame.drop_duplicates(self, subset=None, keep='first', inplace=False)\n",
    "\n",
    "tuples = latest_duplicated.drop_duplicates(subset = ['DBA Name', 'Latitude', 'Longitude', 'License #'], keep = False)"
   ]
  },
  {
   "cell_type": "code",
   "execution_count": 49,
   "metadata": {},
   "outputs": [],
   "source": [
    "tuples = tuples.drop_duplicates(subset = ['DBA Name', 'Latitude', 'Longitude'], keep = 'first')"
   ]
  },
  {
   "cell_type": "code",
   "execution_count": 50,
   "metadata": {},
   "outputs": [],
   "source": [
    "tuples = tuples.set_index(['DBA Name', 'Latitude', 'Longitude'])"
   ]
  },
  {
   "cell_type": "code",
   "execution_count": 51,
   "metadata": {},
   "outputs": [],
   "source": [
    "dup = latest_v2[latest_v2.duplicated(subset = ['DBA Name', 'Latitude', 'Longitude', 'License #'], keep='first')]"
   ]
  },
  {
   "cell_type": "code",
   "execution_count": 52,
   "metadata": {},
   "outputs": [],
   "source": [
    "dup = dup.set_index(['DBA Name', 'Latitude', 'Longitude'])"
   ]
  },
  {
   "cell_type": "code",
   "execution_count": 53,
   "metadata": {},
   "outputs": [
    {
     "data": {
      "text/html": [
       "<div>\n",
       "<style scoped>\n",
       "    .dataframe tbody tr th:only-of-type {\n",
       "        vertical-align: middle;\n",
       "    }\n",
       "\n",
       "    .dataframe tbody tr th {\n",
       "        vertical-align: top;\n",
       "    }\n",
       "\n",
       "    .dataframe thead th {\n",
       "        text-align: right;\n",
       "    }\n",
       "</style>\n",
       "<table border=\"1\" class=\"dataframe\">\n",
       "  <thead>\n",
       "    <tr style=\"text-align: right;\">\n",
       "      <th></th>\n",
       "      <th></th>\n",
       "      <th></th>\n",
       "      <th>Inspection Date</th>\n",
       "      <th>Inspection ID</th>\n",
       "      <th>License #</th>\n",
       "      <th>Public_Private</th>\n",
       "    </tr>\n",
       "    <tr>\n",
       "      <th>DBA Name</th>\n",
       "      <th>Latitude</th>\n",
       "      <th>Longitude</th>\n",
       "      <th></th>\n",
       "      <th></th>\n",
       "      <th></th>\n",
       "      <th></th>\n",
       "    </tr>\n",
       "  </thead>\n",
       "  <tbody>\n",
       "    <tr>\n",
       "      <td>CHARTWELLS</td>\n",
       "      <td>41.743152</td>\n",
       "      <td>-87.587883</td>\n",
       "      <td>2019-03-21</td>\n",
       "      <td>2279761</td>\n",
       "      <td>2549069.0</td>\n",
       "      <td>Private</td>\n",
       "    </tr>\n",
       "    <tr>\n",
       "      <td>SUBWAY</td>\n",
       "      <td>41.878003</td>\n",
       "      <td>-87.634299</td>\n",
       "      <td>2015-12-07</td>\n",
       "      <td>1591320</td>\n",
       "      <td>1516580.0</td>\n",
       "      <td>Public</td>\n",
       "    </tr>\n",
       "    <tr>\n",
       "      <td>WENDY'S</td>\n",
       "      <td>41.692476</td>\n",
       "      <td>-87.622842</td>\n",
       "      <td>2014-03-13</td>\n",
       "      <td>1401916</td>\n",
       "      <td>1145749.0</td>\n",
       "      <td>Public</td>\n",
       "    </tr>\n",
       "  </tbody>\n",
       "</table>\n",
       "</div>"
      ],
      "text/plain": [
       "                                Inspection Date  Inspection ID  License #  \\\n",
       "DBA Name   Latitude  Longitude                                              \n",
       "CHARTWELLS 41.743152 -87.587883      2019-03-21        2279761  2549069.0   \n",
       "SUBWAY     41.878003 -87.634299      2015-12-07        1591320  1516580.0   \n",
       "WENDY'S    41.692476 -87.622842      2014-03-13        1401916  1145749.0   \n",
       "\n",
       "                                Public_Private  \n",
       "DBA Name   Latitude  Longitude                  \n",
       "CHARTWELLS 41.743152 -87.587883        Private  \n",
       "SUBWAY     41.878003 -87.634299         Public  \n",
       "WENDY'S    41.692476 -87.622842         Public  "
      ]
     },
     "execution_count": 53,
     "metadata": {},
     "output_type": "execute_result"
    }
   ],
   "source": [
    "unique = dup[~dup.index.isin(tuples.index)]\n",
    "unique"
   ]
  },
  {
   "cell_type": "code",
   "execution_count": 54,
   "metadata": {},
   "outputs": [],
   "source": [
    "#to_fill = latest_v2 - latest_duplicated + unique"
   ]
  },
  {
   "cell_type": "code",
   "execution_count": 55,
   "metadata": {},
   "outputs": [],
   "source": [
    "latest_v2 = latest_v2.set_index(['DBA Name', 'Latitude', 'Longitude'])"
   ]
  },
  {
   "cell_type": "code",
   "execution_count": 56,
   "metadata": {},
   "outputs": [],
   "source": [
    "latest_duplicated = latest_duplicated.set_index(['DBA Name', 'Latitude', 'Longitude'])"
   ]
  },
  {
   "cell_type": "code",
   "execution_count": 57,
   "metadata": {},
   "outputs": [],
   "source": [
    "latest_v2 = latest_v2[~latest_v2.index.isin(latest_duplicated.index)]"
   ]
  },
  {
   "cell_type": "code",
   "execution_count": 58,
   "metadata": {},
   "outputs": [],
   "source": [
    "to_fill = latest_v2.append(unique)"
   ]
  },
  {
   "cell_type": "code",
   "execution_count": 59,
   "metadata": {},
   "outputs": [
    {
     "data": {
      "text/html": [
       "<div>\n",
       "<style scoped>\n",
       "    .dataframe tbody tr th:only-of-type {\n",
       "        vertical-align: middle;\n",
       "    }\n",
       "\n",
       "    .dataframe tbody tr th {\n",
       "        vertical-align: top;\n",
       "    }\n",
       "\n",
       "    .dataframe thead th {\n",
       "        text-align: right;\n",
       "    }\n",
       "</style>\n",
       "<table border=\"1\" class=\"dataframe\">\n",
       "  <thead>\n",
       "    <tr style=\"text-align: right;\">\n",
       "      <th></th>\n",
       "      <th></th>\n",
       "      <th></th>\n",
       "      <th>Inspection Date</th>\n",
       "      <th>Inspection ID</th>\n",
       "      <th>License #</th>\n",
       "      <th>Public_Private</th>\n",
       "    </tr>\n",
       "    <tr>\n",
       "      <th>DBA Name</th>\n",
       "      <th>Latitude</th>\n",
       "      <th>Longitude</th>\n",
       "      <th></th>\n",
       "      <th></th>\n",
       "      <th></th>\n",
       "      <th></th>\n",
       "    </tr>\n",
       "  </thead>\n",
       "  <tbody>\n",
       "    <tr>\n",
       "      <td rowspan=\"5\" valign=\"top\">ARAMARK</td>\n",
       "      <td>41.653637</td>\n",
       "      <td>-87.605071</td>\n",
       "      <td>2019-01-29</td>\n",
       "      <td>2261263</td>\n",
       "      <td>3759928.0</td>\n",
       "      <td>Private</td>\n",
       "    </tr>\n",
       "    <tr>\n",
       "      <td>41.785791</td>\n",
       "      <td>-87.603745</td>\n",
       "      <td>2016-08-22</td>\n",
       "      <td>1950902</td>\n",
       "      <td>2162462.0</td>\n",
       "      <td>Public</td>\n",
       "    </tr>\n",
       "    <tr>\n",
       "      <td>41.788311</td>\n",
       "      <td>-87.604770</td>\n",
       "      <td>2018-10-31</td>\n",
       "      <td>2232591</td>\n",
       "      <td>2374384.0</td>\n",
       "      <td>Public</td>\n",
       "    </tr>\n",
       "    <tr>\n",
       "      <td>41.791261</td>\n",
       "      <td>-87.605085</td>\n",
       "      <td>2016-10-27</td>\n",
       "      <td>1970345</td>\n",
       "      <td>2374382.0</td>\n",
       "      <td>Public</td>\n",
       "    </tr>\n",
       "    <tr>\n",
       "      <td>41.866310</td>\n",
       "      <td>-87.610270</td>\n",
       "      <td>2014-05-30</td>\n",
       "      <td>1453362</td>\n",
       "      <td>2253161.0</td>\n",
       "      <td>Public</td>\n",
       "    </tr>\n",
       "  </tbody>\n",
       "</table>\n",
       "</div>"
      ],
      "text/plain": [
       "                              Inspection Date  Inspection ID  License #  \\\n",
       "DBA Name Latitude  Longitude                                              \n",
       "ARAMARK  41.653637 -87.605071      2019-01-29        2261263  3759928.0   \n",
       "         41.785791 -87.603745      2016-08-22        1950902  2162462.0   \n",
       "         41.788311 -87.604770      2018-10-31        2232591  2374384.0   \n",
       "         41.791261 -87.605085      2016-10-27        1970345  2374382.0   \n",
       "         41.866310 -87.610270      2014-05-30        1453362  2253161.0   \n",
       "\n",
       "                              Public_Private  \n",
       "DBA Name Latitude  Longitude                  \n",
       "ARAMARK  41.653637 -87.605071        Private  \n",
       "         41.785791 -87.603745         Public  \n",
       "         41.788311 -87.604770         Public  \n",
       "         41.791261 -87.605085         Public  \n",
       "         41.866310 -87.610270         Public  "
      ]
     },
     "execution_count": 59,
     "metadata": {},
     "output_type": "execute_result"
    }
   ],
   "source": [
    "to_fill.head()"
   ]
  },
  {
   "cell_type": "markdown",
   "metadata": {},
   "source": [
    "Now for every `DBA Name`, `Latitude` and `Longitude` having a **missing** `License number` in *eat_seat* but existing in *to_fill*, we can replace the **missing** `License number` in *eat_seat* by the one in *to_fill*. First we replace every Null value by 0.0 as we infered it was the same in the database."
   ]
  },
  {
   "cell_type": "code",
   "execution_count": 60,
   "metadata": {},
   "outputs": [],
   "source": [
    "eat_seat['License #'].fillna(0.0, inplace = True)"
   ]
  },
  {
   "cell_type": "code",
   "execution_count": 61,
   "metadata": {},
   "outputs": [],
   "source": [
    "for i, row in eat_seat.iterrows() :\n",
    "    if (bool(float(row['License #']) == 0.0)) & ((row['DBA Name'], row['Latitude'], row['Longitude']) in to_fill.index) :\n",
    "        eat_seat.loc[i, 'License #'] = float(to_fill.loc[(row['DBA Name'], row['Latitude'], row['Longitude']),['License #']]) #replace by the one in to_fill"
   ]
  },
  {
   "cell_type": "code",
   "execution_count": 62,
   "metadata": {},
   "outputs": [
    {
     "data": {
      "text/plain": [
       "129"
      ]
     },
     "execution_count": 62,
     "metadata": {},
     "output_type": "execute_result"
    }
   ],
   "source": [
    "len(eat_seat[eat_seat['License #'] == 0.0])"
   ]
  },
  {
   "cell_type": "markdown",
   "metadata": {},
   "source": [
    "We now delete the rows that still have a missing number, corresponding to those we were not able to infer."
   ]
  },
  {
   "cell_type": "code",
   "execution_count": 63,
   "metadata": {},
   "outputs": [],
   "source": [
    "missing = eat_seat[eat_seat['License #'] == 0.0]"
   ]
  },
  {
   "cell_type": "code",
   "execution_count": 64,
   "metadata": {},
   "outputs": [],
   "source": [
    "eat_seat = eat_seat.drop(missing.index)"
   ]
  },
  {
   "cell_type": "code",
   "execution_count": 65,
   "metadata": {},
   "outputs": [],
   "source": [
    "eat_seat = eat_seat.rename(columns={\"License #\": \"License\"}) #rename the column 'License #' into 'License'"
   ]
  },
  {
   "cell_type": "code",
   "execution_count": 66,
   "metadata": {},
   "outputs": [
    {
     "data": {
      "text/plain": [
       "23371"
      ]
     },
     "execution_count": 66,
     "metadata": {},
     "output_type": "execute_result"
    }
   ],
   "source": [
    "len(eat_seat.License.unique())"
   ]
  },
  {
   "cell_type": "code",
   "execution_count": 67,
   "metadata": {},
   "outputs": [
    {
     "data": {
      "text/plain": [
       "Text(0, 0.5, '#Inspections')"
      ]
     },
     "execution_count": 67,
     "metadata": {},
     "output_type": "execute_result"
    },
    {
     "data": {
      "image/png": "[encoded data removed]",
      "text/plain": [
       "<Figure size 432x288 with 1 Axes>"
      ]
     },
     "metadata": {
      "needs_background": "light"
     },
     "output_type": "display_data"
    }
   ],
   "source": [
    "def inspection_per_license(dblp):\n",
    "    return dblp[['License', 'Inspection ID']].groupby('License').count()\n",
    "\n",
    "ax = inspection_per_license(eat_seat).plot(rot=-45)\n",
    "ax.set_xlabel('License #')\n",
    "ax.set_ylabel('#Inspections')"
   ]
  },
  {
   "cell_type": "markdown",
   "metadata": {},
   "source": [
    "### 2.3 Community Areas"
   ]
  },
  {
   "cell_type": "code",
   "execution_count": 68,
   "metadata": {},
   "outputs": [
    {
     "data": {
      "text/plain": [
       "Inspection ID          0\n",
       "DBA Name               0\n",
       "License                0\n",
       "Facility Type          0\n",
       "Risk                   2\n",
       "Address                0\n",
       "Inspection Date        0\n",
       "Inspection Type        1\n",
       "Results                0\n",
       "Violations         36354\n",
       "Latitude             466\n",
       "Longitude            466\n",
       "FacilityGroup          0\n",
       "Public_Private         0\n",
       "dtype: int64"
      ]
     },
     "execution_count": 68,
     "metadata": {},
     "output_type": "execute_result"
    }
   ],
   "source": [
    "#eat_seat = eat_seat.fillna(value = {'Latitude': 0, 'Longitude': 0})\n",
    "eat_seat.isnull().sum()"
   ]
  },
  {
   "cell_type": "code",
   "execution_count": 69,
   "metadata": {},
   "outputs": [
    {
     "data": {
      "text/plain": [
       "Text(0, 0.5, '#Inspections')"
      ]
     },
     "execution_count": 69,
     "metadata": {},
     "output_type": "execute_result"
    },
    {
     "data": {
      "image/png": "[encoded data removed]",
      "text/plain": [
       "<Figure size 432x288 with 1 Axes>"
      ]
     },
     "metadata": {
      "needs_background": "light"
     },
     "output_type": "display_data"
    }
   ],
   "source": [
    "def inspection_per_latitude(dblp):\n",
    "    return dblp[['Latitude', 'Inspection ID']].groupby('Latitude').count()\n",
    "\n",
    "ax = inspection_per_latitude(eat_seat).plot(rot=-45)\n",
    "ax.set_xlabel('Latitude')\n",
    "ax.set_ylabel('#Inspections')"
   ]
  },
  {
   "cell_type": "code",
   "execution_count": 70,
   "metadata": {},
   "outputs": [
    {
     "data": {
      "text/plain": [
       "Text(0, 0.5, '#Inspections')"
      ]
     },
     "execution_count": 70,
     "metadata": {},
     "output_type": "execute_result"
    },
    {
     "data": {
      "image/png": "[encoded data removed]",
      "text/plain": [
       "<Figure size 432x288 with 1 Axes>"
      ]
     },
     "metadata": {
      "needs_background": "light"
     },
     "output_type": "display_data"
    }
   ],
   "source": [
    "def inspection_per_longitude(dblp):\n",
    "    return dblp[['Longitude', 'Inspection ID']].groupby('Longitude').count()\n",
    "\n",
    "ax = inspection_per_longitude(eat_seat).plot(rot=-45)\n",
    "ax.set_xlabel('Longitude')\n",
    "ax.set_ylabel('#Inspections')"
   ]
  },
  {
   "cell_type": "markdown",
   "metadata": {},
   "source": [
    "We see that there are entries with the `Latitude` or `Longitude` still missing. We create a dataframe containing them."
   ]
  },
  {
   "cell_type": "code",
   "execution_count": 71,
   "metadata": {},
   "outputs": [
    {
     "data": {
      "text/plain": [
       "466"
      ]
     },
     "execution_count": 71,
     "metadata": {},
     "output_type": "execute_result"
    }
   ],
   "source": [
    "#movies[(movies.duration >= 200) & (movies.genre == 'Drama')]\n",
    "\n",
    "missing_location = eat_seat[(eat_seat['Longitude'].isnull()) | (eat_seat['Latitude'].isnull())]\n",
    "\n",
    "len(missing_location)"
   ]
  },
  {
   "cell_type": "code",
   "execution_count": 72,
   "metadata": {},
   "outputs": [
    {
     "data": {
      "text/plain": [
       "0"
      ]
     },
     "execution_count": 72,
     "metadata": {},
     "output_type": "execute_result"
    }
   ],
   "source": [
    "only_longitude_or_latitude = missing_location = eat_seat[(eat_seat['Longitude'].isnull()) ^ (eat_seat['Latitude'].isnull())]\n",
    "len(only_longitude_or_latitude)"
   ]
  },
  {
   "cell_type": "markdown",
   "metadata": {},
   "source": [
    "We see that there is no entry where only either the `Latitude` or the `Longitude` is missing so we can consider one of the two missing as the only condition for the next iterating processes."
   ]
  },
  {
   "cell_type": "markdown",
   "metadata": {},
   "source": [
    "We search in the dataframe *eat_seat* if those *missing_location* entries are sometimes entered in the data with the `Latitude` and `Longitude` columns not empty."
   ]
  },
  {
   "cell_type": "code",
   "execution_count": 73,
   "metadata": {},
   "outputs": [
    {
     "data": {
      "text/html": [
       "<div>\n",
       "<style scoped>\n",
       "    .dataframe tbody tr th:only-of-type {\n",
       "        vertical-align: middle;\n",
       "    }\n",
       "\n",
       "    .dataframe tbody tr th {\n",
       "        vertical-align: top;\n",
       "    }\n",
       "\n",
       "    .dataframe thead th {\n",
       "        text-align: right;\n",
       "    }\n",
       "</style>\n",
       "<table border=\"1\" class=\"dataframe\">\n",
       "  <thead>\n",
       "    <tr style=\"text-align: right;\">\n",
       "      <th></th>\n",
       "      <th>Inspection ID</th>\n",
       "      <th>DBA Name</th>\n",
       "      <th>License</th>\n",
       "      <th>Facility Type</th>\n",
       "      <th>Risk</th>\n",
       "      <th>Address</th>\n",
       "      <th>Inspection Date</th>\n",
       "      <th>Inspection Type</th>\n",
       "      <th>Results</th>\n",
       "      <th>Violations</th>\n",
       "      <th>Latitude</th>\n",
       "      <th>Longitude</th>\n",
       "      <th>FacilityGroup</th>\n",
       "      <th>Public_Private</th>\n",
       "    </tr>\n",
       "  </thead>\n",
       "  <tbody>\n",
       "  </tbody>\n",
       "</table>\n",
       "</div>"
      ],
      "text/plain": [
       "Empty DataFrame\n",
       "Columns: [Inspection ID, DBA Name, License, Facility Type, Risk, Address, Inspection Date, Inspection Type, Results, Violations, Latitude, Longitude, FacilityGroup, Public_Private]\n",
       "Index: []"
      ]
     },
     "execution_count": 73,
     "metadata": {},
     "output_type": "execute_result"
    }
   ],
   "source": [
    "eat_seat[eat_seat['License'].isin(missing_location['License']) & (eat_seat['Longitude'].notnull())]"
   ]
  },
  {
   "cell_type": "markdown",
   "metadata": {},
   "source": [
    "We see that there is no entry we can use to infere the `Latitude` and `Longitude` missing : the rows with undefined coordinates are dropped."
   ]
  },
  {
   "cell_type": "code",
   "execution_count": 74,
   "metadata": {},
   "outputs": [],
   "source": [
    "Long_null = eat_seat[eat_seat['Longitude'].isnull()].index\n",
    "eat_seat.drop(Long_null, inplace=True)\n",
    "\n",
    "Lat_null = eat_seat[eat_seat['Latitude'].isnull()].index\n",
    "eat_seat.drop(Lat_null, inplace=True)"
   ]
  },
  {
   "cell_type": "code",
   "execution_count": 75,
   "metadata": {},
   "outputs": [
    {
     "data": {
      "text/html": [
       "<div>\n",
       "<style scoped>\n",
       "    .dataframe tbody tr th:only-of-type {\n",
       "        vertical-align: middle;\n",
       "    }\n",
       "\n",
       "    .dataframe tbody tr th {\n",
       "        vertical-align: top;\n",
       "    }\n",
       "\n",
       "    .dataframe thead th {\n",
       "        text-align: right;\n",
       "    }\n",
       "</style>\n",
       "<table border=\"1\" class=\"dataframe\">\n",
       "  <thead>\n",
       "    <tr style=\"text-align: right;\">\n",
       "      <th></th>\n",
       "      <th>Inspection ID</th>\n",
       "      <th>DBA Name</th>\n",
       "      <th>License</th>\n",
       "      <th>Facility Type</th>\n",
       "      <th>Risk</th>\n",
       "      <th>Address</th>\n",
       "      <th>Inspection Date</th>\n",
       "      <th>Inspection Type</th>\n",
       "      <th>Results</th>\n",
       "      <th>Violations</th>\n",
       "      <th>Latitude</th>\n",
       "      <th>Longitude</th>\n",
       "      <th>FacilityGroup</th>\n",
       "      <th>Public_Private</th>\n",
       "      <th>Location</th>\n",
       "    </tr>\n",
       "  </thead>\n",
       "  <tbody>\n",
       "    <tr>\n",
       "      <td>0</td>\n",
       "      <td>2352683</td>\n",
       "      <td>CHIPOTLE MEXICAN GRILL</td>\n",
       "      <td>2670642.0</td>\n",
       "      <td>Restaurant</td>\n",
       "      <td>3.0</td>\n",
       "      <td>1025 W ADDISON ST</td>\n",
       "      <td>2019-12-04</td>\n",
       "      <td>License Re-Inspection</td>\n",
       "      <td>Pass w/ Conditions</td>\n",
       "      <td>3. MANAGEMENT, FOOD EMPLOYEE AND CONDITIONAL E...</td>\n",
       "      <td>41.947118</td>\n",
       "      <td>-87.655381</td>\n",
       "      <td>restaurant</td>\n",
       "      <td>Public</td>\n",
       "      <td>POINT (41.94711774835235 -87.65538116221241)</td>\n",
       "    </tr>\n",
       "    <tr>\n",
       "      <td>1</td>\n",
       "      <td>2352734</td>\n",
       "      <td>CHILI'S T-I</td>\n",
       "      <td>34169.0</td>\n",
       "      <td>Restaurant</td>\n",
       "      <td>3.0</td>\n",
       "      <td>11601 W TOUHY AVE</td>\n",
       "      <td>2019-12-04</td>\n",
       "      <td>Canvass</td>\n",
       "      <td>Pass</td>\n",
       "      <td>10. ADEQUATE HANDWASHING SINKS PROPERLY SUPPLI...</td>\n",
       "      <td>42.008536</td>\n",
       "      <td>-87.914428</td>\n",
       "      <td>restaurant</td>\n",
       "      <td>Public</td>\n",
       "      <td>POINT (42.00853640086873 -87.91442843927048)</td>\n",
       "    </tr>\n",
       "    <tr>\n",
       "      <td>2</td>\n",
       "      <td>2352701</td>\n",
       "      <td>TAQUERIA BLUE LINE INC.</td>\n",
       "      <td>2703436.0</td>\n",
       "      <td>Restaurant</td>\n",
       "      <td>3.0</td>\n",
       "      <td>3401 W BELMONT AVE</td>\n",
       "      <td>2019-12-04</td>\n",
       "      <td>License</td>\n",
       "      <td>Pass w/ Conditions</td>\n",
       "      <td>3. MANAGEMENT, FOOD EMPLOYEE AND CONDITIONAL E...</td>\n",
       "      <td>41.939168</td>\n",
       "      <td>-87.712546</td>\n",
       "      <td>restaurant</td>\n",
       "      <td>Public</td>\n",
       "      <td>POINT (41.93916783376965 -87.71254599117191)</td>\n",
       "    </tr>\n",
       "  </tbody>\n",
       "</table>\n",
       "</div>"
      ],
      "text/plain": [
       "   Inspection ID                 DBA Name    License Facility Type  Risk  \\\n",
       "0        2352683   CHIPOTLE MEXICAN GRILL  2670642.0    Restaurant   3.0   \n",
       "1        2352734              CHILI'S T-I    34169.0    Restaurant   3.0   \n",
       "2        2352701  TAQUERIA BLUE LINE INC.  2703436.0    Restaurant   3.0   \n",
       "\n",
       "               Address Inspection Date        Inspection Type  \\\n",
       "0   1025 W ADDISON ST       2019-12-04  License Re-Inspection   \n",
       "1   11601 W TOUHY AVE       2019-12-04                Canvass   \n",
       "2  3401 W BELMONT AVE       2019-12-04                License   \n",
       "\n",
       "              Results                                         Violations  \\\n",
       "0  Pass w/ Conditions  3. MANAGEMENT, FOOD EMPLOYEE AND CONDITIONAL E...   \n",
       "1                Pass  10. ADEQUATE HANDWASHING SINKS PROPERLY SUPPLI...   \n",
       "2  Pass w/ Conditions  3. MANAGEMENT, FOOD EMPLOYEE AND CONDITIONAL E...   \n",
       "\n",
       "    Latitude  Longitude FacilityGroup Public_Private  \\\n",
       "0  41.947118 -87.655381    restaurant         Public   \n",
       "1  42.008536 -87.914428    restaurant         Public   \n",
       "2  41.939168 -87.712546    restaurant         Public   \n",
       "\n",
       "                                       Location  \n",
       "0  POINT (41.94711774835235 -87.65538116221241)  \n",
       "1  POINT (42.00853640086873 -87.91442843927048)  \n",
       "2  POINT (41.93916783376965 -87.71254599117191)  "
      ]
     },
     "execution_count": 75,
     "metadata": {},
     "output_type": "execute_result"
    }
   ],
   "source": [
    "eat_seat['Location'] = eat_seat.apply(lambda x : Point(x['Latitude'], x['Longitude']), axis = 1)\n",
    "eat_seat.head(3)"
   ]
  },
  {
   "cell_type": "markdown",
   "metadata": {},
   "source": [
    "https://data.cityofchicago.org/Facilities-Geographic-Boundaries/Boundaries-Community-Areas-current-/cauq-8yn6 provides a dataset containing **A COMPLETER**\n",
    "\n",
    "It will allows to properly attribute the *Community Areas* numbers to each establishments."
   ]
  },
  {
   "cell_type": "code",
   "execution_count": 76,
   "metadata": {},
   "outputs": [
    {
     "data": {
      "text/html": [
       "<div>\n",
       "<style scoped>\n",
       "    .dataframe tbody tr th:only-of-type {\n",
       "        vertical-align: middle;\n",
       "    }\n",
       "\n",
       "    .dataframe tbody tr th {\n",
       "        vertical-align: top;\n",
       "    }\n",
       "\n",
       "    .dataframe thead th {\n",
       "        text-align: right;\n",
       "    }\n",
       "</style>\n",
       "<table border=\"1\" class=\"dataframe\">\n",
       "  <thead>\n",
       "    <tr style=\"text-align: right;\">\n",
       "      <th></th>\n",
       "      <th>the_geom</th>\n",
       "      <th>AREA_NUMBE</th>\n",
       "    </tr>\n",
       "  </thead>\n",
       "  <tbody>\n",
       "    <tr>\n",
       "      <td>0</td>\n",
       "      <td>MULTIPOLYGON (((-87.60914087617894 41.84469250...</td>\n",
       "      <td>35</td>\n",
       "    </tr>\n",
       "    <tr>\n",
       "      <td>1</td>\n",
       "      <td>MULTIPOLYGON (((-87.59215283879394 41.81692934...</td>\n",
       "      <td>36</td>\n",
       "    </tr>\n",
       "    <tr>\n",
       "      <td>2</td>\n",
       "      <td>MULTIPOLYGON (((-87.62879823733725 41.80189303...</td>\n",
       "      <td>37</td>\n",
       "    </tr>\n",
       "  </tbody>\n",
       "</table>\n",
       "</div>"
      ],
      "text/plain": [
       "                                            the_geom  AREA_NUMBE\n",
       "0  MULTIPOLYGON (((-87.60914087617894 41.84469250...          35\n",
       "1  MULTIPOLYGON (((-87.59215283879394 41.81692934...          36\n",
       "2  MULTIPOLYGON (((-87.62879823733725 41.80189303...          37"
      ]
     },
     "execution_count": 76,
     "metadata": {},
     "output_type": "execute_result"
    }
   ],
   "source": [
    "commareas = pd.read_csv('CommAreas.csv', error_bad_lines=False)\n",
    "commareas = commareas.drop(columns = ['PERIMETER', 'AREA', 'COMAREA_', 'COMAREA_ID',\\\n",
    "                                   'COMMUNITY', 'AREA_NUM_1', 'SHAPE_AREA', 'SHAPE_LEN'])\n",
    "commareas.head(3)"
   ]
  },
  {
   "cell_type": "code",
   "execution_count": 77,
   "metadata": {},
   "outputs": [
    {
     "name": "stdout",
     "output_type": "stream",
     "text": [
      "<class 'pandas.core.frame.DataFrame'>\n",
      "RangeIndex: 77 entries, 0 to 76\n",
      "Data columns (total 2 columns):\n",
      "the_geom      77 non-null object\n",
      "AREA_NUMBE    77 non-null int64\n",
      "dtypes: int64(1), object(1)\n",
      "memory usage: 1.3+ KB\n"
     ]
    }
   ],
   "source": [
    "commareas.info()"
   ]
  },
  {
   "cell_type": "markdown",
   "metadata": {},
   "source": [
    "The **clean_polygon** function is created to standardized the `the_geom` column which needs to be in the same format than the `Location` column from the *eat_seat* Dataframe. "
   ]
  },
  {
   "cell_type": "code",
   "execution_count": 78,
   "metadata": {},
   "outputs": [],
   "source": [
    "def clean_polygon(poly) :\n",
    "    liste = poly.strip('MULTIPOLYGON (((').strip(')))').split(', ')\n",
    "    list_pairs = []\n",
    "    for coordinates in liste :\n",
    "        pair = coordinates.split(' ')\n",
    "        pair[0] = re.sub(\"[^0-9.]\", \"\", pair[0])\n",
    "        pair[1] = re.sub(\"[^0-9.]\", \"\", pair[1])\n",
    "        pair = tuple((float(pair[1]), -float(pair[0])))\n",
    "        list_pairs.append(pair)\n",
    "    return Polygon(list_pairs)"
   ]
  },
  {
   "cell_type": "code",
   "execution_count": 79,
   "metadata": {},
   "outputs": [],
   "source": [
    "commareas.the_geom = commareas.the_geom.apply(clean_polygon)"
   ]
  },
  {
   "cell_type": "code",
   "execution_count": 80,
   "metadata": {},
   "outputs": [
    {
     "data": {
      "text/html": [
       "<div>\n",
       "<style scoped>\n",
       "    .dataframe tbody tr th:only-of-type {\n",
       "        vertical-align: middle;\n",
       "    }\n",
       "\n",
       "    .dataframe tbody tr th {\n",
       "        vertical-align: top;\n",
       "    }\n",
       "\n",
       "    .dataframe thead th {\n",
       "        text-align: right;\n",
       "    }\n",
       "</style>\n",
       "<table border=\"1\" class=\"dataframe\">\n",
       "  <thead>\n",
       "    <tr style=\"text-align: right;\">\n",
       "      <th></th>\n",
       "      <th>the_geom</th>\n",
       "      <th>AREA_NUMBE</th>\n",
       "    </tr>\n",
       "  </thead>\n",
       "  <tbody>\n",
       "    <tr>\n",
       "      <td>0</td>\n",
       "      <td>POLYGON ((41.84469250265398 -87.60914087617894...</td>\n",
       "      <td>35</td>\n",
       "    </tr>\n",
       "    <tr>\n",
       "      <td>1</td>\n",
       "      <td>POLYGON ((41.81692934626684 -87.59215283879394...</td>\n",
       "      <td>36</td>\n",
       "    </tr>\n",
       "    <tr>\n",
       "      <td>2</td>\n",
       "      <td>POLYGON ((41.80189303368919 -87.62879823733725...</td>\n",
       "      <td>37</td>\n",
       "    </tr>\n",
       "  </tbody>\n",
       "</table>\n",
       "</div>"
      ],
      "text/plain": [
       "                                            the_geom  AREA_NUMBE\n",
       "0  POLYGON ((41.84469250265398 -87.60914087617894...          35\n",
       "1  POLYGON ((41.81692934626684 -87.59215283879394...          36\n",
       "2  POLYGON ((41.80189303368919 -87.62879823733725...          37"
      ]
     },
     "execution_count": 80,
     "metadata": {},
     "output_type": "execute_result"
    }
   ],
   "source": [
    "commareas.head(3)"
   ]
  },
  {
   "cell_type": "code",
   "execution_count": 81,
   "metadata": {},
   "outputs": [],
   "source": [
    "def comarea_attribution(row) :\n",
    "    var = 0.0\n",
    "    for i, area in commareas.iterrows() :\n",
    "        if (area[0].contains(row.loc['Location'])) :\n",
    "            var = float(area[1])\n",
    "            break\n",
    "    return var"
   ]
  },
  {
   "cell_type": "markdown",
   "metadata": {},
   "source": [
    "This function is supposed to check if the location point of each row is in a community area polygon. If it is, it returns the Community Area number, otherwise, it returns 0.0"
   ]
  },
  {
   "cell_type": "code",
   "execution_count": 82,
   "metadata": {},
   "outputs": [],
   "source": [
    "eat_seat['Community Area'] = eat_seat.apply(lambda x : comarea_attribution(x), axis = 1)"
   ]
  },
  {
   "cell_type": "code",
   "execution_count": 83,
   "metadata": {},
   "outputs": [
    {
     "data": {
      "text/html": [
       "<div>\n",
       "<style scoped>\n",
       "    .dataframe tbody tr th:only-of-type {\n",
       "        vertical-align: middle;\n",
       "    }\n",
       "\n",
       "    .dataframe tbody tr th {\n",
       "        vertical-align: top;\n",
       "    }\n",
       "\n",
       "    .dataframe thead th {\n",
       "        text-align: right;\n",
       "    }\n",
       "</style>\n",
       "<table border=\"1\" class=\"dataframe\">\n",
       "  <thead>\n",
       "    <tr style=\"text-align: right;\">\n",
       "      <th></th>\n",
       "      <th>Inspection ID</th>\n",
       "      <th>DBA Name</th>\n",
       "      <th>License</th>\n",
       "      <th>Facility Type</th>\n",
       "      <th>Risk</th>\n",
       "      <th>Address</th>\n",
       "      <th>Inspection Date</th>\n",
       "      <th>Inspection Type</th>\n",
       "      <th>Results</th>\n",
       "      <th>Violations</th>\n",
       "      <th>Latitude</th>\n",
       "      <th>Longitude</th>\n",
       "      <th>FacilityGroup</th>\n",
       "      <th>Public_Private</th>\n",
       "      <th>Location</th>\n",
       "      <th>Community Area</th>\n",
       "    </tr>\n",
       "  </thead>\n",
       "  <tbody>\n",
       "    <tr>\n",
       "      <td>0</td>\n",
       "      <td>2352683</td>\n",
       "      <td>CHIPOTLE MEXICAN GRILL</td>\n",
       "      <td>2670642.0</td>\n",
       "      <td>Restaurant</td>\n",
       "      <td>3.0</td>\n",
       "      <td>1025 W ADDISON ST</td>\n",
       "      <td>2019-12-04</td>\n",
       "      <td>License Re-Inspection</td>\n",
       "      <td>Pass w/ Conditions</td>\n",
       "      <td>3. MANAGEMENT, FOOD EMPLOYEE AND CONDITIONAL E...</td>\n",
       "      <td>41.947118</td>\n",
       "      <td>-87.655381</td>\n",
       "      <td>restaurant</td>\n",
       "      <td>Public</td>\n",
       "      <td>POINT (41.94711774835235 -87.65538116221241)</td>\n",
       "      <td>6.0</td>\n",
       "    </tr>\n",
       "    <tr>\n",
       "      <td>1</td>\n",
       "      <td>2352734</td>\n",
       "      <td>CHILI'S T-I</td>\n",
       "      <td>34169.0</td>\n",
       "      <td>Restaurant</td>\n",
       "      <td>3.0</td>\n",
       "      <td>11601 W TOUHY AVE</td>\n",
       "      <td>2019-12-04</td>\n",
       "      <td>Canvass</td>\n",
       "      <td>Pass</td>\n",
       "      <td>10. ADEQUATE HANDWASHING SINKS PROPERLY SUPPLI...</td>\n",
       "      <td>42.008536</td>\n",
       "      <td>-87.914428</td>\n",
       "      <td>restaurant</td>\n",
       "      <td>Public</td>\n",
       "      <td>POINT (42.00853640086873 -87.91442843927048)</td>\n",
       "      <td>0.0</td>\n",
       "    </tr>\n",
       "    <tr>\n",
       "      <td>2</td>\n",
       "      <td>2352701</td>\n",
       "      <td>TAQUERIA BLUE LINE INC.</td>\n",
       "      <td>2703436.0</td>\n",
       "      <td>Restaurant</td>\n",
       "      <td>3.0</td>\n",
       "      <td>3401 W BELMONT AVE</td>\n",
       "      <td>2019-12-04</td>\n",
       "      <td>License</td>\n",
       "      <td>Pass w/ Conditions</td>\n",
       "      <td>3. MANAGEMENT, FOOD EMPLOYEE AND CONDITIONAL E...</td>\n",
       "      <td>41.939168</td>\n",
       "      <td>-87.712546</td>\n",
       "      <td>restaurant</td>\n",
       "      <td>Public</td>\n",
       "      <td>POINT (41.93916783376965 -87.71254599117191)</td>\n",
       "      <td>21.0</td>\n",
       "    </tr>\n",
       "  </tbody>\n",
       "</table>\n",
       "</div>"
      ],
      "text/plain": [
       "   Inspection ID                 DBA Name    License Facility Type  Risk  \\\n",
       "0        2352683   CHIPOTLE MEXICAN GRILL  2670642.0    Restaurant   3.0   \n",
       "1        2352734              CHILI'S T-I    34169.0    Restaurant   3.0   \n",
       "2        2352701  TAQUERIA BLUE LINE INC.  2703436.0    Restaurant   3.0   \n",
       "\n",
       "               Address Inspection Date        Inspection Type  \\\n",
       "0   1025 W ADDISON ST       2019-12-04  License Re-Inspection   \n",
       "1   11601 W TOUHY AVE       2019-12-04                Canvass   \n",
       "2  3401 W BELMONT AVE       2019-12-04                License   \n",
       "\n",
       "              Results                                         Violations  \\\n",
       "0  Pass w/ Conditions  3. MANAGEMENT, FOOD EMPLOYEE AND CONDITIONAL E...   \n",
       "1                Pass  10. ADEQUATE HANDWASHING SINKS PROPERLY SUPPLI...   \n",
       "2  Pass w/ Conditions  3. MANAGEMENT, FOOD EMPLOYEE AND CONDITIONAL E...   \n",
       "\n",
       "    Latitude  Longitude FacilityGroup Public_Private  \\\n",
       "0  41.947118 -87.655381    restaurant         Public   \n",
       "1  42.008536 -87.914428    restaurant         Public   \n",
       "2  41.939168 -87.712546    restaurant         Public   \n",
       "\n",
       "                                       Location  Community Area  \n",
       "0  POINT (41.94711774835235 -87.65538116221241)             6.0  \n",
       "1  POINT (42.00853640086873 -87.91442843927048)             0.0  \n",
       "2  POINT (41.93916783376965 -87.71254599117191)            21.0  "
      ]
     },
     "execution_count": 83,
     "metadata": {},
     "output_type": "execute_result"
    }
   ],
   "source": [
    "eat_seat.head(3)"
   ]
  },
  {
   "cell_type": "code",
   "execution_count": 84,
   "metadata": {},
   "outputs": [],
   "source": [
    "eat_seat.to_csv('eat_seat.csv')"
   ]
  },
  {
   "cell_type": "code",
   "execution_count": 85,
   "metadata": {},
   "outputs": [
    {
     "data": {
      "text/plain": [
       "Text(0, 0.5, '#Inspections')"
      ]
     },
     "execution_count": 85,
     "metadata": {},
     "output_type": "execute_result"
    },
    {
     "data": {
      "image/png": "[encoded data removed]",
      "text/plain": [
       "<Figure size 432x288 with 1 Axes>"
      ]
     },
     "metadata": {
      "needs_background": "light"
     },
     "output_type": "display_data"
    }
   ],
   "source": [
    "def facility_per_comarea(dblp):\n",
    "    return dblp[['Community Area', 'Inspection ID']].groupby('Community Area').count()\n",
    "\n",
    "ax = facility_per_comarea(eat_seat).plot(rot=-45)\n",
    "ax.set_xlabel('Community Area')\n",
    "ax.set_ylabel('#Inspections')"
   ]
  },
  {
   "cell_type": "markdown",
   "metadata": {},
   "source": [
    "### 2.4 The Violations\n",
    "\n",
    "The Food Code Rules has changed since the 1st July 2018. After investigating those changes, it seems that only the denomination of the violations but not the violation itself has changed, and a few additionnal violations has been added in the possible violations. It means that those changes does not need more processing and can just be considered together as a common list of violations."
   ]
  },
  {
   "cell_type": "code",
   "execution_count": 86,
   "metadata": {},
   "outputs": [
    {
     "data": {
      "text/plain": [
       "116780"
      ]
     },
     "execution_count": 86,
     "metadata": {},
     "output_type": "execute_result"
    }
   ],
   "source": [
    "len(eat_seat.Violations.unique())"
   ]
  },
  {
   "cell_type": "code",
   "execution_count": 87,
   "metadata": {},
   "outputs": [
    {
     "data": {
      "text/plain": [
       "'3. MANAGEMENT, FOOD EMPLOYEE AND CONDITIONAL EMPLOYEE; KNOWLEDGE, RESPONSIBILITIES AND REPORTING - Comments: FOUND NO EMPLOYEE HEALTH POLICY AT PREMISES. PRIORITY FOUNDATION. NO CITATION ISSUED. 7-38-010. MUST PROVIDE.'"
      ]
     },
     "execution_count": 87,
     "metadata": {},
     "output_type": "execute_result"
    }
   ],
   "source": [
    "eat_seat.Violations[0]"
   ]
  },
  {
   "cell_type": "markdown",
   "metadata": {},
   "source": [
    "It seems that every violation is a unique entry because it contains not only the violation type but also the comments of the inspectors. We have to split the Violations column into 3 different columns :\n",
    "- Violation number\n",
    "- Violation type\n",
    "- Violation comments\n",
    "\n",
    "It seems that every violation cell is architectured this way :\n",
    "\"number of the violation\". \"TYPE OF THE VIOLATION\" - Comments : \"comments of the inspector\" (this format repeated as many times as the number of violations detected the day of the inspection, separated with a vertical line)\n",
    "\n",
    "We just want to keep the violation number (because we can check which violation it is online). We create a column NumberViolations containing the ID of the violations found during the corresponding investigation. The rest is not kept because the titles of the violations can be found online and we do not plan on using the comments of the investigators.\n",
    "\n",
    "As we can do this cleaning only for the rows where the field Violations is not empty, we will temporarily drop all the other rows."
   ]
  },
  {
   "cell_type": "code",
   "execution_count": 88,
   "metadata": {},
   "outputs": [],
   "source": [
    "temp = eat_seat.dropna(subset=['Violations'], axis = 0, how = 'all')"
   ]
  },
  {
   "cell_type": "code",
   "execution_count": 89,
   "metadata": {},
   "outputs": [],
   "source": [
    "violations = temp.apply(lambda row: re.findall('\\|\\s([0-9]+)[.]', str(row['Violations'])), axis = 1)"
   ]
  },
  {
   "cell_type": "code",
   "execution_count": 90,
   "metadata": {},
   "outputs": [],
   "source": [
    "first_violations = temp.apply(lambda row: row['Violations'].split('.')[0], axis = 1)"
   ]
  },
  {
   "cell_type": "code",
   "execution_count": 91,
   "metadata": {},
   "outputs": [],
   "source": [
    "for violation, first_violation in zip(violations, first_violations):\n",
    "    violation.append(first_violation)\n",
    "\n",
    "flat_list = [item for sublist in violations for item in sublist]\n",
    "unique, counts = np.unique(flat_list, return_counts=True)"
   ]
  },
  {
   "cell_type": "code",
   "execution_count": 92,
   "metadata": {},
   "outputs": [],
   "source": [
    "temp = temp.assign(NumberViolations = violations)"
   ]
  },
  {
   "cell_type": "code",
   "execution_count": 93,
   "metadata": {},
   "outputs": [
    {
     "data": {
      "text/html": [
       "<div>\n",
       "<style scoped>\n",
       "    .dataframe tbody tr th:only-of-type {\n",
       "        vertical-align: middle;\n",
       "    }\n",
       "\n",
       "    .dataframe tbody tr th {\n",
       "        vertical-align: top;\n",
       "    }\n",
       "\n",
       "    .dataframe thead th {\n",
       "        text-align: right;\n",
       "    }\n",
       "</style>\n",
       "<table border=\"1\" class=\"dataframe\">\n",
       "  <thead>\n",
       "    <tr style=\"text-align: right;\">\n",
       "      <th></th>\n",
       "      <th>Inspection ID</th>\n",
       "      <th>NumberViolations</th>\n",
       "    </tr>\n",
       "  </thead>\n",
       "  <tbody>\n",
       "    <tr>\n",
       "      <td>0</td>\n",
       "      <td>2352683</td>\n",
       "      <td>[3]</td>\n",
       "    </tr>\n",
       "    <tr>\n",
       "      <td>1</td>\n",
       "      <td>2352734</td>\n",
       "      <td>[47, 49, 55, 55, 10]</td>\n",
       "    </tr>\n",
       "    <tr>\n",
       "      <td>2</td>\n",
       "      <td>2352701</td>\n",
       "      <td>[5, 16, 51, 53, 58, 3]</td>\n",
       "    </tr>\n",
       "  </tbody>\n",
       "</table>\n",
       "</div>"
      ],
      "text/plain": [
       "   Inspection ID        NumberViolations\n",
       "0        2352683                     [3]\n",
       "1        2352734    [47, 49, 55, 55, 10]\n",
       "2        2352701  [5, 16, 51, 53, 58, 3]"
      ]
     },
     "execution_count": 93,
     "metadata": {},
     "output_type": "execute_result"
    }
   ],
   "source": [
    "temp = temp[['Inspection ID', 'NumberViolations']]\n",
    "temp.head(3)"
   ]
  },
  {
   "cell_type": "code",
   "execution_count": 94,
   "metadata": {},
   "outputs": [
    {
     "data": {
      "text/plain": [
       "153650"
      ]
     },
     "execution_count": 94,
     "metadata": {},
     "output_type": "execute_result"
    }
   ],
   "source": [
    "len(eat_seat)"
   ]
  },
  {
   "cell_type": "markdown",
   "metadata": {},
   "source": [
    "Now that we have a dataframe with every inspection ID of the inspections where violations has been found and a column containing the list of those violations, we can add it to the primary dataframe."
   ]
  },
  {
   "cell_type": "code",
   "execution_count": 95,
   "metadata": {},
   "outputs": [],
   "source": [
    "eat_seat = pd.merge(eat_seat, temp, how='left', on='Inspection ID', left_index=True, right_index=False)"
   ]
  },
  {
   "cell_type": "code",
   "execution_count": 96,
   "metadata": {},
   "outputs": [
    {
     "data": {
      "text/html": [
       "<div>\n",
       "<style scoped>\n",
       "    .dataframe tbody tr th:only-of-type {\n",
       "        vertical-align: middle;\n",
       "    }\n",
       "\n",
       "    .dataframe tbody tr th {\n",
       "        vertical-align: top;\n",
       "    }\n",
       "\n",
       "    .dataframe thead th {\n",
       "        text-align: right;\n",
       "    }\n",
       "</style>\n",
       "<table border=\"1\" class=\"dataframe\">\n",
       "  <thead>\n",
       "    <tr style=\"text-align: right;\">\n",
       "      <th></th>\n",
       "      <th>DBA Name</th>\n",
       "      <th>License</th>\n",
       "      <th>Facility Type</th>\n",
       "      <th>Risk</th>\n",
       "      <th>Address</th>\n",
       "      <th>Inspection Date</th>\n",
       "      <th>Inspection Type</th>\n",
       "      <th>Results</th>\n",
       "      <th>Violations</th>\n",
       "      <th>Latitude</th>\n",
       "      <th>Longitude</th>\n",
       "      <th>FacilityGroup</th>\n",
       "      <th>Public_Private</th>\n",
       "      <th>Location</th>\n",
       "      <th>Community Area</th>\n",
       "      <th>NumberViolations</th>\n",
       "    </tr>\n",
       "    <tr>\n",
       "      <th>Inspection ID</th>\n",
       "      <th></th>\n",
       "      <th></th>\n",
       "      <th></th>\n",
       "      <th></th>\n",
       "      <th></th>\n",
       "      <th></th>\n",
       "      <th></th>\n",
       "      <th></th>\n",
       "      <th></th>\n",
       "      <th></th>\n",
       "      <th></th>\n",
       "      <th></th>\n",
       "      <th></th>\n",
       "      <th></th>\n",
       "      <th></th>\n",
       "      <th></th>\n",
       "    </tr>\n",
       "  </thead>\n",
       "  <tbody>\n",
       "    <tr>\n",
       "      <td>2352683</td>\n",
       "      <td>CHIPOTLE MEXICAN GRILL</td>\n",
       "      <td>2670642.0</td>\n",
       "      <td>Restaurant</td>\n",
       "      <td>3.0</td>\n",
       "      <td>1025 W ADDISON ST</td>\n",
       "      <td>2019-12-04</td>\n",
       "      <td>License Re-Inspection</td>\n",
       "      <td>Pass w/ Conditions</td>\n",
       "      <td>3. MANAGEMENT, FOOD EMPLOYEE AND CONDITIONAL E...</td>\n",
       "      <td>41.947118</td>\n",
       "      <td>-87.655381</td>\n",
       "      <td>restaurant</td>\n",
       "      <td>Public</td>\n",
       "      <td>POINT (41.94711774835235 -87.65538116221241)</td>\n",
       "      <td>6.0</td>\n",
       "      <td>[3]</td>\n",
       "    </tr>\n",
       "    <tr>\n",
       "      <td>2352734</td>\n",
       "      <td>CHILI'S T-I</td>\n",
       "      <td>34169.0</td>\n",
       "      <td>Restaurant</td>\n",
       "      <td>3.0</td>\n",
       "      <td>11601 W TOUHY AVE</td>\n",
       "      <td>2019-12-04</td>\n",
       "      <td>Canvass</td>\n",
       "      <td>Pass</td>\n",
       "      <td>10. ADEQUATE HANDWASHING SINKS PROPERLY SUPPLI...</td>\n",
       "      <td>42.008536</td>\n",
       "      <td>-87.914428</td>\n",
       "      <td>restaurant</td>\n",
       "      <td>Public</td>\n",
       "      <td>POINT (42.00853640086873 -87.91442843927048)</td>\n",
       "      <td>0.0</td>\n",
       "      <td>[47, 49, 55, 55, 10]</td>\n",
       "    </tr>\n",
       "    <tr>\n",
       "      <td>2352701</td>\n",
       "      <td>TAQUERIA BLUE LINE INC.</td>\n",
       "      <td>2703436.0</td>\n",
       "      <td>Restaurant</td>\n",
       "      <td>3.0</td>\n",
       "      <td>3401 W BELMONT AVE</td>\n",
       "      <td>2019-12-04</td>\n",
       "      <td>License</td>\n",
       "      <td>Pass w/ Conditions</td>\n",
       "      <td>3. MANAGEMENT, FOOD EMPLOYEE AND CONDITIONAL E...</td>\n",
       "      <td>41.939168</td>\n",
       "      <td>-87.712546</td>\n",
       "      <td>restaurant</td>\n",
       "      <td>Public</td>\n",
       "      <td>POINT (41.93916783376965 -87.71254599117191)</td>\n",
       "      <td>21.0</td>\n",
       "      <td>[5, 16, 51, 53, 58, 3]</td>\n",
       "    </tr>\n",
       "  </tbody>\n",
       "</table>\n",
       "</div>"
      ],
      "text/plain": [
       "                              DBA Name    License Facility Type  Risk  \\\n",
       "Inspection ID                                                           \n",
       "2352683         CHIPOTLE MEXICAN GRILL  2670642.0    Restaurant   3.0   \n",
       "2352734                    CHILI'S T-I    34169.0    Restaurant   3.0   \n",
       "2352701        TAQUERIA BLUE LINE INC.  2703436.0    Restaurant   3.0   \n",
       "\n",
       "                           Address Inspection Date        Inspection Type  \\\n",
       "Inspection ID                                                               \n",
       "2352683         1025 W ADDISON ST       2019-12-04  License Re-Inspection   \n",
       "2352734         11601 W TOUHY AVE       2019-12-04                Canvass   \n",
       "2352701        3401 W BELMONT AVE       2019-12-04                License   \n",
       "\n",
       "                          Results  \\\n",
       "Inspection ID                       \n",
       "2352683        Pass w/ Conditions   \n",
       "2352734                      Pass   \n",
       "2352701        Pass w/ Conditions   \n",
       "\n",
       "                                                      Violations   Latitude  \\\n",
       "Inspection ID                                                                 \n",
       "2352683        3. MANAGEMENT, FOOD EMPLOYEE AND CONDITIONAL E...  41.947118   \n",
       "2352734        10. ADEQUATE HANDWASHING SINKS PROPERLY SUPPLI...  42.008536   \n",
       "2352701        3. MANAGEMENT, FOOD EMPLOYEE AND CONDITIONAL E...  41.939168   \n",
       "\n",
       "               Longitude FacilityGroup Public_Private  \\\n",
       "Inspection ID                                           \n",
       "2352683       -87.655381    restaurant         Public   \n",
       "2352734       -87.914428    restaurant         Public   \n",
       "2352701       -87.712546    restaurant         Public   \n",
       "\n",
       "                                                   Location  Community Area  \\\n",
       "Inspection ID                                                                 \n",
       "2352683        POINT (41.94711774835235 -87.65538116221241)             6.0   \n",
       "2352734        POINT (42.00853640086873 -87.91442843927048)             0.0   \n",
       "2352701        POINT (41.93916783376965 -87.71254599117191)            21.0   \n",
       "\n",
       "                     NumberViolations  \n",
       "Inspection ID                          \n",
       "2352683                           [3]  \n",
       "2352734          [47, 49, 55, 55, 10]  \n",
       "2352701        [5, 16, 51, 53, 58, 3]  "
      ]
     },
     "execution_count": 96,
     "metadata": {},
     "output_type": "execute_result"
    }
   ],
   "source": [
    "eat_seat = eat_seat.set_index(['Inspection ID']) #redifines the Index\n",
    "eat_seat.head(3)"
   ]
  },
  {
   "cell_type": "code",
   "execution_count": 97,
   "metadata": {},
   "outputs": [
    {
     "data": {
      "text/plain": [
       "True"
      ]
     },
     "execution_count": 97,
     "metadata": {},
     "output_type": "execute_result"
    }
   ],
   "source": [
    "eat_seat.index.is_unique"
   ]
  },
  {
   "cell_type": "code",
   "execution_count": 98,
   "metadata": {},
   "outputs": [
    {
     "data": {
      "text/plain": [
       "153650"
      ]
     },
     "execution_count": 98,
     "metadata": {},
     "output_type": "execute_result"
    }
   ],
   "source": [
    "len(eat_seat)"
   ]
  },
  {
   "cell_type": "markdown",
   "metadata": {},
   "source": [
    "### 2.4 The Inspection Results"
   ]
  },
  {
   "cell_type": "code",
   "execution_count": 99,
   "metadata": {},
   "outputs": [
    {
     "data": {
      "text/plain": [
       "DBA Name                0\n",
       "License                 0\n",
       "Facility Type           0\n",
       "Risk                    2\n",
       "Address                 0\n",
       "Inspection Date         0\n",
       "Inspection Type         1\n",
       "Results                 0\n",
       "Violations          36281\n",
       "Latitude                0\n",
       "Longitude               0\n",
       "FacilityGroup           0\n",
       "Public_Private          0\n",
       "Location                0\n",
       "Community Area          0\n",
       "NumberViolations    36281\n",
       "dtype: int64"
      ]
     },
     "execution_count": 99,
     "metadata": {},
     "output_type": "execute_result"
    }
   ],
   "source": [
    "eat_seat.isnull().sum()"
   ]
  },
  {
   "cell_type": "markdown",
   "metadata": {},
   "source": [
    "We see that there are more than 50'000 rows where the Violations column is empty. We have to study wether those cells are empty because there were no violations (meaning the estalishment is healthy) or because the inspection was not successfull (meaning we can drop the row because it can not be used in our research)."
   ]
  },
  {
   "cell_type": "code",
   "execution_count": 100,
   "metadata": {},
   "outputs": [
    {
     "data": {
      "text/plain": [
       "array(['Pass w/ Conditions', 'Pass', 'Fail', 'Not Ready',\n",
       "       'Out of Business', 'No Entry', 'Business Not Located'],\n",
       "      dtype=object)"
      ]
     },
     "execution_count": 100,
     "metadata": {},
     "output_type": "execute_result"
    }
   ],
   "source": [
    "eat_seat.Results.unique()"
   ]
  },
  {
   "cell_type": "markdown",
   "metadata": {},
   "source": [
    "We create new databases for every entries of the column Results in order to study them."
   ]
  },
  {
   "cell_type": "code",
   "execution_count": 101,
   "metadata": {},
   "outputs": [],
   "source": [
    "noentry = eat_seat[eat_seat['Results']=='No Entry']"
   ]
  },
  {
   "cell_type": "code",
   "execution_count": 102,
   "metadata": {},
   "outputs": [],
   "source": [
    "outofbusiness = eat_seat[eat_seat['Results']=='Out of Business']"
   ]
  },
  {
   "cell_type": "code",
   "execution_count": 103,
   "metadata": {},
   "outputs": [],
   "source": [
    "notready = eat_seat[eat_seat['Results']=='Not Ready']"
   ]
  },
  {
   "cell_type": "code",
   "execution_count": 104,
   "metadata": {},
   "outputs": [],
   "source": [
    "businessnotlocated = eat_seat[eat_seat['Results']=='Business Not Located']"
   ]
  },
  {
   "cell_type": "code",
   "execution_count": 105,
   "metadata": {},
   "outputs": [],
   "source": [
    "passwithconditions = eat_seat[eat_seat['Results']=='Pass w/ Conditions']"
   ]
  },
  {
   "cell_type": "code",
   "execution_count": 106,
   "metadata": {},
   "outputs": [],
   "source": [
    "passed = eat_seat[eat_seat['Results']=='Pass']"
   ]
  },
  {
   "cell_type": "code",
   "execution_count": 107,
   "metadata": {},
   "outputs": [],
   "source": [
    "fail = eat_seat[eat_seat['Results']=='Fail']"
   ]
  },
  {
   "cell_type": "markdown",
   "metadata": {},
   "source": [
    "We investigate how many of each results' type has the column Violations empty."
   ]
  },
  {
   "cell_type": "code",
   "execution_count": 108,
   "metadata": {},
   "outputs": [],
   "source": [
    "results_dic = {'No Entry' : noentry, 'Out of Business' : outofbusiness, 'Not Ready' : notready,\\\n",
    "               'Business Not Located' : businessnotlocated, 'Pass With Conditions' : passwithconditions, 'Pass' : passed, 'Fail' : fail}"
   ]
  },
  {
   "cell_type": "code",
   "execution_count": 109,
   "metadata": {},
   "outputs": [
    {
     "name": "stdout",
     "output_type": "stream",
     "text": [
      "No Entry : 5224 empty Violation columns / 5558 columns = 0.9399064411658871 \n",
      "\n",
      "Out of Business : 10007 empty Violation columns / 10031 columns = 0.9976074170072774 \n",
      "\n",
      "Not Ready : 1254 empty Violation columns / 1280 columns = 0.9796875 \n",
      "\n",
      "Business Not Located : 29 empty Violation columns / 29 columns = 1.0 \n",
      "\n",
      "Pass With Conditions : 391 empty Violation columns / 22901 columns = 0.01707349024060085 \n",
      "\n",
      "Pass : 17377 empty Violation columns / 85077 columns = 0.20425026740482152 \n",
      "\n",
      "Fail : 1999 empty Violation columns / 28774 columns = 0.06947244039758114 \n",
      "\n"
     ]
    }
   ],
   "source": [
    "for name, result in results_dic.items() :\n",
    "    print(name, ':', len(result[result['Violations'].isnull()]), 'empty Violation columns /', len(result),\\\n",
    "          'columns =', (len(result[result['Violations'].isnull()])/len(result)), '\\n')"
   ]
  },
  {
   "cell_type": "markdown",
   "metadata": {},
   "source": [
    "We see that almost every entries where the Result is either 'No entry', 'Out of Business', 'Not ready' or 'Business not located' have the Violations field empty. We can safely drop those lines because they are not pertinent for our research."
   ]
  },
  {
   "cell_type": "code",
   "execution_count": 110,
   "metadata": {},
   "outputs": [],
   "source": [
    "results = ['Pass', 'Pass w/ Conditions', 'Fail']"
   ]
  },
  {
   "cell_type": "code",
   "execution_count": 111,
   "metadata": {},
   "outputs": [
    {
     "data": {
      "text/plain": [
       "136752"
      ]
     },
     "execution_count": 111,
     "metadata": {},
     "output_type": "execute_result"
    }
   ],
   "source": [
    "eat_seat = eat_seat.loc[eat_seat['Results'].isin(results)]\n",
    "len(eat_seat)"
   ]
  },
  {
   "cell_type": "markdown",
   "metadata": {},
   "source": [
    "Now we have to take care of the cases where there is no Violations and the Result is either Pass, Fail or Pass with conditions.\n",
    "\n",
    "When the result is Pass and the Violation field is empty, we can add a 0 in the column \"NumberViolations\"."
   ]
  },
  {
   "cell_type": "code",
   "execution_count": 112,
   "metadata": {},
   "outputs": [],
   "source": [
    "eat_seat['NumberViolations'].fillna(0, inplace=True)"
   ]
  },
  {
   "cell_type": "code",
   "execution_count": 113,
   "metadata": {},
   "outputs": [
    {
     "data": {
      "text/plain": [
       "136752"
      ]
     },
     "execution_count": 113,
     "metadata": {},
     "output_type": "execute_result"
    }
   ],
   "source": [
    "len(eat_seat)"
   ]
  },
  {
   "cell_type": "markdown",
   "metadata": {},
   "source": [
    "When the result is either Fail or Pass with conditions but the Violations field is empty, we will drop those rows because there are missing values. An establishment can indeed not fail an inspection or receive conditions when no violation is found, those entries make no sense and can not be taken into account in our research."
   ]
  },
  {
   "cell_type": "code",
   "execution_count": 114,
   "metadata": {},
   "outputs": [],
   "source": [
    "results = ['Pass w/ Conditions', 'Fail']\n",
    "EmptyViolations = eat_seat[eat_seat['NumberViolations'] == 0]\n",
    "EmptyinResults = EmptyViolations.loc[eat_seat['Results'].isin(results)]\n",
    "indexes = EmptyinResults.index\n",
    "eat_seat = eat_seat.drop(labels = indexes)"
   ]
  },
  {
   "cell_type": "code",
   "execution_count": 115,
   "metadata": {},
   "outputs": [
    {
     "data": {
      "text/plain": [
       "134362"
      ]
     },
     "execution_count": 115,
     "metadata": {},
     "output_type": "execute_result"
    }
   ],
   "source": [
    "len(eat_seat)"
   ]
  },
  {
   "cell_type": "markdown",
   "metadata": {},
   "source": [
    "Now we can replace Pass by 1, Pass w/ conditions by 2, and Fail by 3 (that will be useful during the computation of the healthiness score)."
   ]
  },
  {
   "cell_type": "code",
   "execution_count": 116,
   "metadata": {},
   "outputs": [
    {
     "data": {
      "text/plain": [
       "array(['Pass w/ Conditions', 'Pass', 'Fail'], dtype=object)"
      ]
     },
     "execution_count": 116,
     "metadata": {},
     "output_type": "execute_result"
    }
   ],
   "source": [
    "eat_seat['Results'].unique()"
   ]
  },
  {
   "cell_type": "code",
   "execution_count": 117,
   "metadata": {},
   "outputs": [],
   "source": [
    "eat_seat['Results'] = eat_seat['Results'].replace({'Fail':3, 'Pass w/ Conditions':2, 'Pass':1})\n"
   ]
  },
  {
   "cell_type": "code",
   "execution_count": 118,
   "metadata": {},
   "outputs": [
    {
     "data": {
      "text/html": [
       "<div>\n",
       "<style scoped>\n",
       "    .dataframe tbody tr th:only-of-type {\n",
       "        vertical-align: middle;\n",
       "    }\n",
       "\n",
       "    .dataframe tbody tr th {\n",
       "        vertical-align: top;\n",
       "    }\n",
       "\n",
       "    .dataframe thead th {\n",
       "        text-align: right;\n",
       "    }\n",
       "</style>\n",
       "<table border=\"1\" class=\"dataframe\">\n",
       "  <thead>\n",
       "    <tr style=\"text-align: right;\">\n",
       "      <th></th>\n",
       "      <th>DBA Name</th>\n",
       "      <th>License</th>\n",
       "      <th>Facility Type</th>\n",
       "      <th>Risk</th>\n",
       "      <th>Address</th>\n",
       "      <th>Inspection Date</th>\n",
       "      <th>Inspection Type</th>\n",
       "      <th>Results</th>\n",
       "      <th>Violations</th>\n",
       "      <th>Latitude</th>\n",
       "      <th>Longitude</th>\n",
       "      <th>FacilityGroup</th>\n",
       "      <th>Public_Private</th>\n",
       "      <th>Location</th>\n",
       "      <th>Community Area</th>\n",
       "      <th>NumberViolations</th>\n",
       "    </tr>\n",
       "    <tr>\n",
       "      <th>Inspection ID</th>\n",
       "      <th></th>\n",
       "      <th></th>\n",
       "      <th></th>\n",
       "      <th></th>\n",
       "      <th></th>\n",
       "      <th></th>\n",
       "      <th></th>\n",
       "      <th></th>\n",
       "      <th></th>\n",
       "      <th></th>\n",
       "      <th></th>\n",
       "      <th></th>\n",
       "      <th></th>\n",
       "      <th></th>\n",
       "      <th></th>\n",
       "      <th></th>\n",
       "    </tr>\n",
       "  </thead>\n",
       "  <tbody>\n",
       "    <tr>\n",
       "      <td>2352683</td>\n",
       "      <td>CHIPOTLE MEXICAN GRILL</td>\n",
       "      <td>2670642.0</td>\n",
       "      <td>Restaurant</td>\n",
       "      <td>3.0</td>\n",
       "      <td>1025 W ADDISON ST</td>\n",
       "      <td>2019-12-04</td>\n",
       "      <td>License Re-Inspection</td>\n",
       "      <td>2</td>\n",
       "      <td>3. MANAGEMENT, FOOD EMPLOYEE AND CONDITIONAL E...</td>\n",
       "      <td>41.947118</td>\n",
       "      <td>-87.655381</td>\n",
       "      <td>restaurant</td>\n",
       "      <td>Public</td>\n",
       "      <td>POINT (41.94711774835235 -87.65538116221241)</td>\n",
       "      <td>6.0</td>\n",
       "      <td>[3]</td>\n",
       "    </tr>\n",
       "    <tr>\n",
       "      <td>2352734</td>\n",
       "      <td>CHILI'S T-I</td>\n",
       "      <td>34169.0</td>\n",
       "      <td>Restaurant</td>\n",
       "      <td>3.0</td>\n",
       "      <td>11601 W TOUHY AVE</td>\n",
       "      <td>2019-12-04</td>\n",
       "      <td>Canvass</td>\n",
       "      <td>1</td>\n",
       "      <td>10. ADEQUATE HANDWASHING SINKS PROPERLY SUPPLI...</td>\n",
       "      <td>42.008536</td>\n",
       "      <td>-87.914428</td>\n",
       "      <td>restaurant</td>\n",
       "      <td>Public</td>\n",
       "      <td>POINT (42.00853640086873 -87.91442843927048)</td>\n",
       "      <td>0.0</td>\n",
       "      <td>[47, 49, 55, 55, 10]</td>\n",
       "    </tr>\n",
       "    <tr>\n",
       "      <td>2352701</td>\n",
       "      <td>TAQUERIA BLUE LINE INC.</td>\n",
       "      <td>2703436.0</td>\n",
       "      <td>Restaurant</td>\n",
       "      <td>3.0</td>\n",
       "      <td>3401 W BELMONT AVE</td>\n",
       "      <td>2019-12-04</td>\n",
       "      <td>License</td>\n",
       "      <td>2</td>\n",
       "      <td>3. MANAGEMENT, FOOD EMPLOYEE AND CONDITIONAL E...</td>\n",
       "      <td>41.939168</td>\n",
       "      <td>-87.712546</td>\n",
       "      <td>restaurant</td>\n",
       "      <td>Public</td>\n",
       "      <td>POINT (41.93916783376965 -87.71254599117191)</td>\n",
       "      <td>21.0</td>\n",
       "      <td>[5, 16, 51, 53, 58, 3]</td>\n",
       "    </tr>\n",
       "  </tbody>\n",
       "</table>\n",
       "</div>"
      ],
      "text/plain": [
       "                              DBA Name    License Facility Type  Risk  \\\n",
       "Inspection ID                                                           \n",
       "2352683         CHIPOTLE MEXICAN GRILL  2670642.0    Restaurant   3.0   \n",
       "2352734                    CHILI'S T-I    34169.0    Restaurant   3.0   \n",
       "2352701        TAQUERIA BLUE LINE INC.  2703436.0    Restaurant   3.0   \n",
       "\n",
       "                           Address Inspection Date        Inspection Type  \\\n",
       "Inspection ID                                                               \n",
       "2352683         1025 W ADDISON ST       2019-12-04  License Re-Inspection   \n",
       "2352734         11601 W TOUHY AVE       2019-12-04                Canvass   \n",
       "2352701        3401 W BELMONT AVE       2019-12-04                License   \n",
       "\n",
       "               Results                                         Violations  \\\n",
       "Inspection ID                                                               \n",
       "2352683              2  3. MANAGEMENT, FOOD EMPLOYEE AND CONDITIONAL E...   \n",
       "2352734              1  10. ADEQUATE HANDWASHING SINKS PROPERLY SUPPLI...   \n",
       "2352701              2  3. MANAGEMENT, FOOD EMPLOYEE AND CONDITIONAL E...   \n",
       "\n",
       "                Latitude  Longitude FacilityGroup Public_Private  \\\n",
       "Inspection ID                                                      \n",
       "2352683        41.947118 -87.655381    restaurant         Public   \n",
       "2352734        42.008536 -87.914428    restaurant         Public   \n",
       "2352701        41.939168 -87.712546    restaurant         Public   \n",
       "\n",
       "                                                   Location  Community Area  \\\n",
       "Inspection ID                                                                 \n",
       "2352683        POINT (41.94711774835235 -87.65538116221241)             6.0   \n",
       "2352734        POINT (42.00853640086873 -87.91442843927048)             0.0   \n",
       "2352701        POINT (41.93916783376965 -87.71254599117191)            21.0   \n",
       "\n",
       "                     NumberViolations  \n",
       "Inspection ID                          \n",
       "2352683                           [3]  \n",
       "2352734          [47, 49, 55, 55, 10]  \n",
       "2352701        [5, 16, 51, 53, 58, 3]  "
      ]
     },
     "execution_count": 118,
     "metadata": {},
     "output_type": "execute_result"
    }
   ],
   "source": [
    "eat_seat.head(3)"
   ]
  },
  {
   "cell_type": "code",
   "execution_count": 119,
   "metadata": {},
   "outputs": [],
   "source": [
    "eat_seat.Results = pd.to_numeric(eat_seat.Results, downcast = 'integer')\n",
    "eat_seat.Results = eat_seat.Results.apply(nbestethic) "
   ]
  },
  {
   "cell_type": "markdown",
   "metadata": {},
   "source": [
    "Now we can compute the healthiness score of each inspection by multiplying the Results score with the number of Violations :\n"
   ]
  },
  {
   "cell_type": "code",
   "execution_count": 120,
   "metadata": {},
   "outputs": [],
   "source": [
    "#add 0 in the new column InspectionScore for every row\n",
    "liste = []\n",
    "for i in range (0, len(eat_seat)) :\n",
    "                liste.append(0)\n",
    "                \n",
    "eat_seat['InspectionScore'] = liste"
   ]
  },
  {
   "cell_type": "code",
   "execution_count": 121,
   "metadata": {},
   "outputs": [],
   "source": [
    "#add the multiplication for the rows where NumberViolations != 0\n",
    "for ID in eat_seat.index :\n",
    "    if eat_seat.at[ID, 'NumberViolations'] != 0 :\n",
    "        eat_seat.at[ID, 'InspectionScore'] = len(eat_seat.at[ID, 'NumberViolations']) * 2 * eat_seat.at[ID, 'Results'] * eat_seat.at[ID, 'Results'] * eat_seat.at[ID, 'Results']"
   ]
  },
  {
   "cell_type": "code",
   "execution_count": 122,
   "metadata": {},
   "outputs": [
    {
     "data": {
      "text/html": [
       "<div>\n",
       "<style scoped>\n",
       "    .dataframe tbody tr th:only-of-type {\n",
       "        vertical-align: middle;\n",
       "    }\n",
       "\n",
       "    .dataframe tbody tr th {\n",
       "        vertical-align: top;\n",
       "    }\n",
       "\n",
       "    .dataframe thead th {\n",
       "        text-align: right;\n",
       "    }\n",
       "</style>\n",
       "<table border=\"1\" class=\"dataframe\">\n",
       "  <thead>\n",
       "    <tr style=\"text-align: right;\">\n",
       "      <th></th>\n",
       "      <th>DBA Name</th>\n",
       "      <th>License</th>\n",
       "      <th>Facility Type</th>\n",
       "      <th>Risk</th>\n",
       "      <th>Address</th>\n",
       "      <th>Inspection Date</th>\n",
       "      <th>Inspection Type</th>\n",
       "      <th>Results</th>\n",
       "      <th>Violations</th>\n",
       "      <th>Latitude</th>\n",
       "      <th>Longitude</th>\n",
       "      <th>FacilityGroup</th>\n",
       "      <th>Public_Private</th>\n",
       "      <th>Location</th>\n",
       "      <th>Community Area</th>\n",
       "      <th>NumberViolations</th>\n",
       "      <th>InspectionScore</th>\n",
       "    </tr>\n",
       "    <tr>\n",
       "      <th>Inspection ID</th>\n",
       "      <th></th>\n",
       "      <th></th>\n",
       "      <th></th>\n",
       "      <th></th>\n",
       "      <th></th>\n",
       "      <th></th>\n",
       "      <th></th>\n",
       "      <th></th>\n",
       "      <th></th>\n",
       "      <th></th>\n",
       "      <th></th>\n",
       "      <th></th>\n",
       "      <th></th>\n",
       "      <th></th>\n",
       "      <th></th>\n",
       "      <th></th>\n",
       "      <th></th>\n",
       "    </tr>\n",
       "  </thead>\n",
       "  <tbody>\n",
       "    <tr>\n",
       "      <td>2352683</td>\n",
       "      <td>CHIPOTLE MEXICAN GRILL</td>\n",
       "      <td>2670642.0</td>\n",
       "      <td>Restaurant</td>\n",
       "      <td>3.0</td>\n",
       "      <td>1025 W ADDISON ST</td>\n",
       "      <td>2019-12-04</td>\n",
       "      <td>License Re-Inspection</td>\n",
       "      <td>2</td>\n",
       "      <td>3. MANAGEMENT, FOOD EMPLOYEE AND CONDITIONAL E...</td>\n",
       "      <td>41.947118</td>\n",
       "      <td>-87.655381</td>\n",
       "      <td>restaurant</td>\n",
       "      <td>Public</td>\n",
       "      <td>POINT (41.94711774835235 -87.65538116221241)</td>\n",
       "      <td>6.0</td>\n",
       "      <td>[3]</td>\n",
       "      <td>16</td>\n",
       "    </tr>\n",
       "    <tr>\n",
       "      <td>2352734</td>\n",
       "      <td>CHILI'S T-I</td>\n",
       "      <td>34169.0</td>\n",
       "      <td>Restaurant</td>\n",
       "      <td>3.0</td>\n",
       "      <td>11601 W TOUHY AVE</td>\n",
       "      <td>2019-12-04</td>\n",
       "      <td>Canvass</td>\n",
       "      <td>1</td>\n",
       "      <td>10. ADEQUATE HANDWASHING SINKS PROPERLY SUPPLI...</td>\n",
       "      <td>42.008536</td>\n",
       "      <td>-87.914428</td>\n",
       "      <td>restaurant</td>\n",
       "      <td>Public</td>\n",
       "      <td>POINT (42.00853640086873 -87.91442843927048)</td>\n",
       "      <td>0.0</td>\n",
       "      <td>[47, 49, 55, 55, 10]</td>\n",
       "      <td>10</td>\n",
       "    </tr>\n",
       "    <tr>\n",
       "      <td>2352701</td>\n",
       "      <td>TAQUERIA BLUE LINE INC.</td>\n",
       "      <td>2703436.0</td>\n",
       "      <td>Restaurant</td>\n",
       "      <td>3.0</td>\n",
       "      <td>3401 W BELMONT AVE</td>\n",
       "      <td>2019-12-04</td>\n",
       "      <td>License</td>\n",
       "      <td>2</td>\n",
       "      <td>3. MANAGEMENT, FOOD EMPLOYEE AND CONDITIONAL E...</td>\n",
       "      <td>41.939168</td>\n",
       "      <td>-87.712546</td>\n",
       "      <td>restaurant</td>\n",
       "      <td>Public</td>\n",
       "      <td>POINT (41.93916783376965 -87.71254599117191)</td>\n",
       "      <td>21.0</td>\n",
       "      <td>[5, 16, 51, 53, 58, 3]</td>\n",
       "      <td>96</td>\n",
       "    </tr>\n",
       "  </tbody>\n",
       "</table>\n",
       "</div>"
      ],
      "text/plain": [
       "                              DBA Name    License Facility Type  Risk  \\\n",
       "Inspection ID                                                           \n",
       "2352683         CHIPOTLE MEXICAN GRILL  2670642.0    Restaurant   3.0   \n",
       "2352734                    CHILI'S T-I    34169.0    Restaurant   3.0   \n",
       "2352701        TAQUERIA BLUE LINE INC.  2703436.0    Restaurant   3.0   \n",
       "\n",
       "                           Address Inspection Date        Inspection Type  \\\n",
       "Inspection ID                                                               \n",
       "2352683         1025 W ADDISON ST       2019-12-04  License Re-Inspection   \n",
       "2352734         11601 W TOUHY AVE       2019-12-04                Canvass   \n",
       "2352701        3401 W BELMONT AVE       2019-12-04                License   \n",
       "\n",
       "               Results                                         Violations  \\\n",
       "Inspection ID                                                               \n",
       "2352683              2  3. MANAGEMENT, FOOD EMPLOYEE AND CONDITIONAL E...   \n",
       "2352734              1  10. ADEQUATE HANDWASHING SINKS PROPERLY SUPPLI...   \n",
       "2352701              2  3. MANAGEMENT, FOOD EMPLOYEE AND CONDITIONAL E...   \n",
       "\n",
       "                Latitude  Longitude FacilityGroup Public_Private  \\\n",
       "Inspection ID                                                      \n",
       "2352683        41.947118 -87.655381    restaurant         Public   \n",
       "2352734        42.008536 -87.914428    restaurant         Public   \n",
       "2352701        41.939168 -87.712546    restaurant         Public   \n",
       "\n",
       "                                                   Location  Community Area  \\\n",
       "Inspection ID                                                                 \n",
       "2352683        POINT (41.94711774835235 -87.65538116221241)             6.0   \n",
       "2352734        POINT (42.00853640086873 -87.91442843927048)             0.0   \n",
       "2352701        POINT (41.93916783376965 -87.71254599117191)            21.0   \n",
       "\n",
       "                     NumberViolations  InspectionScore  \n",
       "Inspection ID                                           \n",
       "2352683                           [3]               16  \n",
       "2352734          [47, 49, 55, 55, 10]               10  \n",
       "2352701        [5, 16, 51, 53, 58, 3]               96  "
      ]
     },
     "execution_count": 122,
     "metadata": {},
     "output_type": "execute_result"
    }
   ],
   "source": [
    "eat_seat.head(3)"
   ]
  },
  {
   "cell_type": "markdown",
   "metadata": {},
   "source": [
    "## 3. Hygiene Score computation"
   ]
  },
  {
   "cell_type": "markdown",
   "metadata": {},
   "source": [
    "Now we want to add every InspectionScore that an establishment has and then divide this by the numer of inspections of this establishment in order to compute a score per establishment. This score will be stored in a new column FacilityScore.\n",
    "\n",
    "**NB :** This is a first try in order to make an analysis of the data. We know that this score is not fair because an establishment could have been very bad in the past and is now very healthy but we could use it in another formula later (compute the progress of an establishment for example)."
   ]
  },
  {
   "cell_type": "markdown",
   "metadata": {},
   "source": [
    "#### Assistants' comments :\n",
    "•\tNB.: Please read this to order to understand the difference between df.loc[...] and df[...]. When in doubt use .loc.\n",
    "https://pandas.pydata.org/pandas-docs/stable/user_guide/indexing.html\n",
    "\n",
    "•\tYour method of removing duplicate restaurants assumes that license numbers are not reused, **check that** instead of assuming it."
   ]
  },
  {
   "cell_type": "code",
   "execution_count": 123,
   "metadata": {},
   "outputs": [
    {
     "data": {
      "text/html": [
       "<div>\n",
       "<style scoped>\n",
       "    .dataframe tbody tr th:only-of-type {\n",
       "        vertical-align: middle;\n",
       "    }\n",
       "\n",
       "    .dataframe tbody tr th {\n",
       "        vertical-align: top;\n",
       "    }\n",
       "\n",
       "    .dataframe thead th {\n",
       "        text-align: right;\n",
       "    }\n",
       "</style>\n",
       "<table border=\"1\" class=\"dataframe\">\n",
       "  <thead>\n",
       "    <tr style=\"text-align: right;\">\n",
       "      <th></th>\n",
       "      <th>DBA Name</th>\n",
       "      <th>License</th>\n",
       "      <th>Facility Type</th>\n",
       "      <th>Risk</th>\n",
       "      <th>Address</th>\n",
       "      <th>Inspection Date</th>\n",
       "      <th>Inspection Type</th>\n",
       "      <th>Results</th>\n",
       "      <th>Violations</th>\n",
       "      <th>Latitude</th>\n",
       "      <th>Longitude</th>\n",
       "      <th>FacilityGroup</th>\n",
       "      <th>Public_Private</th>\n",
       "      <th>Location</th>\n",
       "      <th>Community Area</th>\n",
       "      <th>NumberViolations</th>\n",
       "      <th>InspectionScore</th>\n",
       "    </tr>\n",
       "    <tr>\n",
       "      <th>Inspection ID</th>\n",
       "      <th></th>\n",
       "      <th></th>\n",
       "      <th></th>\n",
       "      <th></th>\n",
       "      <th></th>\n",
       "      <th></th>\n",
       "      <th></th>\n",
       "      <th></th>\n",
       "      <th></th>\n",
       "      <th></th>\n",
       "      <th></th>\n",
       "      <th></th>\n",
       "      <th></th>\n",
       "      <th></th>\n",
       "      <th></th>\n",
       "      <th></th>\n",
       "      <th></th>\n",
       "    </tr>\n",
       "  </thead>\n",
       "  <tbody>\n",
       "    <tr>\n",
       "      <td>2352683</td>\n",
       "      <td>CHIPOTLE MEXICAN GRILL</td>\n",
       "      <td>2670642.0</td>\n",
       "      <td>Restaurant</td>\n",
       "      <td>3.0</td>\n",
       "      <td>1025 W ADDISON ST</td>\n",
       "      <td>2019-12-04</td>\n",
       "      <td>License Re-Inspection</td>\n",
       "      <td>2</td>\n",
       "      <td>3. MANAGEMENT, FOOD EMPLOYEE AND CONDITIONAL E...</td>\n",
       "      <td>41.947118</td>\n",
       "      <td>-87.655381</td>\n",
       "      <td>restaurant</td>\n",
       "      <td>Public</td>\n",
       "      <td>POINT (41.94711774835235 -87.65538116221241)</td>\n",
       "      <td>6.0</td>\n",
       "      <td>[3]</td>\n",
       "      <td>8</td>\n",
       "    </tr>\n",
       "    <tr>\n",
       "      <td>2352734</td>\n",
       "      <td>CHILI'S T-I</td>\n",
       "      <td>34169.0</td>\n",
       "      <td>Restaurant</td>\n",
       "      <td>3.0</td>\n",
       "      <td>11601 W TOUHY AVE</td>\n",
       "      <td>2019-12-04</td>\n",
       "      <td>Canvass</td>\n",
       "      <td>1</td>\n",
       "      <td>10. ADEQUATE HANDWASHING SINKS PROPERLY SUPPLI...</td>\n",
       "      <td>42.008536</td>\n",
       "      <td>-87.914428</td>\n",
       "      <td>restaurant</td>\n",
       "      <td>Public</td>\n",
       "      <td>POINT (42.00853640086873 -87.91442843927048)</td>\n",
       "      <td>0.0</td>\n",
       "      <td>[47, 49, 55, 55, 10]</td>\n",
       "      <td>5</td>\n",
       "    </tr>\n",
       "    <tr>\n",
       "      <td>2352701</td>\n",
       "      <td>TAQUERIA BLUE LINE INC.</td>\n",
       "      <td>2703436.0</td>\n",
       "      <td>Restaurant</td>\n",
       "      <td>3.0</td>\n",
       "      <td>3401 W BELMONT AVE</td>\n",
       "      <td>2019-12-04</td>\n",
       "      <td>License</td>\n",
       "      <td>2</td>\n",
       "      <td>3. MANAGEMENT, FOOD EMPLOYEE AND CONDITIONAL E...</td>\n",
       "      <td>41.939168</td>\n",
       "      <td>-87.712546</td>\n",
       "      <td>restaurant</td>\n",
       "      <td>Public</td>\n",
       "      <td>POINT (41.93916783376965 -87.71254599117191)</td>\n",
       "      <td>21.0</td>\n",
       "      <td>[5, 16, 51, 53, 58, 3]</td>\n",
       "      <td>48</td>\n",
       "    </tr>\n",
       "  </tbody>\n",
       "</table>\n",
       "</div>"
      ],
      "text/plain": [
       "                              DBA Name    License Facility Type  Risk  \\\n",
       "Inspection ID                                                           \n",
       "2352683         CHIPOTLE MEXICAN GRILL  2670642.0    Restaurant   3.0   \n",
       "2352734                    CHILI'S T-I    34169.0    Restaurant   3.0   \n",
       "2352701        TAQUERIA BLUE LINE INC.  2703436.0    Restaurant   3.0   \n",
       "\n",
       "                           Address Inspection Date        Inspection Type  \\\n",
       "Inspection ID                                                               \n",
       "2352683         1025 W ADDISON ST       2019-12-04  License Re-Inspection   \n",
       "2352734         11601 W TOUHY AVE       2019-12-04                Canvass   \n",
       "2352701        3401 W BELMONT AVE       2019-12-04                License   \n",
       "\n",
       "               Results                                         Violations  \\\n",
       "Inspection ID                                                               \n",
       "2352683              2  3. MANAGEMENT, FOOD EMPLOYEE AND CONDITIONAL E...   \n",
       "2352734              1  10. ADEQUATE HANDWASHING SINKS PROPERLY SUPPLI...   \n",
       "2352701              2  3. MANAGEMENT, FOOD EMPLOYEE AND CONDITIONAL E...   \n",
       "\n",
       "                Latitude  Longitude FacilityGroup Public_Private  \\\n",
       "Inspection ID                                                      \n",
       "2352683        41.947118 -87.655381    restaurant         Public   \n",
       "2352734        42.008536 -87.914428    restaurant         Public   \n",
       "2352701        41.939168 -87.712546    restaurant         Public   \n",
       "\n",
       "                                                   Location  Community Area  \\\n",
       "Inspection ID                                                                 \n",
       "2352683        POINT (41.94711774835235 -87.65538116221241)             6.0   \n",
       "2352734        POINT (42.00853640086873 -87.91442843927048)             0.0   \n",
       "2352701        POINT (41.93916783376965 -87.71254599117191)            21.0   \n",
       "\n",
       "                     NumberViolations  InspectionScore  \n",
       "Inspection ID                                           \n",
       "2352683                           [3]                8  \n",
       "2352734          [47, 49, 55, 55, 10]                5  \n",
       "2352701        [5, 16, 51, 53, 58, 3]               48  "
      ]
     },
     "execution_count": 123,
     "metadata": {},
     "output_type": "execute_result"
    }
   ],
   "source": [
    "#keeping just one occurence of License\n",
    "df_restaurants = eat_seat.drop_duplicates(subset=['License'])\n",
    "df_restaurants.head(3)"
   ]
  },
  {
   "cell_type": "code",
   "execution_count": 124,
   "metadata": {},
   "outputs": [],
   "source": [
    "df_restaurants = df_restaurants.set_index(['License']) #redifines the Index"
   ]
  },
  {
   "cell_type": "code",
   "execution_count": 125,
   "metadata": {},
   "outputs": [
    {
     "data": {
      "text/html": [
       "<div>\n",
       "<style scoped>\n",
       "    .dataframe tbody tr th:only-of-type {\n",
       "        vertical-align: middle;\n",
       "    }\n",
       "\n",
       "    .dataframe tbody tr th {\n",
       "        vertical-align: top;\n",
       "    }\n",
       "\n",
       "    .dataframe thead th {\n",
       "        text-align: right;\n",
       "    }\n",
       "</style>\n",
       "<table border=\"1\" class=\"dataframe\">\n",
       "  <thead>\n",
       "    <tr style=\"text-align: right;\">\n",
       "      <th></th>\n",
       "      <th>DBA Name</th>\n",
       "      <th>Facility Type</th>\n",
       "      <th>Risk</th>\n",
       "      <th>Address</th>\n",
       "      <th>Inspection Date</th>\n",
       "      <th>Inspection Type</th>\n",
       "      <th>Results</th>\n",
       "      <th>Violations</th>\n",
       "      <th>Latitude</th>\n",
       "      <th>Longitude</th>\n",
       "      <th>FacilityGroup</th>\n",
       "      <th>Public_Private</th>\n",
       "      <th>Location</th>\n",
       "      <th>Community Area</th>\n",
       "      <th>NumberViolations</th>\n",
       "      <th>InspectionScore</th>\n",
       "    </tr>\n",
       "    <tr>\n",
       "      <th>License</th>\n",
       "      <th></th>\n",
       "      <th></th>\n",
       "      <th></th>\n",
       "      <th></th>\n",
       "      <th></th>\n",
       "      <th></th>\n",
       "      <th></th>\n",
       "      <th></th>\n",
       "      <th></th>\n",
       "      <th></th>\n",
       "      <th></th>\n",
       "      <th></th>\n",
       "      <th></th>\n",
       "      <th></th>\n",
       "      <th></th>\n",
       "      <th></th>\n",
       "    </tr>\n",
       "  </thead>\n",
       "  <tbody>\n",
       "    <tr>\n",
       "      <td>2670642.0</td>\n",
       "      <td>CHIPOTLE MEXICAN GRILL</td>\n",
       "      <td>Restaurant</td>\n",
       "      <td>3.0</td>\n",
       "      <td>1025 W ADDISON ST</td>\n",
       "      <td>2019-12-04</td>\n",
       "      <td>License Re-Inspection</td>\n",
       "      <td>2</td>\n",
       "      <td>3. MANAGEMENT, FOOD EMPLOYEE AND CONDITIONAL E...</td>\n",
       "      <td>41.947118</td>\n",
       "      <td>-87.655381</td>\n",
       "      <td>restaurant</td>\n",
       "      <td>Public</td>\n",
       "      <td>POINT (41.94711774835235 -87.65538116221241)</td>\n",
       "      <td>6.0</td>\n",
       "      <td>[3]</td>\n",
       "      <td>8</td>\n",
       "    </tr>\n",
       "    <tr>\n",
       "      <td>34169.0</td>\n",
       "      <td>CHILI'S T-I</td>\n",
       "      <td>Restaurant</td>\n",
       "      <td>3.0</td>\n",
       "      <td>11601 W TOUHY AVE</td>\n",
       "      <td>2019-12-04</td>\n",
       "      <td>Canvass</td>\n",
       "      <td>1</td>\n",
       "      <td>10. ADEQUATE HANDWASHING SINKS PROPERLY SUPPLI...</td>\n",
       "      <td>42.008536</td>\n",
       "      <td>-87.914428</td>\n",
       "      <td>restaurant</td>\n",
       "      <td>Public</td>\n",
       "      <td>POINT (42.00853640086873 -87.91442843927048)</td>\n",
       "      <td>0.0</td>\n",
       "      <td>[47, 49, 55, 55, 10]</td>\n",
       "      <td>5</td>\n",
       "    </tr>\n",
       "    <tr>\n",
       "      <td>2703436.0</td>\n",
       "      <td>TAQUERIA BLUE LINE INC.</td>\n",
       "      <td>Restaurant</td>\n",
       "      <td>3.0</td>\n",
       "      <td>3401 W BELMONT AVE</td>\n",
       "      <td>2019-12-04</td>\n",
       "      <td>License</td>\n",
       "      <td>2</td>\n",
       "      <td>3. MANAGEMENT, FOOD EMPLOYEE AND CONDITIONAL E...</td>\n",
       "      <td>41.939168</td>\n",
       "      <td>-87.712546</td>\n",
       "      <td>restaurant</td>\n",
       "      <td>Public</td>\n",
       "      <td>POINT (41.93916783376965 -87.71254599117191)</td>\n",
       "      <td>21.0</td>\n",
       "      <td>[5, 16, 51, 53, 58, 3]</td>\n",
       "      <td>48</td>\n",
       "    </tr>\n",
       "  </tbody>\n",
       "</table>\n",
       "</div>"
      ],
      "text/plain": [
       "                          DBA Name Facility Type  Risk              Address  \\\n",
       "License                                                                       \n",
       "2670642.0   CHIPOTLE MEXICAN GRILL    Restaurant   3.0   1025 W ADDISON ST    \n",
       "34169.0                CHILI'S T-I    Restaurant   3.0   11601 W TOUHY AVE    \n",
       "2703436.0  TAQUERIA BLUE LINE INC.    Restaurant   3.0  3401 W BELMONT AVE    \n",
       "\n",
       "          Inspection Date        Inspection Type  Results  \\\n",
       "License                                                     \n",
       "2670642.0      2019-12-04  License Re-Inspection        2   \n",
       "34169.0        2019-12-04                Canvass        1   \n",
       "2703436.0      2019-12-04                License        2   \n",
       "\n",
       "                                                  Violations   Latitude  \\\n",
       "License                                                                   \n",
       "2670642.0  3. MANAGEMENT, FOOD EMPLOYEE AND CONDITIONAL E...  41.947118   \n",
       "34169.0    10. ADEQUATE HANDWASHING SINKS PROPERLY SUPPLI...  42.008536   \n",
       "2703436.0  3. MANAGEMENT, FOOD EMPLOYEE AND CONDITIONAL E...  41.939168   \n",
       "\n",
       "           Longitude FacilityGroup Public_Private  \\\n",
       "License                                             \n",
       "2670642.0 -87.655381    restaurant         Public   \n",
       "34169.0   -87.914428    restaurant         Public   \n",
       "2703436.0 -87.712546    restaurant         Public   \n",
       "\n",
       "                                               Location  Community Area  \\\n",
       "License                                                                   \n",
       "2670642.0  POINT (41.94711774835235 -87.65538116221241)             6.0   \n",
       "34169.0    POINT (42.00853640086873 -87.91442843927048)             0.0   \n",
       "2703436.0  POINT (41.93916783376965 -87.71254599117191)            21.0   \n",
       "\n",
       "                 NumberViolations  InspectionScore  \n",
       "License                                             \n",
       "2670642.0                     [3]                8  \n",
       "34169.0      [47, 49, 55, 55, 10]                5  \n",
       "2703436.0  [5, 16, 51, 53, 58, 3]               48  "
      ]
     },
     "execution_count": 125,
     "metadata": {},
     "output_type": "execute_result"
    }
   ],
   "source": [
    "df_restaurants.head(3)"
   ]
  },
  {
   "cell_type": "code",
   "execution_count": 126,
   "metadata": {},
   "outputs": [
    {
     "data": {
      "text/html": [
       "<div>\n",
       "<style scoped>\n",
       "    .dataframe tbody tr th:only-of-type {\n",
       "        vertical-align: middle;\n",
       "    }\n",
       "\n",
       "    .dataframe tbody tr th {\n",
       "        vertical-align: top;\n",
       "    }\n",
       "\n",
       "    .dataframe thead th {\n",
       "        text-align: right;\n",
       "    }\n",
       "</style>\n",
       "<table border=\"1\" class=\"dataframe\">\n",
       "  <thead>\n",
       "    <tr style=\"text-align: right;\">\n",
       "      <th></th>\n",
       "      <th>DBA Name</th>\n",
       "      <th>Facility Type</th>\n",
       "      <th>Risk</th>\n",
       "      <th>Address</th>\n",
       "      <th>Violations</th>\n",
       "      <th>Latitude</th>\n",
       "      <th>Longitude</th>\n",
       "      <th>FacilityGroup</th>\n",
       "      <th>Public_Private</th>\n",
       "      <th>Location</th>\n",
       "      <th>Community Area</th>\n",
       "    </tr>\n",
       "    <tr>\n",
       "      <th>License</th>\n",
       "      <th></th>\n",
       "      <th></th>\n",
       "      <th></th>\n",
       "      <th></th>\n",
       "      <th></th>\n",
       "      <th></th>\n",
       "      <th></th>\n",
       "      <th></th>\n",
       "      <th></th>\n",
       "      <th></th>\n",
       "      <th></th>\n",
       "    </tr>\n",
       "  </thead>\n",
       "  <tbody>\n",
       "    <tr>\n",
       "      <td>2670642.0</td>\n",
       "      <td>CHIPOTLE MEXICAN GRILL</td>\n",
       "      <td>Restaurant</td>\n",
       "      <td>3.0</td>\n",
       "      <td>1025 W ADDISON ST</td>\n",
       "      <td>3. MANAGEMENT, FOOD EMPLOYEE AND CONDITIONAL E...</td>\n",
       "      <td>41.947118</td>\n",
       "      <td>-87.655381</td>\n",
       "      <td>restaurant</td>\n",
       "      <td>Public</td>\n",
       "      <td>POINT (41.94711774835235 -87.65538116221241)</td>\n",
       "      <td>6.0</td>\n",
       "    </tr>\n",
       "    <tr>\n",
       "      <td>34169.0</td>\n",
       "      <td>CHILI'S T-I</td>\n",
       "      <td>Restaurant</td>\n",
       "      <td>3.0</td>\n",
       "      <td>11601 W TOUHY AVE</td>\n",
       "      <td>10. ADEQUATE HANDWASHING SINKS PROPERLY SUPPLI...</td>\n",
       "      <td>42.008536</td>\n",
       "      <td>-87.914428</td>\n",
       "      <td>restaurant</td>\n",
       "      <td>Public</td>\n",
       "      <td>POINT (42.00853640086873 -87.91442843927048)</td>\n",
       "      <td>0.0</td>\n",
       "    </tr>\n",
       "    <tr>\n",
       "      <td>2703436.0</td>\n",
       "      <td>TAQUERIA BLUE LINE INC.</td>\n",
       "      <td>Restaurant</td>\n",
       "      <td>3.0</td>\n",
       "      <td>3401 W BELMONT AVE</td>\n",
       "      <td>3. MANAGEMENT, FOOD EMPLOYEE AND CONDITIONAL E...</td>\n",
       "      <td>41.939168</td>\n",
       "      <td>-87.712546</td>\n",
       "      <td>restaurant</td>\n",
       "      <td>Public</td>\n",
       "      <td>POINT (41.93916783376965 -87.71254599117191)</td>\n",
       "      <td>21.0</td>\n",
       "    </tr>\n",
       "  </tbody>\n",
       "</table>\n",
       "</div>"
      ],
      "text/plain": [
       "                          DBA Name Facility Type  Risk              Address  \\\n",
       "License                                                                       \n",
       "2670642.0   CHIPOTLE MEXICAN GRILL    Restaurant   3.0   1025 W ADDISON ST    \n",
       "34169.0                CHILI'S T-I    Restaurant   3.0   11601 W TOUHY AVE    \n",
       "2703436.0  TAQUERIA BLUE LINE INC.    Restaurant   3.0  3401 W BELMONT AVE    \n",
       "\n",
       "                                                  Violations   Latitude  \\\n",
       "License                                                                   \n",
       "2670642.0  3. MANAGEMENT, FOOD EMPLOYEE AND CONDITIONAL E...  41.947118   \n",
       "34169.0    10. ADEQUATE HANDWASHING SINKS PROPERLY SUPPLI...  42.008536   \n",
       "2703436.0  3. MANAGEMENT, FOOD EMPLOYEE AND CONDITIONAL E...  41.939168   \n",
       "\n",
       "           Longitude FacilityGroup Public_Private  \\\n",
       "License                                             \n",
       "2670642.0 -87.655381    restaurant         Public   \n",
       "34169.0   -87.914428    restaurant         Public   \n",
       "2703436.0 -87.712546    restaurant         Public   \n",
       "\n",
       "                                               Location  Community Area  \n",
       "License                                                                  \n",
       "2670642.0  POINT (41.94711774835235 -87.65538116221241)             6.0  \n",
       "34169.0    POINT (42.00853640086873 -87.91442843927048)             0.0  \n",
       "2703436.0  POINT (41.93916783376965 -87.71254599117191)            21.0  "
      ]
     },
     "execution_count": 126,
     "metadata": {},
     "output_type": "execute_result"
    }
   ],
   "source": [
    "#drop columns that gives info about inspection and not facility\n",
    "df_restaurants = df_restaurants.drop(columns = ['Inspection Date', 'Inspection Type', 'Results', 'NumberViolations', 'InspectionScore'])\n",
    "df_restaurants.head(3)"
   ]
  },
  {
   "cell_type": "markdown",
   "metadata": {},
   "source": [
    "Now we have a dataframe with every facility listed in our preprocessed database. We want to create a column containing the addition of every InspectionScore of each license."
   ]
  },
  {
   "cell_type": "code",
   "execution_count": 128,
   "metadata": {},
   "outputs": [],
   "source": [
    "#compute the number of inspections in the primary dataset per license number\n",
    "\n",
    "dic = {}\n",
    "\n",
    "for license in df_restaurants.index :\n",
    "    score = 0\n",
    "    for row in eat_seat[eat_seat['License']==license].index :\n",
    "        score = 0 + eat_seat.at[row, 'InspectionScore']\n",
    "    dic[license] = score"
   ]
  },
  {
   "cell_type": "code",
   "execution_count": 129,
   "metadata": {},
   "outputs": [],
   "source": [
    "#add this number in the new database\n",
    "df_restaurants['FacilityScore'] = dic.values()"
   ]
  },
  {
   "cell_type": "code",
   "execution_count": 130,
   "metadata": {},
   "outputs": [],
   "source": [
    "#compute the number of inspections in the primary dataset per license number\n",
    "\n",
    "dic = {}\n",
    "\n",
    "for license in df_restaurants.index :\n",
    "    score = len(eat_seat[eat_seat['License'] == license])\n",
    "    dic[license] = score"
   ]
  },
  {
   "cell_type": "code",
   "execution_count": 131,
   "metadata": {},
   "outputs": [],
   "source": [
    "#add this number in the new database\n",
    "df_restaurants['NumberOfInspections'] = dic.values()"
   ]
  },
  {
   "cell_type": "code",
   "execution_count": 132,
   "metadata": {},
   "outputs": [
    {
     "data": {
      "text/html": [
       "<div>\n",
       "<style scoped>\n",
       "    .dataframe tbody tr th:only-of-type {\n",
       "        vertical-align: middle;\n",
       "    }\n",
       "\n",
       "    .dataframe tbody tr th {\n",
       "        vertical-align: top;\n",
       "    }\n",
       "\n",
       "    .dataframe thead th {\n",
       "        text-align: right;\n",
       "    }\n",
       "</style>\n",
       "<table border=\"1\" class=\"dataframe\">\n",
       "  <thead>\n",
       "    <tr style=\"text-align: right;\">\n",
       "      <th></th>\n",
       "      <th>DBA Name</th>\n",
       "      <th>Facility Type</th>\n",
       "      <th>Risk</th>\n",
       "      <th>Address</th>\n",
       "      <th>Violations</th>\n",
       "      <th>Latitude</th>\n",
       "      <th>Longitude</th>\n",
       "      <th>FacilityGroup</th>\n",
       "      <th>Public_Private</th>\n",
       "      <th>Location</th>\n",
       "      <th>Community Area</th>\n",
       "      <th>FacilityScore</th>\n",
       "      <th>NumberOfInspections</th>\n",
       "    </tr>\n",
       "    <tr>\n",
       "      <th>License</th>\n",
       "      <th></th>\n",
       "      <th></th>\n",
       "      <th></th>\n",
       "      <th></th>\n",
       "      <th></th>\n",
       "      <th></th>\n",
       "      <th></th>\n",
       "      <th></th>\n",
       "      <th></th>\n",
       "      <th></th>\n",
       "      <th></th>\n",
       "      <th></th>\n",
       "      <th></th>\n",
       "    </tr>\n",
       "  </thead>\n",
       "  <tbody>\n",
       "    <tr>\n",
       "      <td>2670642.0</td>\n",
       "      <td>CHIPOTLE MEXICAN GRILL</td>\n",
       "      <td>Restaurant</td>\n",
       "      <td>3.0</td>\n",
       "      <td>1025 W ADDISON ST</td>\n",
       "      <td>3. MANAGEMENT, FOOD EMPLOYEE AND CONDITIONAL E...</td>\n",
       "      <td>41.947118</td>\n",
       "      <td>-87.655381</td>\n",
       "      <td>restaurant</td>\n",
       "      <td>Public</td>\n",
       "      <td>POINT (41.94711774835235 -87.65538116221241)</td>\n",
       "      <td>6.0</td>\n",
       "      <td>81</td>\n",
       "      <td>2</td>\n",
       "    </tr>\n",
       "    <tr>\n",
       "      <td>34169.0</td>\n",
       "      <td>CHILI'S T-I</td>\n",
       "      <td>Restaurant</td>\n",
       "      <td>3.0</td>\n",
       "      <td>11601 W TOUHY AVE</td>\n",
       "      <td>10. ADEQUATE HANDWASHING SINKS PROPERLY SUPPLI...</td>\n",
       "      <td>42.008536</td>\n",
       "      <td>-87.914428</td>\n",
       "      <td>restaurant</td>\n",
       "      <td>Public</td>\n",
       "      <td>POINT (42.00853640086873 -87.91442843927048)</td>\n",
       "      <td>0.0</td>\n",
       "      <td>48</td>\n",
       "      <td>25</td>\n",
       "    </tr>\n",
       "    <tr>\n",
       "      <td>2703436.0</td>\n",
       "      <td>TAQUERIA BLUE LINE INC.</td>\n",
       "      <td>Restaurant</td>\n",
       "      <td>3.0</td>\n",
       "      <td>3401 W BELMONT AVE</td>\n",
       "      <td>3. MANAGEMENT, FOOD EMPLOYEE AND CONDITIONAL E...</td>\n",
       "      <td>41.939168</td>\n",
       "      <td>-87.712546</td>\n",
       "      <td>restaurant</td>\n",
       "      <td>Public</td>\n",
       "      <td>POINT (41.93916783376965 -87.71254599117191)</td>\n",
       "      <td>21.0</td>\n",
       "      <td>48</td>\n",
       "      <td>1</td>\n",
       "    </tr>\n",
       "  </tbody>\n",
       "</table>\n",
       "</div>"
      ],
      "text/plain": [
       "                          DBA Name Facility Type  Risk              Address  \\\n",
       "License                                                                       \n",
       "2670642.0   CHIPOTLE MEXICAN GRILL    Restaurant   3.0   1025 W ADDISON ST    \n",
       "34169.0                CHILI'S T-I    Restaurant   3.0   11601 W TOUHY AVE    \n",
       "2703436.0  TAQUERIA BLUE LINE INC.    Restaurant   3.0  3401 W BELMONT AVE    \n",
       "\n",
       "                                                  Violations   Latitude  \\\n",
       "License                                                                   \n",
       "2670642.0  3. MANAGEMENT, FOOD EMPLOYEE AND CONDITIONAL E...  41.947118   \n",
       "34169.0    10. ADEQUATE HANDWASHING SINKS PROPERLY SUPPLI...  42.008536   \n",
       "2703436.0  3. MANAGEMENT, FOOD EMPLOYEE AND CONDITIONAL E...  41.939168   \n",
       "\n",
       "           Longitude FacilityGroup Public_Private  \\\n",
       "License                                             \n",
       "2670642.0 -87.655381    restaurant         Public   \n",
       "34169.0   -87.914428    restaurant         Public   \n",
       "2703436.0 -87.712546    restaurant         Public   \n",
       "\n",
       "                                               Location  Community Area  \\\n",
       "License                                                                   \n",
       "2670642.0  POINT (41.94711774835235 -87.65538116221241)             6.0   \n",
       "34169.0    POINT (42.00853640086873 -87.91442843927048)             0.0   \n",
       "2703436.0  POINT (41.93916783376965 -87.71254599117191)            21.0   \n",
       "\n",
       "           FacilityScore  NumberOfInspections  \n",
       "License                                        \n",
       "2670642.0             81                    2  \n",
       "34169.0               48                   25  \n",
       "2703436.0             48                    1  "
      ]
     },
     "execution_count": 132,
     "metadata": {},
     "output_type": "execute_result"
    }
   ],
   "source": [
    "df_restaurants.head(3)"
   ]
  },
  {
   "cell_type": "code",
   "execution_count": 133,
   "metadata": {},
   "outputs": [
    {
     "data": {
      "text/html": [
       "<div>\n",
       "<style scoped>\n",
       "    .dataframe tbody tr th:only-of-type {\n",
       "        vertical-align: middle;\n",
       "    }\n",
       "\n",
       "    .dataframe tbody tr th {\n",
       "        vertical-align: top;\n",
       "    }\n",
       "\n",
       "    .dataframe thead th {\n",
       "        text-align: right;\n",
       "    }\n",
       "</style>\n",
       "<table border=\"1\" class=\"dataframe\">\n",
       "  <thead>\n",
       "    <tr style=\"text-align: right;\">\n",
       "      <th></th>\n",
       "      <th>Public_Private</th>\n",
       "      <th>Community Area</th>\n",
       "      <th>FacilityScore</th>\n",
       "      <th>NumberOfInspections</th>\n",
       "    </tr>\n",
       "    <tr>\n",
       "      <th>License</th>\n",
       "      <th></th>\n",
       "      <th></th>\n",
       "      <th></th>\n",
       "      <th></th>\n",
       "    </tr>\n",
       "  </thead>\n",
       "  <tbody>\n",
       "    <tr>\n",
       "      <td>2670642.0</td>\n",
       "      <td>Public</td>\n",
       "      <td>6.0</td>\n",
       "      <td>81</td>\n",
       "      <td>2</td>\n",
       "    </tr>\n",
       "    <tr>\n",
       "      <td>34169.0</td>\n",
       "      <td>Public</td>\n",
       "      <td>0.0</td>\n",
       "      <td>48</td>\n",
       "      <td>25</td>\n",
       "    </tr>\n",
       "    <tr>\n",
       "      <td>2703436.0</td>\n",
       "      <td>Public</td>\n",
       "      <td>21.0</td>\n",
       "      <td>48</td>\n",
       "      <td>1</td>\n",
       "    </tr>\n",
       "  </tbody>\n",
       "</table>\n",
       "</div>"
      ],
      "text/plain": [
       "          Public_Private  Community Area  FacilityScore  NumberOfInspections\n",
       "License                                                                     \n",
       "2670642.0         Public             6.0             81                    2\n",
       "34169.0           Public             0.0             48                   25\n",
       "2703436.0         Public            21.0             48                    1"
      ]
     },
     "execution_count": 133,
     "metadata": {},
     "output_type": "execute_result"
    }
   ],
   "source": [
    "#only keep the new column\n",
    "df_restaurants = df_restaurants.drop(columns = ['DBA Name', 'Risk', 'Address', 'Latitude', 'Longitude', 'FacilityGroup', \n",
    "                                                'Violations', 'Location', 'Facility Type'])\n",
    "df_restaurants.head(3)"
   ]
  },
  {
   "cell_type": "code",
   "execution_count": 134,
   "metadata": {},
   "outputs": [],
   "source": [
    "dic = {}\n",
    "\n",
    "\n",
    "for inspection in eat_seat.index :\n",
    "    license = eat_seat.loc[inspection, 'License']\n",
    "    facilityscore = df_restaurants.loc[license, 'FacilityScore'] / df_restaurants.loc[license, 'NumberOfInspections']\n",
    "    dic[inspection] = facilityscore\n",
    "    "
   ]
  },
  {
   "cell_type": "code",
   "execution_count": 135,
   "metadata": {},
   "outputs": [],
   "source": [
    "eat_seat['FacilityScore'] = dic.values()"
   ]
  },
  {
   "cell_type": "code",
   "execution_count": 136,
   "metadata": {},
   "outputs": [
    {
     "data": {
      "text/html": [
       "<div>\n",
       "<style scoped>\n",
       "    .dataframe tbody tr th:only-of-type {\n",
       "        vertical-align: middle;\n",
       "    }\n",
       "\n",
       "    .dataframe tbody tr th {\n",
       "        vertical-align: top;\n",
       "    }\n",
       "\n",
       "    .dataframe thead th {\n",
       "        text-align: right;\n",
       "    }\n",
       "</style>\n",
       "<table border=\"1\" class=\"dataframe\">\n",
       "  <thead>\n",
       "    <tr style=\"text-align: right;\">\n",
       "      <th></th>\n",
       "      <th>DBA Name</th>\n",
       "      <th>License</th>\n",
       "      <th>Facility Type</th>\n",
       "      <th>Risk</th>\n",
       "      <th>Address</th>\n",
       "      <th>Inspection Date</th>\n",
       "      <th>Inspection Type</th>\n",
       "      <th>Results</th>\n",
       "      <th>Violations</th>\n",
       "      <th>Latitude</th>\n",
       "      <th>Longitude</th>\n",
       "      <th>FacilityGroup</th>\n",
       "      <th>Public_Private</th>\n",
       "      <th>Location</th>\n",
       "      <th>Community Area</th>\n",
       "      <th>NumberViolations</th>\n",
       "      <th>InspectionScore</th>\n",
       "      <th>FacilityScore</th>\n",
       "    </tr>\n",
       "    <tr>\n",
       "      <th>Inspection ID</th>\n",
       "      <th></th>\n",
       "      <th></th>\n",
       "      <th></th>\n",
       "      <th></th>\n",
       "      <th></th>\n",
       "      <th></th>\n",
       "      <th></th>\n",
       "      <th></th>\n",
       "      <th></th>\n",
       "      <th></th>\n",
       "      <th></th>\n",
       "      <th></th>\n",
       "      <th></th>\n",
       "      <th></th>\n",
       "      <th></th>\n",
       "      <th></th>\n",
       "      <th></th>\n",
       "      <th></th>\n",
       "    </tr>\n",
       "  </thead>\n",
       "  <tbody>\n",
       "    <tr>\n",
       "      <td>2352683</td>\n",
       "      <td>CHIPOTLE MEXICAN GRILL</td>\n",
       "      <td>2670642.0</td>\n",
       "      <td>Restaurant</td>\n",
       "      <td>3.0</td>\n",
       "      <td>1025 W ADDISON ST</td>\n",
       "      <td>2019-12-04</td>\n",
       "      <td>License Re-Inspection</td>\n",
       "      <td>2</td>\n",
       "      <td>3. MANAGEMENT, FOOD EMPLOYEE AND CONDITIONAL E...</td>\n",
       "      <td>41.947118</td>\n",
       "      <td>-87.655381</td>\n",
       "      <td>restaurant</td>\n",
       "      <td>Public</td>\n",
       "      <td>POINT (41.94711774835235 -87.65538116221241)</td>\n",
       "      <td>6.0</td>\n",
       "      <td>[3]</td>\n",
       "      <td>8</td>\n",
       "      <td>40.50</td>\n",
       "    </tr>\n",
       "    <tr>\n",
       "      <td>2352734</td>\n",
       "      <td>CHILI'S T-I</td>\n",
       "      <td>34169.0</td>\n",
       "      <td>Restaurant</td>\n",
       "      <td>3.0</td>\n",
       "      <td>11601 W TOUHY AVE</td>\n",
       "      <td>2019-12-04</td>\n",
       "      <td>Canvass</td>\n",
       "      <td>1</td>\n",
       "      <td>10. ADEQUATE HANDWASHING SINKS PROPERLY SUPPLI...</td>\n",
       "      <td>42.008536</td>\n",
       "      <td>-87.914428</td>\n",
       "      <td>restaurant</td>\n",
       "      <td>Public</td>\n",
       "      <td>POINT (42.00853640086873 -87.91442843927048)</td>\n",
       "      <td>0.0</td>\n",
       "      <td>[47, 49, 55, 55, 10]</td>\n",
       "      <td>5</td>\n",
       "      <td>1.92</td>\n",
       "    </tr>\n",
       "    <tr>\n",
       "      <td>2352701</td>\n",
       "      <td>TAQUERIA BLUE LINE INC.</td>\n",
       "      <td>2703436.0</td>\n",
       "      <td>Restaurant</td>\n",
       "      <td>3.0</td>\n",
       "      <td>3401 W BELMONT AVE</td>\n",
       "      <td>2019-12-04</td>\n",
       "      <td>License</td>\n",
       "      <td>2</td>\n",
       "      <td>3. MANAGEMENT, FOOD EMPLOYEE AND CONDITIONAL E...</td>\n",
       "      <td>41.939168</td>\n",
       "      <td>-87.712546</td>\n",
       "      <td>restaurant</td>\n",
       "      <td>Public</td>\n",
       "      <td>POINT (41.93916783376965 -87.71254599117191)</td>\n",
       "      <td>21.0</td>\n",
       "      <td>[5, 16, 51, 53, 58, 3]</td>\n",
       "      <td>48</td>\n",
       "      <td>48.00</td>\n",
       "    </tr>\n",
       "  </tbody>\n",
       "</table>\n",
       "</div>"
      ],
      "text/plain": [
       "                              DBA Name    License Facility Type  Risk  \\\n",
       "Inspection ID                                                           \n",
       "2352683         CHIPOTLE MEXICAN GRILL  2670642.0    Restaurant   3.0   \n",
       "2352734                    CHILI'S T-I    34169.0    Restaurant   3.0   \n",
       "2352701        TAQUERIA BLUE LINE INC.  2703436.0    Restaurant   3.0   \n",
       "\n",
       "                           Address Inspection Date        Inspection Type  \\\n",
       "Inspection ID                                                               \n",
       "2352683         1025 W ADDISON ST       2019-12-04  License Re-Inspection   \n",
       "2352734         11601 W TOUHY AVE       2019-12-04                Canvass   \n",
       "2352701        3401 W BELMONT AVE       2019-12-04                License   \n",
       "\n",
       "               Results                                         Violations  \\\n",
       "Inspection ID                                                               \n",
       "2352683              2  3. MANAGEMENT, FOOD EMPLOYEE AND CONDITIONAL E...   \n",
       "2352734              1  10. ADEQUATE HANDWASHING SINKS PROPERLY SUPPLI...   \n",
       "2352701              2  3. MANAGEMENT, FOOD EMPLOYEE AND CONDITIONAL E...   \n",
       "\n",
       "                Latitude  Longitude FacilityGroup Public_Private  \\\n",
       "Inspection ID                                                      \n",
       "2352683        41.947118 -87.655381    restaurant         Public   \n",
       "2352734        42.008536 -87.914428    restaurant         Public   \n",
       "2352701        41.939168 -87.712546    restaurant         Public   \n",
       "\n",
       "                                                   Location  Community Area  \\\n",
       "Inspection ID                                                                 \n",
       "2352683        POINT (41.94711774835235 -87.65538116221241)             6.0   \n",
       "2352734        POINT (42.00853640086873 -87.91442843927048)             0.0   \n",
       "2352701        POINT (41.93916783376965 -87.71254599117191)            21.0   \n",
       "\n",
       "                     NumberViolations  InspectionScore  FacilityScore  \n",
       "Inspection ID                                                          \n",
       "2352683                           [3]                8          40.50  \n",
       "2352734          [47, 49, 55, 55, 10]                5           1.92  \n",
       "2352701        [5, 16, 51, 53, 58, 3]               48          48.00  "
      ]
     },
     "execution_count": 136,
     "metadata": {},
     "output_type": "execute_result"
    }
   ],
   "source": [
    "eat_seat.head(3)"
   ]
  },
  {
   "cell_type": "code",
   "execution_count": 137,
   "metadata": {},
   "outputs": [],
   "source": [
    "eat_seat.to_csv('eat_seat.csv')"
   ]
  },
  {
   "cell_type": "code",
   "execution_count": 138,
   "metadata": {},
   "outputs": [
    {
     "data": {
      "text/html": [
       "<div>\n",
       "<style scoped>\n",
       "    .dataframe tbody tr th:only-of-type {\n",
       "        vertical-align: middle;\n",
       "    }\n",
       "\n",
       "    .dataframe tbody tr th {\n",
       "        vertical-align: top;\n",
       "    }\n",
       "\n",
       "    .dataframe thead th {\n",
       "        text-align: right;\n",
       "    }\n",
       "</style>\n",
       "<table border=\"1\" class=\"dataframe\">\n",
       "  <thead>\n",
       "    <tr style=\"text-align: right;\">\n",
       "      <th></th>\n",
       "      <th>DBA Name</th>\n",
       "      <th>License</th>\n",
       "      <th>Facility Type</th>\n",
       "      <th>Risk</th>\n",
       "      <th>Address</th>\n",
       "      <th>Inspection Date</th>\n",
       "      <th>Inspection Type</th>\n",
       "      <th>Results</th>\n",
       "      <th>Violations</th>\n",
       "      <th>Latitude</th>\n",
       "      <th>Longitude</th>\n",
       "      <th>FacilityGroup</th>\n",
       "      <th>Public_Private</th>\n",
       "      <th>Location</th>\n",
       "      <th>Community Area</th>\n",
       "      <th>NumberViolations</th>\n",
       "      <th>InspectionScore</th>\n",
       "      <th>FacilityScore</th>\n",
       "    </tr>\n",
       "    <tr>\n",
       "      <th>Inspection ID</th>\n",
       "      <th></th>\n",
       "      <th></th>\n",
       "      <th></th>\n",
       "      <th></th>\n",
       "      <th></th>\n",
       "      <th></th>\n",
       "      <th></th>\n",
       "      <th></th>\n",
       "      <th></th>\n",
       "      <th></th>\n",
       "      <th></th>\n",
       "      <th></th>\n",
       "      <th></th>\n",
       "      <th></th>\n",
       "      <th></th>\n",
       "      <th></th>\n",
       "      <th></th>\n",
       "      <th></th>\n",
       "    </tr>\n",
       "  </thead>\n",
       "  <tbody>\n",
       "    <tr>\n",
       "      <td>2352683</td>\n",
       "      <td>CHIPOTLE MEXICAN GRILL</td>\n",
       "      <td>2670642.0</td>\n",
       "      <td>Restaurant</td>\n",
       "      <td>3.0</td>\n",
       "      <td>1025 W ADDISON ST</td>\n",
       "      <td>2019-12-04</td>\n",
       "      <td>License Re-Inspection</td>\n",
       "      <td>2</td>\n",
       "      <td>3. MANAGEMENT, FOOD EMPLOYEE AND CONDITIONAL E...</td>\n",
       "      <td>41.947118</td>\n",
       "      <td>-87.655381</td>\n",
       "      <td>restaurant</td>\n",
       "      <td>Public</td>\n",
       "      <td>POINT (41.94711774835235 -87.65538116221241)</td>\n",
       "      <td>6.0</td>\n",
       "      <td>[3]</td>\n",
       "      <td>8</td>\n",
       "      <td>40.50</td>\n",
       "    </tr>\n",
       "    <tr>\n",
       "      <td>2352734</td>\n",
       "      <td>CHILI'S T-I</td>\n",
       "      <td>34169.0</td>\n",
       "      <td>Restaurant</td>\n",
       "      <td>3.0</td>\n",
       "      <td>11601 W TOUHY AVE</td>\n",
       "      <td>2019-12-04</td>\n",
       "      <td>Canvass</td>\n",
       "      <td>1</td>\n",
       "      <td>10. ADEQUATE HANDWASHING SINKS PROPERLY SUPPLI...</td>\n",
       "      <td>42.008536</td>\n",
       "      <td>-87.914428</td>\n",
       "      <td>restaurant</td>\n",
       "      <td>Public</td>\n",
       "      <td>POINT (42.00853640086873 -87.91442843927048)</td>\n",
       "      <td>0.0</td>\n",
       "      <td>[47, 49, 55, 55, 10]</td>\n",
       "      <td>5</td>\n",
       "      <td>1.92</td>\n",
       "    </tr>\n",
       "    <tr>\n",
       "      <td>2352701</td>\n",
       "      <td>TAQUERIA BLUE LINE INC.</td>\n",
       "      <td>2703436.0</td>\n",
       "      <td>Restaurant</td>\n",
       "      <td>3.0</td>\n",
       "      <td>3401 W BELMONT AVE</td>\n",
       "      <td>2019-12-04</td>\n",
       "      <td>License</td>\n",
       "      <td>2</td>\n",
       "      <td>3. MANAGEMENT, FOOD EMPLOYEE AND CONDITIONAL E...</td>\n",
       "      <td>41.939168</td>\n",
       "      <td>-87.712546</td>\n",
       "      <td>restaurant</td>\n",
       "      <td>Public</td>\n",
       "      <td>POINT (41.93916783376965 -87.71254599117191)</td>\n",
       "      <td>21.0</td>\n",
       "      <td>[5, 16, 51, 53, 58, 3]</td>\n",
       "      <td>48</td>\n",
       "      <td>48.00</td>\n",
       "    </tr>\n",
       "  </tbody>\n",
       "</table>\n",
       "</div>"
      ],
      "text/plain": [
       "                              DBA Name    License Facility Type  Risk  \\\n",
       "Inspection ID                                                           \n",
       "2352683         CHIPOTLE MEXICAN GRILL  2670642.0    Restaurant   3.0   \n",
       "2352734                    CHILI'S T-I    34169.0    Restaurant   3.0   \n",
       "2352701        TAQUERIA BLUE LINE INC.  2703436.0    Restaurant   3.0   \n",
       "\n",
       "                           Address Inspection Date        Inspection Type  \\\n",
       "Inspection ID                                                               \n",
       "2352683         1025 W ADDISON ST       2019-12-04  License Re-Inspection   \n",
       "2352734         11601 W TOUHY AVE       2019-12-04                Canvass   \n",
       "2352701        3401 W BELMONT AVE       2019-12-04                License   \n",
       "\n",
       "               Results                                         Violations  \\\n",
       "Inspection ID                                                               \n",
       "2352683              2  3. MANAGEMENT, FOOD EMPLOYEE AND CONDITIONAL E...   \n",
       "2352734              1  10. ADEQUATE HANDWASHING SINKS PROPERLY SUPPLI...   \n",
       "2352701              2  3. MANAGEMENT, FOOD EMPLOYEE AND CONDITIONAL E...   \n",
       "\n",
       "                Latitude  Longitude FacilityGroup Public_Private  \\\n",
       "Inspection ID                                                      \n",
       "2352683        41.947118 -87.655381    restaurant         Public   \n",
       "2352734        42.008536 -87.914428    restaurant         Public   \n",
       "2352701        41.939168 -87.712546    restaurant         Public   \n",
       "\n",
       "                                                   Location  Community Area  \\\n",
       "Inspection ID                                                                 \n",
       "2352683        POINT (41.94711774835235 -87.65538116221241)             6.0   \n",
       "2352734        POINT (42.00853640086873 -87.91442843927048)             0.0   \n",
       "2352701        POINT (41.93916783376965 -87.71254599117191)            21.0   \n",
       "\n",
       "                     NumberViolations  InspectionScore  FacilityScore  \n",
       "Inspection ID                                                          \n",
       "2352683                           [3]                8          40.50  \n",
       "2352734          [47, 49, 55, 55, 10]                5           1.92  \n",
       "2352701        [5, 16, 51, 53, 58, 3]               48          48.00  "
      ]
     },
     "execution_count": 138,
     "metadata": {},
     "output_type": "execute_result"
    }
   ],
   "source": [
    "eat_seat.head(3)"
   ]
  },
  {
   "cell_type": "markdown",
   "metadata": {},
   "source": [
    "### Adding a Inspection Year column"
   ]
  },
  {
   "cell_type": "code",
   "execution_count": 123,
   "metadata": {},
   "outputs": [],
   "source": [
    "def ret_year(row) :\n",
    "    return (row.loc['Inspection Date'].year)"
   ]
  },
  {
   "cell_type": "code",
   "execution_count": 124,
   "metadata": {},
   "outputs": [],
   "source": [
    "r = eat_seat.loc[2352683]"
   ]
  },
  {
   "cell_type": "code",
   "execution_count": 125,
   "metadata": {},
   "outputs": [
    {
     "name": "stdout",
     "output_type": "stream",
     "text": [
      "2019\n"
     ]
    }
   ],
   "source": [
    "a = ret_year(r)\n",
    "\n",
    "print(a)"
   ]
  },
  {
   "cell_type": "code",
   "execution_count": 126,
   "metadata": {},
   "outputs": [],
   "source": [
    "eat_seat['Inspection Year'] = eat_seat.apply(lambda x : ret_year(x), axis = 1)"
   ]
  },
  {
   "cell_type": "code",
   "execution_count": 127,
   "metadata": {},
   "outputs": [
    {
     "data": {
      "text/html": [
       "<div>\n",
       "<style scoped>\n",
       "    .dataframe tbody tr th:only-of-type {\n",
       "        vertical-align: middle;\n",
       "    }\n",
       "\n",
       "    .dataframe tbody tr th {\n",
       "        vertical-align: top;\n",
       "    }\n",
       "\n",
       "    .dataframe thead th {\n",
       "        text-align: right;\n",
       "    }\n",
       "</style>\n",
       "<table border=\"1\" class=\"dataframe\">\n",
       "  <thead>\n",
       "    <tr style=\"text-align: right;\">\n",
       "      <th></th>\n",
       "      <th>DBA Name</th>\n",
       "      <th>License</th>\n",
       "      <th>Facility Type</th>\n",
       "      <th>Risk</th>\n",
       "      <th>Address</th>\n",
       "      <th>Inspection Date</th>\n",
       "      <th>Inspection Type</th>\n",
       "      <th>Results</th>\n",
       "      <th>Violations</th>\n",
       "      <th>Latitude</th>\n",
       "      <th>Longitude</th>\n",
       "      <th>FacilityGroup</th>\n",
       "      <th>Public_Private</th>\n",
       "      <th>Location</th>\n",
       "      <th>Community Area</th>\n",
       "      <th>NumberViolations</th>\n",
       "      <th>InspectionScore</th>\n",
       "      <th>Inspection Year</th>\n",
       "    </tr>\n",
       "    <tr>\n",
       "      <th>Inspection ID</th>\n",
       "      <th></th>\n",
       "      <th></th>\n",
       "      <th></th>\n",
       "      <th></th>\n",
       "      <th></th>\n",
       "      <th></th>\n",
       "      <th></th>\n",
       "      <th></th>\n",
       "      <th></th>\n",
       "      <th></th>\n",
       "      <th></th>\n",
       "      <th></th>\n",
       "      <th></th>\n",
       "      <th></th>\n",
       "      <th></th>\n",
       "      <th></th>\n",
       "      <th></th>\n",
       "      <th></th>\n",
       "    </tr>\n",
       "  </thead>\n",
       "  <tbody>\n",
       "    <tr>\n",
       "      <td>2352683</td>\n",
       "      <td>CHIPOTLE MEXICAN GRILL</td>\n",
       "      <td>2670642.0</td>\n",
       "      <td>Restaurant</td>\n",
       "      <td>3.0</td>\n",
       "      <td>1025 W ADDISON ST</td>\n",
       "      <td>2019-12-04</td>\n",
       "      <td>License Re-Inspection</td>\n",
       "      <td>2</td>\n",
       "      <td>3. MANAGEMENT, FOOD EMPLOYEE AND CONDITIONAL E...</td>\n",
       "      <td>41.947118</td>\n",
       "      <td>-87.655381</td>\n",
       "      <td>restaurant</td>\n",
       "      <td>Public</td>\n",
       "      <td>POINT (41.94711774835235 -87.65538116221241)</td>\n",
       "      <td>6.0</td>\n",
       "      <td>[3]</td>\n",
       "      <td>16</td>\n",
       "      <td>2019</td>\n",
       "    </tr>\n",
       "    <tr>\n",
       "      <td>2352734</td>\n",
       "      <td>CHILI'S T-I</td>\n",
       "      <td>34169.0</td>\n",
       "      <td>Restaurant</td>\n",
       "      <td>3.0</td>\n",
       "      <td>11601 W TOUHY AVE</td>\n",
       "      <td>2019-12-04</td>\n",
       "      <td>Canvass</td>\n",
       "      <td>1</td>\n",
       "      <td>10. ADEQUATE HANDWASHING SINKS PROPERLY SUPPLI...</td>\n",
       "      <td>42.008536</td>\n",
       "      <td>-87.914428</td>\n",
       "      <td>restaurant</td>\n",
       "      <td>Public</td>\n",
       "      <td>POINT (42.00853640086873 -87.91442843927048)</td>\n",
       "      <td>0.0</td>\n",
       "      <td>[47, 49, 55, 55, 10]</td>\n",
       "      <td>10</td>\n",
       "      <td>2019</td>\n",
       "    </tr>\n",
       "    <tr>\n",
       "      <td>2352701</td>\n",
       "      <td>TAQUERIA BLUE LINE INC.</td>\n",
       "      <td>2703436.0</td>\n",
       "      <td>Restaurant</td>\n",
       "      <td>3.0</td>\n",
       "      <td>3401 W BELMONT AVE</td>\n",
       "      <td>2019-12-04</td>\n",
       "      <td>License</td>\n",
       "      <td>2</td>\n",
       "      <td>3. MANAGEMENT, FOOD EMPLOYEE AND CONDITIONAL E...</td>\n",
       "      <td>41.939168</td>\n",
       "      <td>-87.712546</td>\n",
       "      <td>restaurant</td>\n",
       "      <td>Public</td>\n",
       "      <td>POINT (41.93916783376965 -87.71254599117191)</td>\n",
       "      <td>21.0</td>\n",
       "      <td>[5, 16, 51, 53, 58, 3]</td>\n",
       "      <td>96</td>\n",
       "      <td>2019</td>\n",
       "    </tr>\n",
       "  </tbody>\n",
       "</table>\n",
       "</div>"
      ],
      "text/plain": [
       "                              DBA Name    License Facility Type  Risk  \\\n",
       "Inspection ID                                                           \n",
       "2352683         CHIPOTLE MEXICAN GRILL  2670642.0    Restaurant   3.0   \n",
       "2352734                    CHILI'S T-I    34169.0    Restaurant   3.0   \n",
       "2352701        TAQUERIA BLUE LINE INC.  2703436.0    Restaurant   3.0   \n",
       "\n",
       "                           Address Inspection Date        Inspection Type  \\\n",
       "Inspection ID                                                               \n",
       "2352683         1025 W ADDISON ST       2019-12-04  License Re-Inspection   \n",
       "2352734         11601 W TOUHY AVE       2019-12-04                Canvass   \n",
       "2352701        3401 W BELMONT AVE       2019-12-04                License   \n",
       "\n",
       "               Results                                         Violations  \\\n",
       "Inspection ID                                                               \n",
       "2352683              2  3. MANAGEMENT, FOOD EMPLOYEE AND CONDITIONAL E...   \n",
       "2352734              1  10. ADEQUATE HANDWASHING SINKS PROPERLY SUPPLI...   \n",
       "2352701              2  3. MANAGEMENT, FOOD EMPLOYEE AND CONDITIONAL E...   \n",
       "\n",
       "                Latitude  Longitude FacilityGroup Public_Private  \\\n",
       "Inspection ID                                                      \n",
       "2352683        41.947118 -87.655381    restaurant         Public   \n",
       "2352734        42.008536 -87.914428    restaurant         Public   \n",
       "2352701        41.939168 -87.712546    restaurant         Public   \n",
       "\n",
       "                                                   Location  Community Area  \\\n",
       "Inspection ID                                                                 \n",
       "2352683        POINT (41.94711774835235 -87.65538116221241)             6.0   \n",
       "2352734        POINT (42.00853640086873 -87.91442843927048)             0.0   \n",
       "2352701        POINT (41.93916783376965 -87.71254599117191)            21.0   \n",
       "\n",
       "                     NumberViolations  InspectionScore  Inspection Year  \n",
       "Inspection ID                                                            \n",
       "2352683                           [3]               16             2019  \n",
       "2352734          [47, 49, 55, 55, 10]               10             2019  \n",
       "2352701        [5, 16, 51, 53, 58, 3]               96             2019  "
      ]
     },
     "execution_count": 127,
     "metadata": {},
     "output_type": "execute_result"
    }
   ],
   "source": [
    "eat_seat.head(3)"
   ]
  },
  {
   "cell_type": "code",
   "execution_count": 128,
   "metadata": {},
   "outputs": [],
   "source": [
    "eat_seat.to_csv('eat_seat.csv')"
   ]
  },
  {
   "cell_type": "code",
   "execution_count": 129,
   "metadata": {},
   "outputs": [],
   "source": [
    "eat_seat = pd.read_csv('eat_seat.csv')"
   ]
  },
  {
   "cell_type": "code",
   "execution_count": 130,
   "metadata": {},
   "outputs": [
    {
     "data": {
      "text/plain": [
       "Text(0, 0.5, '#Inspections')"
      ]
     },
     "execution_count": 130,
     "metadata": {},
     "output_type": "execute_result"
    },
    {
     "data": {
      "image/png": "[encoded data removed]",
      "text/plain": [
       "<Figure size 432x288 with 1 Axes>"
      ]
     },
     "metadata": {
      "needs_background": "light"
     },
     "output_type": "display_data"
    }
   ],
   "source": [
    "def inspection_per_year(dblp):\n",
    "    return dblp[['Inspection Year','Inspection ID']].groupby('Inspection Year').count()\n",
    "\n",
    "ax = inspection_per_year(eat_seat).plot(rot=-45)\n",
    "ax.set_xlabel('Year')\n",
    "ax.set_ylabel('#Inspections')"
   ]
  },
  {
   "cell_type": "markdown",
   "metadata": {},
   "source": [
    "## Dealing with facilities inspected more than one time in a year"
   ]
  },
  {
   "cell_type": "code",
   "execution_count": 131,
   "metadata": {},
   "outputs": [
    {
     "data": {
      "text/plain": [
       "47254"
      ]
     },
     "execution_count": 131,
     "metadata": {},
     "output_type": "execute_result"
    }
   ],
   "source": [
    "duplicates = eat_seat[eat_seat.duplicated(['License','DBA Name', 'Inspection Year'])]\n",
    "len(duplicates)"
   ]
  },
  {
   "cell_type": "markdown",
   "metadata": {},
   "source": [
    "Here we can see that several facilities were inspspected more than one time in a year"
   ]
  },
  {
   "cell_type": "code",
   "execution_count": 208,
   "metadata": {},
   "outputs": [],
   "source": [
    "eat_seat_facility = eat_seat[['License','DBA Name','Community Area','InspectionScore','Inspection Year']].copy()\\\n",
    "                    .groupby(['License','DBA Name','Community Area','Inspection Year']).median()"
   ]
  },
  {
   "cell_type": "markdown",
   "metadata": {},
   "source": [
    "Selecting the License/DBA Name/Comm Area/ Inspection Score/ Inspection Year, groupping them on License/DBA Name/Comm Area/ Inspection Year and getting the medain for the Inspection Score.\n",
    "\n",
    "We now have only the median inspection score for each facility for each year"
   ]
  },
  {
   "cell_type": "code",
   "execution_count": 133,
   "metadata": {},
   "outputs": [
    {
     "data": {
      "text/html": [
       "<div>\n",
       "<style scoped>\n",
       "    .dataframe tbody tr th:only-of-type {\n",
       "        vertical-align: middle;\n",
       "    }\n",
       "\n",
       "    .dataframe tbody tr th {\n",
       "        vertical-align: top;\n",
       "    }\n",
       "\n",
       "    .dataframe thead th {\n",
       "        text-align: right;\n",
       "    }\n",
       "</style>\n",
       "<table border=\"1\" class=\"dataframe\">\n",
       "  <thead>\n",
       "    <tr style=\"text-align: right;\">\n",
       "      <th></th>\n",
       "      <th></th>\n",
       "      <th></th>\n",
       "      <th></th>\n",
       "      <th>InspectionScore</th>\n",
       "    </tr>\n",
       "    <tr>\n",
       "      <th>License</th>\n",
       "      <th>DBA Name</th>\n",
       "      <th>Community Area</th>\n",
       "      <th>Inspection Year</th>\n",
       "      <th></th>\n",
       "    </tr>\n",
       "  </thead>\n",
       "  <tbody>\n",
       "    <tr>\n",
       "      <td rowspan=\"3\" valign=\"top\">2.0</td>\n",
       "      <td rowspan=\"3\" valign=\"top\">COSI</td>\n",
       "      <td rowspan=\"3\" valign=\"top\">32.0</td>\n",
       "      <td>2010</td>\n",
       "      <td>10</td>\n",
       "    </tr>\n",
       "    <tr>\n",
       "      <td>2011</td>\n",
       "      <td>10</td>\n",
       "    </tr>\n",
       "    <tr>\n",
       "      <td>2012</td>\n",
       "      <td>32</td>\n",
       "    </tr>\n",
       "  </tbody>\n",
       "</table>\n",
       "</div>"
      ],
      "text/plain": [
       "                                                 InspectionScore\n",
       "License DBA Name Community Area Inspection Year                 \n",
       "2.0     COSI     32.0           2010                          10\n",
       "                                2011                          10\n",
       "                                2012                          32"
      ]
     },
     "execution_count": 133,
     "metadata": {},
     "output_type": "execute_result"
    }
   ],
   "source": [
    "eat_seat_facility.head(3)"
   ]
  },
  {
   "cell_type": "code",
   "execution_count": 134,
   "metadata": {},
   "outputs": [],
   "source": [
    "eat_seat_facility.to_csv('eat_seat_facility.csv')"
   ]
  },
  {
   "cell_type": "code",
   "execution_count": 135,
   "metadata": {},
   "outputs": [],
   "source": [
    "eat_seat_facility = pd.read_csv('eat_seat_facility.csv')"
   ]
  },
  {
   "cell_type": "markdown",
   "metadata": {},
   "source": [
    "Storing them and checking if the csv is reusable, its the case"
   ]
  },
  {
   "cell_type": "code",
   "execution_count": 136,
   "metadata": {},
   "outputs": [
    {
     "data": {
      "text/plain": [
       "0"
      ]
     },
     "execution_count": 136,
     "metadata": {},
     "output_type": "execute_result"
    }
   ],
   "source": [
    "duplicates = eat_seat_facility[eat_seat_facility.duplicated(['License','DBA Name','Inspection Year'])]\n",
    "len(duplicates)"
   ]
  },
  {
   "cell_type": "code",
   "execution_count": 137,
   "metadata": {},
   "outputs": [
    {
     "data": {
      "text/html": [
       "<div>\n",
       "<style scoped>\n",
       "    .dataframe tbody tr th:only-of-type {\n",
       "        vertical-align: middle;\n",
       "    }\n",
       "\n",
       "    .dataframe tbody tr th {\n",
       "        vertical-align: top;\n",
       "    }\n",
       "\n",
       "    .dataframe thead th {\n",
       "        text-align: right;\n",
       "    }\n",
       "</style>\n",
       "<table border=\"1\" class=\"dataframe\">\n",
       "  <thead>\n",
       "    <tr style=\"text-align: right;\">\n",
       "      <th></th>\n",
       "      <th>License</th>\n",
       "      <th>DBA Name</th>\n",
       "      <th>Community Area</th>\n",
       "      <th>Inspection Year</th>\n",
       "      <th>InspectionScore</th>\n",
       "    </tr>\n",
       "  </thead>\n",
       "  <tbody>\n",
       "    <tr>\n",
       "      <td>0</td>\n",
       "      <td>2.0</td>\n",
       "      <td>COSI</td>\n",
       "      <td>32.0</td>\n",
       "      <td>2010</td>\n",
       "      <td>10</td>\n",
       "    </tr>\n",
       "    <tr>\n",
       "      <td>1</td>\n",
       "      <td>2.0</td>\n",
       "      <td>COSI</td>\n",
       "      <td>32.0</td>\n",
       "      <td>2011</td>\n",
       "      <td>10</td>\n",
       "    </tr>\n",
       "    <tr>\n",
       "      <td>2</td>\n",
       "      <td>2.0</td>\n",
       "      <td>COSI</td>\n",
       "      <td>32.0</td>\n",
       "      <td>2012</td>\n",
       "      <td>32</td>\n",
       "    </tr>\n",
       "  </tbody>\n",
       "</table>\n",
       "</div>"
      ],
      "text/plain": [
       "   License DBA Name  Community Area  Inspection Year  InspectionScore\n",
       "0      2.0     COSI            32.0             2010               10\n",
       "1      2.0     COSI            32.0             2011               10\n",
       "2      2.0     COSI            32.0             2012               32"
      ]
     },
     "execution_count": 137,
     "metadata": {},
     "output_type": "execute_result"
    }
   ],
   "source": [
    "eat_seat_facility.head(3)"
   ]
  },
  {
   "cell_type": "markdown",
   "metadata": {},
   "source": [
    "Now we see the precedent problem disappeared"
   ]
  },
  {
   "cell_type": "markdown",
   "metadata": {},
   "source": [
    "## 4.1 Additional Dataset - BUSINESS LICENSES/OWNERS\n",
    "\n",
    "We found two datasets on Kaggle https://www.kaggle.com/chicago/chicago-business-licenses-and-owners, gathering the business licenses and the business owners of Chicago. It could be interesting to observe the results of different establishments owned by the same person."
   ]
  },
  {
   "cell_type": "markdown",
   "metadata": {},
   "source": [
    "### Business Licenses\n",
    "\n",
    "The first dataset contains the details about every licensed establishments. There are a lot of columns but the only ones interesting us are :\n",
    "- the `license id` column to have a link with the *chicago food inspections* dataset\n",
    "- the `account number` column to have a link with the *business owners* dataset\n",
    "- the `police district` column in case we want to have a link with the *crime* dataset"
   ]
  },
  {
   "cell_type": "code",
   "execution_count": 138,
   "metadata": {},
   "outputs": [],
   "source": [
    "licenses = pd.read_csv('business-licenses.csv', sep=',', low_memory = False) #creation of the dataframe\n"
   ]
  },
  {
   "cell_type": "code",
   "execution_count": 139,
   "metadata": {},
   "outputs": [
    {
     "name": "stderr",
     "output_type": "stream",
     "text": [
      "C:\\Users\\gaguy\\Anaconda3\\envs\\ada\\lib\\site-packages\\IPython\\core\\interactiveshell.py:3058: DtypeWarning: Columns (9) have mixed types. Specify dtype option on import or set low_memory=False.\n",
      "  interactivity=interactivity, compiler=compiler, result=result)\n"
     ]
    },
    {
     "data": {
      "text/html": [
       "<div>\n",
       "<style scoped>\n",
       "    .dataframe tbody tr th:only-of-type {\n",
       "        vertical-align: middle;\n",
       "    }\n",
       "\n",
       "    .dataframe tbody tr th {\n",
       "        vertical-align: top;\n",
       "    }\n",
       "\n",
       "    .dataframe thead th {\n",
       "        text-align: right;\n",
       "    }\n",
       "</style>\n",
       "<table border=\"1\" class=\"dataframe\">\n",
       "  <thead>\n",
       "    <tr style=\"text-align: right;\">\n",
       "      <th></th>\n",
       "      <th>license id</th>\n",
       "      <th>account number</th>\n",
       "      <th>police district</th>\n",
       "    </tr>\n",
       "  </thead>\n",
       "  <tbody>\n",
       "    <tr>\n",
       "      <td>0</td>\n",
       "      <td>1480073</td>\n",
       "      <td>1</td>\n",
       "      <td>1.0</td>\n",
       "    </tr>\n",
       "    <tr>\n",
       "      <td>1</td>\n",
       "      <td>1278029</td>\n",
       "      <td>1</td>\n",
       "      <td>1.0</td>\n",
       "    </tr>\n",
       "    <tr>\n",
       "      <td>2</td>\n",
       "      <td>1337924</td>\n",
       "      <td>1</td>\n",
       "      <td>1.0</td>\n",
       "    </tr>\n",
       "  </tbody>\n",
       "</table>\n",
       "</div>"
      ],
      "text/plain": [
       "   license id  account number  police district\n",
       "0     1480073               1              1.0\n",
       "1     1278029               1              1.0\n",
       "2     1337924               1              1.0"
      ]
     },
     "execution_count": 139,
     "metadata": {},
     "output_type": "execute_result"
    }
   ],
   "source": [
    "licenses = pd.read_csv('business-licenses.csv', sep=',') #creation of the dataframe\n",
    "licenses = licenses.rename(str.lower, axis='columns')\n",
    "licenses = licenses.drop(columns = ['city', 'state', 'id', 'precinct', 'ward precinct', 'business activity id',\\\n",
    "                                'license number', 'application type', 'application created date',\\\n",
    "                                'application requirements complete', 'payment date', 'conditional approval',\\\n",
    "                                'license term start date', 'license term expiration date', 'license approved for issuance',\\\n",
    "                                'date issued', 'license status', 'license status change date', 'ssa',\\\n",
    "                                'historical wards 2003-2015', 'zip codes', 'wards', 'census tracts', 'location',\\\n",
    "                                'license code', 'license description', 'business activity', 'site number',\\\n",
    "                               'zip code', 'latitude', 'longitude', 'address', 'legal name', 'doing business as name',\\\n",
    "                                'community areas', 'ward'])\n",
    "\n",
    "licenses['police district'] = pd.to_numeric(licenses['police district'], downcast = 'integer') \n",
    "licenses.head(3)"
   ]
  },
  {
   "cell_type": "code",
   "execution_count": 140,
   "metadata": {},
   "outputs": [
    {
     "data": {
      "text/html": [
       "<div>\n",
       "<style scoped>\n",
       "    .dataframe tbody tr th:only-of-type {\n",
       "        vertical-align: middle;\n",
       "    }\n",
       "\n",
       "    .dataframe tbody tr th {\n",
       "        vertical-align: top;\n",
       "    }\n",
       "\n",
       "    .dataframe thead th {\n",
       "        text-align: right;\n",
       "    }\n",
       "</style>\n",
       "<table border=\"1\" class=\"dataframe\">\n",
       "  <thead>\n",
       "    <tr style=\"text-align: right;\">\n",
       "      <th></th>\n",
       "      <th>license id</th>\n",
       "      <th>police district</th>\n",
       "    </tr>\n",
       "    <tr>\n",
       "      <th>account number</th>\n",
       "      <th></th>\n",
       "      <th></th>\n",
       "    </tr>\n",
       "  </thead>\n",
       "  <tbody>\n",
       "    <tr>\n",
       "      <td>1</td>\n",
       "      <td>1480073</td>\n",
       "      <td>1.0</td>\n",
       "    </tr>\n",
       "    <tr>\n",
       "      <td>1</td>\n",
       "      <td>1278029</td>\n",
       "      <td>1.0</td>\n",
       "    </tr>\n",
       "    <tr>\n",
       "      <td>1</td>\n",
       "      <td>1337924</td>\n",
       "      <td>1.0</td>\n",
       "    </tr>\n",
       "  </tbody>\n",
       "</table>\n",
       "</div>"
      ],
      "text/plain": [
       "                license id  police district\n",
       "account number                             \n",
       "1                  1480073              1.0\n",
       "1                  1278029              1.0\n",
       "1                  1337924              1.0"
      ]
     },
     "execution_count": 140,
     "metadata": {},
     "output_type": "execute_result"
    }
   ],
   "source": [
    "licenses = licenses.set_index('account number')\n",
    "licenses.head(3)"
   ]
  },
  {
   "cell_type": "code",
   "execution_count": 141,
   "metadata": {},
   "outputs": [
    {
     "name": "stdout",
     "output_type": "stream",
     "text": [
      "991117\n"
     ]
    }
   ],
   "source": [
    "print(len(licenses.index))"
   ]
  },
  {
   "cell_type": "markdown",
   "metadata": {},
   "source": [
    "### Business Owners\n",
    "\n",
    "The second dataset contains the details about every license owners. We have decided to keep the following columns :\n",
    "- the `account number` column to have a link with the *business licenses* dataset\n",
    "- the `owner first name` and the `owner last name` columns in order to create a `full name` column"
   ]
  },
  {
   "cell_type": "code",
   "execution_count": 142,
   "metadata": {},
   "outputs": [
    {
     "data": {
      "text/html": [
       "<div>\n",
       "<style scoped>\n",
       "    .dataframe tbody tr th:only-of-type {\n",
       "        vertical-align: middle;\n",
       "    }\n",
       "\n",
       "    .dataframe tbody tr th {\n",
       "        vertical-align: top;\n",
       "    }\n",
       "\n",
       "    .dataframe thead th {\n",
       "        text-align: right;\n",
       "    }\n",
       "</style>\n",
       "<table border=\"1\" class=\"dataframe\">\n",
       "  <thead>\n",
       "    <tr style=\"text-align: right;\">\n",
       "      <th></th>\n",
       "      <th>account number</th>\n",
       "      <th>owner first name</th>\n",
       "      <th>owner last name</th>\n",
       "    </tr>\n",
       "  </thead>\n",
       "  <tbody>\n",
       "    <tr>\n",
       "      <td>0</td>\n",
       "      <td>373231</td>\n",
       "      <td>GUY</td>\n",
       "      <td>SELLARS</td>\n",
       "    </tr>\n",
       "    <tr>\n",
       "      <td>1</td>\n",
       "      <td>203002</td>\n",
       "      <td>NELCY</td>\n",
       "      <td>SANTANA</td>\n",
       "    </tr>\n",
       "    <tr>\n",
       "      <td>2</td>\n",
       "      <td>338012</td>\n",
       "      <td>GREGORY</td>\n",
       "      <td>EDINGBURG</td>\n",
       "    </tr>\n",
       "  </tbody>\n",
       "</table>\n",
       "</div>"
      ],
      "text/plain": [
       "   account number owner first name owner last name\n",
       "0          373231              GUY         SELLARS\n",
       "1          203002            NELCY         SANTANA\n",
       "2          338012          GREGORY       EDINGBURG"
      ]
     },
     "execution_count": 142,
     "metadata": {},
     "output_type": "execute_result"
    }
   ],
   "source": [
    "owners = pd.read_csv('business-owners.csv',sep=',') #creation of the dataframe\n",
    "owners = owners.rename(str.lower, axis='columns')\n",
    "owners = owners.drop(columns = ['suffix', 'legal entity owner', 'owner middle initial', 'legal name', 'title'])\n",
    "owners.head(3)"
   ]
  },
  {
   "cell_type": "code",
   "execution_count": 143,
   "metadata": {},
   "outputs": [],
   "source": [
    "owners['full name'] = owners['owner first name'] + ' ' + owners['owner last name']\n",
    "owners = owners.drop(columns = ['owner first name', 'owner last name'])"
   ]
  },
  {
   "cell_type": "markdown",
   "metadata": {},
   "source": [
    "A `full name` column is enough for the needs that we have to link the licenses to the owners."
   ]
  },
  {
   "cell_type": "code",
   "execution_count": 144,
   "metadata": {},
   "outputs": [
    {
     "data": {
      "text/html": [
       "<div>\n",
       "<style scoped>\n",
       "    .dataframe tbody tr th:only-of-type {\n",
       "        vertical-align: middle;\n",
       "    }\n",
       "\n",
       "    .dataframe tbody tr th {\n",
       "        vertical-align: top;\n",
       "    }\n",
       "\n",
       "    .dataframe thead th {\n",
       "        text-align: right;\n",
       "    }\n",
       "</style>\n",
       "<table border=\"1\" class=\"dataframe\">\n",
       "  <thead>\n",
       "    <tr style=\"text-align: right;\">\n",
       "      <th></th>\n",
       "      <th>account number</th>\n",
       "      <th>full name</th>\n",
       "    </tr>\n",
       "  </thead>\n",
       "  <tbody>\n",
       "    <tr>\n",
       "      <td>0</td>\n",
       "      <td>373231</td>\n",
       "      <td>GUY SELLARS</td>\n",
       "    </tr>\n",
       "    <tr>\n",
       "      <td>1</td>\n",
       "      <td>203002</td>\n",
       "      <td>NELCY SANTANA</td>\n",
       "    </tr>\n",
       "    <tr>\n",
       "      <td>2</td>\n",
       "      <td>338012</td>\n",
       "      <td>GREGORY EDINGBURG</td>\n",
       "    </tr>\n",
       "  </tbody>\n",
       "</table>\n",
       "</div>"
      ],
      "text/plain": [
       "   account number          full name\n",
       "0          373231        GUY SELLARS\n",
       "1          203002      NELCY SANTANA\n",
       "2          338012  GREGORY EDINGBURG"
      ]
     },
     "execution_count": 144,
     "metadata": {},
     "output_type": "execute_result"
    }
   ],
   "source": [
    "owners.head(3)"
   ]
  },
  {
   "cell_type": "code",
   "execution_count": 145,
   "metadata": {},
   "outputs": [
    {
     "data": {
      "text/plain": [
       "168162"
      ]
     },
     "execution_count": 145,
     "metadata": {},
     "output_type": "execute_result"
    }
   ],
   "source": [
    "len(owners['account number'].unique())"
   ]
  },
  {
   "cell_type": "code",
   "execution_count": 146,
   "metadata": {},
   "outputs": [
    {
     "data": {
      "text/plain": [
       "192520"
      ]
     },
     "execution_count": 146,
     "metadata": {},
     "output_type": "execute_result"
    }
   ],
   "source": [
    "len(owners['full name'].unique())"
   ]
  },
  {
   "cell_type": "markdown",
   "metadata": {},
   "source": [
    "Here we can see that the number of accounts is not the same that the number of full names. For now, we will consider that a same account can be shared by several people (for example, it could be the case for partners owning a business together)."
   ]
  },
  {
   "cell_type": "code",
   "execution_count": 147,
   "metadata": {},
   "outputs": [],
   "source": [
    "owners = pd.DataFrame(owners.groupby('account number')['full name'].apply(list))"
   ]
  },
  {
   "cell_type": "code",
   "execution_count": 148,
   "metadata": {},
   "outputs": [
    {
     "data": {
      "text/html": [
       "<div>\n",
       "<style scoped>\n",
       "    .dataframe tbody tr th:only-of-type {\n",
       "        vertical-align: middle;\n",
       "    }\n",
       "\n",
       "    .dataframe tbody tr th {\n",
       "        vertical-align: top;\n",
       "    }\n",
       "\n",
       "    .dataframe thead th {\n",
       "        text-align: right;\n",
       "    }\n",
       "</style>\n",
       "<table border=\"1\" class=\"dataframe\">\n",
       "  <thead>\n",
       "    <tr style=\"text-align: right;\">\n",
       "      <th></th>\n",
       "      <th>full name</th>\n",
       "    </tr>\n",
       "    <tr>\n",
       "      <th>account number</th>\n",
       "      <th></th>\n",
       "    </tr>\n",
       "  </thead>\n",
       "  <tbody>\n",
       "    <tr>\n",
       "      <td>1</td>\n",
       "      <td>[PETER BERGHOFF, PETER BERGHOFF, HERMAN BERGHOFF]</td>\n",
       "    </tr>\n",
       "    <tr>\n",
       "      <td>2</td>\n",
       "      <td>[nan, HERMAN BERGHOFF, PETER BERGHOFF, nan, EI...</td>\n",
       "    </tr>\n",
       "    <tr>\n",
       "      <td>4</td>\n",
       "      <td>[LAWRENCE PRICE]</td>\n",
       "    </tr>\n",
       "  </tbody>\n",
       "</table>\n",
       "</div>"
      ],
      "text/plain": [
       "                                                        full name\n",
       "account number                                                   \n",
       "1               [PETER BERGHOFF, PETER BERGHOFF, HERMAN BERGHOFF]\n",
       "2               [nan, HERMAN BERGHOFF, PETER BERGHOFF, nan, EI...\n",
       "4                                                [LAWRENCE PRICE]"
      ]
     },
     "execution_count": 148,
     "metadata": {},
     "output_type": "execute_result"
    }
   ],
   "source": [
    "owners.head(3)"
   ]
  },
  {
   "cell_type": "markdown",
   "metadata": {},
   "source": [
    "We can observe that the lists of the `full name` column contain duplicates and 'nan' values. A function *clean_list* can be defined to clean them."
   ]
  },
  {
   "cell_type": "code",
   "execution_count": 149,
   "metadata": {},
   "outputs": [],
   "source": [
    "def clean_list(liste) :\n",
    "    cleaned = []\n",
    "    for element in liste :\n",
    "        if type(element) == str and element not in cleaned :\n",
    "            cleaned.append(element)\n",
    "    return cleaned"
   ]
  },
  {
   "cell_type": "code",
   "execution_count": 150,
   "metadata": {},
   "outputs": [],
   "source": [
    "owners['full name'] = owners['full name'].apply(clean_list)"
   ]
  },
  {
   "cell_type": "code",
   "execution_count": 151,
   "metadata": {},
   "outputs": [
    {
     "data": {
      "text/html": [
       "<div>\n",
       "<style scoped>\n",
       "    .dataframe tbody tr th:only-of-type {\n",
       "        vertical-align: middle;\n",
       "    }\n",
       "\n",
       "    .dataframe tbody tr th {\n",
       "        vertical-align: top;\n",
       "    }\n",
       "\n",
       "    .dataframe thead th {\n",
       "        text-align: right;\n",
       "    }\n",
       "</style>\n",
       "<table border=\"1\" class=\"dataframe\">\n",
       "  <thead>\n",
       "    <tr style=\"text-align: right;\">\n",
       "      <th></th>\n",
       "      <th>full name</th>\n",
       "    </tr>\n",
       "    <tr>\n",
       "      <th>account number</th>\n",
       "      <th></th>\n",
       "    </tr>\n",
       "  </thead>\n",
       "  <tbody>\n",
       "    <tr>\n",
       "      <td>1</td>\n",
       "      <td>[PETER BERGHOFF, HERMAN BERGHOFF]</td>\n",
       "    </tr>\n",
       "    <tr>\n",
       "      <td>2</td>\n",
       "      <td>[HERMAN BERGHOFF, PETER BERGHOFF, EILEEN GORMA...</td>\n",
       "    </tr>\n",
       "    <tr>\n",
       "      <td>4</td>\n",
       "      <td>[LAWRENCE PRICE]</td>\n",
       "    </tr>\n",
       "  </tbody>\n",
       "</table>\n",
       "</div>"
      ],
      "text/plain": [
       "                                                        full name\n",
       "account number                                                   \n",
       "1                               [PETER BERGHOFF, HERMAN BERGHOFF]\n",
       "2               [HERMAN BERGHOFF, PETER BERGHOFF, EILEEN GORMA...\n",
       "4                                                [LAWRENCE PRICE]"
      ]
     },
     "execution_count": 151,
     "metadata": {},
     "output_type": "execute_result"
    }
   ],
   "source": [
    "owners.head(3)"
   ]
  },
  {
   "cell_type": "markdown",
   "metadata": {},
   "source": [
    "### Business Licenses-Owners\n",
    "\n",
    "Setting both the indexes of the *licenses* and the *owners* dataframes we can now merge them together."
   ]
  },
  {
   "cell_type": "code",
   "execution_count": 152,
   "metadata": {},
   "outputs": [],
   "source": [
    "business = pd.merge(licenses, owners, right_index = True, left_index = True)"
   ]
  },
  {
   "cell_type": "code",
   "execution_count": 153,
   "metadata": {},
   "outputs": [
    {
     "data": {
      "text/html": [
       "<div>\n",
       "<style scoped>\n",
       "    .dataframe tbody tr th:only-of-type {\n",
       "        vertical-align: middle;\n",
       "    }\n",
       "\n",
       "    .dataframe tbody tr th {\n",
       "        vertical-align: top;\n",
       "    }\n",
       "\n",
       "    .dataframe thead th {\n",
       "        text-align: right;\n",
       "    }\n",
       "</style>\n",
       "<table border=\"1\" class=\"dataframe\">\n",
       "  <thead>\n",
       "    <tr style=\"text-align: right;\">\n",
       "      <th></th>\n",
       "      <th>license id</th>\n",
       "      <th>police district</th>\n",
       "      <th>full name</th>\n",
       "    </tr>\n",
       "    <tr>\n",
       "      <th>account number</th>\n",
       "      <th></th>\n",
       "      <th></th>\n",
       "      <th></th>\n",
       "    </tr>\n",
       "  </thead>\n",
       "  <tbody>\n",
       "    <tr>\n",
       "      <td>1</td>\n",
       "      <td>1480073</td>\n",
       "      <td>1.0</td>\n",
       "      <td>[PETER BERGHOFF, HERMAN BERGHOFF]</td>\n",
       "    </tr>\n",
       "    <tr>\n",
       "      <td>1</td>\n",
       "      <td>1278029</td>\n",
       "      <td>1.0</td>\n",
       "      <td>[PETER BERGHOFF, HERMAN BERGHOFF]</td>\n",
       "    </tr>\n",
       "    <tr>\n",
       "      <td>1</td>\n",
       "      <td>1337924</td>\n",
       "      <td>1.0</td>\n",
       "      <td>[PETER BERGHOFF, HERMAN BERGHOFF]</td>\n",
       "    </tr>\n",
       "  </tbody>\n",
       "</table>\n",
       "</div>"
      ],
      "text/plain": [
       "                license id  police district                          full name\n",
       "account number                                                                \n",
       "1                  1480073              1.0  [PETER BERGHOFF, HERMAN BERGHOFF]\n",
       "1                  1278029              1.0  [PETER BERGHOFF, HERMAN BERGHOFF]\n",
       "1                  1337924              1.0  [PETER BERGHOFF, HERMAN BERGHOFF]"
      ]
     },
     "execution_count": 153,
     "metadata": {},
     "output_type": "execute_result"
    }
   ],
   "source": [
    "business.head(3)"
   ]
  },
  {
   "cell_type": "code",
   "execution_count": 154,
   "metadata": {},
   "outputs": [],
   "source": [
    "business.reset_index(level=0, inplace=True)"
   ]
  },
  {
   "cell_type": "code",
   "execution_count": 155,
   "metadata": {},
   "outputs": [
    {
     "data": {
      "text/html": [
       "<div>\n",
       "<style scoped>\n",
       "    .dataframe tbody tr th:only-of-type {\n",
       "        vertical-align: middle;\n",
       "    }\n",
       "\n",
       "    .dataframe tbody tr th {\n",
       "        vertical-align: top;\n",
       "    }\n",
       "\n",
       "    .dataframe thead th {\n",
       "        text-align: right;\n",
       "    }\n",
       "</style>\n",
       "<table border=\"1\" class=\"dataframe\">\n",
       "  <thead>\n",
       "    <tr style=\"text-align: right;\">\n",
       "      <th></th>\n",
       "      <th>account number</th>\n",
       "      <th>license id</th>\n",
       "      <th>police district</th>\n",
       "      <th>full name</th>\n",
       "    </tr>\n",
       "  </thead>\n",
       "  <tbody>\n",
       "    <tr>\n",
       "      <td>0</td>\n",
       "      <td>1</td>\n",
       "      <td>1480073</td>\n",
       "      <td>1.0</td>\n",
       "      <td>[PETER BERGHOFF, HERMAN BERGHOFF]</td>\n",
       "    </tr>\n",
       "    <tr>\n",
       "      <td>1</td>\n",
       "      <td>1</td>\n",
       "      <td>1278029</td>\n",
       "      <td>1.0</td>\n",
       "      <td>[PETER BERGHOFF, HERMAN BERGHOFF]</td>\n",
       "    </tr>\n",
       "    <tr>\n",
       "      <td>2</td>\n",
       "      <td>1</td>\n",
       "      <td>1337924</td>\n",
       "      <td>1.0</td>\n",
       "      <td>[PETER BERGHOFF, HERMAN BERGHOFF]</td>\n",
       "    </tr>\n",
       "  </tbody>\n",
       "</table>\n",
       "</div>"
      ],
      "text/plain": [
       "   account number  license id  police district  \\\n",
       "0               1     1480073              1.0   \n",
       "1               1     1278029              1.0   \n",
       "2               1     1337924              1.0   \n",
       "\n",
       "                           full name  \n",
       "0  [PETER BERGHOFF, HERMAN BERGHOFF]  \n",
       "1  [PETER BERGHOFF, HERMAN BERGHOFF]  \n",
       "2  [PETER BERGHOFF, HERMAN BERGHOFF]  "
      ]
     },
     "execution_count": 155,
     "metadata": {},
     "output_type": "execute_result"
    }
   ],
   "source": [
    "business.head(3)"
   ]
  },
  {
   "cell_type": "markdown",
   "metadata": {},
   "source": [
    "### Second Main Dataframe\n",
    "\n",
    "Setting both the indexes of the *business* and the *eat_seat* dataframes we can now merge them together."
   ]
  },
  {
   "cell_type": "code",
   "execution_count": 156,
   "metadata": {},
   "outputs": [],
   "source": [
    "business = business.rename(columns= {'license id' : 'License'})\n",
    "eat_seat_2 = pd.merge(eat_seat_facility, business, on = ['License'])"
   ]
  },
  {
   "cell_type": "code",
   "execution_count": 157,
   "metadata": {},
   "outputs": [
    {
     "data": {
      "text/html": [
       "<div>\n",
       "<style scoped>\n",
       "    .dataframe tbody tr th:only-of-type {\n",
       "        vertical-align: middle;\n",
       "    }\n",
       "\n",
       "    .dataframe tbody tr th {\n",
       "        vertical-align: top;\n",
       "    }\n",
       "\n",
       "    .dataframe thead th {\n",
       "        text-align: right;\n",
       "    }\n",
       "</style>\n",
       "<table border=\"1\" class=\"dataframe\">\n",
       "  <thead>\n",
       "    <tr style=\"text-align: right;\">\n",
       "      <th></th>\n",
       "      <th>License</th>\n",
       "      <th>DBA Name</th>\n",
       "      <th>Community Area</th>\n",
       "      <th>Inspection Year</th>\n",
       "      <th>InspectionScore</th>\n",
       "      <th>account number</th>\n",
       "      <th>police district</th>\n",
       "      <th>full name</th>\n",
       "    </tr>\n",
       "  </thead>\n",
       "  <tbody>\n",
       "    <tr>\n",
       "      <td>0</td>\n",
       "      <td>1770.0</td>\n",
       "      <td>VALENTINO CLUB CAFE</td>\n",
       "      <td>18.0</td>\n",
       "      <td>2012</td>\n",
       "      <td>2</td>\n",
       "      <td>81</td>\n",
       "      <td>10.0</td>\n",
       "      <td>[RUDOLFO GUERRERO, JOSE GUERRERO]</td>\n",
       "    </tr>\n",
       "    <tr>\n",
       "      <td>1</td>\n",
       "      <td>7141.0</td>\n",
       "      <td>SOUTHWEST MONTESSORI PRE SCHOL</td>\n",
       "      <td>71.0</td>\n",
       "      <td>2010</td>\n",
       "      <td>54</td>\n",
       "      <td>282</td>\n",
       "      <td>20.0</td>\n",
       "      <td>[HECTOR RODRIGUEZ]</td>\n",
       "    </tr>\n",
       "    <tr>\n",
       "      <td>2</td>\n",
       "      <td>7141.0</td>\n",
       "      <td>SOUTHWEST MONTESSORI PRE SCHOL</td>\n",
       "      <td>71.0</td>\n",
       "      <td>2011</td>\n",
       "      <td>8</td>\n",
       "      <td>282</td>\n",
       "      <td>20.0</td>\n",
       "      <td>[HECTOR RODRIGUEZ]</td>\n",
       "    </tr>\n",
       "  </tbody>\n",
       "</table>\n",
       "</div>"
      ],
      "text/plain": [
       "   License                        DBA Name  Community Area  Inspection Year  \\\n",
       "0   1770.0             VALENTINO CLUB CAFE            18.0             2012   \n",
       "1   7141.0  SOUTHWEST MONTESSORI PRE SCHOL            71.0             2010   \n",
       "2   7141.0  SOUTHWEST MONTESSORI PRE SCHOL            71.0             2011   \n",
       "\n",
       "   InspectionScore  account number  police district  \\\n",
       "0                2              81             10.0   \n",
       "1               54             282             20.0   \n",
       "2                8             282             20.0   \n",
       "\n",
       "                           full name  \n",
       "0  [RUDOLFO GUERRERO, JOSE GUERRERO]  \n",
       "1                 [HECTOR RODRIGUEZ]  \n",
       "2                 [HECTOR RODRIGUEZ]  "
      ]
     },
     "execution_count": 157,
     "metadata": {},
     "output_type": "execute_result"
    }
   ],
   "source": [
    "eat_seat_2.head(3)"
   ]
  },
  {
   "cell_type": "code",
   "execution_count": 158,
   "metadata": {},
   "outputs": [],
   "source": [
    "eat_seat_2.to_csv('newfood.csv')"
   ]
  },
  {
   "cell_type": "markdown",
   "metadata": {},
   "source": [
    "### Dataframe with owner, median of his restaurants inspection score and number of restaurants owned"
   ]
  },
  {
   "cell_type": "code",
   "execution_count": 159,
   "metadata": {},
   "outputs": [],
   "source": [
    "license_owner = eat_seat_2.explode('full name').dropna(how='any', subset=['full name'])"
   ]
  },
  {
   "cell_type": "markdown",
   "metadata": {},
   "source": [
    "full name column is filled with name of the multiple owners of each restaurant. These names are stored in a list and we one owner on each row to be able to group the data on them. This is what this cell does ! We also delete the row without the name of the owner"
   ]
  },
  {
   "cell_type": "code",
   "execution_count": 160,
   "metadata": {},
   "outputs": [
    {
     "data": {
      "text/html": [
       "<div>\n",
       "<style scoped>\n",
       "    .dataframe tbody tr th:only-of-type {\n",
       "        vertical-align: middle;\n",
       "    }\n",
       "\n",
       "    .dataframe tbody tr th {\n",
       "        vertical-align: top;\n",
       "    }\n",
       "\n",
       "    .dataframe thead th {\n",
       "        text-align: right;\n",
       "    }\n",
       "</style>\n",
       "<table border=\"1\" class=\"dataframe\">\n",
       "  <thead>\n",
       "    <tr style=\"text-align: right;\">\n",
       "      <th></th>\n",
       "      <th>License</th>\n",
       "      <th>DBA Name</th>\n",
       "      <th>Community Area</th>\n",
       "      <th>Inspection Year</th>\n",
       "      <th>InspectionScore</th>\n",
       "      <th>account number</th>\n",
       "      <th>police district</th>\n",
       "      <th>full name</th>\n",
       "    </tr>\n",
       "  </thead>\n",
       "  <tbody>\n",
       "    <tr>\n",
       "      <td>0</td>\n",
       "      <td>1770.0</td>\n",
       "      <td>VALENTINO CLUB CAFE</td>\n",
       "      <td>18.0</td>\n",
       "      <td>2012</td>\n",
       "      <td>2</td>\n",
       "      <td>81</td>\n",
       "      <td>10.0</td>\n",
       "      <td>RUDOLFO GUERRERO</td>\n",
       "    </tr>\n",
       "    <tr>\n",
       "      <td>0</td>\n",
       "      <td>1770.0</td>\n",
       "      <td>VALENTINO CLUB CAFE</td>\n",
       "      <td>18.0</td>\n",
       "      <td>2012</td>\n",
       "      <td>2</td>\n",
       "      <td>81</td>\n",
       "      <td>10.0</td>\n",
       "      <td>JOSE GUERRERO</td>\n",
       "    </tr>\n",
       "    <tr>\n",
       "      <td>1</td>\n",
       "      <td>7141.0</td>\n",
       "      <td>SOUTHWEST MONTESSORI PRE SCHOL</td>\n",
       "      <td>71.0</td>\n",
       "      <td>2010</td>\n",
       "      <td>54</td>\n",
       "      <td>282</td>\n",
       "      <td>20.0</td>\n",
       "      <td>HECTOR RODRIGUEZ</td>\n",
       "    </tr>\n",
       "  </tbody>\n",
       "</table>\n",
       "</div>"
      ],
      "text/plain": [
       "   License                        DBA Name  Community Area  Inspection Year  \\\n",
       "0   1770.0             VALENTINO CLUB CAFE            18.0             2012   \n",
       "0   1770.0             VALENTINO CLUB CAFE            18.0             2012   \n",
       "1   7141.0  SOUTHWEST MONTESSORI PRE SCHOL            71.0             2010   \n",
       "\n",
       "   InspectionScore  account number  police district         full name  \n",
       "0                2              81             10.0  RUDOLFO GUERRERO  \n",
       "0                2              81             10.0     JOSE GUERRERO  \n",
       "1               54             282             20.0  HECTOR RODRIGUEZ  "
      ]
     },
     "execution_count": 160,
     "metadata": {},
     "output_type": "execute_result"
    }
   ],
   "source": [
    "license_owner.head(3)"
   ]
  },
  {
   "cell_type": "markdown",
   "metadata": {},
   "source": [
    "Looking if the explode was done correctly"
   ]
  },
  {
   "cell_type": "code",
   "execution_count": 161,
   "metadata": {},
   "outputs": [
    {
     "data": {
      "text/plain": [
       "License               0\n",
       "DBA Name              0\n",
       "Community Area        0\n",
       "Inspection Year       0\n",
       "InspectionScore       0\n",
       "account number        0\n",
       "police district    6475\n",
       "full name             0\n",
       "dtype: int64"
      ]
     },
     "execution_count": 161,
     "metadata": {},
     "output_type": "execute_result"
    }
   ],
   "source": [
    "license_owner.isnull().sum()"
   ]
  },
  {
   "cell_type": "markdown",
   "metadata": {},
   "source": [
    "We can see here there is no more missin value for the full name column"
   ]
  },
  {
   "cell_type": "code",
   "execution_count": 162,
   "metadata": {},
   "outputs": [],
   "source": [
    "license_owner_score_number = license_owner[['full name','InspectionScore']].copy().groupby('full name').mean()"
   ]
  },
  {
   "cell_type": "markdown",
   "metadata": {},
   "source": [
    "Grouping the inspection score on the full name (owner), and then taking the median of the inspection score of all restaurants that belong to the owner"
   ]
  },
  {
   "cell_type": "code",
   "execution_count": 163,
   "metadata": {},
   "outputs": [
    {
     "data": {
      "text/html": [
       "<div>\n",
       "<style scoped>\n",
       "    .dataframe tbody tr th:only-of-type {\n",
       "        vertical-align: middle;\n",
       "    }\n",
       "\n",
       "    .dataframe tbody tr th {\n",
       "        vertical-align: top;\n",
       "    }\n",
       "\n",
       "    .dataframe thead th {\n",
       "        text-align: right;\n",
       "    }\n",
       "</style>\n",
       "<table border=\"1\" class=\"dataframe\">\n",
       "  <thead>\n",
       "    <tr style=\"text-align: right;\">\n",
       "      <th></th>\n",
       "      <th>InspectionScore</th>\n",
       "    </tr>\n",
       "    <tr>\n",
       "      <th>full name</th>\n",
       "      <th></th>\n",
       "    </tr>\n",
       "  </thead>\n",
       "  <tbody>\n",
       "    <tr>\n",
       "      <td>A MOHIT</td>\n",
       "      <td>0.000000</td>\n",
       "    </tr>\n",
       "    <tr>\n",
       "      <td>AAMIR DAWOOD</td>\n",
       "      <td>121.818182</td>\n",
       "    </tr>\n",
       "    <tr>\n",
       "      <td>AAMIR HUSSAIN</td>\n",
       "      <td>80.000000</td>\n",
       "    </tr>\n",
       "  </tbody>\n",
       "</table>\n",
       "</div>"
      ],
      "text/plain": [
       "               InspectionScore\n",
       "full name                     \n",
       "A MOHIT               0.000000\n",
       "AAMIR DAWOOD        121.818182\n",
       "AAMIR HUSSAIN        80.000000"
      ]
     },
     "execution_count": 163,
     "metadata": {},
     "output_type": "execute_result"
    }
   ],
   "source": [
    "license_owner_score_number.head(3)"
   ]
  },
  {
   "cell_type": "code",
   "execution_count": 164,
   "metadata": {},
   "outputs": [],
   "source": [
    "license_owner_score_number['N Restaurants'] = license_owner[['full name','DBA Name']].copy().groupby('full name').count()['DBA Name']"
   ]
  },
  {
   "cell_type": "markdown",
   "metadata": {},
   "source": [
    "Grouping the inspection id on the full name (owner), and then counting them to get the number of all the restaurants that belong to the owner"
   ]
  },
  {
   "cell_type": "code",
   "execution_count": 165,
   "metadata": {},
   "outputs": [
    {
     "data": {
      "text/html": [
       "<div>\n",
       "<style scoped>\n",
       "    .dataframe tbody tr th:only-of-type {\n",
       "        vertical-align: middle;\n",
       "    }\n",
       "\n",
       "    .dataframe tbody tr th {\n",
       "        vertical-align: top;\n",
       "    }\n",
       "\n",
       "    .dataframe thead th {\n",
       "        text-align: right;\n",
       "    }\n",
       "</style>\n",
       "<table border=\"1\" class=\"dataframe\">\n",
       "  <thead>\n",
       "    <tr style=\"text-align: right;\">\n",
       "      <th></th>\n",
       "      <th>InspectionScore</th>\n",
       "      <th>N Restaurants</th>\n",
       "    </tr>\n",
       "    <tr>\n",
       "      <th>full name</th>\n",
       "      <th></th>\n",
       "      <th></th>\n",
       "    </tr>\n",
       "  </thead>\n",
       "  <tbody>\n",
       "    <tr>\n",
       "      <td>A MOHIT</td>\n",
       "      <td>0.000000</td>\n",
       "      <td>1</td>\n",
       "    </tr>\n",
       "    <tr>\n",
       "      <td>AAMIR DAWOOD</td>\n",
       "      <td>121.818182</td>\n",
       "      <td>11</td>\n",
       "    </tr>\n",
       "    <tr>\n",
       "      <td>AAMIR HUSSAIN</td>\n",
       "      <td>80.000000</td>\n",
       "      <td>1</td>\n",
       "    </tr>\n",
       "    <tr>\n",
       "      <td>AAMIR KHAN</td>\n",
       "      <td>4.000000</td>\n",
       "      <td>1</td>\n",
       "    </tr>\n",
       "    <tr>\n",
       "      <td>AARON BUSH</td>\n",
       "      <td>218.000000</td>\n",
       "      <td>2</td>\n",
       "    </tr>\n",
       "    <tr>\n",
       "      <td>AARON CHIAPAKDEE</td>\n",
       "      <td>108.000000</td>\n",
       "      <td>14</td>\n",
       "    </tr>\n",
       "    <tr>\n",
       "      <td>AARON CRANE</td>\n",
       "      <td>60.666667</td>\n",
       "      <td>3</td>\n",
       "    </tr>\n",
       "    <tr>\n",
       "      <td>AARON CRUMBAUGH</td>\n",
       "      <td>0.000000</td>\n",
       "      <td>1</td>\n",
       "    </tr>\n",
       "    <tr>\n",
       "      <td>AARON DIMARIA</td>\n",
       "      <td>244.000000</td>\n",
       "      <td>1</td>\n",
       "    </tr>\n",
       "    <tr>\n",
       "      <td>AARON HOOD</td>\n",
       "      <td>55.714286</td>\n",
       "      <td>7</td>\n",
       "    </tr>\n",
       "  </tbody>\n",
       "</table>\n",
       "</div>"
      ],
      "text/plain": [
       "                  InspectionScore  N Restaurants\n",
       "full name                                       \n",
       "A MOHIT                  0.000000              1\n",
       "AAMIR DAWOOD           121.818182             11\n",
       "AAMIR HUSSAIN           80.000000              1\n",
       "AAMIR KHAN               4.000000              1\n",
       "AARON BUSH             218.000000              2\n",
       "AARON CHIAPAKDEE       108.000000             14\n",
       "AARON CRANE             60.666667              3\n",
       "AARON CRUMBAUGH          0.000000              1\n",
       "AARON DIMARIA          244.000000              1\n",
       "AARON HOOD              55.714286              7"
      ]
     },
     "execution_count": 165,
     "metadata": {},
     "output_type": "execute_result"
    }
   ],
   "source": [
    "license_owner_score_number.head(10)"
   ]
  },
  {
   "cell_type": "code",
   "execution_count": 166,
   "metadata": {},
   "outputs": [],
   "source": [
    "license_owner_score_number.to_csv('license_owner_score_number.csv')"
   ]
  },
  {
   "cell_type": "markdown",
   "metadata": {},
   "source": [
    "Storing the dataframe"
   ]
  },
  {
   "cell_type": "markdown",
   "metadata": {},
   "source": [
    "### Dataframe with facility Group and median score for each facility type"
   ]
  },
  {
   "cell_type": "code",
   "execution_count": 167,
   "metadata": {},
   "outputs": [
    {
     "data": {
      "text/html": [
       "<div>\n",
       "<style scoped>\n",
       "    .dataframe tbody tr th:only-of-type {\n",
       "        vertical-align: middle;\n",
       "    }\n",
       "\n",
       "    .dataframe tbody tr th {\n",
       "        vertical-align: top;\n",
       "    }\n",
       "\n",
       "    .dataframe thead th {\n",
       "        text-align: right;\n",
       "    }\n",
       "</style>\n",
       "<table border=\"1\" class=\"dataframe\">\n",
       "  <thead>\n",
       "    <tr style=\"text-align: right;\">\n",
       "      <th></th>\n",
       "      <th>FacilityGroup</th>\n",
       "    </tr>\n",
       "  </thead>\n",
       "  <tbody>\n",
       "    <tr>\n",
       "      <td>0</td>\n",
       "      <td>childrens_services</td>\n",
       "    </tr>\n",
       "    <tr>\n",
       "      <td>1</td>\n",
       "      <td>adultcare</td>\n",
       "    </tr>\n",
       "    <tr>\n",
       "      <td>2</td>\n",
       "      <td>bakery_restaurant</td>\n",
       "    </tr>\n",
       "    <tr>\n",
       "      <td>3</td>\n",
       "      <td>banquet</td>\n",
       "    </tr>\n",
       "    <tr>\n",
       "      <td>4</td>\n",
       "      <td>bar_restaurant</td>\n",
       "    </tr>\n",
       "    <tr>\n",
       "      <td>5</td>\n",
       "      <td>catering</td>\n",
       "    </tr>\n",
       "    <tr>\n",
       "      <td>6</td>\n",
       "      <td>daycare</td>\n",
       "    </tr>\n",
       "    <tr>\n",
       "      <td>7</td>\n",
       "      <td>golden_diner</td>\n",
       "    </tr>\n",
       "    <tr>\n",
       "      <td>8</td>\n",
       "      <td>grocery_restaurant</td>\n",
       "    </tr>\n",
       "    <tr>\n",
       "      <td>9</td>\n",
       "      <td>liquor_restaurant</td>\n",
       "    </tr>\n",
       "    <tr>\n",
       "      <td>10</td>\n",
       "      <td>restaurant</td>\n",
       "    </tr>\n",
       "    <tr>\n",
       "      <td>11</td>\n",
       "      <td>rooftop_restaurant</td>\n",
       "    </tr>\n",
       "    <tr>\n",
       "      <td>12</td>\n",
       "      <td>school</td>\n",
       "    </tr>\n",
       "  </tbody>\n",
       "</table>\n",
       "</div>"
      ],
      "text/plain": [
       "         FacilityGroup\n",
       "0   childrens_services\n",
       "1            adultcare\n",
       "2    bakery_restaurant\n",
       "3              banquet\n",
       "4       bar_restaurant\n",
       "5             catering\n",
       "6              daycare\n",
       "7         golden_diner\n",
       "8   grocery_restaurant\n",
       "9    liquor_restaurant\n",
       "10          restaurant\n",
       "11  rooftop_restaurant\n",
       "12              school"
      ]
     },
     "execution_count": 167,
     "metadata": {},
     "output_type": "execute_result"
    }
   ],
   "source": [
    "Eat_Year_Type = pd.DataFrame()\n",
    "Eat_Year_Type['FacilityGroup'] = ['childrens_services','adultcare','bakery_restaurant','banquet','bar_restaurant','catering','daycare'\\\n",
    "                                  ,'golden_diner','grocery_restaurant'\\\n",
    "                                  ,'liquor_restaurant','restaurant','rooftop_restaurant','school']\n",
    "Eat_Year_Type"
   ]
  },
  {
   "cell_type": "code",
   "execution_count": 168,
   "metadata": {},
   "outputs": [],
   "source": [
    "for x in range(2010,2020) :\n",
    "    df = eat_seat.loc[eat_seat['Inspection Year'] == x][['FacilityGroup','InspectionScore']].copy().groupby('FacilityGroup').mean()\n",
    "    df_2 = pd.merge(Eat_Year_Type, df, how = 'outer', on = ['FacilityGroup'])\n",
    "    Eat_Year_Type[x] = df_2['InspectionScore']"
   ]
  },
  {
   "cell_type": "code",
   "execution_count": 169,
   "metadata": {},
   "outputs": [
    {
     "data": {
      "text/html": [
       "<div>\n",
       "<style scoped>\n",
       "    .dataframe tbody tr th:only-of-type {\n",
       "        vertical-align: middle;\n",
       "    }\n",
       "\n",
       "    .dataframe tbody tr th {\n",
       "        vertical-align: top;\n",
       "    }\n",
       "\n",
       "    .dataframe thead th {\n",
       "        text-align: right;\n",
       "    }\n",
       "</style>\n",
       "<table border=\"1\" class=\"dataframe\">\n",
       "  <thead>\n",
       "    <tr style=\"text-align: right;\">\n",
       "      <th></th>\n",
       "      <th>FacilityGroup</th>\n",
       "      <th>2010</th>\n",
       "      <th>2011</th>\n",
       "      <th>2012</th>\n",
       "      <th>2013</th>\n",
       "      <th>2014</th>\n",
       "      <th>2015</th>\n",
       "      <th>2016</th>\n",
       "      <th>2017</th>\n",
       "      <th>2018</th>\n",
       "      <th>2019</th>\n",
       "    </tr>\n",
       "  </thead>\n",
       "  <tbody>\n",
       "    <tr>\n",
       "      <td>0</td>\n",
       "      <td>childrens_services</td>\n",
       "      <td>NaN</td>\n",
       "      <td>NaN</td>\n",
       "      <td>NaN</td>\n",
       "      <td>NaN</td>\n",
       "      <td>NaN</td>\n",
       "      <td>NaN</td>\n",
       "      <td>NaN</td>\n",
       "      <td>NaN</td>\n",
       "      <td>NaN</td>\n",
       "      <td>NaN</td>\n",
       "    </tr>\n",
       "    <tr>\n",
       "      <td>1</td>\n",
       "      <td>adultcare</td>\n",
       "      <td>67.821596</td>\n",
       "      <td>79.907692</td>\n",
       "      <td>71.016760</td>\n",
       "      <td>77.567010</td>\n",
       "      <td>80.613333</td>\n",
       "      <td>66.266094</td>\n",
       "      <td>76.636364</td>\n",
       "      <td>82.976000</td>\n",
       "      <td>147.025210</td>\n",
       "      <td>125.291866</td>\n",
       "    </tr>\n",
       "    <tr>\n",
       "      <td>2</td>\n",
       "      <td>bakery_restaurant</td>\n",
       "      <td>10.000000</td>\n",
       "      <td>48.000000</td>\n",
       "      <td>128.000000</td>\n",
       "      <td>163.000000</td>\n",
       "      <td>16.000000</td>\n",
       "      <td>NaN</td>\n",
       "      <td>NaN</td>\n",
       "      <td>NaN</td>\n",
       "      <td>NaN</td>\n",
       "      <td>NaN</td>\n",
       "    </tr>\n",
       "    <tr>\n",
       "      <td>3</td>\n",
       "      <td>banquet</td>\n",
       "      <td>8.000000</td>\n",
       "      <td>163.875000</td>\n",
       "      <td>126.000000</td>\n",
       "      <td>101.586207</td>\n",
       "      <td>84.500000</td>\n",
       "      <td>37.217391</td>\n",
       "      <td>29.862069</td>\n",
       "      <td>55.066667</td>\n",
       "      <td>326.736842</td>\n",
       "      <td>180.625000</td>\n",
       "    </tr>\n",
       "    <tr>\n",
       "      <td>4</td>\n",
       "      <td>bar_restaurant</td>\n",
       "      <td>152.500000</td>\n",
       "      <td>9.000000</td>\n",
       "      <td>91.111111</td>\n",
       "      <td>128.000000</td>\n",
       "      <td>139.000000</td>\n",
       "      <td>138.333333</td>\n",
       "      <td>97.250000</td>\n",
       "      <td>55.000000</td>\n",
       "      <td>182.666667</td>\n",
       "      <td>49.000000</td>\n",
       "    </tr>\n",
       "    <tr>\n",
       "      <td>5</td>\n",
       "      <td>catering</td>\n",
       "      <td>84.064516</td>\n",
       "      <td>64.185567</td>\n",
       "      <td>77.432432</td>\n",
       "      <td>49.356322</td>\n",
       "      <td>48.609524</td>\n",
       "      <td>75.620690</td>\n",
       "      <td>65.887097</td>\n",
       "      <td>65.844660</td>\n",
       "      <td>88.756098</td>\n",
       "      <td>131.101124</td>\n",
       "    </tr>\n",
       "    <tr>\n",
       "      <td>6</td>\n",
       "      <td>daycare</td>\n",
       "      <td>68.158343</td>\n",
       "      <td>62.465296</td>\n",
       "      <td>71.241958</td>\n",
       "      <td>59.038760</td>\n",
       "      <td>69.602339</td>\n",
       "      <td>39.743590</td>\n",
       "      <td>47.138122</td>\n",
       "      <td>50.238361</td>\n",
       "      <td>87.565217</td>\n",
       "      <td>93.990610</td>\n",
       "    </tr>\n",
       "    <tr>\n",
       "      <td>7</td>\n",
       "      <td>golden_diner</td>\n",
       "      <td>60.772727</td>\n",
       "      <td>87.891892</td>\n",
       "      <td>19.243243</td>\n",
       "      <td>51.548387</td>\n",
       "      <td>31.058824</td>\n",
       "      <td>49.245902</td>\n",
       "      <td>49.362319</td>\n",
       "      <td>56.193548</td>\n",
       "      <td>91.934426</td>\n",
       "      <td>74.285714</td>\n",
       "    </tr>\n",
       "    <tr>\n",
       "      <td>8</td>\n",
       "      <td>grocery_restaurant</td>\n",
       "      <td>100.117647</td>\n",
       "      <td>67.375000</td>\n",
       "      <td>119.250000</td>\n",
       "      <td>91.833333</td>\n",
       "      <td>38.142857</td>\n",
       "      <td>31.750000</td>\n",
       "      <td>114.625000</td>\n",
       "      <td>162.285714</td>\n",
       "      <td>218.000000</td>\n",
       "      <td>220.888889</td>\n",
       "    </tr>\n",
       "    <tr>\n",
       "      <td>9</td>\n",
       "      <td>liquor_restaurant</td>\n",
       "      <td>NaN</td>\n",
       "      <td>0.000000</td>\n",
       "      <td>NaN</td>\n",
       "      <td>NaN</td>\n",
       "      <td>NaN</td>\n",
       "      <td>NaN</td>\n",
       "      <td>NaN</td>\n",
       "      <td>NaN</td>\n",
       "      <td>NaN</td>\n",
       "      <td>NaN</td>\n",
       "    </tr>\n",
       "    <tr>\n",
       "      <td>10</td>\n",
       "      <td>restaurant</td>\n",
       "      <td>80.757720</td>\n",
       "      <td>82.785111</td>\n",
       "      <td>80.094812</td>\n",
       "      <td>70.063599</td>\n",
       "      <td>73.971280</td>\n",
       "      <td>82.314533</td>\n",
       "      <td>81.843972</td>\n",
       "      <td>82.882521</td>\n",
       "      <td>120.531936</td>\n",
       "      <td>181.561970</td>\n",
       "    </tr>\n",
       "    <tr>\n",
       "      <td>11</td>\n",
       "      <td>rooftop_restaurant</td>\n",
       "      <td>0.000000</td>\n",
       "      <td>110.500000</td>\n",
       "      <td>38.000000</td>\n",
       "      <td>4.000000</td>\n",
       "      <td>28.000000</td>\n",
       "      <td>2.666667</td>\n",
       "      <td>3.000000</td>\n",
       "      <td>NaN</td>\n",
       "      <td>NaN</td>\n",
       "      <td>NaN</td>\n",
       "    </tr>\n",
       "    <tr>\n",
       "      <td>12</td>\n",
       "      <td>school</td>\n",
       "      <td>46.619590</td>\n",
       "      <td>56.315007</td>\n",
       "      <td>65.953084</td>\n",
       "      <td>49.650044</td>\n",
       "      <td>56.140946</td>\n",
       "      <td>60.581722</td>\n",
       "      <td>62.770642</td>\n",
       "      <td>60.162912</td>\n",
       "      <td>83.168096</td>\n",
       "      <td>80.536431</td>\n",
       "    </tr>\n",
       "  </tbody>\n",
       "</table>\n",
       "</div>"
      ],
      "text/plain": [
       "         FacilityGroup        2010        2011        2012        2013  \\\n",
       "0   childrens_services         NaN         NaN         NaN         NaN   \n",
       "1            adultcare   67.821596   79.907692   71.016760   77.567010   \n",
       "2    bakery_restaurant   10.000000   48.000000  128.000000  163.000000   \n",
       "3              banquet    8.000000  163.875000  126.000000  101.586207   \n",
       "4       bar_restaurant  152.500000    9.000000   91.111111  128.000000   \n",
       "5             catering   84.064516   64.185567   77.432432   49.356322   \n",
       "6              daycare   68.158343   62.465296   71.241958   59.038760   \n",
       "7         golden_diner   60.772727   87.891892   19.243243   51.548387   \n",
       "8   grocery_restaurant  100.117647   67.375000  119.250000   91.833333   \n",
       "9    liquor_restaurant         NaN    0.000000         NaN         NaN   \n",
       "10          restaurant   80.757720   82.785111   80.094812   70.063599   \n",
       "11  rooftop_restaurant    0.000000  110.500000   38.000000    4.000000   \n",
       "12              school   46.619590   56.315007   65.953084   49.650044   \n",
       "\n",
       "          2014        2015        2016        2017        2018        2019  \n",
       "0          NaN         NaN         NaN         NaN         NaN         NaN  \n",
       "1    80.613333   66.266094   76.636364   82.976000  147.025210  125.291866  \n",
       "2    16.000000         NaN         NaN         NaN         NaN         NaN  \n",
       "3    84.500000   37.217391   29.862069   55.066667  326.736842  180.625000  \n",
       "4   139.000000  138.333333   97.250000   55.000000  182.666667   49.000000  \n",
       "5    48.609524   75.620690   65.887097   65.844660   88.756098  131.101124  \n",
       "6    69.602339   39.743590   47.138122   50.238361   87.565217   93.990610  \n",
       "7    31.058824   49.245902   49.362319   56.193548   91.934426   74.285714  \n",
       "8    38.142857   31.750000  114.625000  162.285714  218.000000  220.888889  \n",
       "9          NaN         NaN         NaN         NaN         NaN         NaN  \n",
       "10   73.971280   82.314533   81.843972   82.882521  120.531936  181.561970  \n",
       "11   28.000000    2.666667    3.000000         NaN         NaN         NaN  \n",
       "12   56.140946   60.581722   62.770642   60.162912   83.168096   80.536431  "
      ]
     },
     "execution_count": 169,
     "metadata": {},
     "output_type": "execute_result"
    }
   ],
   "source": [
    "Eat_Year_Type"
   ]
  },
  {
   "cell_type": "code",
   "execution_count": 170,
   "metadata": {},
   "outputs": [],
   "source": [
    "Eat_Year_Type.to_csv('Eat_Type_Year.csv')"
   ]
  },
  {
   "cell_type": "code",
   "execution_count": 171,
   "metadata": {},
   "outputs": [
    {
     "data": {
      "text/html": [
       "<div>\n",
       "<style scoped>\n",
       "    .dataframe tbody tr th:only-of-type {\n",
       "        vertical-align: middle;\n",
       "    }\n",
       "\n",
       "    .dataframe tbody tr th {\n",
       "        vertical-align: top;\n",
       "    }\n",
       "\n",
       "    .dataframe thead th {\n",
       "        text-align: right;\n",
       "    }\n",
       "</style>\n",
       "<table border=\"1\" class=\"dataframe\">\n",
       "  <thead>\n",
       "    <tr style=\"text-align: right;\">\n",
       "      <th></th>\n",
       "      <th>Public_Private</th>\n",
       "    </tr>\n",
       "  </thead>\n",
       "  <tbody>\n",
       "    <tr>\n",
       "      <td>0</td>\n",
       "      <td>Public</td>\n",
       "    </tr>\n",
       "    <tr>\n",
       "      <td>1</td>\n",
       "      <td>Private</td>\n",
       "    </tr>\n",
       "  </tbody>\n",
       "</table>\n",
       "</div>"
      ],
      "text/plain": [
       "  Public_Private\n",
       "0         Public\n",
       "1        Private"
      ]
     },
     "execution_count": 171,
     "metadata": {},
     "output_type": "execute_result"
    }
   ],
   "source": [
    "Eat_Year_PriPub = pd.DataFrame()\n",
    "Eat_Year_PriPub['Public_Private'] = ['Public','Private']\n",
    "Eat_Year_PriPub"
   ]
  },
  {
   "cell_type": "code",
   "execution_count": 172,
   "metadata": {},
   "outputs": [],
   "source": [
    "for x in range(2010,2020) :\n",
    "    df = eat_seat.loc[eat_seat['Inspection Year'] == x][['Public_Private','InspectionScore']].copy().groupby('Public_Private').mean()\n",
    "    df_2 = pd.merge(Eat_Year_PriPub, df, how = 'outer', on = ['Public_Private'])\n",
    "    Eat_Year_PriPub[x] = df_2['InspectionScore']"
   ]
  },
  {
   "cell_type": "markdown",
   "metadata": {},
   "source": [
    "Taking facility type and inspection score, then grouping on facility group and taking median of the results. We have a global inspection score for each type of facility"
   ]
  },
  {
   "cell_type": "code",
   "execution_count": 173,
   "metadata": {},
   "outputs": [
    {
     "data": {
      "text/html": [
       "<div>\n",
       "<style scoped>\n",
       "    .dataframe tbody tr th:only-of-type {\n",
       "        vertical-align: middle;\n",
       "    }\n",
       "\n",
       "    .dataframe tbody tr th {\n",
       "        vertical-align: top;\n",
       "    }\n",
       "\n",
       "    .dataframe thead th {\n",
       "        text-align: right;\n",
       "    }\n",
       "</style>\n",
       "<table border=\"1\" class=\"dataframe\">\n",
       "  <thead>\n",
       "    <tr style=\"text-align: right;\">\n",
       "      <th></th>\n",
       "      <th>Public_Private</th>\n",
       "      <th>2010</th>\n",
       "      <th>2011</th>\n",
       "      <th>2012</th>\n",
       "      <th>2013</th>\n",
       "      <th>2014</th>\n",
       "      <th>2015</th>\n",
       "      <th>2016</th>\n",
       "      <th>2017</th>\n",
       "      <th>2018</th>\n",
       "      <th>2019</th>\n",
       "    </tr>\n",
       "  </thead>\n",
       "  <tbody>\n",
       "    <tr>\n",
       "      <td>0</td>\n",
       "      <td>Public</td>\n",
       "      <td>80.724497</td>\n",
       "      <td>82.70748</td>\n",
       "      <td>79.960321</td>\n",
       "      <td>69.931175</td>\n",
       "      <td>73.582462</td>\n",
       "      <td>81.979777</td>\n",
       "      <td>81.475329</td>\n",
       "      <td>82.636018</td>\n",
       "      <td>120.623379</td>\n",
       "      <td>180.564919</td>\n",
       "    </tr>\n",
       "    <tr>\n",
       "      <td>1</td>\n",
       "      <td>Private</td>\n",
       "      <td>56.062101</td>\n",
       "      <td>59.79858</td>\n",
       "      <td>68.245477</td>\n",
       "      <td>53.547634</td>\n",
       "      <td>60.327698</td>\n",
       "      <td>55.337507</td>\n",
       "      <td>60.363908</td>\n",
       "      <td>60.355487</td>\n",
       "      <td>92.347642</td>\n",
       "      <td>90.072061</td>\n",
       "    </tr>\n",
       "  </tbody>\n",
       "</table>\n",
       "</div>"
      ],
      "text/plain": [
       "  Public_Private       2010      2011       2012       2013       2014  \\\n",
       "0         Public  80.724497  82.70748  79.960321  69.931175  73.582462   \n",
       "1        Private  56.062101  59.79858  68.245477  53.547634  60.327698   \n",
       "\n",
       "        2015       2016       2017        2018        2019  \n",
       "0  81.979777  81.475329  82.636018  120.623379  180.564919  \n",
       "1  55.337507  60.363908  60.355487   92.347642   90.072061  "
      ]
     },
     "execution_count": 173,
     "metadata": {},
     "output_type": "execute_result"
    }
   ],
   "source": [
    "Eat_Year_PriPub"
   ]
  },
  {
   "cell_type": "code",
   "execution_count": 174,
   "metadata": {},
   "outputs": [],
   "source": [
    "Eat_Year_Type.to_csv('Eat_PriPub_Year.csv')"
   ]
  },
  {
   "cell_type": "markdown",
   "metadata": {},
   "source": [
    "Storing the data"
   ]
  },
  {
   "cell_type": "markdown",
   "metadata": {},
   "source": [
    "## 4.2 Additional Dataset - CRIME "
   ]
  },
  {
   "cell_type": "markdown",
   "metadata": {},
   "source": [
    "### looking at the dataset and modify it"
   ]
  },
  {
   "cell_type": "code",
   "execution_count": 175,
   "metadata": {},
   "outputs": [
    {
     "name": "stderr",
     "output_type": "stream",
     "text": [
      "b'Skipping line 1149094: expected 23 fields, saw 41\\n'\n"
     ]
    }
   ],
   "source": [
    "crime_2008_2011 = pd.read_csv('Chicago_Crimes_2008_to_2011.csv', error_bad_lines=False)"
   ]
  },
  {
   "cell_type": "code",
   "execution_count": 176,
   "metadata": {},
   "outputs": [],
   "source": [
    "crime_2012_2017 = pd.read_csv('Chicago_Crimes_2012_to_2017.csv', error_bad_lines=False)"
   ]
  },
  {
   "cell_type": "code",
   "execution_count": 177,
   "metadata": {},
   "outputs": [
    {
     "data": {
      "text/html": [
       "<div>\n",
       "<style scoped>\n",
       "    .dataframe tbody tr th:only-of-type {\n",
       "        vertical-align: middle;\n",
       "    }\n",
       "\n",
       "    .dataframe tbody tr th {\n",
       "        vertical-align: top;\n",
       "    }\n",
       "\n",
       "    .dataframe thead th {\n",
       "        text-align: right;\n",
       "    }\n",
       "</style>\n",
       "<table border=\"1\" class=\"dataframe\">\n",
       "  <thead>\n",
       "    <tr style=\"text-align: right;\">\n",
       "      <th></th>\n",
       "      <th>Unnamed: 0</th>\n",
       "      <th>ID</th>\n",
       "      <th>Case Number</th>\n",
       "      <th>Date</th>\n",
       "      <th>Block</th>\n",
       "      <th>IUCR</th>\n",
       "      <th>Primary Type</th>\n",
       "      <th>Description</th>\n",
       "      <th>Location Description</th>\n",
       "      <th>Arrest</th>\n",
       "      <th>...</th>\n",
       "      <th>Ward</th>\n",
       "      <th>Community Area</th>\n",
       "      <th>FBI Code</th>\n",
       "      <th>X Coordinate</th>\n",
       "      <th>Y Coordinate</th>\n",
       "      <th>Year</th>\n",
       "      <th>Updated On</th>\n",
       "      <th>Latitude</th>\n",
       "      <th>Longitude</th>\n",
       "      <th>Location</th>\n",
       "    </tr>\n",
       "  </thead>\n",
       "  <tbody>\n",
       "    <tr>\n",
       "      <td>0</td>\n",
       "      <td>388</td>\n",
       "      <td>4785</td>\n",
       "      <td>HP610824</td>\n",
       "      <td>10/07/2008 12:39:00 PM</td>\n",
       "      <td>000XX E 75TH ST</td>\n",
       "      <td>0110</td>\n",
       "      <td>HOMICIDE</td>\n",
       "      <td>FIRST DEGREE MURDER</td>\n",
       "      <td>ALLEY</td>\n",
       "      <td>True</td>\n",
       "      <td>...</td>\n",
       "      <td>6.0</td>\n",
       "      <td>69.0</td>\n",
       "      <td>01A</td>\n",
       "      <td>1178207.0</td>\n",
       "      <td>1855308.0</td>\n",
       "      <td>2008</td>\n",
       "      <td>08/17/2015 03:03:40 PM</td>\n",
       "      <td>41.758276</td>\n",
       "      <td>-87.622451</td>\n",
       "      <td>(41.758275857, -87.622451031)</td>\n",
       "    </tr>\n",
       "    <tr>\n",
       "      <td>1</td>\n",
       "      <td>835</td>\n",
       "      <td>4786</td>\n",
       "      <td>HP616595</td>\n",
       "      <td>10/09/2008 03:30:00 AM</td>\n",
       "      <td>048XX W POLK ST</td>\n",
       "      <td>0110</td>\n",
       "      <td>HOMICIDE</td>\n",
       "      <td>FIRST DEGREE MURDER</td>\n",
       "      <td>STREET</td>\n",
       "      <td>True</td>\n",
       "      <td>...</td>\n",
       "      <td>24.0</td>\n",
       "      <td>25.0</td>\n",
       "      <td>01A</td>\n",
       "      <td>1144200.0</td>\n",
       "      <td>1895857.0</td>\n",
       "      <td>2008</td>\n",
       "      <td>08/17/2015 03:03:40 PM</td>\n",
       "      <td>41.870252</td>\n",
       "      <td>-87.746069</td>\n",
       "      <td>(41.87025207, -87.746069362)</td>\n",
       "    </tr>\n",
       "    <tr>\n",
       "      <td>2</td>\n",
       "      <td>1334</td>\n",
       "      <td>4787</td>\n",
       "      <td>HP616904</td>\n",
       "      <td>10/09/2008 08:35:00 AM</td>\n",
       "      <td>030XX W MANN DR</td>\n",
       "      <td>0110</td>\n",
       "      <td>HOMICIDE</td>\n",
       "      <td>FIRST DEGREE MURDER</td>\n",
       "      <td>PARK PROPERTY</td>\n",
       "      <td>False</td>\n",
       "      <td>...</td>\n",
       "      <td>18.0</td>\n",
       "      <td>66.0</td>\n",
       "      <td>01A</td>\n",
       "      <td>1157314.0</td>\n",
       "      <td>1859778.0</td>\n",
       "      <td>2008</td>\n",
       "      <td>08/17/2015 03:03:40 PM</td>\n",
       "      <td>41.770990</td>\n",
       "      <td>-87.698901</td>\n",
       "      <td>(41.770990476, -87.698901469)</td>\n",
       "    </tr>\n",
       "  </tbody>\n",
       "</table>\n",
       "<p>3 rows × 23 columns</p>\n",
       "</div>"
      ],
      "text/plain": [
       "   Unnamed: 0    ID Case Number                    Date            Block  \\\n",
       "0         388  4785    HP610824  10/07/2008 12:39:00 PM  000XX E 75TH ST   \n",
       "1         835  4786    HP616595  10/09/2008 03:30:00 AM  048XX W POLK ST   \n",
       "2        1334  4787    HP616904  10/09/2008 08:35:00 AM  030XX W MANN DR   \n",
       "\n",
       "   IUCR Primary Type          Description Location Description  Arrest  ...  \\\n",
       "0  0110     HOMICIDE  FIRST DEGREE MURDER                ALLEY    True  ...   \n",
       "1  0110     HOMICIDE  FIRST DEGREE MURDER               STREET    True  ...   \n",
       "2  0110     HOMICIDE  FIRST DEGREE MURDER        PARK PROPERTY   False  ...   \n",
       "\n",
       "   Ward  Community Area  FBI Code  X Coordinate  Y Coordinate  Year  \\\n",
       "0   6.0            69.0       01A     1178207.0     1855308.0  2008   \n",
       "1  24.0            25.0       01A     1144200.0     1895857.0  2008   \n",
       "2  18.0            66.0       01A     1157314.0     1859778.0  2008   \n",
       "\n",
       "               Updated On   Latitude  Longitude                       Location  \n",
       "0  08/17/2015 03:03:40 PM  41.758276 -87.622451  (41.758275857, -87.622451031)  \n",
       "1  08/17/2015 03:03:40 PM  41.870252 -87.746069   (41.87025207, -87.746069362)  \n",
       "2  08/17/2015 03:03:40 PM  41.770990 -87.698901  (41.770990476, -87.698901469)  \n",
       "\n",
       "[3 rows x 23 columns]"
      ]
     },
     "execution_count": 177,
     "metadata": {},
     "output_type": "execute_result"
    }
   ],
   "source": [
    "crime = crime_2008_2011.append(crime_2012_2017)\n",
    "\n",
    "crime.head(3)"
   ]
  },
  {
   "cell_type": "markdown",
   "metadata": {},
   "source": [
    "Load the data found on https://www.kaggle.com/currie32/crimes-in-chicago in pandas DataFrames and concatenate them. "
   ]
  },
  {
   "cell_type": "code",
   "execution_count": 178,
   "metadata": {},
   "outputs": [
    {
     "name": "stdout",
     "output_type": "stream",
     "text": [
      "<class 'pandas.core.frame.DataFrame'>\n",
      "Int64Index: 4145424 entries, 0 to 1456713\n",
      "Data columns (total 23 columns):\n",
      "Unnamed: 0              int64\n",
      "ID                      int64\n",
      "Case Number             object\n",
      "Date                    object\n",
      "Block                   object\n",
      "IUCR                    object\n",
      "Primary Type            object\n",
      "Description             object\n",
      "Location Description    object\n",
      "Arrest                  bool\n",
      "Domestic                bool\n",
      "Beat                    int64\n",
      "District                float64\n",
      "Ward                    float64\n",
      "Community Area          float64\n",
      "FBI Code                object\n",
      "X Coordinate            float64\n",
      "Y Coordinate            float64\n",
      "Year                    int64\n",
      "Updated On              object\n",
      "Latitude                float64\n",
      "Longitude               float64\n",
      "Location                object\n",
      "dtypes: bool(2), float64(7), int64(4), object(10)\n",
      "memory usage: 703.7+ MB\n"
     ]
    }
   ],
   "source": [
    "crime.info()"
   ]
  },
  {
   "cell_type": "markdown",
   "metadata": {},
   "source": [
    "Taking a quick look of the composition of the Dataframe"
   ]
  },
  {
   "cell_type": "code",
   "execution_count": 179,
   "metadata": {},
   "outputs": [
    {
     "data": {
      "text/html": [
       "<div>\n",
       "<style scoped>\n",
       "    .dataframe tbody tr th:only-of-type {\n",
       "        vertical-align: middle;\n",
       "    }\n",
       "\n",
       "    .dataframe tbody tr th {\n",
       "        vertical-align: top;\n",
       "    }\n",
       "\n",
       "    .dataframe thead th {\n",
       "        text-align: right;\n",
       "    }\n",
       "</style>\n",
       "<table border=\"1\" class=\"dataframe\">\n",
       "  <thead>\n",
       "    <tr style=\"text-align: right;\">\n",
       "      <th></th>\n",
       "      <th>ID</th>\n",
       "      <th>Date</th>\n",
       "      <th>Block</th>\n",
       "      <th>Primary Type</th>\n",
       "      <th>Description</th>\n",
       "      <th>Beat</th>\n",
       "      <th>Community Area</th>\n",
       "      <th>Year</th>\n",
       "      <th>Latitude</th>\n",
       "      <th>Longitude</th>\n",
       "      <th>Location</th>\n",
       "    </tr>\n",
       "  </thead>\n",
       "  <tbody>\n",
       "    <tr>\n",
       "      <td>0</td>\n",
       "      <td>4785</td>\n",
       "      <td>10/07/2008 12:39:00 PM</td>\n",
       "      <td>000XX E 75TH ST</td>\n",
       "      <td>HOMICIDE</td>\n",
       "      <td>FIRST DEGREE MURDER</td>\n",
       "      <td>323</td>\n",
       "      <td>69.0</td>\n",
       "      <td>2008</td>\n",
       "      <td>41.758276</td>\n",
       "      <td>-87.622451</td>\n",
       "      <td>(41.758275857, -87.622451031)</td>\n",
       "    </tr>\n",
       "    <tr>\n",
       "      <td>1</td>\n",
       "      <td>4786</td>\n",
       "      <td>10/09/2008 03:30:00 AM</td>\n",
       "      <td>048XX W POLK ST</td>\n",
       "      <td>HOMICIDE</td>\n",
       "      <td>FIRST DEGREE MURDER</td>\n",
       "      <td>1533</td>\n",
       "      <td>25.0</td>\n",
       "      <td>2008</td>\n",
       "      <td>41.870252</td>\n",
       "      <td>-87.746069</td>\n",
       "      <td>(41.87025207, -87.746069362)</td>\n",
       "    </tr>\n",
       "    <tr>\n",
       "      <td>2</td>\n",
       "      <td>4787</td>\n",
       "      <td>10/09/2008 08:35:00 AM</td>\n",
       "      <td>030XX W MANN DR</td>\n",
       "      <td>HOMICIDE</td>\n",
       "      <td>FIRST DEGREE MURDER</td>\n",
       "      <td>831</td>\n",
       "      <td>66.0</td>\n",
       "      <td>2008</td>\n",
       "      <td>41.770990</td>\n",
       "      <td>-87.698901</td>\n",
       "      <td>(41.770990476, -87.698901469)</td>\n",
       "    </tr>\n",
       "  </tbody>\n",
       "</table>\n",
       "</div>"
      ],
      "text/plain": [
       "     ID                    Date            Block Primary Type  \\\n",
       "0  4785  10/07/2008 12:39:00 PM  000XX E 75TH ST     HOMICIDE   \n",
       "1  4786  10/09/2008 03:30:00 AM  048XX W POLK ST     HOMICIDE   \n",
       "2  4787  10/09/2008 08:35:00 AM  030XX W MANN DR     HOMICIDE   \n",
       "\n",
       "           Description  Beat  Community Area  Year   Latitude  Longitude  \\\n",
       "0  FIRST DEGREE MURDER   323            69.0  2008  41.758276 -87.622451   \n",
       "1  FIRST DEGREE MURDER  1533            25.0  2008  41.870252 -87.746069   \n",
       "2  FIRST DEGREE MURDER   831            66.0  2008  41.770990 -87.698901   \n",
       "\n",
       "                        Location  \n",
       "0  (41.758275857, -87.622451031)  \n",
       "1   (41.87025207, -87.746069362)  \n",
       "2  (41.770990476, -87.698901469)  "
      ]
     },
     "execution_count": 179,
     "metadata": {},
     "output_type": "execute_result"
    }
   ],
   "source": [
    "crime = crime.drop(['District', 'Ward', 'Unnamed: 0','Case Number','IUCR','Arrest', 'Domestic','FBI Code','X Coordinate','Y Coordinate','Updated On', 'Location Description'], axis=1)\n",
    "crime.head(3)"
   ]
  },
  {
   "cell_type": "markdown",
   "metadata": {},
   "source": [
    "The datasets have several columns not interesting for us, there are dropped. In terms of location we decide to only keep the `Community Area` column in order to have a link with the *chicago food inspections* dataset. We also keep the longitude and latitude to maybe map the crimes for the visualization."
   ]
  },
  {
   "cell_type": "code",
   "execution_count": 180,
   "metadata": {},
   "outputs": [
    {
     "data": {
      "text/plain": [
       "1147495"
      ]
     },
     "execution_count": 180,
     "metadata": {},
     "output_type": "execute_result"
    }
   ],
   "source": [
    "duplicates = crime[crime.duplicated(keep='first')]\n",
    "len(duplicates)"
   ]
  },
  {
   "cell_type": "markdown",
   "metadata": {},
   "source": [
    "Taking a look at the duplicates on the ID of the crimes. We see that multiple crimes ares stored more than one time in the dataset"
   ]
  },
  {
   "cell_type": "code",
   "execution_count": 181,
   "metadata": {},
   "outputs": [],
   "source": [
    "crime = crime.drop_duplicates(keep='first')"
   ]
  },
  {
   "cell_type": "code",
   "execution_count": 182,
   "metadata": {},
   "outputs": [
    {
     "data": {
      "text/plain": [
       "2997929"
      ]
     },
     "execution_count": 182,
     "metadata": {},
     "output_type": "execute_result"
    }
   ],
   "source": [
    "len(crime)"
   ]
  },
  {
   "cell_type": "markdown",
   "metadata": {},
   "source": [
    "Deleting the duplicates, and taking a look at the datafarme length"
   ]
  },
  {
   "cell_type": "code",
   "execution_count": 183,
   "metadata": {},
   "outputs": [
    {
     "name": "stdout",
     "output_type": "stream",
     "text": [
      "ID : False --> 0\n",
      "Date : False --> 0\n",
      "Block : False --> 0\n",
      "Primary Type : False --> 0\n",
      "Description : False --> 0\n",
      "Beat : False --> 0\n",
      "Community Area : True --> 869\n",
      "Year : False --> 0\n",
      "Latitude : True --> 52736\n",
      "Longitude : True --> 52736\n",
      "Location : True --> 52736\n"
     ]
    }
   ],
   "source": [
    "for x in crime.columns :\n",
    "    print(x + ' : ' + str(crime[x].isnull().values.any()) + ' --> ' + str(crime[x].isnull().sum()))"
   ]
  },
  {
   "cell_type": "markdown",
   "metadata": {},
   "source": [
    "Here we are looking at the missing values. Most of the missing data are part of the Location's columns.\n",
    "\n",
    "For our analysis, we need the community area value, here 243 community area are missing.\n",
    "\n",
    "869 is only 0.03% of 2997929, we decide to drop these rows."
   ]
  },
  {
   "cell_type": "code",
   "execution_count": 184,
   "metadata": {},
   "outputs": [],
   "source": [
    "crime = crime.dropna(how='any', subset=['Community Area'])"
   ]
  },
  {
   "cell_type": "markdown",
   "metadata": {},
   "source": [
    "Dropping the row with comm area missing values"
   ]
  },
  {
   "cell_type": "code",
   "execution_count": 185,
   "metadata": {},
   "outputs": [
    {
     "name": "stdout",
     "output_type": "stream",
     "text": [
      "ID : False --> 0\n",
      "Date : False --> 0\n",
      "Block : False --> 0\n",
      "Primary Type : False --> 0\n",
      "Description : False --> 0\n",
      "Beat : False --> 0\n",
      "Community Area : False --> 0\n",
      "Year : False --> 0\n",
      "Latitude : True --> 52646\n",
      "Longitude : True --> 52646\n",
      "Location : True --> 52646\n"
     ]
    }
   ],
   "source": [
    "for x in crime.columns :\n",
    "    print(x + ' : ' + str(crime[x].isnull().values.any()) + ' --> ' + str(crime[x].isnull().sum()))"
   ]
  },
  {
   "cell_type": "code",
   "execution_count": 186,
   "metadata": {},
   "outputs": [],
   "source": [
    "def block_approx(address) :\n",
    "    return address.replace('XX','00')"
   ]
  },
  {
   "cell_type": "markdown",
   "metadata": {},
   "source": [
    "The `Block` column contains anonymized addresses (\"XX\"). By replacing the XX by 00 we already can get an approximative position of where the crimes took place."
   ]
  },
  {
   "cell_type": "code",
   "execution_count": 187,
   "metadata": {},
   "outputs": [],
   "source": [
    "crime.Block = crime.Block.apply(block_approx)"
   ]
  },
  {
   "cell_type": "code",
   "execution_count": 188,
   "metadata": {},
   "outputs": [
    {
     "name": "stdout",
     "output_type": "stream",
     "text": [
      "{'INTERFERENCE WITH PUBLIC OFFICER', 'OFFENSE INVOLVING CHILDREN', 'NON-CRIMINAL', 'CRIMINAL TRESPASS', 'STALKING', 'OTHER NARCOTIC VIOLATION', 'PUBLIC PEACE VIOLATION', 'OBSCENITY', 'CONCEALED CARRY LICENSE VIOLATION', 'CRIM SEXUAL ASSAULT', 'NARCOTICS', 'THEFT', 'NON-CRIMINAL (SUBJECT SPECIFIED)', 'INTIMIDATION', 'NON - CRIMINAL', 'BURGLARY', 'DECEPTIVE PRACTICE', 'ROBBERY', 'PUBLIC INDECENCY', 'PROSTITUTION', 'HOMICIDE', 'OTHER OFFENSE', 'HUMAN TRAFFICKING', 'ARSON', 'ASSAULT', 'CRIMINAL DAMAGE', 'SEX OFFENSE', 'KIDNAPPING', 'BATTERY', 'WEAPONS VIOLATION', 'GAMBLING', 'LIQUOR LAW VIOLATION', 'MOTOR VEHICLE THEFT'}\n"
     ]
    }
   ],
   "source": [
    "print(set(crime['Primary Type']))"
   ]
  },
  {
   "cell_type": "markdown",
   "metadata": {},
   "source": [
    "We print all the `Primary Type` of crimes in order to create a dictionary with every crime type keyed with their minimum sentence in terms of a year of imprisonment. -- More details below."
   ]
  },
  {
   "cell_type": "code",
   "execution_count": 189,
   "metadata": {},
   "outputs": [],
   "source": [
    "crime_penalty_dic = {'PROSTITUTION' : 0.1, 'DOMESTIC VIOLENCE' : 0.1, 'MOTOR VEHICLE THEFT' : 3.0, 'ASSAULT' : 0.1, 'OFFENSE INVOLVING CHILDREN' : 0.1,\\\n",
    "                 'RITUALISM' : 0.1, 'BATTERY' : 0.1, 'NON-CRIMINAL (SUBJECT SPECIFIED)' : 0.1, 'CRIM SEXUAL ASSAULT' : 4.0, 'GAMBLING' : 0.1,\\\n",
    "                 'PUBLIC INDECENCY' : 0.1, 'OTHER OFFENSE' : 0.1, 'LIQUOR LAW VIOLATION' : 0.1, 'OTHER NARCOTIC VIOLATION' : 0.1, 'OBSCENITY' : 0.1,\\\n",
    "                 'NON-CRIMINAL' : 0.1, 'KIDNAPPING' : 3.0, 'HOMICIDE' : 20.0, 'NARCOTICS' : 0.1, 'ARSON' : 6.0, 'DECEPTIVE PRACTICE' : 0.1, 'ROBBERY' : 3.0,\\\n",
    "                 'BURGLARY' : 3.0, 'NON - CRIMINAL' : 0.1, 'INTIMIDATION' : 2.0, 'HUMAN TRAFFICKING' : 4.0, 'SEX OFFENSE' : 4.0, 'CRIMINAL TRESPASS' : 0.1,\\\n",
    "                 'CONCEALED CARRY LICENSE VIOLATION' : 2.0, 'CRIMINAL DAMAGE' : 1.0, 'INTERFERENCE WITH PUBLIC OFFICER' : 0.1, 'PUBLIC PEACE VIOLATION' : 0.1,\\\n",
    "                 'WEAPONS VIOLATION' : 0.1, 'THEFT' : 0.1, 'STALKING' : 0.1}"
   ]
  },
  {
   "cell_type": "markdown",
   "metadata": {},
   "source": [
    "To make the *crime_penalty* dictionary, we checked the minimum prison penalty (in years) for each crime types. For the crime where the penalty is less than 1 year, the value is fixed at 0.1 when no prison is needed, and the score in month (6 months = 0.5) if a minmum prison penalty is given in months.\n",
    "\n",
    "These values are taken from the **Illinois Penalty Code**."
   ]
  },
  {
   "cell_type": "code",
   "execution_count": 190,
   "metadata": {},
   "outputs": [
    {
     "data": {
      "text/html": [
       "<div>\n",
       "<style scoped>\n",
       "    .dataframe tbody tr th:only-of-type {\n",
       "        vertical-align: middle;\n",
       "    }\n",
       "\n",
       "    .dataframe tbody tr th {\n",
       "        vertical-align: top;\n",
       "    }\n",
       "\n",
       "    .dataframe thead th {\n",
       "        text-align: right;\n",
       "    }\n",
       "</style>\n",
       "<table border=\"1\" class=\"dataframe\">\n",
       "  <thead>\n",
       "    <tr style=\"text-align: right;\">\n",
       "      <th></th>\n",
       "      <th>Crime Score</th>\n",
       "    </tr>\n",
       "  </thead>\n",
       "  <tbody>\n",
       "    <tr>\n",
       "      <td>PROSTITUTION</td>\n",
       "      <td>0.1</td>\n",
       "    </tr>\n",
       "    <tr>\n",
       "      <td>DOMESTIC VIOLENCE</td>\n",
       "      <td>0.1</td>\n",
       "    </tr>\n",
       "    <tr>\n",
       "      <td>MOTOR VEHICLE THEFT</td>\n",
       "      <td>3.0</td>\n",
       "    </tr>\n",
       "  </tbody>\n",
       "</table>\n",
       "</div>"
      ],
      "text/plain": [
       "                     Crime Score\n",
       "PROSTITUTION                 0.1\n",
       "DOMESTIC VIOLENCE            0.1\n",
       "MOTOR VEHICLE THEFT          3.0"
      ]
     },
     "execution_count": 190,
     "metadata": {},
     "output_type": "execute_result"
    }
   ],
   "source": [
    "crime_penalty = pd.DataFrame(data = crime_penalty_dic.values(), index=crime_penalty_dic.keys(), columns = ['Crime Score'])\n",
    "crime_penalty.head(3)"
   ]
  },
  {
   "cell_type": "code",
   "execution_count": 191,
   "metadata": {},
   "outputs": [],
   "source": [
    "crime_penalty.index.name = 'Primary Type'"
   ]
  },
  {
   "cell_type": "code",
   "execution_count": 192,
   "metadata": {},
   "outputs": [
    {
     "data": {
      "text/html": [
       "<div>\n",
       "<style scoped>\n",
       "    .dataframe tbody tr th:only-of-type {\n",
       "        vertical-align: middle;\n",
       "    }\n",
       "\n",
       "    .dataframe tbody tr th {\n",
       "        vertical-align: top;\n",
       "    }\n",
       "\n",
       "    .dataframe thead th {\n",
       "        text-align: right;\n",
       "    }\n",
       "</style>\n",
       "<table border=\"1\" class=\"dataframe\">\n",
       "  <thead>\n",
       "    <tr style=\"text-align: right;\">\n",
       "      <th></th>\n",
       "      <th>ID</th>\n",
       "      <th>Date</th>\n",
       "      <th>Block</th>\n",
       "      <th>Primary Type</th>\n",
       "      <th>Description</th>\n",
       "      <th>Beat</th>\n",
       "      <th>Community Area</th>\n",
       "      <th>Year</th>\n",
       "      <th>Latitude</th>\n",
       "      <th>Longitude</th>\n",
       "      <th>Location</th>\n",
       "      <th>Crime Score</th>\n",
       "    </tr>\n",
       "  </thead>\n",
       "  <tbody>\n",
       "    <tr>\n",
       "      <td>0</td>\n",
       "      <td>4785</td>\n",
       "      <td>10/07/2008 12:39:00 PM</td>\n",
       "      <td>00000 E 75TH ST</td>\n",
       "      <td>HOMICIDE</td>\n",
       "      <td>FIRST DEGREE MURDER</td>\n",
       "      <td>323</td>\n",
       "      <td>69.0</td>\n",
       "      <td>2008</td>\n",
       "      <td>41.758276</td>\n",
       "      <td>-87.622451</td>\n",
       "      <td>(41.758275857, -87.622451031)</td>\n",
       "      <td>20.0</td>\n",
       "    </tr>\n",
       "    <tr>\n",
       "      <td>1</td>\n",
       "      <td>4786</td>\n",
       "      <td>10/09/2008 03:30:00 AM</td>\n",
       "      <td>04800 W POLK ST</td>\n",
       "      <td>HOMICIDE</td>\n",
       "      <td>FIRST DEGREE MURDER</td>\n",
       "      <td>1533</td>\n",
       "      <td>25.0</td>\n",
       "      <td>2008</td>\n",
       "      <td>41.870252</td>\n",
       "      <td>-87.746069</td>\n",
       "      <td>(41.87025207, -87.746069362)</td>\n",
       "      <td>20.0</td>\n",
       "    </tr>\n",
       "    <tr>\n",
       "      <td>2</td>\n",
       "      <td>4787</td>\n",
       "      <td>10/09/2008 08:35:00 AM</td>\n",
       "      <td>03000 W MANN DR</td>\n",
       "      <td>HOMICIDE</td>\n",
       "      <td>FIRST DEGREE MURDER</td>\n",
       "      <td>831</td>\n",
       "      <td>66.0</td>\n",
       "      <td>2008</td>\n",
       "      <td>41.770990</td>\n",
       "      <td>-87.698901</td>\n",
       "      <td>(41.770990476, -87.698901469)</td>\n",
       "      <td>20.0</td>\n",
       "    </tr>\n",
       "  </tbody>\n",
       "</table>\n",
       "</div>"
      ],
      "text/plain": [
       "     ID                    Date            Block Primary Type  \\\n",
       "0  4785  10/07/2008 12:39:00 PM  00000 E 75TH ST     HOMICIDE   \n",
       "1  4786  10/09/2008 03:30:00 AM  04800 W POLK ST     HOMICIDE   \n",
       "2  4787  10/09/2008 08:35:00 AM  03000 W MANN DR     HOMICIDE   \n",
       "\n",
       "           Description  Beat  Community Area  Year   Latitude  Longitude  \\\n",
       "0  FIRST DEGREE MURDER   323            69.0  2008  41.758276 -87.622451   \n",
       "1  FIRST DEGREE MURDER  1533            25.0  2008  41.870252 -87.746069   \n",
       "2  FIRST DEGREE MURDER   831            66.0  2008  41.770990 -87.698901   \n",
       "\n",
       "                        Location  Crime Score  \n",
       "0  (41.758275857, -87.622451031)         20.0  \n",
       "1   (41.87025207, -87.746069362)         20.0  \n",
       "2  (41.770990476, -87.698901469)         20.0  "
      ]
     },
     "execution_count": 192,
     "metadata": {},
     "output_type": "execute_result"
    }
   ],
   "source": [
    "crime = pd.merge(crime, crime_penalty, on = ['Primary Type'])\n",
    "crime.head(3)"
   ]
  },
  {
   "cell_type": "markdown",
   "metadata": {},
   "source": [
    "Merging the crime and crime_penalty Dataframes to compute Crime Score for each row"
   ]
  },
  {
   "cell_type": "code",
   "execution_count": 193,
   "metadata": {},
   "outputs": [],
   "source": [
    "crime.to_csv('crime.csv')"
   ]
  },
  {
   "cell_type": "markdown",
   "metadata": {},
   "source": [
    "# Generating the 2 dataframe for our analysis"
   ]
  },
  {
   "cell_type": "markdown",
   "metadata": {},
   "source": [
    "Here we generate 2 dataframe : Inspection Score per Year per Comm Area and Crime Score per Year per Comm Area"
   ]
  },
  {
   "cell_type": "code",
   "execution_count": 194,
   "metadata": {},
   "outputs": [],
   "source": [
    "Crime_Year_CommArea = pd.DataFrame()\n",
    "Crime_Year_CommArea['Community Area'] = np.arange(0.0,78.0)"
   ]
  },
  {
   "cell_type": "markdown",
   "metadata": {},
   "source": [
    "Creating a new Dataframe with a column for the 77 Comm Area of Chicago"
   ]
  },
  {
   "cell_type": "code",
   "execution_count": 195,
   "metadata": {},
   "outputs": [],
   "source": [
    "for x in range(2010,2018) :\n",
    "    df = crime.loc[crime['Year'] == x][['Community Area','Crime Score']].copy().groupby('Community Area').sum()\n",
    "    Crime_Year_CommArea[x] = df['Crime Score']"
   ]
  },
  {
   "cell_type": "markdown",
   "metadata": {},
   "source": [
    "Selecting the comm area and crime score for each year, then group by comm area to compute the sum of crimescore for each comm area for each year"
   ]
  },
  {
   "cell_type": "code",
   "execution_count": 196,
   "metadata": {},
   "outputs": [
    {
     "data": {
      "text/html": [
       "<div>\n",
       "<style scoped>\n",
       "    .dataframe tbody tr th:only-of-type {\n",
       "        vertical-align: middle;\n",
       "    }\n",
       "\n",
       "    .dataframe tbody tr th {\n",
       "        vertical-align: top;\n",
       "    }\n",
       "\n",
       "    .dataframe thead th {\n",
       "        text-align: right;\n",
       "    }\n",
       "</style>\n",
       "<table border=\"1\" class=\"dataframe\">\n",
       "  <thead>\n",
       "    <tr style=\"text-align: right;\">\n",
       "      <th></th>\n",
       "      <th>Community Area</th>\n",
       "      <th>2010</th>\n",
       "      <th>2011</th>\n",
       "      <th>2012</th>\n",
       "      <th>2013</th>\n",
       "      <th>2014</th>\n",
       "      <th>2015</th>\n",
       "      <th>2016</th>\n",
       "      <th>2017</th>\n",
       "    </tr>\n",
       "  </thead>\n",
       "  <tbody>\n",
       "    <tr>\n",
       "      <td>0</td>\n",
       "      <td>0.0</td>\n",
       "      <td>0.3</td>\n",
       "      <td>0.5</td>\n",
       "      <td>4.4</td>\n",
       "      <td>4.1</td>\n",
       "      <td>1.1</td>\n",
       "      <td>1.1</td>\n",
       "      <td>NaN</td>\n",
       "      <td>NaN</td>\n",
       "    </tr>\n",
       "    <tr>\n",
       "      <td>1</td>\n",
       "      <td>1.0</td>\n",
       "      <td>3572.3</td>\n",
       "      <td>3329.1</td>\n",
       "      <td>2874.9</td>\n",
       "      <td>2447.0</td>\n",
       "      <td>2262.3</td>\n",
       "      <td>2196.0</td>\n",
       "      <td>2380.6</td>\n",
       "      <td>86.0</td>\n",
       "    </tr>\n",
       "    <tr>\n",
       "      <td>2</td>\n",
       "      <td>2.0</td>\n",
       "      <td>3975.1</td>\n",
       "      <td>3584.9</td>\n",
       "      <td>3170.7</td>\n",
       "      <td>2526.7</td>\n",
       "      <td>2440.4</td>\n",
       "      <td>2238.1</td>\n",
       "      <td>2497.2</td>\n",
       "      <td>158.2</td>\n",
       "    </tr>\n",
       "    <tr>\n",
       "      <td>3</td>\n",
       "      <td>3.0</td>\n",
       "      <td>2884.2</td>\n",
       "      <td>2849.6</td>\n",
       "      <td>3032.2</td>\n",
       "      <td>2244.6</td>\n",
       "      <td>1917.7</td>\n",
       "      <td>2222.5</td>\n",
       "      <td>2110.1</td>\n",
       "      <td>120.2</td>\n",
       "    </tr>\n",
       "    <tr>\n",
       "      <td>4</td>\n",
       "      <td>4.0</td>\n",
       "      <td>1851.2</td>\n",
       "      <td>1679.5</td>\n",
       "      <td>1767.3</td>\n",
       "      <td>1529.3</td>\n",
       "      <td>1173.1</td>\n",
       "      <td>1037.9</td>\n",
       "      <td>1274.5</td>\n",
       "      <td>54.1</td>\n",
       "    </tr>\n",
       "    <tr>\n",
       "      <td>...</td>\n",
       "      <td>...</td>\n",
       "      <td>...</td>\n",
       "      <td>...</td>\n",
       "      <td>...</td>\n",
       "      <td>...</td>\n",
       "      <td>...</td>\n",
       "      <td>...</td>\n",
       "      <td>...</td>\n",
       "      <td>...</td>\n",
       "    </tr>\n",
       "    <tr>\n",
       "      <td>73</td>\n",
       "      <td>73.0</td>\n",
       "      <td>3647.0</td>\n",
       "      <td>3544.9</td>\n",
       "      <td>3068.1</td>\n",
       "      <td>2747.9</td>\n",
       "      <td>2115.3</td>\n",
       "      <td>2226.4</td>\n",
       "      <td>2501.9</td>\n",
       "      <td>89.1</td>\n",
       "    </tr>\n",
       "    <tr>\n",
       "      <td>74</td>\n",
       "      <td>74.0</td>\n",
       "      <td>478.9</td>\n",
       "      <td>373.1</td>\n",
       "      <td>345.4</td>\n",
       "      <td>360.7</td>\n",
       "      <td>359.8</td>\n",
       "      <td>266.5</td>\n",
       "      <td>305.3</td>\n",
       "      <td>15.7</td>\n",
       "    </tr>\n",
       "    <tr>\n",
       "      <td>75</td>\n",
       "      <td>75.0</td>\n",
       "      <td>2234.1</td>\n",
       "      <td>2259.6</td>\n",
       "      <td>2002.7</td>\n",
       "      <td>1523.8</td>\n",
       "      <td>1320.6</td>\n",
       "      <td>1244.9</td>\n",
       "      <td>1220.0</td>\n",
       "      <td>61.7</td>\n",
       "    </tr>\n",
       "    <tr>\n",
       "      <td>76</td>\n",
       "      <td>76.0</td>\n",
       "      <td>604.3</td>\n",
       "      <td>554.3</td>\n",
       "      <td>651.3</td>\n",
       "      <td>609.9</td>\n",
       "      <td>708.9</td>\n",
       "      <td>567.5</td>\n",
       "      <td>707.9</td>\n",
       "      <td>36.9</td>\n",
       "    </tr>\n",
       "    <tr>\n",
       "      <td>77</td>\n",
       "      <td>77.0</td>\n",
       "      <td>2482.3</td>\n",
       "      <td>2330.5</td>\n",
       "      <td>2316.4</td>\n",
       "      <td>1682.0</td>\n",
       "      <td>1313.8</td>\n",
       "      <td>1322.5</td>\n",
       "      <td>1548.7</td>\n",
       "      <td>75.5</td>\n",
       "    </tr>\n",
       "  </tbody>\n",
       "</table>\n",
       "<p>78 rows × 9 columns</p>\n",
       "</div>"
      ],
      "text/plain": [
       "    Community Area    2010    2011    2012    2013    2014    2015    2016  \\\n",
       "0              0.0     0.3     0.5     4.4     4.1     1.1     1.1     NaN   \n",
       "1              1.0  3572.3  3329.1  2874.9  2447.0  2262.3  2196.0  2380.6   \n",
       "2              2.0  3975.1  3584.9  3170.7  2526.7  2440.4  2238.1  2497.2   \n",
       "3              3.0  2884.2  2849.6  3032.2  2244.6  1917.7  2222.5  2110.1   \n",
       "4              4.0  1851.2  1679.5  1767.3  1529.3  1173.1  1037.9  1274.5   \n",
       "..             ...     ...     ...     ...     ...     ...     ...     ...   \n",
       "73            73.0  3647.0  3544.9  3068.1  2747.9  2115.3  2226.4  2501.9   \n",
       "74            74.0   478.9   373.1   345.4   360.7   359.8   266.5   305.3   \n",
       "75            75.0  2234.1  2259.6  2002.7  1523.8  1320.6  1244.9  1220.0   \n",
       "76            76.0   604.3   554.3   651.3   609.9   708.9   567.5   707.9   \n",
       "77            77.0  2482.3  2330.5  2316.4  1682.0  1313.8  1322.5  1548.7   \n",
       "\n",
       "     2017  \n",
       "0     NaN  \n",
       "1    86.0  \n",
       "2   158.2  \n",
       "3   120.2  \n",
       "4    54.1  \n",
       "..    ...  \n",
       "73   89.1  \n",
       "74   15.7  \n",
       "75   61.7  \n",
       "76   36.9  \n",
       "77   75.5  \n",
       "\n",
       "[78 rows x 9 columns]"
      ]
     },
     "execution_count": 196,
     "metadata": {},
     "output_type": "execute_result"
    }
   ],
   "source": [
    "Crime_Year_CommArea"
   ]
  },
  {
   "cell_type": "code",
   "execution_count": 197,
   "metadata": {},
   "outputs": [],
   "source": [
    "Eat_Year_CommArea = pd.DataFrame()\n",
    "Eat_Year_CommArea['Community Area'] = np.arange(0.0,78.0)"
   ]
  },
  {
   "cell_type": "markdown",
   "metadata": {},
   "source": [
    "Creating a new Dataframe with a column for the 77 Comm Area of Chicago"
   ]
  },
  {
   "cell_type": "code",
   "execution_count": 198,
   "metadata": {},
   "outputs": [],
   "source": [
    "for x in range(2010,2020) :\n",
    "    df = eat_seat.loc[eat_seat['Inspection Year'] == x][['Community Area','InspectionScore']].copy().groupby('Community Area').mean()\n",
    "    Eat_Year_CommArea[x] = df['InspectionScore']"
   ]
  },
  {
   "cell_type": "markdown",
   "metadata": {},
   "source": [
    "Selecting the comm area and inspection score for each year, then group by comm area to compute the median of inspectionscore for each comm area for each year"
   ]
  },
  {
   "cell_type": "code",
   "execution_count": 199,
   "metadata": {},
   "outputs": [
    {
     "data": {
      "text/html": [
       "<div>\n",
       "<style scoped>\n",
       "    .dataframe tbody tr th:only-of-type {\n",
       "        vertical-align: middle;\n",
       "    }\n",
       "\n",
       "    .dataframe tbody tr th {\n",
       "        vertical-align: top;\n",
       "    }\n",
       "\n",
       "    .dataframe thead th {\n",
       "        text-align: right;\n",
       "    }\n",
       "</style>\n",
       "<table border=\"1\" class=\"dataframe\">\n",
       "  <thead>\n",
       "    <tr style=\"text-align: right;\">\n",
       "      <th></th>\n",
       "      <th>Community Area</th>\n",
       "      <th>2010</th>\n",
       "      <th>2011</th>\n",
       "      <th>2012</th>\n",
       "      <th>2013</th>\n",
       "      <th>2014</th>\n",
       "      <th>2015</th>\n",
       "      <th>2016</th>\n",
       "      <th>2017</th>\n",
       "      <th>2018</th>\n",
       "      <th>2019</th>\n",
       "    </tr>\n",
       "  </thead>\n",
       "  <tbody>\n",
       "    <tr>\n",
       "      <td>0</td>\n",
       "      <td>0.0</td>\n",
       "      <td>46.937931</td>\n",
       "      <td>40.815166</td>\n",
       "      <td>29.596639</td>\n",
       "      <td>43.327273</td>\n",
       "      <td>40.289963</td>\n",
       "      <td>67.240876</td>\n",
       "      <td>61.010989</td>\n",
       "      <td>39.760870</td>\n",
       "      <td>89.700000</td>\n",
       "      <td>84.069231</td>\n",
       "    </tr>\n",
       "    <tr>\n",
       "      <td>1</td>\n",
       "      <td>1.0</td>\n",
       "      <td>78.503145</td>\n",
       "      <td>106.710000</td>\n",
       "      <td>124.847291</td>\n",
       "      <td>86.876106</td>\n",
       "      <td>44.124402</td>\n",
       "      <td>112.762791</td>\n",
       "      <td>134.318471</td>\n",
       "      <td>50.858209</td>\n",
       "      <td>110.045662</td>\n",
       "      <td>237.532258</td>\n",
       "    </tr>\n",
       "    <tr>\n",
       "      <td>2</td>\n",
       "      <td>2.0</td>\n",
       "      <td>116.727273</td>\n",
       "      <td>125.100671</td>\n",
       "      <td>123.528986</td>\n",
       "      <td>115.816327</td>\n",
       "      <td>53.612403</td>\n",
       "      <td>41.018727</td>\n",
       "      <td>137.811111</td>\n",
       "      <td>117.063158</td>\n",
       "      <td>233.158228</td>\n",
       "      <td>160.522388</td>\n",
       "    </tr>\n",
       "    <tr>\n",
       "      <td>3</td>\n",
       "      <td>3.0</td>\n",
       "      <td>112.162896</td>\n",
       "      <td>130.951807</td>\n",
       "      <td>59.071942</td>\n",
       "      <td>71.698113</td>\n",
       "      <td>113.933518</td>\n",
       "      <td>68.228070</td>\n",
       "      <td>83.875740</td>\n",
       "      <td>135.590909</td>\n",
       "      <td>147.919463</td>\n",
       "      <td>179.185841</td>\n",
       "    </tr>\n",
       "    <tr>\n",
       "      <td>4</td>\n",
       "      <td>4.0</td>\n",
       "      <td>147.556701</td>\n",
       "      <td>84.171053</td>\n",
       "      <td>75.299492</td>\n",
       "      <td>70.944444</td>\n",
       "      <td>70.065217</td>\n",
       "      <td>65.523077</td>\n",
       "      <td>78.007067</td>\n",
       "      <td>108.509091</td>\n",
       "      <td>108.653465</td>\n",
       "      <td>232.701571</td>\n",
       "    </tr>\n",
       "    <tr>\n",
       "      <td>...</td>\n",
       "      <td>...</td>\n",
       "      <td>...</td>\n",
       "      <td>...</td>\n",
       "      <td>...</td>\n",
       "      <td>...</td>\n",
       "      <td>...</td>\n",
       "      <td>...</td>\n",
       "      <td>...</td>\n",
       "      <td>...</td>\n",
       "      <td>...</td>\n",
       "      <td>...</td>\n",
       "    </tr>\n",
       "    <tr>\n",
       "      <td>73</td>\n",
       "      <td>73.0</td>\n",
       "      <td>62.976190</td>\n",
       "      <td>87.741935</td>\n",
       "      <td>81.298969</td>\n",
       "      <td>84.246575</td>\n",
       "      <td>74.191781</td>\n",
       "      <td>85.240506</td>\n",
       "      <td>103.019608</td>\n",
       "      <td>80.857143</td>\n",
       "      <td>75.081967</td>\n",
       "      <td>148.630137</td>\n",
       "    </tr>\n",
       "    <tr>\n",
       "      <td>74</td>\n",
       "      <td>74.0</td>\n",
       "      <td>47.458333</td>\n",
       "      <td>60.666667</td>\n",
       "      <td>17.551020</td>\n",
       "      <td>22.684211</td>\n",
       "      <td>64.233333</td>\n",
       "      <td>68.810811</td>\n",
       "      <td>69.192308</td>\n",
       "      <td>63.391304</td>\n",
       "      <td>53.314286</td>\n",
       "      <td>197.555556</td>\n",
       "    </tr>\n",
       "    <tr>\n",
       "      <td>75</td>\n",
       "      <td>75.0</td>\n",
       "      <td>81.345455</td>\n",
       "      <td>96.710280</td>\n",
       "      <td>43.866667</td>\n",
       "      <td>65.162791</td>\n",
       "      <td>63.649485</td>\n",
       "      <td>108.022989</td>\n",
       "      <td>133.800000</td>\n",
       "      <td>83.903846</td>\n",
       "      <td>129.549296</td>\n",
       "      <td>228.000000</td>\n",
       "    </tr>\n",
       "    <tr>\n",
       "      <td>76</td>\n",
       "      <td>76.0</td>\n",
       "      <td>40.869565</td>\n",
       "      <td>77.333333</td>\n",
       "      <td>79.793103</td>\n",
       "      <td>45.636364</td>\n",
       "      <td>32.727273</td>\n",
       "      <td>87.176471</td>\n",
       "      <td>123.117647</td>\n",
       "      <td>127.314286</td>\n",
       "      <td>148.736842</td>\n",
       "      <td>133.466667</td>\n",
       "    </tr>\n",
       "    <tr>\n",
       "      <td>77</td>\n",
       "      <td>77.0</td>\n",
       "      <td>88.530233</td>\n",
       "      <td>103.088235</td>\n",
       "      <td>86.810631</td>\n",
       "      <td>86.613027</td>\n",
       "      <td>78.744186</td>\n",
       "      <td>60.187919</td>\n",
       "      <td>59.000000</td>\n",
       "      <td>145.990196</td>\n",
       "      <td>145.646617</td>\n",
       "      <td>107.805668</td>\n",
       "    </tr>\n",
       "  </tbody>\n",
       "</table>\n",
       "<p>78 rows × 11 columns</p>\n",
       "</div>"
      ],
      "text/plain": [
       "    Community Area        2010        2011        2012        2013  \\\n",
       "0              0.0   46.937931   40.815166   29.596639   43.327273   \n",
       "1              1.0   78.503145  106.710000  124.847291   86.876106   \n",
       "2              2.0  116.727273  125.100671  123.528986  115.816327   \n",
       "3              3.0  112.162896  130.951807   59.071942   71.698113   \n",
       "4              4.0  147.556701   84.171053   75.299492   70.944444   \n",
       "..             ...         ...         ...         ...         ...   \n",
       "73            73.0   62.976190   87.741935   81.298969   84.246575   \n",
       "74            74.0   47.458333   60.666667   17.551020   22.684211   \n",
       "75            75.0   81.345455   96.710280   43.866667   65.162791   \n",
       "76            76.0   40.869565   77.333333   79.793103   45.636364   \n",
       "77            77.0   88.530233  103.088235   86.810631   86.613027   \n",
       "\n",
       "          2014        2015        2016        2017        2018        2019  \n",
       "0    40.289963   67.240876   61.010989   39.760870   89.700000   84.069231  \n",
       "1    44.124402  112.762791  134.318471   50.858209  110.045662  237.532258  \n",
       "2    53.612403   41.018727  137.811111  117.063158  233.158228  160.522388  \n",
       "3   113.933518   68.228070   83.875740  135.590909  147.919463  179.185841  \n",
       "4    70.065217   65.523077   78.007067  108.509091  108.653465  232.701571  \n",
       "..         ...         ...         ...         ...         ...         ...  \n",
       "73   74.191781   85.240506  103.019608   80.857143   75.081967  148.630137  \n",
       "74   64.233333   68.810811   69.192308   63.391304   53.314286  197.555556  \n",
       "75   63.649485  108.022989  133.800000   83.903846  129.549296  228.000000  \n",
       "76   32.727273   87.176471  123.117647  127.314286  148.736842  133.466667  \n",
       "77   78.744186   60.187919   59.000000  145.990196  145.646617  107.805668  \n",
       "\n",
       "[78 rows x 11 columns]"
      ]
     },
     "execution_count": 199,
     "metadata": {},
     "output_type": "execute_result"
    }
   ],
   "source": [
    "Eat_Year_CommArea"
   ]
  },
  {
   "cell_type": "code",
   "execution_count": 200,
   "metadata": {},
   "outputs": [],
   "source": [
    "Eat_Year_CommArea.to_csv('Eat_Year_CommArea.csv')"
   ]
  },
  {
   "cell_type": "code",
   "execution_count": 201,
   "metadata": {},
   "outputs": [],
   "source": [
    "Crime_Year_CommArea.to_csv('Crime_Year_CommArea.csv')"
   ]
  },
  {
   "cell_type": "markdown",
   "metadata": {},
   "source": [
    "These 2 DataFrame will be useful to compute the correlation, and for the different visualisations"
   ]
  },
  {
   "cell_type": "markdown",
   "metadata": {},
   "source": [
    "## Analysis"
   ]
  },
  {
   "cell_type": "markdown",
   "metadata": {},
   "source": [
    "### Correlations"
   ]
  },
  {
   "cell_type": "code",
   "execution_count": 202,
   "metadata": {},
   "outputs": [
    {
     "data": {
      "text/html": [
       "<div>\n",
       "<style scoped>\n",
       "    .dataframe tbody tr th:only-of-type {\n",
       "        vertical-align: middle;\n",
       "    }\n",
       "\n",
       "    .dataframe tbody tr th {\n",
       "        vertical-align: top;\n",
       "    }\n",
       "\n",
       "    .dataframe thead th {\n",
       "        text-align: right;\n",
       "    }\n",
       "</style>\n",
       "<table border=\"1\" class=\"dataframe\">\n",
       "  <thead>\n",
       "    <tr style=\"text-align: right;\">\n",
       "      <th></th>\n",
       "      <th>InspectionScore</th>\n",
       "      <th>N Restaurants</th>\n",
       "    </tr>\n",
       "  </thead>\n",
       "  <tbody>\n",
       "    <tr>\n",
       "      <td>InspectionScore</td>\n",
       "      <td>1.000000</td>\n",
       "      <td>-0.089128</td>\n",
       "    </tr>\n",
       "    <tr>\n",
       "      <td>N Restaurants</td>\n",
       "      <td>-0.089128</td>\n",
       "      <td>1.000000</td>\n",
       "    </tr>\n",
       "  </tbody>\n",
       "</table>\n",
       "</div>"
      ],
      "text/plain": [
       "                 InspectionScore  N Restaurants\n",
       "InspectionScore         1.000000      -0.089128\n",
       "N Restaurants          -0.089128       1.000000"
      ]
     },
     "execution_count": 202,
     "metadata": {},
     "output_type": "execute_result"
    }
   ],
   "source": [
    "license_owner_score_number.corr()"
   ]
  },
  {
   "cell_type": "code",
   "execution_count": 203,
   "metadata": {},
   "outputs": [
    {
     "data": {
      "text/html": [
       "<div>\n",
       "<style scoped>\n",
       "    .dataframe tbody tr th:only-of-type {\n",
       "        vertical-align: middle;\n",
       "    }\n",
       "\n",
       "    .dataframe tbody tr th {\n",
       "        vertical-align: top;\n",
       "    }\n",
       "\n",
       "    .dataframe thead th {\n",
       "        text-align: right;\n",
       "    }\n",
       "</style>\n",
       "<table border=\"1\" class=\"dataframe\">\n",
       "  <thead>\n",
       "    <tr style=\"text-align: right;\">\n",
       "      <th></th>\n",
       "      <th>InspectionScore</th>\n",
       "    </tr>\n",
       "    <tr>\n",
       "      <th>Community Area</th>\n",
       "      <th></th>\n",
       "    </tr>\n",
       "  </thead>\n",
       "  <tbody>\n",
       "    <tr>\n",
       "      <td>0.0</td>\n",
       "      <td>55.543745</td>\n",
       "    </tr>\n",
       "    <tr>\n",
       "      <td>1.0</td>\n",
       "      <td>111.049093</td>\n",
       "    </tr>\n",
       "    <tr>\n",
       "      <td>2.0</td>\n",
       "      <td>124.788780</td>\n",
       "    </tr>\n",
       "    <tr>\n",
       "      <td>3.0</td>\n",
       "      <td>108.278104</td>\n",
       "    </tr>\n",
       "    <tr>\n",
       "      <td>4.0</td>\n",
       "      <td>100.925684</td>\n",
       "    </tr>\n",
       "    <tr>\n",
       "      <td>...</td>\n",
       "      <td>...</td>\n",
       "    </tr>\n",
       "    <tr>\n",
       "      <td>73.0</td>\n",
       "      <td>88.275379</td>\n",
       "    </tr>\n",
       "    <tr>\n",
       "      <td>74.0</td>\n",
       "      <td>71.649269</td>\n",
       "    </tr>\n",
       "    <tr>\n",
       "      <td>75.0</td>\n",
       "      <td>104.283912</td>\n",
       "    </tr>\n",
       "    <tr>\n",
       "      <td>76.0</td>\n",
       "      <td>85.106383</td>\n",
       "    </tr>\n",
       "    <tr>\n",
       "      <td>77.0</td>\n",
       "      <td>96.961973</td>\n",
       "    </tr>\n",
       "  </tbody>\n",
       "</table>\n",
       "<p>78 rows × 1 columns</p>\n",
       "</div>"
      ],
      "text/plain": [
       "                InspectionScore\n",
       "Community Area                 \n",
       "0.0                   55.543745\n",
       "1.0                  111.049093\n",
       "2.0                  124.788780\n",
       "3.0                  108.278104\n",
       "4.0                  100.925684\n",
       "...                         ...\n",
       "73.0                  88.275379\n",
       "74.0                  71.649269\n",
       "75.0                 104.283912\n",
       "76.0                  85.106383\n",
       "77.0                  96.961973\n",
       "\n",
       "[78 rows x 1 columns]"
      ]
     },
     "execution_count": 203,
     "metadata": {},
     "output_type": "execute_result"
    }
   ],
   "source": [
    "Crime_Eat_CommArea = eat_seat[['Community Area','InspectionScore']].copy().groupby('Community Area').mean()\n",
    "Crime_Eat_CommArea"
   ]
  },
  {
   "cell_type": "code",
   "execution_count": 204,
   "metadata": {},
   "outputs": [],
   "source": [
    "Crime_CommArea = crime[['Community Area','Crime Score']].copy().groupby('Community Area').sum()\n",
    "Crime_Eat_CommArea['Crime Score'] = Crime_CommArea['Crime Score']"
   ]
  },
  {
   "cell_type": "code",
   "execution_count": 205,
   "metadata": {},
   "outputs": [
    {
     "data": {
      "text/html": [
       "<div>\n",
       "<style scoped>\n",
       "    .dataframe tbody tr th:only-of-type {\n",
       "        vertical-align: middle;\n",
       "    }\n",
       "\n",
       "    .dataframe tbody tr th {\n",
       "        vertical-align: top;\n",
       "    }\n",
       "\n",
       "    .dataframe thead th {\n",
       "        text-align: right;\n",
       "    }\n",
       "</style>\n",
       "<table border=\"1\" class=\"dataframe\">\n",
       "  <thead>\n",
       "    <tr style=\"text-align: right;\">\n",
       "      <th></th>\n",
       "      <th>InspectionScore</th>\n",
       "      <th>Crime Score</th>\n",
       "    </tr>\n",
       "    <tr>\n",
       "      <th>Community Area</th>\n",
       "      <th></th>\n",
       "      <th></th>\n",
       "    </tr>\n",
       "  </thead>\n",
       "  <tbody>\n",
       "    <tr>\n",
       "      <td>0.0</td>\n",
       "      <td>55.543745</td>\n",
       "      <td>13.1</td>\n",
       "    </tr>\n",
       "    <tr>\n",
       "      <td>1.0</td>\n",
       "      <td>111.049093</td>\n",
       "      <td>26844.0</td>\n",
       "    </tr>\n",
       "    <tr>\n",
       "      <td>2.0</td>\n",
       "      <td>124.788780</td>\n",
       "      <td>28176.7</td>\n",
       "    </tr>\n",
       "    <tr>\n",
       "      <td>3.0</td>\n",
       "      <td>108.278104</td>\n",
       "      <td>23522.4</td>\n",
       "    </tr>\n",
       "    <tr>\n",
       "      <td>4.0</td>\n",
       "      <td>100.925684</td>\n",
       "      <td>14084.0</td>\n",
       "    </tr>\n",
       "    <tr>\n",
       "      <td>...</td>\n",
       "      <td>...</td>\n",
       "      <td>...</td>\n",
       "    </tr>\n",
       "    <tr>\n",
       "      <td>73.0</td>\n",
       "      <td>88.275379</td>\n",
       "      <td>28059.8</td>\n",
       "    </tr>\n",
       "    <tr>\n",
       "      <td>74.0</td>\n",
       "      <td>71.649269</td>\n",
       "      <td>3591.3</td>\n",
       "    </tr>\n",
       "    <tr>\n",
       "      <td>75.0</td>\n",
       "      <td>104.283912</td>\n",
       "      <td>17000.0</td>\n",
       "    </tr>\n",
       "    <tr>\n",
       "      <td>76.0</td>\n",
       "      <td>85.106383</td>\n",
       "      <td>5819.9</td>\n",
       "    </tr>\n",
       "    <tr>\n",
       "      <td>77.0</td>\n",
       "      <td>96.961973</td>\n",
       "      <td>18135.1</td>\n",
       "    </tr>\n",
       "  </tbody>\n",
       "</table>\n",
       "<p>78 rows × 2 columns</p>\n",
       "</div>"
      ],
      "text/plain": [
       "                InspectionScore  Crime Score\n",
       "Community Area                              \n",
       "0.0                   55.543745         13.1\n",
       "1.0                  111.049093      26844.0\n",
       "2.0                  124.788780      28176.7\n",
       "3.0                  108.278104      23522.4\n",
       "4.0                  100.925684      14084.0\n",
       "...                         ...          ...\n",
       "73.0                  88.275379      28059.8\n",
       "74.0                  71.649269       3591.3\n",
       "75.0                 104.283912      17000.0\n",
       "76.0                  85.106383       5819.9\n",
       "77.0                  96.961973      18135.1\n",
       "\n",
       "[78 rows x 2 columns]"
      ]
     },
     "execution_count": 205,
     "metadata": {},
     "output_type": "execute_result"
    }
   ],
   "source": [
    "Crime_Eat_CommArea"
   ]
  },
  {
   "cell_type": "code",
   "execution_count": 206,
   "metadata": {},
   "outputs": [],
   "source": [
    "Crime_Eat_CommArea.to_csv('Crime_Eat_CommArea.csv')"
   ]
  },
  {
   "cell_type": "code",
   "execution_count": 207,
   "metadata": {},
   "outputs": [
    {
     "data": {
      "text/html": [
       "<div>\n",
       "<style scoped>\n",
       "    .dataframe tbody tr th:only-of-type {\n",
       "        vertical-align: middle;\n",
       "    }\n",
       "\n",
       "    .dataframe tbody tr th {\n",
       "        vertical-align: top;\n",
       "    }\n",
       "\n",
       "    .dataframe thead th {\n",
       "        text-align: right;\n",
       "    }\n",
       "</style>\n",
       "<table border=\"1\" class=\"dataframe\">\n",
       "  <thead>\n",
       "    <tr style=\"text-align: right;\">\n",
       "      <th></th>\n",
       "      <th>InspectionScore</th>\n",
       "      <th>Crime Score</th>\n",
       "    </tr>\n",
       "  </thead>\n",
       "  <tbody>\n",
       "    <tr>\n",
       "      <td>InspectionScore</td>\n",
       "      <td>1.000000</td>\n",
       "      <td>0.324082</td>\n",
       "    </tr>\n",
       "    <tr>\n",
       "      <td>Crime Score</td>\n",
       "      <td>0.324082</td>\n",
       "      <td>1.000000</td>\n",
       "    </tr>\n",
       "  </tbody>\n",
       "</table>\n",
       "</div>"
      ],
      "text/plain": [
       "                 InspectionScore  Crime Score\n",
       "InspectionScore         1.000000     0.324082\n",
       "Crime Score             0.324082     1.000000"
      ]
     },
     "execution_count": 207,
     "metadata": {},
     "output_type": "execute_result"
    }
   ],
   "source": [
    "Crime_Eat_CommArea.corr()"
   ]
  },
  {
   "cell_type": "markdown",
   "metadata": {},
   "source": [
    "# Can the data bring us answer to our questions ?"
   ]
  },
  {
   "cell_type": "markdown",
   "metadata": {},
   "source": [
    "We think so, All the informations we need to make the different analysis are in the 3 datasets. For the healthiness of the restaurants and in the different community area, all the data are in the food inspections dataframe.\n",
    "\n",
    "For the analysis about the different owners of different facilities, all the informations needed were processed and are in the license dataset.\n",
    "\n",
    "And for the crime related analysis, the informations were processed and we have all we need in the crime dataset."
   ]
  },
  {
   "cell_type": "markdown",
   "metadata": {},
   "source": [
    "# What comes next ?"
   ]
  },
  {
   "cell_type": "markdown",
   "metadata": {},
   "source": [
    "We'll first start to get deeper into the analysis, and maybe come back to modify or arrange the data one last time according to our needs.\n",
    "\n",
    "When the analysis will be completed, we'll start to get to the visualization : What is the best way to present our results ? Is the map still a good visualization ? How to handle the map ?\n",
    "\n",
    "Then we'll finally report our results, and start preparing the presentation."
   ]
  },
  {
   "cell_type": "markdown",
   "metadata": {},
   "source": [
    "# Hypothesis ?"
   ]
  },
  {
   "cell_type": "markdown",
   "metadata": {},
   "source": [
    "Our first hypothesis is that the repartition of the unhealthy facilities are not randomly distributed, we think that these unhealthy facilities are concentrated in particular community areas.\n",
    "\n",
    "We think that the public facilities are usually healthier than private one. The hospital or public restaurants should have more restrictions that private one.\n",
    "\n",
    "We also make the hypothesis that owners having several facilities are usually more looking at the healthiness of their restaurants than the owner of only one restaurant.\n",
    "\n",
    "We finally make the hypothesis that the facilities placed in community areas with a lot of crimes are less inspected that other facilities. But when they're inspected, they may have a lower score than facilities placed in other places."
   ]
  },
  {
   "cell_type": "markdown",
   "metadata": {},
   "source": [
    "#### Assistants' comments :\n",
    "•\tmaybe instead of just copy-pasting a map from somewhere else try to incorporate it in your own style and plots\n",
    "\n",
    "•\tthe whole \"using a dict and then it's values\" works, but is far from an ideal choice. Try to find a pandas way. Data science in Python uses Pandas all the time, and thus is somewhat of the language you have to speak when you want to be a good data scientist.\n",
    "\n",
    "•\tw.r.t. Hypothesis: think again what dataset you have and what you have done with it. does having a dataset of food inspections give you a complete overview of where and if a restaurant exists? Justify this claim in your report/presentation.\n",
    "\n",
    "\n",
    "•\tin general:\n",
    "•\tgood work, but correct the above-mentioned points.\n",
    "•\tnice separation of work, quite easy to follow.\n",
    "•\tyou need to provide more structure\n",
    "•\ttry to define what you mean with healthiness sooner. I would assume you would use the type of food they serve, and not how many inspection violations they have. Definitions should be first thing you mention.\n",
    "•\tI would have liked to see more plots and visualisations, as they would also have helped you to see what you are doing. Don't start with visualisations at the end, data science is not a linear path, but more like a circle of iterations.\n"
   ]
  }
 ],
 "metadata": {
  "kernelspec": {
   "display_name": "Python 3",
   "language": "python",
   "name": "python3"
  },
  "language_info": {
   "codemirror_mode": {
    "name": "ipython",
    "version": 3
   },
   "file_extension": ".py",
   "mimetype": "text/x-python",
   "name": "python",
   "nbconvert_exporter": "python",
   "pygments_lexer": "ipython3",
   "version": "3.7.4"
  }
 },
 "nbformat": 4,
 "nbformat_minor": 4
}
