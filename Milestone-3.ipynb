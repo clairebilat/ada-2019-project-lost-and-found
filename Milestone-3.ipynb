{
 "cells": [
  {
   "cell_type": "markdown",
   "metadata": {},
   "source": [
    "# Where can you eat safely in Chigago : an analysis based on the inspections reports from the Chicago department of Public Health's Food Protection Program.\n",
    "\n",
    "## 1. Introduction\n",
    "\n",
    "  The Chicago department of Public Health’s Food Protection Program provides a database which contains the information from inspection reports of restaurants and other food establishments in Chicago from 2010 to the present. It contains many informations about the establishments, like their type of facility (grocery stores, restaurants, coffee shop, …) and their locations. Many informations about the violations listed are also provided in the database, like the description of the findings that caused them and the reason that invoked the staff from the program to led an inspection.\n",
    "\n",
    "**The main research question is : Where can you eat safely in Chicago ?**\n",
    "\n",
    "The adjective `safely` is chosen wisely because it has multiple meanings : you can eat in a `safe` way making sure that the establishment where you go respects particular hygiene rules, but also that the place is `safe` according to the crime rate of its district.\n",
    "\n",
    "  To begin, it has been decided that the analysis of the data will be done temporally. Indeed, the field of restoration is known to be in a constant evolution : each year, many establishments are opening while other are closing or changing of owner - especially in big cities. \n",
    "This is why the different calculations and comparisons will be done by year. To answer the main question about where to eat in Chicago, the answer will be given based on the latest data.\n",
    "Also, a map visualization seems to be a good solution to diplay the results, as the analysis is spatio-temporal. \n",
    "\n",
    "\n",
    "### Hygiene Score\n",
    "\n",
    "The hygiene of the public and private food establishments listed in the dataset will be calculated using on a `hygiene score` based on the different violations reported and the final result of the inspection. In order to compare the places to eat by delimited zones, a mean will be computed by community area.\n",
    "  \n",
    "**Questions :** \n",
    "\n",
    "*Are their significant differences of hygiene scores between the community areas ?*\n",
    "\n",
    "*How is the evolution over time ?*\n",
    "  \n",
    "\n",
    "### A little study about Management\n",
    "\n",
    "Two datasets have been found, which contain the owner's et license's informations of Chicago establishments. It would be interesting to merge it with the first dataset in order to study the trends regarding the management of the establishments.\n",
    "  \n",
    "**Questions :**\n",
    "\n",
    "*Is their a relation between the number of establishments that an owner has and the hygiene scores obtained ?*\n",
    "\n",
    "*In which way a change of owner changes the hygiene score of an establishment ?*\n",
    "\n",
    "\n",
    "### Crime Score\n",
    "\n",
    "The Chicago Crime Report can be used in order to compute a `crime score` for each community area, following the same principle than in the first point. This way, it will be possible to compare the crime and hygiene scores according to the community areas.\n",
    "\n",
    "**Questions :**\n",
    "\n",
    "*Criminology domain*\n",
    "\n",
    "\n",
    "### Limits :\n",
    "\n",
    "An important point is to pay intention to the number of inspected establishments compared to the total number of establishments. It is certain than the variations of this ratio between the community areas has an impact on the results. An explanation of the variations should be purposed.\n",
    "In order to give a complete answer to the main research question, the uninspected establishments have to be taken into account.\n",
    "   \n",
    "\n",
    "### Definitions :\n",
    "\n",
    "Hygiene Rules : Food Code Rules\n",
    "\n",
    "Community Area :\n",
    "\n",
    "\n",
    "The purpose of the project is to help the consumer to easily choose where to eat in Chicago and to provide them an interactive and intuitive way to browse the different places offered to them. Also, it could help the Chicago department of Public Health’s Food Protection Program to adapt their methods relying on the situation described by the findings of the analysis (for example, if a prevention program should be proposed for a specific area or type of facility).\n",
    "\n",
    "\n",
    "---"
   ]
  },
  {
   "cell_type": "code",
   "execution_count": 563,
   "metadata": {},
   "outputs": [],
   "source": [
    "%matplotlib inline\n",
    "import pandas as pd\n",
    "import numpy as np\n",
    "import re\n",
    "from matplotlib.ticker import MaxNLocator\n",
    "import matplotlib.pyplot as plt\n",
    "import requests as req\n",
    "from bs4 import BeautifulSoup\n",
    "import seaborn as sns\n",
    "from shapely.geometry import Point\n",
    "from shapely.geometry.polygon import Polygon"
   ]
  },
  {
   "cell_type": "markdown",
   "metadata": {},
   "source": [
    "## 2. Preprocessing\n"
   ]
  },
  {
   "cell_type": "markdown",
   "metadata": {},
   "source": [
    "First a quick look at how the dataset is organized. "
   ]
  },
  {
   "cell_type": "code",
   "execution_count": 564,
   "metadata": {},
   "outputs": [
    {
     "data": {
      "text/html": [
       "<div>\n",
       "<style scoped>\n",
       "    .dataframe tbody tr th:only-of-type {\n",
       "        vertical-align: middle;\n",
       "    }\n",
       "\n",
       "    .dataframe tbody tr th {\n",
       "        vertical-align: top;\n",
       "    }\n",
       "\n",
       "    .dataframe thead th {\n",
       "        text-align: right;\n",
       "    }\n",
       "</style>\n",
       "<table border=\"1\" class=\"dataframe\">\n",
       "  <thead>\n",
       "    <tr style=\"text-align: right;\">\n",
       "      <th></th>\n",
       "      <th>Inspection ID</th>\n",
       "      <th>DBA Name</th>\n",
       "      <th>AKA Name</th>\n",
       "      <th>License #</th>\n",
       "      <th>Facility Type</th>\n",
       "      <th>Risk</th>\n",
       "      <th>Address</th>\n",
       "      <th>City</th>\n",
       "      <th>State</th>\n",
       "      <th>Zip</th>\n",
       "      <th>...</th>\n",
       "      <th>Results</th>\n",
       "      <th>Violations</th>\n",
       "      <th>Latitude</th>\n",
       "      <th>Longitude</th>\n",
       "      <th>Location</th>\n",
       "      <th>Historical Wards 2003-2015</th>\n",
       "      <th>Zip Codes</th>\n",
       "      <th>Community Areas</th>\n",
       "      <th>Census Tracts</th>\n",
       "      <th>Wards</th>\n",
       "    </tr>\n",
       "  </thead>\n",
       "  <tbody>\n",
       "    <tr>\n",
       "      <th>0</th>\n",
       "      <td>2320971</td>\n",
       "      <td>JUMPSTART EARLY LEARNING ACADEMY</td>\n",
       "      <td>JUMPSTART EARLY LEARNING ACADEMY</td>\n",
       "      <td>2589822.0</td>\n",
       "      <td>Children's Services Facility</td>\n",
       "      <td>Risk 1 (High)</td>\n",
       "      <td>7559 W ADDISON ST</td>\n",
       "      <td>CHICAGO</td>\n",
       "      <td>IL</td>\n",
       "      <td>60634.0</td>\n",
       "      <td>...</td>\n",
       "      <td>Pass w/ Conditions</td>\n",
       "      <td>5. PROCEDURES FOR RESPONDING TO VOMITING AND D...</td>\n",
       "      <td>41.945065</td>\n",
       "      <td>-87.816734</td>\n",
       "      <td>{'longitude': '41.945064857019986', 'latitude'...</td>\n",
       "      <td>NaN</td>\n",
       "      <td>NaN</td>\n",
       "      <td>NaN</td>\n",
       "      <td>NaN</td>\n",
       "      <td>NaN</td>\n",
       "    </tr>\n",
       "    <tr>\n",
       "      <th>1</th>\n",
       "      <td>2320918</td>\n",
       "      <td>BEEFSTEAK</td>\n",
       "      <td>BEEFSTEAK</td>\n",
       "      <td>2698445.0</td>\n",
       "      <td>Restaurant</td>\n",
       "      <td>Risk 1 (High)</td>\n",
       "      <td>303 E SUPERIOR ST</td>\n",
       "      <td>CHICAGO</td>\n",
       "      <td>IL</td>\n",
       "      <td>60611.0</td>\n",
       "      <td>...</td>\n",
       "      <td>Pass</td>\n",
       "      <td>39. CONTAMINATION PREVENTED DURING FOOD PREPAR...</td>\n",
       "      <td>41.895692</td>\n",
       "      <td>-87.620143</td>\n",
       "      <td>{'longitude': '41.895692401410514', 'latitude'...</td>\n",
       "      <td>NaN</td>\n",
       "      <td>NaN</td>\n",
       "      <td>NaN</td>\n",
       "      <td>NaN</td>\n",
       "      <td>NaN</td>\n",
       "    </tr>\n",
       "    <tr>\n",
       "      <th>2</th>\n",
       "      <td>2320986</td>\n",
       "      <td>BABA'S COFFEE</td>\n",
       "      <td>BABA'S COFFEE</td>\n",
       "      <td>2423353.0</td>\n",
       "      <td>Restaurant</td>\n",
       "      <td>Risk 1 (High)</td>\n",
       "      <td>5544-5546 N KEDZIE AVE</td>\n",
       "      <td>CHICAGO</td>\n",
       "      <td>IL</td>\n",
       "      <td>60625.0</td>\n",
       "      <td>...</td>\n",
       "      <td>No Entry</td>\n",
       "      <td>NaN</td>\n",
       "      <td>41.982582</td>\n",
       "      <td>-87.708996</td>\n",
       "      <td>{'longitude': '41.98258181784537', 'latitude':...</td>\n",
       "      <td>NaN</td>\n",
       "      <td>NaN</td>\n",
       "      <td>NaN</td>\n",
       "      <td>NaN</td>\n",
       "      <td>NaN</td>\n",
       "    </tr>\n",
       "  </tbody>\n",
       "</table>\n",
       "<p>3 rows × 22 columns</p>\n",
       "</div>"
      ],
      "text/plain": [
       "   Inspection ID                          DBA Name  \\\n",
       "0        2320971  JUMPSTART EARLY LEARNING ACADEMY   \n",
       "1        2320918                         BEEFSTEAK   \n",
       "2        2320986                     BABA'S COFFEE   \n",
       "\n",
       "                           AKA Name  License #                 Facility Type  \\\n",
       "0  JUMPSTART EARLY LEARNING ACADEMY  2589822.0  Children's Services Facility   \n",
       "1                         BEEFSTEAK  2698445.0                    Restaurant   \n",
       "2                     BABA'S COFFEE  2423353.0                    Restaurant   \n",
       "\n",
       "            Risk                  Address     City State      Zip  ...  \\\n",
       "0  Risk 1 (High)       7559 W ADDISON ST   CHICAGO    IL  60634.0  ...   \n",
       "1  Risk 1 (High)       303 E SUPERIOR ST   CHICAGO    IL  60611.0  ...   \n",
       "2  Risk 1 (High)  5544-5546 N KEDZIE AVE   CHICAGO    IL  60625.0  ...   \n",
       "\n",
       "              Results                                         Violations  \\\n",
       "0  Pass w/ Conditions  5. PROCEDURES FOR RESPONDING TO VOMITING AND D...   \n",
       "1                Pass  39. CONTAMINATION PREVENTED DURING FOOD PREPAR...   \n",
       "2            No Entry                                                NaN   \n",
       "\n",
       "    Latitude  Longitude                                           Location  \\\n",
       "0  41.945065 -87.816734  {'longitude': '41.945064857019986', 'latitude'...   \n",
       "1  41.895692 -87.620143  {'longitude': '41.895692401410514', 'latitude'...   \n",
       "2  41.982582 -87.708996  {'longitude': '41.98258181784537', 'latitude':...   \n",
       "\n",
       "   Historical Wards 2003-2015 Zip Codes  Community Areas  Census Tracts  Wards  \n",
       "0                         NaN       NaN              NaN            NaN    NaN  \n",
       "1                         NaN       NaN              NaN            NaN    NaN  \n",
       "2                         NaN       NaN              NaN            NaN    NaN  \n",
       "\n",
       "[3 rows x 22 columns]"
      ]
     },
     "execution_count": 564,
     "metadata": {},
     "output_type": "execute_result"
    }
   ],
   "source": [
    "eat_seat = pd.read_csv('food-inspections.csv',sep=',') #creation of the dataframe\n",
    "eat_seat.head(3)"
   ]
  },
  {
   "cell_type": "code",
   "execution_count": 565,
   "metadata": {},
   "outputs": [
    {
     "name": "stdout",
     "output_type": "stream",
     "text": [
      "<class 'pandas.core.frame.DataFrame'>\n",
      "RangeIndex: 195312 entries, 0 to 195311\n",
      "Data columns (total 22 columns):\n",
      "Inspection ID                 195312 non-null int64\n",
      "DBA Name                      195312 non-null object\n",
      "AKA Name                      192862 non-null object\n",
      "License #                     195295 non-null float64\n",
      "Facility Type                 190535 non-null object\n",
      "Risk                          195239 non-null object\n",
      "Address                       195312 non-null object\n",
      "City                          195173 non-null object\n",
      "State                         195270 non-null object\n",
      "Zip                           195261 non-null float64\n",
      "Inspection Date               195312 non-null object\n",
      "Inspection Type               195311 non-null object\n",
      "Results                       195312 non-null object\n",
      "Violations                    143530 non-null object\n",
      "Latitude                      194627 non-null float64\n",
      "Longitude                     194627 non-null float64\n",
      "Location                      194627 non-null object\n",
      "Historical Wards 2003-2015    0 non-null float64\n",
      "Zip Codes                     0 non-null float64\n",
      "Community Areas               0 non-null float64\n",
      "Census Tracts                 0 non-null float64\n",
      "Wards                         0 non-null float64\n",
      "dtypes: float64(9), int64(1), object(12)\n",
      "memory usage: 32.8+ MB\n"
     ]
    }
   ],
   "source": [
    "eat_seat.info()"
   ]
  },
  {
   "cell_type": "markdown",
   "metadata": {},
   "source": [
    "The dataset contains :\n",
    "- 195'312 entries\n",
    "- 22 columns (listed above)"
   ]
  },
  {
   "cell_type": "markdown",
   "metadata": {},
   "source": [
    "### 2.1 Columns Cleaning"
   ]
  },
  {
   "cell_type": "markdown",
   "metadata": {},
   "source": [
    "### Duplicates management\n",
    "\n",
    "To begin, it is primary to check if there are duplicates and, if so, decide how to handle them."
   ]
  },
  {
   "cell_type": "code",
   "execution_count": 566,
   "metadata": {},
   "outputs": [
    {
     "data": {
      "text/html": [
       "<div>\n",
       "<style scoped>\n",
       "    .dataframe tbody tr th:only-of-type {\n",
       "        vertical-align: middle;\n",
       "    }\n",
       "\n",
       "    .dataframe tbody tr th {\n",
       "        vertical-align: top;\n",
       "    }\n",
       "\n",
       "    .dataframe thead th {\n",
       "        text-align: right;\n",
       "    }\n",
       "</style>\n",
       "<table border=\"1\" class=\"dataframe\">\n",
       "  <thead>\n",
       "    <tr style=\"text-align: right;\">\n",
       "      <th></th>\n",
       "      <th>Inspection ID</th>\n",
       "      <th>DBA Name</th>\n",
       "      <th>AKA Name</th>\n",
       "      <th>License #</th>\n",
       "      <th>Facility Type</th>\n",
       "      <th>Risk</th>\n",
       "      <th>Address</th>\n",
       "      <th>City</th>\n",
       "      <th>State</th>\n",
       "      <th>Zip</th>\n",
       "      <th>...</th>\n",
       "      <th>Results</th>\n",
       "      <th>Violations</th>\n",
       "      <th>Latitude</th>\n",
       "      <th>Longitude</th>\n",
       "      <th>Location</th>\n",
       "      <th>Historical Wards 2003-2015</th>\n",
       "      <th>Zip Codes</th>\n",
       "      <th>Community Areas</th>\n",
       "      <th>Census Tracts</th>\n",
       "      <th>Wards</th>\n",
       "    </tr>\n",
       "  </thead>\n",
       "  <tbody>\n",
       "    <tr>\n",
       "      <th>9953</th>\n",
       "      <td>2282620</td>\n",
       "      <td>NATIVE FOODS CLARK STREET LLC</td>\n",
       "      <td>NATIVE FOODS CLARK STREET LLC</td>\n",
       "      <td>2283740.0</td>\n",
       "      <td>Restaurant</td>\n",
       "      <td>Risk 1 (High)</td>\n",
       "      <td>218 S CLARK ST</td>\n",
       "      <td>CHICAGO</td>\n",
       "      <td>IL</td>\n",
       "      <td>60604.0</td>\n",
       "      <td>...</td>\n",
       "      <td>Pass w/ Conditions</td>\n",
       "      <td>5. PROCEDURES FOR RESPONDING TO VOMITING AND D...</td>\n",
       "      <td>41.878815</td>\n",
       "      <td>-87.630950</td>\n",
       "      <td>{'longitude': '41.87881482219489', 'latitude':...</td>\n",
       "      <td>NaN</td>\n",
       "      <td>NaN</td>\n",
       "      <td>NaN</td>\n",
       "      <td>NaN</td>\n",
       "      <td>NaN</td>\n",
       "    </tr>\n",
       "    <tr>\n",
       "      <th>9958</th>\n",
       "      <td>2282553</td>\n",
       "      <td>LITTLE VINES CHILDCARE CENTER</td>\n",
       "      <td>LITTLE VINES CHILDCARE CENTER</td>\n",
       "      <td>2283491.0</td>\n",
       "      <td>Daycare Above and Under 2 Years</td>\n",
       "      <td>Risk 1 (High)</td>\n",
       "      <td>9600 S HALSTED ST</td>\n",
       "      <td>CHICAGO</td>\n",
       "      <td>IL</td>\n",
       "      <td>60628.0</td>\n",
       "      <td>...</td>\n",
       "      <td>Fail</td>\n",
       "      <td>3. MANAGEMENT, FOOD EMPLOYEE AND CONDITIONAL E...</td>\n",
       "      <td>41.719258</td>\n",
       "      <td>-87.643301</td>\n",
       "      <td>{'longitude': '41.71925798007173', 'latitude':...</td>\n",
       "      <td>NaN</td>\n",
       "      <td>NaN</td>\n",
       "      <td>NaN</td>\n",
       "      <td>NaN</td>\n",
       "      <td>NaN</td>\n",
       "    </tr>\n",
       "    <tr>\n",
       "      <th>9960</th>\n",
       "      <td>2282570</td>\n",
       "      <td>TRUENORTH CAFE</td>\n",
       "      <td>TRUENORTH CAFE</td>\n",
       "      <td>2583638.0</td>\n",
       "      <td>Restaurant</td>\n",
       "      <td>Risk 1 (High)</td>\n",
       "      <td>1323 E 57TH ST</td>\n",
       "      <td>CHICAGO</td>\n",
       "      <td>IL</td>\n",
       "      <td>60637.0</td>\n",
       "      <td>...</td>\n",
       "      <td>Fail</td>\n",
       "      <td>1. PERSON IN CHARGE PRESENT, DEMONSTRATES KNOW...</td>\n",
       "      <td>41.791363</td>\n",
       "      <td>-87.593863</td>\n",
       "      <td>{'longitude': '41.79136323943426', 'latitude':...</td>\n",
       "      <td>NaN</td>\n",
       "      <td>NaN</td>\n",
       "      <td>NaN</td>\n",
       "      <td>NaN</td>\n",
       "      <td>NaN</td>\n",
       "    </tr>\n",
       "  </tbody>\n",
       "</table>\n",
       "<p>3 rows × 22 columns</p>\n",
       "</div>"
      ],
      "text/plain": [
       "      Inspection ID                       DBA Name  \\\n",
       "9953        2282620  NATIVE FOODS CLARK STREET LLC   \n",
       "9958        2282553  LITTLE VINES CHILDCARE CENTER   \n",
       "9960        2282570                 TRUENORTH CAFE   \n",
       "\n",
       "                           AKA Name  License #  \\\n",
       "9953  NATIVE FOODS CLARK STREET LLC  2283740.0   \n",
       "9958  LITTLE VINES CHILDCARE CENTER  2283491.0   \n",
       "9960                 TRUENORTH CAFE  2583638.0   \n",
       "\n",
       "                        Facility Type           Risk             Address  \\\n",
       "9953                       Restaurant  Risk 1 (High)     218 S CLARK ST    \n",
       "9958  Daycare Above and Under 2 Years  Risk 1 (High)  9600 S HALSTED ST    \n",
       "9960                       Restaurant  Risk 1 (High)     1323 E 57TH ST    \n",
       "\n",
       "         City State      Zip  ...             Results  \\\n",
       "9953  CHICAGO    IL  60604.0  ...  Pass w/ Conditions   \n",
       "9958  CHICAGO    IL  60628.0  ...                Fail   \n",
       "9960  CHICAGO    IL  60637.0  ...                Fail   \n",
       "\n",
       "                                             Violations   Latitude  Longitude  \\\n",
       "9953  5. PROCEDURES FOR RESPONDING TO VOMITING AND D...  41.878815 -87.630950   \n",
       "9958  3. MANAGEMENT, FOOD EMPLOYEE AND CONDITIONAL E...  41.719258 -87.643301   \n",
       "9960  1. PERSON IN CHARGE PRESENT, DEMONSTRATES KNOW...  41.791363 -87.593863   \n",
       "\n",
       "                                               Location  \\\n",
       "9953  {'longitude': '41.87881482219489', 'latitude':...   \n",
       "9958  {'longitude': '41.71925798007173', 'latitude':...   \n",
       "9960  {'longitude': '41.79136323943426', 'latitude':...   \n",
       "\n",
       "      Historical Wards 2003-2015 Zip Codes  Community Areas  Census Tracts  \\\n",
       "9953                         NaN       NaN              NaN            NaN   \n",
       "9958                         NaN       NaN              NaN            NaN   \n",
       "9960                         NaN       NaN              NaN            NaN   \n",
       "\n",
       "      Wards  \n",
       "9953    NaN  \n",
       "9958    NaN  \n",
       "9960    NaN  \n",
       "\n",
       "[3 rows x 22 columns]"
      ]
     },
     "execution_count": 566,
     "metadata": {},
     "output_type": "execute_result"
    }
   ],
   "source": [
    "duplicates = eat_seat[eat_seat.duplicated(subset=None, keep=False)]\n",
    "duplicates.head(3)"
   ]
  },
  {
   "cell_type": "markdown",
   "metadata": {},
   "source": [
    "It is not realistic that two rows contain the exact same cells : two inspections cannot happen at the same time, the explanation is that one is the duplicate of the other.\n",
    "Considering this postulate, we can drop the duplicates. "
   ]
  },
  {
   "cell_type": "code",
   "execution_count": 567,
   "metadata": {},
   "outputs": [],
   "source": [
    "eat_seat = eat_seat.drop_duplicates()"
   ]
  },
  {
   "cell_type": "code",
   "execution_count": 568,
   "metadata": {},
   "outputs": [
    {
     "data": {
      "text/plain": [
       "195066"
      ]
     },
     "execution_count": 568,
     "metadata": {},
     "output_type": "execute_result"
    }
   ],
   "source": [
    "len(eat_seat)"
   ]
  },
  {
   "cell_type": "markdown",
   "metadata": {},
   "source": [
    "### Missing and useless values"
   ]
  },
  {
   "cell_type": "markdown",
   "metadata": {},
   "source": [
    "Now, we want to see which values are missing."
   ]
  },
  {
   "cell_type": "code",
   "execution_count": 569,
   "metadata": {},
   "outputs": [
    {
     "data": {
      "text/plain": [
       "Inspection ID                      0\n",
       "DBA Name                           0\n",
       "AKA Name                        2450\n",
       "License #                         17\n",
       "Facility Type                   4774\n",
       "Risk                              73\n",
       "Address                            0\n",
       "City                             138\n",
       "State                             42\n",
       "Zip                               50\n",
       "Inspection Date                    0\n",
       "Inspection Type                    1\n",
       "Results                            0\n",
       "Violations                     51732\n",
       "Latitude                         684\n",
       "Longitude                        684\n",
       "Location                         684\n",
       "Historical Wards 2003-2015    195066\n",
       "Zip Codes                     195066\n",
       "Community Areas               195066\n",
       "Census Tracts                 195066\n",
       "Wards                         195066\n",
       "dtype: int64"
      ]
     },
     "execution_count": 569,
     "metadata": {},
     "output_type": "execute_result"
    }
   ],
   "source": [
    "eat_seat.isnull().sum()"
   ]
  },
  {
   "cell_type": "code",
   "execution_count": 570,
   "metadata": {},
   "outputs": [
    {
     "data": {
      "image/png": "[encoded data removed]",
      "text/plain": [
       "<Figure size 432x288 with 1 Axes>"
      ]
     },
     "metadata": {
      "needs_background": "light"
     },
     "output_type": "display_data"
    }
   ],
   "source": [
    "preview = pd.DataFrame(eat_seat.isnull().sum()).plot.barh(title = 'Missing Values by Columns')"
   ]
  },
  {
   "cell_type": "markdown",
   "metadata": {},
   "source": [
    "As we can see, the columns `Historical Wards 2003-2015`, `Zip Codes`, `Community Areas`, `Census Tracts` and `Wards` are empty and will be dropped.\n",
    "\n",
    "We will only be using the `DBA Name` (the name under which the establishment is doing business ; DBA = doing business as), so we drop the `AKA Name` column too.\n",
    "\n",
    "Also, we will use the `Latitude` and `Longitude` in our analysis, so we can drop de `Location`, `Zip`, `City` and `State` columns too. `Address` column is kept because it can help us to notice some inconsistencies."
   ]
  },
  {
   "cell_type": "code",
   "execution_count": 571,
   "metadata": {},
   "outputs": [
    {
     "data": {
      "text/html": [
       "<div>\n",
       "<style scoped>\n",
       "    .dataframe tbody tr th:only-of-type {\n",
       "        vertical-align: middle;\n",
       "    }\n",
       "\n",
       "    .dataframe tbody tr th {\n",
       "        vertical-align: top;\n",
       "    }\n",
       "\n",
       "    .dataframe thead th {\n",
       "        text-align: right;\n",
       "    }\n",
       "</style>\n",
       "<table border=\"1\" class=\"dataframe\">\n",
       "  <thead>\n",
       "    <tr style=\"text-align: right;\">\n",
       "      <th></th>\n",
       "      <th>Inspection ID</th>\n",
       "      <th>DBA Name</th>\n",
       "      <th>License #</th>\n",
       "      <th>Facility Type</th>\n",
       "      <th>Risk</th>\n",
       "      <th>Address</th>\n",
       "      <th>Inspection Date</th>\n",
       "      <th>Inspection Type</th>\n",
       "      <th>Results</th>\n",
       "      <th>Violations</th>\n",
       "      <th>Latitude</th>\n",
       "      <th>Longitude</th>\n",
       "    </tr>\n",
       "  </thead>\n",
       "  <tbody>\n",
       "    <tr>\n",
       "      <th>0</th>\n",
       "      <td>2320971</td>\n",
       "      <td>JUMPSTART EARLY LEARNING ACADEMY</td>\n",
       "      <td>2589822.0</td>\n",
       "      <td>Children's Services Facility</td>\n",
       "      <td>Risk 1 (High)</td>\n",
       "      <td>7559 W ADDISON ST</td>\n",
       "      <td>2019-11-01T00:00:00.000</td>\n",
       "      <td>Canvass</td>\n",
       "      <td>Pass w/ Conditions</td>\n",
       "      <td>5. PROCEDURES FOR RESPONDING TO VOMITING AND D...</td>\n",
       "      <td>41.945065</td>\n",
       "      <td>-87.816734</td>\n",
       "    </tr>\n",
       "    <tr>\n",
       "      <th>1</th>\n",
       "      <td>2320918</td>\n",
       "      <td>BEEFSTEAK</td>\n",
       "      <td>2698445.0</td>\n",
       "      <td>Restaurant</td>\n",
       "      <td>Risk 1 (High)</td>\n",
       "      <td>303 E SUPERIOR ST</td>\n",
       "      <td>2019-11-01T00:00:00.000</td>\n",
       "      <td>License</td>\n",
       "      <td>Pass</td>\n",
       "      <td>39. CONTAMINATION PREVENTED DURING FOOD PREPAR...</td>\n",
       "      <td>41.895692</td>\n",
       "      <td>-87.620143</td>\n",
       "    </tr>\n",
       "  </tbody>\n",
       "</table>\n",
       "</div>"
      ],
      "text/plain": [
       "   Inspection ID                          DBA Name  License #  \\\n",
       "0        2320971  JUMPSTART EARLY LEARNING ACADEMY  2589822.0   \n",
       "1        2320918                         BEEFSTEAK  2698445.0   \n",
       "\n",
       "                  Facility Type           Risk             Address  \\\n",
       "0  Children's Services Facility  Risk 1 (High)  7559 W ADDISON ST    \n",
       "1                    Restaurant  Risk 1 (High)  303 E SUPERIOR ST    \n",
       "\n",
       "           Inspection Date Inspection Type             Results  \\\n",
       "0  2019-11-01T00:00:00.000         Canvass  Pass w/ Conditions   \n",
       "1  2019-11-01T00:00:00.000         License                Pass   \n",
       "\n",
       "                                          Violations   Latitude  Longitude  \n",
       "0  5. PROCEDURES FOR RESPONDING TO VOMITING AND D...  41.945065 -87.816734  \n",
       "1  39. CONTAMINATION PREVENTED DURING FOOD PREPAR...  41.895692 -87.620143  "
      ]
     },
     "execution_count": 571,
     "metadata": {},
     "output_type": "execute_result"
    }
   ],
   "source": [
    "eat_seat = eat_seat.drop(columns = ['AKA Name','Historical Wards 2003-2015', 'Zip Codes', 'Community Areas',\\\n",
    "                                    'Census Tracts', 'Location', 'Wards', 'City', 'State', 'Zip'])\n",
    "eat_seat.head(2)"
   ]
  },
  {
   "cell_type": "markdown",
   "metadata": {},
   "source": [
    "#### Assistants' comments :\n",
    "•\tIf you want to cast columns to a certain type, prefer\n",
    "\n",
    "pandas.to_numeric\n",
    "\n",
    "**J'ai essayé mais ça n'enlève pas le .0 qui est notre seul objectif maintenant, du coup petit fonction qui retourne ce qu'on veut. Mais ça joue pas je sais pas pourquoi**\n",
    " \n",
    "\n",
    "same for using findall (pandas.Series.str.findall)"
   ]
  },
  {
   "cell_type": "markdown",
   "metadata": {},
   "source": [
    "### Type Casting\n",
    "\n",
    "In order to standardize the data, the numbers in the `License` column are converted into integer."
   ]
  },
  {
   "cell_type": "code",
   "execution_count": 572,
   "metadata": {},
   "outputs": [],
   "source": [
    "eat_seat['License #'] = pd.to_numeric(eat_seat['License #'], downcast= 'integer')"
   ]
  },
  {
   "cell_type": "code",
   "execution_count": 573,
   "metadata": {},
   "outputs": [],
   "source": [
    "def nbestethic(nb) :\n",
    "    try :\n",
    "        return int(nb)\n",
    "    except :\n",
    "        print(nb)\n",
    "        return nb"
   ]
  },
  {
   "cell_type": "code",
   "execution_count": 574,
   "metadata": {},
   "outputs": [
    {
     "name": "stdout",
     "output_type": "stream",
     "text": [
      "nan\n",
      "nan\n",
      "nan\n",
      "nan\n",
      "nan\n",
      "nan\n",
      "nan\n",
      "nan\n",
      "nan\n",
      "nan\n",
      "nan\n",
      "nan\n",
      "nan\n",
      "nan\n",
      "nan\n",
      "nan\n",
      "nan\n"
     ]
    },
    {
     "data": {
      "text/html": [
       "<div>\n",
       "<style scoped>\n",
       "    .dataframe tbody tr th:only-of-type {\n",
       "        vertical-align: middle;\n",
       "    }\n",
       "\n",
       "    .dataframe tbody tr th {\n",
       "        vertical-align: top;\n",
       "    }\n",
       "\n",
       "    .dataframe thead th {\n",
       "        text-align: right;\n",
       "    }\n",
       "</style>\n",
       "<table border=\"1\" class=\"dataframe\">\n",
       "  <thead>\n",
       "    <tr style=\"text-align: right;\">\n",
       "      <th></th>\n",
       "      <th>Inspection ID</th>\n",
       "      <th>DBA Name</th>\n",
       "      <th>License #</th>\n",
       "      <th>Facility Type</th>\n",
       "      <th>Risk</th>\n",
       "      <th>Address</th>\n",
       "      <th>Inspection Date</th>\n",
       "      <th>Inspection Type</th>\n",
       "      <th>Results</th>\n",
       "      <th>Violations</th>\n",
       "      <th>Latitude</th>\n",
       "      <th>Longitude</th>\n",
       "    </tr>\n",
       "  </thead>\n",
       "  <tbody>\n",
       "    <tr>\n",
       "      <th>0</th>\n",
       "      <td>2320971</td>\n",
       "      <td>JUMPSTART EARLY LEARNING ACADEMY</td>\n",
       "      <td>2589822.0</td>\n",
       "      <td>Children's Services Facility</td>\n",
       "      <td>Risk 1 (High)</td>\n",
       "      <td>7559 W ADDISON ST</td>\n",
       "      <td>2019-11-01T00:00:00.000</td>\n",
       "      <td>Canvass</td>\n",
       "      <td>Pass w/ Conditions</td>\n",
       "      <td>5. PROCEDURES FOR RESPONDING TO VOMITING AND D...</td>\n",
       "      <td>41.945065</td>\n",
       "      <td>-87.816734</td>\n",
       "    </tr>\n",
       "    <tr>\n",
       "      <th>1</th>\n",
       "      <td>2320918</td>\n",
       "      <td>BEEFSTEAK</td>\n",
       "      <td>2698445.0</td>\n",
       "      <td>Restaurant</td>\n",
       "      <td>Risk 1 (High)</td>\n",
       "      <td>303 E SUPERIOR ST</td>\n",
       "      <td>2019-11-01T00:00:00.000</td>\n",
       "      <td>License</td>\n",
       "      <td>Pass</td>\n",
       "      <td>39. CONTAMINATION PREVENTED DURING FOOD PREPAR...</td>\n",
       "      <td>41.895692</td>\n",
       "      <td>-87.620143</td>\n",
       "    </tr>\n",
       "  </tbody>\n",
       "</table>\n",
       "</div>"
      ],
      "text/plain": [
       "   Inspection ID                          DBA Name  License #  \\\n",
       "0        2320971  JUMPSTART EARLY LEARNING ACADEMY  2589822.0   \n",
       "1        2320918                         BEEFSTEAK  2698445.0   \n",
       "\n",
       "                  Facility Type           Risk             Address  \\\n",
       "0  Children's Services Facility  Risk 1 (High)  7559 W ADDISON ST    \n",
       "1                    Restaurant  Risk 1 (High)  303 E SUPERIOR ST    \n",
       "\n",
       "           Inspection Date Inspection Type             Results  \\\n",
       "0  2019-11-01T00:00:00.000         Canvass  Pass w/ Conditions   \n",
       "1  2019-11-01T00:00:00.000         License                Pass   \n",
       "\n",
       "                                          Violations   Latitude  Longitude  \n",
       "0  5. PROCEDURES FOR RESPONDING TO VOMITING AND D...  41.945065 -87.816734  \n",
       "1  39. CONTAMINATION PREVENTED DURING FOOD PREPAR...  41.895692 -87.620143  "
      ]
     },
     "execution_count": 574,
     "metadata": {},
     "output_type": "execute_result"
    }
   ],
   "source": [
    "eat_seat['License #'] = eat_seat['License #'].apply(nbestethic)\n",
    "eat_seat.head(2)"
   ]
  },
  {
   "cell_type": "markdown",
   "metadata": {},
   "source": [
    "### Inspection date and Risk"
   ]
  },
  {
   "cell_type": "markdown",
   "metadata": {},
   "source": [
    "There are also adjustments to make in the following columns, because the formats can be optimized :\n",
    "\n",
    "* In `Inspection Date`, only the day will be kept, not the time of day that is actually not given\n",
    "* In `Risk`, only the number will remain"
   ]
  },
  {
   "cell_type": "code",
   "execution_count": 575,
   "metadata": {},
   "outputs": [],
   "source": [
    "#pandas.to_datetime(arg, errors='raise', dayfirst=False, yearfirst=False, utc=None, box=True, \n",
    "#format=None, exact=True, unit=None, infer_datetime_format=False, origin='unix', cache=True)\n",
    "\n",
    "eat_seat['Inspection Date'] = eat_seat['Inspection Date'].apply(lambda x:x.split('T')[0])"
   ]
  },
  {
   "cell_type": "code",
   "execution_count": 576,
   "metadata": {},
   "outputs": [],
   "source": [
    "from datetime import datetime, date, time"
   ]
  },
  {
   "cell_type": "code",
   "execution_count": 577,
   "metadata": {},
   "outputs": [],
   "source": [
    "eat_seat['Inspection Date'] = eat_seat['Inspection Date'].apply(lambda x:datetime.strptime(x, '%Y-%m-%d'))"
   ]
  },
  {
   "cell_type": "markdown",
   "metadata": {},
   "source": [
    "For the `Risk` column, we first want to check what types of risk are listed."
   ]
  },
  {
   "cell_type": "code",
   "execution_count": 578,
   "metadata": {},
   "outputs": [
    {
     "data": {
      "text/plain": [
       "array(['Risk 1 (High)', 'Risk 2 (Medium)', 'Risk 3 (Low)', nan, 'All'],\n",
       "      dtype=object)"
      ]
     },
     "execution_count": 578,
     "metadata": {},
     "output_type": "execute_result"
    }
   ],
   "source": [
    "eat_seat.Risk.unique()"
   ]
  },
  {
   "cell_type": "markdown",
   "metadata": {},
   "source": [
    "We will replace **All** and **High Risk** by *3*, **Medium Risk** by *2* and **Low Risk** by *1*."
   ]
  },
  {
   "cell_type": "code",
   "execution_count": 579,
   "metadata": {},
   "outputs": [
    {
     "data": {
      "text/html": [
       "<div>\n",
       "<style scoped>\n",
       "    .dataframe tbody tr th:only-of-type {\n",
       "        vertical-align: middle;\n",
       "    }\n",
       "\n",
       "    .dataframe tbody tr th {\n",
       "        vertical-align: top;\n",
       "    }\n",
       "\n",
       "    .dataframe thead th {\n",
       "        text-align: right;\n",
       "    }\n",
       "</style>\n",
       "<table border=\"1\" class=\"dataframe\">\n",
       "  <thead>\n",
       "    <tr style=\"text-align: right;\">\n",
       "      <th></th>\n",
       "      <th>Inspection ID</th>\n",
       "      <th>DBA Name</th>\n",
       "      <th>License #</th>\n",
       "      <th>Facility Type</th>\n",
       "      <th>Risk</th>\n",
       "      <th>Address</th>\n",
       "      <th>Inspection Date</th>\n",
       "      <th>Inspection Type</th>\n",
       "      <th>Results</th>\n",
       "      <th>Violations</th>\n",
       "      <th>Latitude</th>\n",
       "      <th>Longitude</th>\n",
       "    </tr>\n",
       "  </thead>\n",
       "  <tbody>\n",
       "    <tr>\n",
       "      <th>0</th>\n",
       "      <td>2320971</td>\n",
       "      <td>JUMPSTART EARLY LEARNING ACADEMY</td>\n",
       "      <td>2589822.0</td>\n",
       "      <td>Children's Services Facility</td>\n",
       "      <td>3.0</td>\n",
       "      <td>7559 W ADDISON ST</td>\n",
       "      <td>2019-11-01</td>\n",
       "      <td>Canvass</td>\n",
       "      <td>Pass w/ Conditions</td>\n",
       "      <td>5. PROCEDURES FOR RESPONDING TO VOMITING AND D...</td>\n",
       "      <td>41.945065</td>\n",
       "      <td>-87.816734</td>\n",
       "    </tr>\n",
       "    <tr>\n",
       "      <th>1</th>\n",
       "      <td>2320918</td>\n",
       "      <td>BEEFSTEAK</td>\n",
       "      <td>2698445.0</td>\n",
       "      <td>Restaurant</td>\n",
       "      <td>3.0</td>\n",
       "      <td>303 E SUPERIOR ST</td>\n",
       "      <td>2019-11-01</td>\n",
       "      <td>License</td>\n",
       "      <td>Pass</td>\n",
       "      <td>39. CONTAMINATION PREVENTED DURING FOOD PREPAR...</td>\n",
       "      <td>41.895692</td>\n",
       "      <td>-87.620143</td>\n",
       "    </tr>\n",
       "    <tr>\n",
       "      <th>2</th>\n",
       "      <td>2320986</td>\n",
       "      <td>BABA'S COFFEE</td>\n",
       "      <td>2423353.0</td>\n",
       "      <td>Restaurant</td>\n",
       "      <td>3.0</td>\n",
       "      <td>5544-5546 N KEDZIE AVE</td>\n",
       "      <td>2019-11-01</td>\n",
       "      <td>Canvass</td>\n",
       "      <td>No Entry</td>\n",
       "      <td>NaN</td>\n",
       "      <td>41.982582</td>\n",
       "      <td>-87.708996</td>\n",
       "    </tr>\n",
       "  </tbody>\n",
       "</table>\n",
       "</div>"
      ],
      "text/plain": [
       "   Inspection ID                          DBA Name  License #  \\\n",
       "0        2320971  JUMPSTART EARLY LEARNING ACADEMY  2589822.0   \n",
       "1        2320918                         BEEFSTEAK  2698445.0   \n",
       "2        2320986                     BABA'S COFFEE  2423353.0   \n",
       "\n",
       "                  Facility Type  Risk                  Address  \\\n",
       "0  Children's Services Facility   3.0       7559 W ADDISON ST    \n",
       "1                    Restaurant   3.0       303 E SUPERIOR ST    \n",
       "2                    Restaurant   3.0  5544-5546 N KEDZIE AVE    \n",
       "\n",
       "  Inspection Date Inspection Type             Results  \\\n",
       "0      2019-11-01         Canvass  Pass w/ Conditions   \n",
       "1      2019-11-01         License                Pass   \n",
       "2      2019-11-01         Canvass            No Entry   \n",
       "\n",
       "                                          Violations   Latitude  Longitude  \n",
       "0  5. PROCEDURES FOR RESPONDING TO VOMITING AND D...  41.945065 -87.816734  \n",
       "1  39. CONTAMINATION PREVENTED DURING FOOD PREPAR...  41.895692 -87.620143  \n",
       "2                                                NaN  41.982582 -87.708996  "
      ]
     },
     "execution_count": 579,
     "metadata": {},
     "output_type": "execute_result"
    }
   ],
   "source": [
    "eat_seat['Risk'] = eat_seat['Risk'].replace({'All':3, 'Risk 1 (High)':3, 'Risk 2 (Medium)':2, 'Risk 3 (Low)':1})\n",
    "eat_seat['Risk'] = pd.to_numeric(eat_seat['Risk'], downcast= 'integer')\n",
    "eat_seat.head(3)"
   ]
  },
  {
   "cell_type": "markdown",
   "metadata": {},
   "source": [
    "### 2.2 Facilities of interest Selection"
   ]
  },
  {
   "cell_type": "markdown",
   "metadata": {},
   "source": [
    "Then, we want to put the different facility types in categories that make sense for our project."
   ]
  },
  {
   "cell_type": "code",
   "execution_count": 580,
   "metadata": {},
   "outputs": [],
   "source": [
    "#df['Facility Type'].unique()"
   ]
  },
  {
   "cell_type": "markdown",
   "metadata": {},
   "source": [
    "This command returns a list which contains the different facility types found in the `Facility Type column`. A lot of different types of facility are found in the data.\n",
    "\n",
    "First, we thought about only select the \"private\" establishments, where it is possible to eat a main course (for example, the places where you can only eat an ice cream are deleted of our list). They all are categorized in order to be compared with each other.\n"
   ]
  },
  {
   "cell_type": "code",
   "execution_count": 581,
   "metadata": {},
   "outputs": [],
   "source": [
    "public_dic = {'restaurant' : ['Restaurant', 'DINING HALL', 'TENT RSTAURANT'], \\\n",
    "              'grocery_restaurant' : ['Grocery & Restaurant', 'GROCERY& RESTAURANT', 'GROCERY/RESTAURANT',\\\n",
    "                                    'GROCERY/ RESTAURANT', 'GROCERY STORE/ RESTAURANT', 'GROCERY & RESTAURANT',\\\n",
    "                                    'RESTAURANT/GROCERY', 'grocery & restaurant', 'RESTAURANT/GROCERY STORE',\\\n",
    "                                    'GROCERY/TAQUERIA', 'GAS STATION/RESTAURANT'],\\\n",
    "              'banquet' : ['LOUNGE/BANQUET HALL', 'BANQUET', 'Banquet Hall', 'BANQUET FACILITY', 'banquet hall',\\\n",
    "                         'banquets', 'Banquet Dining',  'Banquet/kitchen','RESTAURANT.BANQUET HALLS',\\\n",
    "                         'BANQUET HALL', 'Banquet', 'BOWLING LANES/BANQUETS'], \\\n",
    "              'rooftop_restaurant' : ['Wrigley Roof Top', 'REST/ROOFTOP'],\\\n",
    "              'bar_restaurant' : ['RESTAURANT/BAR', 'RESTUARANT AND BAR', 'BAR/GRILL', 'RESTAURANT/BAR/THEATER',\\\n",
    "                                'JUICE AND SALAD BAR', 'SUSHI COUNTER', 'TAVERN/RESTAURANT', 'tavern/restaurant',\\\n",
    "                                'TAVERN GRILL'], \\\n",
    "              'bakery_restaurant' : ['BAKERY/ RESTAURANT', 'bakery/restaurant', 'RESTAURANT/BAKERY'], \\\n",
    "              'liquor_restaurant' : ['RESTAURANT AND LIQUOR', 'RESTAURANT/LIQUOR'], \\\n",
    "              'catering' : ['CATERING/CAFE', 'Catering'], \\\n",
    "              'golden_diner' : ['Golden Diner']}"
   ]
  },
  {
   "cell_type": "code",
   "execution_count": 582,
   "metadata": {},
   "outputs": [
    {
     "data": {
      "text/plain": [
       "63"
      ]
     },
     "execution_count": 582,
     "metadata": {},
     "output_type": "execute_result"
    }
   ],
   "source": [
    "facilitytype = 'BANQUET'\n",
    "len(eat_seat[eat_seat['Facility Type'] == facilitytype])"
   ]
  },
  {
   "cell_type": "markdown",
   "metadata": {},
   "source": [
    "This command returns the number of occurencs of the `Facility Type` inputed. \n",
    "\n",
    "With trying different types previously categorized and listed in the `public_dic` dictionary we have noted that the results were too distant to conduct a meaningful analysis. That's why we then decided to also select \"public\" establishments like school cafeterias and hospitals. It could be interesting to compare private and public inspection results.\n"
   ]
  },
  {
   "cell_type": "code",
   "execution_count": 583,
   "metadata": {},
   "outputs": [],
   "source": [
    "private_dic = {'daycare' : ['Daycare Above and Under 2 Years', 'Daycare (2 - 6 Years)', 'Daycare Combo 1586',\\\n",
    "                          'Daycare (Under 2 Years)', 'DAYCARE 2 YRS TO 12 YRS', 'Daycare Night', 'DAY CARE 2-14',\\\n",
    "                          'Daycare (2 Years)', 'DAYCARE', 'ADULT DAYCARE', '15 monts to 5 years old', 'youth housing',\\\n",
    "                          'DAYCARE 1586', 'DAYCARE COMBO', '1584-DAY CARE ABOVE 2 YEARS', 'CHURCH/DAY CARE', 'DAY CARE',\\\n",
    "                          'DAYCARE 6 WKS-5YRS', 'DAY CARE 1023', 'DAYCARE 2-6, UNDER 6', 'Day Care Combo (1586)'], \\\n",
    "               'school' : ['SCHOOL', 'School', 'PRIVATE SCHOOL', 'AFTER SCHOOL PROGRAM', 'COLLEGE',\\\n",
    "                         'BEFORE AND AFTER SCHOOL PROGRAM', 'Private School', 'TEACHING SCHOOL',\\\n",
    "                         'PUBLIC SHCOOL', 'CHARTER SCHOOL CAFETERIA', 'CAFETERIA', 'Cafeteria', 'cafeteria',\\\n",
    "                         'UNIVERSITY CAFETERIA', 'PREP INSIDE SCHOOL', 'CHARTER SCHOOL', 'school cafeteria',\\\n",
    "                         'CHARTER SCHOOL/CAFETERIA', 'School Cafeteria', 'ALTERNATIVE SCHOOL', 'CITY OF CHICAGO COLLEGE',\\\n",
    "                         'after school program', 'CHURCH/AFTER SCHOOL PROGRAM', 'AFTER SCHOOL CARE'], \\\n",
    "               'childrens_services' : [\"Children's Services Facility\", 'CHILDRENS SERVICES FACILITY', \\\n",
    "                                     \"CHILDERN'S SERVICE FACILITY\", \"1023 CHILDREN'S SERVICES FACILITY\", \\\n",
    "                                     \"1023 CHILDERN'S SERVICES FACILITY\", \"1023-CHILDREN'S SERVICES FACILITY\", \\\n",
    "                                     \"1023 CHILDERN'S SERVICE FACILITY\", \"1023 CHILDERN'S SERVICE S FACILITY\", \\\n",
    "                                     'CHILDERN ACTIVITY FACILITY', \"CHILDERN'S SERVICES  FACILITY\", '1023'], \\\n",
    "               'adultcare' : ['Long Term Care', 'REHAB CENTER', 'Hospital', 'ASSISTED LIVING', 'SENIOR DAY CARE',\\\n",
    "                            'Assisted Living', 'NURSING HOME', 'ASSISTED LIVING FACILITY', 'SUPPORTIVE LIVING FACILITY',\\\n",
    "                            'Assisted Living Senior Care', 'Adult Family Care Center', '1005 NURSING HOME', \\\n",
    "                            'Long-Term Care Facility', 'LONG TERM CARE FACILITY', 'ASSISSTED LIVING',\\\n",
    "                            'Long-Term Care','Long Term Care Facility', 'VFW HALL']}"
   ]
  },
  {
   "cell_type": "code",
   "execution_count": 584,
   "metadata": {},
   "outputs": [],
   "source": [
    "total_dic = {**public_dic , **private_dic}"
   ]
  },
  {
   "cell_type": "code",
   "execution_count": 585,
   "metadata": {},
   "outputs": [],
   "source": [
    "#inverting the dict \n",
    "facilities = {}\n",
    "for key in total_dic :\n",
    "    for facility in total_dic[key] :\n",
    "        facilities[facility] = key"
   ]
  },
  {
   "cell_type": "code",
   "execution_count": 586,
   "metadata": {},
   "outputs": [
    {
     "data": {
      "text/html": [
       "<div>\n",
       "<style scoped>\n",
       "    .dataframe tbody tr th:only-of-type {\n",
       "        vertical-align: middle;\n",
       "    }\n",
       "\n",
       "    .dataframe tbody tr th {\n",
       "        vertical-align: top;\n",
       "    }\n",
       "\n",
       "    .dataframe thead th {\n",
       "        text-align: right;\n",
       "    }\n",
       "</style>\n",
       "<table border=\"1\" class=\"dataframe\">\n",
       "  <thead>\n",
       "    <tr style=\"text-align: right;\">\n",
       "      <th></th>\n",
       "      <th>FacilityGroup</th>\n",
       "    </tr>\n",
       "  </thead>\n",
       "  <tbody>\n",
       "    <tr>\n",
       "      <th>Restaurant</th>\n",
       "      <td>restaurant</td>\n",
       "    </tr>\n",
       "    <tr>\n",
       "      <th>DINING HALL</th>\n",
       "      <td>restaurant</td>\n",
       "    </tr>\n",
       "    <tr>\n",
       "      <th>TENT RSTAURANT</th>\n",
       "      <td>restaurant</td>\n",
       "    </tr>\n",
       "  </tbody>\n",
       "</table>\n",
       "</div>"
      ],
      "text/plain": [
       "               FacilityGroup\n",
       "Restaurant        restaurant\n",
       "DINING HALL       restaurant\n",
       "TENT RSTAURANT    restaurant"
      ]
     },
     "execution_count": 586,
     "metadata": {},
     "output_type": "execute_result"
    }
   ],
   "source": [
    "facilitygroups = pd.DataFrame(data = facilities.values(), index=facilities.keys(), columns = ['FacilityGroup'])\n",
    "facilitygroups.head(3)"
   ]
  },
  {
   "cell_type": "code",
   "execution_count": 587,
   "metadata": {},
   "outputs": [],
   "source": [
    "facilitygroups.index.name = 'Facility Type'"
   ]
  },
  {
   "cell_type": "code",
   "execution_count": 588,
   "metadata": {},
   "outputs": [
    {
     "data": {
      "text/html": [
       "<div>\n",
       "<style scoped>\n",
       "    .dataframe tbody tr th:only-of-type {\n",
       "        vertical-align: middle;\n",
       "    }\n",
       "\n",
       "    .dataframe tbody tr th {\n",
       "        vertical-align: top;\n",
       "    }\n",
       "\n",
       "    .dataframe thead th {\n",
       "        text-align: right;\n",
       "    }\n",
       "</style>\n",
       "<table border=\"1\" class=\"dataframe\">\n",
       "  <thead>\n",
       "    <tr style=\"text-align: right;\">\n",
       "      <th></th>\n",
       "      <th>Inspection ID</th>\n",
       "      <th>DBA Name</th>\n",
       "      <th>License #</th>\n",
       "      <th>Facility Type</th>\n",
       "      <th>Risk</th>\n",
       "      <th>Address</th>\n",
       "      <th>Inspection Date</th>\n",
       "      <th>Inspection Type</th>\n",
       "      <th>Results</th>\n",
       "      <th>Violations</th>\n",
       "      <th>Latitude</th>\n",
       "      <th>Longitude</th>\n",
       "      <th>FacilityGroup</th>\n",
       "    </tr>\n",
       "  </thead>\n",
       "  <tbody>\n",
       "    <tr>\n",
       "      <th>0</th>\n",
       "      <td>2320971</td>\n",
       "      <td>JUMPSTART EARLY LEARNING ACADEMY</td>\n",
       "      <td>2589822.0</td>\n",
       "      <td>Children's Services Facility</td>\n",
       "      <td>3.0</td>\n",
       "      <td>7559 W ADDISON ST</td>\n",
       "      <td>2019-11-01</td>\n",
       "      <td>Canvass</td>\n",
       "      <td>Pass w/ Conditions</td>\n",
       "      <td>5. PROCEDURES FOR RESPONDING TO VOMITING AND D...</td>\n",
       "      <td>41.945065</td>\n",
       "      <td>-87.816734</td>\n",
       "      <td>childrens_services</td>\n",
       "    </tr>\n",
       "    <tr>\n",
       "      <th>1</th>\n",
       "      <td>2320944</td>\n",
       "      <td>ACADEMY OF CREATIVE THINKING, INC.</td>\n",
       "      <td>2308857.0</td>\n",
       "      <td>Children's Services Facility</td>\n",
       "      <td>3.0</td>\n",
       "      <td>4200 N Central AVE</td>\n",
       "      <td>2019-11-01</td>\n",
       "      <td>Canvass</td>\n",
       "      <td>Pass w/ Conditions</td>\n",
       "      <td>10. ADEQUATE HANDWASHING SINKS PROPERLY SUPPLI...</td>\n",
       "      <td>41.956874</td>\n",
       "      <td>-87.767272</td>\n",
       "      <td>childrens_services</td>\n",
       "    </tr>\n",
       "    <tr>\n",
       "      <th>2</th>\n",
       "      <td>2320896</td>\n",
       "      <td>LITTLE ACHIEVERS ACADEMY</td>\n",
       "      <td>2216050.0</td>\n",
       "      <td>Children's Services Facility</td>\n",
       "      <td>3.0</td>\n",
       "      <td>3801 W DIVERSEY AVE</td>\n",
       "      <td>2019-10-31</td>\n",
       "      <td>Canvass</td>\n",
       "      <td>Fail</td>\n",
       "      <td>3. MANAGEMENT, FOOD EMPLOYEE AND CONDITIONAL E...</td>\n",
       "      <td>41.931741</td>\n",
       "      <td>-87.722146</td>\n",
       "      <td>childrens_services</td>\n",
       "    </tr>\n",
       "  </tbody>\n",
       "</table>\n",
       "</div>"
      ],
      "text/plain": [
       "   Inspection ID                            DBA Name  License #  \\\n",
       "0        2320971    JUMPSTART EARLY LEARNING ACADEMY  2589822.0   \n",
       "1        2320944  ACADEMY OF CREATIVE THINKING, INC.  2308857.0   \n",
       "2        2320896            LITTLE ACHIEVERS ACADEMY  2216050.0   \n",
       "\n",
       "                  Facility Type  Risk               Address Inspection Date  \\\n",
       "0  Children's Services Facility   3.0    7559 W ADDISON ST       2019-11-01   \n",
       "1  Children's Services Facility   3.0   4200 N Central AVE       2019-11-01   \n",
       "2  Children's Services Facility   3.0  3801 W DIVERSEY AVE       2019-10-31   \n",
       "\n",
       "  Inspection Type             Results  \\\n",
       "0         Canvass  Pass w/ Conditions   \n",
       "1         Canvass  Pass w/ Conditions   \n",
       "2         Canvass                Fail   \n",
       "\n",
       "                                          Violations   Latitude  Longitude  \\\n",
       "0  5. PROCEDURES FOR RESPONDING TO VOMITING AND D...  41.945065 -87.816734   \n",
       "1  10. ADEQUATE HANDWASHING SINKS PROPERLY SUPPLI...  41.956874 -87.767272   \n",
       "2  3. MANAGEMENT, FOOD EMPLOYEE AND CONDITIONAL E...  41.931741 -87.722146   \n",
       "\n",
       "        FacilityGroup  \n",
       "0  childrens_services  \n",
       "1  childrens_services  \n",
       "2  childrens_services  "
      ]
     },
     "execution_count": 588,
     "metadata": {},
     "output_type": "execute_result"
    }
   ],
   "source": [
    "#pandas.merge(left, right, how='inner', on=None, left_on=None, right_on=None, left_index=False, \n",
    "#             right_index=False, sort=False, suffixes=('_x', '_y'), copy=True, indicator=False, validate=None)\n",
    "\n",
    "eat_seat = pd.merge(eat_seat, facilitygroups, on = ['Facility Type'])\n",
    "eat_seat.head(3)"
   ]
  },
  {
   "cell_type": "markdown",
   "metadata": {},
   "source": [
    "### Non-defined licenses numbers\n",
    "\n",
    "There are also missing license numbers, corresponding to the *nan* printed in the last output. The following list displays the names of the establishments where the license number is missing."
   ]
  },
  {
   "cell_type": "code",
   "execution_count": 589,
   "metadata": {},
   "outputs": [
    {
     "data": {
      "text/html": [
       "<div>\n",
       "<style scoped>\n",
       "    .dataframe tbody tr th:only-of-type {\n",
       "        vertical-align: middle;\n",
       "    }\n",
       "\n",
       "    .dataframe tbody tr th {\n",
       "        vertical-align: top;\n",
       "    }\n",
       "\n",
       "    .dataframe thead th {\n",
       "        text-align: right;\n",
       "    }\n",
       "</style>\n",
       "<table border=\"1\" class=\"dataframe\">\n",
       "  <thead>\n",
       "    <tr style=\"text-align: right;\">\n",
       "      <th></th>\n",
       "      <th>Inspection ID</th>\n",
       "      <th>DBA Name</th>\n",
       "      <th>License #</th>\n",
       "      <th>Facility Type</th>\n",
       "      <th>Risk</th>\n",
       "      <th>Address</th>\n",
       "      <th>Inspection Date</th>\n",
       "      <th>Inspection Type</th>\n",
       "      <th>Results</th>\n",
       "      <th>Violations</th>\n",
       "      <th>Latitude</th>\n",
       "      <th>Longitude</th>\n",
       "      <th>FacilityGroup</th>\n",
       "    </tr>\n",
       "  </thead>\n",
       "  <tbody>\n",
       "    <tr>\n",
       "      <th>6053</th>\n",
       "      <td>2303443</td>\n",
       "      <td>SUBWAY SANDWICHES</td>\n",
       "      <td>0.0</td>\n",
       "      <td>Restaurant</td>\n",
       "      <td>3.0</td>\n",
       "      <td>3951 N KIMBALL AVE</td>\n",
       "      <td>2019-07-22</td>\n",
       "      <td>Canvass</td>\n",
       "      <td>Fail</td>\n",
       "      <td>2. CITY OF CHICAGO FOOD SERVICE SANITATION CER...</td>\n",
       "      <td>41.953544</td>\n",
       "      <td>-87.712743</td>\n",
       "      <td>restaurant</td>\n",
       "    </tr>\n",
       "    <tr>\n",
       "      <th>6718</th>\n",
       "      <td>2300450</td>\n",
       "      <td>SUBWAY</td>\n",
       "      <td>0.0</td>\n",
       "      <td>Restaurant</td>\n",
       "      <td>3.0</td>\n",
       "      <td>4771 N LINCOLN AVE</td>\n",
       "      <td>2019-06-28</td>\n",
       "      <td>Canvass</td>\n",
       "      <td>Out of Business</td>\n",
       "      <td>NaN</td>\n",
       "      <td>41.968506</td>\n",
       "      <td>-87.688338</td>\n",
       "      <td>restaurant</td>\n",
       "    </tr>\n",
       "    <tr>\n",
       "      <th>7090</th>\n",
       "      <td>2293900</td>\n",
       "      <td>SUBWAY</td>\n",
       "      <td>0.0</td>\n",
       "      <td>Restaurant</td>\n",
       "      <td>3.0</td>\n",
       "      <td>4771 N LINCOLN AVE</td>\n",
       "      <td>2019-06-20</td>\n",
       "      <td>Canvass Re-Inspection</td>\n",
       "      <td>Pass w/ Conditions</td>\n",
       "      <td>3. MANAGEMENT, FOOD EMPLOYEE AND CONDITIONAL E...</td>\n",
       "      <td>41.968506</td>\n",
       "      <td>-87.688338</td>\n",
       "      <td>restaurant</td>\n",
       "    </tr>\n",
       "    <tr>\n",
       "      <th>7377</th>\n",
       "      <td>2293545</td>\n",
       "      <td>SUBWAY</td>\n",
       "      <td>0.0</td>\n",
       "      <td>Restaurant</td>\n",
       "      <td>3.0</td>\n",
       "      <td>4771 N LINCOLN AVE</td>\n",
       "      <td>2019-06-13</td>\n",
       "      <td>Canvass</td>\n",
       "      <td>Fail</td>\n",
       "      <td>1. PERSON IN CHARGE PRESENT, DEMONSTRATES KNOW...</td>\n",
       "      <td>41.968506</td>\n",
       "      <td>-87.688338</td>\n",
       "      <td>restaurant</td>\n",
       "    </tr>\n",
       "    <tr>\n",
       "      <th>10435</th>\n",
       "      <td>2282242</td>\n",
       "      <td>ALTHEA BY MKC</td>\n",
       "      <td>0.0</td>\n",
       "      <td>Restaurant</td>\n",
       "      <td>3.0</td>\n",
       "      <td>700 N MICHIGAN AVE</td>\n",
       "      <td>2019-03-28</td>\n",
       "      <td>Canvass</td>\n",
       "      <td>Out of Business</td>\n",
       "      <td>NaN</td>\n",
       "      <td>41.894980</td>\n",
       "      <td>-87.624400</td>\n",
       "      <td>restaurant</td>\n",
       "    </tr>\n",
       "  </tbody>\n",
       "</table>\n",
       "</div>"
      ],
      "text/plain": [
       "       Inspection ID           DBA Name  License # Facility Type  Risk  \\\n",
       "6053         2303443  SUBWAY SANDWICHES        0.0    Restaurant   3.0   \n",
       "6718         2300450             SUBWAY        0.0    Restaurant   3.0   \n",
       "7090         2293900             SUBWAY        0.0    Restaurant   3.0   \n",
       "7377         2293545             SUBWAY        0.0    Restaurant   3.0   \n",
       "10435        2282242      ALTHEA BY MKC        0.0    Restaurant   3.0   \n",
       "\n",
       "                   Address Inspection Date        Inspection Type  \\\n",
       "6053   3951 N KIMBALL AVE       2019-07-22                Canvass   \n",
       "6718   4771 N LINCOLN AVE       2019-06-28                Canvass   \n",
       "7090   4771 N LINCOLN AVE       2019-06-20  Canvass Re-Inspection   \n",
       "7377   4771 N LINCOLN AVE       2019-06-13                Canvass   \n",
       "10435  700 N MICHIGAN AVE       2019-03-28                Canvass   \n",
       "\n",
       "                  Results                                         Violations  \\\n",
       "6053                 Fail  2. CITY OF CHICAGO FOOD SERVICE SANITATION CER...   \n",
       "6718      Out of Business                                                NaN   \n",
       "7090   Pass w/ Conditions  3. MANAGEMENT, FOOD EMPLOYEE AND CONDITIONAL E...   \n",
       "7377                 Fail  1. PERSON IN CHARGE PRESENT, DEMONSTRATES KNOW...   \n",
       "10435     Out of Business                                                NaN   \n",
       "\n",
       "        Latitude  Longitude FacilityGroup  \n",
       "6053   41.953544 -87.712743    restaurant  \n",
       "6718   41.968506 -87.688338    restaurant  \n",
       "7090   41.968506 -87.688338    restaurant  \n",
       "7377   41.968506 -87.688338    restaurant  \n",
       "10435  41.894980 -87.624400    restaurant  "
      ]
     },
     "execution_count": 589,
     "metadata": {},
     "output_type": "execute_result"
    }
   ],
   "source": [
    "missing = eat_seat[eat_seat['License #'].isnull() | eat_seat['License #'] == 0.0]\n",
    "missing.head()"
   ]
  },
  {
   "cell_type": "code",
   "execution_count": 590,
   "metadata": {},
   "outputs": [
    {
     "data": {
      "text/plain": [
       "172"
      ]
     },
     "execution_count": 590,
     "metadata": {},
     "output_type": "execute_result"
    }
   ],
   "source": [
    "len(missing)"
   ]
  },
  {
   "cell_type": "markdown",
   "metadata": {},
   "source": [
    "In order to resolve this problem, we search if there are other establishments with the same DBA Name so that, if so, we can attribute their license number to the non-defined license ones."
   ]
  },
  {
   "cell_type": "code",
   "execution_count": 591,
   "metadata": {},
   "outputs": [
    {
     "data": {
      "text/html": [
       "<div>\n",
       "<style scoped>\n",
       "    .dataframe tbody tr th:only-of-type {\n",
       "        vertical-align: middle;\n",
       "    }\n",
       "\n",
       "    .dataframe tbody tr th {\n",
       "        vertical-align: top;\n",
       "    }\n",
       "\n",
       "    .dataframe thead th {\n",
       "        text-align: right;\n",
       "    }\n",
       "</style>\n",
       "<table border=\"1\" class=\"dataframe\">\n",
       "  <thead>\n",
       "    <tr style=\"text-align: right;\">\n",
       "      <th></th>\n",
       "      <th>Inspection ID</th>\n",
       "      <th>DBA Name</th>\n",
       "      <th>License #</th>\n",
       "      <th>Facility Type</th>\n",
       "      <th>Risk</th>\n",
       "      <th>Address</th>\n",
       "      <th>Inspection Date</th>\n",
       "      <th>Inspection Type</th>\n",
       "      <th>Results</th>\n",
       "      <th>Violations</th>\n",
       "      <th>Latitude</th>\n",
       "      <th>Longitude</th>\n",
       "      <th>FacilityGroup</th>\n",
       "    </tr>\n",
       "  </thead>\n",
       "  <tbody>\n",
       "    <tr>\n",
       "      <th>3096</th>\n",
       "      <td>2320750</td>\n",
       "      <td>SUBWAY</td>\n",
       "      <td>2522465.0</td>\n",
       "      <td>Restaurant</td>\n",
       "      <td>3.0</td>\n",
       "      <td>6352 N Milwaukee AVE</td>\n",
       "      <td>2019-10-30</td>\n",
       "      <td>Canvass</td>\n",
       "      <td>Pass</td>\n",
       "      <td>39. CONTAMINATION PREVENTED DURING FOOD PREPAR...</td>\n",
       "      <td>41.996447</td>\n",
       "      <td>-87.787207</td>\n",
       "      <td>restaurant</td>\n",
       "    </tr>\n",
       "    <tr>\n",
       "      <th>3337</th>\n",
       "      <td>2316090</td>\n",
       "      <td>WENDY'S</td>\n",
       "      <td>1145755.0</td>\n",
       "      <td>Restaurant</td>\n",
       "      <td>3.0</td>\n",
       "      <td>7601 S CICERO AVE</td>\n",
       "      <td>2019-10-18</td>\n",
       "      <td>Complaint</td>\n",
       "      <td>Pass</td>\n",
       "      <td>49. NON-FOOD/FOOD CONTACT SURFACES CLEAN - Com...</td>\n",
       "      <td>41.754660</td>\n",
       "      <td>-87.741385</td>\n",
       "      <td>restaurant</td>\n",
       "    </tr>\n",
       "    <tr>\n",
       "      <th>3363</th>\n",
       "      <td>2316054</td>\n",
       "      <td>SUBWAY</td>\n",
       "      <td>2590201.0</td>\n",
       "      <td>Restaurant</td>\n",
       "      <td>3.0</td>\n",
       "      <td>2512 W NORTH AVE</td>\n",
       "      <td>2019-10-18</td>\n",
       "      <td>Complaint Re-Inspection</td>\n",
       "      <td>Pass</td>\n",
       "      <td>39. CONTAMINATION PREVENTED DURING FOOD PREPAR...</td>\n",
       "      <td>41.910399</td>\n",
       "      <td>-87.690207</td>\n",
       "      <td>restaurant</td>\n",
       "    </tr>\n",
       "    <tr>\n",
       "      <th>3424</th>\n",
       "      <td>2315927</td>\n",
       "      <td>SUBWAY</td>\n",
       "      <td>2590201.0</td>\n",
       "      <td>Restaurant</td>\n",
       "      <td>3.0</td>\n",
       "      <td>2512 W NORTH AVE</td>\n",
       "      <td>2019-10-16</td>\n",
       "      <td>Complaint Re-Inspection</td>\n",
       "      <td>Fail</td>\n",
       "      <td>39. CONTAMINATION PREVENTED DURING FOOD PREPAR...</td>\n",
       "      <td>41.910399</td>\n",
       "      <td>-87.690207</td>\n",
       "      <td>restaurant</td>\n",
       "    </tr>\n",
       "    <tr>\n",
       "      <th>3509</th>\n",
       "      <td>2315770</td>\n",
       "      <td>SUBWAY</td>\n",
       "      <td>2163012.0</td>\n",
       "      <td>Restaurant</td>\n",
       "      <td>3.0</td>\n",
       "      <td>4157 W Peterson AVE</td>\n",
       "      <td>2019-10-11</td>\n",
       "      <td>Canvass</td>\n",
       "      <td>Pass w/ Conditions</td>\n",
       "      <td>3. MANAGEMENT, FOOD EMPLOYEE AND CONDITIONAL E...</td>\n",
       "      <td>41.989965</td>\n",
       "      <td>-87.733433</td>\n",
       "      <td>restaurant</td>\n",
       "    </tr>\n",
       "  </tbody>\n",
       "</table>\n",
       "</div>"
      ],
      "text/plain": [
       "      Inspection ID DBA Name  License # Facility Type  Risk  \\\n",
       "3096        2320750   SUBWAY  2522465.0    Restaurant   3.0   \n",
       "3337        2316090  WENDY'S  1145755.0    Restaurant   3.0   \n",
       "3363        2316054   SUBWAY  2590201.0    Restaurant   3.0   \n",
       "3424        2315927   SUBWAY  2590201.0    Restaurant   3.0   \n",
       "3509        2315770   SUBWAY  2163012.0    Restaurant   3.0   \n",
       "\n",
       "                    Address Inspection Date          Inspection Type  \\\n",
       "3096  6352 N Milwaukee AVE       2019-10-30                  Canvass   \n",
       "3337     7601 S CICERO AVE       2019-10-18                Complaint   \n",
       "3363      2512 W NORTH AVE       2019-10-18  Complaint Re-Inspection   \n",
       "3424      2512 W NORTH AVE       2019-10-16  Complaint Re-Inspection   \n",
       "3509   4157 W Peterson AVE       2019-10-11                  Canvass   \n",
       "\n",
       "                 Results                                         Violations  \\\n",
       "3096                Pass  39. CONTAMINATION PREVENTED DURING FOOD PREPAR...   \n",
       "3337                Pass  49. NON-FOOD/FOOD CONTACT SURFACES CLEAN - Com...   \n",
       "3363                Pass  39. CONTAMINATION PREVENTED DURING FOOD PREPAR...   \n",
       "3424                Fail  39. CONTAMINATION PREVENTED DURING FOOD PREPAR...   \n",
       "3509  Pass w/ Conditions  3. MANAGEMENT, FOOD EMPLOYEE AND CONDITIONAL E...   \n",
       "\n",
       "       Latitude  Longitude FacilityGroup  \n",
       "3096  41.996447 -87.787207    restaurant  \n",
       "3337  41.754660 -87.741385    restaurant  \n",
       "3363  41.910399 -87.690207    restaurant  \n",
       "3424  41.910399 -87.690207    restaurant  \n",
       "3509  41.989965 -87.733433    restaurant  "
      ]
     },
     "execution_count": 591,
     "metadata": {},
     "output_type": "execute_result"
    }
   ],
   "source": [
    "missing_found = eat_seat[eat_seat['DBA Name'].isin(missing['DBA Name']) & (eat_seat['License #'].notnull() & eat_seat['License #'] != 0.0)]\n",
    "missing_found.head()"
   ]
  },
  {
   "cell_type": "code",
   "execution_count": 592,
   "metadata": {},
   "outputs": [
    {
     "data": {
      "text/plain": [
       "3396"
      ]
     },
     "execution_count": 592,
     "metadata": {},
     "output_type": "execute_result"
    }
   ],
   "source": [
    "len(missing_found)"
   ]
  },
  {
   "cell_type": "markdown",
   "metadata": {},
   "source": [
    "We see that there is 3396 entries in the database having a license number and corresponding to an esthablishment who has at some point a missing license number.\n",
    "We will search in those entries the ones corresponding to the and Latitude + Longitude of the ones having a missing license number, take the latest one, and infer that the missing one can be replaced by this one."
   ]
  },
  {
   "cell_type": "code",
   "execution_count": 593,
   "metadata": {},
   "outputs": [
    {
     "data": {
      "text/html": [
       "<div>\n",
       "<style scoped>\n",
       "    .dataframe tbody tr th:only-of-type {\n",
       "        vertical-align: middle;\n",
       "    }\n",
       "\n",
       "    .dataframe tbody tr th {\n",
       "        vertical-align: top;\n",
       "    }\n",
       "\n",
       "    .dataframe thead th {\n",
       "        text-align: right;\n",
       "    }\n",
       "</style>\n",
       "<table border=\"1\" class=\"dataframe\">\n",
       "  <thead>\n",
       "    <tr style=\"text-align: right;\">\n",
       "      <th></th>\n",
       "      <th>Inspection ID</th>\n",
       "      <th>DBA Name</th>\n",
       "      <th>License #</th>\n",
       "      <th>Inspection Date</th>\n",
       "      <th>Latitude</th>\n",
       "      <th>Longitude</th>\n",
       "    </tr>\n",
       "  </thead>\n",
       "  <tbody>\n",
       "    <tr>\n",
       "      <th>3096</th>\n",
       "      <td>2320750</td>\n",
       "      <td>SUBWAY</td>\n",
       "      <td>2522465.0</td>\n",
       "      <td>2019-10-30</td>\n",
       "      <td>41.996447</td>\n",
       "      <td>-87.787207</td>\n",
       "    </tr>\n",
       "    <tr>\n",
       "      <th>3337</th>\n",
       "      <td>2316090</td>\n",
       "      <td>WENDY'S</td>\n",
       "      <td>1145755.0</td>\n",
       "      <td>2019-10-18</td>\n",
       "      <td>41.754660</td>\n",
       "      <td>-87.741385</td>\n",
       "    </tr>\n",
       "    <tr>\n",
       "      <th>3363</th>\n",
       "      <td>2316054</td>\n",
       "      <td>SUBWAY</td>\n",
       "      <td>2590201.0</td>\n",
       "      <td>2019-10-18</td>\n",
       "      <td>41.910399</td>\n",
       "      <td>-87.690207</td>\n",
       "    </tr>\n",
       "    <tr>\n",
       "      <th>3424</th>\n",
       "      <td>2315927</td>\n",
       "      <td>SUBWAY</td>\n",
       "      <td>2590201.0</td>\n",
       "      <td>2019-10-16</td>\n",
       "      <td>41.910399</td>\n",
       "      <td>-87.690207</td>\n",
       "    </tr>\n",
       "    <tr>\n",
       "      <th>3509</th>\n",
       "      <td>2315770</td>\n",
       "      <td>SUBWAY</td>\n",
       "      <td>2163012.0</td>\n",
       "      <td>2019-10-11</td>\n",
       "      <td>41.989965</td>\n",
       "      <td>-87.733433</td>\n",
       "    </tr>\n",
       "  </tbody>\n",
       "</table>\n",
       "</div>"
      ],
      "text/plain": [
       "      Inspection ID DBA Name  License # Inspection Date   Latitude  Longitude\n",
       "3096        2320750   SUBWAY  2522465.0      2019-10-30  41.996447 -87.787207\n",
       "3337        2316090  WENDY'S  1145755.0      2019-10-18  41.754660 -87.741385\n",
       "3363        2316054   SUBWAY  2590201.0      2019-10-18  41.910399 -87.690207\n",
       "3424        2315927   SUBWAY  2590201.0      2019-10-16  41.910399 -87.690207\n",
       "3509        2315770   SUBWAY  2163012.0      2019-10-11  41.989965 -87.733433"
      ]
     },
     "execution_count": 593,
     "metadata": {},
     "output_type": "execute_result"
    }
   ],
   "source": [
    "missing_found = missing_found.drop(columns = ['Facility Type', 'Risk', 'Address', 'Inspection Type', 'Results', 'Violations', 'FacilityGroup'])\n",
    "missing_found.head()"
   ]
  },
  {
   "cell_type": "code",
   "execution_count": 594,
   "metadata": {},
   "outputs": [
    {
     "data": {
      "text/html": [
       "<div>\n",
       "<style scoped>\n",
       "    .dataframe tbody tr th:only-of-type {\n",
       "        vertical-align: middle;\n",
       "    }\n",
       "\n",
       "    .dataframe tbody tr th {\n",
       "        vertical-align: top;\n",
       "    }\n",
       "\n",
       "    .dataframe thead th {\n",
       "        text-align: right;\n",
       "    }\n",
       "</style>\n",
       "<table border=\"1\" class=\"dataframe\">\n",
       "  <thead>\n",
       "    <tr style=\"text-align: right;\">\n",
       "      <th></th>\n",
       "      <th></th>\n",
       "      <th></th>\n",
       "      <th>Inspection Date</th>\n",
       "    </tr>\n",
       "    <tr>\n",
       "      <th>DBA Name</th>\n",
       "      <th>Latitude</th>\n",
       "      <th>Longitude</th>\n",
       "      <th></th>\n",
       "    </tr>\n",
       "  </thead>\n",
       "  <tbody>\n",
       "    <tr>\n",
       "      <th>ALTHEA BY MKC</th>\n",
       "      <th>41.894980</th>\n",
       "      <th>-87.624400</th>\n",
       "      <td>2019-05-30</td>\n",
       "    </tr>\n",
       "    <tr>\n",
       "      <th rowspan=\"4\" valign=\"top\">ARAMARK</th>\n",
       "      <th>41.653637</th>\n",
       "      <th>-87.605071</th>\n",
       "      <td>2019-01-29</td>\n",
       "    </tr>\n",
       "    <tr>\n",
       "      <th>41.785791</th>\n",
       "      <th>-87.603745</th>\n",
       "      <td>2016-08-22</td>\n",
       "    </tr>\n",
       "    <tr>\n",
       "      <th>41.788311</th>\n",
       "      <th>-87.604770</th>\n",
       "      <td>2018-10-31</td>\n",
       "    </tr>\n",
       "    <tr>\n",
       "      <th>41.791261</th>\n",
       "      <th>-87.605085</th>\n",
       "      <td>2016-10-27</td>\n",
       "    </tr>\n",
       "  </tbody>\n",
       "</table>\n",
       "</div>"
      ],
      "text/plain": [
       "                                   Inspection Date\n",
       "DBA Name      Latitude  Longitude                 \n",
       "ALTHEA BY MKC 41.894980 -87.624400      2019-05-30\n",
       "ARAMARK       41.653637 -87.605071      2019-01-29\n",
       "              41.785791 -87.603745      2016-08-22\n",
       "              41.788311 -87.604770      2018-10-31\n",
       "              41.791261 -87.605085      2016-10-27"
      ]
     },
     "execution_count": 594,
     "metadata": {},
     "output_type": "execute_result"
    }
   ],
   "source": [
    "latest = pd.DataFrame(missing_found.groupby(['DBA Name', 'Latitude', 'Longitude'])['Inspection Date'].max())\n",
    "latest.head()"
   ]
  },
  {
   "cell_type": "code",
   "execution_count": 595,
   "metadata": {},
   "outputs": [
    {
     "data": {
      "text/plain": [
       "319"
      ]
     },
     "execution_count": 595,
     "metadata": {},
     "output_type": "execute_result"
    }
   ],
   "source": [
    "len(latest)"
   ]
  },
  {
   "cell_type": "code",
   "execution_count": 596,
   "metadata": {},
   "outputs": [
    {
     "data": {
      "text/html": [
       "<div>\n",
       "<style scoped>\n",
       "    .dataframe tbody tr th:only-of-type {\n",
       "        vertical-align: middle;\n",
       "    }\n",
       "\n",
       "    .dataframe tbody tr th {\n",
       "        vertical-align: top;\n",
       "    }\n",
       "\n",
       "    .dataframe thead th {\n",
       "        text-align: right;\n",
       "    }\n",
       "</style>\n",
       "<table border=\"1\" class=\"dataframe\">\n",
       "  <thead>\n",
       "    <tr style=\"text-align: right;\">\n",
       "      <th></th>\n",
       "      <th>Inspection Date</th>\n",
       "      <th>DBA Name</th>\n",
       "      <th>Latitude</th>\n",
       "      <th>Longitude</th>\n",
       "      <th>Inspection ID</th>\n",
       "      <th>License #</th>\n",
       "    </tr>\n",
       "  </thead>\n",
       "  <tbody>\n",
       "    <tr>\n",
       "      <th>0</th>\n",
       "      <td>2019-05-30</td>\n",
       "      <td>ALTHEA BY MKC</td>\n",
       "      <td>41.894980</td>\n",
       "      <td>-87.624400</td>\n",
       "      <td>2290702</td>\n",
       "      <td>2646659.0</td>\n",
       "    </tr>\n",
       "    <tr>\n",
       "      <th>1</th>\n",
       "      <td>2019-05-30</td>\n",
       "      <td>ALTHEA BY MKC</td>\n",
       "      <td>41.894980</td>\n",
       "      <td>-87.624400</td>\n",
       "      <td>2290711</td>\n",
       "      <td>2659160.0</td>\n",
       "    </tr>\n",
       "    <tr>\n",
       "      <th>2</th>\n",
       "      <td>2019-05-30</td>\n",
       "      <td>ALTHEA BY MKC</td>\n",
       "      <td>41.894980</td>\n",
       "      <td>-87.624400</td>\n",
       "      <td>2290710</td>\n",
       "      <td>2659161.0</td>\n",
       "    </tr>\n",
       "    <tr>\n",
       "      <th>3</th>\n",
       "      <td>2019-01-29</td>\n",
       "      <td>ARAMARK</td>\n",
       "      <td>41.653637</td>\n",
       "      <td>-87.605071</td>\n",
       "      <td>2261263</td>\n",
       "      <td>3759928.0</td>\n",
       "    </tr>\n",
       "    <tr>\n",
       "      <th>4</th>\n",
       "      <td>2016-08-22</td>\n",
       "      <td>ARAMARK</td>\n",
       "      <td>41.785791</td>\n",
       "      <td>-87.603745</td>\n",
       "      <td>1950902</td>\n",
       "      <td>2162462.0</td>\n",
       "    </tr>\n",
       "  </tbody>\n",
       "</table>\n",
       "</div>"
      ],
      "text/plain": [
       "  Inspection Date       DBA Name   Latitude  Longitude  Inspection ID  \\\n",
       "0      2019-05-30  ALTHEA BY MKC  41.894980 -87.624400        2290702   \n",
       "1      2019-05-30  ALTHEA BY MKC  41.894980 -87.624400        2290711   \n",
       "2      2019-05-30  ALTHEA BY MKC  41.894980 -87.624400        2290710   \n",
       "3      2019-01-29        ARAMARK  41.653637 -87.605071        2261263   \n",
       "4      2016-08-22        ARAMARK  41.785791 -87.603745        1950902   \n",
       "\n",
       "   License #  \n",
       "0  2646659.0  \n",
       "1  2659160.0  \n",
       "2  2659161.0  \n",
       "3  3759928.0  \n",
       "4  2162462.0  "
      ]
     },
     "execution_count": 596,
     "metadata": {},
     "output_type": "execute_result"
    }
   ],
   "source": [
    "#DataFrame.merge(self, right, how='inner', on=None, left_on=None, right_on=None, left_index=False, right_index=False, sort=False, suffixes=('_x', '_y'), copy=True, indicator=False, validate=None)\n",
    "latest_v2 = pd.merge(latest, missing_found, how='inner', on=['Inspection Date', 'DBA Name', 'Latitude', 'Longitude'])\n",
    "latest_v2.head()"
   ]
  },
  {
   "cell_type": "markdown",
   "metadata": {},
   "source": [
    "In latest we have an entry per unique couple \"DBA Name + Latitude + Longitude\" correpsonding to the latest inspection date found for this couple in missing_found. In latest_v2 we keep every entry corresponding to those \"DBA Name + Latitude + Longitude + latest inspection date\"."
   ]
  },
  {
   "cell_type": "code",
   "execution_count": 597,
   "metadata": {},
   "outputs": [
    {
     "data": {
      "text/plain": [
       "329"
      ]
     },
     "execution_count": 597,
     "metadata": {},
     "output_type": "execute_result"
    }
   ],
   "source": [
    "len(latest_v2)"
   ]
  },
  {
   "cell_type": "markdown",
   "metadata": {},
   "source": [
    "We see that there is duplicates of entries because the length of latest_v2 is greater than the length of latest. We investigate that."
   ]
  },
  {
   "cell_type": "code",
   "execution_count": 598,
   "metadata": {},
   "outputs": [
    {
     "data": {
      "text/html": [
       "<div>\n",
       "<style scoped>\n",
       "    .dataframe tbody tr th:only-of-type {\n",
       "        vertical-align: middle;\n",
       "    }\n",
       "\n",
       "    .dataframe tbody tr th {\n",
       "        vertical-align: top;\n",
       "    }\n",
       "\n",
       "    .dataframe thead th {\n",
       "        text-align: right;\n",
       "    }\n",
       "</style>\n",
       "<table border=\"1\" class=\"dataframe\">\n",
       "  <thead>\n",
       "    <tr style=\"text-align: right;\">\n",
       "      <th></th>\n",
       "      <th>Inspection Date</th>\n",
       "      <th>DBA Name</th>\n",
       "      <th>Latitude</th>\n",
       "      <th>Longitude</th>\n",
       "      <th>Inspection ID</th>\n",
       "      <th>License #</th>\n",
       "    </tr>\n",
       "  </thead>\n",
       "  <tbody>\n",
       "    <tr>\n",
       "      <th>0</th>\n",
       "      <td>2019-05-30</td>\n",
       "      <td>ALTHEA BY MKC</td>\n",
       "      <td>41.894980</td>\n",
       "      <td>-87.624400</td>\n",
       "      <td>2290702</td>\n",
       "      <td>2646659.0</td>\n",
       "    </tr>\n",
       "    <tr>\n",
       "      <th>1</th>\n",
       "      <td>2019-05-30</td>\n",
       "      <td>ALTHEA BY MKC</td>\n",
       "      <td>41.894980</td>\n",
       "      <td>-87.624400</td>\n",
       "      <td>2290711</td>\n",
       "      <td>2659160.0</td>\n",
       "    </tr>\n",
       "    <tr>\n",
       "      <th>2</th>\n",
       "      <td>2019-05-30</td>\n",
       "      <td>ALTHEA BY MKC</td>\n",
       "      <td>41.894980</td>\n",
       "      <td>-87.624400</td>\n",
       "      <td>2290710</td>\n",
       "      <td>2659161.0</td>\n",
       "    </tr>\n",
       "    <tr>\n",
       "      <th>23</th>\n",
       "      <td>2019-03-21</td>\n",
       "      <td>CHARTWELLS</td>\n",
       "      <td>41.743152</td>\n",
       "      <td>-87.587883</td>\n",
       "      <td>2279761</td>\n",
       "      <td>2549069.0</td>\n",
       "    </tr>\n",
       "    <tr>\n",
       "      <th>24</th>\n",
       "      <td>2019-03-21</td>\n",
       "      <td>CHARTWELLS</td>\n",
       "      <td>41.743152</td>\n",
       "      <td>-87.587883</td>\n",
       "      <td>2279746</td>\n",
       "      <td>2549069.0</td>\n",
       "    </tr>\n",
       "    <tr>\n",
       "      <th>60</th>\n",
       "      <td>2018-11-05</td>\n",
       "      <td>LA MICHOACANA</td>\n",
       "      <td>41.808399</td>\n",
       "      <td>-87.674814</td>\n",
       "      <td>2232769</td>\n",
       "      <td>2476172.0</td>\n",
       "    </tr>\n",
       "    <tr>\n",
       "      <th>61</th>\n",
       "      <td>2018-11-05</td>\n",
       "      <td>LA MICHOACANA</td>\n",
       "      <td>41.808399</td>\n",
       "      <td>-87.674814</td>\n",
       "      <td>2232771</td>\n",
       "      <td>2631675.0</td>\n",
       "    </tr>\n",
       "    <tr>\n",
       "      <th>109</th>\n",
       "      <td>2012-03-15</td>\n",
       "      <td>SUBWAY</td>\n",
       "      <td>41.750750</td>\n",
       "      <td>-87.629792</td>\n",
       "      <td>1214209</td>\n",
       "      <td>1947565.0</td>\n",
       "    </tr>\n",
       "    <tr>\n",
       "      <th>110</th>\n",
       "      <td>2012-03-15</td>\n",
       "      <td>SUBWAY</td>\n",
       "      <td>41.750750</td>\n",
       "      <td>-87.629792</td>\n",
       "      <td>1214210</td>\n",
       "      <td>2036493.0</td>\n",
       "    </tr>\n",
       "    <tr>\n",
       "      <th>145</th>\n",
       "      <td>2018-08-28</td>\n",
       "      <td>SUBWAY</td>\n",
       "      <td>41.815330</td>\n",
       "      <td>-87.665288</td>\n",
       "      <td>2213584</td>\n",
       "      <td>2595987.0</td>\n",
       "    </tr>\n",
       "    <tr>\n",
       "      <th>146</th>\n",
       "      <td>2018-08-28</td>\n",
       "      <td>SUBWAY</td>\n",
       "      <td>41.815330</td>\n",
       "      <td>-87.665288</td>\n",
       "      <td>2213579</td>\n",
       "      <td>2621567.0</td>\n",
       "    </tr>\n",
       "    <tr>\n",
       "      <th>177</th>\n",
       "      <td>2015-12-07</td>\n",
       "      <td>SUBWAY</td>\n",
       "      <td>41.878003</td>\n",
       "      <td>-87.634299</td>\n",
       "      <td>1607215</td>\n",
       "      <td>1516580.0</td>\n",
       "    </tr>\n",
       "    <tr>\n",
       "      <th>178</th>\n",
       "      <td>2015-12-07</td>\n",
       "      <td>SUBWAY</td>\n",
       "      <td>41.878003</td>\n",
       "      <td>-87.634299</td>\n",
       "      <td>1591320</td>\n",
       "      <td>1516580.0</td>\n",
       "    </tr>\n",
       "    <tr>\n",
       "      <th>192</th>\n",
       "      <td>2019-01-29</td>\n",
       "      <td>SUBWAY</td>\n",
       "      <td>41.884624</td>\n",
       "      <td>-87.620476</td>\n",
       "      <td>2261270</td>\n",
       "      <td>70217.0</td>\n",
       "    </tr>\n",
       "    <tr>\n",
       "      <th>193</th>\n",
       "      <td>2019-01-29</td>\n",
       "      <td>SUBWAY</td>\n",
       "      <td>41.884624</td>\n",
       "      <td>-87.620476</td>\n",
       "      <td>2261283</td>\n",
       "      <td>2646445.0</td>\n",
       "    </tr>\n",
       "    <tr>\n",
       "      <th>194</th>\n",
       "      <td>2019-01-29</td>\n",
       "      <td>SUBWAY</td>\n",
       "      <td>41.884624</td>\n",
       "      <td>-87.620476</td>\n",
       "      <td>2261295</td>\n",
       "      <td>70217.0</td>\n",
       "    </tr>\n",
       "    <tr>\n",
       "      <th>320</th>\n",
       "      <td>2014-03-13</td>\n",
       "      <td>WENDY'S</td>\n",
       "      <td>41.692476</td>\n",
       "      <td>-87.622842</td>\n",
       "      <td>1401916</td>\n",
       "      <td>1145749.0</td>\n",
       "    </tr>\n",
       "    <tr>\n",
       "      <th>321</th>\n",
       "      <td>2014-03-13</td>\n",
       "      <td>WENDY'S</td>\n",
       "      <td>41.692476</td>\n",
       "      <td>-87.622842</td>\n",
       "      <td>1401915</td>\n",
       "      <td>1145749.0</td>\n",
       "    </tr>\n",
       "  </tbody>\n",
       "</table>\n",
       "</div>"
      ],
      "text/plain": [
       "    Inspection Date       DBA Name   Latitude  Longitude  Inspection ID  \\\n",
       "0        2019-05-30  ALTHEA BY MKC  41.894980 -87.624400        2290702   \n",
       "1        2019-05-30  ALTHEA BY MKC  41.894980 -87.624400        2290711   \n",
       "2        2019-05-30  ALTHEA BY MKC  41.894980 -87.624400        2290710   \n",
       "23       2019-03-21     CHARTWELLS  41.743152 -87.587883        2279761   \n",
       "24       2019-03-21     CHARTWELLS  41.743152 -87.587883        2279746   \n",
       "60       2018-11-05  LA MICHOACANA  41.808399 -87.674814        2232769   \n",
       "61       2018-11-05  LA MICHOACANA  41.808399 -87.674814        2232771   \n",
       "109      2012-03-15         SUBWAY  41.750750 -87.629792        1214209   \n",
       "110      2012-03-15         SUBWAY  41.750750 -87.629792        1214210   \n",
       "145      2018-08-28         SUBWAY  41.815330 -87.665288        2213584   \n",
       "146      2018-08-28         SUBWAY  41.815330 -87.665288        2213579   \n",
       "177      2015-12-07         SUBWAY  41.878003 -87.634299        1607215   \n",
       "178      2015-12-07         SUBWAY  41.878003 -87.634299        1591320   \n",
       "192      2019-01-29         SUBWAY  41.884624 -87.620476        2261270   \n",
       "193      2019-01-29         SUBWAY  41.884624 -87.620476        2261283   \n",
       "194      2019-01-29         SUBWAY  41.884624 -87.620476        2261295   \n",
       "320      2014-03-13        WENDY'S  41.692476 -87.622842        1401916   \n",
       "321      2014-03-13        WENDY'S  41.692476 -87.622842        1401915   \n",
       "\n",
       "     License #  \n",
       "0    2646659.0  \n",
       "1    2659160.0  \n",
       "2    2659161.0  \n",
       "23   2549069.0  \n",
       "24   2549069.0  \n",
       "60   2476172.0  \n",
       "61   2631675.0  \n",
       "109  1947565.0  \n",
       "110  2036493.0  \n",
       "145  2595987.0  \n",
       "146  2621567.0  \n",
       "177  1516580.0  \n",
       "178  1516580.0  \n",
       "192    70217.0  \n",
       "193  2646445.0  \n",
       "194    70217.0  \n",
       "320  1145749.0  \n",
       "321  1145749.0  "
      ]
     },
     "execution_count": 598,
     "metadata": {},
     "output_type": "execute_result"
    }
   ],
   "source": [
    "#DataFrame.duplicated(self, subset=None, keep='first')\n",
    "latest_duplicated = latest_v2[latest_v2.duplicated(subset = ['Inspection Date', 'DBA Name', 'Latitude', 'Longitude'], keep=False)]\n",
    "latest_duplicated.head()"
   ]
  },
  {
   "cell_type": "markdown",
   "metadata": {},
   "source": [
    "For Chartwells, Subway \"41.878003 - 87.634299\" and Wendy's those duplicates are not a problem because the license number is the same for each duplicate. But for the other 5 duplicates the license number varies and there is no obvious way to decide which license number to keep; those entries will then be dropped. For the others, the license number hereby found will be used to complete the primary database."
   ]
  },
  {
   "cell_type": "code",
   "execution_count": 629,
   "metadata": {},
   "outputs": [],
   "source": [
    "latest_duplicated = latest_duplicated.drop(columns = ['Inspection Date', 'Inspection ID'])"
   ]
  },
  {
   "cell_type": "code",
   "execution_count": 653,
   "metadata": {},
   "outputs": [],
   "source": [
    "#DataFrame.drop_duplicates(self, subset=None, keep='first', inplace=False)\n",
    "\n",
    "tuples = latest_duplicated.drop_duplicates(subset = ['DBA Name', 'Latitude', 'Longitude', 'License #'], keep = False)"
   ]
  },
  {
   "cell_type": "code",
   "execution_count": 655,
   "metadata": {},
   "outputs": [],
   "source": [
    "tuples = tuples.drop_duplicates(subset = ['DBA Name', 'Latitude', 'Longitude'], keep = 'first')"
   ]
  },
  {
   "cell_type": "code",
   "execution_count": 662,
   "metadata": {},
   "outputs": [],
   "source": [
    "tuples = tuples.set_index(['DBA Name', 'Latitude', 'Longitude'])"
   ]
  },
  {
   "cell_type": "code",
   "execution_count": 659,
   "metadata": {},
   "outputs": [],
   "source": [
    "dup = latest_v2[latest_v2.duplicated(subset = ['DBA Name', 'Latitude', 'Longitude', 'License #'], keep='first')]"
   ]
  },
  {
   "cell_type": "code",
   "execution_count": 663,
   "metadata": {},
   "outputs": [],
   "source": [
    "dup = dup.set_index(['DBA Name', 'Latitude', 'Longitude'])"
   ]
  },
  {
   "cell_type": "code",
   "execution_count": 664,
   "metadata": {},
   "outputs": [
    {
     "data": {
      "text/html": [
       "<div>\n",
       "<style scoped>\n",
       "    .dataframe tbody tr th:only-of-type {\n",
       "        vertical-align: middle;\n",
       "    }\n",
       "\n",
       "    .dataframe tbody tr th {\n",
       "        vertical-align: top;\n",
       "    }\n",
       "\n",
       "    .dataframe thead th {\n",
       "        text-align: right;\n",
       "    }\n",
       "</style>\n",
       "<table border=\"1\" class=\"dataframe\">\n",
       "  <thead>\n",
       "    <tr style=\"text-align: right;\">\n",
       "      <th></th>\n",
       "      <th></th>\n",
       "      <th></th>\n",
       "      <th>License #</th>\n",
       "    </tr>\n",
       "    <tr>\n",
       "      <th>DBA Name</th>\n",
       "      <th>Latitude</th>\n",
       "      <th>Longitude</th>\n",
       "      <th></th>\n",
       "    </tr>\n",
       "  </thead>\n",
       "  <tbody>\n",
       "    <tr>\n",
       "      <th>CHARTWELLS</th>\n",
       "      <th>41.743152</th>\n",
       "      <th>-87.587883</th>\n",
       "      <td>2549069.0</td>\n",
       "    </tr>\n",
       "    <tr>\n",
       "      <th>SUBWAY</th>\n",
       "      <th>41.878003</th>\n",
       "      <th>-87.634299</th>\n",
       "      <td>1516580.0</td>\n",
       "    </tr>\n",
       "    <tr>\n",
       "      <th>WENDY'S</th>\n",
       "      <th>41.692476</th>\n",
       "      <th>-87.622842</th>\n",
       "      <td>1145749.0</td>\n",
       "    </tr>\n",
       "  </tbody>\n",
       "</table>\n",
       "</div>"
      ],
      "text/plain": [
       "                                 License #\n",
       "DBA Name   Latitude  Longitude            \n",
       "CHARTWELLS 41.743152 -87.587883  2549069.0\n",
       "SUBWAY     41.878003 -87.634299  1516580.0\n",
       "WENDY'S    41.692476 -87.622842  1145749.0"
      ]
     },
     "execution_count": 664,
     "metadata": {},
     "output_type": "execute_result"
    }
   ],
   "source": [
    "unique = dup[~dup.index.isin(tuples.index)]\n",
    "unique"
   ]
  },
  {
   "cell_type": "code",
   "execution_count": null,
   "metadata": {},
   "outputs": [],
   "source": [
    "latest_v2 = latest_v2 - latest_duplicated + unique --> à faire en panda"
   ]
  },
  {
   "cell_type": "markdown",
   "metadata": {},
   "source": [
    "Argentina Foods has two different license numbers and one of them correspond to an out of business establishment. It is infered that the license number \"2009367.0\" is the one corresponding to the missing value because the license number \"57047.0\" is marked as \"Out of business\"."
   ]
  },
  {
   "cell_type": "code",
   "execution_count": 324,
   "metadata": {},
   "outputs": [],
   "source": [
    "eat_seat.at[113630, 'License #'] = 2009367.0"
   ]
  },
  {
   "cell_type": "markdown",
   "metadata": {},
   "source": [
    "We now search in another databse containing informations about the esthablisments, where they are labelled by their license ID."
   ]
  },
  {
   "cell_type": "code",
   "execution_count": 325,
   "metadata": {},
   "outputs": [],
   "source": [
    "licenses = pd.read_csv('business-licenses.csv', sep=',', low_memory = False) #creation of the dataframe"
   ]
  },
  {
   "cell_type": "code",
   "execution_count": 326,
   "metadata": {},
   "outputs": [
    {
     "data": {
      "text/plain": [
       "Index(['ID', 'LICENSE ID', 'ACCOUNT NUMBER', 'SITE NUMBER', 'LEGAL NAME',\n",
       "       'DOING BUSINESS AS NAME', 'ADDRESS', 'CITY', 'STATE', 'ZIP CODE',\n",
       "       'WARD', 'PRECINCT', 'WARD PRECINCT', 'POLICE DISTRICT', 'LICENSE CODE',\n",
       "       'LICENSE DESCRIPTION', 'BUSINESS ACTIVITY ID', 'BUSINESS ACTIVITY',\n",
       "       'LICENSE NUMBER', 'APPLICATION TYPE', 'APPLICATION CREATED DATE',\n",
       "       'APPLICATION REQUIREMENTS COMPLETE', 'PAYMENT DATE',\n",
       "       'CONDITIONAL APPROVAL', 'LICENSE TERM START DATE',\n",
       "       'LICENSE TERM EXPIRATION DATE', 'LICENSE APPROVED FOR ISSUANCE',\n",
       "       'DATE ISSUED', 'LICENSE STATUS', 'LICENSE STATUS CHANGE DATE', 'SSA',\n",
       "       'LATITUDE', 'LONGITUDE', 'LOCATION', 'Community Areas',\n",
       "       'Historical Wards 2003-2015', 'Zip Codes', 'Census Tracts', 'Wards'],\n",
       "      dtype='object')"
      ]
     },
     "execution_count": 326,
     "metadata": {},
     "output_type": "execute_result"
    }
   ],
   "source": [
    "licenses.columns"
   ]
  },
  {
   "cell_type": "code",
   "execution_count": 327,
   "metadata": {},
   "outputs": [],
   "source": [
    "licenses = licenses.drop(columns = ['LEGAL NAME', 'ACCOUNT NUMBER', 'SITE NUMBER', 'CITY', 'STATE', 'ZIP CODE',\n",
    "       'WARD', 'PRECINCT', 'WARD PRECINCT', 'POLICE DISTRICT', 'APPLICATION TYPE', 'APPLICATION CREATED DATE',\n",
    "       'APPLICATION REQUIREMENTS COMPLETE', 'PAYMENT DATE',\n",
    "       'CONDITIONAL APPROVAL', 'LICENSE APPROVED FOR ISSUANCE',\n",
    "       'DATE ISSUED', 'LICENSE STATUS', 'LICENSE STATUS CHANGE DATE', 'SSA', 'LICENSE CODE',\n",
    "       'LICENSE DESCRIPTION', 'BUSINESS ACTIVITY ID', 'BUSINESS ACTIVITY',\n",
    "       'LICENSE NUMBER', 'Community Areas',\n",
    "       'Historical Wards 2003-2015', 'Zip Codes', 'Census Tracts', 'Wards'])"
   ]
  },
  {
   "cell_type": "code",
   "execution_count": 328,
   "metadata": {},
   "outputs": [
    {
     "data": {
      "text/html": [
       "<div>\n",
       "<style scoped>\n",
       "    .dataframe tbody tr th:only-of-type {\n",
       "        vertical-align: middle;\n",
       "    }\n",
       "\n",
       "    .dataframe tbody tr th {\n",
       "        vertical-align: top;\n",
       "    }\n",
       "\n",
       "    .dataframe thead th {\n",
       "        text-align: right;\n",
       "    }\n",
       "</style>\n",
       "<table border=\"1\" class=\"dataframe\">\n",
       "  <thead>\n",
       "    <tr style=\"text-align: right;\">\n",
       "      <th></th>\n",
       "      <th>ID</th>\n",
       "      <th>LICENSE ID</th>\n",
       "      <th>LEGAL NAME</th>\n",
       "      <th>DOING BUSINESS AS NAME</th>\n",
       "      <th>ADDRESS</th>\n",
       "      <th>LICENSE TERM START DATE</th>\n",
       "      <th>LICENSE TERM EXPIRATION DATE</th>\n",
       "      <th>LATITUDE</th>\n",
       "      <th>LONGITUDE</th>\n",
       "      <th>LOCATION</th>\n",
       "    </tr>\n",
       "  </thead>\n",
       "  <tbody>\n",
       "    <tr>\n",
       "      <th>0</th>\n",
       "      <td>101-20040516</td>\n",
       "      <td>1480073</td>\n",
       "      <td>BERGHOFF RESTAURANT COMPANY OF DELAWARE</td>\n",
       "      <td>BERGHOFF'S RESTAURANT</td>\n",
       "      <td>17 W ADAMS ST # 1ST</td>\n",
       "      <td>2004-05-16T00:00:00.000</td>\n",
       "      <td>2005-05-15T00:00:00.000</td>\n",
       "      <td>41.879342</td>\n",
       "      <td>-87.628412</td>\n",
       "      <td>{'latitude': '41.879341938770445', 'human_addr...</td>\n",
       "    </tr>\n",
       "    <tr>\n",
       "      <th>1</th>\n",
       "      <td>101-20021116</td>\n",
       "      <td>1278029</td>\n",
       "      <td>BERGHOFF RESTAURANT COMPANY OF DELAWARE</td>\n",
       "      <td>BERGHOFF'S RESTAURANT</td>\n",
       "      <td>17 W ADAMS ST # 1ST</td>\n",
       "      <td>2002-11-16T00:00:00.000</td>\n",
       "      <td>2003-05-15T00:00:00.000</td>\n",
       "      <td>41.879342</td>\n",
       "      <td>-87.628412</td>\n",
       "      <td>{'latitude': '41.879341938770445', 'human_addr...</td>\n",
       "    </tr>\n",
       "    <tr>\n",
       "      <th>2</th>\n",
       "      <td>101-20030516</td>\n",
       "      <td>1337924</td>\n",
       "      <td>BERGHOFF RESTAURANT COMPANY OF DELAWARE</td>\n",
       "      <td>BERGHOFF'S RESTAURANT</td>\n",
       "      <td>17 W ADAMS ST # 1ST</td>\n",
       "      <td>2003-05-16T00:00:00.000</td>\n",
       "      <td>2003-11-15T00:00:00.000</td>\n",
       "      <td>41.879342</td>\n",
       "      <td>-87.628412</td>\n",
       "      <td>{'latitude': '41.879341938770445', 'human_addr...</td>\n",
       "    </tr>\n",
       "    <tr>\n",
       "      <th>3</th>\n",
       "      <td>100-20040516</td>\n",
       "      <td>1480076</td>\n",
       "      <td>BERGHOFF RESTAURANT COMPANY OF DELAWARE</td>\n",
       "      <td>BERGHOFF'S RESTAURANT</td>\n",
       "      <td>17 W ADAMS ST # 1ST</td>\n",
       "      <td>2004-05-16T00:00:00.000</td>\n",
       "      <td>2005-05-15T00:00:00.000</td>\n",
       "      <td>41.879342</td>\n",
       "      <td>-87.628412</td>\n",
       "      <td>{'latitude': '41.879341938770445', 'human_addr...</td>\n",
       "    </tr>\n",
       "    <tr>\n",
       "      <th>4</th>\n",
       "      <td>101-20031116</td>\n",
       "      <td>1404362</td>\n",
       "      <td>BERGHOFF RESTAURANT COMPANY OF DELAWARE</td>\n",
       "      <td>BERGHOFF'S RESTAURANT</td>\n",
       "      <td>17 W ADAMS ST # 1ST</td>\n",
       "      <td>2003-11-16T00:00:00.000</td>\n",
       "      <td>2004-05-15T00:00:00.000</td>\n",
       "      <td>41.879342</td>\n",
       "      <td>-87.628412</td>\n",
       "      <td>{'latitude': '41.879341938770445', 'human_addr...</td>\n",
       "    </tr>\n",
       "  </tbody>\n",
       "</table>\n",
       "</div>"
      ],
      "text/plain": [
       "             ID  LICENSE ID                               LEGAL NAME  \\\n",
       "0  101-20040516     1480073  BERGHOFF RESTAURANT COMPANY OF DELAWARE   \n",
       "1  101-20021116     1278029  BERGHOFF RESTAURANT COMPANY OF DELAWARE   \n",
       "2  101-20030516     1337924  BERGHOFF RESTAURANT COMPANY OF DELAWARE   \n",
       "3  100-20040516     1480076  BERGHOFF RESTAURANT COMPANY OF DELAWARE   \n",
       "4  101-20031116     1404362  BERGHOFF RESTAURANT COMPANY OF DELAWARE   \n",
       "\n",
       "  DOING BUSINESS AS NAME              ADDRESS  LICENSE TERM START DATE  \\\n",
       "0  BERGHOFF'S RESTAURANT  17 W ADAMS ST # 1ST  2004-05-16T00:00:00.000   \n",
       "1  BERGHOFF'S RESTAURANT  17 W ADAMS ST # 1ST  2002-11-16T00:00:00.000   \n",
       "2  BERGHOFF'S RESTAURANT  17 W ADAMS ST # 1ST  2003-05-16T00:00:00.000   \n",
       "3  BERGHOFF'S RESTAURANT  17 W ADAMS ST # 1ST  2004-05-16T00:00:00.000   \n",
       "4  BERGHOFF'S RESTAURANT  17 W ADAMS ST # 1ST  2003-11-16T00:00:00.000   \n",
       "\n",
       "  LICENSE TERM EXPIRATION DATE   LATITUDE  LONGITUDE  \\\n",
       "0      2005-05-15T00:00:00.000  41.879342 -87.628412   \n",
       "1      2003-05-15T00:00:00.000  41.879342 -87.628412   \n",
       "2      2003-11-15T00:00:00.000  41.879342 -87.628412   \n",
       "3      2005-05-15T00:00:00.000  41.879342 -87.628412   \n",
       "4      2004-05-15T00:00:00.000  41.879342 -87.628412   \n",
       "\n",
       "                                            LOCATION  \n",
       "0  {'latitude': '41.879341938770445', 'human_addr...  \n",
       "1  {'latitude': '41.879341938770445', 'human_addr...  \n",
       "2  {'latitude': '41.879341938770445', 'human_addr...  \n",
       "3  {'latitude': '41.879341938770445', 'human_addr...  \n",
       "4  {'latitude': '41.879341938770445', 'human_addr...  "
      ]
     },
     "execution_count": 328,
     "metadata": {},
     "output_type": "execute_result"
    }
   ],
   "source": [
    "licenses.head()"
   ]
  },
  {
   "cell_type": "code",
   "execution_count": 330,
   "metadata": {},
   "outputs": [
    {
     "data": {
      "text/html": [
       "<div>\n",
       "<style scoped>\n",
       "    .dataframe tbody tr th:only-of-type {\n",
       "        vertical-align: middle;\n",
       "    }\n",
       "\n",
       "    .dataframe tbody tr th {\n",
       "        vertical-align: top;\n",
       "    }\n",
       "\n",
       "    .dataframe thead th {\n",
       "        text-align: right;\n",
       "    }\n",
       "</style>\n",
       "<table border=\"1\" class=\"dataframe\">\n",
       "  <thead>\n",
       "    <tr style=\"text-align: right;\">\n",
       "      <th></th>\n",
       "      <th>ID</th>\n",
       "      <th>LICENSE ID</th>\n",
       "      <th>LEGAL NAME</th>\n",
       "      <th>DOING BUSINESS AS NAME</th>\n",
       "      <th>ADDRESS</th>\n",
       "      <th>LICENSE TERM START DATE</th>\n",
       "      <th>LICENSE TERM EXPIRATION DATE</th>\n",
       "      <th>LATITUDE</th>\n",
       "      <th>LONGITUDE</th>\n",
       "      <th>LOCATION</th>\n",
       "    </tr>\n",
       "  </thead>\n",
       "  <tbody>\n",
       "    <tr>\n",
       "      <th>138140</th>\n",
       "      <td>57047-20030216</td>\n",
       "      <td>1309168</td>\n",
       "      <td>DARIO PIZANO &amp; UBERTINO PIZANO</td>\n",
       "      <td>ARGENTINA FOODS</td>\n",
       "      <td>4500 S WOOD ST</td>\n",
       "      <td>2003-02-16T00:00:00.000</td>\n",
       "      <td>2004-02-15T00:00:00.000</td>\n",
       "      <td>41.812105</td>\n",
       "      <td>-87.670072</td>\n",
       "      <td>{'latitude': '41.81210515297724', 'human_addre...</td>\n",
       "    </tr>\n",
       "    <tr>\n",
       "      <th>138141</th>\n",
       "      <td>57048-20040216</td>\n",
       "      <td>1451202</td>\n",
       "      <td>DARIO PIZANO &amp; UBERTINO PIZANO</td>\n",
       "      <td>ARGENTINA FOODS</td>\n",
       "      <td>4500 S WOOD ST</td>\n",
       "      <td>2004-02-16T00:00:00.000</td>\n",
       "      <td>2005-02-15T00:00:00.000</td>\n",
       "      <td>41.812105</td>\n",
       "      <td>-87.670072</td>\n",
       "      <td>{'latitude': '41.81210515297724', 'human_addre...</td>\n",
       "    </tr>\n",
       "    <tr>\n",
       "      <th>138142</th>\n",
       "      <td>57047-20040216</td>\n",
       "      <td>1451201</td>\n",
       "      <td>DARIO PIZANO &amp; UBERTINO PIZANO</td>\n",
       "      <td>ARGENTINA FOODS</td>\n",
       "      <td>4500 S WOOD ST</td>\n",
       "      <td>2004-02-16T00:00:00.000</td>\n",
       "      <td>2005-02-15T00:00:00.000</td>\n",
       "      <td>41.812105</td>\n",
       "      <td>-87.670072</td>\n",
       "      <td>{'latitude': '41.81210515297724', 'human_addre...</td>\n",
       "    </tr>\n",
       "    <tr>\n",
       "      <th>138143</th>\n",
       "      <td>57047-20080116</td>\n",
       "      <td>1875987</td>\n",
       "      <td>DARIO PIZANO &amp; UBERTINO PIZANO</td>\n",
       "      <td>ARGENTINA FOODS</td>\n",
       "      <td>4500 S WOOD ST</td>\n",
       "      <td>2008-01-16T00:00:00.000</td>\n",
       "      <td>2010-01-15T00:00:00.000</td>\n",
       "      <td>41.812105</td>\n",
       "      <td>-87.670072</td>\n",
       "      <td>{'latitude': '41.81210515297724', 'human_addre...</td>\n",
       "    </tr>\n",
       "    <tr>\n",
       "      <th>138144</th>\n",
       "      <td>57048-20020216</td>\n",
       "      <td>1201355</td>\n",
       "      <td>DARIO PIZANO &amp; UBERTINO PIZANO</td>\n",
       "      <td>ARGENTINA FOODS</td>\n",
       "      <td>4500 S WOOD ST</td>\n",
       "      <td>2002-02-16T00:00:00.000</td>\n",
       "      <td>2003-02-15T00:00:00.000</td>\n",
       "      <td>41.812105</td>\n",
       "      <td>-87.670072</td>\n",
       "      <td>{'latitude': '41.81210515297724', 'human_addre...</td>\n",
       "    </tr>\n",
       "    <tr>\n",
       "      <th>138145</th>\n",
       "      <td>57048-20070216</td>\n",
       "      <td>1776100</td>\n",
       "      <td>DARIO PIZANO &amp; UBERTINO PIZANO</td>\n",
       "      <td>ARGENTINA FOODS</td>\n",
       "      <td>4500 S WOOD ST</td>\n",
       "      <td>2007-02-16T00:00:00.000</td>\n",
       "      <td>2008-01-15T00:00:00.000</td>\n",
       "      <td>41.812105</td>\n",
       "      <td>-87.670072</td>\n",
       "      <td>{'latitude': '41.81210515297724', 'human_addre...</td>\n",
       "    </tr>\n",
       "    <tr>\n",
       "      <th>138146</th>\n",
       "      <td>57048-20080116</td>\n",
       "      <td>1875988</td>\n",
       "      <td>DARIO PIZANO &amp; UBERTINO PIZANO</td>\n",
       "      <td>ARGENTINA FOODS</td>\n",
       "      <td>4500 S WOOD ST</td>\n",
       "      <td>2008-01-16T00:00:00.000</td>\n",
       "      <td>2010-01-15T00:00:00.000</td>\n",
       "      <td>41.812105</td>\n",
       "      <td>-87.670072</td>\n",
       "      <td>{'latitude': '41.81210515297724', 'human_addre...</td>\n",
       "    </tr>\n",
       "    <tr>\n",
       "      <th>138147</th>\n",
       "      <td>57047-20070216</td>\n",
       "      <td>1776099</td>\n",
       "      <td>DARIO PIZANO &amp; UBERTINO PIZANO</td>\n",
       "      <td>ARGENTINA FOODS</td>\n",
       "      <td>4500 S WOOD ST</td>\n",
       "      <td>2007-02-16T00:00:00.000</td>\n",
       "      <td>2008-01-15T00:00:00.000</td>\n",
       "      <td>41.812105</td>\n",
       "      <td>-87.670072</td>\n",
       "      <td>{'latitude': '41.81210515297724', 'human_addre...</td>\n",
       "    </tr>\n",
       "    <tr>\n",
       "      <th>138148</th>\n",
       "      <td>57047-20020216</td>\n",
       "      <td>1201354</td>\n",
       "      <td>DARIO PIZANO &amp; UBERTINO PIZANO</td>\n",
       "      <td>ARGENTINA FOODS</td>\n",
       "      <td>4500 S WOOD ST</td>\n",
       "      <td>2002-02-16T00:00:00.000</td>\n",
       "      <td>2003-02-15T00:00:00.000</td>\n",
       "      <td>41.812105</td>\n",
       "      <td>-87.670072</td>\n",
       "      <td>{'latitude': '41.81210515297724', 'human_addre...</td>\n",
       "    </tr>\n",
       "    <tr>\n",
       "      <th>138149</th>\n",
       "      <td>57047-20050216</td>\n",
       "      <td>1552210</td>\n",
       "      <td>DARIO PIZANO &amp; UBERTINO PIZANO</td>\n",
       "      <td>ARGENTINA FOODS</td>\n",
       "      <td>4500 S WOOD ST</td>\n",
       "      <td>2005-02-16T00:00:00.000</td>\n",
       "      <td>2006-02-15T00:00:00.000</td>\n",
       "      <td>41.812105</td>\n",
       "      <td>-87.670072</td>\n",
       "      <td>{'latitude': '41.81210515297724', 'human_addre...</td>\n",
       "    </tr>\n",
       "    <tr>\n",
       "      <th>138150</th>\n",
       "      <td>57048-20030216</td>\n",
       "      <td>1309169</td>\n",
       "      <td>DARIO PIZANO &amp; UBERTINO PIZANO</td>\n",
       "      <td>ARGENTINA FOODS</td>\n",
       "      <td>4500 S WOOD ST</td>\n",
       "      <td>2003-02-16T00:00:00.000</td>\n",
       "      <td>2004-02-15T00:00:00.000</td>\n",
       "      <td>41.812105</td>\n",
       "      <td>-87.670072</td>\n",
       "      <td>{'latitude': '41.81210515297724', 'human_addre...</td>\n",
       "    </tr>\n",
       "    <tr>\n",
       "      <th>138151</th>\n",
       "      <td>57047-20060216</td>\n",
       "      <td>1653863</td>\n",
       "      <td>DARIO PIZANO &amp; UBERTINO PIZANO</td>\n",
       "      <td>ARGENTINA FOODS</td>\n",
       "      <td>4500 S WOOD ST</td>\n",
       "      <td>2006-02-16T00:00:00.000</td>\n",
       "      <td>2007-02-15T00:00:00.000</td>\n",
       "      <td>41.812105</td>\n",
       "      <td>-87.670072</td>\n",
       "      <td>{'latitude': '41.81210515297724', 'human_addre...</td>\n",
       "    </tr>\n",
       "    <tr>\n",
       "      <th>138152</th>\n",
       "      <td>57048-20060216</td>\n",
       "      <td>1653864</td>\n",
       "      <td>DARIO PIZANO &amp; UBERTINO PIZANO</td>\n",
       "      <td>ARGENTINA FOODS</td>\n",
       "      <td>4500 S WOOD ST</td>\n",
       "      <td>2006-02-16T00:00:00.000</td>\n",
       "      <td>2007-02-15T00:00:00.000</td>\n",
       "      <td>41.812105</td>\n",
       "      <td>-87.670072</td>\n",
       "      <td>{'latitude': '41.81210515297724', 'human_addre...</td>\n",
       "    </tr>\n",
       "    <tr>\n",
       "      <th>138153</th>\n",
       "      <td>57048-20050216</td>\n",
       "      <td>1552211</td>\n",
       "      <td>DARIO PIZANO &amp; UBERTINO PIZANO</td>\n",
       "      <td>ARGENTINA FOODS</td>\n",
       "      <td>4500 S WOOD ST</td>\n",
       "      <td>2005-02-16T00:00:00.000</td>\n",
       "      <td>2006-02-15T00:00:00.000</td>\n",
       "      <td>41.812105</td>\n",
       "      <td>-87.670072</td>\n",
       "      <td>{'latitude': '41.81210515297724', 'human_addre...</td>\n",
       "    </tr>\n",
       "    <tr>\n",
       "      <th>296462</th>\n",
       "      <td>2616237-20180724</td>\n",
       "      <td>2616237</td>\n",
       "      <td>ST DEMETRIOS GREEK ORTHODOX CHURCH</td>\n",
       "      <td>ST. DEMETRIOS GREEK ORTHODOX CHURCH</td>\n",
       "      <td>2727 W WINONA ST</td>\n",
       "      <td>2018-07-24T00:00:00.000</td>\n",
       "      <td>2018-07-29T00:00:00.000</td>\n",
       "      <td>41.974653</td>\n",
       "      <td>-87.697529</td>\n",
       "      <td>{'latitude': '41.974653353169366', 'human_addr...</td>\n",
       "    </tr>\n",
       "    <tr>\n",
       "      <th>356357</th>\n",
       "      <td>2094468-20110520</td>\n",
       "      <td>2094468</td>\n",
       "      <td>CATHOLIC BISHOP OF CHICAGO</td>\n",
       "      <td>OLD ST. PATRICK'S CHURCH</td>\n",
       "      <td>1530 N DAYTON ST 2</td>\n",
       "      <td>2011-05-20T00:00:00.000</td>\n",
       "      <td>2011-05-20T00:00:00.000</td>\n",
       "      <td>41.909542</td>\n",
       "      <td>-87.649610</td>\n",
       "      <td>{'latitude': '41.909542191411916', 'human_addr...</td>\n",
       "    </tr>\n",
       "    <tr>\n",
       "      <th>553934</th>\n",
       "      <td>2608044-20180706</td>\n",
       "      <td>2608044</td>\n",
       "      <td>OLD ST PATRICKS CHURCH</td>\n",
       "      <td>OLD ST. PATRICK'S CHURCH</td>\n",
       "      <td>200 W ADAMS ST</td>\n",
       "      <td>2018-07-06T00:00:00.000</td>\n",
       "      <td>2018-06-23T00:00:00.000</td>\n",
       "      <td>41.879495</td>\n",
       "      <td>-87.633830</td>\n",
       "      <td>{'latitude': '41.879495472483235', 'human_addr...</td>\n",
       "    </tr>\n",
       "    <tr>\n",
       "      <th>852265</th>\n",
       "      <td>2009368-20091223</td>\n",
       "      <td>2009368</td>\n",
       "      <td>MAURO H. RAMOS</td>\n",
       "      <td>ARGENTINA FOODS</td>\n",
       "      <td>4500 S WOOD ST 1 1</td>\n",
       "      <td>2009-12-23T00:00:00.000</td>\n",
       "      <td>2012-01-15T00:00:00.000</td>\n",
       "      <td>41.812105</td>\n",
       "      <td>-87.670072</td>\n",
       "      <td>{'latitude': '41.81210515297724', 'human_addre...</td>\n",
       "    </tr>\n",
       "    <tr>\n",
       "      <th>852266</th>\n",
       "      <td>2009367-20100121</td>\n",
       "      <td>2009367</td>\n",
       "      <td>MAURO H. RAMOS</td>\n",
       "      <td>ARGENTINA FOODS</td>\n",
       "      <td>4500 S WOOD ST 1 1</td>\n",
       "      <td>2010-01-21T00:00:00.000</td>\n",
       "      <td>2012-01-15T00:00:00.000</td>\n",
       "      <td>41.812105</td>\n",
       "      <td>-87.670072</td>\n",
       "      <td>{'latitude': '41.81210515297724', 'human_addre...</td>\n",
       "    </tr>\n",
       "  </tbody>\n",
       "</table>\n",
       "</div>"
      ],
      "text/plain": [
       "                      ID  LICENSE ID                          LEGAL NAME  \\\n",
       "138140    57047-20030216     1309168      DARIO PIZANO & UBERTINO PIZANO   \n",
       "138141    57048-20040216     1451202      DARIO PIZANO & UBERTINO PIZANO   \n",
       "138142    57047-20040216     1451201      DARIO PIZANO & UBERTINO PIZANO   \n",
       "138143    57047-20080116     1875987      DARIO PIZANO & UBERTINO PIZANO   \n",
       "138144    57048-20020216     1201355      DARIO PIZANO & UBERTINO PIZANO   \n",
       "138145    57048-20070216     1776100      DARIO PIZANO & UBERTINO PIZANO   \n",
       "138146    57048-20080116     1875988      DARIO PIZANO & UBERTINO PIZANO   \n",
       "138147    57047-20070216     1776099      DARIO PIZANO & UBERTINO PIZANO   \n",
       "138148    57047-20020216     1201354      DARIO PIZANO & UBERTINO PIZANO   \n",
       "138149    57047-20050216     1552210      DARIO PIZANO & UBERTINO PIZANO   \n",
       "138150    57048-20030216     1309169      DARIO PIZANO & UBERTINO PIZANO   \n",
       "138151    57047-20060216     1653863      DARIO PIZANO & UBERTINO PIZANO   \n",
       "138152    57048-20060216     1653864      DARIO PIZANO & UBERTINO PIZANO   \n",
       "138153    57048-20050216     1552211      DARIO PIZANO & UBERTINO PIZANO   \n",
       "296462  2616237-20180724     2616237  ST DEMETRIOS GREEK ORTHODOX CHURCH   \n",
       "356357  2094468-20110520     2094468          CATHOLIC BISHOP OF CHICAGO   \n",
       "553934  2608044-20180706     2608044              OLD ST PATRICKS CHURCH   \n",
       "852265  2009368-20091223     2009368                      MAURO H. RAMOS   \n",
       "852266  2009367-20100121     2009367                      MAURO H. RAMOS   \n",
       "\n",
       "                     DOING BUSINESS AS NAME             ADDRESS  \\\n",
       "138140                      ARGENTINA FOODS      4500 S WOOD ST   \n",
       "138141                      ARGENTINA FOODS      4500 S WOOD ST   \n",
       "138142                      ARGENTINA FOODS      4500 S WOOD ST   \n",
       "138143                      ARGENTINA FOODS      4500 S WOOD ST   \n",
       "138144                      ARGENTINA FOODS      4500 S WOOD ST   \n",
       "138145                      ARGENTINA FOODS      4500 S WOOD ST   \n",
       "138146                      ARGENTINA FOODS      4500 S WOOD ST   \n",
       "138147                      ARGENTINA FOODS      4500 S WOOD ST   \n",
       "138148                      ARGENTINA FOODS      4500 S WOOD ST   \n",
       "138149                      ARGENTINA FOODS      4500 S WOOD ST   \n",
       "138150                      ARGENTINA FOODS      4500 S WOOD ST   \n",
       "138151                      ARGENTINA FOODS      4500 S WOOD ST   \n",
       "138152                      ARGENTINA FOODS      4500 S WOOD ST   \n",
       "138153                      ARGENTINA FOODS      4500 S WOOD ST   \n",
       "296462  ST. DEMETRIOS GREEK ORTHODOX CHURCH    2727 W WINONA ST   \n",
       "356357             OLD ST. PATRICK'S CHURCH  1530 N DAYTON ST 2   \n",
       "553934             OLD ST. PATRICK'S CHURCH      200 W ADAMS ST   \n",
       "852265                      ARGENTINA FOODS  4500 S WOOD ST 1 1   \n",
       "852266                      ARGENTINA FOODS  4500 S WOOD ST 1 1   \n",
       "\n",
       "        LICENSE TERM START DATE LICENSE TERM EXPIRATION DATE   LATITUDE  \\\n",
       "138140  2003-02-16T00:00:00.000      2004-02-15T00:00:00.000  41.812105   \n",
       "138141  2004-02-16T00:00:00.000      2005-02-15T00:00:00.000  41.812105   \n",
       "138142  2004-02-16T00:00:00.000      2005-02-15T00:00:00.000  41.812105   \n",
       "138143  2008-01-16T00:00:00.000      2010-01-15T00:00:00.000  41.812105   \n",
       "138144  2002-02-16T00:00:00.000      2003-02-15T00:00:00.000  41.812105   \n",
       "138145  2007-02-16T00:00:00.000      2008-01-15T00:00:00.000  41.812105   \n",
       "138146  2008-01-16T00:00:00.000      2010-01-15T00:00:00.000  41.812105   \n",
       "138147  2007-02-16T00:00:00.000      2008-01-15T00:00:00.000  41.812105   \n",
       "138148  2002-02-16T00:00:00.000      2003-02-15T00:00:00.000  41.812105   \n",
       "138149  2005-02-16T00:00:00.000      2006-02-15T00:00:00.000  41.812105   \n",
       "138150  2003-02-16T00:00:00.000      2004-02-15T00:00:00.000  41.812105   \n",
       "138151  2006-02-16T00:00:00.000      2007-02-15T00:00:00.000  41.812105   \n",
       "138152  2006-02-16T00:00:00.000      2007-02-15T00:00:00.000  41.812105   \n",
       "138153  2005-02-16T00:00:00.000      2006-02-15T00:00:00.000  41.812105   \n",
       "296462  2018-07-24T00:00:00.000      2018-07-29T00:00:00.000  41.974653   \n",
       "356357  2011-05-20T00:00:00.000      2011-05-20T00:00:00.000  41.909542   \n",
       "553934  2018-07-06T00:00:00.000      2018-06-23T00:00:00.000  41.879495   \n",
       "852265  2009-12-23T00:00:00.000      2012-01-15T00:00:00.000  41.812105   \n",
       "852266  2010-01-21T00:00:00.000      2012-01-15T00:00:00.000  41.812105   \n",
       "\n",
       "        LONGITUDE                                           LOCATION  \n",
       "138140 -87.670072  {'latitude': '41.81210515297724', 'human_addre...  \n",
       "138141 -87.670072  {'latitude': '41.81210515297724', 'human_addre...  \n",
       "138142 -87.670072  {'latitude': '41.81210515297724', 'human_addre...  \n",
       "138143 -87.670072  {'latitude': '41.81210515297724', 'human_addre...  \n",
       "138144 -87.670072  {'latitude': '41.81210515297724', 'human_addre...  \n",
       "138145 -87.670072  {'latitude': '41.81210515297724', 'human_addre...  \n",
       "138146 -87.670072  {'latitude': '41.81210515297724', 'human_addre...  \n",
       "138147 -87.670072  {'latitude': '41.81210515297724', 'human_addre...  \n",
       "138148 -87.670072  {'latitude': '41.81210515297724', 'human_addre...  \n",
       "138149 -87.670072  {'latitude': '41.81210515297724', 'human_addre...  \n",
       "138150 -87.670072  {'latitude': '41.81210515297724', 'human_addre...  \n",
       "138151 -87.670072  {'latitude': '41.81210515297724', 'human_addre...  \n",
       "138152 -87.670072  {'latitude': '41.81210515297724', 'human_addre...  \n",
       "138153 -87.670072  {'latitude': '41.81210515297724', 'human_addre...  \n",
       "296462 -87.697529  {'latitude': '41.974653353169366', 'human_addr...  \n",
       "356357 -87.649610  {'latitude': '41.909542191411916', 'human_addr...  \n",
       "553934 -87.633830  {'latitude': '41.879495472483235', 'human_addr...  \n",
       "852265 -87.670072  {'latitude': '41.81210515297724', 'human_addre...  \n",
       "852266 -87.670072  {'latitude': '41.81210515297724', 'human_addre...  "
      ]
     },
     "execution_count": 330,
     "metadata": {},
     "output_type": "execute_result"
    }
   ],
   "source": [
    "licenses[licenses['DOING BUSINESS AS NAME'].isin(names_of_missing['DBA Name'])]"
   ]
  },
  {
   "cell_type": "code",
   "execution_count": 331,
   "metadata": {},
   "outputs": [
    {
     "data": {
      "text/html": [
       "<div>\n",
       "<style scoped>\n",
       "    .dataframe tbody tr th:only-of-type {\n",
       "        vertical-align: middle;\n",
       "    }\n",
       "\n",
       "    .dataframe tbody tr th {\n",
       "        vertical-align: top;\n",
       "    }\n",
       "\n",
       "    .dataframe thead th {\n",
       "        text-align: right;\n",
       "    }\n",
       "</style>\n",
       "<table border=\"1\" class=\"dataframe\">\n",
       "  <thead>\n",
       "    <tr style=\"text-align: right;\">\n",
       "      <th></th>\n",
       "      <th>ID</th>\n",
       "      <th>LICENSE ID</th>\n",
       "      <th>LEGAL NAME</th>\n",
       "      <th>DOING BUSINESS AS NAME</th>\n",
       "      <th>ADDRESS</th>\n",
       "      <th>LICENSE TERM START DATE</th>\n",
       "      <th>LICENSE TERM EXPIRATION DATE</th>\n",
       "      <th>LATITUDE</th>\n",
       "      <th>LONGITUDE</th>\n",
       "      <th>LOCATION</th>\n",
       "    </tr>\n",
       "  </thead>\n",
       "  <tbody>\n",
       "  </tbody>\n",
       "</table>\n",
       "</div>"
      ],
      "text/plain": [
       "Empty DataFrame\n",
       "Columns: [ID, LICENSE ID, LEGAL NAME, DOING BUSINESS AS NAME, ADDRESS, LICENSE TERM START DATE, LICENSE TERM EXPIRATION DATE, LATITUDE, LONGITUDE, LOCATION]\n",
       "Index: []"
      ]
     },
     "execution_count": 331,
     "metadata": {},
     "output_type": "execute_result"
    }
   ],
   "source": [
    "licenses[licenses['LATITUDE'].isin(names_of_missing['Latitude']) & licenses['LONGITUDE'].isin(names_of_missing['Longitude'])]"
   ]
  },
  {
   "cell_type": "code",
   "execution_count": null,
   "metadata": {},
   "outputs": [],
   "source": []
  },
  {
   "cell_type": "markdown",
   "metadata": {},
   "source": [
    "We have then searched in the database containing the *business licenses* details but there is not entry in it corresponding to the name nor the latitude/longitude of thoses establishements with missing license numbers; those entries will be dropped.\n",
    "\n",
    "The rows with no license number are dropped."
   ]
  },
  {
   "cell_type": "code",
   "execution_count": 230,
   "metadata": {},
   "outputs": [],
   "source": [
    "eat_seat = eat_seat.drop(names_of_missing.index)"
   ]
  },
  {
   "cell_type": "code",
   "execution_count": 231,
   "metadata": {},
   "outputs": [],
   "source": [
    "eat_seat = eat_seat.rename(columns={\"License #\": \"License\"}) #rename the column 'License #' into 'License'"
   ]
  },
  {
   "cell_type": "code",
   "execution_count": 232,
   "metadata": {
    "collapsed": true,
    "jupyter": {
     "outputs_hidden": true
    }
   },
   "outputs": [
    {
     "data": {
      "text/plain": [
       "37285"
      ]
     },
     "execution_count": 232,
     "metadata": {},
     "output_type": "execute_result"
    }
   ],
   "source": [
    "len(eat_seat.License.unique())"
   ]
  },
  {
   "cell_type": "markdown",
   "metadata": {},
   "source": [
    "### 2.3 Community Areas"
   ]
  },
  {
   "cell_type": "code",
   "execution_count": 247,
   "metadata": {},
   "outputs": [
    {
     "data": {
      "text/plain": [
       "Inspection ID          0\n",
       "DBA Name               0\n",
       "License                0\n",
       "Facility Type          0\n",
       "Risk                   6\n",
       "Address                0\n",
       "Inspection Date        0\n",
       "Inspection Type        1\n",
       "Results                0\n",
       "Violations         36727\n",
       "Latitude             462\n",
       "Longitude            462\n",
       "FacilityGroup          0\n",
       "dtype: int64"
      ]
     },
     "execution_count": 247,
     "metadata": {},
     "output_type": "execute_result"
    }
   ],
   "source": [
    "#eat_seat = eat_seat.fillna(value = {'Latitude': 0, 'Longitude': 0})\n",
    "eat_seat.isnull().sum()"
   ]
  },
  {
   "cell_type": "markdown",
   "metadata": {},
   "source": [
    "We see that now 462 entries have the latitude or longitude missing. We create a dataframe containing them."
   ]
  },
  {
   "cell_type": "code",
   "execution_count": 251,
   "metadata": {},
   "outputs": [
    {
     "data": {
      "text/plain": [
       "462"
      ]
     },
     "execution_count": 251,
     "metadata": {},
     "output_type": "execute_result"
    }
   ],
   "source": [
    "#movies[(movies.duration >= 200) & (movies.genre == 'Drama')]\n",
    "\n",
    "missing_location = eat_seat[(eat_seat['Longitude'].isnull()) | (eat_seat['Latitude'].isnull())]\n",
    "\n",
    "len(missing_location)"
   ]
  },
  {
   "cell_type": "code",
   "execution_count": 252,
   "metadata": {},
   "outputs": [
    {
     "data": {
      "text/html": [
       "<div>\n",
       "<style scoped>\n",
       "    .dataframe tbody tr th:only-of-type {\n",
       "        vertical-align: middle;\n",
       "    }\n",
       "\n",
       "    .dataframe tbody tr th {\n",
       "        vertical-align: top;\n",
       "    }\n",
       "\n",
       "    .dataframe thead th {\n",
       "        text-align: right;\n",
       "    }\n",
       "</style>\n",
       "<table border=\"1\" class=\"dataframe\">\n",
       "  <thead>\n",
       "    <tr style=\"text-align: right;\">\n",
       "      <th></th>\n",
       "      <th>Inspection ID</th>\n",
       "      <th>DBA Name</th>\n",
       "      <th>License</th>\n",
       "      <th>Facility Type</th>\n",
       "      <th>Risk</th>\n",
       "      <th>Address</th>\n",
       "      <th>Inspection Date</th>\n",
       "      <th>Inspection Type</th>\n",
       "      <th>Results</th>\n",
       "      <th>Violations</th>\n",
       "      <th>Latitude</th>\n",
       "      <th>Longitude</th>\n",
       "      <th>FacilityGroup</th>\n",
       "    </tr>\n",
       "  </thead>\n",
       "  <tbody>\n",
       "    <tr>\n",
       "      <th>3267</th>\n",
       "      <td>2320308</td>\n",
       "      <td>O'HARE GASLIGHT CLUB</td>\n",
       "      <td>43114.0</td>\n",
       "      <td>Restaurant</td>\n",
       "      <td>3.0</td>\n",
       "      <td>4000 N O'HARE FIELD</td>\n",
       "      <td>2019-10-22</td>\n",
       "      <td>Canvass</td>\n",
       "      <td>Pass</td>\n",
       "      <td>43. IN-USE UTENSILS: PROPERLY STORED - Comment...</td>\n",
       "      <td>NaN</td>\n",
       "      <td>NaN</td>\n",
       "      <td>restaurant</td>\n",
       "    </tr>\n",
       "    <tr>\n",
       "      <th>3600</th>\n",
       "      <td>2315463</td>\n",
       "      <td>VEENO</td>\n",
       "      <td>2578370.0</td>\n",
       "      <td>Restaurant</td>\n",
       "      <td>2.0</td>\n",
       "      <td>2009 S LAFIN ST</td>\n",
       "      <td>2019-10-08</td>\n",
       "      <td>License</td>\n",
       "      <td>Fail</td>\n",
       "      <td>3. MANAGEMENT, FOOD EMPLOYEE AND CONDITIONAL E...</td>\n",
       "      <td>NaN</td>\n",
       "      <td>NaN</td>\n",
       "      <td>restaurant</td>\n",
       "    </tr>\n",
       "    <tr>\n",
       "      <th>3614</th>\n",
       "      <td>2315467</td>\n",
       "      <td>VEENO</td>\n",
       "      <td>2578371.0</td>\n",
       "      <td>Restaurant</td>\n",
       "      <td>1.0</td>\n",
       "      <td>2009 S LAFIN ST</td>\n",
       "      <td>2019-10-08</td>\n",
       "      <td>License</td>\n",
       "      <td>Fail</td>\n",
       "      <td>NaN</td>\n",
       "      <td>NaN</td>\n",
       "      <td>NaN</td>\n",
       "      <td>restaurant</td>\n",
       "    </tr>\n",
       "    <tr>\n",
       "      <th>4163</th>\n",
       "      <td>2312357</td>\n",
       "      <td>PACINO'S RC, LLC</td>\n",
       "      <td>2683667.0</td>\n",
       "      <td>Restaurant</td>\n",
       "      <td>3.0</td>\n",
       "      <td>1010 S DELANO CT</td>\n",
       "      <td>2019-09-16</td>\n",
       "      <td>License Re-Inspection</td>\n",
       "      <td>Pass</td>\n",
       "      <td>NaN</td>\n",
       "      <td>NaN</td>\n",
       "      <td>NaN</td>\n",
       "      <td>restaurant</td>\n",
       "    </tr>\n",
       "    <tr>\n",
       "      <th>4179</th>\n",
       "      <td>2312360</td>\n",
       "      <td>PACINO'S RC, LLC</td>\n",
       "      <td>2683669.0</td>\n",
       "      <td>Restaurant</td>\n",
       "      <td>1.0</td>\n",
       "      <td>1010 S DELANO CT</td>\n",
       "      <td>2019-09-16</td>\n",
       "      <td>License Re-Inspection</td>\n",
       "      <td>Pass</td>\n",
       "      <td>NaN</td>\n",
       "      <td>NaN</td>\n",
       "      <td>NaN</td>\n",
       "      <td>restaurant</td>\n",
       "    </tr>\n",
       "  </tbody>\n",
       "</table>\n",
       "</div>"
      ],
      "text/plain": [
       "      Inspection ID              DBA Name    License Facility Type  Risk  \\\n",
       "3267        2320308  O'HARE GASLIGHT CLUB    43114.0    Restaurant   3.0   \n",
       "3600        2315463                 VEENO  2578370.0    Restaurant   2.0   \n",
       "3614        2315467                 VEENO  2578371.0    Restaurant   1.0   \n",
       "4163        2312357      PACINO'S RC, LLC  2683667.0    Restaurant   3.0   \n",
       "4179        2312360      PACINO'S RC, LLC  2683669.0    Restaurant   1.0   \n",
       "\n",
       "                   Address Inspection Date        Inspection Type Results  \\\n",
       "3267  4000 N O'HARE FIELD       2019-10-22                Canvass    Pass   \n",
       "3600      2009 S LAFIN ST       2019-10-08                License    Fail   \n",
       "3614      2009 S LAFIN ST       2019-10-08                License    Fail   \n",
       "4163     1010 S DELANO CT       2019-09-16  License Re-Inspection    Pass   \n",
       "4179     1010 S DELANO CT       2019-09-16  License Re-Inspection    Pass   \n",
       "\n",
       "                                             Violations  Latitude  Longitude  \\\n",
       "3267  43. IN-USE UTENSILS: PROPERLY STORED - Comment...       NaN        NaN   \n",
       "3600  3. MANAGEMENT, FOOD EMPLOYEE AND CONDITIONAL E...       NaN        NaN   \n",
       "3614                                                NaN       NaN        NaN   \n",
       "4163                                                NaN       NaN        NaN   \n",
       "4179                                                NaN       NaN        NaN   \n",
       "\n",
       "     FacilityGroup  \n",
       "3267    restaurant  \n",
       "3600    restaurant  \n",
       "3614    restaurant  \n",
       "4163    restaurant  \n",
       "4179    restaurant  "
      ]
     },
     "execution_count": 252,
     "metadata": {},
     "output_type": "execute_result"
    }
   ],
   "source": [
    "missing_location.head()"
   ]
  },
  {
   "cell_type": "code",
   "execution_count": 258,
   "metadata": {},
   "outputs": [
    {
     "data": {
      "text/plain": [
       "0"
      ]
     },
     "execution_count": 258,
     "metadata": {},
     "output_type": "execute_result"
    }
   ],
   "source": [
    "only_longitude_or_latitude = missing_location = eat_seat[(eat_seat['Longitude'].isnull()) ^ (eat_seat['Latitude'].isnull())]\n",
    "len(only_longitude_or_latitude)"
   ]
  },
  {
   "cell_type": "markdown",
   "metadata": {},
   "source": [
    "We see that there is no entry where only either the latitude or the longitude is missing so we can consider one of the two misisng as the only condition for the next iterating processes."
   ]
  },
  {
   "cell_type": "markdown",
   "metadata": {},
   "source": [
    "We search in the dataframe eat_seat if those missing_location entries are sometimes entered in the data with the fields latitude and longitude not empty."
   ]
  },
  {
   "cell_type": "code",
   "execution_count": 259,
   "metadata": {},
   "outputs": [
    {
     "data": {
      "text/html": [
       "<div>\n",
       "<style scoped>\n",
       "    .dataframe tbody tr th:only-of-type {\n",
       "        vertical-align: middle;\n",
       "    }\n",
       "\n",
       "    .dataframe tbody tr th {\n",
       "        vertical-align: top;\n",
       "    }\n",
       "\n",
       "    .dataframe thead th {\n",
       "        text-align: right;\n",
       "    }\n",
       "</style>\n",
       "<table border=\"1\" class=\"dataframe\">\n",
       "  <thead>\n",
       "    <tr style=\"text-align: right;\">\n",
       "      <th></th>\n",
       "      <th>Inspection ID</th>\n",
       "      <th>DBA Name</th>\n",
       "      <th>License</th>\n",
       "      <th>Facility Type</th>\n",
       "      <th>Risk</th>\n",
       "      <th>Address</th>\n",
       "      <th>Inspection Date</th>\n",
       "      <th>Inspection Type</th>\n",
       "      <th>Results</th>\n",
       "      <th>Violations</th>\n",
       "      <th>Latitude</th>\n",
       "      <th>Longitude</th>\n",
       "      <th>FacilityGroup</th>\n",
       "    </tr>\n",
       "  </thead>\n",
       "  <tbody>\n",
       "  </tbody>\n",
       "</table>\n",
       "</div>"
      ],
      "text/plain": [
       "Empty DataFrame\n",
       "Columns: [Inspection ID, DBA Name, License, Facility Type, Risk, Address, Inspection Date, Inspection Type, Results, Violations, Latitude, Longitude, FacilityGroup]\n",
       "Index: []"
      ]
     },
     "execution_count": 259,
     "metadata": {},
     "output_type": "execute_result"
    }
   ],
   "source": [
    "eat_seat[eat_seat['License'].isin(missing_location['License']) & (eat_seat['Longitude'].notnull())]"
   ]
  },
  {
   "cell_type": "markdown",
   "metadata": {},
   "source": [
    "We see that there is no entry we can use to infere the latitude and longitude missing."
   ]
  },
  {
   "cell_type": "code",
   "execution_count": 106,
   "metadata": {},
   "outputs": [],
   "source": [
    "Long_null = eat_seat[eat_seat['Longitude'] == 0 ].index\n",
    "eat_seat.drop(Long_null, inplace=True)\n",
    "\n",
    "Lat_null = eat_seat[eat_seat['Latitude'] == 0 ].index\n",
    "eat_seat.drop(Lat_null, inplace=True)"
   ]
  },
  {
   "cell_type": "code",
   "execution_count": 71,
   "metadata": {},
   "outputs": [
    {
     "data": {
      "text/html": [
       "<div>\n",
       "<style scoped>\n",
       "    .dataframe tbody tr th:only-of-type {\n",
       "        vertical-align: middle;\n",
       "    }\n",
       "\n",
       "    .dataframe tbody tr th {\n",
       "        vertical-align: top;\n",
       "    }\n",
       "\n",
       "    .dataframe thead th {\n",
       "        text-align: right;\n",
       "    }\n",
       "</style>\n",
       "<table border=\"1\" class=\"dataframe\">\n",
       "  <thead>\n",
       "    <tr style=\"text-align: right;\">\n",
       "      <th></th>\n",
       "      <th>Inspection ID</th>\n",
       "      <th>DBA Name</th>\n",
       "      <th>License</th>\n",
       "      <th>Facility Type</th>\n",
       "      <th>Risk</th>\n",
       "      <th>Address</th>\n",
       "      <th>Inspection Date</th>\n",
       "      <th>Inspection Type</th>\n",
       "      <th>Results</th>\n",
       "      <th>Violations</th>\n",
       "      <th>Latitude</th>\n",
       "      <th>Longitude</th>\n",
       "      <th>FacilityGroup</th>\n",
       "      <th>Location</th>\n",
       "    </tr>\n",
       "  </thead>\n",
       "  <tbody>\n",
       "    <tr>\n",
       "      <th>0</th>\n",
       "      <td>2320971</td>\n",
       "      <td>JUMPSTART EARLY LEARNING ACADEMY</td>\n",
       "      <td>2589822.0</td>\n",
       "      <td>Children's Services Facility</td>\n",
       "      <td>3.0</td>\n",
       "      <td>7559 W ADDISON ST</td>\n",
       "      <td>2019-11-01</td>\n",
       "      <td>Canvass</td>\n",
       "      <td>Pass w/ Conditions</td>\n",
       "      <td>5. PROCEDURES FOR RESPONDING TO VOMITING AND D...</td>\n",
       "      <td>41.945065</td>\n",
       "      <td>-87.816734</td>\n",
       "      <td>childrens_services</td>\n",
       "      <td>(41.94506485701999, -87.81673402827133)</td>\n",
       "    </tr>\n",
       "    <tr>\n",
       "      <th>1</th>\n",
       "      <td>2320944</td>\n",
       "      <td>ACADEMY OF CREATIVE THINKING, INC.</td>\n",
       "      <td>2308857.0</td>\n",
       "      <td>Children's Services Facility</td>\n",
       "      <td>3.0</td>\n",
       "      <td>4200 N Central AVE</td>\n",
       "      <td>2019-11-01</td>\n",
       "      <td>Canvass</td>\n",
       "      <td>Pass w/ Conditions</td>\n",
       "      <td>10. ADEQUATE HANDWASHING SINKS PROPERLY SUPPLI...</td>\n",
       "      <td>41.956874</td>\n",
       "      <td>-87.767272</td>\n",
       "      <td>childrens_services</td>\n",
       "      <td>(41.95687428646395, -87.76727186013788)</td>\n",
       "    </tr>\n",
       "    <tr>\n",
       "      <th>2</th>\n",
       "      <td>2320896</td>\n",
       "      <td>LITTLE ACHIEVERS ACADEMY</td>\n",
       "      <td>2216050.0</td>\n",
       "      <td>Children's Services Facility</td>\n",
       "      <td>3.0</td>\n",
       "      <td>3801 W DIVERSEY AVE</td>\n",
       "      <td>2019-10-31</td>\n",
       "      <td>Canvass</td>\n",
       "      <td>Fail</td>\n",
       "      <td>3. MANAGEMENT, FOOD EMPLOYEE AND CONDITIONAL E...</td>\n",
       "      <td>41.931741</td>\n",
       "      <td>-87.722146</td>\n",
       "      <td>childrens_services</td>\n",
       "      <td>(41.93174082265093, -87.72214617034382)</td>\n",
       "    </tr>\n",
       "  </tbody>\n",
       "</table>\n",
       "</div>"
      ],
      "text/plain": [
       "   Inspection ID                            DBA Name    License  \\\n",
       "0        2320971    JUMPSTART EARLY LEARNING ACADEMY  2589822.0   \n",
       "1        2320944  ACADEMY OF CREATIVE THINKING, INC.  2308857.0   \n",
       "2        2320896            LITTLE ACHIEVERS ACADEMY  2216050.0   \n",
       "\n",
       "                  Facility Type  Risk               Address Inspection Date  \\\n",
       "0  Children's Services Facility   3.0    7559 W ADDISON ST       2019-11-01   \n",
       "1  Children's Services Facility   3.0   4200 N Central AVE       2019-11-01   \n",
       "2  Children's Services Facility   3.0  3801 W DIVERSEY AVE       2019-10-31   \n",
       "\n",
       "  Inspection Type             Results  \\\n",
       "0         Canvass  Pass w/ Conditions   \n",
       "1         Canvass  Pass w/ Conditions   \n",
       "2         Canvass                Fail   \n",
       "\n",
       "                                          Violations   Latitude  Longitude  \\\n",
       "0  5. PROCEDURES FOR RESPONDING TO VOMITING AND D...  41.945065 -87.816734   \n",
       "1  10. ADEQUATE HANDWASHING SINKS PROPERLY SUPPLI...  41.956874 -87.767272   \n",
       "2  3. MANAGEMENT, FOOD EMPLOYEE AND CONDITIONAL E...  41.931741 -87.722146   \n",
       "\n",
       "        FacilityGroup                                 Location  \n",
       "0  childrens_services  (41.94506485701999, -87.81673402827133)  \n",
       "1  childrens_services  (41.95687428646395, -87.76727186013788)  \n",
       "2  childrens_services  (41.93174082265093, -87.72214617034382)  "
      ]
     },
     "execution_count": 71,
     "metadata": {},
     "output_type": "execute_result"
    }
   ],
   "source": [
    "eat_seat['Location'] = list(zip(eat_seat['Latitude'], eat_seat['Longitude']))\n",
    "eat_seat.head(3)"
   ]
  },
  {
   "cell_type": "markdown",
   "metadata": {},
   "source": [
    "https://data.cityofchicago.org/Facilities-Geographic-Boundaries/Boundaries-Community-Areas-current-/cauq-8yn6 provides a dataset containing **A COMPLETER**\n",
    "\n",
    "It will allows to properly attribute the *Community Areas* numbers to each establishments."
   ]
  },
  {
   "cell_type": "code",
   "execution_count": 36,
   "metadata": {},
   "outputs": [
    {
     "data": {
      "text/html": [
       "<div>\n",
       "<style scoped>\n",
       "    .dataframe tbody tr th:only-of-type {\n",
       "        vertical-align: middle;\n",
       "    }\n",
       "\n",
       "    .dataframe tbody tr th {\n",
       "        vertical-align: top;\n",
       "    }\n",
       "\n",
       "    .dataframe thead th {\n",
       "        text-align: right;\n",
       "    }\n",
       "</style>\n",
       "<table border=\"1\" class=\"dataframe\">\n",
       "  <thead>\n",
       "    <tr style=\"text-align: right;\">\n",
       "      <th></th>\n",
       "      <th>the_geom</th>\n",
       "      <th>AREA_NUMBE</th>\n",
       "    </tr>\n",
       "  </thead>\n",
       "  <tbody>\n",
       "    <tr>\n",
       "      <th>0</th>\n",
       "      <td>MULTIPOLYGON (((-87.60914087617894 41.84469250...</td>\n",
       "      <td>35</td>\n",
       "    </tr>\n",
       "    <tr>\n",
       "      <th>1</th>\n",
       "      <td>MULTIPOLYGON (((-87.59215283879394 41.81692934...</td>\n",
       "      <td>36</td>\n",
       "    </tr>\n",
       "    <tr>\n",
       "      <th>2</th>\n",
       "      <td>MULTIPOLYGON (((-87.62879823733725 41.80189303...</td>\n",
       "      <td>37</td>\n",
       "    </tr>\n",
       "  </tbody>\n",
       "</table>\n",
       "</div>"
      ],
      "text/plain": [
       "                                            the_geom  AREA_NUMBE\n",
       "0  MULTIPOLYGON (((-87.60914087617894 41.84469250...          35\n",
       "1  MULTIPOLYGON (((-87.59215283879394 41.81692934...          36\n",
       "2  MULTIPOLYGON (((-87.62879823733725 41.80189303...          37"
      ]
     },
     "execution_count": 36,
     "metadata": {},
     "output_type": "execute_result"
    }
   ],
   "source": [
    "commareas = pd.read_csv('CommAreas.csv', error_bad_lines=False)\n",
    "commareas = commareas.drop(columns = ['PERIMETER', 'AREA', 'COMAREA_', 'COMAREA_ID',\\\n",
    "                                   'COMMUNITY', 'AREA_NUM_1', 'SHAPE_AREA', 'SHAPE_LEN'])\n",
    "commareas.head(3)"
   ]
  },
  {
   "cell_type": "code",
   "execution_count": 37,
   "metadata": {},
   "outputs": [
    {
     "name": "stdout",
     "output_type": "stream",
     "text": [
      "<class 'pandas.core.frame.DataFrame'>\n",
      "RangeIndex: 77 entries, 0 to 76\n",
      "Data columns (total 2 columns):\n",
      "the_geom      77 non-null object\n",
      "AREA_NUMBE    77 non-null int64\n",
      "dtypes: int64(1), object(1)\n",
      "memory usage: 1.3+ KB\n"
     ]
    }
   ],
   "source": [
    "commareas.info()"
   ]
  },
  {
   "cell_type": "markdown",
   "metadata": {},
   "source": [
    "The **clean_polygon** function is created to standardized the `the_geom` column which needs to be in the same format than the `Location` column from the *eat_seat* Dataframe. "
   ]
  },
  {
   "cell_type": "code",
   "execution_count": 38,
   "metadata": {},
   "outputs": [],
   "source": [
    "def clean_polygon(poly) :\n",
    "    pair = poly.strip('MULTIPOLYGON (((').strip(')))').split(' ')\n",
    "    pair[0] = re.sub(\"[^0-9]\", \"\", pair[0])\n",
    "    pair[1] = re.sub(\"[^0-9]\", \"\", pair[1])\n",
    "    return (float(pair[1]),-float(pair[0]))"
   ]
  },
  {
   "cell_type": "code",
   "execution_count": 39,
   "metadata": {},
   "outputs": [],
   "source": [
    "commareas.the_geom = commareas.the_geom.apply(clean_polygon)"
   ]
  },
  {
   "cell_type": "code",
   "execution_count": 40,
   "metadata": {},
   "outputs": [
    {
     "data": {
      "text/html": [
       "<div>\n",
       "<style scoped>\n",
       "    .dataframe tbody tr th:only-of-type {\n",
       "        vertical-align: middle;\n",
       "    }\n",
       "\n",
       "    .dataframe tbody tr th {\n",
       "        vertical-align: top;\n",
       "    }\n",
       "\n",
       "    .dataframe thead th {\n",
       "        text-align: right;\n",
       "    }\n",
       "</style>\n",
       "<table border=\"1\" class=\"dataframe\">\n",
       "  <thead>\n",
       "    <tr style=\"text-align: right;\">\n",
       "      <th></th>\n",
       "      <th>the_geom</th>\n",
       "      <th>AREA_NUMBE</th>\n",
       "    </tr>\n",
       "  </thead>\n",
       "  <tbody>\n",
       "    <tr>\n",
       "      <th>0</th>\n",
       "      <td>(4184469250265398.0, -8760914087617894.0)</td>\n",
       "      <td>35</td>\n",
       "    </tr>\n",
       "    <tr>\n",
       "      <th>1</th>\n",
       "      <td>(4181692934626684.0, -8759215283879394.0)</td>\n",
       "      <td>36</td>\n",
       "    </tr>\n",
       "    <tr>\n",
       "      <th>2</th>\n",
       "      <td>(4180189303368919.0, -8762879823733725.0)</td>\n",
       "      <td>37</td>\n",
       "    </tr>\n",
       "    <tr>\n",
       "      <th>3</th>\n",
       "      <td>(4181681377057218.0, -876067081256125.0)</td>\n",
       "      <td>38</td>\n",
       "    </tr>\n",
       "    <tr>\n",
       "      <th>4</th>\n",
       "      <td>(4181692934626684.0, -8759215283879394.0)</td>\n",
       "      <td>39</td>\n",
       "    </tr>\n",
       "  </tbody>\n",
       "</table>\n",
       "</div>"
      ],
      "text/plain": [
       "                                    the_geom  AREA_NUMBE\n",
       "0  (4184469250265398.0, -8760914087617894.0)          35\n",
       "1  (4181692934626684.0, -8759215283879394.0)          36\n",
       "2  (4180189303368919.0, -8762879823733725.0)          37\n",
       "3   (4181681377057218.0, -876067081256125.0)          38\n",
       "4  (4181692934626684.0, -8759215283879394.0)          39"
      ]
     },
     "execution_count": 40,
     "metadata": {},
     "output_type": "execute_result"
    }
   ],
   "source": [
    "commareas.head()"
   ]
  },
  {
   "cell_type": "code",
   "execution_count": 41,
   "metadata": {},
   "outputs": [],
   "source": [
    "polygons = commareas['the_geom']\n",
    "comareanum = commareas['AREA_NUMBE']"
   ]
  },
  {
   "cell_type": "code",
   "execution_count": 42,
   "metadata": {},
   "outputs": [
    {
     "ename": "SyntaxError",
     "evalue": "invalid syntax (<ipython-input-42-4ee2aa8ca59d>, line 4)",
     "output_type": "error",
     "traceback": [
      "\u001b[1;36m  File \u001b[1;32m\"<ipython-input-42-4ee2aa8ca59d>\"\u001b[1;36m, line \u001b[1;32m4\u001b[0m\n\u001b[1;33m    else :\u001b[0m\n\u001b[1;37m       ^\u001b[0m\n\u001b[1;31mSyntaxError\u001b[0m\u001b[1;31m:\u001b[0m invalid syntax\n"
     ]
    }
   ],
   "source": [
    "c = []\n",
    "count = 0\n",
    "for x in loc :\n",
    "    else :\n",
    "        if type(x) == tuple :\n",
    "            point = Point(x)\n",
    "            con = 1\n",
    "            for y in d :\n",
    "                if d[y].contains(point) :\n",
    "                    c.append(float(y))\n",
    "                    break\n",
    "                else :\n",
    "                    con += 1\n",
    "                    if con > len(d) :\n",
    "                        c.append(0.0)\n",
    "                        count += 1\n",
    "                    else :\n",
    "                        pass\n",
    "        else :\n",
    "            c.append(0.0)\n",
    "print(count)"
   ]
  },
  {
   "cell_type": "code",
   "execution_count": null,
   "metadata": {},
   "outputs": [],
   "source": [
    "def comarea_attribution(pair) :\n",
    "    Loc = Point(pair)\n",
    "    "
   ]
  },
  {
   "cell_type": "markdown",
   "metadata": {},
   "source": [
    "Here it checks if the loc is given (lat AND long must be non null to pass the condition).\n",
    "\n",
    "If it doesn't pass, the value 0.0 is given.\n",
    "\n",
    "If it passes, the loop calculates the comm area by checking if the location point is in a comm area polygon and gives the comm area number.\n",
    "\n",
    "If the point is not in a comm area, the number 0.0 is given so we can exclude this row."
   ]
  },
  {
   "cell_type": "code",
   "execution_count": 44,
   "metadata": {},
   "outputs": [
    {
     "name": "stdout",
     "output_type": "stream",
     "text": [
      "157473\n",
      "3033\n"
     ]
    }
   ],
   "source": [
    "print(len(c))\n",
    "count = 0\n",
    "for x in c :\n",
    "    if x == 0.0 :\n",
    "        count += 1\n",
    "    else :\n",
    "        pass\n",
    "print(count)"
   ]
  },
  {
   "cell_type": "code",
   "execution_count": 45,
   "metadata": {},
   "outputs": [
    {
     "data": {
      "text/html": [
       "<div>\n",
       "<style scoped>\n",
       "    .dataframe tbody tr th:only-of-type {\n",
       "        vertical-align: middle;\n",
       "    }\n",
       "\n",
       "    .dataframe tbody tr th {\n",
       "        vertical-align: top;\n",
       "    }\n",
       "\n",
       "    .dataframe thead th {\n",
       "        text-align: right;\n",
       "    }\n",
       "</style>\n",
       "<table border=\"1\" class=\"dataframe\">\n",
       "  <thead>\n",
       "    <tr style=\"text-align: right;\">\n",
       "      <th></th>\n",
       "      <th>Inspection ID</th>\n",
       "      <th>DBA Name</th>\n",
       "      <th>License</th>\n",
       "      <th>Facility Type</th>\n",
       "      <th>Risk</th>\n",
       "      <th>Address</th>\n",
       "      <th>Inspection Date</th>\n",
       "      <th>Inspection Type</th>\n",
       "      <th>Results</th>\n",
       "      <th>Violations</th>\n",
       "      <th>Latitude</th>\n",
       "      <th>Longitude</th>\n",
       "      <th>Location</th>\n",
       "      <th>FacilityGroup</th>\n",
       "      <th>Community Area</th>\n",
       "    </tr>\n",
       "  </thead>\n",
       "  <tbody>\n",
       "    <tr>\n",
       "      <td>0</td>\n",
       "      <td>2352683</td>\n",
       "      <td>CHIPOTLE MEXICAN GRILL</td>\n",
       "      <td>2670642.0</td>\n",
       "      <td>Restaurant</td>\n",
       "      <td>3.0</td>\n",
       "      <td>1025 W ADDISON ST</td>\n",
       "      <td>2019-12-04</td>\n",
       "      <td>License Re-Inspection</td>\n",
       "      <td>Pass w/ Conditions</td>\n",
       "      <td>3. MANAGEMENT, FOOD EMPLOYEE AND CONDITIONAL E...</td>\n",
       "      <td>41.947118</td>\n",
       "      <td>-87.655381</td>\n",
       "      <td>{'latitude': '-87.6553811622124', 'longitude':...</td>\n",
       "      <td>restaurant</td>\n",
       "      <td>6</td>\n",
       "    </tr>\n",
       "    <tr>\n",
       "      <td>1</td>\n",
       "      <td>2352734</td>\n",
       "      <td>CHILI'S T-I</td>\n",
       "      <td>34169.0</td>\n",
       "      <td>Restaurant</td>\n",
       "      <td>3.0</td>\n",
       "      <td>11601 W TOUHY AVE</td>\n",
       "      <td>2019-12-04</td>\n",
       "      <td>Canvass</td>\n",
       "      <td>Pass</td>\n",
       "      <td>10. ADEQUATE HANDWASHING SINKS PROPERLY SUPPLI...</td>\n",
       "      <td>42.008536</td>\n",
       "      <td>-87.914428</td>\n",
       "      <td>{'latitude': '-87.91442843927047', 'longitude'...</td>\n",
       "      <td>restaurant</td>\n",
       "      <td>0</td>\n",
       "    </tr>\n",
       "    <tr>\n",
       "      <td>2</td>\n",
       "      <td>2352701</td>\n",
       "      <td>TAQUERIA BLUE LINE INC.</td>\n",
       "      <td>2703436.0</td>\n",
       "      <td>Restaurant</td>\n",
       "      <td>3.0</td>\n",
       "      <td>3401 W BELMONT AVE</td>\n",
       "      <td>2019-12-04</td>\n",
       "      <td>License</td>\n",
       "      <td>Pass w/ Conditions</td>\n",
       "      <td>3. MANAGEMENT, FOOD EMPLOYEE AND CONDITIONAL E...</td>\n",
       "      <td>41.939168</td>\n",
       "      <td>-87.712546</td>\n",
       "      <td>{'latitude': '-87.71254599117191', 'longitude'...</td>\n",
       "      <td>restaurant</td>\n",
       "      <td>21</td>\n",
       "    </tr>\n",
       "    <tr>\n",
       "      <td>3</td>\n",
       "      <td>2352738</td>\n",
       "      <td>AMARIT RESTAURANT</td>\n",
       "      <td>1801618.0</td>\n",
       "      <td>Restaurant</td>\n",
       "      <td>3.0</td>\n",
       "      <td>600 S DEARBORN ST</td>\n",
       "      <td>2019-12-04</td>\n",
       "      <td>Canvass Re-Inspection</td>\n",
       "      <td>Pass</td>\n",
       "      <td>NaN</td>\n",
       "      <td>41.874481</td>\n",
       "      <td>-87.629357</td>\n",
       "      <td>{'latitude': '-87.62935653990546', 'longitude'...</td>\n",
       "      <td>restaurant</td>\n",
       "      <td>32</td>\n",
       "    </tr>\n",
       "    <tr>\n",
       "      <td>4</td>\n",
       "      <td>2352684</td>\n",
       "      <td>CHIPOTLE MEXICAN GRILL</td>\n",
       "      <td>2670643.0</td>\n",
       "      <td>Restaurant</td>\n",
       "      <td>3.0</td>\n",
       "      <td>1025 W ADDISON ST</td>\n",
       "      <td>2019-12-04</td>\n",
       "      <td>License Re-Inspection</td>\n",
       "      <td>Pass w/ Conditions</td>\n",
       "      <td>NaN</td>\n",
       "      <td>41.947118</td>\n",
       "      <td>-87.655381</td>\n",
       "      <td>{'latitude': '-87.6553811622124', 'longitude':...</td>\n",
       "      <td>restaurant</td>\n",
       "      <td>6</td>\n",
       "    </tr>\n",
       "  </tbody>\n",
       "</table>\n",
       "</div>"
      ],
      "text/plain": [
       "   Inspection ID                 DBA Name    License Facility Type  Risk  \\\n",
       "0        2352683   CHIPOTLE MEXICAN GRILL  2670642.0    Restaurant   3.0   \n",
       "1        2352734              CHILI'S T-I    34169.0    Restaurant   3.0   \n",
       "2        2352701  TAQUERIA BLUE LINE INC.  2703436.0    Restaurant   3.0   \n",
       "3        2352738        AMARIT RESTAURANT  1801618.0    Restaurant   3.0   \n",
       "4        2352684   CHIPOTLE MEXICAN GRILL  2670643.0    Restaurant   3.0   \n",
       "\n",
       "               Address Inspection Date        Inspection Type  \\\n",
       "0   1025 W ADDISON ST       2019-12-04  License Re-Inspection   \n",
       "1   11601 W TOUHY AVE       2019-12-04                Canvass   \n",
       "2  3401 W BELMONT AVE       2019-12-04                License   \n",
       "3   600 S DEARBORN ST       2019-12-04  Canvass Re-Inspection   \n",
       "4   1025 W ADDISON ST       2019-12-04  License Re-Inspection   \n",
       "\n",
       "              Results                                         Violations  \\\n",
       "0  Pass w/ Conditions  3. MANAGEMENT, FOOD EMPLOYEE AND CONDITIONAL E...   \n",
       "1                Pass  10. ADEQUATE HANDWASHING SINKS PROPERLY SUPPLI...   \n",
       "2  Pass w/ Conditions  3. MANAGEMENT, FOOD EMPLOYEE AND CONDITIONAL E...   \n",
       "3                Pass                                                NaN   \n",
       "4  Pass w/ Conditions                                                NaN   \n",
       "\n",
       "    Latitude  Longitude                                           Location  \\\n",
       "0  41.947118 -87.655381  {'latitude': '-87.6553811622124', 'longitude':...   \n",
       "1  42.008536 -87.914428  {'latitude': '-87.91442843927047', 'longitude'...   \n",
       "2  41.939168 -87.712546  {'latitude': '-87.71254599117191', 'longitude'...   \n",
       "3  41.874481 -87.629357  {'latitude': '-87.62935653990546', 'longitude'...   \n",
       "4  41.947118 -87.655381  {'latitude': '-87.6553811622124', 'longitude':...   \n",
       "\n",
       "  FacilityGroup  Community Area  \n",
       "0    restaurant               6  \n",
       "1    restaurant               0  \n",
       "2    restaurant              21  \n",
       "3    restaurant              32  \n",
       "4    restaurant               6  "
      ]
     },
     "execution_count": 45,
     "metadata": {},
     "output_type": "execute_result"
    }
   ],
   "source": [
    "eat_seat['Community Area'] = c\n",
    "eat_seat['Community Area'] = pd.to_numeric(eat_seat['Community Area'], downcast= 'integer')\n",
    "eat_seat.head()"
   ]
  },
  {
   "cell_type": "markdown",
   "metadata": {},
   "source": [
    "### 2.4 The Violations\n",
    "\n",
    "The Food Code Rules has changed since the 1st July 2018. After investigating those changes, it seems that only the denomination of the violations but not the violation itself has changed, and a few additionnal violations has been added in the possible violations. It means that those changes does not need more processing and can just be considered together as a common list of violations."
   ]
  },
  {
   "cell_type": "code",
   "execution_count": 43,
   "metadata": {},
   "outputs": [
    {
     "data": {
      "text/plain": [
       "118755"
      ]
     },
     "execution_count": 43,
     "metadata": {},
     "output_type": "execute_result"
    }
   ],
   "source": [
    "len(eat_seat.Violations.unique())"
   ]
  },
  {
   "cell_type": "code",
   "execution_count": 44,
   "metadata": {},
   "outputs": [
    {
     "data": {
      "text/plain": [
       "'5. PROCEDURES FOR RESPONDING TO VOMITING AND DIARRHEAL EVENTS - Comments: OBSERVED INCOMPLETE CLEAN UP KIT ON SITE.INSTRUCTED MANAGEMENT TO HAVE A COMPLETE CLEAN UP KIT BY NEXT INSPECTION.CLEAN UP PROCEDURES  ON SITE PRIORITY FOUNDATION VIOLATION  7-38-005   NO CITATION ISSUED | 10. ADEQUATE HANDWASHING SINKS PROPERLY SUPPLIED AND ACCESSIBLE - Comments: OBSERVED EXPOSED HAND SINK NOT ACCESSIBLE FOR HANDWASHING IN THE FOOD PREP AREA.INSTRUCTED MANAGEMENT TO INSTALL EXPOSED HAND SINK AT A LOCATION THAT IS ACCESSIBLE. PRIORITY FOUNDATION VIOLATION 7-38-030(c) NO CITATION ISSUED | 56. ADEQUATE VENTILATION & LIGHTING; DESIGNATED AREAS USED - Comments: OBSERVED HOT LINE HOOD FILTERS DUSTY.INSTRUCTED MANAGEMENT TO CLEAN HOT LINE HOOD FILTERS.'"
      ]
     },
     "execution_count": 44,
     "metadata": {},
     "output_type": "execute_result"
    }
   ],
   "source": [
    "eat_seat.Violations[0]"
   ]
  },
  {
   "cell_type": "markdown",
   "metadata": {},
   "source": [
    "It seems that every violation is a unique entry because it contains not only the violation type but also the comments of the inspectors. We have to split the Violations column into 3 different columns :\n",
    "- Violation number\n",
    "- Violation type\n",
    "- Violation comments\n",
    "\n",
    "It seems that every violation cell is architectured this way :\n",
    "\"number of the violation\". \"TYPE OF THE VIOLATION\" - Comments : \"comments of the inspector\" (this format repeated as many times as the number of violations detected the day of the inspection, separated with a vertical line)\n",
    "\n",
    "We just want to keep the violation number (because we can check which violation it is online). We create a column NumberViolations containing the ID of the violations found during the corresponding investigation. The rest is not kept because the titles of the violations can be found online and we do not plan on using the comments of the investigators.\n",
    "\n",
    "As we can do this cleaning only for the rows where the field Violations is not empty, we will temporarily drop all the other rows."
   ]
  },
  {
   "cell_type": "code",
   "execution_count": 45,
   "metadata": {},
   "outputs": [],
   "source": [
    "temp = eat_seat.dropna(subset=['Violations'], axis = 0, how = 'all')"
   ]
  },
  {
   "cell_type": "code",
   "execution_count": 46,
   "metadata": {},
   "outputs": [],
   "source": [
    "violations = temp.apply(lambda row: re.findall('\\|\\s([0-9]+)[.]', str(row['Violations'])), axis = 1)"
   ]
  },
  {
   "cell_type": "code",
   "execution_count": 47,
   "metadata": {},
   "outputs": [],
   "source": [
    "first_violations = temp.apply(lambda row: row['Violations'].split('.')[0], axis = 1)"
   ]
  },
  {
   "cell_type": "code",
   "execution_count": 48,
   "metadata": {},
   "outputs": [],
   "source": [
    "for violation, first_violation in zip(violations, first_violations):\n",
    "    violation.append(first_violation)\n",
    "\n",
    "flat_list = [item for sublist in violations for item in sublist]\n",
    "unique, counts = np.unique(flat_list, return_counts=True)"
   ]
  },
  {
   "cell_type": "code",
   "execution_count": 49,
   "metadata": {},
   "outputs": [],
   "source": [
    "temp = temp.assign(NumberViolations = violations)"
   ]
  },
  {
   "cell_type": "code",
   "execution_count": 50,
   "metadata": {},
   "outputs": [
    {
     "data": {
      "text/html": [
       "<div>\n",
       "<style scoped>\n",
       "    .dataframe tbody tr th:only-of-type {\n",
       "        vertical-align: middle;\n",
       "    }\n",
       "\n",
       "    .dataframe tbody tr th {\n",
       "        vertical-align: top;\n",
       "    }\n",
       "\n",
       "    .dataframe thead th {\n",
       "        text-align: right;\n",
       "    }\n",
       "</style>\n",
       "<table border=\"1\" class=\"dataframe\">\n",
       "  <thead>\n",
       "    <tr style=\"text-align: right;\">\n",
       "      <th></th>\n",
       "      <th>Inspection ID</th>\n",
       "      <th>NumberViolations</th>\n",
       "    </tr>\n",
       "  </thead>\n",
       "  <tbody>\n",
       "    <tr>\n",
       "      <th>0</th>\n",
       "      <td>2320971</td>\n",
       "      <td>[10, 56, 5]</td>\n",
       "    </tr>\n",
       "    <tr>\n",
       "      <th>1</th>\n",
       "      <td>2320944</td>\n",
       "      <td>[52, 55, 10]</td>\n",
       "    </tr>\n",
       "    <tr>\n",
       "      <th>2</th>\n",
       "      <td>2320896</td>\n",
       "      <td>[38, 38, 39, 55, 55, 3]</td>\n",
       "    </tr>\n",
       "  </tbody>\n",
       "</table>\n",
       "</div>"
      ],
      "text/plain": [
       "   Inspection ID         NumberViolations\n",
       "0        2320971              [10, 56, 5]\n",
       "1        2320944             [52, 55, 10]\n",
       "2        2320896  [38, 38, 39, 55, 55, 3]"
      ]
     },
     "execution_count": 50,
     "metadata": {},
     "output_type": "execute_result"
    }
   ],
   "source": [
    "temp = temp[['Inspection ID', 'NumberViolations']]\n",
    "temp.head(3)"
   ]
  },
  {
   "cell_type": "code",
   "execution_count": 51,
   "metadata": {},
   "outputs": [
    {
     "data": {
      "text/plain": [
       "156102"
      ]
     },
     "execution_count": 51,
     "metadata": {},
     "output_type": "execute_result"
    }
   ],
   "source": [
    "len(eat_seat)"
   ]
  },
  {
   "cell_type": "markdown",
   "metadata": {},
   "source": [
    "Now that we have a dataframe with every inspection ID of the inspections where violations has been found and a column containing the list of those violations, we can add it to the primary dataframe."
   ]
  },
  {
   "cell_type": "code",
   "execution_count": 52,
   "metadata": {},
   "outputs": [],
   "source": [
    "eat_seat = pd.merge(eat_seat, temp, how='left', on='Inspection ID', left_index=True, right_index=False)"
   ]
  },
  {
   "cell_type": "markdown",
   "metadata": {},
   "source": [
    "#### Assistants' comments :\n",
    "•\tVery good for using Inspection ID as the index! But you should have checked if it is truly unique first."
   ]
  },
  {
   "cell_type": "code",
   "execution_count": 53,
   "metadata": {},
   "outputs": [
    {
     "data": {
      "text/html": [
       "<div>\n",
       "<style scoped>\n",
       "    .dataframe tbody tr th:only-of-type {\n",
       "        vertical-align: middle;\n",
       "    }\n",
       "\n",
       "    .dataframe tbody tr th {\n",
       "        vertical-align: top;\n",
       "    }\n",
       "\n",
       "    .dataframe thead th {\n",
       "        text-align: right;\n",
       "    }\n",
       "</style>\n",
       "<table border=\"1\" class=\"dataframe\">\n",
       "  <thead>\n",
       "    <tr style=\"text-align: right;\">\n",
       "      <th></th>\n",
       "      <th>DBA Name</th>\n",
       "      <th>License</th>\n",
       "      <th>Facility Type</th>\n",
       "      <th>Risk</th>\n",
       "      <th>Address</th>\n",
       "      <th>Inspection Date</th>\n",
       "      <th>Inspection Type</th>\n",
       "      <th>Results</th>\n",
       "      <th>Violations</th>\n",
       "      <th>Latitude</th>\n",
       "      <th>Longitude</th>\n",
       "      <th>FacilityGroup</th>\n",
       "      <th>Location</th>\n",
       "      <th>NumberViolations</th>\n",
       "    </tr>\n",
       "    <tr>\n",
       "      <th>Inspection ID</th>\n",
       "      <th></th>\n",
       "      <th></th>\n",
       "      <th></th>\n",
       "      <th></th>\n",
       "      <th></th>\n",
       "      <th></th>\n",
       "      <th></th>\n",
       "      <th></th>\n",
       "      <th></th>\n",
       "      <th></th>\n",
       "      <th></th>\n",
       "      <th></th>\n",
       "      <th></th>\n",
       "      <th></th>\n",
       "    </tr>\n",
       "  </thead>\n",
       "  <tbody>\n",
       "    <tr>\n",
       "      <th>2320971</th>\n",
       "      <td>JUMPSTART EARLY LEARNING ACADEMY</td>\n",
       "      <td>2589822.0</td>\n",
       "      <td>Children's Services Facility</td>\n",
       "      <td>3.0</td>\n",
       "      <td>7559 W ADDISON ST</td>\n",
       "      <td>2019-11-01</td>\n",
       "      <td>Canvass</td>\n",
       "      <td>Pass w/ Conditions</td>\n",
       "      <td>5. PROCEDURES FOR RESPONDING TO VOMITING AND D...</td>\n",
       "      <td>41.945065</td>\n",
       "      <td>-87.816734</td>\n",
       "      <td>childrens_services</td>\n",
       "      <td>(41.94506485701999, -87.81673402827133)</td>\n",
       "      <td>[10, 56, 5]</td>\n",
       "    </tr>\n",
       "    <tr>\n",
       "      <th>2320944</th>\n",
       "      <td>ACADEMY OF CREATIVE THINKING, INC.</td>\n",
       "      <td>2308857.0</td>\n",
       "      <td>Children's Services Facility</td>\n",
       "      <td>3.0</td>\n",
       "      <td>4200 N Central AVE</td>\n",
       "      <td>2019-11-01</td>\n",
       "      <td>Canvass</td>\n",
       "      <td>Pass w/ Conditions</td>\n",
       "      <td>10. ADEQUATE HANDWASHING SINKS PROPERLY SUPPLI...</td>\n",
       "      <td>41.956874</td>\n",
       "      <td>-87.767272</td>\n",
       "      <td>childrens_services</td>\n",
       "      <td>(41.95687428646395, -87.76727186013788)</td>\n",
       "      <td>[52, 55, 10]</td>\n",
       "    </tr>\n",
       "    <tr>\n",
       "      <th>2320896</th>\n",
       "      <td>LITTLE ACHIEVERS ACADEMY</td>\n",
       "      <td>2216050.0</td>\n",
       "      <td>Children's Services Facility</td>\n",
       "      <td>3.0</td>\n",
       "      <td>3801 W DIVERSEY AVE</td>\n",
       "      <td>2019-10-31</td>\n",
       "      <td>Canvass</td>\n",
       "      <td>Fail</td>\n",
       "      <td>3. MANAGEMENT, FOOD EMPLOYEE AND CONDITIONAL E...</td>\n",
       "      <td>41.931741</td>\n",
       "      <td>-87.722146</td>\n",
       "      <td>childrens_services</td>\n",
       "      <td>(41.93174082265093, -87.72214617034382)</td>\n",
       "      <td>[38, 38, 39, 55, 55, 3]</td>\n",
       "    </tr>\n",
       "  </tbody>\n",
       "</table>\n",
       "</div>"
      ],
      "text/plain": [
       "                                         DBA Name    License  \\\n",
       "Inspection ID                                                  \n",
       "2320971          JUMPSTART EARLY LEARNING ACADEMY  2589822.0   \n",
       "2320944        ACADEMY OF CREATIVE THINKING, INC.  2308857.0   \n",
       "2320896                  LITTLE ACHIEVERS ACADEMY  2216050.0   \n",
       "\n",
       "                              Facility Type  Risk               Address  \\\n",
       "Inspection ID                                                             \n",
       "2320971        Children's Services Facility   3.0    7559 W ADDISON ST    \n",
       "2320944        Children's Services Facility   3.0   4200 N Central AVE    \n",
       "2320896        Children's Services Facility   3.0  3801 W DIVERSEY AVE    \n",
       "\n",
       "              Inspection Date Inspection Type             Results  \\\n",
       "Inspection ID                                                       \n",
       "2320971            2019-11-01         Canvass  Pass w/ Conditions   \n",
       "2320944            2019-11-01         Canvass  Pass w/ Conditions   \n",
       "2320896            2019-10-31         Canvass                Fail   \n",
       "\n",
       "                                                      Violations   Latitude  \\\n",
       "Inspection ID                                                                 \n",
       "2320971        5. PROCEDURES FOR RESPONDING TO VOMITING AND D...  41.945065   \n",
       "2320944        10. ADEQUATE HANDWASHING SINKS PROPERLY SUPPLI...  41.956874   \n",
       "2320896        3. MANAGEMENT, FOOD EMPLOYEE AND CONDITIONAL E...  41.931741   \n",
       "\n",
       "               Longitude       FacilityGroup  \\\n",
       "Inspection ID                                  \n",
       "2320971       -87.816734  childrens_services   \n",
       "2320944       -87.767272  childrens_services   \n",
       "2320896       -87.722146  childrens_services   \n",
       "\n",
       "                                              Location  \\\n",
       "Inspection ID                                            \n",
       "2320971        (41.94506485701999, -87.81673402827133)   \n",
       "2320944        (41.95687428646395, -87.76727186013788)   \n",
       "2320896        (41.93174082265093, -87.72214617034382)   \n",
       "\n",
       "                      NumberViolations  \n",
       "Inspection ID                           \n",
       "2320971                    [10, 56, 5]  \n",
       "2320944                   [52, 55, 10]  \n",
       "2320896        [38, 38, 39, 55, 55, 3]  "
      ]
     },
     "execution_count": 53,
     "metadata": {},
     "output_type": "execute_result"
    }
   ],
   "source": [
    "eat_seat = eat_seat.set_index(['Inspection ID']) #redifines the Index\n",
    "eat_seat.head(3)"
   ]
  },
  {
   "cell_type": "code",
   "execution_count": 56,
   "metadata": {},
   "outputs": [
    {
     "data": {
      "text/plain": [
       "True"
      ]
     },
     "execution_count": 56,
     "metadata": {},
     "output_type": "execute_result"
    }
   ],
   "source": [
    "eat_seat.index.is_unique"
   ]
  },
  {
   "cell_type": "code",
   "execution_count": 57,
   "metadata": {},
   "outputs": [
    {
     "data": {
      "text/plain": [
       "157473"
      ]
     },
     "execution_count": 57,
     "metadata": {},
     "output_type": "execute_result"
    }
   ],
   "source": [
    "len(eat_seat)"
   ]
  },
  {
   "cell_type": "markdown",
   "metadata": {},
   "source": [
    "### 2.4 The Inspection Results"
   ]
  },
  {
   "cell_type": "code",
   "execution_count": 58,
   "metadata": {},
   "outputs": [
    {
     "data": {
      "text/plain": [
       "DBA Name                0\n",
       "License                 0\n",
       "Facility Type           0\n",
       "Risk                    5\n",
       "Address                 0\n",
       "Inspection Date         0\n",
       "Inspection Type         1\n",
       "Results                 0\n",
       "Violations          37142\n",
       "Latitude              467\n",
       "Longitude             467\n",
       "Location              467\n",
       "FacilityGroup           0\n",
       "Community Area          0\n",
       "NumberViolations    37142\n",
       "dtype: int64"
      ]
     },
     "execution_count": 58,
     "metadata": {},
     "output_type": "execute_result"
    }
   ],
   "source": [
    "eat_seat.isnull().sum()"
   ]
  },
  {
   "cell_type": "markdown",
   "metadata": {},
   "source": [
    "We see that there are more than 50'000 rows where the Violations column is empty. We have to study wether those cells are empty because there were no violations (meaning the estalishment is healthy) or because the inspection was not successfull (meaning we can drop the row because it can not be used in our research)."
   ]
  },
  {
   "cell_type": "code",
   "execution_count": 59,
   "metadata": {},
   "outputs": [
    {
     "data": {
      "text/plain": [
       "array(['Pass w/ Conditions', 'Pass', 'Fail', 'Not Ready',\n",
       "       'Out of Business', 'No Entry', 'Business Not Located'],\n",
       "      dtype=object)"
      ]
     },
     "execution_count": 59,
     "metadata": {},
     "output_type": "execute_result"
    }
   ],
   "source": [
    "eat_seat.Results.unique()"
   ]
  },
  {
   "cell_type": "markdown",
   "metadata": {},
   "source": [
    "We create new databases for every entries of the column Results in order to study them."
   ]
  },
  {
   "cell_type": "code",
   "execution_count": 60,
   "metadata": {},
   "outputs": [],
   "source": [
    "noentry = eat_seat[eat_seat['Results']=='No Entry']"
   ]
  },
  {
   "cell_type": "code",
   "execution_count": 61,
   "metadata": {},
   "outputs": [],
   "source": [
    "outofbusiness = eat_seat[eat_seat['Results']=='Out of Business']"
   ]
  },
  {
   "cell_type": "code",
   "execution_count": 62,
   "metadata": {},
   "outputs": [],
   "source": [
    "notready = eat_seat[eat_seat['Results']=='Not Ready']"
   ]
  },
  {
   "cell_type": "code",
   "execution_count": 63,
   "metadata": {},
   "outputs": [],
   "source": [
    "businessnotlocated = eat_seat[eat_seat['Results']=='Business Not Located']"
   ]
  },
  {
   "cell_type": "code",
   "execution_count": 64,
   "metadata": {},
   "outputs": [],
   "source": [
    "passwithconditions = eat_seat[eat_seat['Results']=='Pass w/ Conditions']"
   ]
  },
  {
   "cell_type": "code",
   "execution_count": 65,
   "metadata": {},
   "outputs": [],
   "source": [
    "passed = eat_seat[eat_seat['Results']=='Pass']"
   ]
  },
  {
   "cell_type": "code",
   "execution_count": 66,
   "metadata": {},
   "outputs": [],
   "source": [
    "fail = eat_seat[eat_seat['Results']=='Fail']"
   ]
  },
  {
   "cell_type": "markdown",
   "metadata": {},
   "source": [
    "We investigate how many of each results' type has the column Violations empty."
   ]
  },
  {
   "cell_type": "code",
   "execution_count": 67,
   "metadata": {},
   "outputs": [],
   "source": [
    "results_dic = {'No Entry' : noentry, 'Out of Business' : outofbusiness, 'Not Ready' : notready,\\\n",
    "               'Business Not Located' : businessnotlocated, 'Pass With Conditions' : passwithconditions, 'Pass' : passed, 'Fail' : fail}"
   ]
  },
  {
   "cell_type": "code",
   "execution_count": 68,
   "metadata": {},
   "outputs": [
    {
     "name": "stdout",
     "output_type": "stream",
     "text": [
      "No Entry : 5284 empty Violation columns / 5626 columns = 0.9392108069676502 \n",
      "\n",
      "Out of Business : 10149 empty Violation columns / 10173 columns = 0.9976408139191979 \n",
      "\n",
      "Not Ready : 1273 empty Violation columns / 1302 columns = 0.977726574500768 \n",
      "\n",
      "Business Not Located : 32 empty Violation columns / 32 columns = 1.0 \n",
      "\n",
      "Pass With Conditions : 397 empty Violation columns / 23472 columns = 0.01691376959781868 \n",
      "\n",
      "Pass : 17977 empty Violation columns / 87401 columns = 0.2056841454903262 \n",
      "\n",
      "Fail : 2030 empty Violation columns / 29467 columns = 0.06889062340923745 \n",
      "\n"
     ]
    }
   ],
   "source": [
    "for name, result in results_dic.items() :\n",
    "    print(name, ':', len(result[result['Violations'].isnull()]), 'empty Violation columns /', len(result),\\\n",
    "          'columns =', (len(result[result['Violations'].isnull()])/len(result)), '\\n')"
   ]
  },
  {
   "cell_type": "markdown",
   "metadata": {},
   "source": [
    "We see that almost every entries where the Result is either 'No entry', 'Out of Business', 'Not ready' or 'Business not located' have the Violations field empty. We can safely drop those lines because they are not pertinent for our research."
   ]
  },
  {
   "cell_type": "code",
   "execution_count": 69,
   "metadata": {},
   "outputs": [],
   "source": [
    "results = ['Pass', 'Pass w/ Conditions', 'Fail']"
   ]
  },
  {
   "cell_type": "code",
   "execution_count": 70,
   "metadata": {},
   "outputs": [
    {
     "data": {
      "text/plain": [
       "140340"
      ]
     },
     "execution_count": 70,
     "metadata": {},
     "output_type": "execute_result"
    }
   ],
   "source": [
    "eat_seat = eat_seat.loc[eat_seat['Results'].isin(results)]\n",
    "len(eat_seat)"
   ]
  },
  {
   "cell_type": "markdown",
   "metadata": {},
   "source": [
    "Now we have to take care of the cases where there is no Violations and the Result is either Pass, Fail or Pass with conditions.\n",
    "\n",
    "When the result is Pass and the Violation field is empty, we can add a 0 in the column \"NumberViolations\"."
   ]
  },
  {
   "cell_type": "code",
   "execution_count": 71,
   "metadata": {},
   "outputs": [],
   "source": [
    "eat_seat['NumberViolations'].fillna(0, inplace=True)"
   ]
  },
  {
   "cell_type": "code",
   "execution_count": 72,
   "metadata": {},
   "outputs": [
    {
     "data": {
      "text/plain": [
       "140340"
      ]
     },
     "execution_count": 72,
     "metadata": {},
     "output_type": "execute_result"
    }
   ],
   "source": [
    "len(eat_seat)"
   ]
  },
  {
   "cell_type": "markdown",
   "metadata": {},
   "source": [
    "When the result is either Fail or Pass with conditions but the Violations field is empty, we will drop those rows because there are missing values. An establishment can indeed not fail an inspection or receive conditions when no violation is found, those entries make no sense and can not be taken into account in our research."
   ]
  },
  {
   "cell_type": "code",
   "execution_count": 73,
   "metadata": {},
   "outputs": [],
   "source": [
    "results = ['Pass w/ Conditions', 'Fail']\n",
    "EmptyViolations = eat_seat[eat_seat['NumberViolations'] == 0]\n",
    "EmptyinResults = EmptyViolations.loc[eat_seat['Results'].isin(results)]\n",
    "indexes = EmptyinResults.index\n",
    "eat_seat = eat_seat.drop(labels = indexes)"
   ]
  },
  {
   "cell_type": "code",
   "execution_count": 74,
   "metadata": {},
   "outputs": [
    {
     "data": {
      "text/plain": [
       "137913"
      ]
     },
     "execution_count": 74,
     "metadata": {},
     "output_type": "execute_result"
    }
   ],
   "source": [
    "len(eat_seat)"
   ]
  },
  {
   "cell_type": "markdown",
   "metadata": {},
   "source": [
    "Now we can replace Pass by 1, Pass w/ conditions by 2, and Fail by 3 (that will be useful during the computation of the healthiness score)."
   ]
  },
  {
   "cell_type": "code",
   "execution_count": 75,
   "metadata": {},
   "outputs": [
    {
     "data": {
      "text/plain": [
       "array(['Pass w/ Conditions', 'Pass', 'Fail'], dtype=object)"
      ]
     },
     "execution_count": 75,
     "metadata": {},
     "output_type": "execute_result"
    }
   ],
   "source": [
    "eat_seat['Results'].unique()"
   ]
  },
  {
   "cell_type": "code",
   "execution_count": 76,
   "metadata": {},
   "outputs": [],
   "source": [
    "eat_seat['Results'] = eat_seat['Results'].replace({'Fail':3, 'Pass w/ Conditions':2, 'Pass':1})\n"
   ]
  },
  {
   "cell_type": "code",
   "execution_count": 77,
   "metadata": {},
   "outputs": [
    {
     "data": {
      "text/html": [
       "<div>\n",
       "<style scoped>\n",
       "    .dataframe tbody tr th:only-of-type {\n",
       "        vertical-align: middle;\n",
       "    }\n",
       "\n",
       "    .dataframe tbody tr th {\n",
       "        vertical-align: top;\n",
       "    }\n",
       "\n",
       "    .dataframe thead th {\n",
       "        text-align: right;\n",
       "    }\n",
       "</style>\n",
       "<table border=\"1\" class=\"dataframe\">\n",
       "  <thead>\n",
       "    <tr style=\"text-align: right;\">\n",
       "      <th></th>\n",
       "      <th>DBA Name</th>\n",
       "      <th>License</th>\n",
       "      <th>Facility Type</th>\n",
       "      <th>Risk</th>\n",
       "      <th>Address</th>\n",
       "      <th>Inspection Date</th>\n",
       "      <th>Inspection Type</th>\n",
       "      <th>Results</th>\n",
       "      <th>Violations</th>\n",
       "      <th>Latitude</th>\n",
       "      <th>Longitude</th>\n",
       "      <th>Location</th>\n",
       "      <th>FacilityGroup</th>\n",
       "      <th>Community Area</th>\n",
       "      <th>NumberViolations</th>\n",
       "    </tr>\n",
       "    <tr>\n",
       "      <th>Inspection ID</th>\n",
       "      <th></th>\n",
       "      <th></th>\n",
       "      <th></th>\n",
       "      <th></th>\n",
       "      <th></th>\n",
       "      <th></th>\n",
       "      <th></th>\n",
       "      <th></th>\n",
       "      <th></th>\n",
       "      <th></th>\n",
       "      <th></th>\n",
       "      <th></th>\n",
       "      <th></th>\n",
       "      <th></th>\n",
       "      <th></th>\n",
       "    </tr>\n",
       "  </thead>\n",
       "  <tbody>\n",
       "    <tr>\n",
       "      <td>2352683</td>\n",
       "      <td>CHIPOTLE MEXICAN GRILL</td>\n",
       "      <td>2670642.0</td>\n",
       "      <td>Restaurant</td>\n",
       "      <td>3.0</td>\n",
       "      <td>1025 W ADDISON ST</td>\n",
       "      <td>2019-12-04</td>\n",
       "      <td>License Re-Inspection</td>\n",
       "      <td>2</td>\n",
       "      <td>3. MANAGEMENT, FOOD EMPLOYEE AND CONDITIONAL E...</td>\n",
       "      <td>41.947118</td>\n",
       "      <td>-87.655381</td>\n",
       "      <td>{'latitude': '-87.6553811622124', 'longitude':...</td>\n",
       "      <td>restaurant</td>\n",
       "      <td>6</td>\n",
       "      <td>[3]</td>\n",
       "    </tr>\n",
       "    <tr>\n",
       "      <td>2352734</td>\n",
       "      <td>CHILI'S T-I</td>\n",
       "      <td>34169.0</td>\n",
       "      <td>Restaurant</td>\n",
       "      <td>3.0</td>\n",
       "      <td>11601 W TOUHY AVE</td>\n",
       "      <td>2019-12-04</td>\n",
       "      <td>Canvass</td>\n",
       "      <td>1</td>\n",
       "      <td>10. ADEQUATE HANDWASHING SINKS PROPERLY SUPPLI...</td>\n",
       "      <td>42.008536</td>\n",
       "      <td>-87.914428</td>\n",
       "      <td>{'latitude': '-87.91442843927047', 'longitude'...</td>\n",
       "      <td>restaurant</td>\n",
       "      <td>0</td>\n",
       "      <td>[47, 49, 55, 55, 10]</td>\n",
       "    </tr>\n",
       "    <tr>\n",
       "      <td>2352701</td>\n",
       "      <td>TAQUERIA BLUE LINE INC.</td>\n",
       "      <td>2703436.0</td>\n",
       "      <td>Restaurant</td>\n",
       "      <td>3.0</td>\n",
       "      <td>3401 W BELMONT AVE</td>\n",
       "      <td>2019-12-04</td>\n",
       "      <td>License</td>\n",
       "      <td>2</td>\n",
       "      <td>3. MANAGEMENT, FOOD EMPLOYEE AND CONDITIONAL E...</td>\n",
       "      <td>41.939168</td>\n",
       "      <td>-87.712546</td>\n",
       "      <td>{'latitude': '-87.71254599117191', 'longitude'...</td>\n",
       "      <td>restaurant</td>\n",
       "      <td>21</td>\n",
       "      <td>[5, 16, 51, 53, 58, 3]</td>\n",
       "    </tr>\n",
       "  </tbody>\n",
       "</table>\n",
       "</div>"
      ],
      "text/plain": [
       "                              DBA Name    License Facility Type  Risk  \\\n",
       "Inspection ID                                                           \n",
       "2352683         CHIPOTLE MEXICAN GRILL  2670642.0    Restaurant   3.0   \n",
       "2352734                    CHILI'S T-I    34169.0    Restaurant   3.0   \n",
       "2352701        TAQUERIA BLUE LINE INC.  2703436.0    Restaurant   3.0   \n",
       "\n",
       "                           Address Inspection Date        Inspection Type  \\\n",
       "Inspection ID                                                               \n",
       "2352683         1025 W ADDISON ST       2019-12-04  License Re-Inspection   \n",
       "2352734         11601 W TOUHY AVE       2019-12-04                Canvass   \n",
       "2352701        3401 W BELMONT AVE       2019-12-04                License   \n",
       "\n",
       "               Results                                         Violations  \\\n",
       "Inspection ID                                                               \n",
       "2352683              2  3. MANAGEMENT, FOOD EMPLOYEE AND CONDITIONAL E...   \n",
       "2352734              1  10. ADEQUATE HANDWASHING SINKS PROPERLY SUPPLI...   \n",
       "2352701              2  3. MANAGEMENT, FOOD EMPLOYEE AND CONDITIONAL E...   \n",
       "\n",
       "                Latitude  Longitude  \\\n",
       "Inspection ID                         \n",
       "2352683        41.947118 -87.655381   \n",
       "2352734        42.008536 -87.914428   \n",
       "2352701        41.939168 -87.712546   \n",
       "\n",
       "                                                        Location  \\\n",
       "Inspection ID                                                      \n",
       "2352683        {'latitude': '-87.6553811622124', 'longitude':...   \n",
       "2352734        {'latitude': '-87.91442843927047', 'longitude'...   \n",
       "2352701        {'latitude': '-87.71254599117191', 'longitude'...   \n",
       "\n",
       "              FacilityGroup  Community Area        NumberViolations  \n",
       "Inspection ID                                                        \n",
       "2352683          restaurant               6                     [3]  \n",
       "2352734          restaurant               0    [47, 49, 55, 55, 10]  \n",
       "2352701          restaurant              21  [5, 16, 51, 53, 58, 3]  "
      ]
     },
     "execution_count": 77,
     "metadata": {},
     "output_type": "execute_result"
    }
   ],
   "source": [
    "eat_seat.head(3)"
   ]
  },
  {
   "cell_type": "code",
   "execution_count": 78,
   "metadata": {},
   "outputs": [],
   "source": [
    "eat_seat.Results = pd.to_numeric(eat_seat.Results, downcast = 'integer')\n",
    "eat_seat.Results = eat_seat.Results.apply(nbestethic) "
   ]
  },
  {
   "cell_type": "markdown",
   "metadata": {},
   "source": [
    "Now we can compute the healthiness score of each inspection by multiplying the Results score with the number of Violations :\n"
   ]
  },
  {
   "cell_type": "code",
   "execution_count": 79,
   "metadata": {},
   "outputs": [],
   "source": [
    "#add 0 in the new column InspectionScore for every row\n",
    "liste = []\n",
    "for i in range (0, len(eat_seat)) :\n",
    "                liste.append(0)\n",
    "                \n",
    "eat_seat['InspectionScore'] = liste"
   ]
  },
  {
   "cell_type": "code",
   "execution_count": 80,
   "metadata": {},
   "outputs": [],
   "source": [
    "#add the multiplication for the rows where NumberViolations != 0\n",
    "for ID in eat_seat.index :\n",
    "    if eat_seat.at[ID, 'NumberViolations'] != 0 :\n",
    "        eat_seat.at[ID, 'InspectionScore'] = len(eat_seat.at[ID, 'NumberViolations']) * eat_seat.at[ID, 'Results']"
   ]
  },
  {
   "cell_type": "code",
   "execution_count": 81,
   "metadata": {},
   "outputs": [
    {
     "data": {
      "text/html": [
       "<div>\n",
       "<style scoped>\n",
       "    .dataframe tbody tr th:only-of-type {\n",
       "        vertical-align: middle;\n",
       "    }\n",
       "\n",
       "    .dataframe tbody tr th {\n",
       "        vertical-align: top;\n",
       "    }\n",
       "\n",
       "    .dataframe thead th {\n",
       "        text-align: right;\n",
       "    }\n",
       "</style>\n",
       "<table border=\"1\" class=\"dataframe\">\n",
       "  <thead>\n",
       "    <tr style=\"text-align: right;\">\n",
       "      <th></th>\n",
       "      <th>DBA Name</th>\n",
       "      <th>License</th>\n",
       "      <th>Facility Type</th>\n",
       "      <th>Risk</th>\n",
       "      <th>Address</th>\n",
       "      <th>Inspection Date</th>\n",
       "      <th>Inspection Type</th>\n",
       "      <th>Results</th>\n",
       "      <th>Violations</th>\n",
       "      <th>Latitude</th>\n",
       "      <th>Longitude</th>\n",
       "      <th>Location</th>\n",
       "      <th>FacilityGroup</th>\n",
       "      <th>Community Area</th>\n",
       "      <th>NumberViolations</th>\n",
       "      <th>InspectionScore</th>\n",
       "    </tr>\n",
       "    <tr>\n",
       "      <th>Inspection ID</th>\n",
       "      <th></th>\n",
       "      <th></th>\n",
       "      <th></th>\n",
       "      <th></th>\n",
       "      <th></th>\n",
       "      <th></th>\n",
       "      <th></th>\n",
       "      <th></th>\n",
       "      <th></th>\n",
       "      <th></th>\n",
       "      <th></th>\n",
       "      <th></th>\n",
       "      <th></th>\n",
       "      <th></th>\n",
       "      <th></th>\n",
       "      <th></th>\n",
       "    </tr>\n",
       "  </thead>\n",
       "  <tbody>\n",
       "    <tr>\n",
       "      <td>2352683</td>\n",
       "      <td>CHIPOTLE MEXICAN GRILL</td>\n",
       "      <td>2670642.0</td>\n",
       "      <td>Restaurant</td>\n",
       "      <td>3.0</td>\n",
       "      <td>1025 W ADDISON ST</td>\n",
       "      <td>2019-12-04</td>\n",
       "      <td>License Re-Inspection</td>\n",
       "      <td>2</td>\n",
       "      <td>3. MANAGEMENT, FOOD EMPLOYEE AND CONDITIONAL E...</td>\n",
       "      <td>41.947118</td>\n",
       "      <td>-87.655381</td>\n",
       "      <td>{'latitude': '-87.6553811622124', 'longitude':...</td>\n",
       "      <td>restaurant</td>\n",
       "      <td>6</td>\n",
       "      <td>[3]</td>\n",
       "      <td>2</td>\n",
       "    </tr>\n",
       "    <tr>\n",
       "      <td>2352734</td>\n",
       "      <td>CHILI'S T-I</td>\n",
       "      <td>34169.0</td>\n",
       "      <td>Restaurant</td>\n",
       "      <td>3.0</td>\n",
       "      <td>11601 W TOUHY AVE</td>\n",
       "      <td>2019-12-04</td>\n",
       "      <td>Canvass</td>\n",
       "      <td>1</td>\n",
       "      <td>10. ADEQUATE HANDWASHING SINKS PROPERLY SUPPLI...</td>\n",
       "      <td>42.008536</td>\n",
       "      <td>-87.914428</td>\n",
       "      <td>{'latitude': '-87.91442843927047', 'longitude'...</td>\n",
       "      <td>restaurant</td>\n",
       "      <td>0</td>\n",
       "      <td>[47, 49, 55, 55, 10]</td>\n",
       "      <td>5</td>\n",
       "    </tr>\n",
       "    <tr>\n",
       "      <td>2352701</td>\n",
       "      <td>TAQUERIA BLUE LINE INC.</td>\n",
       "      <td>2703436.0</td>\n",
       "      <td>Restaurant</td>\n",
       "      <td>3.0</td>\n",
       "      <td>3401 W BELMONT AVE</td>\n",
       "      <td>2019-12-04</td>\n",
       "      <td>License</td>\n",
       "      <td>2</td>\n",
       "      <td>3. MANAGEMENT, FOOD EMPLOYEE AND CONDITIONAL E...</td>\n",
       "      <td>41.939168</td>\n",
       "      <td>-87.712546</td>\n",
       "      <td>{'latitude': '-87.71254599117191', 'longitude'...</td>\n",
       "      <td>restaurant</td>\n",
       "      <td>21</td>\n",
       "      <td>[5, 16, 51, 53, 58, 3]</td>\n",
       "      <td>12</td>\n",
       "    </tr>\n",
       "  </tbody>\n",
       "</table>\n",
       "</div>"
      ],
      "text/plain": [
       "                              DBA Name    License Facility Type  Risk  \\\n",
       "Inspection ID                                                           \n",
       "2352683         CHIPOTLE MEXICAN GRILL  2670642.0    Restaurant   3.0   \n",
       "2352734                    CHILI'S T-I    34169.0    Restaurant   3.0   \n",
       "2352701        TAQUERIA BLUE LINE INC.  2703436.0    Restaurant   3.0   \n",
       "\n",
       "                           Address Inspection Date        Inspection Type  \\\n",
       "Inspection ID                                                               \n",
       "2352683         1025 W ADDISON ST       2019-12-04  License Re-Inspection   \n",
       "2352734         11601 W TOUHY AVE       2019-12-04                Canvass   \n",
       "2352701        3401 W BELMONT AVE       2019-12-04                License   \n",
       "\n",
       "               Results                                         Violations  \\\n",
       "Inspection ID                                                               \n",
       "2352683              2  3. MANAGEMENT, FOOD EMPLOYEE AND CONDITIONAL E...   \n",
       "2352734              1  10. ADEQUATE HANDWASHING SINKS PROPERLY SUPPLI...   \n",
       "2352701              2  3. MANAGEMENT, FOOD EMPLOYEE AND CONDITIONAL E...   \n",
       "\n",
       "                Latitude  Longitude  \\\n",
       "Inspection ID                         \n",
       "2352683        41.947118 -87.655381   \n",
       "2352734        42.008536 -87.914428   \n",
       "2352701        41.939168 -87.712546   \n",
       "\n",
       "                                                        Location  \\\n",
       "Inspection ID                                                      \n",
       "2352683        {'latitude': '-87.6553811622124', 'longitude':...   \n",
       "2352734        {'latitude': '-87.91442843927047', 'longitude'...   \n",
       "2352701        {'latitude': '-87.71254599117191', 'longitude'...   \n",
       "\n",
       "              FacilityGroup  Community Area        NumberViolations  \\\n",
       "Inspection ID                                                         \n",
       "2352683          restaurant               6                     [3]   \n",
       "2352734          restaurant               0    [47, 49, 55, 55, 10]   \n",
       "2352701          restaurant              21  [5, 16, 51, 53, 58, 3]   \n",
       "\n",
       "               InspectionScore  \n",
       "Inspection ID                   \n",
       "2352683                      2  \n",
       "2352734                      5  \n",
       "2352701                     12  "
      ]
     },
     "execution_count": 81,
     "metadata": {},
     "output_type": "execute_result"
    }
   ],
   "source": [
    "eat_seat.head(3)"
   ]
  },
  {
   "cell_type": "markdown",
   "metadata": {},
   "source": [
    "## 3. Hygiene Score computation"
   ]
  },
  {
   "cell_type": "markdown",
   "metadata": {},
   "source": [
    "Now we want to add every InspectionScore that an establishment has and then divide this by the numer of inspections of this establishment in order to compute a score per establishment. This score will be stored in a new column FacilityScore.\n",
    "\n",
    "**NB :** This is a first try in order to make an analysis of the data. We know that this score is not fair because an establishment could have been very bad in the past and is now very healthy but we could use it in another formula later (compute the progress of an establishment for example)."
   ]
  },
  {
   "cell_type": "markdown",
   "metadata": {},
   "source": [
    "#### Assistants' comments :\n",
    "•\tNB.: Please read this to order to understand the difference between df.loc[...] and df[...]. When in doubt use .loc.\n",
    "https://pandas.pydata.org/pandas-docs/stable/user_guide/indexing.html\n",
    "\n",
    "•\tYour method of removing duplicate restaurants assumes that license numbers are not reused, **check that** instead of assuming it."
   ]
  },
  {
   "cell_type": "code",
   "execution_count": 82,
   "metadata": {},
   "outputs": [
    {
     "data": {
      "text/html": [
       "<div>\n",
       "<style scoped>\n",
       "    .dataframe tbody tr th:only-of-type {\n",
       "        vertical-align: middle;\n",
       "    }\n",
       "\n",
       "    .dataframe tbody tr th {\n",
       "        vertical-align: top;\n",
       "    }\n",
       "\n",
       "    .dataframe thead th {\n",
       "        text-align: right;\n",
       "    }\n",
       "</style>\n",
       "<table border=\"1\" class=\"dataframe\">\n",
       "  <thead>\n",
       "    <tr style=\"text-align: right;\">\n",
       "      <th></th>\n",
       "      <th>DBA Name</th>\n",
       "      <th>License</th>\n",
       "      <th>Facility Type</th>\n",
       "      <th>Risk</th>\n",
       "      <th>Address</th>\n",
       "      <th>Inspection Date</th>\n",
       "      <th>Inspection Type</th>\n",
       "      <th>Results</th>\n",
       "      <th>Violations</th>\n",
       "      <th>Latitude</th>\n",
       "      <th>Longitude</th>\n",
       "      <th>Location</th>\n",
       "      <th>FacilityGroup</th>\n",
       "      <th>Community Area</th>\n",
       "      <th>NumberViolations</th>\n",
       "      <th>InspectionScore</th>\n",
       "    </tr>\n",
       "    <tr>\n",
       "      <th>Inspection ID</th>\n",
       "      <th></th>\n",
       "      <th></th>\n",
       "      <th></th>\n",
       "      <th></th>\n",
       "      <th></th>\n",
       "      <th></th>\n",
       "      <th></th>\n",
       "      <th></th>\n",
       "      <th></th>\n",
       "      <th></th>\n",
       "      <th></th>\n",
       "      <th></th>\n",
       "      <th></th>\n",
       "      <th></th>\n",
       "      <th></th>\n",
       "      <th></th>\n",
       "    </tr>\n",
       "  </thead>\n",
       "  <tbody>\n",
       "    <tr>\n",
       "      <td>2352683</td>\n",
       "      <td>CHIPOTLE MEXICAN GRILL</td>\n",
       "      <td>2670642.0</td>\n",
       "      <td>Restaurant</td>\n",
       "      <td>3.0</td>\n",
       "      <td>1025 W ADDISON ST</td>\n",
       "      <td>2019-12-04</td>\n",
       "      <td>License Re-Inspection</td>\n",
       "      <td>2</td>\n",
       "      <td>3. MANAGEMENT, FOOD EMPLOYEE AND CONDITIONAL E...</td>\n",
       "      <td>41.947118</td>\n",
       "      <td>-87.655381</td>\n",
       "      <td>{'latitude': '-87.6553811622124', 'longitude':...</td>\n",
       "      <td>restaurant</td>\n",
       "      <td>6</td>\n",
       "      <td>[3]</td>\n",
       "      <td>2</td>\n",
       "    </tr>\n",
       "    <tr>\n",
       "      <td>2352734</td>\n",
       "      <td>CHILI'S T-I</td>\n",
       "      <td>34169.0</td>\n",
       "      <td>Restaurant</td>\n",
       "      <td>3.0</td>\n",
       "      <td>11601 W TOUHY AVE</td>\n",
       "      <td>2019-12-04</td>\n",
       "      <td>Canvass</td>\n",
       "      <td>1</td>\n",
       "      <td>10. ADEQUATE HANDWASHING SINKS PROPERLY SUPPLI...</td>\n",
       "      <td>42.008536</td>\n",
       "      <td>-87.914428</td>\n",
       "      <td>{'latitude': '-87.91442843927047', 'longitude'...</td>\n",
       "      <td>restaurant</td>\n",
       "      <td>0</td>\n",
       "      <td>[47, 49, 55, 55, 10]</td>\n",
       "      <td>5</td>\n",
       "    </tr>\n",
       "    <tr>\n",
       "      <td>2352701</td>\n",
       "      <td>TAQUERIA BLUE LINE INC.</td>\n",
       "      <td>2703436.0</td>\n",
       "      <td>Restaurant</td>\n",
       "      <td>3.0</td>\n",
       "      <td>3401 W BELMONT AVE</td>\n",
       "      <td>2019-12-04</td>\n",
       "      <td>License</td>\n",
       "      <td>2</td>\n",
       "      <td>3. MANAGEMENT, FOOD EMPLOYEE AND CONDITIONAL E...</td>\n",
       "      <td>41.939168</td>\n",
       "      <td>-87.712546</td>\n",
       "      <td>{'latitude': '-87.71254599117191', 'longitude'...</td>\n",
       "      <td>restaurant</td>\n",
       "      <td>21</td>\n",
       "      <td>[5, 16, 51, 53, 58, 3]</td>\n",
       "      <td>12</td>\n",
       "    </tr>\n",
       "  </tbody>\n",
       "</table>\n",
       "</div>"
      ],
      "text/plain": [
       "                              DBA Name    License Facility Type  Risk  \\\n",
       "Inspection ID                                                           \n",
       "2352683         CHIPOTLE MEXICAN GRILL  2670642.0    Restaurant   3.0   \n",
       "2352734                    CHILI'S T-I    34169.0    Restaurant   3.0   \n",
       "2352701        TAQUERIA BLUE LINE INC.  2703436.0    Restaurant   3.0   \n",
       "\n",
       "                           Address Inspection Date        Inspection Type  \\\n",
       "Inspection ID                                                               \n",
       "2352683         1025 W ADDISON ST       2019-12-04  License Re-Inspection   \n",
       "2352734         11601 W TOUHY AVE       2019-12-04                Canvass   \n",
       "2352701        3401 W BELMONT AVE       2019-12-04                License   \n",
       "\n",
       "               Results                                         Violations  \\\n",
       "Inspection ID                                                               \n",
       "2352683              2  3. MANAGEMENT, FOOD EMPLOYEE AND CONDITIONAL E...   \n",
       "2352734              1  10. ADEQUATE HANDWASHING SINKS PROPERLY SUPPLI...   \n",
       "2352701              2  3. MANAGEMENT, FOOD EMPLOYEE AND CONDITIONAL E...   \n",
       "\n",
       "                Latitude  Longitude  \\\n",
       "Inspection ID                         \n",
       "2352683        41.947118 -87.655381   \n",
       "2352734        42.008536 -87.914428   \n",
       "2352701        41.939168 -87.712546   \n",
       "\n",
       "                                                        Location  \\\n",
       "Inspection ID                                                      \n",
       "2352683        {'latitude': '-87.6553811622124', 'longitude':...   \n",
       "2352734        {'latitude': '-87.91442843927047', 'longitude'...   \n",
       "2352701        {'latitude': '-87.71254599117191', 'longitude'...   \n",
       "\n",
       "              FacilityGroup  Community Area        NumberViolations  \\\n",
       "Inspection ID                                                         \n",
       "2352683          restaurant               6                     [3]   \n",
       "2352734          restaurant               0    [47, 49, 55, 55, 10]   \n",
       "2352701          restaurant              21  [5, 16, 51, 53, 58, 3]   \n",
       "\n",
       "               InspectionScore  \n",
       "Inspection ID                   \n",
       "2352683                      2  \n",
       "2352734                      5  \n",
       "2352701                     12  "
      ]
     },
     "execution_count": 82,
     "metadata": {},
     "output_type": "execute_result"
    }
   ],
   "source": [
    "#keeping just one occurence of License\n",
    "df_restaurants = eat_seat.drop_duplicates(subset=['License'])\n",
    "df_restaurants.head(3)"
   ]
  },
  {
   "cell_type": "code",
   "execution_count": 83,
   "metadata": {},
   "outputs": [],
   "source": [
    "df_restaurants = df_restaurants.set_index(['License']) #redifines the Index"
   ]
  },
  {
   "cell_type": "code",
   "execution_count": 84,
   "metadata": {},
   "outputs": [
    {
     "data": {
      "text/html": [
       "<div>\n",
       "<style scoped>\n",
       "    .dataframe tbody tr th:only-of-type {\n",
       "        vertical-align: middle;\n",
       "    }\n",
       "\n",
       "    .dataframe tbody tr th {\n",
       "        vertical-align: top;\n",
       "    }\n",
       "\n",
       "    .dataframe thead th {\n",
       "        text-align: right;\n",
       "    }\n",
       "</style>\n",
       "<table border=\"1\" class=\"dataframe\">\n",
       "  <thead>\n",
       "    <tr style=\"text-align: right;\">\n",
       "      <th></th>\n",
       "      <th>DBA Name</th>\n",
       "      <th>Facility Type</th>\n",
       "      <th>Risk</th>\n",
       "      <th>Address</th>\n",
       "      <th>Inspection Date</th>\n",
       "      <th>Inspection Type</th>\n",
       "      <th>Results</th>\n",
       "      <th>Violations</th>\n",
       "      <th>Latitude</th>\n",
       "      <th>Longitude</th>\n",
       "      <th>Location</th>\n",
       "      <th>FacilityGroup</th>\n",
       "      <th>Community Area</th>\n",
       "      <th>NumberViolations</th>\n",
       "      <th>InspectionScore</th>\n",
       "    </tr>\n",
       "    <tr>\n",
       "      <th>License</th>\n",
       "      <th></th>\n",
       "      <th></th>\n",
       "      <th></th>\n",
       "      <th></th>\n",
       "      <th></th>\n",
       "      <th></th>\n",
       "      <th></th>\n",
       "      <th></th>\n",
       "      <th></th>\n",
       "      <th></th>\n",
       "      <th></th>\n",
       "      <th></th>\n",
       "      <th></th>\n",
       "      <th></th>\n",
       "      <th></th>\n",
       "    </tr>\n",
       "  </thead>\n",
       "  <tbody>\n",
       "    <tr>\n",
       "      <td>2670642.0</td>\n",
       "      <td>CHIPOTLE MEXICAN GRILL</td>\n",
       "      <td>Restaurant</td>\n",
       "      <td>3.0</td>\n",
       "      <td>1025 W ADDISON ST</td>\n",
       "      <td>2019-12-04</td>\n",
       "      <td>License Re-Inspection</td>\n",
       "      <td>2</td>\n",
       "      <td>3. MANAGEMENT, FOOD EMPLOYEE AND CONDITIONAL E...</td>\n",
       "      <td>41.947118</td>\n",
       "      <td>-87.655381</td>\n",
       "      <td>{'latitude': '-87.6553811622124', 'longitude':...</td>\n",
       "      <td>restaurant</td>\n",
       "      <td>6</td>\n",
       "      <td>[3]</td>\n",
       "      <td>2</td>\n",
       "    </tr>\n",
       "    <tr>\n",
       "      <td>34169.0</td>\n",
       "      <td>CHILI'S T-I</td>\n",
       "      <td>Restaurant</td>\n",
       "      <td>3.0</td>\n",
       "      <td>11601 W TOUHY AVE</td>\n",
       "      <td>2019-12-04</td>\n",
       "      <td>Canvass</td>\n",
       "      <td>1</td>\n",
       "      <td>10. ADEQUATE HANDWASHING SINKS PROPERLY SUPPLI...</td>\n",
       "      <td>42.008536</td>\n",
       "      <td>-87.914428</td>\n",
       "      <td>{'latitude': '-87.91442843927047', 'longitude'...</td>\n",
       "      <td>restaurant</td>\n",
       "      <td>0</td>\n",
       "      <td>[47, 49, 55, 55, 10]</td>\n",
       "      <td>5</td>\n",
       "    </tr>\n",
       "    <tr>\n",
       "      <td>2703436.0</td>\n",
       "      <td>TAQUERIA BLUE LINE INC.</td>\n",
       "      <td>Restaurant</td>\n",
       "      <td>3.0</td>\n",
       "      <td>3401 W BELMONT AVE</td>\n",
       "      <td>2019-12-04</td>\n",
       "      <td>License</td>\n",
       "      <td>2</td>\n",
       "      <td>3. MANAGEMENT, FOOD EMPLOYEE AND CONDITIONAL E...</td>\n",
       "      <td>41.939168</td>\n",
       "      <td>-87.712546</td>\n",
       "      <td>{'latitude': '-87.71254599117191', 'longitude'...</td>\n",
       "      <td>restaurant</td>\n",
       "      <td>21</td>\n",
       "      <td>[5, 16, 51, 53, 58, 3]</td>\n",
       "      <td>12</td>\n",
       "    </tr>\n",
       "  </tbody>\n",
       "</table>\n",
       "</div>"
      ],
      "text/plain": [
       "                          DBA Name Facility Type  Risk              Address  \\\n",
       "License                                                                       \n",
       "2670642.0   CHIPOTLE MEXICAN GRILL    Restaurant   3.0   1025 W ADDISON ST    \n",
       "34169.0                CHILI'S T-I    Restaurant   3.0   11601 W TOUHY AVE    \n",
       "2703436.0  TAQUERIA BLUE LINE INC.    Restaurant   3.0  3401 W BELMONT AVE    \n",
       "\n",
       "          Inspection Date        Inspection Type  Results  \\\n",
       "License                                                     \n",
       "2670642.0      2019-12-04  License Re-Inspection        2   \n",
       "34169.0        2019-12-04                Canvass        1   \n",
       "2703436.0      2019-12-04                License        2   \n",
       "\n",
       "                                                  Violations   Latitude  \\\n",
       "License                                                                   \n",
       "2670642.0  3. MANAGEMENT, FOOD EMPLOYEE AND CONDITIONAL E...  41.947118   \n",
       "34169.0    10. ADEQUATE HANDWASHING SINKS PROPERLY SUPPLI...  42.008536   \n",
       "2703436.0  3. MANAGEMENT, FOOD EMPLOYEE AND CONDITIONAL E...  41.939168   \n",
       "\n",
       "           Longitude                                           Location  \\\n",
       "License                                                                   \n",
       "2670642.0 -87.655381  {'latitude': '-87.6553811622124', 'longitude':...   \n",
       "34169.0   -87.914428  {'latitude': '-87.91442843927047', 'longitude'...   \n",
       "2703436.0 -87.712546  {'latitude': '-87.71254599117191', 'longitude'...   \n",
       "\n",
       "          FacilityGroup  Community Area        NumberViolations  \\\n",
       "License                                                           \n",
       "2670642.0    restaurant               6                     [3]   \n",
       "34169.0      restaurant               0    [47, 49, 55, 55, 10]   \n",
       "2703436.0    restaurant              21  [5, 16, 51, 53, 58, 3]   \n",
       "\n",
       "           InspectionScore  \n",
       "License                     \n",
       "2670642.0                2  \n",
       "34169.0                  5  \n",
       "2703436.0               12  "
      ]
     },
     "execution_count": 84,
     "metadata": {},
     "output_type": "execute_result"
    }
   ],
   "source": [
    "df_restaurants.head(3)"
   ]
  },
  {
   "cell_type": "code",
   "execution_count": 85,
   "metadata": {},
   "outputs": [
    {
     "data": {
      "text/html": [
       "<div>\n",
       "<style scoped>\n",
       "    .dataframe tbody tr th:only-of-type {\n",
       "        vertical-align: middle;\n",
       "    }\n",
       "\n",
       "    .dataframe tbody tr th {\n",
       "        vertical-align: top;\n",
       "    }\n",
       "\n",
       "    .dataframe thead th {\n",
       "        text-align: right;\n",
       "    }\n",
       "</style>\n",
       "<table border=\"1\" class=\"dataframe\">\n",
       "  <thead>\n",
       "    <tr style=\"text-align: right;\">\n",
       "      <th></th>\n",
       "      <th>DBA Name</th>\n",
       "      <th>Facility Type</th>\n",
       "      <th>Risk</th>\n",
       "      <th>Address</th>\n",
       "      <th>Violations</th>\n",
       "      <th>Latitude</th>\n",
       "      <th>Longitude</th>\n",
       "      <th>Location</th>\n",
       "      <th>FacilityGroup</th>\n",
       "      <th>Community Area</th>\n",
       "    </tr>\n",
       "    <tr>\n",
       "      <th>License</th>\n",
       "      <th></th>\n",
       "      <th></th>\n",
       "      <th></th>\n",
       "      <th></th>\n",
       "      <th></th>\n",
       "      <th></th>\n",
       "      <th></th>\n",
       "      <th></th>\n",
       "      <th></th>\n",
       "      <th></th>\n",
       "    </tr>\n",
       "  </thead>\n",
       "  <tbody>\n",
       "    <tr>\n",
       "      <td>2670642.0</td>\n",
       "      <td>CHIPOTLE MEXICAN GRILL</td>\n",
       "      <td>Restaurant</td>\n",
       "      <td>3.0</td>\n",
       "      <td>1025 W ADDISON ST</td>\n",
       "      <td>3. MANAGEMENT, FOOD EMPLOYEE AND CONDITIONAL E...</td>\n",
       "      <td>41.947118</td>\n",
       "      <td>-87.655381</td>\n",
       "      <td>{'latitude': '-87.6553811622124', 'longitude':...</td>\n",
       "      <td>restaurant</td>\n",
       "      <td>6</td>\n",
       "    </tr>\n",
       "    <tr>\n",
       "      <td>34169.0</td>\n",
       "      <td>CHILI'S T-I</td>\n",
       "      <td>Restaurant</td>\n",
       "      <td>3.0</td>\n",
       "      <td>11601 W TOUHY AVE</td>\n",
       "      <td>10. ADEQUATE HANDWASHING SINKS PROPERLY SUPPLI...</td>\n",
       "      <td>42.008536</td>\n",
       "      <td>-87.914428</td>\n",
       "      <td>{'latitude': '-87.91442843927047', 'longitude'...</td>\n",
       "      <td>restaurant</td>\n",
       "      <td>0</td>\n",
       "    </tr>\n",
       "    <tr>\n",
       "      <td>2703436.0</td>\n",
       "      <td>TAQUERIA BLUE LINE INC.</td>\n",
       "      <td>Restaurant</td>\n",
       "      <td>3.0</td>\n",
       "      <td>3401 W BELMONT AVE</td>\n",
       "      <td>3. MANAGEMENT, FOOD EMPLOYEE AND CONDITIONAL E...</td>\n",
       "      <td>41.939168</td>\n",
       "      <td>-87.712546</td>\n",
       "      <td>{'latitude': '-87.71254599117191', 'longitude'...</td>\n",
       "      <td>restaurant</td>\n",
       "      <td>21</td>\n",
       "    </tr>\n",
       "  </tbody>\n",
       "</table>\n",
       "</div>"
      ],
      "text/plain": [
       "                          DBA Name Facility Type  Risk              Address  \\\n",
       "License                                                                       \n",
       "2670642.0   CHIPOTLE MEXICAN GRILL    Restaurant   3.0   1025 W ADDISON ST    \n",
       "34169.0                CHILI'S T-I    Restaurant   3.0   11601 W TOUHY AVE    \n",
       "2703436.0  TAQUERIA BLUE LINE INC.    Restaurant   3.0  3401 W BELMONT AVE    \n",
       "\n",
       "                                                  Violations   Latitude  \\\n",
       "License                                                                   \n",
       "2670642.0  3. MANAGEMENT, FOOD EMPLOYEE AND CONDITIONAL E...  41.947118   \n",
       "34169.0    10. ADEQUATE HANDWASHING SINKS PROPERLY SUPPLI...  42.008536   \n",
       "2703436.0  3. MANAGEMENT, FOOD EMPLOYEE AND CONDITIONAL E...  41.939168   \n",
       "\n",
       "           Longitude                                           Location  \\\n",
       "License                                                                   \n",
       "2670642.0 -87.655381  {'latitude': '-87.6553811622124', 'longitude':...   \n",
       "34169.0   -87.914428  {'latitude': '-87.91442843927047', 'longitude'...   \n",
       "2703436.0 -87.712546  {'latitude': '-87.71254599117191', 'longitude'...   \n",
       "\n",
       "          FacilityGroup  Community Area  \n",
       "License                                  \n",
       "2670642.0    restaurant               6  \n",
       "34169.0      restaurant               0  \n",
       "2703436.0    restaurant              21  "
      ]
     },
     "execution_count": 85,
     "metadata": {},
     "output_type": "execute_result"
    }
   ],
   "source": [
    "#drop columns that gives info about inspection and not facility\n",
    "df_restaurants = df_restaurants.drop(columns = ['Inspection Date', 'Inspection Type', 'Results', 'NumberViolations', 'InspectionScore'])\n",
    "df_restaurants.head(3)"
   ]
  },
  {
   "cell_type": "markdown",
   "metadata": {},
   "source": [
    "Now we have a dataframe with every facility listed in our preprocessed database. We want to create a column containing the addition of every InspectionScore of each license."
   ]
  },
  {
   "cell_type": "code",
   "execution_count": 86,
   "metadata": {},
   "outputs": [],
   "source": [
    "#compute the number of inspections in the primary dataset per license number\n",
    "\n",
    "dic = {}\n",
    "\n",
    "for license in df_restaurants.index :\n",
    "    score = 0\n",
    "    for row in eat_seat[eat_seat['License']==license].index :\n",
    "        score = 0 + eat_seat.at[row, 'InspectionScore']\n",
    "    dic[license] = score\n"
   ]
  },
  {
   "cell_type": "markdown",
   "metadata": {},
   "source": [
    "**Essayer de faire un groupby.sum() ou quelque chose comme ça !**\n",
    "\n",
    "#### Assistants' comments :\n",
    "•\tin cell In [74] you have a mistake... check that.\n",
    "\n",
    "**\"Facility score\" encore besoin ? Vu que l'analyse est par année**"
   ]
  },
  {
   "cell_type": "code",
   "execution_count": 87,
   "metadata": {},
   "outputs": [],
   "source": [
    "#add this number in the new database\n",
    "df_restaurants['FacilityScore'] = dic.values()"
   ]
  },
  {
   "cell_type": "code",
   "execution_count": 88,
   "metadata": {},
   "outputs": [],
   "source": [
    "#compute the number of inspections in the primary dataset per license number\n",
    "\n",
    "dic = {}\n",
    "\n",
    "for license in df_restaurants.index :\n",
    "    score = len(eat_seat[eat_seat['License'] == license])\n",
    "    dic[license] = score"
   ]
  },
  {
   "cell_type": "code",
   "execution_count": 89,
   "metadata": {},
   "outputs": [],
   "source": [
    "#add this number in the new database\n",
    "df_restaurants['NumberOfInspections'] = dic.values()"
   ]
  },
  {
   "cell_type": "code",
   "execution_count": 90,
   "metadata": {},
   "outputs": [
    {
     "data": {
      "text/html": [
       "<div>\n",
       "<style scoped>\n",
       "    .dataframe tbody tr th:only-of-type {\n",
       "        vertical-align: middle;\n",
       "    }\n",
       "\n",
       "    .dataframe tbody tr th {\n",
       "        vertical-align: top;\n",
       "    }\n",
       "\n",
       "    .dataframe thead th {\n",
       "        text-align: right;\n",
       "    }\n",
       "</style>\n",
       "<table border=\"1\" class=\"dataframe\">\n",
       "  <thead>\n",
       "    <tr style=\"text-align: right;\">\n",
       "      <th></th>\n",
       "      <th>DBA Name</th>\n",
       "      <th>Facility Type</th>\n",
       "      <th>Risk</th>\n",
       "      <th>Address</th>\n",
       "      <th>Violations</th>\n",
       "      <th>Latitude</th>\n",
       "      <th>Longitude</th>\n",
       "      <th>Location</th>\n",
       "      <th>FacilityGroup</th>\n",
       "      <th>Community Area</th>\n",
       "      <th>FacilityScore</th>\n",
       "      <th>NumberOfInspections</th>\n",
       "    </tr>\n",
       "    <tr>\n",
       "      <th>License</th>\n",
       "      <th></th>\n",
       "      <th></th>\n",
       "      <th></th>\n",
       "      <th></th>\n",
       "      <th></th>\n",
       "      <th></th>\n",
       "      <th></th>\n",
       "      <th></th>\n",
       "      <th></th>\n",
       "      <th></th>\n",
       "      <th></th>\n",
       "      <th></th>\n",
       "    </tr>\n",
       "  </thead>\n",
       "  <tbody>\n",
       "    <tr>\n",
       "      <td>2670642.0</td>\n",
       "      <td>CHIPOTLE MEXICAN GRILL</td>\n",
       "      <td>Restaurant</td>\n",
       "      <td>3.0</td>\n",
       "      <td>1025 W ADDISON ST</td>\n",
       "      <td>3. MANAGEMENT, FOOD EMPLOYEE AND CONDITIONAL E...</td>\n",
       "      <td>41.947118</td>\n",
       "      <td>-87.655381</td>\n",
       "      <td>{'latitude': '-87.6553811622124', 'longitude':...</td>\n",
       "      <td>restaurant</td>\n",
       "      <td>6</td>\n",
       "      <td>9</td>\n",
       "      <td>2</td>\n",
       "    </tr>\n",
       "    <tr>\n",
       "      <td>34169.0</td>\n",
       "      <td>CHILI'S T-I</td>\n",
       "      <td>Restaurant</td>\n",
       "      <td>3.0</td>\n",
       "      <td>11601 W TOUHY AVE</td>\n",
       "      <td>10. ADEQUATE HANDWASHING SINKS PROPERLY SUPPLI...</td>\n",
       "      <td>42.008536</td>\n",
       "      <td>-87.914428</td>\n",
       "      <td>{'latitude': '-87.91442843927047', 'longitude'...</td>\n",
       "      <td>restaurant</td>\n",
       "      <td>0</td>\n",
       "      <td>12</td>\n",
       "      <td>25</td>\n",
       "    </tr>\n",
       "    <tr>\n",
       "      <td>2703436.0</td>\n",
       "      <td>TAQUERIA BLUE LINE INC.</td>\n",
       "      <td>Restaurant</td>\n",
       "      <td>3.0</td>\n",
       "      <td>3401 W BELMONT AVE</td>\n",
       "      <td>3. MANAGEMENT, FOOD EMPLOYEE AND CONDITIONAL E...</td>\n",
       "      <td>41.939168</td>\n",
       "      <td>-87.712546</td>\n",
       "      <td>{'latitude': '-87.71254599117191', 'longitude'...</td>\n",
       "      <td>restaurant</td>\n",
       "      <td>21</td>\n",
       "      <td>12</td>\n",
       "      <td>1</td>\n",
       "    </tr>\n",
       "  </tbody>\n",
       "</table>\n",
       "</div>"
      ],
      "text/plain": [
       "                          DBA Name Facility Type  Risk              Address  \\\n",
       "License                                                                       \n",
       "2670642.0   CHIPOTLE MEXICAN GRILL    Restaurant   3.0   1025 W ADDISON ST    \n",
       "34169.0                CHILI'S T-I    Restaurant   3.0   11601 W TOUHY AVE    \n",
       "2703436.0  TAQUERIA BLUE LINE INC.    Restaurant   3.0  3401 W BELMONT AVE    \n",
       "\n",
       "                                                  Violations   Latitude  \\\n",
       "License                                                                   \n",
       "2670642.0  3. MANAGEMENT, FOOD EMPLOYEE AND CONDITIONAL E...  41.947118   \n",
       "34169.0    10. ADEQUATE HANDWASHING SINKS PROPERLY SUPPLI...  42.008536   \n",
       "2703436.0  3. MANAGEMENT, FOOD EMPLOYEE AND CONDITIONAL E...  41.939168   \n",
       "\n",
       "           Longitude                                           Location  \\\n",
       "License                                                                   \n",
       "2670642.0 -87.655381  {'latitude': '-87.6553811622124', 'longitude':...   \n",
       "34169.0   -87.914428  {'latitude': '-87.91442843927047', 'longitude'...   \n",
       "2703436.0 -87.712546  {'latitude': '-87.71254599117191', 'longitude'...   \n",
       "\n",
       "          FacilityGroup  Community Area  FacilityScore  NumberOfInspections  \n",
       "License                                                                      \n",
       "2670642.0    restaurant               6              9                    2  \n",
       "34169.0      restaurant               0             12                   25  \n",
       "2703436.0    restaurant              21             12                    1  "
      ]
     },
     "execution_count": 90,
     "metadata": {},
     "output_type": "execute_result"
    }
   ],
   "source": [
    "df_restaurants.head(3)"
   ]
  },
  {
   "cell_type": "code",
   "execution_count": 91,
   "metadata": {},
   "outputs": [
    {
     "data": {
      "text/html": [
       "<div>\n",
       "<style scoped>\n",
       "    .dataframe tbody tr th:only-of-type {\n",
       "        vertical-align: middle;\n",
       "    }\n",
       "\n",
       "    .dataframe tbody tr th {\n",
       "        vertical-align: top;\n",
       "    }\n",
       "\n",
       "    .dataframe thead th {\n",
       "        text-align: right;\n",
       "    }\n",
       "</style>\n",
       "<table border=\"1\" class=\"dataframe\">\n",
       "  <thead>\n",
       "    <tr style=\"text-align: right;\">\n",
       "      <th></th>\n",
       "      <th>Community Area</th>\n",
       "      <th>FacilityScore</th>\n",
       "      <th>NumberOfInspections</th>\n",
       "    </tr>\n",
       "    <tr>\n",
       "      <th>License</th>\n",
       "      <th></th>\n",
       "      <th></th>\n",
       "      <th></th>\n",
       "    </tr>\n",
       "  </thead>\n",
       "  <tbody>\n",
       "    <tr>\n",
       "      <td>2670642.0</td>\n",
       "      <td>6</td>\n",
       "      <td>9</td>\n",
       "      <td>2</td>\n",
       "    </tr>\n",
       "    <tr>\n",
       "      <td>34169.0</td>\n",
       "      <td>0</td>\n",
       "      <td>12</td>\n",
       "      <td>25</td>\n",
       "    </tr>\n",
       "    <tr>\n",
       "      <td>2703436.0</td>\n",
       "      <td>21</td>\n",
       "      <td>12</td>\n",
       "      <td>1</td>\n",
       "    </tr>\n",
       "  </tbody>\n",
       "</table>\n",
       "</div>"
      ],
      "text/plain": [
       "           Community Area  FacilityScore  NumberOfInspections\n",
       "License                                                      \n",
       "2670642.0               6              9                    2\n",
       "34169.0                 0             12                   25\n",
       "2703436.0              21             12                    1"
      ]
     },
     "execution_count": 91,
     "metadata": {},
     "output_type": "execute_result"
    }
   ],
   "source": [
    "#only keep the new column\n",
    "df_restaurants = df_restaurants.drop(columns = ['DBA Name', 'Risk', 'Address', 'Latitude', 'Longitude', 'FacilityGroup', \n",
    "                                                'Violations', 'Location', 'Facility Type'])\n",
    "df_restaurants.head(3)"
   ]
  },
  {
   "cell_type": "code",
   "execution_count": 92,
   "metadata": {},
   "outputs": [],
   "source": [
    "dic = {}\n",
    "\n",
    "\n",
    "for inspection in eat_seat.index :\n",
    "    license = eat_seat.loc[inspection, 'License']\n",
    "    facilityscore = df_restaurants.loc[license, 'FacilityScore'] / df_restaurants.loc[license, 'NumberOfInspections']\n",
    "    dic[inspection] = facilityscore\n",
    "    "
   ]
  },
  {
   "cell_type": "code",
   "execution_count": 93,
   "metadata": {},
   "outputs": [],
   "source": [
    "eat_seat['FacilityScore'] = dic.values()"
   ]
  },
  {
   "cell_type": "code",
   "execution_count": 94,
   "metadata": {},
   "outputs": [
    {
     "data": {
      "text/html": [
       "<div>\n",
       "<style scoped>\n",
       "    .dataframe tbody tr th:only-of-type {\n",
       "        vertical-align: middle;\n",
       "    }\n",
       "\n",
       "    .dataframe tbody tr th {\n",
       "        vertical-align: top;\n",
       "    }\n",
       "\n",
       "    .dataframe thead th {\n",
       "        text-align: right;\n",
       "    }\n",
       "</style>\n",
       "<table border=\"1\" class=\"dataframe\">\n",
       "  <thead>\n",
       "    <tr style=\"text-align: right;\">\n",
       "      <th></th>\n",
       "      <th>DBA Name</th>\n",
       "      <th>License</th>\n",
       "      <th>Facility Type</th>\n",
       "      <th>Risk</th>\n",
       "      <th>Address</th>\n",
       "      <th>Inspection Date</th>\n",
       "      <th>Inspection Type</th>\n",
       "      <th>Results</th>\n",
       "      <th>Violations</th>\n",
       "      <th>Latitude</th>\n",
       "      <th>Longitude</th>\n",
       "      <th>Location</th>\n",
       "      <th>FacilityGroup</th>\n",
       "      <th>Community Area</th>\n",
       "      <th>NumberViolations</th>\n",
       "      <th>InspectionScore</th>\n",
       "      <th>FacilityScore</th>\n",
       "    </tr>\n",
       "    <tr>\n",
       "      <th>Inspection ID</th>\n",
       "      <th></th>\n",
       "      <th></th>\n",
       "      <th></th>\n",
       "      <th></th>\n",
       "      <th></th>\n",
       "      <th></th>\n",
       "      <th></th>\n",
       "      <th></th>\n",
       "      <th></th>\n",
       "      <th></th>\n",
       "      <th></th>\n",
       "      <th></th>\n",
       "      <th></th>\n",
       "      <th></th>\n",
       "      <th></th>\n",
       "      <th></th>\n",
       "      <th></th>\n",
       "    </tr>\n",
       "  </thead>\n",
       "  <tbody>\n",
       "    <tr>\n",
       "      <td>2352683</td>\n",
       "      <td>CHIPOTLE MEXICAN GRILL</td>\n",
       "      <td>2670642.0</td>\n",
       "      <td>Restaurant</td>\n",
       "      <td>3.0</td>\n",
       "      <td>1025 W ADDISON ST</td>\n",
       "      <td>2019-12-04</td>\n",
       "      <td>License Re-Inspection</td>\n",
       "      <td>2</td>\n",
       "      <td>3. MANAGEMENT, FOOD EMPLOYEE AND CONDITIONAL E...</td>\n",
       "      <td>41.947118</td>\n",
       "      <td>-87.655381</td>\n",
       "      <td>{'latitude': '-87.6553811622124', 'longitude':...</td>\n",
       "      <td>restaurant</td>\n",
       "      <td>6</td>\n",
       "      <td>[3]</td>\n",
       "      <td>2</td>\n",
       "      <td>4.50</td>\n",
       "    </tr>\n",
       "    <tr>\n",
       "      <td>2352734</td>\n",
       "      <td>CHILI'S T-I</td>\n",
       "      <td>34169.0</td>\n",
       "      <td>Restaurant</td>\n",
       "      <td>3.0</td>\n",
       "      <td>11601 W TOUHY AVE</td>\n",
       "      <td>2019-12-04</td>\n",
       "      <td>Canvass</td>\n",
       "      <td>1</td>\n",
       "      <td>10. ADEQUATE HANDWASHING SINKS PROPERLY SUPPLI...</td>\n",
       "      <td>42.008536</td>\n",
       "      <td>-87.914428</td>\n",
       "      <td>{'latitude': '-87.91442843927047', 'longitude'...</td>\n",
       "      <td>restaurant</td>\n",
       "      <td>0</td>\n",
       "      <td>[47, 49, 55, 55, 10]</td>\n",
       "      <td>5</td>\n",
       "      <td>0.48</td>\n",
       "    </tr>\n",
       "    <tr>\n",
       "      <td>2352701</td>\n",
       "      <td>TAQUERIA BLUE LINE INC.</td>\n",
       "      <td>2703436.0</td>\n",
       "      <td>Restaurant</td>\n",
       "      <td>3.0</td>\n",
       "      <td>3401 W BELMONT AVE</td>\n",
       "      <td>2019-12-04</td>\n",
       "      <td>License</td>\n",
       "      <td>2</td>\n",
       "      <td>3. MANAGEMENT, FOOD EMPLOYEE AND CONDITIONAL E...</td>\n",
       "      <td>41.939168</td>\n",
       "      <td>-87.712546</td>\n",
       "      <td>{'latitude': '-87.71254599117191', 'longitude'...</td>\n",
       "      <td>restaurant</td>\n",
       "      <td>21</td>\n",
       "      <td>[5, 16, 51, 53, 58, 3]</td>\n",
       "      <td>12</td>\n",
       "      <td>12.00</td>\n",
       "    </tr>\n",
       "  </tbody>\n",
       "</table>\n",
       "</div>"
      ],
      "text/plain": [
       "                              DBA Name    License Facility Type  Risk  \\\n",
       "Inspection ID                                                           \n",
       "2352683         CHIPOTLE MEXICAN GRILL  2670642.0    Restaurant   3.0   \n",
       "2352734                    CHILI'S T-I    34169.0    Restaurant   3.0   \n",
       "2352701        TAQUERIA BLUE LINE INC.  2703436.0    Restaurant   3.0   \n",
       "\n",
       "                           Address Inspection Date        Inspection Type  \\\n",
       "Inspection ID                                                               \n",
       "2352683         1025 W ADDISON ST       2019-12-04  License Re-Inspection   \n",
       "2352734         11601 W TOUHY AVE       2019-12-04                Canvass   \n",
       "2352701        3401 W BELMONT AVE       2019-12-04                License   \n",
       "\n",
       "               Results                                         Violations  \\\n",
       "Inspection ID                                                               \n",
       "2352683              2  3. MANAGEMENT, FOOD EMPLOYEE AND CONDITIONAL E...   \n",
       "2352734              1  10. ADEQUATE HANDWASHING SINKS PROPERLY SUPPLI...   \n",
       "2352701              2  3. MANAGEMENT, FOOD EMPLOYEE AND CONDITIONAL E...   \n",
       "\n",
       "                Latitude  Longitude  \\\n",
       "Inspection ID                         \n",
       "2352683        41.947118 -87.655381   \n",
       "2352734        42.008536 -87.914428   \n",
       "2352701        41.939168 -87.712546   \n",
       "\n",
       "                                                        Location  \\\n",
       "Inspection ID                                                      \n",
       "2352683        {'latitude': '-87.6553811622124', 'longitude':...   \n",
       "2352734        {'latitude': '-87.91442843927047', 'longitude'...   \n",
       "2352701        {'latitude': '-87.71254599117191', 'longitude'...   \n",
       "\n",
       "              FacilityGroup  Community Area        NumberViolations  \\\n",
       "Inspection ID                                                         \n",
       "2352683          restaurant               6                     [3]   \n",
       "2352734          restaurant               0    [47, 49, 55, 55, 10]   \n",
       "2352701          restaurant              21  [5, 16, 51, 53, 58, 3]   \n",
       "\n",
       "               InspectionScore  FacilityScore  \n",
       "Inspection ID                                  \n",
       "2352683                      2           4.50  \n",
       "2352734                      5           0.48  \n",
       "2352701                     12          12.00  "
      ]
     },
     "execution_count": 94,
     "metadata": {},
     "output_type": "execute_result"
    }
   ],
   "source": [
    "eat_seat.head(3)"
   ]
  },
  {
   "cell_type": "markdown",
   "metadata": {},
   "source": [
    "## 4.1 Additional Dataset - BUSINESS LICENSES/OWNERS\n",
    "\n",
    "We found two datasets on Kaggle gathering the business licenses and the business owners of Chicago. It could be interesting to observe the results of different establishments owned by the same person."
   ]
  },
  {
   "cell_type": "markdown",
   "metadata": {},
   "source": [
    "### Business Licenses\n",
    "\n",
    "The first dataset contains the details about every licensed establishments. There are a lot of columns but the only ones interesting us are :\n",
    "- the `license id` column to have a link with the *chicago food inspections* dataset\n",
    "- the `account number` column to have a link with the *business owners* dataset\n",
    "- the `police district` column in case we want to have a link with the *crime* dataset"
   ]
  },
  {
   "cell_type": "code",
   "execution_count": 260,
   "metadata": {},
   "outputs": [],
   "source": [
    "licenses = pd.read_csv('business-licenses.csv', sep=',', low_memory = False) #creation of the dataframe\n"
   ]
  },
  {
   "cell_type": "code",
   "execution_count": 261,
   "metadata": {},
   "outputs": [
    {
     "name": "stderr",
     "output_type": "stream",
     "text": [
      "C:\\Users\\claire\\Anaconda3\\lib\\site-packages\\IPython\\core\\interactiveshell.py:3057: DtypeWarning: Columns (9) have mixed types. Specify dtype option on import or set low_memory=False.\n",
      "  interactivity=interactivity, compiler=compiler, result=result)\n"
     ]
    },
    {
     "data": {
      "text/html": [
       "<div>\n",
       "<style scoped>\n",
       "    .dataframe tbody tr th:only-of-type {\n",
       "        vertical-align: middle;\n",
       "    }\n",
       "\n",
       "    .dataframe tbody tr th {\n",
       "        vertical-align: top;\n",
       "    }\n",
       "\n",
       "    .dataframe thead th {\n",
       "        text-align: right;\n",
       "    }\n",
       "</style>\n",
       "<table border=\"1\" class=\"dataframe\">\n",
       "  <thead>\n",
       "    <tr style=\"text-align: right;\">\n",
       "      <th></th>\n",
       "      <th>license id</th>\n",
       "      <th>account number</th>\n",
       "      <th>police district</th>\n",
       "    </tr>\n",
       "  </thead>\n",
       "  <tbody>\n",
       "    <tr>\n",
       "      <th>0</th>\n",
       "      <td>1480073</td>\n",
       "      <td>1</td>\n",
       "      <td>1.0</td>\n",
       "    </tr>\n",
       "    <tr>\n",
       "      <th>1</th>\n",
       "      <td>1278029</td>\n",
       "      <td>1</td>\n",
       "      <td>1.0</td>\n",
       "    </tr>\n",
       "    <tr>\n",
       "      <th>2</th>\n",
       "      <td>1337924</td>\n",
       "      <td>1</td>\n",
       "      <td>1.0</td>\n",
       "    </tr>\n",
       "  </tbody>\n",
       "</table>\n",
       "</div>"
      ],
      "text/plain": [
       "   license id  account number  police district\n",
       "0     1480073               1              1.0\n",
       "1     1278029               1              1.0\n",
       "2     1337924               1              1.0"
      ]
     },
     "execution_count": 261,
     "metadata": {},
     "output_type": "execute_result"
    }
   ],
   "source": [
    "licenses = pd.read_csv('business-licenses.csv', sep=',') #creation of the dataframe\n",
    "licenses = licenses.rename(str.lower, axis='columns')\n",
    "licenses = licenses.drop(columns = ['city', 'state', 'id', 'precinct', 'ward precinct', 'business activity id',\\\n",
    "                                'license number', 'application type', 'application created date',\\\n",
    "                                'application requirements complete', 'payment date', 'conditional approval',\\\n",
    "                                'license term start date', 'license term expiration date', 'license approved for issuance',\\\n",
    "                                'date issued', 'license status', 'license status change date', 'ssa',\\\n",
    "                                'historical wards 2003-2015', 'zip codes', 'wards', 'census tracts', 'location',\\\n",
    "                                'license code', 'license description', 'business activity', 'site number',\\\n",
    "                               'zip code', 'latitude', 'longitude', 'address', 'legal name', 'doing business as name',\\\n",
    "                                'community areas', 'ward'])\n",
    "\n",
    "licenses['police district'] = pd.to_numeric(licenses['police district'], downcast = 'integer') \n",
    "licenses.head(3)"
   ]
  },
  {
   "cell_type": "code",
   "execution_count": 97,
   "metadata": {},
   "outputs": [
    {
     "data": {
      "text/html": [
       "<div>\n",
       "<style scoped>\n",
       "    .dataframe tbody tr th:only-of-type {\n",
       "        vertical-align: middle;\n",
       "    }\n",
       "\n",
       "    .dataframe tbody tr th {\n",
       "        vertical-align: top;\n",
       "    }\n",
       "\n",
       "    .dataframe thead th {\n",
       "        text-align: right;\n",
       "    }\n",
       "</style>\n",
       "<table border=\"1\" class=\"dataframe\">\n",
       "  <thead>\n",
       "    <tr style=\"text-align: right;\">\n",
       "      <th></th>\n",
       "      <th>license id</th>\n",
       "      <th>police district</th>\n",
       "    </tr>\n",
       "    <tr>\n",
       "      <th>account number</th>\n",
       "      <th></th>\n",
       "      <th></th>\n",
       "    </tr>\n",
       "  </thead>\n",
       "  <tbody>\n",
       "    <tr>\n",
       "      <td>1</td>\n",
       "      <td>1480073</td>\n",
       "      <td>1.0</td>\n",
       "    </tr>\n",
       "    <tr>\n",
       "      <td>1</td>\n",
       "      <td>1278029</td>\n",
       "      <td>1.0</td>\n",
       "    </tr>\n",
       "    <tr>\n",
       "      <td>1</td>\n",
       "      <td>1337924</td>\n",
       "      <td>1.0</td>\n",
       "    </tr>\n",
       "  </tbody>\n",
       "</table>\n",
       "</div>"
      ],
      "text/plain": [
       "                license id  police district\n",
       "account number                             \n",
       "1                  1480073              1.0\n",
       "1                  1278029              1.0\n",
       "1                  1337924              1.0"
      ]
     },
     "execution_count": 97,
     "metadata": {},
     "output_type": "execute_result"
    }
   ],
   "source": [
    "licenses = licenses.set_index('account number')\n",
    "licenses.head(3)"
   ]
  },
  {
   "cell_type": "code",
   "execution_count": 98,
   "metadata": {},
   "outputs": [
    {
     "name": "stdout",
     "output_type": "stream",
     "text": [
      "989790\n"
     ]
    }
   ],
   "source": [
    "print(len(licenses.index))"
   ]
  },
  {
   "cell_type": "markdown",
   "metadata": {},
   "source": [
    "### Business Owners\n",
    "\n",
    "The second dataset contains the details about every license owners. We have decided to keep the following columns :\n",
    "- the `account number` column to have a link with the *business licenses* dataset\n",
    "- the `owner first name` and the `owner last name` columns in order to create a `full name` column"
   ]
  },
  {
   "cell_type": "code",
   "execution_count": 99,
   "metadata": {},
   "outputs": [
    {
     "data": {
      "text/html": [
       "<div>\n",
       "<style scoped>\n",
       "    .dataframe tbody tr th:only-of-type {\n",
       "        vertical-align: middle;\n",
       "    }\n",
       "\n",
       "    .dataframe tbody tr th {\n",
       "        vertical-align: top;\n",
       "    }\n",
       "\n",
       "    .dataframe thead th {\n",
       "        text-align: right;\n",
       "    }\n",
       "</style>\n",
       "<table border=\"1\" class=\"dataframe\">\n",
       "  <thead>\n",
       "    <tr style=\"text-align: right;\">\n",
       "      <th></th>\n",
       "      <th>account number</th>\n",
       "      <th>owner first name</th>\n",
       "      <th>owner last name</th>\n",
       "    </tr>\n",
       "  </thead>\n",
       "  <tbody>\n",
       "    <tr>\n",
       "      <td>0</td>\n",
       "      <td>373231</td>\n",
       "      <td>GUY</td>\n",
       "      <td>SELLARS</td>\n",
       "    </tr>\n",
       "    <tr>\n",
       "      <td>1</td>\n",
       "      <td>203002</td>\n",
       "      <td>NELCY</td>\n",
       "      <td>SANTANA</td>\n",
       "    </tr>\n",
       "    <tr>\n",
       "      <td>2</td>\n",
       "      <td>338012</td>\n",
       "      <td>GREGORY</td>\n",
       "      <td>EDINGBURG</td>\n",
       "    </tr>\n",
       "  </tbody>\n",
       "</table>\n",
       "</div>"
      ],
      "text/plain": [
       "   account number owner first name owner last name\n",
       "0          373231              GUY         SELLARS\n",
       "1          203002            NELCY         SANTANA\n",
       "2          338012          GREGORY       EDINGBURG"
      ]
     },
     "execution_count": 99,
     "metadata": {},
     "output_type": "execute_result"
    }
   ],
   "source": [
    "owners = pd.read_csv('business-owners.csv',sep=',') #creation of the dataframe\n",
    "owners = owners.rename(str.lower, axis='columns')\n",
    "owners = owners.drop(columns = ['suffix', 'legal entity owner', 'owner middle initial', 'legal name', 'title'])\n",
    "owners.head(3)"
   ]
  },
  {
   "cell_type": "code",
   "execution_count": 100,
   "metadata": {},
   "outputs": [],
   "source": [
    "owners['full name'] = owners['owner first name'] + ' ' + owners['owner last name']\n",
    "owners = owners.drop(columns = ['owner first name', 'owner last name'])"
   ]
  },
  {
   "cell_type": "markdown",
   "metadata": {},
   "source": [
    "A `full name` column is enough for the needs that we have to link the licenses to the owners."
   ]
  },
  {
   "cell_type": "code",
   "execution_count": 101,
   "metadata": {},
   "outputs": [
    {
     "data": {
      "text/html": [
       "<div>\n",
       "<style scoped>\n",
       "    .dataframe tbody tr th:only-of-type {\n",
       "        vertical-align: middle;\n",
       "    }\n",
       "\n",
       "    .dataframe tbody tr th {\n",
       "        vertical-align: top;\n",
       "    }\n",
       "\n",
       "    .dataframe thead th {\n",
       "        text-align: right;\n",
       "    }\n",
       "</style>\n",
       "<table border=\"1\" class=\"dataframe\">\n",
       "  <thead>\n",
       "    <tr style=\"text-align: right;\">\n",
       "      <th></th>\n",
       "      <th>account number</th>\n",
       "      <th>full name</th>\n",
       "    </tr>\n",
       "  </thead>\n",
       "  <tbody>\n",
       "    <tr>\n",
       "      <td>0</td>\n",
       "      <td>373231</td>\n",
       "      <td>GUY SELLARS</td>\n",
       "    </tr>\n",
       "    <tr>\n",
       "      <td>1</td>\n",
       "      <td>203002</td>\n",
       "      <td>NELCY SANTANA</td>\n",
       "    </tr>\n",
       "    <tr>\n",
       "      <td>2</td>\n",
       "      <td>338012</td>\n",
       "      <td>GREGORY EDINGBURG</td>\n",
       "    </tr>\n",
       "  </tbody>\n",
       "</table>\n",
       "</div>"
      ],
      "text/plain": [
       "   account number          full name\n",
       "0          373231        GUY SELLARS\n",
       "1          203002      NELCY SANTANA\n",
       "2          338012  GREGORY EDINGBURG"
      ]
     },
     "execution_count": 101,
     "metadata": {},
     "output_type": "execute_result"
    }
   ],
   "source": [
    "owners.head(3)"
   ]
  },
  {
   "cell_type": "code",
   "execution_count": 102,
   "metadata": {},
   "outputs": [
    {
     "data": {
      "text/plain": [
       "167992"
      ]
     },
     "execution_count": 102,
     "metadata": {},
     "output_type": "execute_result"
    }
   ],
   "source": [
    "len(owners['account number'].unique())"
   ]
  },
  {
   "cell_type": "code",
   "execution_count": 103,
   "metadata": {},
   "outputs": [
    {
     "data": {
      "text/plain": [
       "192354"
      ]
     },
     "execution_count": 103,
     "metadata": {},
     "output_type": "execute_result"
    }
   ],
   "source": [
    "len(owners['full name'].unique())"
   ]
  },
  {
   "cell_type": "markdown",
   "metadata": {},
   "source": [
    "Here we can see that the number of accounts is not the same that the number of full names. For now, we will consider that a same account can be shared by several people (for example, it could be the case for partners owning a business together)."
   ]
  },
  {
   "cell_type": "code",
   "execution_count": 104,
   "metadata": {},
   "outputs": [],
   "source": [
    "owners = pd.DataFrame(owners.groupby('account number')['full name'].apply(list))"
   ]
  },
  {
   "cell_type": "code",
   "execution_count": 105,
   "metadata": {},
   "outputs": [
    {
     "data": {
      "text/html": [
       "<div>\n",
       "<style scoped>\n",
       "    .dataframe tbody tr th:only-of-type {\n",
       "        vertical-align: middle;\n",
       "    }\n",
       "\n",
       "    .dataframe tbody tr th {\n",
       "        vertical-align: top;\n",
       "    }\n",
       "\n",
       "    .dataframe thead th {\n",
       "        text-align: right;\n",
       "    }\n",
       "</style>\n",
       "<table border=\"1\" class=\"dataframe\">\n",
       "  <thead>\n",
       "    <tr style=\"text-align: right;\">\n",
       "      <th></th>\n",
       "      <th>full name</th>\n",
       "    </tr>\n",
       "    <tr>\n",
       "      <th>account number</th>\n",
       "      <th></th>\n",
       "    </tr>\n",
       "  </thead>\n",
       "  <tbody>\n",
       "    <tr>\n",
       "      <td>1</td>\n",
       "      <td>[PETER BERGHOFF, PETER BERGHOFF, HERMAN BERGHOFF]</td>\n",
       "    </tr>\n",
       "    <tr>\n",
       "      <td>2</td>\n",
       "      <td>[nan, HERMAN BERGHOFF, PETER BERGHOFF, nan, EI...</td>\n",
       "    </tr>\n",
       "    <tr>\n",
       "      <td>4</td>\n",
       "      <td>[LAWRENCE PRICE]</td>\n",
       "    </tr>\n",
       "  </tbody>\n",
       "</table>\n",
       "</div>"
      ],
      "text/plain": [
       "                                                        full name\n",
       "account number                                                   \n",
       "1               [PETER BERGHOFF, PETER BERGHOFF, HERMAN BERGHOFF]\n",
       "2               [nan, HERMAN BERGHOFF, PETER BERGHOFF, nan, EI...\n",
       "4                                                [LAWRENCE PRICE]"
      ]
     },
     "execution_count": 105,
     "metadata": {},
     "output_type": "execute_result"
    }
   ],
   "source": [
    "owners.head(3)"
   ]
  },
  {
   "cell_type": "markdown",
   "metadata": {},
   "source": [
    "We can observe that the lists of the `full name` column contain duplicates and 'nan' values. A function *clean_list* can be defined to clean them."
   ]
  },
  {
   "cell_type": "code",
   "execution_count": 106,
   "metadata": {},
   "outputs": [],
   "source": [
    "def clean_list(liste) :\n",
    "    cleaned = []\n",
    "    for element in liste :\n",
    "        if type(element) == str and element not in cleaned :\n",
    "            cleaned.append(element)\n",
    "    return cleaned"
   ]
  },
  {
   "cell_type": "code",
   "execution_count": 107,
   "metadata": {},
   "outputs": [],
   "source": [
    "owners['full name'] = owners['full name'].apply(clean_list)"
   ]
  },
  {
   "cell_type": "code",
   "execution_count": 108,
   "metadata": {},
   "outputs": [
    {
     "data": {
      "text/html": [
       "<div>\n",
       "<style scoped>\n",
       "    .dataframe tbody tr th:only-of-type {\n",
       "        vertical-align: middle;\n",
       "    }\n",
       "\n",
       "    .dataframe tbody tr th {\n",
       "        vertical-align: top;\n",
       "    }\n",
       "\n",
       "    .dataframe thead th {\n",
       "        text-align: right;\n",
       "    }\n",
       "</style>\n",
       "<table border=\"1\" class=\"dataframe\">\n",
       "  <thead>\n",
       "    <tr style=\"text-align: right;\">\n",
       "      <th></th>\n",
       "      <th>full name</th>\n",
       "    </tr>\n",
       "    <tr>\n",
       "      <th>account number</th>\n",
       "      <th></th>\n",
       "    </tr>\n",
       "  </thead>\n",
       "  <tbody>\n",
       "    <tr>\n",
       "      <td>1</td>\n",
       "      <td>[PETER BERGHOFF, HERMAN BERGHOFF]</td>\n",
       "    </tr>\n",
       "    <tr>\n",
       "      <td>2</td>\n",
       "      <td>[HERMAN BERGHOFF, PETER BERGHOFF, EILEEN GORMA...</td>\n",
       "    </tr>\n",
       "    <tr>\n",
       "      <td>4</td>\n",
       "      <td>[LAWRENCE PRICE]</td>\n",
       "    </tr>\n",
       "  </tbody>\n",
       "</table>\n",
       "</div>"
      ],
      "text/plain": [
       "                                                        full name\n",
       "account number                                                   \n",
       "1                               [PETER BERGHOFF, HERMAN BERGHOFF]\n",
       "2               [HERMAN BERGHOFF, PETER BERGHOFF, EILEEN GORMA...\n",
       "4                                                [LAWRENCE PRICE]"
      ]
     },
     "execution_count": 108,
     "metadata": {},
     "output_type": "execute_result"
    }
   ],
   "source": [
    "owners.head(3)"
   ]
  },
  {
   "cell_type": "markdown",
   "metadata": {},
   "source": [
    "### Business Licenses-Owners\n",
    "\n",
    "Setting both the indexes of the *licenses* and the *owners* dataframes we can now merge them together."
   ]
  },
  {
   "cell_type": "code",
   "execution_count": 109,
   "metadata": {},
   "outputs": [],
   "source": [
    "business = pd.merge(licenses, owners, right_index = True, left_index = True)"
   ]
  },
  {
   "cell_type": "code",
   "execution_count": 110,
   "metadata": {},
   "outputs": [
    {
     "data": {
      "text/html": [
       "<div>\n",
       "<style scoped>\n",
       "    .dataframe tbody tr th:only-of-type {\n",
       "        vertical-align: middle;\n",
       "    }\n",
       "\n",
       "    .dataframe tbody tr th {\n",
       "        vertical-align: top;\n",
       "    }\n",
       "\n",
       "    .dataframe thead th {\n",
       "        text-align: right;\n",
       "    }\n",
       "</style>\n",
       "<table border=\"1\" class=\"dataframe\">\n",
       "  <thead>\n",
       "    <tr style=\"text-align: right;\">\n",
       "      <th></th>\n",
       "      <th>license id</th>\n",
       "      <th>police district</th>\n",
       "      <th>full name</th>\n",
       "    </tr>\n",
       "    <tr>\n",
       "      <th>account number</th>\n",
       "      <th></th>\n",
       "      <th></th>\n",
       "      <th></th>\n",
       "    </tr>\n",
       "  </thead>\n",
       "  <tbody>\n",
       "    <tr>\n",
       "      <td>1</td>\n",
       "      <td>1480073</td>\n",
       "      <td>1.0</td>\n",
       "      <td>[PETER BERGHOFF, HERMAN BERGHOFF]</td>\n",
       "    </tr>\n",
       "    <tr>\n",
       "      <td>1</td>\n",
       "      <td>1278029</td>\n",
       "      <td>1.0</td>\n",
       "      <td>[PETER BERGHOFF, HERMAN BERGHOFF]</td>\n",
       "    </tr>\n",
       "    <tr>\n",
       "      <td>1</td>\n",
       "      <td>1337924</td>\n",
       "      <td>1.0</td>\n",
       "      <td>[PETER BERGHOFF, HERMAN BERGHOFF]</td>\n",
       "    </tr>\n",
       "  </tbody>\n",
       "</table>\n",
       "</div>"
      ],
      "text/plain": [
       "                license id  police district                          full name\n",
       "account number                                                                \n",
       "1                  1480073              1.0  [PETER BERGHOFF, HERMAN BERGHOFF]\n",
       "1                  1278029              1.0  [PETER BERGHOFF, HERMAN BERGHOFF]\n",
       "1                  1337924              1.0  [PETER BERGHOFF, HERMAN BERGHOFF]"
      ]
     },
     "execution_count": 110,
     "metadata": {},
     "output_type": "execute_result"
    }
   ],
   "source": [
    "business.head(3)"
   ]
  },
  {
   "cell_type": "code",
   "execution_count": 111,
   "metadata": {},
   "outputs": [],
   "source": [
    "business.reset_index(level=0, inplace=True)"
   ]
  },
  {
   "cell_type": "code",
   "execution_count": 112,
   "metadata": {},
   "outputs": [
    {
     "data": {
      "text/html": [
       "<div>\n",
       "<style scoped>\n",
       "    .dataframe tbody tr th:only-of-type {\n",
       "        vertical-align: middle;\n",
       "    }\n",
       "\n",
       "    .dataframe tbody tr th {\n",
       "        vertical-align: top;\n",
       "    }\n",
       "\n",
       "    .dataframe thead th {\n",
       "        text-align: right;\n",
       "    }\n",
       "</style>\n",
       "<table border=\"1\" class=\"dataframe\">\n",
       "  <thead>\n",
       "    <tr style=\"text-align: right;\">\n",
       "      <th></th>\n",
       "      <th>account number</th>\n",
       "      <th>license id</th>\n",
       "      <th>police district</th>\n",
       "      <th>full name</th>\n",
       "    </tr>\n",
       "  </thead>\n",
       "  <tbody>\n",
       "    <tr>\n",
       "      <td>0</td>\n",
       "      <td>1</td>\n",
       "      <td>1480073</td>\n",
       "      <td>1.0</td>\n",
       "      <td>[PETER BERGHOFF, HERMAN BERGHOFF]</td>\n",
       "    </tr>\n",
       "    <tr>\n",
       "      <td>1</td>\n",
       "      <td>1</td>\n",
       "      <td>1278029</td>\n",
       "      <td>1.0</td>\n",
       "      <td>[PETER BERGHOFF, HERMAN BERGHOFF]</td>\n",
       "    </tr>\n",
       "    <tr>\n",
       "      <td>2</td>\n",
       "      <td>1</td>\n",
       "      <td>1337924</td>\n",
       "      <td>1.0</td>\n",
       "      <td>[PETER BERGHOFF, HERMAN BERGHOFF]</td>\n",
       "    </tr>\n",
       "  </tbody>\n",
       "</table>\n",
       "</div>"
      ],
      "text/plain": [
       "   account number  license id  police district  \\\n",
       "0               1     1480073              1.0   \n",
       "1               1     1278029              1.0   \n",
       "2               1     1337924              1.0   \n",
       "\n",
       "                           full name  \n",
       "0  [PETER BERGHOFF, HERMAN BERGHOFF]  \n",
       "1  [PETER BERGHOFF, HERMAN BERGHOFF]  \n",
       "2  [PETER BERGHOFF, HERMAN BERGHOFF]  "
      ]
     },
     "execution_count": 112,
     "metadata": {},
     "output_type": "execute_result"
    }
   ],
   "source": [
    "business.head(3)"
   ]
  },
  {
   "cell_type": "markdown",
   "metadata": {},
   "source": [
    "### Second Main Dataframe\n",
    "\n",
    "Setting both the indexes of the *business* and the *eat_seat* dataframes we can now merge them together."
   ]
  },
  {
   "cell_type": "code",
   "execution_count": 113,
   "metadata": {},
   "outputs": [],
   "source": [
    "business = business.rename(columns= {'license id' : 'License'})\n",
    "business = business.set_index('License')\n",
    "\n",
    "eat_seat = eat_seat.set_index('License')"
   ]
  },
  {
   "cell_type": "code",
   "execution_count": 114,
   "metadata": {},
   "outputs": [],
   "source": [
    "eat_seat_2 = pd.merge(eat_seat, business, right_index = True, left_index = True)"
   ]
  },
  {
   "cell_type": "code",
   "execution_count": 115,
   "metadata": {},
   "outputs": [
    {
     "data": {
      "text/html": [
       "<div>\n",
       "<style scoped>\n",
       "    .dataframe tbody tr th:only-of-type {\n",
       "        vertical-align: middle;\n",
       "    }\n",
       "\n",
       "    .dataframe tbody tr th {\n",
       "        vertical-align: top;\n",
       "    }\n",
       "\n",
       "    .dataframe thead th {\n",
       "        text-align: right;\n",
       "    }\n",
       "</style>\n",
       "<table border=\"1\" class=\"dataframe\">\n",
       "  <thead>\n",
       "    <tr style=\"text-align: right;\">\n",
       "      <th></th>\n",
       "      <th>DBA Name</th>\n",
       "      <th>Facility Type</th>\n",
       "      <th>Risk</th>\n",
       "      <th>Address</th>\n",
       "      <th>Inspection Date</th>\n",
       "      <th>Inspection Type</th>\n",
       "      <th>Results</th>\n",
       "      <th>Violations</th>\n",
       "      <th>Latitude</th>\n",
       "      <th>Longitude</th>\n",
       "      <th>Location</th>\n",
       "      <th>FacilityGroup</th>\n",
       "      <th>Community Area</th>\n",
       "      <th>NumberViolations</th>\n",
       "      <th>InspectionScore</th>\n",
       "      <th>FacilityScore</th>\n",
       "      <th>account number</th>\n",
       "      <th>police district</th>\n",
       "      <th>full name</th>\n",
       "    </tr>\n",
       "    <tr>\n",
       "      <th>License</th>\n",
       "      <th></th>\n",
       "      <th></th>\n",
       "      <th></th>\n",
       "      <th></th>\n",
       "      <th></th>\n",
       "      <th></th>\n",
       "      <th></th>\n",
       "      <th></th>\n",
       "      <th></th>\n",
       "      <th></th>\n",
       "      <th></th>\n",
       "      <th></th>\n",
       "      <th></th>\n",
       "      <th></th>\n",
       "      <th></th>\n",
       "      <th></th>\n",
       "      <th></th>\n",
       "      <th></th>\n",
       "      <th></th>\n",
       "    </tr>\n",
       "  </thead>\n",
       "  <tbody>\n",
       "    <tr>\n",
       "      <td>1770.0</td>\n",
       "      <td>VALENTINO CLUB CAFE</td>\n",
       "      <td>Restaurant</td>\n",
       "      <td>3.0</td>\n",
       "      <td>7150 W GRAND AVE</td>\n",
       "      <td>2012-11-23</td>\n",
       "      <td>Complaint</td>\n",
       "      <td>1</td>\n",
       "      <td>35. WALLS, CEILINGS, ATTACHED EQUIPMENT CONSTR...</td>\n",
       "      <td>41.923853</td>\n",
       "      <td>-87.804535</td>\n",
       "      <td>{'latitude': '-87.80453463598877', 'longitude'...</td>\n",
       "      <td>restaurant</td>\n",
       "      <td>18</td>\n",
       "      <td>[35]</td>\n",
       "      <td>1</td>\n",
       "      <td>1.0</td>\n",
       "      <td>81</td>\n",
       "      <td>10.0</td>\n",
       "      <td>[RUDOLFO GUERRERO, JOSE GUERRERO]</td>\n",
       "    </tr>\n",
       "    <tr>\n",
       "      <td>7141.0</td>\n",
       "      <td>SOUTHWEST MONTESSORI PRE SCHOL</td>\n",
       "      <td>Daycare (2 - 6 Years)</td>\n",
       "      <td>3.0</td>\n",
       "      <td>8620  -08624 S RACINE AVE</td>\n",
       "      <td>2012-06-05</td>\n",
       "      <td>License</td>\n",
       "      <td>1</td>\n",
       "      <td>33. FOOD AND NON-FOOD CONTACT EQUIPMENT UTENSI...</td>\n",
       "      <td>41.737096</td>\n",
       "      <td>-87.653521</td>\n",
       "      <td>{'latitude': '-87.65352099268638', 'longitude'...</td>\n",
       "      <td>daycare</td>\n",
       "      <td>71</td>\n",
       "      <td>[35, 33]</td>\n",
       "      <td>2</td>\n",
       "      <td>3.0</td>\n",
       "      <td>282</td>\n",
       "      <td>20.0</td>\n",
       "      <td>[HECTOR RODRIGUEZ]</td>\n",
       "    </tr>\n",
       "    <tr>\n",
       "      <td>7141.0</td>\n",
       "      <td>SOUTHWEST MONTESSORI PRE SCHOL</td>\n",
       "      <td>Daycare (2 - 6 Years)</td>\n",
       "      <td>3.0</td>\n",
       "      <td>8620  -08624 S RACINE AVE</td>\n",
       "      <td>2011-06-17</td>\n",
       "      <td>Canvass</td>\n",
       "      <td>1</td>\n",
       "      <td>33. FOOD AND NON-FOOD CONTACT EQUIPMENT UTENSI...</td>\n",
       "      <td>41.737096</td>\n",
       "      <td>-87.653521</td>\n",
       "      <td>{'latitude': '-87.65352099268638', 'longitude'...</td>\n",
       "      <td>daycare</td>\n",
       "      <td>71</td>\n",
       "      <td>[34, 35, 41, 33]</td>\n",
       "      <td>4</td>\n",
       "      <td>3.0</td>\n",
       "      <td>282</td>\n",
       "      <td>20.0</td>\n",
       "      <td>[HECTOR RODRIGUEZ]</td>\n",
       "    </tr>\n",
       "  </tbody>\n",
       "</table>\n",
       "</div>"
      ],
      "text/plain": [
       "                               DBA Name          Facility Type  Risk  \\\n",
       "License                                                                \n",
       "1770.0              VALENTINO CLUB CAFE             Restaurant   3.0   \n",
       "7141.0   SOUTHWEST MONTESSORI PRE SCHOL  Daycare (2 - 6 Years)   3.0   \n",
       "7141.0   SOUTHWEST MONTESSORI PRE SCHOL  Daycare (2 - 6 Years)   3.0   \n",
       "\n",
       "                            Address Inspection Date Inspection Type  Results  \\\n",
       "License                                                                        \n",
       "1770.0            7150 W GRAND AVE       2012-11-23       Complaint        1   \n",
       "7141.0   8620  -08624 S RACINE AVE       2012-06-05         License        1   \n",
       "7141.0   8620  -08624 S RACINE AVE       2011-06-17         Canvass        1   \n",
       "\n",
       "                                                Violations   Latitude  \\\n",
       "License                                                                 \n",
       "1770.0   35. WALLS, CEILINGS, ATTACHED EQUIPMENT CONSTR...  41.923853   \n",
       "7141.0   33. FOOD AND NON-FOOD CONTACT EQUIPMENT UTENSI...  41.737096   \n",
       "7141.0   33. FOOD AND NON-FOOD CONTACT EQUIPMENT UTENSI...  41.737096   \n",
       "\n",
       "         Longitude                                           Location  \\\n",
       "License                                                                 \n",
       "1770.0  -87.804535  {'latitude': '-87.80453463598877', 'longitude'...   \n",
       "7141.0  -87.653521  {'latitude': '-87.65352099268638', 'longitude'...   \n",
       "7141.0  -87.653521  {'latitude': '-87.65352099268638', 'longitude'...   \n",
       "\n",
       "        FacilityGroup  Community Area  NumberViolations  InspectionScore  \\\n",
       "License                                                                    \n",
       "1770.0     restaurant              18              [35]                1   \n",
       "7141.0        daycare              71          [35, 33]                2   \n",
       "7141.0        daycare              71  [34, 35, 41, 33]                4   \n",
       "\n",
       "         FacilityScore  account number  police district  \\\n",
       "License                                                   \n",
       "1770.0             1.0              81             10.0   \n",
       "7141.0             3.0             282             20.0   \n",
       "7141.0             3.0             282             20.0   \n",
       "\n",
       "                                 full name  \n",
       "License                                     \n",
       "1770.0   [RUDOLFO GUERRERO, JOSE GUERRERO]  \n",
       "7141.0                  [HECTOR RODRIGUEZ]  \n",
       "7141.0                  [HECTOR RODRIGUEZ]  "
      ]
     },
     "execution_count": 115,
     "metadata": {},
     "output_type": "execute_result"
    }
   ],
   "source": [
    "eat_seat_2.head(3)"
   ]
  },
  {
   "cell_type": "code",
   "execution_count": 116,
   "metadata": {},
   "outputs": [],
   "source": [
    "eat_seat_2.to_csv('newfood.csv')"
   ]
  },
  {
   "cell_type": "markdown",
   "metadata": {},
   "source": [
    "## 4.2 Additional Dataset - CRIME "
   ]
  },
  {
   "cell_type": "markdown",
   "metadata": {},
   "source": [
    "### looking at the dataset and modify it"
   ]
  },
  {
   "cell_type": "code",
   "execution_count": 117,
   "metadata": {},
   "outputs": [
    {
     "name": "stderr",
     "output_type": "stream",
     "text": [
      "b'Skipping line 1513591: expected 23 fields, saw 24\\n'\n",
      "/Users/agathe.vukelic/anaconda3/lib/python3.7/site-packages/IPython/core/interactiveshell.py:3058: DtypeWarning: Columns (17,20) have mixed types. Specify dtype option on import or set low_memory=False.\n",
      "  interactivity=interactivity, compiler=compiler, result=result)\n"
     ]
    }
   ],
   "source": [
    "crime_2001_2004 = pd.read_csv('Chicago_Crimes_2001_to_2004.csv', error_bad_lines=False)"
   ]
  },
  {
   "cell_type": "code",
   "execution_count": 118,
   "metadata": {},
   "outputs": [
    {
     "name": "stderr",
     "output_type": "stream",
     "text": [
      "b'Skipping line 533719: expected 23 fields, saw 24\\n'\n"
     ]
    }
   ],
   "source": [
    "crime_2005_2007 = pd.read_csv('Chicago_Crimes_2005_to_2007.csv', error_bad_lines=False)"
   ]
  },
  {
   "cell_type": "code",
   "execution_count": 119,
   "metadata": {},
   "outputs": [
    {
     "name": "stderr",
     "output_type": "stream",
     "text": [
      "b'Skipping line 1149094: expected 23 fields, saw 41\\n'\n"
     ]
    }
   ],
   "source": [
    "crime_2008_2011 = pd.read_csv('Chicago_Crimes_2008_to_2011.csv', error_bad_lines=False)"
   ]
  },
  {
   "cell_type": "code",
   "execution_count": 120,
   "metadata": {},
   "outputs": [],
   "source": [
    "crime_2012_2017 = pd.read_csv('Chicago_Crimes_2012_to_2017.csv', error_bad_lines=False)"
   ]
  },
  {
   "cell_type": "code",
   "execution_count": 121,
   "metadata": {},
   "outputs": [
    {
     "data": {
      "text/html": [
       "<div>\n",
       "<style scoped>\n",
       "    .dataframe tbody tr th:only-of-type {\n",
       "        vertical-align: middle;\n",
       "    }\n",
       "\n",
       "    .dataframe tbody tr th {\n",
       "        vertical-align: top;\n",
       "    }\n",
       "\n",
       "    .dataframe thead th {\n",
       "        text-align: right;\n",
       "    }\n",
       "</style>\n",
       "<table border=\"1\" class=\"dataframe\">\n",
       "  <thead>\n",
       "    <tr style=\"text-align: right;\">\n",
       "      <th></th>\n",
       "      <th>Unnamed: 0</th>\n",
       "      <th>ID</th>\n",
       "      <th>Case Number</th>\n",
       "      <th>Date</th>\n",
       "      <th>Block</th>\n",
       "      <th>IUCR</th>\n",
       "      <th>Primary Type</th>\n",
       "      <th>Description</th>\n",
       "      <th>Location Description</th>\n",
       "      <th>Arrest</th>\n",
       "      <th>...</th>\n",
       "      <th>Ward</th>\n",
       "      <th>Community Area</th>\n",
       "      <th>FBI Code</th>\n",
       "      <th>X Coordinate</th>\n",
       "      <th>Y Coordinate</th>\n",
       "      <th>Year</th>\n",
       "      <th>Updated On</th>\n",
       "      <th>Latitude</th>\n",
       "      <th>Longitude</th>\n",
       "      <th>Location</th>\n",
       "    </tr>\n",
       "  </thead>\n",
       "  <tbody>\n",
       "    <tr>\n",
       "      <td>0</td>\n",
       "      <td>879</td>\n",
       "      <td>4786321</td>\n",
       "      <td>HM399414</td>\n",
       "      <td>01/01/2004 12:01:00 AM</td>\n",
       "      <td>082XX S COLES AVE</td>\n",
       "      <td>0840</td>\n",
       "      <td>THEFT</td>\n",
       "      <td>FINANCIAL ID THEFT: OVER $300</td>\n",
       "      <td>RESIDENCE</td>\n",
       "      <td>False</td>\n",
       "      <td>...</td>\n",
       "      <td>7.0</td>\n",
       "      <td>46.0</td>\n",
       "      <td>06</td>\n",
       "      <td>NaN</td>\n",
       "      <td>NaN</td>\n",
       "      <td>2004.0</td>\n",
       "      <td>08/17/2015 03:03:40 PM</td>\n",
       "      <td>NaN</td>\n",
       "      <td>NaN</td>\n",
       "      <td>NaN</td>\n",
       "    </tr>\n",
       "    <tr>\n",
       "      <td>1</td>\n",
       "      <td>2544</td>\n",
       "      <td>4676906</td>\n",
       "      <td>HM278933</td>\n",
       "      <td>03/01/2003 12:00:00 AM</td>\n",
       "      <td>004XX W 42ND PL</td>\n",
       "      <td>2825</td>\n",
       "      <td>OTHER OFFENSE</td>\n",
       "      <td>HARASSMENT BY TELEPHONE</td>\n",
       "      <td>RESIDENCE</td>\n",
       "      <td>False</td>\n",
       "      <td>...</td>\n",
       "      <td>11.0</td>\n",
       "      <td>61.0</td>\n",
       "      <td>26</td>\n",
       "      <td>1173974.0</td>\n",
       "      <td>1.87676e+06</td>\n",
       "      <td>2003.0</td>\n",
       "      <td>04/15/2016 08:55:02 AM</td>\n",
       "      <td>41.8172</td>\n",
       "      <td>-87.637328</td>\n",
       "      <td>(41.817229156, -87.637328162)</td>\n",
       "    </tr>\n",
       "    <tr>\n",
       "      <td>2</td>\n",
       "      <td>2919</td>\n",
       "      <td>4789749</td>\n",
       "      <td>HM402220</td>\n",
       "      <td>06/20/2004 11:00:00 AM</td>\n",
       "      <td>025XX N KIMBALL AVE</td>\n",
       "      <td>1752</td>\n",
       "      <td>OFFENSE INVOLVING CHILDREN</td>\n",
       "      <td>AGG CRIM SEX ABUSE FAM MEMBER</td>\n",
       "      <td>RESIDENCE</td>\n",
       "      <td>False</td>\n",
       "      <td>...</td>\n",
       "      <td>35.0</td>\n",
       "      <td>22.0</td>\n",
       "      <td>20</td>\n",
       "      <td>NaN</td>\n",
       "      <td>NaN</td>\n",
       "      <td>2004.0</td>\n",
       "      <td>08/17/2015 03:03:40 PM</td>\n",
       "      <td>NaN</td>\n",
       "      <td>NaN</td>\n",
       "      <td>NaN</td>\n",
       "    </tr>\n",
       "  </tbody>\n",
       "</table>\n",
       "<p>3 rows × 23 columns</p>\n",
       "</div>"
      ],
      "text/plain": [
       "   Unnamed: 0       ID Case Number                    Date  \\\n",
       "0         879  4786321    HM399414  01/01/2004 12:01:00 AM   \n",
       "1        2544  4676906    HM278933  03/01/2003 12:00:00 AM   \n",
       "2        2919  4789749    HM402220  06/20/2004 11:00:00 AM   \n",
       "\n",
       "                 Block  IUCR                Primary Type  \\\n",
       "0    082XX S COLES AVE  0840                       THEFT   \n",
       "1      004XX W 42ND PL  2825               OTHER OFFENSE   \n",
       "2  025XX N KIMBALL AVE  1752  OFFENSE INVOLVING CHILDREN   \n",
       "\n",
       "                     Description Location Description  Arrest  ...  Ward  \\\n",
       "0  FINANCIAL ID THEFT: OVER $300            RESIDENCE   False  ...   7.0   \n",
       "1        HARASSMENT BY TELEPHONE            RESIDENCE   False  ...  11.0   \n",
       "2  AGG CRIM SEX ABUSE FAM MEMBER            RESIDENCE   False  ...  35.0   \n",
       "\n",
       "   Community Area  FBI Code  X Coordinate  Y Coordinate    Year  \\\n",
       "0            46.0        06           NaN           NaN  2004.0   \n",
       "1            61.0        26     1173974.0   1.87676e+06  2003.0   \n",
       "2            22.0        20           NaN           NaN  2004.0   \n",
       "\n",
       "               Updated On Latitude  Longitude                       Location  \n",
       "0  08/17/2015 03:03:40 PM      NaN        NaN                            NaN  \n",
       "1  04/15/2016 08:55:02 AM  41.8172 -87.637328  (41.817229156, -87.637328162)  \n",
       "2  08/17/2015 03:03:40 PM      NaN        NaN                            NaN  \n",
       "\n",
       "[3 rows x 23 columns]"
      ]
     },
     "execution_count": 121,
     "metadata": {},
     "output_type": "execute_result"
    }
   ],
   "source": [
    "crime = crime_2001_2004.append(crime_2005_2007).append(crime_2008_2011).append(crime_2012_2017)\n",
    "\n",
    "crime.head(3)"
   ]
  },
  {
   "cell_type": "code",
   "execution_count": 122,
   "metadata": {},
   "outputs": [],
   "source": [
    "crime.to_csv('crime.csv')"
   ]
  },
  {
   "cell_type": "markdown",
   "metadata": {},
   "source": [
    "Load the data found on https://www.kaggle.com/currie32/crimes-in-chicago in pandas DataFrames and concatenate them. The *crime* dataframe is saved in a csv file.\n",
    "\n",
    "The datasets have several columns not interesting for us, there are dropped. In terms of location we decide to only keep the `Community Area` column in order to have a link with the *chicago food inspections* dataset. We also keep the longitude and latitude to maybe map the crimes for the visualization."
   ]
  },
  {
   "cell_type": "code",
   "execution_count": 123,
   "metadata": {},
   "outputs": [
    {
     "data": {
      "text/html": [
       "<div>\n",
       "<style scoped>\n",
       "    .dataframe tbody tr th:only-of-type {\n",
       "        vertical-align: middle;\n",
       "    }\n",
       "\n",
       "    .dataframe tbody tr th {\n",
       "        vertical-align: top;\n",
       "    }\n",
       "\n",
       "    .dataframe thead th {\n",
       "        text-align: right;\n",
       "    }\n",
       "</style>\n",
       "<table border=\"1\" class=\"dataframe\">\n",
       "  <thead>\n",
       "    <tr style=\"text-align: right;\">\n",
       "      <th></th>\n",
       "      <th>ID</th>\n",
       "      <th>Date</th>\n",
       "      <th>Block</th>\n",
       "      <th>Primary Type</th>\n",
       "      <th>Description</th>\n",
       "      <th>Beat</th>\n",
       "      <th>Community Area</th>\n",
       "      <th>Year</th>\n",
       "      <th>Latitude</th>\n",
       "      <th>Longitude</th>\n",
       "      <th>Location</th>\n",
       "    </tr>\n",
       "  </thead>\n",
       "  <tbody>\n",
       "    <tr>\n",
       "      <td>0</td>\n",
       "      <td>4786321</td>\n",
       "      <td>01/01/2004 12:01:00 AM</td>\n",
       "      <td>082XX S COLES AVE</td>\n",
       "      <td>THEFT</td>\n",
       "      <td>FINANCIAL ID THEFT: OVER $300</td>\n",
       "      <td>424</td>\n",
       "      <td>46.0</td>\n",
       "      <td>2004.0</td>\n",
       "      <td>NaN</td>\n",
       "      <td>NaN</td>\n",
       "      <td>NaN</td>\n",
       "    </tr>\n",
       "    <tr>\n",
       "      <td>1</td>\n",
       "      <td>4676906</td>\n",
       "      <td>03/01/2003 12:00:00 AM</td>\n",
       "      <td>004XX W 42ND PL</td>\n",
       "      <td>OTHER OFFENSE</td>\n",
       "      <td>HARASSMENT BY TELEPHONE</td>\n",
       "      <td>935</td>\n",
       "      <td>61.0</td>\n",
       "      <td>2003.0</td>\n",
       "      <td>41.8172</td>\n",
       "      <td>-87.637328</td>\n",
       "      <td>(41.817229156, -87.637328162)</td>\n",
       "    </tr>\n",
       "    <tr>\n",
       "      <td>2</td>\n",
       "      <td>4789749</td>\n",
       "      <td>06/20/2004 11:00:00 AM</td>\n",
       "      <td>025XX N KIMBALL AVE</td>\n",
       "      <td>OFFENSE INVOLVING CHILDREN</td>\n",
       "      <td>AGG CRIM SEX ABUSE FAM MEMBER</td>\n",
       "      <td>1413</td>\n",
       "      <td>22.0</td>\n",
       "      <td>2004.0</td>\n",
       "      <td>NaN</td>\n",
       "      <td>NaN</td>\n",
       "      <td>NaN</td>\n",
       "    </tr>\n",
       "  </tbody>\n",
       "</table>\n",
       "</div>"
      ],
      "text/plain": [
       "        ID                    Date                Block  \\\n",
       "0  4786321  01/01/2004 12:01:00 AM    082XX S COLES AVE   \n",
       "1  4676906  03/01/2003 12:00:00 AM      004XX W 42ND PL   \n",
       "2  4789749  06/20/2004 11:00:00 AM  025XX N KIMBALL AVE   \n",
       "\n",
       "                 Primary Type                    Description  Beat  \\\n",
       "0                       THEFT  FINANCIAL ID THEFT: OVER $300   424   \n",
       "1               OTHER OFFENSE        HARASSMENT BY TELEPHONE   935   \n",
       "2  OFFENSE INVOLVING CHILDREN  AGG CRIM SEX ABUSE FAM MEMBER  1413   \n",
       "\n",
       "   Community Area    Year Latitude  Longitude                       Location  \n",
       "0            46.0  2004.0      NaN        NaN                            NaN  \n",
       "1            61.0  2003.0  41.8172 -87.637328  (41.817229156, -87.637328162)  \n",
       "2            22.0  2004.0      NaN        NaN                            NaN  "
      ]
     },
     "execution_count": 123,
     "metadata": {},
     "output_type": "execute_result"
    }
   ],
   "source": [
    "crime = crime.drop(['District', 'Ward', 'Unnamed: 0','Case Number','IUCR','Arrest', 'Domestic','FBI Code','X Coordinate','Y Coordinate','Updated On', 'Location Description'], axis=1)\n",
    "crime.head(3)"
   ]
  },
  {
   "cell_type": "code",
   "execution_count": 124,
   "metadata": {},
   "outputs": [
    {
     "data": {
      "text/html": [
       "<div>\n",
       "<style scoped>\n",
       "    .dataframe tbody tr th:only-of-type {\n",
       "        vertical-align: middle;\n",
       "    }\n",
       "\n",
       "    .dataframe tbody tr th {\n",
       "        vertical-align: top;\n",
       "    }\n",
       "\n",
       "    .dataframe thead th {\n",
       "        text-align: right;\n",
       "    }\n",
       "</style>\n",
       "<table border=\"1\" class=\"dataframe\">\n",
       "  <thead>\n",
       "    <tr style=\"text-align: right;\">\n",
       "      <th></th>\n",
       "      <th>the_geom</th>\n",
       "      <th>PERIMETER</th>\n",
       "      <th>AREA</th>\n",
       "      <th>COMAREA_</th>\n",
       "      <th>COMAREA_ID</th>\n",
       "      <th>AREA_NUMBE</th>\n",
       "      <th>COMMUNITY</th>\n",
       "      <th>AREA_NUM_1</th>\n",
       "      <th>SHAPE_AREA</th>\n",
       "      <th>SHAPE_LEN</th>\n",
       "    </tr>\n",
       "  </thead>\n",
       "  <tbody>\n",
       "    <tr>\n",
       "      <td>0</td>\n",
       "      <td>MULTIPOLYGON (((-87.60914087617894 41.84469250...</td>\n",
       "      <td>0</td>\n",
       "      <td>0</td>\n",
       "      <td>0</td>\n",
       "      <td>0</td>\n",
       "      <td>35</td>\n",
       "      <td>DOUGLAS</td>\n",
       "      <td>35</td>\n",
       "      <td>4.600462e+07</td>\n",
       "      <td>31027.054510</td>\n",
       "    </tr>\n",
       "    <tr>\n",
       "      <td>1</td>\n",
       "      <td>MULTIPOLYGON (((-87.59215283879394 41.81692934...</td>\n",
       "      <td>0</td>\n",
       "      <td>0</td>\n",
       "      <td>0</td>\n",
       "      <td>0</td>\n",
       "      <td>36</td>\n",
       "      <td>OAKLAND</td>\n",
       "      <td>36</td>\n",
       "      <td>1.691396e+07</td>\n",
       "      <td>19565.506153</td>\n",
       "    </tr>\n",
       "    <tr>\n",
       "      <td>2</td>\n",
       "      <td>MULTIPOLYGON (((-87.62879823733725 41.80189303...</td>\n",
       "      <td>0</td>\n",
       "      <td>0</td>\n",
       "      <td>0</td>\n",
       "      <td>0</td>\n",
       "      <td>37</td>\n",
       "      <td>FULLER PARK</td>\n",
       "      <td>37</td>\n",
       "      <td>1.991670e+07</td>\n",
       "      <td>25339.089750</td>\n",
       "    </tr>\n",
       "  </tbody>\n",
       "</table>\n",
       "</div>"
      ],
      "text/plain": [
       "                                            the_geom  PERIMETER  AREA  \\\n",
       "0  MULTIPOLYGON (((-87.60914087617894 41.84469250...          0     0   \n",
       "1  MULTIPOLYGON (((-87.59215283879394 41.81692934...          0     0   \n",
       "2  MULTIPOLYGON (((-87.62879823733725 41.80189303...          0     0   \n",
       "\n",
       "   COMAREA_  COMAREA_ID  AREA_NUMBE    COMMUNITY  AREA_NUM_1    SHAPE_AREA  \\\n",
       "0         0           0          35      DOUGLAS          35  4.600462e+07   \n",
       "1         0           0          36      OAKLAND          36  1.691396e+07   \n",
       "2         0           0          37  FULLER PARK          37  1.991670e+07   \n",
       "\n",
       "      SHAPE_LEN  \n",
       "0  31027.054510  \n",
       "1  19565.506153  \n",
       "2  25339.089750  "
      ]
     },
     "execution_count": 124,
     "metadata": {},
     "output_type": "execute_result"
    }
   ],
   "source": [
    "commareas = pd.read_csv('CommAreas.csv', error_bad_lines=False)\n",
    "commareas.head(3)"
   ]
  },
  {
   "cell_type": "markdown",
   "metadata": {},
   "source": [
    "Importation of the new dataset containing the comm areas and their geographical polygon"
   ]
  },
  {
   "cell_type": "code",
   "execution_count": 125,
   "metadata": {},
   "outputs": [],
   "source": [
    "polygons = commareas['the_geom']\n",
    "comareanum = commareas['AREA_NUMBE']"
   ]
  },
  {
   "cell_type": "markdown",
   "metadata": {},
   "source": [
    "Creating 2 list, one containing the polygon, the other one the comm area number"
   ]
  },
  {
   "cell_type": "code",
   "execution_count": 126,
   "metadata": {},
   "outputs": [],
   "source": [
    "from shapely.geometry import Point\n",
    "from shapely.geometry.polygon import Polygon"
   ]
  },
  {
   "cell_type": "markdown",
   "metadata": {},
   "source": [
    "importing geometry from shapely"
   ]
  },
  {
   "cell_type": "code",
   "execution_count": 127,
   "metadata": {},
   "outputs": [],
   "source": [
    "def polyfunc(x) :\n",
    "    for p in x :\n",
    "        b = x.strip(' ').strip(')').strip('(').split(' ')\n",
    "        return (float(b[1]),float(b[0]))"
   ]
  },
  {
   "cell_type": "markdown",
   "metadata": {},
   "source": [
    "Function to help formatting the polygon --> it take the long and lat, split them and reunite them in a tupple "
   ]
  },
  {
   "cell_type": "code",
   "execution_count": 128,
   "metadata": {},
   "outputs": [],
   "source": [
    "d = {}\n",
    "c = 0\n",
    "for test in polygons :\n",
    "    test = test.strip('MULTIPOLYGON (((').strip(')))').split(',')\n",
    "    test = list(map(lambda x : polyfunc(x),test))\n",
    "    polygon = Polygon(test)\n",
    "    d[comareanum[c]] = polygon\n",
    "    c += 1"
   ]
  },
  {
   "cell_type": "markdown",
   "metadata": {},
   "source": [
    "loop that formate all the polygons, clear the useless infos, put them into a list of tupple and stock them in a dictionary : \n",
    "comm area number | polygon"
   ]
  },
  {
   "cell_type": "code",
   "execution_count": 129,
   "metadata": {},
   "outputs": [],
   "source": [
    "Loc = crime['Location']\n",
    "loc = []\n",
    "for x in Loc :\n",
    "    if type(x) == float :\n",
    "        pass\n",
    "    else :\n",
    "        x = x.strip('(').strip(')').split(',')\n",
    "        x = (float(x[0]),float(x[1]))\n",
    "    loc.append(x)"
   ]
  },
  {
   "cell_type": "markdown",
   "metadata": {},
   "source": [
    "Turn the element in the Location column from string to tupple of float --> lat and long"
   ]
  },
  {
   "cell_type": "code",
   "execution_count": 130,
   "metadata": {},
   "outputs": [],
   "source": [
    "ca = crime['Community Area']"
   ]
  },
  {
   "cell_type": "code",
   "execution_count": 131,
   "metadata": {},
   "outputs": [],
   "source": [
    "c = []\n",
    "count = 0\n",
    "for x in ca :\n",
    "    if pd.isna(x) :\n",
    "        if type(loc[count]) == tuple :\n",
    "            point = Point(loc[count])\n",
    "            con = 1\n",
    "            for y in d :\n",
    "                if d[y].contains(point) :\n",
    "                    c.append(float(y))\n",
    "                    break\n",
    "                else :\n",
    "                    con += 1\n",
    "                    if con > len(d) :\n",
    "                        c.append(0.0)\n",
    "                    else :\n",
    "                        pass\n",
    "        else :\n",
    "            c.append(0.0)\n",
    "    else :\n",
    "        c.append(x)\n",
    "        \n",
    "    count +=1"
   ]
  },
  {
   "cell_type": "markdown",
   "metadata": {},
   "source": [
    "Here the loop check if the comm area from each row is already given. \n",
    "\n",
    "If it is, it gives its value.\n",
    "\n",
    "If it's not, the loop calculates the comm area by checking if the location point is in a comm area polygon and gives the comm area number.\n",
    "\n",
    "If the comm area number, the number 0.0 is given so we can exclude this row"
   ]
  },
  {
   "cell_type": "code",
   "execution_count": 132,
   "metadata": {},
   "outputs": [
    {
     "name": "stdout",
     "output_type": "stream",
     "text": [
      "7941282\n",
      "13888\n"
     ]
    }
   ],
   "source": [
    "print(len(c))\n",
    "count = 0\n",
    "for x in c :\n",
    "    if x == 0.0 :\n",
    "        count += 1\n",
    "    else :\n",
    "        pass\n",
    "print(count)"
   ]
  },
  {
   "cell_type": "code",
   "execution_count": 133,
   "metadata": {},
   "outputs": [
    {
     "data": {
      "text/html": [
       "<div>\n",
       "<style scoped>\n",
       "    .dataframe tbody tr th:only-of-type {\n",
       "        vertical-align: middle;\n",
       "    }\n",
       "\n",
       "    .dataframe tbody tr th {\n",
       "        vertical-align: top;\n",
       "    }\n",
       "\n",
       "    .dataframe thead th {\n",
       "        text-align: right;\n",
       "    }\n",
       "</style>\n",
       "<table border=\"1\" class=\"dataframe\">\n",
       "  <thead>\n",
       "    <tr style=\"text-align: right;\">\n",
       "      <th></th>\n",
       "      <th>ID</th>\n",
       "      <th>Date</th>\n",
       "      <th>Block</th>\n",
       "      <th>Primary Type</th>\n",
       "      <th>Description</th>\n",
       "      <th>Beat</th>\n",
       "      <th>Community Area</th>\n",
       "      <th>Year</th>\n",
       "      <th>Latitude</th>\n",
       "      <th>Longitude</th>\n",
       "      <th>Location</th>\n",
       "      <th>Comm Area</th>\n",
       "    </tr>\n",
       "  </thead>\n",
       "  <tbody>\n",
       "    <tr>\n",
       "      <td>0</td>\n",
       "      <td>4786321</td>\n",
       "      <td>01/01/2004 12:01:00 AM</td>\n",
       "      <td>082XX S COLES AVE</td>\n",
       "      <td>THEFT</td>\n",
       "      <td>FINANCIAL ID THEFT: OVER $300</td>\n",
       "      <td>424</td>\n",
       "      <td>46.0</td>\n",
       "      <td>2004.0</td>\n",
       "      <td>NaN</td>\n",
       "      <td>NaN</td>\n",
       "      <td>NaN</td>\n",
       "      <td>46.0</td>\n",
       "    </tr>\n",
       "    <tr>\n",
       "      <td>1</td>\n",
       "      <td>4676906</td>\n",
       "      <td>03/01/2003 12:00:00 AM</td>\n",
       "      <td>004XX W 42ND PL</td>\n",
       "      <td>OTHER OFFENSE</td>\n",
       "      <td>HARASSMENT BY TELEPHONE</td>\n",
       "      <td>935</td>\n",
       "      <td>61.0</td>\n",
       "      <td>2003.0</td>\n",
       "      <td>41.8172</td>\n",
       "      <td>-87.637328</td>\n",
       "      <td>(41.817229156, -87.637328162)</td>\n",
       "      <td>61.0</td>\n",
       "    </tr>\n",
       "    <tr>\n",
       "      <td>2</td>\n",
       "      <td>4789749</td>\n",
       "      <td>06/20/2004 11:00:00 AM</td>\n",
       "      <td>025XX N KIMBALL AVE</td>\n",
       "      <td>OFFENSE INVOLVING CHILDREN</td>\n",
       "      <td>AGG CRIM SEX ABUSE FAM MEMBER</td>\n",
       "      <td>1413</td>\n",
       "      <td>22.0</td>\n",
       "      <td>2004.0</td>\n",
       "      <td>NaN</td>\n",
       "      <td>NaN</td>\n",
       "      <td>NaN</td>\n",
       "      <td>22.0</td>\n",
       "    </tr>\n",
       "  </tbody>\n",
       "</table>\n",
       "</div>"
      ],
      "text/plain": [
       "        ID                    Date                Block  \\\n",
       "0  4786321  01/01/2004 12:01:00 AM    082XX S COLES AVE   \n",
       "1  4676906  03/01/2003 12:00:00 AM      004XX W 42ND PL   \n",
       "2  4789749  06/20/2004 11:00:00 AM  025XX N KIMBALL AVE   \n",
       "\n",
       "                 Primary Type                    Description  Beat  \\\n",
       "0                       THEFT  FINANCIAL ID THEFT: OVER $300   424   \n",
       "1               OTHER OFFENSE        HARASSMENT BY TELEPHONE   935   \n",
       "2  OFFENSE INVOLVING CHILDREN  AGG CRIM SEX ABUSE FAM MEMBER  1413   \n",
       "\n",
       "   Community Area    Year Latitude  Longitude                       Location  \\\n",
       "0            46.0  2004.0      NaN        NaN                            NaN   \n",
       "1            61.0  2003.0  41.8172 -87.637328  (41.817229156, -87.637328162)   \n",
       "2            22.0  2004.0      NaN        NaN                            NaN   \n",
       "\n",
       "   Comm Area  \n",
       "0       46.0  \n",
       "1       61.0  \n",
       "2       22.0  "
      ]
     },
     "execution_count": 133,
     "metadata": {},
     "output_type": "execute_result"
    }
   ],
   "source": [
    "crime['Comm Area'] = c\n",
    "crime.head(3)"
   ]
  },
  {
   "cell_type": "code",
   "execution_count": 134,
   "metadata": {},
   "outputs": [
    {
     "name": "stdout",
     "output_type": "stream",
     "text": [
      "ID : False --> 0\n",
      "Date : False --> 0\n",
      "Block : False --> 0\n",
      "Primary Type : False --> 0\n",
      "Description : False --> 0\n",
      "Beat : False --> 0\n",
      "Community Area : True --> 702091\n",
      "Year : False --> 0\n",
      "Latitude : True --> 105573\n",
      "Longitude : True --> 105574\n",
      "Location : True --> 105574\n",
      "Comm Area : False --> 0\n"
     ]
    }
   ],
   "source": [
    "for x in crime.columns :\n",
    "    print(x + ' : ' + str(crime[x].isnull().values.any()) + ' --> ' + str(crime[x].isnull().sum()))"
   ]
  },
  {
   "cell_type": "markdown",
   "metadata": {},
   "source": [
    "Here we are looking at the missing values. Most of the missing data are part of the location's columns. The `Block` column contains anonymized addresses (\"XX\"). By replacing the XX by 00 we already can get an approximative position of where the crimes took place."
   ]
  },
  {
   "cell_type": "code",
   "execution_count": 135,
   "metadata": {},
   "outputs": [],
   "source": [
    "def block_approx(address) :\n",
    "    return address.replace('XX','00')"
   ]
  },
  {
   "cell_type": "code",
   "execution_count": 136,
   "metadata": {},
   "outputs": [],
   "source": [
    "crime.Block = crime.Block.apply(block_approx)"
   ]
  },
  {
   "cell_type": "code",
   "execution_count": 137,
   "metadata": {},
   "outputs": [
    {
     "name": "stdout",
     "output_type": "stream",
     "text": [
      "{'DECEPTIVE PRACTICE', 'LIQUOR LAW VIOLATION', 'CRIMINAL TRESPASS', 'OTHER OFFENSE', 'NARCOTICS', 'OTHER NARCOTIC VIOLATION', 'OBSCENITY', 'BATTERY', 'STALKING', 'HUMAN TRAFFICKING', 'OFFENSE INVOLVING CHILDREN', 'CRIM SEXUAL ASSAULT', 'ROBBERY', 'INTIMIDATION', 'DOMESTIC VIOLENCE', 'SEX OFFENSE', 'THEFT', 'HOMICIDE', 'KIDNAPPING', 'NON - CRIMINAL', 'NON-CRIMINAL (SUBJECT SPECIFIED)', 'GAMBLING', 'PROSTITUTION', 'PUBLIC PEACE VIOLATION', 'RITUALISM', 'ASSAULT', 'CRIMINAL DAMAGE', 'CONCEALED CARRY LICENSE VIOLATION', 'BURGLARY', 'ARSON', 'INTERFERENCE WITH PUBLIC OFFICER', 'WEAPONS VIOLATION', 'PUBLIC INDECENCY', 'MOTOR VEHICLE THEFT', 'NON-CRIMINAL'}\n"
     ]
    }
   ],
   "source": [
    "print(set(crime['Primary Type']))"
   ]
  },
  {
   "cell_type": "markdown",
   "metadata": {},
   "source": [
    "We print all the `Primary Type` of crimes in order to create a dictionary with every crime type keyed with their minimum sentence in terms of a year of imprisonment. -- More details below."
   ]
  },
  {
   "cell_type": "code",
   "execution_count": 138,
   "metadata": {},
   "outputs": [],
   "source": [
    "crime_penalty = {'PROSTITUTION' : 0.1, 'DOMESTIC VIOLENCE' : 0.1, 'MOTOR VEHICLE THEFT' : 3.0, 'ASSAULT' : 0.1, 'OFFENSE INVOLVING CHILDREN' : 0.1,\\\n",
    "                 'RITUALISM' : 0.1, 'BATTERY' : 0.1, 'NON-CRIMINAL (SUBJECT SPECIFIED)' : 0.1, 'CRIM SEXUAL ASSAULT' : 4.0, 'GAMBLING' : 0.1,\\\n",
    "                 'PUBLIC INDECENCY' : 0.1, 'OTHER OFFENSE' : 0.1, 'LIQUOR LAW VIOLATION' : 0.1, 'OTHER NARCOTIC VIOLATION' : 0.1, 'OBSCENITY' : 0.1,\\\n",
    "                 'NON-CRIMINAL' : 0.1, 'KIDNAPPING' : 3.0, 'HOMICIDE' : 20.0, 'NARCOTICS' : 0.1, 'ARSON' : 6.0, 'DECEPTIVE PRACTICE' : 0.1, 'ROBBERY' : 3.0,\\\n",
    "                 'BURGLARY' : 3.0, 'NON - CRIMINAL' : 0.1, 'INTIMIDATION' : 2.0, 'HUMAN TRAFFICKING' : 4.0, 'SEX OFFENSE' : 4.0, 'CRIMINAL TRESPASS' : 0.1,\\\n",
    "                 'CONCEALED CARRY LICENSE VIOLATION' : 2.0, 'CRIMINAL DAMAGE' : 1.0, 'INTERFERENCE WITH PUBLIC OFFICER' : 0.1, 'PUBLIC PEACE VIOLATION' : 0.1,\\\n",
    "                 'WEAPONS VIOLATION' : 0.1, 'THEFT' : 0.1, 'STALKING' : 0.1}"
   ]
  },
  {
   "cell_type": "markdown",
   "metadata": {},
   "source": [
    "To make the *crime_penalty* dictionary, we checked the minimum prison penalty (in years) for each crime types. For the crime where the penalty is less than 1 year, the value is fixed at 0.1 when no prison is needed, and the score in month (6 months = 0.5) if a minmum prison penalty is given in months.\n",
    "\n",
    "These values are taken from the **Illinois Penalty Code**."
   ]
  },
  {
   "cell_type": "code",
   "execution_count": 139,
   "metadata": {},
   "outputs": [],
   "source": [
    "Primary_Type = []\n",
    "for x in crime['Primary Type'] :\n",
    "    if x == 'NON-CRIMINAL (SUBJECT SPECIFIED)' or x == 'NON - CRIMINAL' :\n",
    "        Primary_Type.append('NON-CRIMINAL')\n",
    "    else :\n",
    "        Primary_Type.append(x)\n",
    "        \n",
    "crime['Primary_Type'] = Primary_Type"
   ]
  },
  {
   "cell_type": "markdown",
   "metadata": {},
   "source": [
    "Here we group all the NON-CRIMINAL values under one label (3 label before)"
   ]
  },
  {
   "cell_type": "code",
   "execution_count": 140,
   "metadata": {},
   "outputs": [],
   "source": [
    "crimescore = []\n",
    "for x in crime['Primary_Type'] :\n",
    "    crimescore.append(crime_penalty[x])\n",
    "crime['crimescore'] = crimescore"
   ]
  },
  {
   "cell_type": "markdown",
   "metadata": {},
   "source": [
    "Here we create a new column with the crimescore for each row associated with the correspondat Primary type crime."
   ]
  },
  {
   "cell_type": "code",
   "execution_count": 141,
   "metadata": {},
   "outputs": [
    {
     "data": {
      "text/html": [
       "<div>\n",
       "<style scoped>\n",
       "    .dataframe tbody tr th:only-of-type {\n",
       "        vertical-align: middle;\n",
       "    }\n",
       "\n",
       "    .dataframe tbody tr th {\n",
       "        vertical-align: top;\n",
       "    }\n",
       "\n",
       "    .dataframe thead th {\n",
       "        text-align: right;\n",
       "    }\n",
       "</style>\n",
       "<table border=\"1\" class=\"dataframe\">\n",
       "  <thead>\n",
       "    <tr style=\"text-align: right;\">\n",
       "      <th></th>\n",
       "      <th>ID</th>\n",
       "      <th>Date</th>\n",
       "      <th>Block</th>\n",
       "      <th>Primary Type</th>\n",
       "      <th>Description</th>\n",
       "      <th>Beat</th>\n",
       "      <th>Community Area</th>\n",
       "      <th>Year</th>\n",
       "      <th>Latitude</th>\n",
       "      <th>Longitude</th>\n",
       "      <th>Location</th>\n",
       "      <th>Comm Area</th>\n",
       "      <th>Primary_Type</th>\n",
       "      <th>crimescore</th>\n",
       "    </tr>\n",
       "  </thead>\n",
       "  <tbody>\n",
       "    <tr>\n",
       "      <td>0</td>\n",
       "      <td>4786321</td>\n",
       "      <td>01/01/2004 12:01:00 AM</td>\n",
       "      <td>08200 S COLES AVE</td>\n",
       "      <td>THEFT</td>\n",
       "      <td>FINANCIAL ID THEFT: OVER $300</td>\n",
       "      <td>424</td>\n",
       "      <td>46.0</td>\n",
       "      <td>2004.0</td>\n",
       "      <td>NaN</td>\n",
       "      <td>NaN</td>\n",
       "      <td>NaN</td>\n",
       "      <td>46.0</td>\n",
       "      <td>THEFT</td>\n",
       "      <td>0.1</td>\n",
       "    </tr>\n",
       "    <tr>\n",
       "      <td>1</td>\n",
       "      <td>4676906</td>\n",
       "      <td>03/01/2003 12:00:00 AM</td>\n",
       "      <td>00400 W 42ND PL</td>\n",
       "      <td>OTHER OFFENSE</td>\n",
       "      <td>HARASSMENT BY TELEPHONE</td>\n",
       "      <td>935</td>\n",
       "      <td>61.0</td>\n",
       "      <td>2003.0</td>\n",
       "      <td>41.8172</td>\n",
       "      <td>-87.637328</td>\n",
       "      <td>(41.817229156, -87.637328162)</td>\n",
       "      <td>61.0</td>\n",
       "      <td>OTHER OFFENSE</td>\n",
       "      <td>0.1</td>\n",
       "    </tr>\n",
       "    <tr>\n",
       "      <td>2</td>\n",
       "      <td>4789749</td>\n",
       "      <td>06/20/2004 11:00:00 AM</td>\n",
       "      <td>02500 N KIMBALL AVE</td>\n",
       "      <td>OFFENSE INVOLVING CHILDREN</td>\n",
       "      <td>AGG CRIM SEX ABUSE FAM MEMBER</td>\n",
       "      <td>1413</td>\n",
       "      <td>22.0</td>\n",
       "      <td>2004.0</td>\n",
       "      <td>NaN</td>\n",
       "      <td>NaN</td>\n",
       "      <td>NaN</td>\n",
       "      <td>22.0</td>\n",
       "      <td>OFFENSE INVOLVING CHILDREN</td>\n",
       "      <td>0.1</td>\n",
       "    </tr>\n",
       "  </tbody>\n",
       "</table>\n",
       "</div>"
      ],
      "text/plain": [
       "        ID                    Date                Block  \\\n",
       "0  4786321  01/01/2004 12:01:00 AM    08200 S COLES AVE   \n",
       "1  4676906  03/01/2003 12:00:00 AM      00400 W 42ND PL   \n",
       "2  4789749  06/20/2004 11:00:00 AM  02500 N KIMBALL AVE   \n",
       "\n",
       "                 Primary Type                    Description  Beat  \\\n",
       "0                       THEFT  FINANCIAL ID THEFT: OVER $300   424   \n",
       "1               OTHER OFFENSE        HARASSMENT BY TELEPHONE   935   \n",
       "2  OFFENSE INVOLVING CHILDREN  AGG CRIM SEX ABUSE FAM MEMBER  1413   \n",
       "\n",
       "   Community Area    Year Latitude  Longitude                       Location  \\\n",
       "0            46.0  2004.0      NaN        NaN                            NaN   \n",
       "1            61.0  2003.0  41.8172 -87.637328  (41.817229156, -87.637328162)   \n",
       "2            22.0  2004.0      NaN        NaN                            NaN   \n",
       "\n",
       "   Comm Area                Primary_Type  crimescore  \n",
       "0       46.0                       THEFT         0.1  \n",
       "1       61.0               OTHER OFFENSE         0.1  \n",
       "2       22.0  OFFENSE INVOLVING CHILDREN         0.1  "
      ]
     },
     "execution_count": 141,
     "metadata": {},
     "output_type": "execute_result"
    }
   ],
   "source": [
    "crime.head(3)"
   ]
  },
  {
   "cell_type": "code",
   "execution_count": 142,
   "metadata": {},
   "outputs": [
    {
     "data": {
      "text/html": [
       "<div>\n",
       "<style scoped>\n",
       "    .dataframe tbody tr th:only-of-type {\n",
       "        vertical-align: middle;\n",
       "    }\n",
       "\n",
       "    .dataframe tbody tr th {\n",
       "        vertical-align: top;\n",
       "    }\n",
       "\n",
       "    .dataframe thead th {\n",
       "        text-align: right;\n",
       "    }\n",
       "</style>\n",
       "<table border=\"1\" class=\"dataframe\">\n",
       "  <thead>\n",
       "    <tr style=\"text-align: right;\">\n",
       "      <th></th>\n",
       "      <th>Community Area</th>\n",
       "      <th>crimescore</th>\n",
       "    </tr>\n",
       "  </thead>\n",
       "  <tbody>\n",
       "    <tr>\n",
       "      <td>0</td>\n",
       "      <td>46.0</td>\n",
       "      <td>0.1</td>\n",
       "    </tr>\n",
       "    <tr>\n",
       "      <td>1</td>\n",
       "      <td>61.0</td>\n",
       "      <td>0.1</td>\n",
       "    </tr>\n",
       "    <tr>\n",
       "      <td>2</td>\n",
       "      <td>22.0</td>\n",
       "      <td>0.1</td>\n",
       "    </tr>\n",
       "  </tbody>\n",
       "</table>\n",
       "</div>"
      ],
      "text/plain": [
       "   Community Area  crimescore\n",
       "0            46.0         0.1\n",
       "1            61.0         0.1\n",
       "2            22.0         0.1"
      ]
     },
     "execution_count": 142,
     "metadata": {},
     "output_type": "execute_result"
    }
   ],
   "source": [
    "crimetest = pd.DataFrame()\n",
    "crimetest['Community Area'] = crime['Comm Area']\n",
    "crimetest['crimescore'] = crime['crimescore']\n",
    "\n",
    "crimetest.head(3)"
   ]
  },
  {
   "cell_type": "markdown",
   "metadata": {},
   "source": [
    "Here we select the community area and the crimescore area in order to calculate the crimescore for each community area."
   ]
  },
  {
   "cell_type": "code",
   "execution_count": 143,
   "metadata": {},
   "outputs": [
    {
     "data": {
      "text/html": [
       "<div>\n",
       "<style scoped>\n",
       "    .dataframe tbody tr th:only-of-type {\n",
       "        vertical-align: middle;\n",
       "    }\n",
       "\n",
       "    .dataframe tbody tr th {\n",
       "        vertical-align: top;\n",
       "    }\n",
       "\n",
       "    .dataframe thead th {\n",
       "        text-align: right;\n",
       "    }\n",
       "</style>\n",
       "<table border=\"1\" class=\"dataframe\">\n",
       "  <thead>\n",
       "    <tr style=\"text-align: right;\">\n",
       "      <th></th>\n",
       "      <th>crimescore</th>\n",
       "    </tr>\n",
       "    <tr>\n",
       "      <th>Community Area</th>\n",
       "      <th></th>\n",
       "    </tr>\n",
       "  </thead>\n",
       "  <tbody>\n",
       "    <tr>\n",
       "      <td>0.0</td>\n",
       "      <td>8639.5</td>\n",
       "    </tr>\n",
       "    <tr>\n",
       "      <td>1.0</td>\n",
       "      <td>77509.5</td>\n",
       "    </tr>\n",
       "    <tr>\n",
       "      <td>2.0</td>\n",
       "      <td>73921.5</td>\n",
       "    </tr>\n",
       "    <tr>\n",
       "      <td>3.0</td>\n",
       "      <td>65587.1</td>\n",
       "    </tr>\n",
       "    <tr>\n",
       "      <td>4.0</td>\n",
       "      <td>38597.7</td>\n",
       "    </tr>\n",
       "    <tr>\n",
       "      <td>...</td>\n",
       "      <td>...</td>\n",
       "    </tr>\n",
       "    <tr>\n",
       "      <td>73.0</td>\n",
       "      <td>70753.7</td>\n",
       "    </tr>\n",
       "    <tr>\n",
       "      <td>74.0</td>\n",
       "      <td>9946.5</td>\n",
       "    </tr>\n",
       "    <tr>\n",
       "      <td>75.0</td>\n",
       "      <td>44008.7</td>\n",
       "    </tr>\n",
       "    <tr>\n",
       "      <td>76.0</td>\n",
       "      <td>15144.1</td>\n",
       "    </tr>\n",
       "    <tr>\n",
       "      <td>77.0</td>\n",
       "      <td>50447.8</td>\n",
       "    </tr>\n",
       "  </tbody>\n",
       "</table>\n",
       "<p>78 rows × 1 columns</p>\n",
       "</div>"
      ],
      "text/plain": [
       "                crimescore\n",
       "Community Area            \n",
       "0.0                 8639.5\n",
       "1.0                77509.5\n",
       "2.0                73921.5\n",
       "3.0                65587.1\n",
       "4.0                38597.7\n",
       "...                    ...\n",
       "73.0               70753.7\n",
       "74.0                9946.5\n",
       "75.0               44008.7\n",
       "76.0               15144.1\n",
       "77.0               50447.8\n",
       "\n",
       "[78 rows x 1 columns]"
      ]
     },
     "execution_count": 143,
     "metadata": {},
     "output_type": "execute_result"
    }
   ],
   "source": [
    "crime_CA = crimetest.groupby('Community Area').sum()\n",
    "\n",
    "crime_CA"
   ]
  },
  {
   "cell_type": "markdown",
   "metadata": {},
   "source": [
    "Here we have the DataFrame interesting us : \n",
    "\n",
    "- Community area | Crimescore\n",
    "\n",
    "Using this DataFrame, we'll be able to see if there is a correlation between restaurant quality and crime in Chicago."
   ]
  },
  {
   "cell_type": "markdown",
   "metadata": {},
   "source": [
    "# Can the data bring us answer to our questions ?"
   ]
  },
  {
   "cell_type": "markdown",
   "metadata": {},
   "source": [
    "We think so, All the informations we need to make the different analysis are in the 3 datasets. For the healthiness of the restaurants and in the different community area, all the data are in the food inspections dataframe.\n",
    "\n",
    "For the analysis about the different owners of different facilities, all the informations needed were processed and are in the license dataset.\n",
    "\n",
    "And for the crime related analysis, the informations were processed and we have all we need in the crime dataset."
   ]
  },
  {
   "cell_type": "markdown",
   "metadata": {},
   "source": [
    "# What comes next ?"
   ]
  },
  {
   "cell_type": "markdown",
   "metadata": {},
   "source": [
    "We'll first start to get deeper into the analysis, and maybe come back to modify or arrange the data one last time according to our needs.\n",
    "\n",
    "When the analysis will be completed, we'll start to get to the visualization : What is the best way to present our results ? Is the map still a good visualization ? How to handle the map ?\n",
    "\n",
    "Then we'll finally report our results, and start preparing the presentation."
   ]
  },
  {
   "cell_type": "markdown",
   "metadata": {},
   "source": [
    "# Hypothesis ?"
   ]
  },
  {
   "cell_type": "markdown",
   "metadata": {},
   "source": [
    "Our first hypothesis is that the repartition of the unhealthy facilities are not randomly distributed, we think that these unhealthy facilities are concentrated in particular community areas.\n",
    "\n",
    "We think that the public facilities are usually healthier than private one. The hospital or public restaurants should have more restrictions that private one.\n",
    "\n",
    "We also make the hypothesis that owners having several facilities are usually more looking at the healthiness of their restaurants than the owner of only one restaurant.\n",
    "\n",
    "We finally make the hypothesis that the facilities placed in community areas with a lot of crimes are less inspected that other facilities. But when they're inspected, they may have a lower score than facilities placed in other places."
   ]
  },
  {
   "cell_type": "markdown",
   "metadata": {},
   "source": [
    "#### Assistants' comments :\n",
    "•\tmaybe instead of just copy-pasting a map from somewhere else try to incorporate it in your own style and plots\n",
    "\n",
    "•\tthe whole \"using a dict and then it's values\" works, but is far from an ideal choice. Try to find a pandas way. Data science in Python uses Pandas all the time, and thus is somewhat of the language you have to speak when you want to be a good data scientist.\n",
    "\n",
    "•\tw.r.t. Hypothesis: think again what dataset you have and what you have done with it. does having a dataset of food inspections give you a complete overview of where and if a restaurant exists? Justify this claim in your report/presentation.\n",
    "\n",
    "\n",
    "•\tin general:\n",
    "•\tgood work, but correct the above-mentioned points.\n",
    "•\tnice separation of work, quite easy to follow.\n",
    "•\tyou need to provide more structure\n",
    "•\ttry to define what you mean with healthiness sooner. I would assume you would use the type of food they serve, and not how many inspection violations they have. Definitions should be first thing you mention.\n",
    "•\tI would have liked to see more plots and visualisations, as they would also have helped you to see what you are doing. Don't start with visualisations at the end, data science is not a linear path, but more like a circle of iterations.\n"
   ]
  },
  {
   "cell_type": "code",
   "execution_count": null,
   "metadata": {},
   "outputs": [],
   "source": []
  },
  {
   "cell_type": "code",
   "execution_count": null,
   "metadata": {},
   "outputs": [],
   "source": []
  },
  {
   "cell_type": "code",
   "execution_count": null,
   "metadata": {},
   "outputs": [],
   "source": []
  },
  {
   "cell_type": "code",
   "execution_count": null,
   "metadata": {},
   "outputs": [],
   "source": []
  },
  {
   "cell_type": "code",
   "execution_count": null,
   "metadata": {},
   "outputs": [],
   "source": []
  },
  {
   "cell_type": "code",
   "execution_count": null,
   "metadata": {},
   "outputs": [],
   "source": []
  }
 ],
 "metadata": {
  "kernelspec": {
   "display_name": "Python 3",
   "language": "python",
   "name": "python3"
  },
  "language_info": {
   "codemirror_mode": {
    "name": "ipython",
    "version": 3
   },
   "file_extension": ".py",
   "mimetype": "text/x-python",
   "name": "python",
   "nbconvert_exporter": "python",
   "pygments_lexer": "ipython3",
   "version": "3.7.3"
  }
 },
 "nbformat": 4,
 "nbformat_minor": 4
}
