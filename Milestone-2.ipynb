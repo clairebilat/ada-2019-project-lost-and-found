{
 "cells": [
  {
   "cell_type": "markdown",
   "metadata": {},
   "source": [
    "# Where to eat in Chigago : an analysis of the inspections from the Chicago department of Public Health's Food Protection Programm\n",
    "\n",
    "## 1. Introduction\n",
    "\n",
    "The Chicago department of Public Health’s Food Protection Program provides a database which contains the information from inspection reports of restaurants and other food establishments in Chicago from 2010 to the present. It contains many informations about the establishments, like their type of facility (groceries’ stores, restaurants, coffee shop, …) and their locations. Many informations about the violations listed are also provided in the database, like the description of the findings that caused them and the reason that invoked the staff from the program to led an inspection.\n",
    "\n",
    "In our project we endeavor to visualize the healthiness of public food establishments according to their type of facility, their ward and the date of the inspection. An analysis of the violation’s types according to these three parameters will also be conducted. \n",
    "\n",
    "The principal questions we'll answer are : \n",
    "    - Which ward of Chicago are the most healthy and unhealthy ? \n",
    "    - Which type of facility tend to be less healthy ? \n",
    "    - Did the healthiness of the food in Chicago increase or decrease from 2010 until now ?\n",
    "\n",
    "New problematics could be asked during the analysis and would be added to these.\n",
    "\n",
    "The purpose of the project is to help the consumer to easily choose where to eat in Chicago and to provide them an interactive and intuitive way to browse the different places offered to them. Also, it could help the Chicago department of Public Health’s Food Protection Program to adapt their methods relying on the situation described by the findings of the analysis (for example, if a prevention program should be proposed for a specific area or type of facility)."
   ]
  },
  {
   "cell_type": "code",
   "execution_count": 1,
   "metadata": {},
   "outputs": [],
   "source": [
    "%matplotlib inline\n",
    "import pandas as pd\n",
    "import numpy as np\n",
    "import re\n",
    "from matplotlib.ticker import MaxNLocator\n",
    "import matplotlib.pyplot as plt\n",
    "import requests as req\n",
    "from bs4 import BeautifulSoup\n",
    "import seaborn as sns"
   ]
  },
  {
   "cell_type": "markdown",
   "metadata": {},
   "source": [
    "## 2. Preprocessing\n",
    "\n",
    "### 2.1 Facilities of interest Selection"
   ]
  },
  {
   "cell_type": "markdown",
   "metadata": {},
   "source": [
    "First a quick look at how is organized the dataset. "
   ]
  },
  {
   "cell_type": "code",
   "execution_count": 2,
   "metadata": {},
   "outputs": [
    {
     "data": {
      "text/html": [
       "<div>\n",
       "<style scoped>\n",
       "    .dataframe tbody tr th:only-of-type {\n",
       "        vertical-align: middle;\n",
       "    }\n",
       "\n",
       "    .dataframe tbody tr th {\n",
       "        vertical-align: top;\n",
       "    }\n",
       "\n",
       "    .dataframe thead th {\n",
       "        text-align: right;\n",
       "    }\n",
       "</style>\n",
       "<table border=\"1\" class=\"dataframe\">\n",
       "  <thead>\n",
       "    <tr style=\"text-align: right;\">\n",
       "      <th></th>\n",
       "      <th>Inspection ID</th>\n",
       "      <th>DBA Name</th>\n",
       "      <th>AKA Name</th>\n",
       "      <th>License #</th>\n",
       "      <th>Facility Type</th>\n",
       "      <th>Risk</th>\n",
       "      <th>Address</th>\n",
       "      <th>City</th>\n",
       "      <th>State</th>\n",
       "      <th>Zip</th>\n",
       "      <th>...</th>\n",
       "      <th>Results</th>\n",
       "      <th>Violations</th>\n",
       "      <th>Latitude</th>\n",
       "      <th>Longitude</th>\n",
       "      <th>Location</th>\n",
       "      <th>Historical Wards 2003-2015</th>\n",
       "      <th>Zip Codes</th>\n",
       "      <th>Community Areas</th>\n",
       "      <th>Census Tracts</th>\n",
       "      <th>Wards</th>\n",
       "    </tr>\n",
       "  </thead>\n",
       "  <tbody>\n",
       "    <tr>\n",
       "      <td>0</td>\n",
       "      <td>2320971</td>\n",
       "      <td>JUMPSTART EARLY LEARNING ACADEMY</td>\n",
       "      <td>JUMPSTART EARLY LEARNING ACADEMY</td>\n",
       "      <td>2589822.0</td>\n",
       "      <td>Children's Services Facility</td>\n",
       "      <td>Risk 1 (High)</td>\n",
       "      <td>7559 W ADDISON ST</td>\n",
       "      <td>CHICAGO</td>\n",
       "      <td>IL</td>\n",
       "      <td>60634.0</td>\n",
       "      <td>...</td>\n",
       "      <td>Pass w/ Conditions</td>\n",
       "      <td>5. PROCEDURES FOR RESPONDING TO VOMITING AND D...</td>\n",
       "      <td>41.945065</td>\n",
       "      <td>-87.816734</td>\n",
       "      <td>{'longitude': '41.945064857019986', 'latitude'...</td>\n",
       "      <td>NaN</td>\n",
       "      <td>NaN</td>\n",
       "      <td>NaN</td>\n",
       "      <td>NaN</td>\n",
       "      <td>NaN</td>\n",
       "    </tr>\n",
       "    <tr>\n",
       "      <td>1</td>\n",
       "      <td>2320918</td>\n",
       "      <td>BEEFSTEAK</td>\n",
       "      <td>BEEFSTEAK</td>\n",
       "      <td>2698445.0</td>\n",
       "      <td>Restaurant</td>\n",
       "      <td>Risk 1 (High)</td>\n",
       "      <td>303 E SUPERIOR ST</td>\n",
       "      <td>CHICAGO</td>\n",
       "      <td>IL</td>\n",
       "      <td>60611.0</td>\n",
       "      <td>...</td>\n",
       "      <td>Pass</td>\n",
       "      <td>39. CONTAMINATION PREVENTED DURING FOOD PREPAR...</td>\n",
       "      <td>41.895692</td>\n",
       "      <td>-87.620143</td>\n",
       "      <td>{'longitude': '41.895692401410514', 'latitude'...</td>\n",
       "      <td>NaN</td>\n",
       "      <td>NaN</td>\n",
       "      <td>NaN</td>\n",
       "      <td>NaN</td>\n",
       "      <td>NaN</td>\n",
       "    </tr>\n",
       "    <tr>\n",
       "      <td>2</td>\n",
       "      <td>2320986</td>\n",
       "      <td>BABA'S COFFEE</td>\n",
       "      <td>BABA'S COFFEE</td>\n",
       "      <td>2423353.0</td>\n",
       "      <td>Restaurant</td>\n",
       "      <td>Risk 1 (High)</td>\n",
       "      <td>5544-5546 N KEDZIE AVE</td>\n",
       "      <td>CHICAGO</td>\n",
       "      <td>IL</td>\n",
       "      <td>60625.0</td>\n",
       "      <td>...</td>\n",
       "      <td>No Entry</td>\n",
       "      <td>NaN</td>\n",
       "      <td>41.982582</td>\n",
       "      <td>-87.708996</td>\n",
       "      <td>{'longitude': '41.98258181784537', 'latitude':...</td>\n",
       "      <td>NaN</td>\n",
       "      <td>NaN</td>\n",
       "      <td>NaN</td>\n",
       "      <td>NaN</td>\n",
       "      <td>NaN</td>\n",
       "    </tr>\n",
       "  </tbody>\n",
       "</table>\n",
       "<p>3 rows × 22 columns</p>\n",
       "</div>"
      ],
      "text/plain": [
       "   Inspection ID                          DBA Name  \\\n",
       "0        2320971  JUMPSTART EARLY LEARNING ACADEMY   \n",
       "1        2320918                         BEEFSTEAK   \n",
       "2        2320986                     BABA'S COFFEE   \n",
       "\n",
       "                           AKA Name  License #                 Facility Type  \\\n",
       "0  JUMPSTART EARLY LEARNING ACADEMY  2589822.0  Children's Services Facility   \n",
       "1                         BEEFSTEAK  2698445.0                    Restaurant   \n",
       "2                     BABA'S COFFEE  2423353.0                    Restaurant   \n",
       "\n",
       "            Risk                  Address     City State      Zip  ...  \\\n",
       "0  Risk 1 (High)       7559 W ADDISON ST   CHICAGO    IL  60634.0  ...   \n",
       "1  Risk 1 (High)       303 E SUPERIOR ST   CHICAGO    IL  60611.0  ...   \n",
       "2  Risk 1 (High)  5544-5546 N KEDZIE AVE   CHICAGO    IL  60625.0  ...   \n",
       "\n",
       "              Results                                         Violations  \\\n",
       "0  Pass w/ Conditions  5. PROCEDURES FOR RESPONDING TO VOMITING AND D...   \n",
       "1                Pass  39. CONTAMINATION PREVENTED DURING FOOD PREPAR...   \n",
       "2            No Entry                                                NaN   \n",
       "\n",
       "    Latitude  Longitude                                           Location  \\\n",
       "0  41.945065 -87.816734  {'longitude': '41.945064857019986', 'latitude'...   \n",
       "1  41.895692 -87.620143  {'longitude': '41.895692401410514', 'latitude'...   \n",
       "2  41.982582 -87.708996  {'longitude': '41.98258181784537', 'latitude':...   \n",
       "\n",
       "   Historical Wards 2003-2015 Zip Codes  Community Areas  Census Tracts  Wards  \n",
       "0                         NaN       NaN              NaN            NaN    NaN  \n",
       "1                         NaN       NaN              NaN            NaN    NaN  \n",
       "2                         NaN       NaN              NaN            NaN    NaN  \n",
       "\n",
       "[3 rows x 22 columns]"
      ]
     },
     "execution_count": 2,
     "metadata": {},
     "output_type": "execute_result"
    }
   ],
   "source": [
    "df = pd.read_csv('food-inspections.csv',sep=',') #creation of the dataframe\n",
    "df.head(3)"
   ]
  },
  {
   "cell_type": "code",
   "execution_count": 3,
   "metadata": {},
   "outputs": [
    {
     "name": "stdout",
     "output_type": "stream",
     "text": [
      "<class 'pandas.core.frame.DataFrame'>\n",
      "RangeIndex: 195312 entries, 0 to 195311\n",
      "Data columns (total 22 columns):\n",
      "Inspection ID                 195312 non-null int64\n",
      "DBA Name                      195312 non-null object\n",
      "AKA Name                      192862 non-null object\n",
      "License #                     195295 non-null float64\n",
      "Facility Type                 190535 non-null object\n",
      "Risk                          195239 non-null object\n",
      "Address                       195312 non-null object\n",
      "City                          195173 non-null object\n",
      "State                         195270 non-null object\n",
      "Zip                           195261 non-null float64\n",
      "Inspection Date               195312 non-null object\n",
      "Inspection Type               195311 non-null object\n",
      "Results                       195312 non-null object\n",
      "Violations                    143530 non-null object\n",
      "Latitude                      194627 non-null float64\n",
      "Longitude                     194627 non-null float64\n",
      "Location                      194627 non-null object\n",
      "Historical Wards 2003-2015    0 non-null float64\n",
      "Zip Codes                     0 non-null float64\n",
      "Community Areas               0 non-null float64\n",
      "Census Tracts                 0 non-null float64\n",
      "Wards                         0 non-null float64\n",
      "dtypes: float64(9), int64(1), object(12)\n",
      "memory usage: 32.8+ MB\n"
     ]
    }
   ],
   "source": [
    "df.info()"
   ]
  },
  {
   "cell_type": "markdown",
   "metadata": {},
   "source": [
    "It is a dataset of 195'312 entries with 22 columns listed above.\n",
    "First thing first, we want to put the different facility types in categories that make sense for our project."
   ]
  },
  {
   "cell_type": "code",
   "execution_count": 4,
   "metadata": {},
   "outputs": [],
   "source": [
    "#df['Facility Type'].unique()"
   ]
  },
  {
   "cell_type": "markdown",
   "metadata": {},
   "source": [
    "This command returns a list which contains the different facility types found in the `Facility Type column`. A lot of different types of facility are found in the data.\n",
    "\n",
    "First, we thought about only select the \"private\" establishments, where it is possible to eat a main course (for example, the places where you can only eat an ice cream are deleted of our list). They all are categorized in order to be compared with each other.\n"
   ]
  },
  {
   "cell_type": "code",
   "execution_count": 5,
   "metadata": {},
   "outputs": [],
   "source": [
    "public_dic = {'restaurant' : ['Restaurant', 'DINING HALL', 'TENT RSTAURANT'], \\\n",
    "              'grocery_restaurant' : ['Grocery & Restaurant', 'GROCERY& RESTAURANT', 'GROCERY/RESTAURANT',\\\n",
    "                                    'GROCERY/ RESTAURANT', 'GROCERY STORE/ RESTAURANT', 'GROCERY & RESTAURANT',\\\n",
    "                                    'RESTAURANT/GROCERY', 'grocery & restaurant', 'RESTAURANT/GROCERY STORE',\\\n",
    "                                    'GROCERY/TAQUERIA', 'GAS STATION/RESTAURANT'],\\\n",
    "              'banquet' : ['LOUNGE/BANQUET HALL', 'BANQUET', 'Banquet Hall', 'BANQUET FACILITY', 'banquet hall',\\\n",
    "                         'banquets', 'Banquet Dining',  'Banquet/kitchen','RESTAURANT.BANQUET HALLS',\\\n",
    "                         'BANQUET HALL', 'Banquet', 'BOWLING LANES/BANQUETS'], \\\n",
    "              'rooftop_restaurant' : ['Wrigley Roof Top', 'REST/ROOFTOP'],\\\n",
    "              'bar_restaurant' : ['RESTAURANT/BAR', 'RESTUARANT AND BAR', 'BAR/GRILL', 'RESTAURANT/BAR/THEATER',\\\n",
    "                                'JUICE AND SALAD BAR', 'SUSHI COUNTER', 'TAVERN/RESTAURANT', 'tavern/restaurant',\\\n",
    "                                'TAVERN GRILL'], \\\n",
    "              'bakery_restaurant' : ['BAKERY/ RESTAURANT', 'bakery/restaurant', 'RESTAURANT/BAKERY'], \\\n",
    "              'liquor_restaurant' : ['RESTAURANT AND LIQUOR', 'RESTAURANT/LIQUOR'], \\\n",
    "              'catering' : ['CATERING/CAFE', 'Catering'], \\\n",
    "              'golden_diner' : ['Golden Diner']}"
   ]
  },
  {
   "cell_type": "code",
   "execution_count": 6,
   "metadata": {},
   "outputs": [
    {
     "data": {
      "text/plain": [
       "64"
      ]
     },
     "execution_count": 6,
     "metadata": {},
     "output_type": "execute_result"
    }
   ],
   "source": [
    "facilitytype = 'BANQUET'\n",
    "len(df[df['Facility Type'] == facilitytype])"
   ]
  },
  {
   "cell_type": "markdown",
   "metadata": {},
   "source": [
    "This command returns the number of occurencs of the `Facility Type` inputed. \n",
    "\n",
    "With trying different types previously categorized and listed in the `public_dic` dictionary we have noted that the results were too distant to conduct a meaningful analysis. That's why we then decided to also select \"public\" establishments like school cafeterias and hospitals. It could be interesting to compare private and public inspection results.\n"
   ]
  },
  {
   "cell_type": "code",
   "execution_count": 7,
   "metadata": {},
   "outputs": [],
   "source": [
    "private_dic = {'daycare' : ['Daycare Above and Under 2 Years', 'Daycare (2 - 6 Years)', 'Daycare Combo 1586',\\\n",
    "                          'Daycare (Under 2 Years)', 'DAYCARE 2 YRS TO 12 YRS', 'Daycare Night', 'DAY CARE 2-14',\\\n",
    "                          'Daycare (2 Years)', 'DAYCARE', 'ADULT DAYCARE', '15 monts to 5 years old', 'youth housing',\\\n",
    "                          'DAYCARE 1586', 'DAYCARE COMBO', '1584-DAY CARE ABOVE 2 YEARS', 'CHURCH/DAY CARE', 'DAY CARE',\\\n",
    "                          'DAYCARE 6 WKS-5YRS', 'DAY CARE 1023', 'DAYCARE 2-6, UNDER 6', 'Day Care Combo (1586)'], \\\n",
    "               'school' : ['SCHOOL', 'School', 'PRIVATE SCHOOL', 'AFTER SCHOOL PROGRAM', 'COLLEGE',\\\n",
    "                         'BEFORE AND AFTER SCHOOL PROGRAM', 'Private School', 'TEACHING SCHOOL',\\\n",
    "                         'PUBLIC SHCOOL', 'CHARTER SCHOOL CAFETERIA', 'CAFETERIA', 'Cafeteria', 'cafeteria',\\\n",
    "                         'UNIVERSITY CAFETERIA', 'PREP INSIDE SCHOOL', 'CHARTER SCHOOL', 'school cafeteria',\\\n",
    "                         'CHARTER SCHOOL/CAFETERIA', 'School Cafeteria', 'ALTERNATIVE SCHOOL', 'CITY OF CHICAGO COLLEGE',\\\n",
    "                         'after school program', 'CHURCH/AFTER SCHOOL PROGRAM', 'AFTER SCHOOL CARE'], \\\n",
    "               'childrens_services' : [\"Children's Services Facility\", 'CHILDRENS SERVICES FACILITY', \\\n",
    "                                     \"CHILDERN'S SERVICE FACILITY\", \"1023 CHILDREN'S SERVICES FACILITY\", \\\n",
    "                                     \"1023 CHILDERN'S SERVICES FACILITY\", \"1023-CHILDREN'S SERVICES FACILITY\", \\\n",
    "                                     \"1023 CHILDERN'S SERVICE FACILITY\", \"1023 CHILDERN'S SERVICE S FACILITY\", \\\n",
    "                                     'CHILDERN ACTIVITY FACILITY', \"CHILDERN'S SERVICES  FACILITY\", '1023'], \\\n",
    "               'adultcare' : ['Long Term Care', 'REHAB CENTER', 'Hospital', 'ASSISTED LIVING', 'SENIOR DAY CARE',\\\n",
    "                            'Assisted Living', 'NURSING HOME', 'ASSISTED LIVING FACILITY', 'SUPPORTIVE LIVING FACILITY',\\\n",
    "                            'Assisted Living Senior Care', 'Adult Family Care Center', '1005 NURSING HOME', \\\n",
    "                            'Long-Term Care Facility', 'LONG TERM CARE FACILITY', 'ASSISSTED LIVING',\\\n",
    "                            'Long-Term Care','Long Term Care Facility', 'VFW HALL']}"
   ]
  },
  {
   "cell_type": "code",
   "execution_count": 8,
   "metadata": {},
   "outputs": [],
   "source": [
    "total_dic = {**public_dic , **private_dic}"
   ]
  },
  {
   "cell_type": "code",
   "execution_count": 9,
   "metadata": {},
   "outputs": [],
   "source": [
    "def newcolfromdict(dataf, dic, inputcolumn, outputcolumn) :\n",
    "    new_list = []\n",
    "    for content in dataf[inputcolumn] :\n",
    "        new_content = 'Not listed'\n",
    "\n",
    "        for k, v in dic.items() :\n",
    "            if type(v) == list :\n",
    "                for element in v :\n",
    "                    if content == element :\n",
    "                        new_content = k\n",
    "            else :\n",
    "                if content == v :\n",
    "                    new_content = k\n",
    "\n",
    "        new_list.append(new_content)\n",
    "    dataf[outputcolumn] = new_list\n",
    "    return dataf"
   ]
  },
  {
   "cell_type": "markdown",
   "metadata": {},
   "source": [
    "The **newcolfromdict** function constructs a new column `outputcolum` from the inputed column `inputcolum` comparing its values to the `dic` dictionary and adds it to the `dataf` dataframe."
   ]
  },
  {
   "cell_type": "markdown",
   "metadata": {},
   "source": [
    "### 2.2 Columns Cleaning"
   ]
  },
  {
   "cell_type": "markdown",
   "metadata": {},
   "source": [
    "### A) City Selection"
   ]
  },
  {
   "cell_type": "markdown",
   "metadata": {},
   "source": [
    "To construct the new dataframe, the `Facility Type` column is dropped because it has been replaced by the column `Facility group` and the *Not Listed* establishments are not selected.\n",
    "\n",
    "The duplicates are dropped."
   ]
  },
  {
   "cell_type": "code",
   "execution_count": 10,
   "metadata": {},
   "outputs": [
    {
     "data": {
      "text/html": [
       "<div>\n",
       "<style scoped>\n",
       "    .dataframe tbody tr th:only-of-type {\n",
       "        vertical-align: middle;\n",
       "    }\n",
       "\n",
       "    .dataframe tbody tr th {\n",
       "        vertical-align: top;\n",
       "    }\n",
       "\n",
       "    .dataframe thead th {\n",
       "        text-align: right;\n",
       "    }\n",
       "</style>\n",
       "<table border=\"1\" class=\"dataframe\">\n",
       "  <thead>\n",
       "    <tr style=\"text-align: right;\">\n",
       "      <th></th>\n",
       "      <th>Inspection ID</th>\n",
       "      <th>DBA Name</th>\n",
       "      <th>AKA Name</th>\n",
       "      <th>License #</th>\n",
       "      <th>Risk</th>\n",
       "      <th>Address</th>\n",
       "      <th>City</th>\n",
       "      <th>State</th>\n",
       "      <th>Zip</th>\n",
       "      <th>Inspection Date</th>\n",
       "      <th>...</th>\n",
       "      <th>Violations</th>\n",
       "      <th>Latitude</th>\n",
       "      <th>Longitude</th>\n",
       "      <th>Location</th>\n",
       "      <th>Historical Wards 2003-2015</th>\n",
       "      <th>Zip Codes</th>\n",
       "      <th>Community Areas</th>\n",
       "      <th>Census Tracts</th>\n",
       "      <th>Wards</th>\n",
       "      <th>Facility Group</th>\n",
       "    </tr>\n",
       "  </thead>\n",
       "  <tbody>\n",
       "    <tr>\n",
       "      <td>0</td>\n",
       "      <td>2320971</td>\n",
       "      <td>JUMPSTART EARLY LEARNING ACADEMY</td>\n",
       "      <td>JUMPSTART EARLY LEARNING ACADEMY</td>\n",
       "      <td>2589822.0</td>\n",
       "      <td>Risk 1 (High)</td>\n",
       "      <td>7559 W ADDISON ST</td>\n",
       "      <td>CHICAGO</td>\n",
       "      <td>IL</td>\n",
       "      <td>60634.0</td>\n",
       "      <td>2019-11-01T00:00:00.000</td>\n",
       "      <td>...</td>\n",
       "      <td>5. PROCEDURES FOR RESPONDING TO VOMITING AND D...</td>\n",
       "      <td>41.945065</td>\n",
       "      <td>-87.816734</td>\n",
       "      <td>{'longitude': '41.945064857019986', 'latitude'...</td>\n",
       "      <td>NaN</td>\n",
       "      <td>NaN</td>\n",
       "      <td>NaN</td>\n",
       "      <td>NaN</td>\n",
       "      <td>NaN</td>\n",
       "      <td>childrens_services</td>\n",
       "    </tr>\n",
       "    <tr>\n",
       "      <td>1</td>\n",
       "      <td>2320918</td>\n",
       "      <td>BEEFSTEAK</td>\n",
       "      <td>BEEFSTEAK</td>\n",
       "      <td>2698445.0</td>\n",
       "      <td>Risk 1 (High)</td>\n",
       "      <td>303 E SUPERIOR ST</td>\n",
       "      <td>CHICAGO</td>\n",
       "      <td>IL</td>\n",
       "      <td>60611.0</td>\n",
       "      <td>2019-11-01T00:00:00.000</td>\n",
       "      <td>...</td>\n",
       "      <td>39. CONTAMINATION PREVENTED DURING FOOD PREPAR...</td>\n",
       "      <td>41.895692</td>\n",
       "      <td>-87.620143</td>\n",
       "      <td>{'longitude': '41.895692401410514', 'latitude'...</td>\n",
       "      <td>NaN</td>\n",
       "      <td>NaN</td>\n",
       "      <td>NaN</td>\n",
       "      <td>NaN</td>\n",
       "      <td>NaN</td>\n",
       "      <td>restaurant</td>\n",
       "    </tr>\n",
       "  </tbody>\n",
       "</table>\n",
       "<p>2 rows × 22 columns</p>\n",
       "</div>"
      ],
      "text/plain": [
       "   Inspection ID                          DBA Name  \\\n",
       "0        2320971  JUMPSTART EARLY LEARNING ACADEMY   \n",
       "1        2320918                         BEEFSTEAK   \n",
       "\n",
       "                           AKA Name  License #           Risk  \\\n",
       "0  JUMPSTART EARLY LEARNING ACADEMY  2589822.0  Risk 1 (High)   \n",
       "1                         BEEFSTEAK  2698445.0  Risk 1 (High)   \n",
       "\n",
       "              Address     City State      Zip          Inspection Date  ...  \\\n",
       "0  7559 W ADDISON ST   CHICAGO    IL  60634.0  2019-11-01T00:00:00.000  ...   \n",
       "1  303 E SUPERIOR ST   CHICAGO    IL  60611.0  2019-11-01T00:00:00.000  ...   \n",
       "\n",
       "                                          Violations   Latitude  Longitude  \\\n",
       "0  5. PROCEDURES FOR RESPONDING TO VOMITING AND D...  41.945065 -87.816734   \n",
       "1  39. CONTAMINATION PREVENTED DURING FOOD PREPAR...  41.895692 -87.620143   \n",
       "\n",
       "                                            Location  \\\n",
       "0  {'longitude': '41.945064857019986', 'latitude'...   \n",
       "1  {'longitude': '41.895692401410514', 'latitude'...   \n",
       "\n",
       "   Historical Wards 2003-2015 Zip Codes  Community Areas  Census Tracts  \\\n",
       "0                         NaN       NaN              NaN            NaN   \n",
       "1                         NaN       NaN              NaN            NaN   \n",
       "\n",
       "   Wards      Facility Group  \n",
       "0    NaN  childrens_services  \n",
       "1    NaN          restaurant  \n",
       "\n",
       "[2 rows x 22 columns]"
      ]
     },
     "execution_count": 10,
     "metadata": {},
     "output_type": "execute_result"
    }
   ],
   "source": [
    "eat_seat = newcolfromdict(df, total_dic, 'Facility Type', 'Facility Group')\n",
    "eat_seat = df.loc[df['Facility Group'] != 'Not Listed']\n",
    "eat_seat = eat_seat.drop(columns = ['Facility Type'])\n",
    "\n",
    "eat_seat = eat_seat.drop_duplicates()\n",
    "\n",
    "eat_seat.head(2)"
   ]
  },
  {
   "cell_type": "markdown",
   "metadata": {},
   "source": [
    "Since we only care about establishments in Chicago Illinois, we will only keep the data for this city and drop the `City` and `State` columns.\n",
    "\n",
    "We first check the different City's names to avoid deleting rows due to missprints."
   ]
  },
  {
   "cell_type": "code",
   "execution_count": 11,
   "metadata": {},
   "outputs": [
    {
     "data": {
      "text/plain": [
       "array(['CHICAGO', nan, 'chicago', 'Chicago', 'GRIFFITH', 'NEW YORK',\n",
       "       'SCHAUMBURG', 'ELMHURST', 'ALGONQUIN', 'NEW HOLSTEIN', 'CCHICAGO',\n",
       "       'NILES NILES', 'EVANSTON', 'CHICAGO.', 'CHESTNUT STREET',\n",
       "       'LANSING', 'CHICAGOCHICAGO', 'WADSWORTH', 'WILMETTE', 'WHEATON',\n",
       "       'CHICAGOHICAGO', 'ROSEMONT', 'CHicago', 'CALUMET CITY',\n",
       "       'PLAINFIELD', 'HIGHLAND PARK', 'PALOS PARK', 'ELK GROVE VILLAGE',\n",
       "       'CICERO', 'BRIDGEVIEW', 'OAK PARK', 'MAYWOOD', 'LAKE BLUFF',\n",
       "       '312CHICAGO', 'SCHILLER PARK', 'SKOKIE', 'BEDFORD PARK',\n",
       "       'BANNOCKBURNDEERFIELD', 'CHCICAGO', 'BLOOMINGDALE', 'Norridge',\n",
       "       'CHARLES A HAYES', 'CHCHICAGO', 'CHICAGOI', 'SUMMIT',\n",
       "       'OOLYMPIA FIELDS', 'WESTMONT', 'CHICAGO HEIGHTS', 'JUSTICE',\n",
       "       'TINLEY PARK', 'LOMBARD', 'EAST HAZEL CREST', 'COUNTRY CLUB HILLS',\n",
       "       'STREAMWOOD', 'BOLINGBROOK', 'INACTIVE', 'BERWYN', 'BURNHAM',\n",
       "       'DES PLAINES', 'LAKE ZURICH', 'OLYMPIA FIELDS', 'alsip',\n",
       "       'OAK LAWN', 'BLUE ISLAND', 'GLENCOE', 'FRANKFORT', 'NAPERVILLE',\n",
       "       'BROADVIEW', 'WORTH', 'Maywood', 'ALSIP', 'EVERGREEN PARK'],\n",
       "      dtype=object)"
      ]
     },
     "execution_count": 11,
     "metadata": {},
     "output_type": "execute_result"
    }
   ],
   "source": [
    "df['City'].unique()"
   ]
  },
  {
   "cell_type": "code",
   "execution_count": 12,
   "metadata": {},
   "outputs": [],
   "source": [
    "cities = ['CHICAGO','chicago','Chicago','CCHICAGO','CHICAGO.','CHICAGOCHICAGO','CHICAGOHICAGO',\\\n",
    "          'CHicago','312CHICAGO','CHCICAGO','CHCHICAGO','CHICAGOI','CHICAGO HEIGHTS']\n",
    "\n",
    "eat_seat = eat_seat.loc[eat_seat['City'].isin(cities)]\n",
    "\n",
    "eat_seat = eat_seat.drop(columns = ['City','State'])\n",
    "\n",
    "# à la limite pour être stylés on pourrait tenter une expression régulière pour filtrer les différentes orthographes \n",
    "#de chigago au lieu de sélectionner à la main"
   ]
  },
  {
   "cell_type": "markdown",
   "metadata": {},
   "source": [
    "Then we want to check the missing values."
   ]
  },
  {
   "cell_type": "code",
   "execution_count": 13,
   "metadata": {},
   "outputs": [
    {
     "data": {
      "text/plain": [
       "Inspection ID                      0\n",
       "DBA Name                           0\n",
       "AKA Name                        2416\n",
       "License #                         17\n",
       "Risk                              70\n",
       "Address                            0\n",
       "Zip                                3\n",
       "Inspection Date                    0\n",
       "Inspection Type                    1\n",
       "Results                            0\n",
       "Violations                     51550\n",
       "Latitude                         515\n",
       "Longitude                        515\n",
       "Location                         515\n",
       "Historical Wards 2003-2015    194729\n",
       "Zip Codes                     194729\n",
       "Community Areas               194729\n",
       "Census Tracts                 194729\n",
       "Wards                         194729\n",
       "Facility Group                     0\n",
       "dtype: int64"
      ]
     },
     "execution_count": 13,
     "metadata": {},
     "output_type": "execute_result"
    }
   ],
   "source": [
    "eat_seat.isnull().sum()"
   ]
  },
  {
   "cell_type": "code",
   "execution_count": 14,
   "metadata": {},
   "outputs": [
    {
     "name": "stdout",
     "output_type": "stream",
     "text": [
      "194729\n"
     ]
    }
   ],
   "source": [
    "print(len(eat_seat.index))    ##returns the number of rows of the df"
   ]
  },
  {
   "cell_type": "markdown",
   "metadata": {},
   "source": [
    "As we can see, the columns `Historical Wards 2003-2015`, `Zip Codes`, `Community Areas`, `Census Tracts` and `Wards` are empty and will be dropped.\n",
    "\n",
    "We will only be using the `DBA Name` (the name under which the establishment is doing business ; DBA = doing business as), so we drop the `AKA Name` column too."
   ]
  },
  {
   "cell_type": "code",
   "execution_count": 15,
   "metadata": {},
   "outputs": [
    {
     "data": {
      "text/html": [
       "<div>\n",
       "<style scoped>\n",
       "    .dataframe tbody tr th:only-of-type {\n",
       "        vertical-align: middle;\n",
       "    }\n",
       "\n",
       "    .dataframe tbody tr th {\n",
       "        vertical-align: top;\n",
       "    }\n",
       "\n",
       "    .dataframe thead th {\n",
       "        text-align: right;\n",
       "    }\n",
       "</style>\n",
       "<table border=\"1\" class=\"dataframe\">\n",
       "  <thead>\n",
       "    <tr style=\"text-align: right;\">\n",
       "      <th></th>\n",
       "      <th>Inspection ID</th>\n",
       "      <th>DBA Name</th>\n",
       "      <th>License #</th>\n",
       "      <th>Risk</th>\n",
       "      <th>Address</th>\n",
       "      <th>Zip</th>\n",
       "      <th>Inspection Date</th>\n",
       "      <th>Inspection Type</th>\n",
       "      <th>Results</th>\n",
       "      <th>Violations</th>\n",
       "      <th>Latitude</th>\n",
       "      <th>Longitude</th>\n",
       "      <th>Location</th>\n",
       "      <th>Facility Group</th>\n",
       "    </tr>\n",
       "  </thead>\n",
       "  <tbody>\n",
       "    <tr>\n",
       "      <td>0</td>\n",
       "      <td>2320971</td>\n",
       "      <td>JUMPSTART EARLY LEARNING ACADEMY</td>\n",
       "      <td>2589822.0</td>\n",
       "      <td>Risk 1 (High)</td>\n",
       "      <td>7559 W ADDISON ST</td>\n",
       "      <td>60634.0</td>\n",
       "      <td>2019-11-01T00:00:00.000</td>\n",
       "      <td>Canvass</td>\n",
       "      <td>Pass w/ Conditions</td>\n",
       "      <td>5. PROCEDURES FOR RESPONDING TO VOMITING AND D...</td>\n",
       "      <td>41.945065</td>\n",
       "      <td>-87.816734</td>\n",
       "      <td>{'longitude': '41.945064857019986', 'latitude'...</td>\n",
       "      <td>childrens_services</td>\n",
       "    </tr>\n",
       "    <tr>\n",
       "      <td>1</td>\n",
       "      <td>2320918</td>\n",
       "      <td>BEEFSTEAK</td>\n",
       "      <td>2698445.0</td>\n",
       "      <td>Risk 1 (High)</td>\n",
       "      <td>303 E SUPERIOR ST</td>\n",
       "      <td>60611.0</td>\n",
       "      <td>2019-11-01T00:00:00.000</td>\n",
       "      <td>License</td>\n",
       "      <td>Pass</td>\n",
       "      <td>39. CONTAMINATION PREVENTED DURING FOOD PREPAR...</td>\n",
       "      <td>41.895692</td>\n",
       "      <td>-87.620143</td>\n",
       "      <td>{'longitude': '41.895692401410514', 'latitude'...</td>\n",
       "      <td>restaurant</td>\n",
       "    </tr>\n",
       "  </tbody>\n",
       "</table>\n",
       "</div>"
      ],
      "text/plain": [
       "   Inspection ID                          DBA Name  License #           Risk  \\\n",
       "0        2320971  JUMPSTART EARLY LEARNING ACADEMY  2589822.0  Risk 1 (High)   \n",
       "1        2320918                         BEEFSTEAK  2698445.0  Risk 1 (High)   \n",
       "\n",
       "              Address      Zip          Inspection Date Inspection Type  \\\n",
       "0  7559 W ADDISON ST   60634.0  2019-11-01T00:00:00.000         Canvass   \n",
       "1  303 E SUPERIOR ST   60611.0  2019-11-01T00:00:00.000         License   \n",
       "\n",
       "              Results                                         Violations  \\\n",
       "0  Pass w/ Conditions  5. PROCEDURES FOR RESPONDING TO VOMITING AND D...   \n",
       "1                Pass  39. CONTAMINATION PREVENTED DURING FOOD PREPAR...   \n",
       "\n",
       "    Latitude  Longitude                                           Location  \\\n",
       "0  41.945065 -87.816734  {'longitude': '41.945064857019986', 'latitude'...   \n",
       "1  41.895692 -87.620143  {'longitude': '41.895692401410514', 'latitude'...   \n",
       "\n",
       "       Facility Group  \n",
       "0  childrens_services  \n",
       "1          restaurant  "
      ]
     },
     "execution_count": 15,
     "metadata": {},
     "output_type": "execute_result"
    }
   ],
   "source": [
    "eat_seat = eat_seat.drop(columns = ['AKA Name','Historical Wards 2003-2015', 'Zip Codes', 'Community Areas',\\\n",
    "                                    'Census Tracts', 'Wards'])\n",
    "eat_seat.head(2)"
   ]
  },
  {
   "cell_type": "markdown",
   "metadata": {},
   "source": [
    "### B) Inspection date and Risk"
   ]
  },
  {
   "cell_type": "markdown",
   "metadata": {},
   "source": [
    "There is also adjustments to make in some columns, because the formats can be optimized :\n",
    "\n",
    "* In `Inspection Date`, only the day will be kept, not the time of day that is actually not given\n",
    "* In `Risk`, only the number will remain\n",
    "\n",
    "For the column `Risk`, we first want to check what types of risk are listed."
   ]
  },
  {
   "cell_type": "code",
   "execution_count": 16,
   "metadata": {},
   "outputs": [],
   "source": [
    "eat_seat['Inspection Date'] = eat_seat['Inspection Date'].apply(lambda x:x.split('T')[0])"
   ]
  },
  {
   "cell_type": "code",
   "execution_count": 17,
   "metadata": {},
   "outputs": [
    {
     "data": {
      "text/plain": [
       "array(['Risk 1 (High)', 'Risk 2 (Medium)', 'Risk 3 (Low)', nan, 'All'],\n",
       "      dtype=object)"
      ]
     },
     "execution_count": 17,
     "metadata": {},
     "output_type": "execute_result"
    }
   ],
   "source": [
    "eat_seat.Risk.unique()\n",
    "#print all types of entries in the column Risk"
   ]
  },
  {
   "cell_type": "markdown",
   "metadata": {},
   "source": [
    "We will replace **All** and **High Risk** by *3*, **Medium Risk** by *2* and **Low Risk** by *1*.\n",
    "\n",
    "\n",
    "***--> pourquoi remplacer All by High Risk ?***\n",
    "\n",
    "***A vérifier si c'était vraiment pensé comme ça quand la bdd a été conçue***"
   ]
  },
  {
   "cell_type": "code",
   "execution_count": 18,
   "metadata": {},
   "outputs": [
    {
     "data": {
      "text/html": [
       "<div>\n",
       "<style scoped>\n",
       "    .dataframe tbody tr th:only-of-type {\n",
       "        vertical-align: middle;\n",
       "    }\n",
       "\n",
       "    .dataframe tbody tr th {\n",
       "        vertical-align: top;\n",
       "    }\n",
       "\n",
       "    .dataframe thead th {\n",
       "        text-align: right;\n",
       "    }\n",
       "</style>\n",
       "<table border=\"1\" class=\"dataframe\">\n",
       "  <thead>\n",
       "    <tr style=\"text-align: right;\">\n",
       "      <th></th>\n",
       "      <th>Inspection ID</th>\n",
       "      <th>DBA Name</th>\n",
       "      <th>License #</th>\n",
       "      <th>Risk</th>\n",
       "      <th>Address</th>\n",
       "      <th>Zip</th>\n",
       "      <th>Inspection Date</th>\n",
       "      <th>Inspection Type</th>\n",
       "      <th>Results</th>\n",
       "      <th>Violations</th>\n",
       "      <th>Latitude</th>\n",
       "      <th>Longitude</th>\n",
       "      <th>Location</th>\n",
       "      <th>Facility Group</th>\n",
       "    </tr>\n",
       "  </thead>\n",
       "  <tbody>\n",
       "    <tr>\n",
       "      <td>0</td>\n",
       "      <td>2320971</td>\n",
       "      <td>JUMPSTART EARLY LEARNING ACADEMY</td>\n",
       "      <td>2589822.0</td>\n",
       "      <td>3.0</td>\n",
       "      <td>7559 W ADDISON ST</td>\n",
       "      <td>60634.0</td>\n",
       "      <td>2019-11-01</td>\n",
       "      <td>Canvass</td>\n",
       "      <td>Pass w/ Conditions</td>\n",
       "      <td>5. PROCEDURES FOR RESPONDING TO VOMITING AND D...</td>\n",
       "      <td>41.945065</td>\n",
       "      <td>-87.816734</td>\n",
       "      <td>{'longitude': '41.945064857019986', 'latitude'...</td>\n",
       "      <td>childrens_services</td>\n",
       "    </tr>\n",
       "    <tr>\n",
       "      <td>1</td>\n",
       "      <td>2320918</td>\n",
       "      <td>BEEFSTEAK</td>\n",
       "      <td>2698445.0</td>\n",
       "      <td>3.0</td>\n",
       "      <td>303 E SUPERIOR ST</td>\n",
       "      <td>60611.0</td>\n",
       "      <td>2019-11-01</td>\n",
       "      <td>License</td>\n",
       "      <td>Pass</td>\n",
       "      <td>39. CONTAMINATION PREVENTED DURING FOOD PREPAR...</td>\n",
       "      <td>41.895692</td>\n",
       "      <td>-87.620143</td>\n",
       "      <td>{'longitude': '41.895692401410514', 'latitude'...</td>\n",
       "      <td>restaurant</td>\n",
       "    </tr>\n",
       "  </tbody>\n",
       "</table>\n",
       "</div>"
      ],
      "text/plain": [
       "   Inspection ID                          DBA Name  License #  Risk  \\\n",
       "0        2320971  JUMPSTART EARLY LEARNING ACADEMY  2589822.0   3.0   \n",
       "1        2320918                         BEEFSTEAK  2698445.0   3.0   \n",
       "\n",
       "              Address      Zip Inspection Date Inspection Type  \\\n",
       "0  7559 W ADDISON ST   60634.0      2019-11-01         Canvass   \n",
       "1  303 E SUPERIOR ST   60611.0      2019-11-01         License   \n",
       "\n",
       "              Results                                         Violations  \\\n",
       "0  Pass w/ Conditions  5. PROCEDURES FOR RESPONDING TO VOMITING AND D...   \n",
       "1                Pass  39. CONTAMINATION PREVENTED DURING FOOD PREPAR...   \n",
       "\n",
       "    Latitude  Longitude                                           Location  \\\n",
       "0  41.945065 -87.816734  {'longitude': '41.945064857019986', 'latitude'...   \n",
       "1  41.895692 -87.620143  {'longitude': '41.895692401410514', 'latitude'...   \n",
       "\n",
       "       Facility Group  \n",
       "0  childrens_services  \n",
       "1          restaurant  "
      ]
     },
     "execution_count": 18,
     "metadata": {},
     "output_type": "execute_result"
    }
   ],
   "source": [
    "eat_seat['Risk'] = eat_seat['Risk'].replace({'All':1, 'Risk 1 (High)':3, 'Risk 2 (Medium)':2, 'Risk 3 (Low)':1})\n",
    "eat_seat.head(2)"
   ]
  },
  {
   "cell_type": "code",
   "execution_count": 19,
   "metadata": {},
   "outputs": [],
   "source": [
    "eat_seat = eat_seat.rename(columns={\"License #\": \"License\"}) #rename the column 'License #' into 'License'"
   ]
  },
  {
   "cell_type": "code",
   "execution_count": 20,
   "metadata": {},
   "outputs": [
    {
     "data": {
      "text/plain": [
       "37145"
      ]
     },
     "execution_count": 20,
     "metadata": {},
     "output_type": "execute_result"
    }
   ],
   "source": [
    "len(eat_seat.License.unique())"
   ]
  },
  {
   "cell_type": "code",
   "execution_count": 21,
   "metadata": {},
   "outputs": [
    {
     "data": {
      "text/html": [
       "<div>\n",
       "<style scoped>\n",
       "    .dataframe tbody tr th:only-of-type {\n",
       "        vertical-align: middle;\n",
       "    }\n",
       "\n",
       "    .dataframe tbody tr th {\n",
       "        vertical-align: top;\n",
       "    }\n",
       "\n",
       "    .dataframe thead th {\n",
       "        text-align: right;\n",
       "    }\n",
       "</style>\n",
       "<table border=\"1\" class=\"dataframe\">\n",
       "  <thead>\n",
       "    <tr style=\"text-align: right;\">\n",
       "      <th></th>\n",
       "      <th>Inspection ID</th>\n",
       "      <th>DBA Name</th>\n",
       "      <th>License</th>\n",
       "      <th>Risk</th>\n",
       "      <th>Address</th>\n",
       "      <th>Zip</th>\n",
       "      <th>Inspection Date</th>\n",
       "      <th>Inspection Type</th>\n",
       "      <th>Results</th>\n",
       "      <th>Violations</th>\n",
       "      <th>Latitude</th>\n",
       "      <th>Longitude</th>\n",
       "      <th>Location</th>\n",
       "      <th>Facility Group</th>\n",
       "    </tr>\n",
       "  </thead>\n",
       "  <tbody>\n",
       "    <tr>\n",
       "      <td>0</td>\n",
       "      <td>2320971</td>\n",
       "      <td>JUMPSTART EARLY LEARNING ACADEMY</td>\n",
       "      <td>2589822.0</td>\n",
       "      <td>3.0</td>\n",
       "      <td>7559 W ADDISON ST</td>\n",
       "      <td>60634.0</td>\n",
       "      <td>2019-11-01</td>\n",
       "      <td>Canvass</td>\n",
       "      <td>Pass w/ Conditions</td>\n",
       "      <td>5. PROCEDURES FOR RESPONDING TO VOMITING AND D...</td>\n",
       "      <td>41.945065</td>\n",
       "      <td>-87.816734</td>\n",
       "      <td>{'longitude': '41.945064857019986', 'latitude'...</td>\n",
       "      <td>childrens_services</td>\n",
       "    </tr>\n",
       "    <tr>\n",
       "      <td>1</td>\n",
       "      <td>2320918</td>\n",
       "      <td>BEEFSTEAK</td>\n",
       "      <td>2698445.0</td>\n",
       "      <td>3.0</td>\n",
       "      <td>303 E SUPERIOR ST</td>\n",
       "      <td>60611.0</td>\n",
       "      <td>2019-11-01</td>\n",
       "      <td>License</td>\n",
       "      <td>Pass</td>\n",
       "      <td>39. CONTAMINATION PREVENTED DURING FOOD PREPAR...</td>\n",
       "      <td>41.895692</td>\n",
       "      <td>-87.620143</td>\n",
       "      <td>{'longitude': '41.895692401410514', 'latitude'...</td>\n",
       "      <td>restaurant</td>\n",
       "    </tr>\n",
       "    <tr>\n",
       "      <td>2</td>\n",
       "      <td>2320986</td>\n",
       "      <td>BABA'S COFFEE</td>\n",
       "      <td>2423353.0</td>\n",
       "      <td>3.0</td>\n",
       "      <td>5544-5546 N KEDZIE AVE</td>\n",
       "      <td>60625.0</td>\n",
       "      <td>2019-11-01</td>\n",
       "      <td>Canvass</td>\n",
       "      <td>No Entry</td>\n",
       "      <td>NaN</td>\n",
       "      <td>41.982582</td>\n",
       "      <td>-87.708996</td>\n",
       "      <td>{'longitude': '41.98258181784537', 'latitude':...</td>\n",
       "      <td>restaurant</td>\n",
       "    </tr>\n",
       "    <tr>\n",
       "      <td>3</td>\n",
       "      <td>2320910</td>\n",
       "      <td>J.T.'S GENUINE SANDWICH</td>\n",
       "      <td>2689893.0</td>\n",
       "      <td>3.0</td>\n",
       "      <td>3970 N ELSTON AVE</td>\n",
       "      <td>60618.0</td>\n",
       "      <td>2019-11-01</td>\n",
       "      <td>License</td>\n",
       "      <td>Pass</td>\n",
       "      <td>51. PLUMBING INSTALLED; PROPER BACKFLOW DEVICE...</td>\n",
       "      <td>41.953378</td>\n",
       "      <td>-87.718848</td>\n",
       "      <td>{'longitude': '41.95337788158545', 'latitude':...</td>\n",
       "      <td>restaurant</td>\n",
       "    </tr>\n",
       "    <tr>\n",
       "      <td>4</td>\n",
       "      <td>2320904</td>\n",
       "      <td>KID'Z COLONY DAYCARE, INC.</td>\n",
       "      <td>2215609.0</td>\n",
       "      <td>3.0</td>\n",
       "      <td>6287 S ARCHER AVE</td>\n",
       "      <td>60638.0</td>\n",
       "      <td>2019-11-01</td>\n",
       "      <td>Canvass</td>\n",
       "      <td>Fail</td>\n",
       "      <td>16. FOOD-CONTACT SURFACES: CLEANED &amp; SANITIZED...</td>\n",
       "      <td>41.793235</td>\n",
       "      <td>-87.777776</td>\n",
       "      <td>{'longitude': '41.7932347787373', 'latitude': ...</td>\n",
       "      <td>daycare</td>\n",
       "    </tr>\n",
       "  </tbody>\n",
       "</table>\n",
       "</div>"
      ],
      "text/plain": [
       "   Inspection ID                          DBA Name    License  Risk  \\\n",
       "0        2320971  JUMPSTART EARLY LEARNING ACADEMY  2589822.0   3.0   \n",
       "1        2320918                         BEEFSTEAK  2698445.0   3.0   \n",
       "2        2320986                     BABA'S COFFEE  2423353.0   3.0   \n",
       "3        2320910           J.T.'S GENUINE SANDWICH  2689893.0   3.0   \n",
       "4        2320904        KID'Z COLONY DAYCARE, INC.  2215609.0   3.0   \n",
       "\n",
       "                   Address      Zip Inspection Date Inspection Type  \\\n",
       "0       7559 W ADDISON ST   60634.0      2019-11-01         Canvass   \n",
       "1       303 E SUPERIOR ST   60611.0      2019-11-01         License   \n",
       "2  5544-5546 N KEDZIE AVE   60625.0      2019-11-01         Canvass   \n",
       "3       3970 N ELSTON AVE   60618.0      2019-11-01         License   \n",
       "4       6287 S ARCHER AVE   60638.0      2019-11-01         Canvass   \n",
       "\n",
       "              Results                                         Violations  \\\n",
       "0  Pass w/ Conditions  5. PROCEDURES FOR RESPONDING TO VOMITING AND D...   \n",
       "1                Pass  39. CONTAMINATION PREVENTED DURING FOOD PREPAR...   \n",
       "2            No Entry                                                NaN   \n",
       "3                Pass  51. PLUMBING INSTALLED; PROPER BACKFLOW DEVICE...   \n",
       "4                Fail  16. FOOD-CONTACT SURFACES: CLEANED & SANITIZED...   \n",
       "\n",
       "    Latitude  Longitude                                           Location  \\\n",
       "0  41.945065 -87.816734  {'longitude': '41.945064857019986', 'latitude'...   \n",
       "1  41.895692 -87.620143  {'longitude': '41.895692401410514', 'latitude'...   \n",
       "2  41.982582 -87.708996  {'longitude': '41.98258181784537', 'latitude':...   \n",
       "3  41.953378 -87.718848  {'longitude': '41.95337788158545', 'latitude':...   \n",
       "4  41.793235 -87.777776  {'longitude': '41.7932347787373', 'latitude': ...   \n",
       "\n",
       "       Facility Group  \n",
       "0  childrens_services  \n",
       "1          restaurant  \n",
       "2          restaurant  \n",
       "3          restaurant  \n",
       "4             daycare  "
      ]
     },
     "execution_count": 21,
     "metadata": {},
     "output_type": "execute_result"
    }
   ],
   "source": [
    "eat_seat.head()"
   ]
  },
  {
   "cell_type": "markdown",
   "metadata": {},
   "source": [
    "### C) Float to Integer"
   ]
  },
  {
   "cell_type": "code",
   "execution_count": 22,
   "metadata": {},
   "outputs": [],
   "source": [
    "def clean_float(floatnumb):\n",
    "    try :\n",
    "        return int(float(floatnumb))\n",
    "    except :\n",
    "        return 0"
   ]
  },
  {
   "cell_type": "code",
   "execution_count": 23,
   "metadata": {},
   "outputs": [],
   "source": [
    "eat_seat.Risk = eat_seat.Risk.apply(clean_float)    ##guarantees the Risk numbers to be integers"
   ]
  },
  {
   "cell_type": "code",
   "execution_count": 24,
   "metadata": {},
   "outputs": [],
   "source": [
    "eat_seat.License = eat_seat.License.apply(clean_float)    ##guarantees the License numbers to be integers"
   ]
  },
  {
   "cell_type": "code",
   "execution_count": 25,
   "metadata": {},
   "outputs": [],
   "source": [
    "eat_seat.Zip = eat_seat.Zip.apply(clean_float)    ##guarantees the zipcodes to be integers"
   ]
  },
  {
   "cell_type": "code",
   "execution_count": 26,
   "metadata": {},
   "outputs": [
    {
     "data": {
      "text/plain": [
       "3"
      ]
     },
     "execution_count": 26,
     "metadata": {},
     "output_type": "execute_result"
    }
   ],
   "source": [
    "len(eat_seat[eat_seat['Zip'] == 0])"
   ]
  },
  {
   "cell_type": "markdown",
   "metadata": {},
   "source": [
    "The **clean_float()** function returns **0** if the zip code is not convertible into an integer. Here it means that there are 3 missing zip codes in the `Zip` column. "
   ]
  },
  {
   "cell_type": "code",
   "execution_count": 27,
   "metadata": {},
   "outputs": [
    {
     "data": {
      "text/html": [
       "<div>\n",
       "<style scoped>\n",
       "    .dataframe tbody tr th:only-of-type {\n",
       "        vertical-align: middle;\n",
       "    }\n",
       "\n",
       "    .dataframe tbody tr th {\n",
       "        vertical-align: top;\n",
       "    }\n",
       "\n",
       "    .dataframe thead th {\n",
       "        text-align: right;\n",
       "    }\n",
       "</style>\n",
       "<table border=\"1\" class=\"dataframe\">\n",
       "  <thead>\n",
       "    <tr style=\"text-align: right;\">\n",
       "      <th></th>\n",
       "      <th>Inspection ID</th>\n",
       "      <th>DBA Name</th>\n",
       "      <th>License</th>\n",
       "      <th>Risk</th>\n",
       "      <th>Address</th>\n",
       "      <th>Zip</th>\n",
       "      <th>Inspection Date</th>\n",
       "      <th>Inspection Type</th>\n",
       "      <th>Results</th>\n",
       "      <th>Violations</th>\n",
       "      <th>Latitude</th>\n",
       "      <th>Longitude</th>\n",
       "      <th>Location</th>\n",
       "      <th>Facility Group</th>\n",
       "    </tr>\n",
       "  </thead>\n",
       "  <tbody>\n",
       "    <tr>\n",
       "      <td>114117</td>\n",
       "      <td>1464217</td>\n",
       "      <td>DUNKIN DONUTS</td>\n",
       "      <td>1515116</td>\n",
       "      <td>2</td>\n",
       "      <td>7545 N PAULINA ST</td>\n",
       "      <td>0</td>\n",
       "      <td>2014-04-02</td>\n",
       "      <td>Canvass</td>\n",
       "      <td>Out of Business</td>\n",
       "      <td>NaN</td>\n",
       "      <td>42.019032</td>\n",
       "      <td>-87.673459</td>\n",
       "      <td>{'longitude': '42.01903180273219', 'latitude':...</td>\n",
       "      <td>restaurant</td>\n",
       "    </tr>\n",
       "    <tr>\n",
       "      <td>153781</td>\n",
       "      <td>1106210</td>\n",
       "      <td>DUNKIN DONUTS</td>\n",
       "      <td>1515116</td>\n",
       "      <td>2</td>\n",
       "      <td>7545 N PAULINA ST</td>\n",
       "      <td>0</td>\n",
       "      <td>2012-04-09</td>\n",
       "      <td>Canvass Re-Inspection</td>\n",
       "      <td>Pass</td>\n",
       "      <td>33. FOOD AND NON-FOOD CONTACT EQUIPMENT UTENSI...</td>\n",
       "      <td>42.019032</td>\n",
       "      <td>-87.673459</td>\n",
       "      <td>{'longitude': '42.01903180273219', 'latitude':...</td>\n",
       "      <td>restaurant</td>\n",
       "    </tr>\n",
       "    <tr>\n",
       "      <td>156081</td>\n",
       "      <td>670661</td>\n",
       "      <td>DUNKIN DONUTS</td>\n",
       "      <td>1515116</td>\n",
       "      <td>2</td>\n",
       "      <td>7545 N PAULINA ST</td>\n",
       "      <td>0</td>\n",
       "      <td>2012-02-21</td>\n",
       "      <td>Complaint</td>\n",
       "      <td>Pass w/ Conditions</td>\n",
       "      <td>6. HANDS WASHED AND CLEANED, GOOD HYGIENIC PRA...</td>\n",
       "      <td>42.019032</td>\n",
       "      <td>-87.673459</td>\n",
       "      <td>{'longitude': '42.01903180273219', 'latitude':...</td>\n",
       "      <td>restaurant</td>\n",
       "    </tr>\n",
       "  </tbody>\n",
       "</table>\n",
       "</div>"
      ],
      "text/plain": [
       "        Inspection ID       DBA Name  License  Risk             Address  Zip  \\\n",
       "114117        1464217  DUNKIN DONUTS  1515116     2  7545 N PAULINA ST     0   \n",
       "153781        1106210  DUNKIN DONUTS  1515116     2  7545 N PAULINA ST     0   \n",
       "156081         670661  DUNKIN DONUTS  1515116     2  7545 N PAULINA ST     0   \n",
       "\n",
       "       Inspection Date        Inspection Type             Results  \\\n",
       "114117      2014-04-02                Canvass     Out of Business   \n",
       "153781      2012-04-09  Canvass Re-Inspection                Pass   \n",
       "156081      2012-02-21              Complaint  Pass w/ Conditions   \n",
       "\n",
       "                                               Violations   Latitude  \\\n",
       "114117                                                NaN  42.019032   \n",
       "153781  33. FOOD AND NON-FOOD CONTACT EQUIPMENT UTENSI...  42.019032   \n",
       "156081  6. HANDS WASHED AND CLEANED, GOOD HYGIENIC PRA...  42.019032   \n",
       "\n",
       "        Longitude                                           Location  \\\n",
       "114117 -87.673459  {'longitude': '42.01903180273219', 'latitude':...   \n",
       "153781 -87.673459  {'longitude': '42.01903180273219', 'latitude':...   \n",
       "156081 -87.673459  {'longitude': '42.01903180273219', 'latitude':...   \n",
       "\n",
       "       Facility Group  \n",
       "114117     restaurant  \n",
       "153781     restaurant  \n",
       "156081     restaurant  "
      ]
     },
     "execution_count": 27,
     "metadata": {},
     "output_type": "execute_result"
    }
   ],
   "source": [
    "eat_seat[eat_seat['Zip'] == 0].head()"
   ]
  },
  {
   "cell_type": "markdown",
   "metadata": {},
   "source": [
    "We can observe that the missing zip codes are all from the same esablishment. By doing a google search the zip code corresponding to the adress is easily retrieved :\n",
    "*7545 N Paulina St\n",
    "Chicago, IL 60626, USA*.\n",
    "\n",
    "So that we just have to replace the missing zip codes by 60626."
   ]
  },
  {
   "cell_type": "code",
   "execution_count": 28,
   "metadata": {},
   "outputs": [],
   "source": [
    "def clean_zip(zipcode):\n",
    "    if zipcode == 0 :\n",
    "        return 60626\n",
    "    else :\n",
    "        return zipcode"
   ]
  },
  {
   "cell_type": "code",
   "execution_count": 29,
   "metadata": {},
   "outputs": [],
   "source": [
    "eat_seat.Zip = eat_seat.Zip.apply(clean_zip)"
   ]
  },
  {
   "cell_type": "markdown",
   "metadata": {},
   "source": [
    "### D) Community Areas"
   ]
  },
  {
   "cell_type": "markdown",
   "metadata": {},
   "source": [
    "We found a file associating the chicago zipe codes and their associated community area. Using it we can create a new `Community Area` column."
   ]
  },
  {
   "cell_type": "code",
   "execution_count": 30,
   "metadata": {},
   "outputs": [],
   "source": [
    "zip_to_area = pd.read_csv('ZipCode_to_ComArea.csv',sep=',') ##creation of the dataframe\n",
    "zip_to_area = zip_to_area.drop(columns = ['TOT2010'])\n",
    "\n",
    "zip_to_area.ZipCode = zip_to_area.ZipCode.apply(clean_float) ##guarantees the zipcodes to be integers\n",
    "\n",
    "zip_to_area = zip_to_area.groupby('ComArea')['ZipCode'].apply(list)    ##groups the zipcodes by community area number\n",
    "zip_to_area = zip_to_area.reset_index()"
   ]
  },
  {
   "cell_type": "code",
   "execution_count": 31,
   "metadata": {},
   "outputs": [],
   "source": [
    "zip_dic = zip_to_area.set_index('ComArea')['ZipCode'].to_dict()"
   ]
  },
  {
   "cell_type": "code",
   "execution_count": 32,
   "metadata": {},
   "outputs": [],
   "source": [
    "eat_seat = newcolfromdict(eat_seat, zip_dic, 'Zip', 'Community Area')"
   ]
  },
  {
   "cell_type": "code",
   "execution_count": 33,
   "metadata": {},
   "outputs": [
    {
     "data": {
      "text/html": [
       "<div>\n",
       "<style scoped>\n",
       "    .dataframe tbody tr th:only-of-type {\n",
       "        vertical-align: middle;\n",
       "    }\n",
       "\n",
       "    .dataframe tbody tr th {\n",
       "        vertical-align: top;\n",
       "    }\n",
       "\n",
       "    .dataframe thead th {\n",
       "        text-align: right;\n",
       "    }\n",
       "</style>\n",
       "<table border=\"1\" class=\"dataframe\">\n",
       "  <thead>\n",
       "    <tr style=\"text-align: right;\">\n",
       "      <th></th>\n",
       "      <th>Inspection ID</th>\n",
       "      <th>DBA Name</th>\n",
       "      <th>License</th>\n",
       "      <th>Risk</th>\n",
       "      <th>Address</th>\n",
       "      <th>Zip</th>\n",
       "      <th>Inspection Date</th>\n",
       "      <th>Inspection Type</th>\n",
       "      <th>Results</th>\n",
       "      <th>Violations</th>\n",
       "      <th>Latitude</th>\n",
       "      <th>Longitude</th>\n",
       "      <th>Location</th>\n",
       "      <th>Facility Group</th>\n",
       "      <th>Community Area</th>\n",
       "    </tr>\n",
       "  </thead>\n",
       "  <tbody>\n",
       "    <tr>\n",
       "      <td>0</td>\n",
       "      <td>2320971</td>\n",
       "      <td>JUMPSTART EARLY LEARNING ACADEMY</td>\n",
       "      <td>2589822</td>\n",
       "      <td>3</td>\n",
       "      <td>7559 W ADDISON ST</td>\n",
       "      <td>60634</td>\n",
       "      <td>2019-11-01</td>\n",
       "      <td>Canvass</td>\n",
       "      <td>Pass w/ Conditions</td>\n",
       "      <td>5. PROCEDURES FOR RESPONDING TO VOMITING AND D...</td>\n",
       "      <td>41.945065</td>\n",
       "      <td>-87.816734</td>\n",
       "      <td>{'longitude': '41.945064857019986', 'latitude'...</td>\n",
       "      <td>childrens_services</td>\n",
       "      <td>76</td>\n",
       "    </tr>\n",
       "    <tr>\n",
       "      <td>1</td>\n",
       "      <td>2320918</td>\n",
       "      <td>BEEFSTEAK</td>\n",
       "      <td>2698445</td>\n",
       "      <td>3</td>\n",
       "      <td>303 E SUPERIOR ST</td>\n",
       "      <td>60611</td>\n",
       "      <td>2019-11-01</td>\n",
       "      <td>License</td>\n",
       "      <td>Pass</td>\n",
       "      <td>39. CONTAMINATION PREVENTED DURING FOOD PREPAR...</td>\n",
       "      <td>41.895692</td>\n",
       "      <td>-87.620143</td>\n",
       "      <td>{'longitude': '41.895692401410514', 'latitude'...</td>\n",
       "      <td>restaurant</td>\n",
       "      <td>8</td>\n",
       "    </tr>\n",
       "    <tr>\n",
       "      <td>2</td>\n",
       "      <td>2320986</td>\n",
       "      <td>BABA'S COFFEE</td>\n",
       "      <td>2423353</td>\n",
       "      <td>3</td>\n",
       "      <td>5544-5546 N KEDZIE AVE</td>\n",
       "      <td>60625</td>\n",
       "      <td>2019-11-01</td>\n",
       "      <td>Canvass</td>\n",
       "      <td>No Entry</td>\n",
       "      <td>NaN</td>\n",
       "      <td>41.982582</td>\n",
       "      <td>-87.708996</td>\n",
       "      <td>{'longitude': '41.98258181784537', 'latitude':...</td>\n",
       "      <td>restaurant</td>\n",
       "      <td>14</td>\n",
       "    </tr>\n",
       "  </tbody>\n",
       "</table>\n",
       "</div>"
      ],
      "text/plain": [
       "   Inspection ID                          DBA Name  License  Risk  \\\n",
       "0        2320971  JUMPSTART EARLY LEARNING ACADEMY  2589822     3   \n",
       "1        2320918                         BEEFSTEAK  2698445     3   \n",
       "2        2320986                     BABA'S COFFEE  2423353     3   \n",
       "\n",
       "                   Address    Zip Inspection Date Inspection Type  \\\n",
       "0       7559 W ADDISON ST   60634      2019-11-01         Canvass   \n",
       "1       303 E SUPERIOR ST   60611      2019-11-01         License   \n",
       "2  5544-5546 N KEDZIE AVE   60625      2019-11-01         Canvass   \n",
       "\n",
       "              Results                                         Violations  \\\n",
       "0  Pass w/ Conditions  5. PROCEDURES FOR RESPONDING TO VOMITING AND D...   \n",
       "1                Pass  39. CONTAMINATION PREVENTED DURING FOOD PREPAR...   \n",
       "2            No Entry                                                NaN   \n",
       "\n",
       "    Latitude  Longitude                                           Location  \\\n",
       "0  41.945065 -87.816734  {'longitude': '41.945064857019986', 'latitude'...   \n",
       "1  41.895692 -87.620143  {'longitude': '41.895692401410514', 'latitude'...   \n",
       "2  41.982582 -87.708996  {'longitude': '41.98258181784537', 'latitude':...   \n",
       "\n",
       "       Facility Group Community Area  \n",
       "0  childrens_services             76  \n",
       "1          restaurant              8  \n",
       "2          restaurant             14  "
      ]
     },
     "execution_count": 33,
     "metadata": {},
     "output_type": "execute_result"
    }
   ],
   "source": [
    "eat_seat.head(3)"
   ]
  },
  {
   "cell_type": "markdown",
   "metadata": {},
   "source": [
    "### 2.3 The Violations Column\n",
    "\n",
    "The Food Code Rules has changed since the 1st July 2018. After investigating those changes, it seems that only the denomination of the violations but not the violation itself has changed, and a few additionnal violations has been added in the possible violations. It means that those changes does not need more processing and can just be considered together as a common list of violations."
   ]
  },
  {
   "cell_type": "code",
   "execution_count": 34,
   "metadata": {},
   "outputs": [
    {
     "data": {
      "text/plain": [
       "142356"
      ]
     },
     "execution_count": 34,
     "metadata": {},
     "output_type": "execute_result"
    }
   ],
   "source": [
    "len(eat_seat.Violations.unique())"
   ]
  },
  {
   "cell_type": "code",
   "execution_count": 35,
   "metadata": {},
   "outputs": [
    {
     "data": {
      "text/plain": [
       "'5. PROCEDURES FOR RESPONDING TO VOMITING AND DIARRHEAL EVENTS - Comments: OBSERVED INCOMPLETE CLEAN UP KIT ON SITE.INSTRUCTED MANAGEMENT TO HAVE A COMPLETE CLEAN UP KIT BY NEXT INSPECTION.CLEAN UP PROCEDURES  ON SITE PRIORITY FOUNDATION VIOLATION  7-38-005   NO CITATION ISSUED | 10. ADEQUATE HANDWASHING SINKS PROPERLY SUPPLIED AND ACCESSIBLE - Comments: OBSERVED EXPOSED HAND SINK NOT ACCESSIBLE FOR HANDWASHING IN THE FOOD PREP AREA.INSTRUCTED MANAGEMENT TO INSTALL EXPOSED HAND SINK AT A LOCATION THAT IS ACCESSIBLE. PRIORITY FOUNDATION VIOLATION 7-38-030(c) NO CITATION ISSUED | 56. ADEQUATE VENTILATION & LIGHTING; DESIGNATED AREAS USED - Comments: OBSERVED HOT LINE HOOD FILTERS DUSTY.INSTRUCTED MANAGEMENT TO CLEAN HOT LINE HOOD FILTERS.'"
      ]
     },
     "execution_count": 35,
     "metadata": {},
     "output_type": "execute_result"
    }
   ],
   "source": [
    "eat_seat.Violations[0]"
   ]
  },
  {
   "cell_type": "markdown",
   "metadata": {},
   "source": [
    "It seems that every violation is a unique entry because it contains not only the violation type but also the comments of the inspectors. We have to split the Violations column into 3 different columns :\n",
    "- Violation number\n",
    "- Violation type\n",
    "- Violation comments\n",
    "\n",
    "It seems that every violation cell is architectured this way :\n",
    "\"number of the violation\". \"TYPE OF THE VIOLATION\" - Comments : \"comments of the inspector\" (this format repeated as many times as the number of violations detected the day of the inspection, separated with a vertical line)\n",
    "\n",
    "We just want to keep the violation number (because we can check which violation it is online). We create a column NumberViolations containing the ID of the violations found during the corresponding investigation. The rest is not kept because the titles of the violations can be found online and we do not plan on using the comments of the investigators.\n",
    "\n",
    "As we can do this cleaning only for the rows where the field Violations is not empty, we will temporarily drop all the other rows."
   ]
  },
  {
   "cell_type": "code",
   "execution_count": 36,
   "metadata": {},
   "outputs": [],
   "source": [
    "temp = eat_seat.dropna(subset=['Violations'], axis = 0, how = 'all')"
   ]
  },
  {
   "cell_type": "code",
   "execution_count": 37,
   "metadata": {},
   "outputs": [],
   "source": [
    "violations = temp.apply(lambda row: re.findall('\\|\\s([0-9]+)[.]', str(row['Violations'])), axis = 1)"
   ]
  },
  {
   "cell_type": "code",
   "execution_count": 38,
   "metadata": {},
   "outputs": [],
   "source": [
    "first_violations = temp.apply(lambda row: row['Violations'].split('.')[0], axis = 1)"
   ]
  },
  {
   "cell_type": "code",
   "execution_count": 39,
   "metadata": {},
   "outputs": [],
   "source": [
    "for violation, first_violation in zip(violations, first_violations):\n",
    "    violation.append(first_violation)\n",
    "\n",
    "flat_list = [item for sublist in violations for item in sublist]\n",
    "unique, counts = np.unique(flat_list, return_counts=True)"
   ]
  },
  {
   "cell_type": "code",
   "execution_count": 40,
   "metadata": {},
   "outputs": [],
   "source": [
    "temp = temp.assign(NumberViolations = violations)"
   ]
  },
  {
   "cell_type": "code",
   "execution_count": 41,
   "metadata": {},
   "outputs": [
    {
     "data": {
      "text/html": [
       "<div>\n",
       "<style scoped>\n",
       "    .dataframe tbody tr th:only-of-type {\n",
       "        vertical-align: middle;\n",
       "    }\n",
       "\n",
       "    .dataframe tbody tr th {\n",
       "        vertical-align: top;\n",
       "    }\n",
       "\n",
       "    .dataframe thead th {\n",
       "        text-align: right;\n",
       "    }\n",
       "</style>\n",
       "<table border=\"1\" class=\"dataframe\">\n",
       "  <thead>\n",
       "    <tr style=\"text-align: right;\">\n",
       "      <th></th>\n",
       "      <th>Inspection ID</th>\n",
       "      <th>NumberViolations</th>\n",
       "    </tr>\n",
       "  </thead>\n",
       "  <tbody>\n",
       "    <tr>\n",
       "      <td>0</td>\n",
       "      <td>2320971</td>\n",
       "      <td>[10, 56, 5]</td>\n",
       "    </tr>\n",
       "    <tr>\n",
       "      <td>1</td>\n",
       "      <td>2320918</td>\n",
       "      <td>[55, 39]</td>\n",
       "    </tr>\n",
       "    <tr>\n",
       "      <td>3</td>\n",
       "      <td>2320910</td>\n",
       "      <td>[53, 58, 51]</td>\n",
       "    </tr>\n",
       "    <tr>\n",
       "      <td>4</td>\n",
       "      <td>2320904</td>\n",
       "      <td>[16]</td>\n",
       "    </tr>\n",
       "    <tr>\n",
       "      <td>5</td>\n",
       "      <td>2320969</td>\n",
       "      <td>[38, 55, 55, 58, 60, 38]</td>\n",
       "    </tr>\n",
       "  </tbody>\n",
       "</table>\n",
       "</div>"
      ],
      "text/plain": [
       "   Inspection ID          NumberViolations\n",
       "0        2320971               [10, 56, 5]\n",
       "1        2320918                  [55, 39]\n",
       "3        2320910              [53, 58, 51]\n",
       "4        2320904                      [16]\n",
       "5        2320969  [38, 55, 55, 58, 60, 38]"
      ]
     },
     "execution_count": 41,
     "metadata": {},
     "output_type": "execute_result"
    }
   ],
   "source": [
    "temp = temp[['Inspection ID', 'NumberViolations']]\n",
    "temp.head()"
   ]
  },
  {
   "cell_type": "markdown",
   "metadata": {},
   "source": [
    "Now that we have a dataframe with every inspection ID of the inspections where violations has been found and a column containing the list of those violations, we can add it to the primary dataframe."
   ]
  },
  {
   "cell_type": "code",
   "execution_count": 42,
   "metadata": {},
   "outputs": [],
   "source": [
    "eat_seat = pd.merge(eat_seat, temp, how='left', on='Inspection ID', left_index=True, right_index=False)"
   ]
  },
  {
   "cell_type": "code",
   "execution_count": 43,
   "metadata": {},
   "outputs": [
    {
     "data": {
      "text/html": [
       "<div>\n",
       "<style scoped>\n",
       "    .dataframe tbody tr th:only-of-type {\n",
       "        vertical-align: middle;\n",
       "    }\n",
       "\n",
       "    .dataframe tbody tr th {\n",
       "        vertical-align: top;\n",
       "    }\n",
       "\n",
       "    .dataframe thead th {\n",
       "        text-align: right;\n",
       "    }\n",
       "</style>\n",
       "<table border=\"1\" class=\"dataframe\">\n",
       "  <thead>\n",
       "    <tr style=\"text-align: right;\">\n",
       "      <th></th>\n",
       "      <th>DBA Name</th>\n",
       "      <th>License</th>\n",
       "      <th>Risk</th>\n",
       "      <th>Address</th>\n",
       "      <th>Zip</th>\n",
       "      <th>Inspection Date</th>\n",
       "      <th>Inspection Type</th>\n",
       "      <th>Results</th>\n",
       "      <th>Violations</th>\n",
       "      <th>Latitude</th>\n",
       "      <th>Longitude</th>\n",
       "      <th>Location</th>\n",
       "      <th>Facility Group</th>\n",
       "      <th>Community Area</th>\n",
       "      <th>NumberViolations</th>\n",
       "    </tr>\n",
       "    <tr>\n",
       "      <th>Inspection ID</th>\n",
       "      <th></th>\n",
       "      <th></th>\n",
       "      <th></th>\n",
       "      <th></th>\n",
       "      <th></th>\n",
       "      <th></th>\n",
       "      <th></th>\n",
       "      <th></th>\n",
       "      <th></th>\n",
       "      <th></th>\n",
       "      <th></th>\n",
       "      <th></th>\n",
       "      <th></th>\n",
       "      <th></th>\n",
       "      <th></th>\n",
       "    </tr>\n",
       "  </thead>\n",
       "  <tbody>\n",
       "    <tr>\n",
       "      <td>2320971</td>\n",
       "      <td>JUMPSTART EARLY LEARNING ACADEMY</td>\n",
       "      <td>2589822</td>\n",
       "      <td>3</td>\n",
       "      <td>7559 W ADDISON ST</td>\n",
       "      <td>60634</td>\n",
       "      <td>2019-11-01</td>\n",
       "      <td>Canvass</td>\n",
       "      <td>Pass w/ Conditions</td>\n",
       "      <td>5. PROCEDURES FOR RESPONDING TO VOMITING AND D...</td>\n",
       "      <td>41.945065</td>\n",
       "      <td>-87.816734</td>\n",
       "      <td>{'longitude': '41.945064857019986', 'latitude'...</td>\n",
       "      <td>childrens_services</td>\n",
       "      <td>76</td>\n",
       "      <td>[10, 56, 5]</td>\n",
       "    </tr>\n",
       "    <tr>\n",
       "      <td>2320918</td>\n",
       "      <td>BEEFSTEAK</td>\n",
       "      <td>2698445</td>\n",
       "      <td>3</td>\n",
       "      <td>303 E SUPERIOR ST</td>\n",
       "      <td>60611</td>\n",
       "      <td>2019-11-01</td>\n",
       "      <td>License</td>\n",
       "      <td>Pass</td>\n",
       "      <td>39. CONTAMINATION PREVENTED DURING FOOD PREPAR...</td>\n",
       "      <td>41.895692</td>\n",
       "      <td>-87.620143</td>\n",
       "      <td>{'longitude': '41.895692401410514', 'latitude'...</td>\n",
       "      <td>restaurant</td>\n",
       "      <td>8</td>\n",
       "      <td>[55, 39]</td>\n",
       "    </tr>\n",
       "    <tr>\n",
       "      <td>2320986</td>\n",
       "      <td>BABA'S COFFEE</td>\n",
       "      <td>2423353</td>\n",
       "      <td>3</td>\n",
       "      <td>5544-5546 N KEDZIE AVE</td>\n",
       "      <td>60625</td>\n",
       "      <td>2019-11-01</td>\n",
       "      <td>Canvass</td>\n",
       "      <td>No Entry</td>\n",
       "      <td>NaN</td>\n",
       "      <td>41.982582</td>\n",
       "      <td>-87.708996</td>\n",
       "      <td>{'longitude': '41.98258181784537', 'latitude':...</td>\n",
       "      <td>restaurant</td>\n",
       "      <td>14</td>\n",
       "      <td>NaN</td>\n",
       "    </tr>\n",
       "    <tr>\n",
       "      <td>2320910</td>\n",
       "      <td>J.T.'S GENUINE SANDWICH</td>\n",
       "      <td>2689893</td>\n",
       "      <td>3</td>\n",
       "      <td>3970 N ELSTON AVE</td>\n",
       "      <td>60618</td>\n",
       "      <td>2019-11-01</td>\n",
       "      <td>License</td>\n",
       "      <td>Pass</td>\n",
       "      <td>51. PLUMBING INSTALLED; PROPER BACKFLOW DEVICE...</td>\n",
       "      <td>41.953378</td>\n",
       "      <td>-87.718848</td>\n",
       "      <td>{'longitude': '41.95337788158545', 'latitude':...</td>\n",
       "      <td>restaurant</td>\n",
       "      <td>22</td>\n",
       "      <td>[53, 58, 51]</td>\n",
       "    </tr>\n",
       "    <tr>\n",
       "      <td>2320904</td>\n",
       "      <td>KID'Z COLONY DAYCARE, INC.</td>\n",
       "      <td>2215609</td>\n",
       "      <td>3</td>\n",
       "      <td>6287 S ARCHER AVE</td>\n",
       "      <td>60638</td>\n",
       "      <td>2019-11-01</td>\n",
       "      <td>Canvass</td>\n",
       "      <td>Fail</td>\n",
       "      <td>16. FOOD-CONTACT SURFACES: CLEANED &amp; SANITIZED...</td>\n",
       "      <td>41.793235</td>\n",
       "      <td>-87.777776</td>\n",
       "      <td>{'longitude': '41.7932347787373', 'latitude': ...</td>\n",
       "      <td>daycare</td>\n",
       "      <td>64</td>\n",
       "      <td>[16]</td>\n",
       "    </tr>\n",
       "  </tbody>\n",
       "</table>\n",
       "</div>"
      ],
      "text/plain": [
       "                                       DBA Name  License  Risk  \\\n",
       "Inspection ID                                                    \n",
       "2320971        JUMPSTART EARLY LEARNING ACADEMY  2589822     3   \n",
       "2320918                               BEEFSTEAK  2698445     3   \n",
       "2320986                           BABA'S COFFEE  2423353     3   \n",
       "2320910                 J.T.'S GENUINE SANDWICH  2689893     3   \n",
       "2320904              KID'Z COLONY DAYCARE, INC.  2215609     3   \n",
       "\n",
       "                               Address    Zip Inspection Date Inspection Type  \\\n",
       "Inspection ID                                                                   \n",
       "2320971             7559 W ADDISON ST   60634      2019-11-01         Canvass   \n",
       "2320918             303 E SUPERIOR ST   60611      2019-11-01         License   \n",
       "2320986        5544-5546 N KEDZIE AVE   60625      2019-11-01         Canvass   \n",
       "2320910             3970 N ELSTON AVE   60618      2019-11-01         License   \n",
       "2320904             6287 S ARCHER AVE   60638      2019-11-01         Canvass   \n",
       "\n",
       "                          Results  \\\n",
       "Inspection ID                       \n",
       "2320971        Pass w/ Conditions   \n",
       "2320918                      Pass   \n",
       "2320986                  No Entry   \n",
       "2320910                      Pass   \n",
       "2320904                      Fail   \n",
       "\n",
       "                                                      Violations   Latitude  \\\n",
       "Inspection ID                                                                 \n",
       "2320971        5. PROCEDURES FOR RESPONDING TO VOMITING AND D...  41.945065   \n",
       "2320918        39. CONTAMINATION PREVENTED DURING FOOD PREPAR...  41.895692   \n",
       "2320986                                                      NaN  41.982582   \n",
       "2320910        51. PLUMBING INSTALLED; PROPER BACKFLOW DEVICE...  41.953378   \n",
       "2320904        16. FOOD-CONTACT SURFACES: CLEANED & SANITIZED...  41.793235   \n",
       "\n",
       "               Longitude                                           Location  \\\n",
       "Inspection ID                                                                 \n",
       "2320971       -87.816734  {'longitude': '41.945064857019986', 'latitude'...   \n",
       "2320918       -87.620143  {'longitude': '41.895692401410514', 'latitude'...   \n",
       "2320986       -87.708996  {'longitude': '41.98258181784537', 'latitude':...   \n",
       "2320910       -87.718848  {'longitude': '41.95337788158545', 'latitude':...   \n",
       "2320904       -87.777776  {'longitude': '41.7932347787373', 'latitude': ...   \n",
       "\n",
       "                   Facility Group Community Area NumberViolations  \n",
       "Inspection ID                                                      \n",
       "2320971        childrens_services             76      [10, 56, 5]  \n",
       "2320918                restaurant              8         [55, 39]  \n",
       "2320986                restaurant             14              NaN  \n",
       "2320910                restaurant             22     [53, 58, 51]  \n",
       "2320904                   daycare             64             [16]  "
      ]
     },
     "execution_count": 43,
     "metadata": {},
     "output_type": "execute_result"
    }
   ],
   "source": [
    "eat_seat = eat_seat.set_index(['Inspection ID']) #redifines the Index\n",
    "eat_seat.head()"
   ]
  },
  {
   "cell_type": "markdown",
   "metadata": {},
   "source": [
    "### 2.4 The Inspection Results"
   ]
  },
  {
   "cell_type": "code",
   "execution_count": 44,
   "metadata": {},
   "outputs": [
    {
     "data": {
      "text/plain": [
       "DBA Name                0\n",
       "License                 0\n",
       "Risk                    0\n",
       "Address                 0\n",
       "Zip                     0\n",
       "Inspection Date         0\n",
       "Inspection Type         1\n",
       "Results                 0\n",
       "Violations          51550\n",
       "Latitude              515\n",
       "Longitude             515\n",
       "Location              515\n",
       "Facility Group          0\n",
       "Community Area          0\n",
       "NumberViolations    51550\n",
       "dtype: int64"
      ]
     },
     "execution_count": 44,
     "metadata": {},
     "output_type": "execute_result"
    }
   ],
   "source": [
    "eat_seat.isnull().sum()"
   ]
  },
  {
   "cell_type": "markdown",
   "metadata": {},
   "source": [
    "We see that there are more than 50'000 rows where the Violations column is empty. We have to study wether those cells are empty because there were no violations (meaning the estalishment is healthy) or because the inspection was not successfull (meaning we can drop the row because it can not be used in our research)."
   ]
  },
  {
   "cell_type": "markdown",
   "metadata": {},
   "source": [
    "## \n",
    "\n",
    "## ****Our research is indeed based on the study of the correlation between the number of crimes in an area and the healthiness of the establishments there. Another question that we will investigate is wether the healthiness of establishments is correlated with the owner of those establishments (aka if every establishments of an unhealthy owner are unhealthy or not)**** ##\n",
    "\n",
    "##"
   ]
  },
  {
   "cell_type": "code",
   "execution_count": 45,
   "metadata": {},
   "outputs": [
    {
     "data": {
      "text/plain": [
       "array(['Pass w/ Conditions', 'Pass', 'No Entry', 'Fail',\n",
       "       'Out of Business', 'Not Ready', 'Business Not Located'],\n",
       "      dtype=object)"
      ]
     },
     "execution_count": 45,
     "metadata": {},
     "output_type": "execute_result"
    }
   ],
   "source": [
    "eat_seat.Results.unique()"
   ]
  },
  {
   "cell_type": "markdown",
   "metadata": {},
   "source": [
    "We create new databases for every entries of the column Results in order to study them."
   ]
  },
  {
   "cell_type": "code",
   "execution_count": 46,
   "metadata": {},
   "outputs": [],
   "source": [
    "noentry = eat_seat[eat_seat['Results']=='No Entry']"
   ]
  },
  {
   "cell_type": "code",
   "execution_count": 47,
   "metadata": {},
   "outputs": [],
   "source": [
    "outofbusiness = eat_seat[eat_seat['Results']=='Out of Business']"
   ]
  },
  {
   "cell_type": "code",
   "execution_count": 48,
   "metadata": {},
   "outputs": [],
   "source": [
    "notready = eat_seat[eat_seat['Results']=='Not Ready']"
   ]
  },
  {
   "cell_type": "code",
   "execution_count": 49,
   "metadata": {},
   "outputs": [],
   "source": [
    "businessnotlocated = eat_seat[eat_seat['Results']=='Business Not Located']"
   ]
  },
  {
   "cell_type": "code",
   "execution_count": 50,
   "metadata": {},
   "outputs": [],
   "source": [
    "passwithconditions = eat_seat[eat_seat['Results']=='Pass w/ Conditions']"
   ]
  },
  {
   "cell_type": "code",
   "execution_count": 51,
   "metadata": {},
   "outputs": [],
   "source": [
    "passed = eat_seat[eat_seat['Results']=='Pass']"
   ]
  },
  {
   "cell_type": "code",
   "execution_count": 52,
   "metadata": {},
   "outputs": [],
   "source": [
    "fail = eat_seat[eat_seat['Results']=='Fail']"
   ]
  },
  {
   "cell_type": "markdown",
   "metadata": {},
   "source": [
    "We investigate how many of each results' type has the column Violations empty."
   ]
  },
  {
   "cell_type": "code",
   "execution_count": 53,
   "metadata": {},
   "outputs": [],
   "source": [
    "results_dic = {'No Entry' : noentry, 'Out of Business' : outofbusiness, 'Not Ready' : notready,\\\n",
    "               'Business Not Located' : businessnotlocated, 'Pass With Conditions' : passwithconditions, 'Pass' : passed, 'Fail' : fail}"
   ]
  },
  {
   "cell_type": "code",
   "execution_count": 54,
   "metadata": {},
   "outputs": [
    {
     "name": "stdout",
     "output_type": "stream",
     "text": [
      "No Entry : 5768 empty Violation columns / 6199 columns = 0.9304726568801419 \n",
      "\n",
      "Out of Business : 16728 empty Violation columns / 16757 columns = 0.9982693799606135 \n",
      "\n",
      "Not Ready : 1799 empty Violation columns / 1849 columns = 0.9729583558680368 \n",
      "\n",
      "Business Not Located : 65 empty Violation columns / 65 columns = 1.0 \n",
      "\n",
      "Pass With Conditions : 444 empty Violation columns / 26847 columns = 0.016538160688345068 \n",
      "\n",
      "Pass : 23676 empty Violation columns / 105356 columns = 0.2247237936140324 \n",
      "\n",
      "Fail : 3070 empty Violation columns / 37656 columns = 0.08152751221584874 \n",
      "\n"
     ]
    }
   ],
   "source": [
    "for name, result in results_dic.items() :\n",
    "    print(name, ':', len(result[result['Violations'].isnull()]), 'empty Violation columns /', len(result),\\\n",
    "          'columns =', (len(result[result['Violations'].isnull()])/len(result)), '\\n')"
   ]
  },
  {
   "cell_type": "markdown",
   "metadata": {},
   "source": [
    "We see that almost every entries where the Result is either 'No entry', 'Out of Business', 'Not ready' or 'Business not located' have the Violations field empty. We can safely drop those lines because they are not pertinent for our research."
   ]
  },
  {
   "cell_type": "code",
   "execution_count": 55,
   "metadata": {},
   "outputs": [],
   "source": [
    "results = ['Pass', 'Pass w/ Conditions', 'Fail']"
   ]
  },
  {
   "cell_type": "code",
   "execution_count": 56,
   "metadata": {},
   "outputs": [
    {
     "data": {
      "text/plain": [
       "169859"
      ]
     },
     "execution_count": 56,
     "metadata": {},
     "output_type": "execute_result"
    }
   ],
   "source": [
    "eat_seat = eat_seat.loc[eat_seat['Results'].isin(results)]\n",
    "len(eat_seat)"
   ]
  },
  {
   "cell_type": "markdown",
   "metadata": {},
   "source": [
    "Now we have to take care of the cases where there is no Violations and the Result is either Pass, Fail or Pass with conditions.\n",
    "\n",
    "When the result is Pass and the Violation field is empty, we can add a empty list in the column \"NumberViolations\"."
   ]
  },
  {
   "cell_type": "code",
   "execution_count": 57,
   "metadata": {},
   "outputs": [
    {
     "data": {
      "text/html": [
       "<div>\n",
       "<style scoped>\n",
       "    .dataframe tbody tr th:only-of-type {\n",
       "        vertical-align: middle;\n",
       "    }\n",
       "\n",
       "    .dataframe tbody tr th {\n",
       "        vertical-align: top;\n",
       "    }\n",
       "\n",
       "    .dataframe thead th {\n",
       "        text-align: right;\n",
       "    }\n",
       "</style>\n",
       "<table border=\"1\" class=\"dataframe\">\n",
       "  <thead>\n",
       "    <tr style=\"text-align: right;\">\n",
       "      <th></th>\n",
       "      <th>DBA Name</th>\n",
       "      <th>License</th>\n",
       "      <th>Risk</th>\n",
       "      <th>Address</th>\n",
       "      <th>Zip</th>\n",
       "      <th>Inspection Date</th>\n",
       "      <th>Inspection Type</th>\n",
       "      <th>Results</th>\n",
       "      <th>Violations</th>\n",
       "      <th>Latitude</th>\n",
       "      <th>Longitude</th>\n",
       "      <th>Location</th>\n",
       "      <th>Facility Group</th>\n",
       "      <th>Community Area</th>\n",
       "      <th>NumberViolations</th>\n",
       "    </tr>\n",
       "    <tr>\n",
       "      <th>Inspection ID</th>\n",
       "      <th></th>\n",
       "      <th></th>\n",
       "      <th></th>\n",
       "      <th></th>\n",
       "      <th></th>\n",
       "      <th></th>\n",
       "      <th></th>\n",
       "      <th></th>\n",
       "      <th></th>\n",
       "      <th></th>\n",
       "      <th></th>\n",
       "      <th></th>\n",
       "      <th></th>\n",
       "      <th></th>\n",
       "      <th></th>\n",
       "    </tr>\n",
       "  </thead>\n",
       "  <tbody>\n",
       "    <tr>\n",
       "      <td>2320960</td>\n",
       "      <td>CARNICERIA Y TAQUERIA TIERRA</td>\n",
       "      <td>2428138</td>\n",
       "      <td>3</td>\n",
       "      <td>3312-3314 W NORTH AVE</td>\n",
       "      <td>60647</td>\n",
       "      <td>2019-11-01</td>\n",
       "      <td>Canvass Re-Inspection</td>\n",
       "      <td>Pass</td>\n",
       "      <td>NaN</td>\n",
       "      <td>41.910185</td>\n",
       "      <td>-87.709907</td>\n",
       "      <td>{'longitude': '41.91018535990397', 'latitude':...</td>\n",
       "      <td>Not listed</td>\n",
       "      <td>24</td>\n",
       "      <td>NaN</td>\n",
       "    </tr>\n",
       "    <tr>\n",
       "      <td>2320932</td>\n",
       "      <td>St. Mary of the Wood School</td>\n",
       "      <td>1878517</td>\n",
       "      <td>1</td>\n",
       "      <td>7033 N MOSELLE ST</td>\n",
       "      <td>60646</td>\n",
       "      <td>2019-11-01</td>\n",
       "      <td>Canvass</td>\n",
       "      <td>Pass</td>\n",
       "      <td>NaN</td>\n",
       "      <td>42.008345</td>\n",
       "      <td>-87.777039</td>\n",
       "      <td>{'longitude': '42.00834548005445', 'latitude':...</td>\n",
       "      <td>school</td>\n",
       "      <td>13</td>\n",
       "      <td>NaN</td>\n",
       "    </tr>\n",
       "    <tr>\n",
       "      <td>2320974</td>\n",
       "      <td>DO EAT</td>\n",
       "      <td>2492365</td>\n",
       "      <td>3</td>\n",
       "      <td>3141 S HALSTED ST</td>\n",
       "      <td>60608</td>\n",
       "      <td>2019-11-01</td>\n",
       "      <td>Complaint</td>\n",
       "      <td>Pass</td>\n",
       "      <td>NaN</td>\n",
       "      <td>41.836872</td>\n",
       "      <td>-87.646102</td>\n",
       "      <td>{'longitude': '41.836871979178554', 'latitude'...</td>\n",
       "      <td>restaurant</td>\n",
       "      <td>60</td>\n",
       "      <td>NaN</td>\n",
       "    </tr>\n",
       "    <tr>\n",
       "      <td>2320850</td>\n",
       "      <td>THE HOXTON, CHICAGO</td>\n",
       "      <td>2627738</td>\n",
       "      <td>1</td>\n",
       "      <td>200 N GREEN ST</td>\n",
       "      <td>60607</td>\n",
       "      <td>2019-10-31</td>\n",
       "      <td>License</td>\n",
       "      <td>Pass</td>\n",
       "      <td>NaN</td>\n",
       "      <td>41.885699</td>\n",
       "      <td>-87.648789</td>\n",
       "      <td>{'longitude': '41.885699197163355', 'latitude'...</td>\n",
       "      <td>restaurant</td>\n",
       "      <td>32</td>\n",
       "      <td>NaN</td>\n",
       "    </tr>\n",
       "    <tr>\n",
       "      <td>2320811</td>\n",
       "      <td>ANDHRADARBAR</td>\n",
       "      <td>2595253</td>\n",
       "      <td>3</td>\n",
       "      <td>2240-2242 W DEVON AVE</td>\n",
       "      <td>60659</td>\n",
       "      <td>2019-10-31</td>\n",
       "      <td>Complaint Re-Inspection</td>\n",
       "      <td>Pass</td>\n",
       "      <td>NaN</td>\n",
       "      <td>41.997897</td>\n",
       "      <td>-87.686586</td>\n",
       "      <td>{'longitude': '41.99789701348497', 'latitude':...</td>\n",
       "      <td>restaurant</td>\n",
       "      <td>13</td>\n",
       "      <td>NaN</td>\n",
       "    </tr>\n",
       "  </tbody>\n",
       "</table>\n",
       "</div>"
      ],
      "text/plain": [
       "                                   DBA Name  License  Risk  \\\n",
       "Inspection ID                                                \n",
       "2320960        CARNICERIA Y TAQUERIA TIERRA  2428138     3   \n",
       "2320932         St. Mary of the Wood School  1878517     1   \n",
       "2320974                              DO EAT  2492365     3   \n",
       "2320850                 THE HOXTON, CHICAGO  2627738     1   \n",
       "2320811                        ANDHRADARBAR  2595253     3   \n",
       "\n",
       "                              Address    Zip Inspection Date  \\\n",
       "Inspection ID                                                  \n",
       "2320960        3312-3314 W NORTH AVE   60647      2019-11-01   \n",
       "2320932            7033 N MOSELLE ST   60646      2019-11-01   \n",
       "2320974            3141 S HALSTED ST   60608      2019-11-01   \n",
       "2320850               200 N GREEN ST   60607      2019-10-31   \n",
       "2320811        2240-2242 W DEVON AVE   60659      2019-10-31   \n",
       "\n",
       "                       Inspection Type Results Violations   Latitude  \\\n",
       "Inspection ID                                                          \n",
       "2320960          Canvass Re-Inspection    Pass        NaN  41.910185   \n",
       "2320932                        Canvass    Pass        NaN  42.008345   \n",
       "2320974                      Complaint    Pass        NaN  41.836872   \n",
       "2320850                        License    Pass        NaN  41.885699   \n",
       "2320811        Complaint Re-Inspection    Pass        NaN  41.997897   \n",
       "\n",
       "               Longitude                                           Location  \\\n",
       "Inspection ID                                                                 \n",
       "2320960       -87.709907  {'longitude': '41.91018535990397', 'latitude':...   \n",
       "2320932       -87.777039  {'longitude': '42.00834548005445', 'latitude':...   \n",
       "2320974       -87.646102  {'longitude': '41.836871979178554', 'latitude'...   \n",
       "2320850       -87.648789  {'longitude': '41.885699197163355', 'latitude'...   \n",
       "2320811       -87.686586  {'longitude': '41.99789701348497', 'latitude':...   \n",
       "\n",
       "              Facility Group Community Area NumberViolations  \n",
       "Inspection ID                                                 \n",
       "2320960           Not listed             24              NaN  \n",
       "2320932               school             13              NaN  \n",
       "2320974           restaurant             60              NaN  \n",
       "2320850           restaurant             32              NaN  \n",
       "2320811           restaurant             13              NaN  "
      ]
     },
     "execution_count": 57,
     "metadata": {},
     "output_type": "execute_result"
    }
   ],
   "source": [
    "temp = eat_seat[eat_seat['Results'] == 'Pass']\n",
    "temp = temp[temp['Violations'].isnull()]\n",
    "temp.head()"
   ]
  },
  {
   "cell_type": "code",
   "execution_count": 58,
   "metadata": {},
   "outputs": [],
   "source": [
    "emptyliste = []\n",
    "for i in range (0, len(temp)) :\n",
    "    emptyliste.append(0)\n",
    "\n",
    "temp['NumberViolationEmpty'] = emptyliste"
   ]
  },
  {
   "cell_type": "code",
   "execution_count": 59,
   "metadata": {},
   "outputs": [
    {
     "data": {
      "text/html": [
       "<div>\n",
       "<style scoped>\n",
       "    .dataframe tbody tr th:only-of-type {\n",
       "        vertical-align: middle;\n",
       "    }\n",
       "\n",
       "    .dataframe tbody tr th {\n",
       "        vertical-align: top;\n",
       "    }\n",
       "\n",
       "    .dataframe thead th {\n",
       "        text-align: right;\n",
       "    }\n",
       "</style>\n",
       "<table border=\"1\" class=\"dataframe\">\n",
       "  <thead>\n",
       "    <tr style=\"text-align: right;\">\n",
       "      <th></th>\n",
       "      <th>DBA Name</th>\n",
       "      <th>License</th>\n",
       "      <th>Risk</th>\n",
       "      <th>Address</th>\n",
       "      <th>Zip</th>\n",
       "      <th>Inspection Date</th>\n",
       "      <th>Inspection Type</th>\n",
       "      <th>Results</th>\n",
       "      <th>Violations</th>\n",
       "      <th>Latitude</th>\n",
       "      <th>Longitude</th>\n",
       "      <th>Location</th>\n",
       "      <th>Facility Group</th>\n",
       "      <th>Community Area</th>\n",
       "      <th>NumberViolations</th>\n",
       "      <th>NumberViolationEmpty</th>\n",
       "    </tr>\n",
       "    <tr>\n",
       "      <th>Inspection ID</th>\n",
       "      <th></th>\n",
       "      <th></th>\n",
       "      <th></th>\n",
       "      <th></th>\n",
       "      <th></th>\n",
       "      <th></th>\n",
       "      <th></th>\n",
       "      <th></th>\n",
       "      <th></th>\n",
       "      <th></th>\n",
       "      <th></th>\n",
       "      <th></th>\n",
       "      <th></th>\n",
       "      <th></th>\n",
       "      <th></th>\n",
       "      <th></th>\n",
       "    </tr>\n",
       "  </thead>\n",
       "  <tbody>\n",
       "    <tr>\n",
       "      <td>2320960</td>\n",
       "      <td>CARNICERIA Y TAQUERIA TIERRA</td>\n",
       "      <td>2428138</td>\n",
       "      <td>3</td>\n",
       "      <td>3312-3314 W NORTH AVE</td>\n",
       "      <td>60647</td>\n",
       "      <td>2019-11-01</td>\n",
       "      <td>Canvass Re-Inspection</td>\n",
       "      <td>Pass</td>\n",
       "      <td>NaN</td>\n",
       "      <td>41.910185</td>\n",
       "      <td>-87.709907</td>\n",
       "      <td>{'longitude': '41.91018535990397', 'latitude':...</td>\n",
       "      <td>Not listed</td>\n",
       "      <td>24</td>\n",
       "      <td>NaN</td>\n",
       "      <td>0</td>\n",
       "    </tr>\n",
       "    <tr>\n",
       "      <td>2320932</td>\n",
       "      <td>St. Mary of the Wood School</td>\n",
       "      <td>1878517</td>\n",
       "      <td>1</td>\n",
       "      <td>7033 N MOSELLE ST</td>\n",
       "      <td>60646</td>\n",
       "      <td>2019-11-01</td>\n",
       "      <td>Canvass</td>\n",
       "      <td>Pass</td>\n",
       "      <td>NaN</td>\n",
       "      <td>42.008345</td>\n",
       "      <td>-87.777039</td>\n",
       "      <td>{'longitude': '42.00834548005445', 'latitude':...</td>\n",
       "      <td>school</td>\n",
       "      <td>13</td>\n",
       "      <td>NaN</td>\n",
       "      <td>0</td>\n",
       "    </tr>\n",
       "    <tr>\n",
       "      <td>2320974</td>\n",
       "      <td>DO EAT</td>\n",
       "      <td>2492365</td>\n",
       "      <td>3</td>\n",
       "      <td>3141 S HALSTED ST</td>\n",
       "      <td>60608</td>\n",
       "      <td>2019-11-01</td>\n",
       "      <td>Complaint</td>\n",
       "      <td>Pass</td>\n",
       "      <td>NaN</td>\n",
       "      <td>41.836872</td>\n",
       "      <td>-87.646102</td>\n",
       "      <td>{'longitude': '41.836871979178554', 'latitude'...</td>\n",
       "      <td>restaurant</td>\n",
       "      <td>60</td>\n",
       "      <td>NaN</td>\n",
       "      <td>0</td>\n",
       "    </tr>\n",
       "    <tr>\n",
       "      <td>2320850</td>\n",
       "      <td>THE HOXTON, CHICAGO</td>\n",
       "      <td>2627738</td>\n",
       "      <td>1</td>\n",
       "      <td>200 N GREEN ST</td>\n",
       "      <td>60607</td>\n",
       "      <td>2019-10-31</td>\n",
       "      <td>License</td>\n",
       "      <td>Pass</td>\n",
       "      <td>NaN</td>\n",
       "      <td>41.885699</td>\n",
       "      <td>-87.648789</td>\n",
       "      <td>{'longitude': '41.885699197163355', 'latitude'...</td>\n",
       "      <td>restaurant</td>\n",
       "      <td>32</td>\n",
       "      <td>NaN</td>\n",
       "      <td>0</td>\n",
       "    </tr>\n",
       "    <tr>\n",
       "      <td>2320811</td>\n",
       "      <td>ANDHRADARBAR</td>\n",
       "      <td>2595253</td>\n",
       "      <td>3</td>\n",
       "      <td>2240-2242 W DEVON AVE</td>\n",
       "      <td>60659</td>\n",
       "      <td>2019-10-31</td>\n",
       "      <td>Complaint Re-Inspection</td>\n",
       "      <td>Pass</td>\n",
       "      <td>NaN</td>\n",
       "      <td>41.997897</td>\n",
       "      <td>-87.686586</td>\n",
       "      <td>{'longitude': '41.99789701348497', 'latitude':...</td>\n",
       "      <td>restaurant</td>\n",
       "      <td>13</td>\n",
       "      <td>NaN</td>\n",
       "      <td>0</td>\n",
       "    </tr>\n",
       "  </tbody>\n",
       "</table>\n",
       "</div>"
      ],
      "text/plain": [
       "                                   DBA Name  License  Risk  \\\n",
       "Inspection ID                                                \n",
       "2320960        CARNICERIA Y TAQUERIA TIERRA  2428138     3   \n",
       "2320932         St. Mary of the Wood School  1878517     1   \n",
       "2320974                              DO EAT  2492365     3   \n",
       "2320850                 THE HOXTON, CHICAGO  2627738     1   \n",
       "2320811                        ANDHRADARBAR  2595253     3   \n",
       "\n",
       "                              Address    Zip Inspection Date  \\\n",
       "Inspection ID                                                  \n",
       "2320960        3312-3314 W NORTH AVE   60647      2019-11-01   \n",
       "2320932            7033 N MOSELLE ST   60646      2019-11-01   \n",
       "2320974            3141 S HALSTED ST   60608      2019-11-01   \n",
       "2320850               200 N GREEN ST   60607      2019-10-31   \n",
       "2320811        2240-2242 W DEVON AVE   60659      2019-10-31   \n",
       "\n",
       "                       Inspection Type Results Violations   Latitude  \\\n",
       "Inspection ID                                                          \n",
       "2320960          Canvass Re-Inspection    Pass        NaN  41.910185   \n",
       "2320932                        Canvass    Pass        NaN  42.008345   \n",
       "2320974                      Complaint    Pass        NaN  41.836872   \n",
       "2320850                        License    Pass        NaN  41.885699   \n",
       "2320811        Complaint Re-Inspection    Pass        NaN  41.997897   \n",
       "\n",
       "               Longitude                                           Location  \\\n",
       "Inspection ID                                                                 \n",
       "2320960       -87.709907  {'longitude': '41.91018535990397', 'latitude':...   \n",
       "2320932       -87.777039  {'longitude': '42.00834548005445', 'latitude':...   \n",
       "2320974       -87.646102  {'longitude': '41.836871979178554', 'latitude'...   \n",
       "2320850       -87.648789  {'longitude': '41.885699197163355', 'latitude'...   \n",
       "2320811       -87.686586  {'longitude': '41.99789701348497', 'latitude':...   \n",
       "\n",
       "              Facility Group Community Area NumberViolations  \\\n",
       "Inspection ID                                                  \n",
       "2320960           Not listed             24              NaN   \n",
       "2320932               school             13              NaN   \n",
       "2320974           restaurant             60              NaN   \n",
       "2320850           restaurant             32              NaN   \n",
       "2320811           restaurant             13              NaN   \n",
       "\n",
       "               NumberViolationEmpty  \n",
       "Inspection ID                        \n",
       "2320960                           0  \n",
       "2320932                           0  \n",
       "2320974                           0  \n",
       "2320850                           0  \n",
       "2320811                           0  "
      ]
     },
     "execution_count": 59,
     "metadata": {},
     "output_type": "execute_result"
    }
   ],
   "source": [
    "temp.head()"
   ]
  },
  {
   "cell_type": "code",
   "execution_count": 60,
   "metadata": {},
   "outputs": [
    {
     "data": {
      "text/html": [
       "<div>\n",
       "<style scoped>\n",
       "    .dataframe tbody tr th:only-of-type {\n",
       "        vertical-align: middle;\n",
       "    }\n",
       "\n",
       "    .dataframe tbody tr th {\n",
       "        vertical-align: top;\n",
       "    }\n",
       "\n",
       "    .dataframe thead th {\n",
       "        text-align: right;\n",
       "    }\n",
       "</style>\n",
       "<table border=\"1\" class=\"dataframe\">\n",
       "  <thead>\n",
       "    <tr style=\"text-align: right;\">\n",
       "      <th></th>\n",
       "      <th>NumberViolationEmpty</th>\n",
       "    </tr>\n",
       "    <tr>\n",
       "      <th>Inspection ID</th>\n",
       "      <th></th>\n",
       "    </tr>\n",
       "  </thead>\n",
       "  <tbody>\n",
       "    <tr>\n",
       "      <td>2320960</td>\n",
       "      <td>0</td>\n",
       "    </tr>\n",
       "    <tr>\n",
       "      <td>2320932</td>\n",
       "      <td>0</td>\n",
       "    </tr>\n",
       "    <tr>\n",
       "      <td>2320974</td>\n",
       "      <td>0</td>\n",
       "    </tr>\n",
       "    <tr>\n",
       "      <td>2320850</td>\n",
       "      <td>0</td>\n",
       "    </tr>\n",
       "    <tr>\n",
       "      <td>2320811</td>\n",
       "      <td>0</td>\n",
       "    </tr>\n",
       "  </tbody>\n",
       "</table>\n",
       "</div>"
      ],
      "text/plain": [
       "               NumberViolationEmpty\n",
       "Inspection ID                      \n",
       "2320960                           0\n",
       "2320932                           0\n",
       "2320974                           0\n",
       "2320850                           0\n",
       "2320811                           0"
      ]
     },
     "execution_count": 60,
     "metadata": {},
     "output_type": "execute_result"
    }
   ],
   "source": [
    "temp = temp[['NumberViolationEmpty']]\n",
    "temp.head()"
   ]
  },
  {
   "cell_type": "code",
   "execution_count": 61,
   "metadata": {},
   "outputs": [
    {
     "data": {
      "text/plain": [
       "169859"
      ]
     },
     "execution_count": 61,
     "metadata": {},
     "output_type": "execute_result"
    }
   ],
   "source": [
    "len(eat_seat)"
   ]
  },
  {
   "cell_type": "code",
   "execution_count": 62,
   "metadata": {},
   "outputs": [
    {
     "data": {
      "text/plain": [
       "23676"
      ]
     },
     "execution_count": 62,
     "metadata": {},
     "output_type": "execute_result"
    }
   ],
   "source": [
    "len(temp)"
   ]
  },
  {
   "cell_type": "code",
   "execution_count": 63,
   "metadata": {},
   "outputs": [],
   "source": [
    "eat_seat = pd.merge(eat_seat, temp, right_index = True, left_index = True, how = 'outer')"
   ]
  },
  {
   "cell_type": "code",
   "execution_count": 64,
   "metadata": {},
   "outputs": [
    {
     "data": {
      "text/html": [
       "<div>\n",
       "<style scoped>\n",
       "    .dataframe tbody tr th:only-of-type {\n",
       "        vertical-align: middle;\n",
       "    }\n",
       "\n",
       "    .dataframe tbody tr th {\n",
       "        vertical-align: top;\n",
       "    }\n",
       "\n",
       "    .dataframe thead th {\n",
       "        text-align: right;\n",
       "    }\n",
       "</style>\n",
       "<table border=\"1\" class=\"dataframe\">\n",
       "  <thead>\n",
       "    <tr style=\"text-align: right;\">\n",
       "      <th></th>\n",
       "      <th>DBA Name</th>\n",
       "      <th>License</th>\n",
       "      <th>Risk</th>\n",
       "      <th>Address</th>\n",
       "      <th>Zip</th>\n",
       "      <th>Inspection Date</th>\n",
       "      <th>Inspection Type</th>\n",
       "      <th>Results</th>\n",
       "      <th>Violations</th>\n",
       "      <th>Latitude</th>\n",
       "      <th>Longitude</th>\n",
       "      <th>Location</th>\n",
       "      <th>Facility Group</th>\n",
       "      <th>Community Area</th>\n",
       "      <th>NumberViolations</th>\n",
       "      <th>NumberViolationEmpty</th>\n",
       "    </tr>\n",
       "    <tr>\n",
       "      <th>Inspection ID</th>\n",
       "      <th></th>\n",
       "      <th></th>\n",
       "      <th></th>\n",
       "      <th></th>\n",
       "      <th></th>\n",
       "      <th></th>\n",
       "      <th></th>\n",
       "      <th></th>\n",
       "      <th></th>\n",
       "      <th></th>\n",
       "      <th></th>\n",
       "      <th></th>\n",
       "      <th></th>\n",
       "      <th></th>\n",
       "      <th></th>\n",
       "      <th></th>\n",
       "    </tr>\n",
       "  </thead>\n",
       "  <tbody>\n",
       "    <tr>\n",
       "      <td>44247</td>\n",
       "      <td>EAT A PITA</td>\n",
       "      <td>1222441</td>\n",
       "      <td>3</td>\n",
       "      <td>3155 N HALSTED ST</td>\n",
       "      <td>60657</td>\n",
       "      <td>2010-01-05</td>\n",
       "      <td>Complaint</td>\n",
       "      <td>Pass</td>\n",
       "      <td>30. FOOD IN ORIGINAL CONTAINER, PROPERLY LABEL...</td>\n",
       "      <td>41.939441</td>\n",
       "      <td>-87.649103</td>\n",
       "      <td>{'longitude': '41.93944115701468', 'latitude':...</td>\n",
       "      <td>restaurant</td>\n",
       "      <td>7</td>\n",
       "      <td>[32, 33, 34, 37, 41, 30]</td>\n",
       "      <td>NaN</td>\n",
       "    </tr>\n",
       "    <tr>\n",
       "      <td>44248</td>\n",
       "      <td>LA GONDOLA</td>\n",
       "      <td>1336561</td>\n",
       "      <td>3</td>\n",
       "      <td>2914 N ASHLAND AVE</td>\n",
       "      <td>60657</td>\n",
       "      <td>2010-01-21</td>\n",
       "      <td>Canvass</td>\n",
       "      <td>Pass</td>\n",
       "      <td>32. FOOD AND NON-FOOD CONTACT SURFACES PROPERL...</td>\n",
       "      <td>41.934679</td>\n",
       "      <td>-87.668625</td>\n",
       "      <td>{'longitude': '41.93467889167928', 'latitude':...</td>\n",
       "      <td>restaurant</td>\n",
       "      <td>7</td>\n",
       "      <td>[33, 38, 32]</td>\n",
       "      <td>NaN</td>\n",
       "    </tr>\n",
       "    <tr>\n",
       "      <td>44249</td>\n",
       "      <td>Azha Restaurant Inc.</td>\n",
       "      <td>1334073</td>\n",
       "      <td>3</td>\n",
       "      <td>960 W BELMONT AVE</td>\n",
       "      <td>60657</td>\n",
       "      <td>2010-01-21</td>\n",
       "      <td>Canvass Re-Inspection</td>\n",
       "      <td>Pass</td>\n",
       "      <td>35. WALLS, CEILINGS, ATTACHED EQUIPMENT CONSTR...</td>\n",
       "      <td>41.940027</td>\n",
       "      <td>-87.653811</td>\n",
       "      <td>{'longitude': '41.94002687624888', 'latitude':...</td>\n",
       "      <td>restaurant</td>\n",
       "      <td>7</td>\n",
       "      <td>[35]</td>\n",
       "      <td>NaN</td>\n",
       "    </tr>\n",
       "    <tr>\n",
       "      <td>44250</td>\n",
       "      <td>SAINT JOSEPH HOSPITAL</td>\n",
       "      <td>1144381</td>\n",
       "      <td>3</td>\n",
       "      <td>2900 N LAKE SHORE DR</td>\n",
       "      <td>60657</td>\n",
       "      <td>2010-02-09</td>\n",
       "      <td>Canvass</td>\n",
       "      <td>Pass</td>\n",
       "      <td>33. FOOD AND NON-FOOD CONTACT EQUIPMENT UTENSI...</td>\n",
       "      <td>41.934403</td>\n",
       "      <td>-87.636806</td>\n",
       "      <td>{'longitude': '41.93440298707838', 'latitude':...</td>\n",
       "      <td>adultcare</td>\n",
       "      <td>7</td>\n",
       "      <td>[34, 35, 40, 33]</td>\n",
       "      <td>NaN</td>\n",
       "    </tr>\n",
       "    <tr>\n",
       "      <td>44251</td>\n",
       "      <td>SAINT JOSEPH HOSPITAL</td>\n",
       "      <td>1144380</td>\n",
       "      <td>3</td>\n",
       "      <td>2900 N LAKE SHORE DR</td>\n",
       "      <td>60657</td>\n",
       "      <td>2010-02-09</td>\n",
       "      <td>Canvass</td>\n",
       "      <td>Pass</td>\n",
       "      <td>33. FOOD AND NON-FOOD CONTACT EQUIPMENT UTENSI...</td>\n",
       "      <td>41.934403</td>\n",
       "      <td>-87.636806</td>\n",
       "      <td>{'longitude': '41.93440298707838', 'latitude':...</td>\n",
       "      <td>adultcare</td>\n",
       "      <td>7</td>\n",
       "      <td>[34, 35, 40, 33]</td>\n",
       "      <td>NaN</td>\n",
       "    </tr>\n",
       "    <tr>\n",
       "      <td>...</td>\n",
       "      <td>...</td>\n",
       "      <td>...</td>\n",
       "      <td>...</td>\n",
       "      <td>...</td>\n",
       "      <td>...</td>\n",
       "      <td>...</td>\n",
       "      <td>...</td>\n",
       "      <td>...</td>\n",
       "      <td>...</td>\n",
       "      <td>...</td>\n",
       "      <td>...</td>\n",
       "      <td>...</td>\n",
       "      <td>...</td>\n",
       "      <td>...</td>\n",
       "      <td>...</td>\n",
       "      <td>...</td>\n",
       "    </tr>\n",
       "    <tr>\n",
       "      <td>54234</td>\n",
       "      <td>CHURCH'S CHICKEN # 577</td>\n",
       "      <td>1273264</td>\n",
       "      <td>2</td>\n",
       "      <td>431 N AUSTIN BLVD</td>\n",
       "      <td>60644</td>\n",
       "      <td>2010-01-22</td>\n",
       "      <td>Complaint</td>\n",
       "      <td>Pass</td>\n",
       "      <td>35. WALLS, CEILINGS, ATTACHED EQUIPMENT CONSTR...</td>\n",
       "      <td>41.887993</td>\n",
       "      <td>-87.774763</td>\n",
       "      <td>{'longitude': '41.887993114472906', 'latitude'...</td>\n",
       "      <td>restaurant</td>\n",
       "      <td>25</td>\n",
       "      <td>[38, 41, 35]</td>\n",
       "      <td>NaN</td>\n",
       "    </tr>\n",
       "    <tr>\n",
       "      <td>54235</td>\n",
       "      <td>QORNER FOODS</td>\n",
       "      <td>2013363</td>\n",
       "      <td>1</td>\n",
       "      <td>5556 W HARRISON ST</td>\n",
       "      <td>60644</td>\n",
       "      <td>2010-01-22</td>\n",
       "      <td>License</td>\n",
       "      <td>Fail</td>\n",
       "      <td>2. FACILITIES TO MAINTAIN PROPER TEMPERATURE -...</td>\n",
       "      <td>41.872948</td>\n",
       "      <td>-87.763772</td>\n",
       "      <td>{'longitude': '41.87294753276929', 'latitude':...</td>\n",
       "      <td>Not listed</td>\n",
       "      <td>25</td>\n",
       "      <td>[34, 35, 38, 41, 2]</td>\n",
       "      <td>NaN</td>\n",
       "    </tr>\n",
       "    <tr>\n",
       "      <td>54236</td>\n",
       "      <td>MADISON FOOD MART, INC</td>\n",
       "      <td>2014259</td>\n",
       "      <td>1</td>\n",
       "      <td>5402 W MADISON ST</td>\n",
       "      <td>60644</td>\n",
       "      <td>2010-01-25</td>\n",
       "      <td>License</td>\n",
       "      <td>Fail</td>\n",
       "      <td>2. FACILITIES TO MAINTAIN PROPER TEMPERATURE -...</td>\n",
       "      <td>41.880416</td>\n",
       "      <td>-87.760279</td>\n",
       "      <td>{'longitude': '41.88041576281324', 'latitude':...</td>\n",
       "      <td>Not listed</td>\n",
       "      <td>25</td>\n",
       "      <td>[18, 34, 35, 37, 2]</td>\n",
       "      <td>NaN</td>\n",
       "    </tr>\n",
       "    <tr>\n",
       "      <td>54237</td>\n",
       "      <td>MORE FOR LESS</td>\n",
       "      <td>1948557</td>\n",
       "      <td>2</td>\n",
       "      <td>4851 W CHICAGO AVE</td>\n",
       "      <td>60651</td>\n",
       "      <td>2010-01-25</td>\n",
       "      <td>Complaint</td>\n",
       "      <td>Pass</td>\n",
       "      <td>38. VENTILATION: ROOMS AND EQUIPMENT VENTED AS...</td>\n",
       "      <td>41.894878</td>\n",
       "      <td>-87.747830</td>\n",
       "      <td>{'longitude': '41.89487824738007', 'latitude':...</td>\n",
       "      <td>Not listed</td>\n",
       "      <td>25</td>\n",
       "      <td>[41, 38]</td>\n",
       "      <td>NaN</td>\n",
       "    </tr>\n",
       "    <tr>\n",
       "      <td>54238</td>\n",
       "      <td>SWAN'S FOOD &amp; DELI</td>\n",
       "      <td>1646850</td>\n",
       "      <td>2</td>\n",
       "      <td>1325 N CENTRAL AVE</td>\n",
       "      <td>60651</td>\n",
       "      <td>2010-01-26</td>\n",
       "      <td>Canvass</td>\n",
       "      <td>Pass</td>\n",
       "      <td>37. TOILET ROOM DOORS SELF CLOSING: DRESSING R...</td>\n",
       "      <td>41.904810</td>\n",
       "      <td>-87.765604</td>\n",
       "      <td>{'longitude': '41.904810358201594', 'latitude'...</td>\n",
       "      <td>Not listed</td>\n",
       "      <td>25</td>\n",
       "      <td>[41, 37]</td>\n",
       "      <td>NaN</td>\n",
       "    </tr>\n",
       "  </tbody>\n",
       "</table>\n",
       "<p>100 rows × 16 columns</p>\n",
       "</div>"
      ],
      "text/plain": [
       "                             DBA Name  License  Risk                Address  \\\n",
       "Inspection ID                                                                 \n",
       "44247                      EAT A PITA  1222441     3     3155 N HALSTED ST    \n",
       "44248                      LA GONDOLA  1336561     3    2914 N ASHLAND AVE    \n",
       "44249            Azha Restaurant Inc.  1334073     3     960 W BELMONT AVE    \n",
       "44250           SAINT JOSEPH HOSPITAL  1144381     3  2900 N LAKE SHORE DR    \n",
       "44251           SAINT JOSEPH HOSPITAL  1144380     3  2900 N LAKE SHORE DR    \n",
       "...                               ...      ...   ...                    ...   \n",
       "54234          CHURCH'S CHICKEN # 577  1273264     2     431 N AUSTIN BLVD    \n",
       "54235                    QORNER FOODS  2013363     1    5556 W HARRISON ST    \n",
       "54236          MADISON FOOD MART, INC  2014259     1     5402 W MADISON ST    \n",
       "54237                   MORE FOR LESS  1948557     2    4851 W CHICAGO AVE    \n",
       "54238              SWAN'S FOOD & DELI  1646850     2    1325 N CENTRAL AVE    \n",
       "\n",
       "                 Zip Inspection Date        Inspection Type Results  \\\n",
       "Inspection ID                                                         \n",
       "44247          60657      2010-01-05              Complaint    Pass   \n",
       "44248          60657      2010-01-21                Canvass    Pass   \n",
       "44249          60657      2010-01-21  Canvass Re-Inspection    Pass   \n",
       "44250          60657      2010-02-09                Canvass    Pass   \n",
       "44251          60657      2010-02-09                Canvass    Pass   \n",
       "...              ...             ...                    ...     ...   \n",
       "54234          60644      2010-01-22              Complaint    Pass   \n",
       "54235          60644      2010-01-22                License    Fail   \n",
       "54236          60644      2010-01-25                License    Fail   \n",
       "54237          60651      2010-01-25              Complaint    Pass   \n",
       "54238          60651      2010-01-26                Canvass    Pass   \n",
       "\n",
       "                                                      Violations   Latitude  \\\n",
       "Inspection ID                                                                 \n",
       "44247          30. FOOD IN ORIGINAL CONTAINER, PROPERLY LABEL...  41.939441   \n",
       "44248          32. FOOD AND NON-FOOD CONTACT SURFACES PROPERL...  41.934679   \n",
       "44249          35. WALLS, CEILINGS, ATTACHED EQUIPMENT CONSTR...  41.940027   \n",
       "44250          33. FOOD AND NON-FOOD CONTACT EQUIPMENT UTENSI...  41.934403   \n",
       "44251          33. FOOD AND NON-FOOD CONTACT EQUIPMENT UTENSI...  41.934403   \n",
       "...                                                          ...        ...   \n",
       "54234          35. WALLS, CEILINGS, ATTACHED EQUIPMENT CONSTR...  41.887993   \n",
       "54235          2. FACILITIES TO MAINTAIN PROPER TEMPERATURE -...  41.872948   \n",
       "54236          2. FACILITIES TO MAINTAIN PROPER TEMPERATURE -...  41.880416   \n",
       "54237          38. VENTILATION: ROOMS AND EQUIPMENT VENTED AS...  41.894878   \n",
       "54238          37. TOILET ROOM DOORS SELF CLOSING: DRESSING R...  41.904810   \n",
       "\n",
       "               Longitude                                           Location  \\\n",
       "Inspection ID                                                                 \n",
       "44247         -87.649103  {'longitude': '41.93944115701468', 'latitude':...   \n",
       "44248         -87.668625  {'longitude': '41.93467889167928', 'latitude':...   \n",
       "44249         -87.653811  {'longitude': '41.94002687624888', 'latitude':...   \n",
       "44250         -87.636806  {'longitude': '41.93440298707838', 'latitude':...   \n",
       "44251         -87.636806  {'longitude': '41.93440298707838', 'latitude':...   \n",
       "...                  ...                                                ...   \n",
       "54234         -87.774763  {'longitude': '41.887993114472906', 'latitude'...   \n",
       "54235         -87.763772  {'longitude': '41.87294753276929', 'latitude':...   \n",
       "54236         -87.760279  {'longitude': '41.88041576281324', 'latitude':...   \n",
       "54237         -87.747830  {'longitude': '41.89487824738007', 'latitude':...   \n",
       "54238         -87.765604  {'longitude': '41.904810358201594', 'latitude'...   \n",
       "\n",
       "              Facility Group Community Area          NumberViolations  \\\n",
       "Inspection ID                                                           \n",
       "44247             restaurant              7  [32, 33, 34, 37, 41, 30]   \n",
       "44248             restaurant              7              [33, 38, 32]   \n",
       "44249             restaurant              7                      [35]   \n",
       "44250              adultcare              7          [34, 35, 40, 33]   \n",
       "44251              adultcare              7          [34, 35, 40, 33]   \n",
       "...                      ...            ...                       ...   \n",
       "54234             restaurant             25              [38, 41, 35]   \n",
       "54235             Not listed             25       [34, 35, 38, 41, 2]   \n",
       "54236             Not listed             25       [18, 34, 35, 37, 2]   \n",
       "54237             Not listed             25                  [41, 38]   \n",
       "54238             Not listed             25                  [41, 37]   \n",
       "\n",
       "               NumberViolationEmpty  \n",
       "Inspection ID                        \n",
       "44247                           NaN  \n",
       "44248                           NaN  \n",
       "44249                           NaN  \n",
       "44250                           NaN  \n",
       "44251                           NaN  \n",
       "...                             ...  \n",
       "54234                           NaN  \n",
       "54235                           NaN  \n",
       "54236                           NaN  \n",
       "54237                           NaN  \n",
       "54238                           NaN  \n",
       "\n",
       "[100 rows x 16 columns]"
      ]
     },
     "execution_count": 64,
     "metadata": {},
     "output_type": "execute_result"
    }
   ],
   "source": [
    "eat_seat.head(100)"
   ]
  },
  {
   "cell_type": "code",
   "execution_count": 66,
   "metadata": {},
   "outputs": [],
   "source": [
    "eat_seat['TotViolations'] = eat_seat['NumberViolations'] + eat_seat['NumberViolationEmpty']"
   ]
  },
  {
   "cell_type": "code",
   "execution_count": null,
   "metadata": {},
   "outputs": [],
   "source": [
    "#eat_seat.head() CA JOUE PAS MAIS L'IDEE EST LA"
   ]
  },
  {
   "cell_type": "code",
   "execution_count": null,
   "metadata": {},
   "outputs": [],
   "source": [
    "eat_seat[eat_seat.index.isin(temp.index)]['NumberViolations']"
   ]
  },
  {
   "cell_type": "markdown",
   "metadata": {},
   "source": [
    "When the result is either Fail or Pass with conditions but the Violations field is empty, we will drop those rows because there are missing values. An establishment can indeed not fail an inspection or receive conditions when no violation is found, those entries make no sense and can not be taken into account in our research."
   ]
  },
  {
   "cell_type": "code",
   "execution_count": null,
   "metadata": {},
   "outputs": [],
   "source": []
  },
  {
   "cell_type": "code",
   "execution_count": null,
   "metadata": {},
   "outputs": [],
   "source": []
  },
  {
   "cell_type": "code",
   "execution_count": null,
   "metadata": {},
   "outputs": [],
   "source": []
  },
  {
   "cell_type": "code",
   "execution_count": null,
   "metadata": {},
   "outputs": [],
   "source": []
  },
  {
   "cell_type": "markdown",
   "metadata": {},
   "source": [
    "### 3. Computation of an healthiness score per facility"
   ]
  },
  {
   "cell_type": "code",
   "execution_count": null,
   "metadata": {},
   "outputs": [],
   "source": [
    "#keeping just one occurence of License\n",
    "df_restaurants = eat_seat.drop_duplicates(subset=['License'])\n",
    "df_restaurants.head()"
   ]
  },
  {
   "cell_type": "code",
   "execution_count": null,
   "metadata": {},
   "outputs": [],
   "source": [
    "df_restaurants = df_restaurants.set_index(['License']) #redifines the Index"
   ]
  },
  {
   "cell_type": "code",
   "execution_count": null,
   "metadata": {},
   "outputs": [],
   "source": [
    "df_restaurants.head()"
   ]
  },
  {
   "cell_type": "code",
   "execution_count": null,
   "metadata": {},
   "outputs": [],
   "source": [
    "#drop useless columns\n",
    "df_restaurants = df_restaurants.drop(columns = ['Inspection Date', 'Inspection Type', 'Results', 'NumberViolations'])\n",
    "df_restaurants.head()"
   ]
  },
  {
   "cell_type": "markdown",
   "metadata": {},
   "source": [
    "Now we have a dataframe with every facility listed in our preprocessed database. We want to create two columns, one containing how many times the facility has been inspected, and one containing every violation of this facility. "
   ]
  },
  {
   "cell_type": "code",
   "execution_count": null,
   "metadata": {},
   "outputs": [],
   "source": [
    "#compute the number of inspections in the primary dataset per license number\n",
    "\n",
    "dic = {}\n",
    "\n",
    "for license in df_restaurants.index :\n",
    "    score = len(eat_seat[eat_seat['License'] == license])\n",
    "    dic[license] = score"
   ]
  },
  {
   "cell_type": "code",
   "execution_count": null,
   "metadata": {},
   "outputs": [],
   "source": [
    "#add this number in the new database\n",
    "df_restaurants['NumberOfInspections'] = dic.values()"
   ]
  },
  {
   "cell_type": "code",
   "execution_count": null,
   "metadata": {},
   "outputs": [],
   "source": [
    "df_restaurants.head()"
   ]
  },
  {
   "cell_type": "code",
   "execution_count": null,
   "metadata": {},
   "outputs": [],
   "source": [
    "#create a dic with key = licenses and values = list of every violations per license\n",
    "dic = {}\n",
    "\n",
    "for license in df_restaurants.index :\n",
    "    liste = []\n",
    "    inspections = eat_seat['NumberViolations'][eat_seat['License'] == license]\n",
    "    for inspection in inspections :\n",
    "        for violation in inspection :\n",
    "            liste.append(violation)\n",
    "    dic[license] = liste"
   ]
  },
  {
   "cell_type": "code",
   "execution_count": null,
   "metadata": {},
   "outputs": [],
   "source": [
    "#add it to the dataframe\n",
    "df_restaurants['TotalViolations'] = dic.values()"
   ]
  },
  {
   "cell_type": "code",
   "execution_count": null,
   "metadata": {},
   "outputs": [],
   "source": [
    "df_restaurants.head()"
   ]
  },
  {
   "cell_type": "code",
   "execution_count": null,
   "metadata": {},
   "outputs": [],
   "source": [
    "#only keep the two new columns\n",
    "df_restaurants = df_restaurants.drop(columns = ['DBA Name', 'Risk', 'Address', 'Zip', 'Latitude', 'Longitude', 'Facility Group', 'Community Area'])\n",
    "df_restaurants.head()"
   ]
  },
  {
   "cell_type": "markdown",
   "metadata": {},
   "source": [
    "Another step would be to add a ponderation to the violations depending on the gravity of the violation but it will maybe be done later. For now, we compute the score of a facility by multiplicating the number of violations by the number of inspections :"
   ]
  },
  {
   "cell_type": "code",
   "execution_count": null,
   "metadata": {},
   "outputs": [],
   "source": [
    "df_restaurants['score'] = df_restaurants.apply(lambda x : x['NumberOfInspections'] * len(x['TotalViolations']))\n",
    "df_restaurants"
   ]
  },
  {
   "cell_type": "code",
   "execution_count": null,
   "metadata": {},
   "outputs": [],
   "source": [
    "eat_seat = pd.merge(eat_seat, df_restaurants, how='left', on='License', left_index=True, right_index=False)"
   ]
  },
  {
   "cell_type": "code",
   "execution_count": null,
   "metadata": {},
   "outputs": [],
   "source": [
    "eat_seat.head()"
   ]
  },
  {
   "cell_type": "markdown",
   "metadata": {},
   "source": [
    "### 4.1 Additional Dataset - BUSINESS LICENSES/OWNERS\n",
    "\n",
    "We found two datasets on Kaggle gathering the business licenses and the business owners of Chicago. It could be interesting to observe the results of different establishments owned by the same person."
   ]
  },
  {
   "cell_type": "markdown",
   "metadata": {},
   "source": [
    "### A) Business Licenses\n",
    "\n",
    "The first dataset contains the details about every licensed establishments. There are a lot of columns but the only ones interesting us are :\n",
    "- the `license id` column to have a link with the *chicago food inspections* dataset\n",
    "- the `account number` column to have a link with the *business owners* dataset\n",
    "- the `police district` column in case we want to have a link with the *crime* dataset"
   ]
  },
  {
   "cell_type": "code",
   "execution_count": null,
   "metadata": {},
   "outputs": [],
   "source": [
    "licenses = pd.read_csv('business-licenses.csv', sep=',') #creation of the dataframe\n",
    "licenses = licenses.rename(str.lower, axis='columns')\n",
    "licenses = licenses.drop(columns = ['city', 'state', 'id', 'precinct', 'ward precinct', 'business activity id',\\\n",
    "                                'license number', 'application type', 'application created date',\\\n",
    "                                'application requirements complete', 'payment date', 'conditional approval',\\\n",
    "                                'license term start date', 'license term expiration date', 'license approved for issuance',\\\n",
    "                                'date issued', 'license status', 'license status change date', 'ssa',\\\n",
    "                                'historical wards 2003-2015', 'zip codes', 'wards', 'census tracts', 'location',\\\n",
    "                                'license code', 'license description', 'business activity', 'site number',\\\n",
    "                               'zip code', 'latitude', 'longitude', 'address', 'legal name', 'doing business as name',\\\n",
    "                                'community areas', 'ward'])\n",
    "licenses['police district'] = licenses['police district'].apply(clean_float) \n",
    "\n",
    "licenses.head(3)"
   ]
  },
  {
   "cell_type": "code",
   "execution_count": null,
   "metadata": {},
   "outputs": [],
   "source": [
    "licenses = licenses.set_index('account number')\n",
    "licenses.head(3)"
   ]
  },
  {
   "cell_type": "code",
   "execution_count": null,
   "metadata": {},
   "outputs": [],
   "source": [
    "print(len(licenses.index))"
   ]
  },
  {
   "cell_type": "markdown",
   "metadata": {},
   "source": [
    "### B) Business Owners\n",
    "\n",
    "The second dataset contains the details about every license owners. We have decided to keep the following columns :\n",
    "- the `account number` column to have a link with the *business licenses* dataset\n",
    "- the `owner first name` and the `owner last name` columns in order to create a `full name` column"
   ]
  },
  {
   "cell_type": "code",
   "execution_count": null,
   "metadata": {},
   "outputs": [],
   "source": [
    "owners = pd.read_csv('business-owners.csv',sep=',') #creation of the dataframe\n",
    "owners = owners.rename(str.lower, axis='columns')\n",
    "owners = owners.drop(columns = ['suffix', 'legal entity owner', 'owner middle initial', 'legal name', 'title'])\n",
    "owners.head(3)"
   ]
  },
  {
   "cell_type": "code",
   "execution_count": null,
   "metadata": {},
   "outputs": [],
   "source": [
    "owners['full name'] = owners['owner first name'] + ' ' + owners['owner last name']\n",
    "owners = owners.drop(columns = ['owner first name', 'owner last name'])"
   ]
  },
  {
   "cell_type": "markdown",
   "metadata": {},
   "source": [
    "A `full name` column is enough for the needs that we have to link the licenses to the owners."
   ]
  },
  {
   "cell_type": "code",
   "execution_count": null,
   "metadata": {},
   "outputs": [],
   "source": [
    "owners.head(3)"
   ]
  },
  {
   "cell_type": "code",
   "execution_count": null,
   "metadata": {},
   "outputs": [],
   "source": [
    "len(owners['account number'].unique())"
   ]
  },
  {
   "cell_type": "code",
   "execution_count": null,
   "metadata": {},
   "outputs": [],
   "source": [
    "len(owners['full name'].unique())"
   ]
  },
  {
   "cell_type": "markdown",
   "metadata": {},
   "source": [
    "Here we can see that the number of accounts is not the same that the number of full names. For now, we will consider that a same account can be shared by several people (for example, it could be the case for partners owning a business together)."
   ]
  },
  {
   "cell_type": "code",
   "execution_count": null,
   "metadata": {},
   "outputs": [],
   "source": [
    "owners = pd.DataFrame(owners.groupby('account number')['full name'].apply(list))"
   ]
  },
  {
   "cell_type": "code",
   "execution_count": null,
   "metadata": {},
   "outputs": [],
   "source": [
    "owners.head()"
   ]
  },
  {
   "cell_type": "markdown",
   "metadata": {},
   "source": [
    "We can observe that the lists of the `full name` column contain duplicates and 'nan' values. A function *clean_list* can be defined to clean them."
   ]
  },
  {
   "cell_type": "code",
   "execution_count": null,
   "metadata": {},
   "outputs": [],
   "source": [
    "def clean_list(liste) :\n",
    "    cleaned = []\n",
    "    for element in liste :\n",
    "        if type(element) == str and element not in cleaned :\n",
    "            cleaned.append(element)\n",
    "    return cleaned"
   ]
  },
  {
   "cell_type": "code",
   "execution_count": null,
   "metadata": {},
   "outputs": [],
   "source": [
    "owners['full name'] = owners['full name'].apply(clean_list)"
   ]
  },
  {
   "cell_type": "code",
   "execution_count": null,
   "metadata": {},
   "outputs": [],
   "source": [
    "owners.head()"
   ]
  },
  {
   "cell_type": "markdown",
   "metadata": {},
   "source": [
    "### C) Business Licenses-Owners\n",
    "\n",
    "Setting both the indexes of the *licenses* and the *owners* dataframes we can now merge them together."
   ]
  },
  {
   "cell_type": "code",
   "execution_count": null,
   "metadata": {},
   "outputs": [],
   "source": [
    "business = pd.merge(licenses, owners, right_index = True, left_index = True)"
   ]
  },
  {
   "cell_type": "code",
   "execution_count": null,
   "metadata": {},
   "outputs": [],
   "source": [
    "business.head()"
   ]
  },
  {
   "cell_type": "code",
   "execution_count": null,
   "metadata": {},
   "outputs": [],
   "source": [
    "business.reset_index(level=0, inplace=True)"
   ]
  },
  {
   "cell_type": "code",
   "execution_count": null,
   "metadata": {},
   "outputs": [],
   "source": [
    "business.head()"
   ]
  },
  {
   "cell_type": "markdown",
   "metadata": {},
   "source": [
    "### D) Second Main Dataframe\n",
    "\n",
    "Setting both the indexes of the *business* and the *eat_seat* dataframes we can now merge them together."
   ]
  },
  {
   "cell_type": "code",
   "execution_count": null,
   "metadata": {},
   "outputs": [],
   "source": [
    "business = business.rename(columns= {'license id' : 'License'})\n",
    "business = business.set_index('License')\n",
    "\n",
    "eat_seat = eat_seat.set_index('License')"
   ]
  },
  {
   "cell_type": "code",
   "execution_count": null,
   "metadata": {},
   "outputs": [],
   "source": [
    "eat_seat_2 = pd.merge(eat_seat, business, right_index = True, left_index = True)"
   ]
  },
  {
   "cell_type": "code",
   "execution_count": null,
   "metadata": {},
   "outputs": [],
   "source": [
    "eat_seat_2.head()"
   ]
  },
  {
   "cell_type": "code",
   "execution_count": null,
   "metadata": {},
   "outputs": [],
   "source": [
    "eat_seat_2.to_csv('newfood.csv')"
   ]
  },
  {
   "cell_type": "code",
   "execution_count": null,
   "metadata": {},
   "outputs": [],
   "source": []
  },
  {
   "cell_type": "code",
   "execution_count": null,
   "metadata": {},
   "outputs": [],
   "source": []
  },
  {
   "cell_type": "code",
   "execution_count": null,
   "metadata": {},
   "outputs": [],
   "source": []
  },
  {
   "cell_type": "markdown",
   "metadata": {},
   "source": [
    "### 4.2 Additional Dataset - CRIME "
   ]
  },
  {
   "cell_type": "markdown",
   "metadata": {},
   "source": [
    "## looking at the dataset and modify it"
   ]
  },
  {
   "cell_type": "code",
   "execution_count": null,
   "metadata": {},
   "outputs": [],
   "source": [
    "crime_2001_2004 = pd.read_csv('Chicago_Crimes_2001_to_2004.csv', error_bad_lines=False)"
   ]
  },
  {
   "cell_type": "code",
   "execution_count": null,
   "metadata": {},
   "outputs": [],
   "source": [
    "crime_2005_2007 = pd.read_csv('Chicago_Crimes_2005_to_2007.csv', error_bad_lines=False)"
   ]
  },
  {
   "cell_type": "code",
   "execution_count": null,
   "metadata": {},
   "outputs": [],
   "source": [
    "crime_2008_2011 = pd.read_csv('Chicago_Crimes_2008_to_2011.csv', error_bad_lines=False)"
   ]
  },
  {
   "cell_type": "code",
   "execution_count": null,
   "metadata": {},
   "outputs": [],
   "source": [
    "crime_2012_2017 = pd.read_csv('Chicago_Crimes_2012_to_2017.csv', error_bad_lines=False)"
   ]
  },
  {
   "cell_type": "markdown",
   "metadata": {},
   "source": [
    "These 4 cells load the data taken from kaggle in a panda DataFrame"
   ]
  },
  {
   "cell_type": "code",
   "execution_count": null,
   "metadata": {},
   "outputs": [],
   "source": [
    "crime = crime_2001_2004.append(crime_2005_2007).append(crime_2008_2011).append(crime_2012_2017)\n",
    "\n",
    "crime.head()"
   ]
  },
  {
   "cell_type": "markdown",
   "metadata": {},
   "source": [
    "This cell is uniting all the data in a single DataFrame to make the data cleaning easier"
   ]
  },
  {
   "cell_type": "code",
   "execution_count": null,
   "metadata": {},
   "outputs": [],
   "source": [
    "crime = crime.drop(['Unnamed: 0','Case Number','IUCR','Arrest', 'Domestic','FBI Code','X Coordinate','Y Coordinate','Updated On', 'Location Description'], axis=1)\n",
    "\n",
    "crime.head()"
   ]
  },
  {
   "cell_type": "markdown",
   "metadata": {},
   "source": [
    "Here the columns that are not useful for our analysis are dropped"
   ]
  },
  {
   "cell_type": "code",
   "execution_count": null,
   "metadata": {},
   "outputs": [],
   "source": [
    "Block_map = []\n",
    "for x in crime['Block'] :\n",
    "    y =x.replace('XX','00')\n",
    "    Block_map.append(y)"
   ]
  },
  {
   "cell_type": "markdown",
   "metadata": {},
   "source": [
    "The Adress under the `Block` column are anonimized with the XX at the end of the adress number. We'll use the adress for our map so this is a problem. We can't have the exact adress, so we make the aproximation of using the 00 adress instead of the XX. This is not exact but will give an approximative location of where the crimes where comitted."
   ]
  },
  {
   "cell_type": "code",
   "execution_count": null,
   "metadata": {},
   "outputs": [],
   "source": [
    "crime['Block_mapable'] = Block_map\n",
    "\n",
    "crime.head()"
   ]
  },
  {
   "cell_type": "markdown",
   "metadata": {},
   "source": [
    "The new Serie created with the 00 instead of the XX is load in the DataFrame"
   ]
  },
  {
   "cell_type": "code",
   "execution_count": null,
   "metadata": {},
   "outputs": [],
   "source": [
    "for x in crime.columns :\n",
    "    print(x + ' : ' + str(crime[x].isnull().values.any()) + ' --> ' + str(crime[x].isnull().sum()))"
   ]
  },
  {
   "cell_type": "markdown",
   "metadata": {},
   "source": [
    "Here we are looking at missing data, to see there number and position, and hen be able to find a way to deal with them.\n",
    "\n",
    "We can see that most of the missing data are set in the `Ward`and `Community Area` columns.\n",
    "\n",
    "Most of the missing data are set in the location part of the data\n",
    "\n",
    "By now, we keep all the data and we will see later if we have to deal with missing values (maybe for the map)."
   ]
  },
  {
   "cell_type": "code",
   "execution_count": null,
   "metadata": {},
   "outputs": [],
   "source": [
    "print(set(crime['Primary Type']))"
   ]
  },
  {
   "cell_type": "markdown",
   "metadata": {},
   "source": [
    "We print all the Primary Types of crimes to create a dictionary with every crime type keyed with the minimal number of year of prison that someone risk when commiting this crime. More details below"
   ]
  },
  {
   "cell_type": "code",
   "execution_count": null,
   "metadata": {},
   "outputs": [],
   "source": [
    "crime_penalty = {'PROSTITUTION' : 1, 'DOMESTIC VIOLENCE' : 1, 'MOTOR VEHICLE THEFT' : 3, 'ASSAULT' : 1, 'OFFENSE INVOLVING CHILDREN' : 1,\\\n",
    "                 'RITUALISM' : 1, 'BATTERY' : 1, 'CRIM SEXUAL ASSAULT' : 4, 'GAMBLING' : 1,\\\n",
    "                 'PUBLIC INDECENCY' : 1, 'OTHER OFFENSE' : 1, 'LIQUOR LAW VIOLATION' : 1, 'OTHER NARCOTIC VIOLATION' : 1, 'OBSCENITY' : 1,\\\n",
    "                 'NON-CRIMINAL' : 1, 'KIDNAPPING' : 3, 'HOMICIDE' : 20, 'NARCOTICS' : 1, 'ARSON' : 6, 'DECEPTIVE PRACTICE' : 1, 'ROBBERY' : 3,\\\n",
    "                 'BURGLARY' : 3, 'INTIMIDATION' : 2, 'HUMAN TRAFFICKING' : 4, 'SEX OFFENSE' : 4, 'CRIMINAL TRESPASS' : 1,\\\n",
    "                 'CONCEALED CARRY LICENSE VIOLATION' : 2, 'CRIMINAL DAMAGE' : 1, 'INTERFERENCE WITH PUBLIC OFFICER' : 1, 'PUBLIC PEACE VIOLATION' : 1,\\\n",
    "                 'WEAPONS VIOLATION' : 1, 'THEFT' : 1, 'STALKING' : 1}"
   ]
  },
  {
   "cell_type": "markdown",
   "metadata": {},
   "source": [
    "To make the crime_penalty dict, we look for each crime type what is the minimum prison penalty (in year). For the crime where the penalty is below 1 year of prison, we took the 1 value.\n",
    "\n",
    "These values are taken from the Illinois penalty code (found on internet)."
   ]
  },
  {
   "cell_type": "code",
   "execution_count": null,
   "metadata": {},
   "outputs": [],
   "source": [
    "Primary_Type = []\n",
    "for x in crime['Primary Type'] :\n",
    "    if x == 'NON-CRIMINAL (SUBJECT SPECIFIED)' or x == 'NON - CRIMINAL' :\n",
    "        Primary_Type.append('NON-CRIMINAL')\n",
    "    else :\n",
    "        Primary_Type.append(x)\n",
    "        \n",
    "crime['Primary_Type'] = Primary_Type"
   ]
  },
  {
   "cell_type": "markdown",
   "metadata": {},
   "source": [
    "Here we group all the NON-CRIMINAL values under one label (3 label before)"
   ]
  },
  {
   "cell_type": "code",
   "execution_count": null,
   "metadata": {},
   "outputs": [],
   "source": [
    "crimescore = []\n",
    "for x in crime['Primary_Type'] :\n",
    "    crimescore.append(crime_penalty[x])"
   ]
  },
  {
   "cell_type": "markdown",
   "metadata": {},
   "source": [
    "Here we create a new column with the crimescore for each row 8associated with the Primary type crime"
   ]
  },
  {
   "cell_type": "code",
   "execution_count": null,
   "metadata": {},
   "outputs": [],
   "source": [
    "crime['crimescore'] = crimescore"
   ]
  },
  {
   "cell_type": "code",
   "execution_count": null,
   "metadata": {},
   "outputs": [],
   "source": [
    "crime.head()"
   ]
  },
  {
   "cell_type": "code",
   "execution_count": null,
   "metadata": {},
   "outputs": [],
   "source": [
    "crimetest = pd.DataFrame()\n",
    "crimetest['Community Area'] = crime['Community Area']\n",
    "crimetest['crimescore'] = crime['crimescore']\n",
    "\n",
    "crimetest.head()"
   ]
  },
  {
   "cell_type": "markdown",
   "metadata": {},
   "source": [
    "Here we select the community area and the crimescore area to calculate the crimescore for each community area"
   ]
  },
  {
   "cell_type": "code",
   "execution_count": null,
   "metadata": {},
   "outputs": [],
   "source": [
    "crime_CA = crimetest.groupby('Community Area').sum()\n",
    "\n",
    "crime_CA"
   ]
  },
  {
   "cell_type": "markdown",
   "metadata": {},
   "source": [
    "Here we have the DataFrame interesting us : \n",
    "\n",
    "- Community area | Crimescore\n",
    "\n",
    "With this df, we'll be able to see if there is a correlation between restaurant quality and crime in Chicago"
   ]
  },
  {
   "cell_type": "markdown",
   "metadata": {},
   "source": [
    "# About this notebook"
   ]
  },
  {
   "cell_type": "markdown",
   "metadata": {},
   "source": [
    "We saw that the data are not that hard to handle : The data is not that big, and the problems on the format of the different columns is not a problem anymore. However, the missing values on the Wards, the Community Area and the location (long, lat) is still a problem.\n",
    "\n",
    "This can become a problem, these data without any location information are difficult to place on a map, we will certainly use them during the analysis and plotting phase, but we'll certainly delete them when we'll pin the data up on the map."
   ]
  },
  {
   "cell_type": "markdown",
   "metadata": {},
   "source": [
    "With these 3 datasets, we want to compare the global healthiness of public (hospital, ...) facilities vs private facilities (restaurant, ...).\n",
    "\n",
    "We also want to see if there is differences of the global healthiness of facilites between all the community area. We'll then pin the facilities on a map and delimit healthy and unhealthy community area.\n",
    "\n",
    "We'll next watch if there are similarities in the healthiness of several restaurants directed by one person (food chain), and if there is a difference between the restaurant of people that handle only one restaurant vs people that handle several restaurants.\n",
    "\n",
    "We also want to see if there is a correlation between the healthiness of the restaurant and the crimes that take place in the same community area.\n",
    "\n",
    "All these correlations, differences, similarities will be visualized and mapped."
   ]
  },
  {
   "cell_type": "markdown",
   "metadata": {},
   "source": [
    "To compare the healthiness of restaurants (and community area) and the criminality in different community area, we designed a way to get the healthiness score and the crimescore of these different things.\n",
    "\n",
    "We calculated the healthiness score by taking the several infractions, and the score given in the dataset (to be more precise).\n",
    "\n",
    "We calculated the crime score based on the minimal prison penalty of each infraction. We took the primary infractions only, this was easier to set up, but can bring some little imprecisions."
   ]
  },
  {
   "cell_type": "markdown",
   "metadata": {},
   "source": [
    "# Can the data bring us answer to our questions ?"
   ]
  },
  {
   "cell_type": "markdown",
   "metadata": {},
   "source": [
    "We think so, All the informations we need to make the different analysis are in the 3 datasets. For the healthiness of the restaurants and in the different community area, all the data are in the food inspections dataframe.\n",
    "\n",
    "For the analysis about the different owners of different facilities, all the informations needed were processed and are in the license dataset.\n",
    "\n",
    "And for the crime related analysis, the informations were processed and we have all we need in the crime dataset."
   ]
  },
  {
   "cell_type": "markdown",
   "metadata": {},
   "source": [
    "# What comes next"
   ]
  },
  {
   "cell_type": "markdown",
   "metadata": {},
   "source": [
    "We'll first start to get deeper into the analysis, and maybe come back to modify or arrange the data one last time according to our needs.\n",
    "\n",
    "When the analysis will be completed, we'll start to get to the visualization : What is the best way to present our results ? Is the map still a good visualization ? How to handle the map ?\n",
    "\n",
    "Then we'll finally report our results, and start preparing the presentation."
   ]
  },
  {
   "cell_type": "code",
   "execution_count": null,
   "metadata": {},
   "outputs": [],
   "source": []
  },
  {
   "cell_type": "code",
   "execution_count": null,
   "metadata": {},
   "outputs": [],
   "source": []
  },
  {
   "cell_type": "code",
   "execution_count": null,
   "metadata": {},
   "outputs": [],
   "source": []
  },
  {
   "cell_type": "code",
   "execution_count": null,
   "metadata": {},
   "outputs": [],
   "source": []
  }
 ],
 "metadata": {
  "kernelspec": {
   "display_name": "Python 3",
   "language": "python",
   "name": "python3"
  },
  "language_info": {
   "codemirror_mode": {
    "name": "ipython",
    "version": 3
   },
   "file_extension": ".py",
   "mimetype": "text/x-python",
   "name": "python",
   "nbconvert_exporter": "python",
   "pygments_lexer": "ipython3",
   "version": "3.7.3"
  }
 },
 "nbformat": 4,
 "nbformat_minor": 4
}
