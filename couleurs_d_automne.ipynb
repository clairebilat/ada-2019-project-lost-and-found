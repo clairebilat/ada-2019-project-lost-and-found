{
 "cells": [
  {
   "cell_type": "code",
   "execution_count": 2,
   "metadata": {},
   "outputs": [],
   "source": [
    "%matplotlib inline\n",
    "import pandas as pd\n",
    "import numpy as np\n",
    "import re\n",
    "from matplotlib.ticker import MaxNLocator\n",
    "import matplotlib.pyplot as plt\n",
    "import requests as req\n",
    "from bs4 import BeautifulSoup"
   ]
  },
  {
   "cell_type": "code",
   "execution_count": 41,
   "metadata": {},
   "outputs": [
    {
     "name": "stdout",
     "output_type": "stream",
     "text": [
      "2684\n"
     ]
    }
   ],
   "source": [
    "df = pd.read_csv('food-inspections.csv',sep=',') #creation of the dataframe\n",
    "df.head()\n",
    "\n",
    "liste = []\n",
    "for x in df['Facility Type'] :\n",
    "    if x in liste :\n",
    "        pass\n",
    "    else :\n",
    "        liste.append(x)\n",
    "        \n",
    "#print(liste)\n",
    "\n",
    "nombre = 0\n",
    "for y in df['Facility Type'] :\n",
    "    if y == 'Daycare (2 - 6 Years)' :\n",
    "        nombre += 1\n",
    "    else :\n",
    "        pass\n",
    "print(nombre)"
   ]
  },
  {
   "cell_type": "code",
   "execution_count": null,
   "metadata": {},
   "outputs": [],
   "source": []
  }
 ],
 "metadata": {
  "kernelspec": {
   "display_name": "Python 3",
   "language": "python",
   "name": "python3"
  },
  "language_info": {
   "codemirror_mode": {
    "name": "ipython",
    "version": 3
   },
   "file_extension": ".py",
   "mimetype": "text/x-python",
   "name": "python",
   "nbconvert_exporter": "python",
   "pygments_lexer": "ipython3",
   "version": "3.7.4"
  }
 },
 "nbformat": 4,
 "nbformat_minor": 4
}
