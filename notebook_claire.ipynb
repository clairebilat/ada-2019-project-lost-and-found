{
 "cells": [
  {
   "cell_type": "markdown",
   "metadata": {},
   "source": [
    "# Where to eat in Chigago : an analysis of the inspections from the Chicago department of Public Health's Food Protection Programm\n",
    "\n",
    "## 1. Introduction\n",
    "\n",
    "The Chicago department of Public Health’s Food Protection Program provides a database which contains the information from inspection reports of restaurants and other food establishments in Chicago from 2010 to the present. It contains many informations about the establishments, like their type of facility (groceries’ stores, restaurants, coffee shop, …) and their locations. Many informations about the violations listed are also provided in the database, like the description of the findings that caused them and the reason that invoked the staff from the program to led an inspection.\n",
    "\n",
    "In our project we endeavor to visualize the healthiness of public food establishments according to their type of facility, their ward and the date of the inspection. An analysis of the violation’s types according to these three parameters will also be conducted. \n",
    "\n",
    "The principal questions we'll answer are : \n",
    "    - Which ward of Chicago are the most healthy and unhealthy ? \n",
    "    - Which type of facility tend to be less healthy ? \n",
    "    - Did the healthiness of the food in Chicago increase or decrease from 2010 until now ?\n",
    "\n",
    "New problematics could be asked during the analysis and would be added to these.\n",
    "\n",
    "The purpose of the project is to help the consumer to easily choose where to eat in Chicago and to provide them an interactive and intuitive way to browse the different places offered to them. Also, it could help the Chicago department of Public Health’s Food Protection Program to adapt their methods relying on the situation described by the findings of the analysis (for example, if a prevention program should be proposed for a specific area or type of facility)."
   ]
  },
  {
   "cell_type": "code",
   "execution_count": 1,
   "metadata": {},
   "outputs": [],
   "source": [
    "%matplotlib inline\n",
    "import pandas as pd\n",
    "import numpy as np\n",
    "import re\n",
    "from matplotlib.ticker import MaxNLocator\n",
    "import matplotlib.pyplot as plt\n",
    "import requests as req\n",
    "from bs4 import BeautifulSoup\n",
    "import seaborn as sns"
   ]
  },
  {
   "cell_type": "markdown",
   "metadata": {},
   "source": [
    "## 2 Preprocessing\n",
    "\n",
    "### 2.1 Selecting the facilities of interest"
   ]
  },
  {
   "cell_type": "markdown",
   "metadata": {},
   "source": [
    "First a quick look at how is organized the dataset. "
   ]
  },
  {
   "cell_type": "code",
   "execution_count": 2,
   "metadata": {},
   "outputs": [
    {
     "data": {
      "text/html": [
       "<div>\n",
       "<style scoped>\n",
       "    .dataframe tbody tr th:only-of-type {\n",
       "        vertical-align: middle;\n",
       "    }\n",
       "\n",
       "    .dataframe tbody tr th {\n",
       "        vertical-align: top;\n",
       "    }\n",
       "\n",
       "    .dataframe thead th {\n",
       "        text-align: right;\n",
       "    }\n",
       "</style>\n",
       "<table border=\"1\" class=\"dataframe\">\n",
       "  <thead>\n",
       "    <tr style=\"text-align: right;\">\n",
       "      <th></th>\n",
       "      <th>Inspection ID</th>\n",
       "      <th>DBA Name</th>\n",
       "      <th>AKA Name</th>\n",
       "      <th>License #</th>\n",
       "      <th>Facility Type</th>\n",
       "      <th>Risk</th>\n",
       "      <th>Address</th>\n",
       "      <th>City</th>\n",
       "      <th>State</th>\n",
       "      <th>Zip</th>\n",
       "      <th>...</th>\n",
       "      <th>Results</th>\n",
       "      <th>Violations</th>\n",
       "      <th>Latitude</th>\n",
       "      <th>Longitude</th>\n",
       "      <th>Location</th>\n",
       "      <th>Historical Wards 2003-2015</th>\n",
       "      <th>Zip Codes</th>\n",
       "      <th>Community Areas</th>\n",
       "      <th>Census Tracts</th>\n",
       "      <th>Wards</th>\n",
       "    </tr>\n",
       "  </thead>\n",
       "  <tbody>\n",
       "    <tr>\n",
       "      <th>0</th>\n",
       "      <td>2320971</td>\n",
       "      <td>JUMPSTART EARLY LEARNING ACADEMY</td>\n",
       "      <td>JUMPSTART EARLY LEARNING ACADEMY</td>\n",
       "      <td>2589822.0</td>\n",
       "      <td>Children's Services Facility</td>\n",
       "      <td>Risk 1 (High)</td>\n",
       "      <td>7559 W ADDISON ST</td>\n",
       "      <td>CHICAGO</td>\n",
       "      <td>IL</td>\n",
       "      <td>60634.0</td>\n",
       "      <td>...</td>\n",
       "      <td>Pass w/ Conditions</td>\n",
       "      <td>5. PROCEDURES FOR RESPONDING TO VOMITING AND D...</td>\n",
       "      <td>41.945065</td>\n",
       "      <td>-87.816734</td>\n",
       "      <td>{'longitude': '41.945064857019986', 'latitude'...</td>\n",
       "      <td>NaN</td>\n",
       "      <td>NaN</td>\n",
       "      <td>NaN</td>\n",
       "      <td>NaN</td>\n",
       "      <td>NaN</td>\n",
       "    </tr>\n",
       "    <tr>\n",
       "      <th>1</th>\n",
       "      <td>2320918</td>\n",
       "      <td>BEEFSTEAK</td>\n",
       "      <td>BEEFSTEAK</td>\n",
       "      <td>2698445.0</td>\n",
       "      <td>Restaurant</td>\n",
       "      <td>Risk 1 (High)</td>\n",
       "      <td>303 E SUPERIOR ST</td>\n",
       "      <td>CHICAGO</td>\n",
       "      <td>IL</td>\n",
       "      <td>60611.0</td>\n",
       "      <td>...</td>\n",
       "      <td>Pass</td>\n",
       "      <td>39. CONTAMINATION PREVENTED DURING FOOD PREPAR...</td>\n",
       "      <td>41.895692</td>\n",
       "      <td>-87.620143</td>\n",
       "      <td>{'longitude': '41.895692401410514', 'latitude'...</td>\n",
       "      <td>NaN</td>\n",
       "      <td>NaN</td>\n",
       "      <td>NaN</td>\n",
       "      <td>NaN</td>\n",
       "      <td>NaN</td>\n",
       "    </tr>\n",
       "    <tr>\n",
       "      <th>2</th>\n",
       "      <td>2320986</td>\n",
       "      <td>BABA'S COFFEE</td>\n",
       "      <td>BABA'S COFFEE</td>\n",
       "      <td>2423353.0</td>\n",
       "      <td>Restaurant</td>\n",
       "      <td>Risk 1 (High)</td>\n",
       "      <td>5544-5546 N KEDZIE AVE</td>\n",
       "      <td>CHICAGO</td>\n",
       "      <td>IL</td>\n",
       "      <td>60625.0</td>\n",
       "      <td>...</td>\n",
       "      <td>No Entry</td>\n",
       "      <td>NaN</td>\n",
       "      <td>41.982582</td>\n",
       "      <td>-87.708996</td>\n",
       "      <td>{'longitude': '41.98258181784537', 'latitude':...</td>\n",
       "      <td>NaN</td>\n",
       "      <td>NaN</td>\n",
       "      <td>NaN</td>\n",
       "      <td>NaN</td>\n",
       "      <td>NaN</td>\n",
       "    </tr>\n",
       "    <tr>\n",
       "      <th>3</th>\n",
       "      <td>2320910</td>\n",
       "      <td>J.T.'S GENUINE SANDWICH</td>\n",
       "      <td>J.T.'S GENUINE SANDWICH</td>\n",
       "      <td>2689893.0</td>\n",
       "      <td>Restaurant</td>\n",
       "      <td>Risk 1 (High)</td>\n",
       "      <td>3970 N ELSTON AVE</td>\n",
       "      <td>CHICAGO</td>\n",
       "      <td>IL</td>\n",
       "      <td>60618.0</td>\n",
       "      <td>...</td>\n",
       "      <td>Pass</td>\n",
       "      <td>51. PLUMBING INSTALLED; PROPER BACKFLOW DEVICE...</td>\n",
       "      <td>41.953378</td>\n",
       "      <td>-87.718848</td>\n",
       "      <td>{'longitude': '41.95337788158545', 'latitude':...</td>\n",
       "      <td>NaN</td>\n",
       "      <td>NaN</td>\n",
       "      <td>NaN</td>\n",
       "      <td>NaN</td>\n",
       "      <td>NaN</td>\n",
       "    </tr>\n",
       "    <tr>\n",
       "      <th>4</th>\n",
       "      <td>2320904</td>\n",
       "      <td>KID'Z COLONY DAYCARE, INC.</td>\n",
       "      <td>KID'Z COLONY DAYCARE, INC.</td>\n",
       "      <td>2215609.0</td>\n",
       "      <td>Daycare Above and Under 2 Years</td>\n",
       "      <td>Risk 1 (High)</td>\n",
       "      <td>6287 S ARCHER AVE</td>\n",
       "      <td>CHICAGO</td>\n",
       "      <td>IL</td>\n",
       "      <td>60638.0</td>\n",
       "      <td>...</td>\n",
       "      <td>Fail</td>\n",
       "      <td>16. FOOD-CONTACT SURFACES: CLEANED &amp; SANITIZED...</td>\n",
       "      <td>41.793235</td>\n",
       "      <td>-87.777776</td>\n",
       "      <td>{'longitude': '41.7932347787373', 'latitude': ...</td>\n",
       "      <td>NaN</td>\n",
       "      <td>NaN</td>\n",
       "      <td>NaN</td>\n",
       "      <td>NaN</td>\n",
       "      <td>NaN</td>\n",
       "    </tr>\n",
       "  </tbody>\n",
       "</table>\n",
       "<p>5 rows × 22 columns</p>\n",
       "</div>"
      ],
      "text/plain": [
       "   Inspection ID                          DBA Name  \\\n",
       "0        2320971  JUMPSTART EARLY LEARNING ACADEMY   \n",
       "1        2320918                         BEEFSTEAK   \n",
       "2        2320986                     BABA'S COFFEE   \n",
       "3        2320910           J.T.'S GENUINE SANDWICH   \n",
       "4        2320904        KID'Z COLONY DAYCARE, INC.   \n",
       "\n",
       "                           AKA Name  License #  \\\n",
       "0  JUMPSTART EARLY LEARNING ACADEMY  2589822.0   \n",
       "1                         BEEFSTEAK  2698445.0   \n",
       "2                     BABA'S COFFEE  2423353.0   \n",
       "3           J.T.'S GENUINE SANDWICH  2689893.0   \n",
       "4        KID'Z COLONY DAYCARE, INC.  2215609.0   \n",
       "\n",
       "                     Facility Type           Risk                  Address  \\\n",
       "0     Children's Services Facility  Risk 1 (High)       7559 W ADDISON ST    \n",
       "1                       Restaurant  Risk 1 (High)       303 E SUPERIOR ST    \n",
       "2                       Restaurant  Risk 1 (High)  5544-5546 N KEDZIE AVE    \n",
       "3                       Restaurant  Risk 1 (High)       3970 N ELSTON AVE    \n",
       "4  Daycare Above and Under 2 Years  Risk 1 (High)       6287 S ARCHER AVE    \n",
       "\n",
       "      City State      Zip  ...             Results  \\\n",
       "0  CHICAGO    IL  60634.0  ...  Pass w/ Conditions   \n",
       "1  CHICAGO    IL  60611.0  ...                Pass   \n",
       "2  CHICAGO    IL  60625.0  ...            No Entry   \n",
       "3  CHICAGO    IL  60618.0  ...                Pass   \n",
       "4  CHICAGO    IL  60638.0  ...                Fail   \n",
       "\n",
       "                                          Violations   Latitude  Longitude  \\\n",
       "0  5. PROCEDURES FOR RESPONDING TO VOMITING AND D...  41.945065 -87.816734   \n",
       "1  39. CONTAMINATION PREVENTED DURING FOOD PREPAR...  41.895692 -87.620143   \n",
       "2                                                NaN  41.982582 -87.708996   \n",
       "3  51. PLUMBING INSTALLED; PROPER BACKFLOW DEVICE...  41.953378 -87.718848   \n",
       "4  16. FOOD-CONTACT SURFACES: CLEANED & SANITIZED...  41.793235 -87.777776   \n",
       "\n",
       "                                            Location  \\\n",
       "0  {'longitude': '41.945064857019986', 'latitude'...   \n",
       "1  {'longitude': '41.895692401410514', 'latitude'...   \n",
       "2  {'longitude': '41.98258181784537', 'latitude':...   \n",
       "3  {'longitude': '41.95337788158545', 'latitude':...   \n",
       "4  {'longitude': '41.7932347787373', 'latitude': ...   \n",
       "\n",
       "   Historical Wards 2003-2015 Zip Codes  Community Areas  Census Tracts  Wards  \n",
       "0                         NaN       NaN              NaN            NaN    NaN  \n",
       "1                         NaN       NaN              NaN            NaN    NaN  \n",
       "2                         NaN       NaN              NaN            NaN    NaN  \n",
       "3                         NaN       NaN              NaN            NaN    NaN  \n",
       "4                         NaN       NaN              NaN            NaN    NaN  \n",
       "\n",
       "[5 rows x 22 columns]"
      ]
     },
     "execution_count": 2,
     "metadata": {},
     "output_type": "execute_result"
    }
   ],
   "source": [
    "df = pd.read_csv('food-inspections.csv',sep=',') #creation of the dataframe\n",
    "df.head()"
   ]
  },
  {
   "cell_type": "code",
   "execution_count": 3,
   "metadata": {},
   "outputs": [
    {
     "name": "stdout",
     "output_type": "stream",
     "text": [
      "<class 'pandas.core.frame.DataFrame'>\n",
      "RangeIndex: 195312 entries, 0 to 195311\n",
      "Data columns (total 22 columns):\n",
      "Inspection ID                 195312 non-null int64\n",
      "DBA Name                      195312 non-null object\n",
      "AKA Name                      192862 non-null object\n",
      "License #                     195295 non-null float64\n",
      "Facility Type                 190535 non-null object\n",
      "Risk                          195239 non-null object\n",
      "Address                       195312 non-null object\n",
      "City                          195173 non-null object\n",
      "State                         195270 non-null object\n",
      "Zip                           195261 non-null float64\n",
      "Inspection Date               195312 non-null object\n",
      "Inspection Type               195311 non-null object\n",
      "Results                       195312 non-null object\n",
      "Violations                    143530 non-null object\n",
      "Latitude                      194627 non-null float64\n",
      "Longitude                     194627 non-null float64\n",
      "Location                      194627 non-null object\n",
      "Historical Wards 2003-2015    0 non-null float64\n",
      "Zip Codes                     0 non-null float64\n",
      "Community Areas               0 non-null float64\n",
      "Census Tracts                 0 non-null float64\n",
      "Wards                         0 non-null float64\n",
      "dtypes: float64(9), int64(1), object(12)\n",
      "memory usage: 32.8+ MB\n"
     ]
    }
   ],
   "source": [
    "df.info()"
   ]
  },
  {
   "cell_type": "code",
   "execution_count": 7,
   "metadata": {},
   "outputs": [
    {
     "data": {
      "text/plain": [
       "Inspection ID                      0\n",
       "DBA Name                           0\n",
       "AKA Name                           0\n",
       "License #                         11\n",
       "Facility Type                      0\n",
       "Risk                               1\n",
       "Address                            0\n",
       "City                              62\n",
       "State                             23\n",
       "Zip                               11\n",
       "Inspection Date                    0\n",
       "Inspection Type                    0\n",
       "Results                            0\n",
       "Violations                         0\n",
       "Latitude                           0\n",
       "Longitude                          0\n",
       "Location                           0\n",
       "Historical Wards 2003-2015    141793\n",
       "Zip Codes                     141793\n",
       "Community Areas               141793\n",
       "Census Tracts                 141793\n",
       "Wards                         141793\n",
       "dtype: int64"
      ]
     },
     "execution_count": 7,
     "metadata": {},
     "output_type": "execute_result"
    }
   ],
   "source": [
    "data.isnull().sum()"
   ]
  },
  {
   "cell_type": "markdown",
   "metadata": {},
   "source": [
    "It is a dataset of 195'312 entries with 22 columns listed above.\n",
    "\n",
    "Now take a look at how many missing values there is."
   ]
  },
  {
   "cell_type": "code",
   "execution_count": 4,
   "metadata": {},
   "outputs": [
    {
     "data": {
      "text/plain": [
       "Text(0.5, 1.0, 'counts of missing value')"
      ]
     },
     "execution_count": 4,
     "metadata": {},
     "output_type": "execute_result"
    },
    {
     "data": {
      "image/png": "[encoded data removed]",
      "text/plain": [
       "<Figure size 720x720 with 1 Axes>"
      ]
     },
     "metadata": {
      "needs_background": "light"
     },
     "output_type": "display_data"
    }
   ],
   "source": [
    "plt.figure(figsize=(10,10))\n",
    "sns.barplot(x=df.isnull().sum().sort_values(ascending=False),y=df.isnull().sum().sort_values(ascending=False).index)\n",
    "plt.title(\"counts of missing value\",size=20)"
   ]
  },
  {
   "cell_type": "code",
   "execution_count": null,
   "metadata": {},
   "outputs": [],
   "source": []
  },
  {
   "cell_type": "code",
   "execution_count": 6,
   "metadata": {},
   "outputs": [
    {
     "data": {
      "text/plain": [
       "Inspection ID                      0\n",
       "DBA Name                           0\n",
       "AKA Name                           0\n",
       "License #                         11\n",
       "Facility Type                      0\n",
       "Risk                               1\n",
       "Address                            0\n",
       "City                              62\n",
       "State                             23\n",
       "Zip                               11\n",
       "Inspection Date                    0\n",
       "Inspection Type                    0\n",
       "Results                            0\n",
       "Violations                         0\n",
       "Latitude                           0\n",
       "Longitude                          0\n",
       "Location                           0\n",
       "Historical Wards 2003-2015    141793\n",
       "Zip Codes                     141793\n",
       "Community Areas               141793\n",
       "Census Tracts                 141793\n",
       "Wards                         141793\n",
       "dtype: int64"
      ]
     },
     "execution_count": 6,
     "metadata": {},
     "output_type": "execute_result"
    }
   ],
   "source": [
    "#à faire seulement si vous voulez supprimer les valeurs nulles\n",
    "data=df.dropna(subset=['Violations','Facility Type','Latitude','Longitude','AKA Name'])\n",
    "data.isnull().sum()"
   ]
  },
  {
   "cell_type": "code",
   "execution_count": 8,
   "metadata": {},
   "outputs": [
    {
     "data": {
      "text/plain": [
       "array([\"Children's Services Facility\", 'Restaurant',\n",
       "       'Daycare Above and Under 2 Years', 'School', 'Grocery Store',\n",
       "       'Bakery', 'Mobile Food Preparer', 'Daycare (2 - 6 Years)', nan,\n",
       "       'ICE CREAM', 'Long Term Care', 'Liquor',\n",
       "       'Pop-Up Establishment Host-Tier II', 'LIVE POULTRY', 'tavern',\n",
       "       'Catering', 'PALETERIA', 'Mobile Food Dispenser',\n",
       "       'CHILDRENS SERVICES FACILITY', 'BREWERY', 'TAVERN', 'GYM',\n",
       "       'CHARTER SCHOOL', 'BANQUET', \"CHILDERN'S SERVICE FACILITY\",\n",
       "       'Golden Diner', 'GROCERY STORE /PHARMACY', 'Daycare Combo 1586',\n",
       "       'Hospital', 'ASSISTED LIVING', \"1023 CHILDREN'S SERVICES FACILITY\",\n",
       "       'Airport Lounge', 'PRIVATE SCHOOL', 'Daycare (Under 2 Years)',\n",
       "       'COOKING SCHOOL', 'Mobile Frozen Desserts Vendor', 'SUSHI COUNTER',\n",
       "       'EXERCISE AND NUTRITION BAR', 'Daycare Night', 'BANQUET HALL',\n",
       "       'AFTER SCHOOL PROGRAM', 'DOLLAR TREE', 'GAS STATION',\n",
       "       'GROCERY/RESTAURANT', 'FITNESS CENTER', 'Banquet', 'EVENT SPACE',\n",
       "       'Grocery & Restaurant', 'COMMISARY RESTAURANT',\n",
       "       'DOLLAR STORE WITH GROCERY', 'NOT-FOR-PROFIT CLUB',\n",
       "       'GROCERY STORE/COOKING SCHOOL', 'Shared Kitchen', 'Wholesale',\n",
       "       'CHURCH (SPECIAL EVENTS)', 'THEATRE', 'ICE CREAM SHOP', 'STORE',\n",
       "       'HERBAL LIFE', 'WRIGLEY ROOFTOP', 'ROOFTOP', 'SENIOR DAY CARE',\n",
       "       'CATERED LIQUOR', 'DAYCARE', 'HIGH SCHOOL KITCHEN', 'Banquet Hall',\n",
       "       'smoothie bar', 'ROOF TOPS', 'GAS STATION/GROCERY',\n",
       "       'Special Event', 'Shared Kitchen User (Long Term)', 'Other',\n",
       "       'ROOF TOP', 'ROOFTOPS', 'COFFEE SHOP',\n",
       "       'Pop-Up Food Establishment User-Tier III', 'DISTRIBUTION CENTER',\n",
       "       \"1023-CHILDREN'S SERVICES FACILITY\", 'Mobile Prepared Food Vendor',\n",
       "       'Shelter', 'BAR', \"O'Hare Kiosk\", 'STADIUM', 'CULINARY SCHOOL',\n",
       "       'GROCERY/TAVERN', 'CHURCH KITCHEN', 'DELI/BAKERY',\n",
       "       \"1023 CHILDERN'S SERVICES FACILITY\", 'GROCERY/DELI', 'COMMISSARY',\n",
       "       'TAVERN/STORE', 'SUPPORTIVE LIVING', 'FRENCH MARKET SPACE',\n",
       "       'Shared Kitchen User (Short Term)', 'GROCERY/SERVICE GAS STATION',\n",
       "       'RESTAURANT/GAS STATION', 'LIQUOR/COFFEE KIOSK',\n",
       "       'FROZEN DESSERT PUSHCARTS', 'CHURCH', 'TEA BREWING',\n",
       "       'BANQUET HALL/CATERING', 'HEALTH/ JUICE BAR', 'FOOD BOOTH',\n",
       "       'Poultry Slaughter', 'POULTRY SLAUGHTER', 'DINING HALL',\n",
       "       'Theater & Restaurant', 'GYM STORE', 'CHURCH/SPECIAL EVENTS',\n",
       "       'Assisted Living', 'SLAUGHTER HOUSE/ GROCERY', 'ADULT DAYCARE',\n",
       "       'GROCERY/BAKERY', 'Live Poultry', 'GAS STATION/CONVENIENCE STORE',\n",
       "       'CUSTOM POULTRY SLAUGHTER', 'CULINARY CLASS ROOMS',\n",
       "       'HELICOPTER TERMINAL', 'CANDY SHOP', 'HEALTH CARE STORE',\n",
       "       'MOBILE FOOD', \"1023 CHILDERN'S SERVICE FACILITY\",\n",
       "       'GROCERY/TAQUERIA', 'HERBALIFE', 'Church', 'DAY CARE 2-14',\n",
       "       'RESTAURANT/BAR', 'cooking school', 'Daycare (2 Years)',\n",
       "       'MOBILE DESSERTS VENDOR', 'NURSING HOME', '1475 LIQUOR',\n",
       "       'Food Pantry', 'bar', 'VENDING COMMISSARY',\n",
       "       'CHARTER SCHOOL CAFETERIA', 'ASSISTED LIVING FACILITY',\n",
       "       'RESTAURANT/GROCERY STORE', 'PUBLIC SHCOOL', 'EVENT VENU',\n",
       "       'SCHOOL', 'REGULATED BUSINESS', 'CAFETERIA',\n",
       "       'Pop-Up Food Establishment User-Tier II',\n",
       "       'MOBILE FROZEN DESSERTS VENDOR', 'TAVERN GRILL',\n",
       "       'PREP INSIDE SCHOOL', 'convenience store', 'GROCERY(GAS STATION)',\n",
       "       'BANQUET ROOM', 'DOLLAR STORE', 'BREWPUB',\n",
       "       'SUPPORTIVE LIVING FACILITY', 'gas station', 'CANDY/GELATO',\n",
       "       'TOBACCO STORE', 'Private School', 'JUICE BAR',\n",
       "       'PACKAGED HEALTH FOODS', 'Grocery(Sushi prep)', 'school cafeteria',\n",
       "       'CAFE/STORE', 'BANQUET FACILITY', 'Animal Shelter Cafe Permit',\n",
       "       'CONVENIENCE STORE', 'REHAB CENTER', 'GROCERY/GAS STATION',\n",
       "       'Lounge', 'FITNESS STUDIO', '15 monts to 5 years old',\n",
       "       'BEVERAGE/SILVERWARE WAREHOUSE', 'GROCERY STORE/GAS STATION',\n",
       "       'KIOSK', 'VENDING MACHINE', 'CONVENIENT STORE', 'HERBAL MEDICINE',\n",
       "       'GAS STATION/STORE', 'DRUG STORE', 'Assisted Living Senior Care',\n",
       "       'RETAIL STORE OFFERS COOKING CLASSES', 'banquets',\n",
       "       'Banquet Dining', 'RIVERWALK', 'COLLEGE', 'youth housing',\n",
       "       'Banquet/kitchen', 'CHURCH/SPECIAL EVENT', 'THEATER',\n",
       "       'A-Not-For-Profit Chef Training Program', 'grocery/dollar store',\n",
       "       'RESTAURANT.BANQUET HALLS', 'Internet Cafe', 'CHARITY AID KITCHEN',\n",
       "       'HOTEL', 'SHAKES/TEAS', 'CLOTHING STORE', 'Navy Pier Kiosk',\n",
       "       'Shuffleboard Club with Bar', 'COFFEE KIOSK', 'WAREHOUSE',\n",
       "       'BUTCHER SHOP', 'PUSH CARTS', 'MOVIE THEATER', 'RETAIL',\n",
       "       'UNIVERSITY CAFETERIA', 'Laundromat', 'CHINESE HERBS',\n",
       "       'PASTRY school', 'DAYCARE 2 YRS TO 12 YRS', 'Cafeteria',\n",
       "       'HERBALIFE STORE', 'Coffee shop', 'COLD/FROZEN FOOD STORAGE',\n",
       "       'GROCERY& RESTAURANT', 'GAS STATION/MINI MART',\n",
       "       'JUICE AND SALAD BAR', 'BEFORE AND AFTER SCHOOL PROGRAM',\n",
       "       'HERBAL LIFE SHOP', 'COFFEE CART', 'FURNITURE STORE',\n",
       "       'CANDY STORE', 'meat packing', 'LOUNGE/BANQUET HALL',\n",
       "       'coffee shop', 'fish market', 'Tavern', 'GAS STATION/FOOD',\n",
       "       'GROCERY', 'Rest/GYM', 'Banquet rooms', 'TEACHING SCHOOL',\n",
       "       'POPCORN CORN', 'HOSTEL', 'MOVIE THEATRE', 'GROCERY STORE/BAKERY',\n",
       "       'HERBAL DRINKS', 'COFFEE  SHOP', 'Herbalife Nutrition',\n",
       "       'donut shop', 'LIQOUR BREWERY TASTING', 'Gift Shop',\n",
       "       'SUMMER FEEDING PREP AREA', 'convenience/drug store',\n",
       "       'REST/GROCERY', 'cafeteria', 'NORTHERLY ISLAND', 'Herabalife',\n",
       "       'GROCERY AND BUTCHER', 'DELI/GROCERY STORE', 'WHOLESALE & RETAIL',\n",
       "       'GROCERY/DRUG STORE', 'MFD TRUCK', 'Wrigley Roof Top',\n",
       "       'DAYCARE COMBO', 'HERBALIFE/ZUMBA',\n",
       "       'Restaurant(protein shake bar)', 'PRE PACKAGED',\n",
       "       'weight loss program', 'WEIGHT LOSS PROGRAM', 'employee kitchen',\n",
       "       'HOT DOG STATION', 'KITCHEN DEMO', 'RESTAURANT/BAR/THEATER',\n",
       "       'TRUCK', 'RESTAURANT AND LIQUOR', 'HERBALCAL', 'COFFEE/TEA',\n",
       "       \"CHILDERN'S SERVICES  FACILITY\", 'fitness center', 'HEALTH CENTER',\n",
       "       'butcher shop', 'MOBILPREPARED FOOD VENDOR', 'DAYCARE 6 WKS-5YRS',\n",
       "       'CONVENIENCE', 'RETAIL WINE/WINE BAR',\n",
       "       'GOLF COURSE CONNCESSION STAND',\n",
       "       'COMMISSARY FOR SOFT SERVE ICE CREAM TRUCKS',\n",
       "       'DOLLAR & GROCERY STORE', 'MOBILE FOOD TRUCK', 'SOCIAL CLUB',\n",
       "       'GAS', 'GAS STATION/RESTAURANT', 'snack shop',\n",
       "       'PREPACAKAGED FOODS', 'SMOKEHOUSE', '1023',\n",
       "       'TAP room/tavern/liquor store', 'CULINARY ARTS SCHOOL',\n",
       "       'Long-Term Care', 'ART GALLERY', 'MOBILE FROZEN DESSERT VENDOR',\n",
       "       'Museum/Gallery', 'SPA', 'NIGHT CLUB', 'DISTRIBUTOR',\n",
       "       'COFFEE ROASTER', 'GELATO SHOP', 'BAKERY/DELI',\n",
       "       'GAS STATION/STORE GROCERY', 'GAS STATION STORE', 'LIQUOR STORE',\n",
       "       'GROCERY/CAFE', 'HERBAL', 'TEA STORE', 'grocery',\n",
       "       'DRUG/FOOD STORE', 'SERVICE BAR/THEATRE',\n",
       "       'RETAIL FOOD/GAS STATION', 'convenience', 'RESTAURANT/HOSPITAL',\n",
       "       'GROCERY STORE / GAS STATION', 'URBAN FARM', 'MASSAGE BAR',\n",
       "       'CELL PHONE STORE', 'HERBAL REMEDY', 'dollar store',\n",
       "       'NUTRITION/HERBALIFE', 'CONVENIENCE/GAS STATION',\n",
       "       'GROCERY/ RESTAURANT', 'GROCERY STORE/ RESTAURANT',\n",
       "       'Adult Family Care Center', 'PUSHCART', 'CITY OF CHICAGO COLLEGE',\n",
       "       'Long Term Care Facility', 'TEMPORARY KIOSK',\n",
       "       \"1023 CHILDERN'S SERVICE S FACILITY\", 'BOWLING LANES/BANQUETS',\n",
       "       'REST/ROOFTOP', 'UNUSED STORAGE', 'Mobile frozen dessert vendor',\n",
       "       'MOBILE FOOD DESSERTS VENDOR', 'Dollar store', 'GOLF COURSE',\n",
       "       'DAY CARE 1023', 'DRUG/GROCERY STORE', 'GROCERY/LIQUOR STORE',\n",
       "       'VFW HALL', 'GAS STATION/ GROCERY STORE', 'PACKAGED LIQUOR',\n",
       "       'WINE STORE', 'PACKAGED FOOD DISTRIBUTION', 'RESTAURANT/BAKERY',\n",
       "       'RETAIL STORE', 'BAKERY/GROCERY', 'ART GALLERY W/WINE AND BEER',\n",
       "       'video store', 'HEALTH CENTER/NUTRITION CLASSES', 'BAR/GRILL',\n",
       "       'HOT DOG CART', '1584-DAY CARE ABOVE 2 YEARS', 'DAY CARE',\n",
       "       'CATERING/CAFE', 'Deli', '1005 NURSING HOME', 'MUSIC VENUE',\n",
       "       'pharmacy/grocery', 'newsstand', 'PROTEIN SHAKE BAR',\n",
       "       'DRUG STORE/GROCERY', 'WINE TASTING BAR', 'night club',\n",
       "       'POPCORN SHOP', 'day spa', 'RIVERWALK CAFE', 'PANTRY',\n",
       "       'MAIN KITCHEN', 'coffee',\n",
       "       'Mobile Frozen Dessert Disp/Non-motorized', 'RESTAURANT/GROCERY',\n",
       "       'CATERED EVENTS', 'NON -PROFIT', 'CHILDERN ACTIVITY FACILITY',\n",
       "       'Catering and Wholesale', 'PHARMACY', 'Commissary', 'banquet hall',\n",
       "       'theater', 'REPACKAGING PLANT', 'MOBILE DESSERT VENDOR',\n",
       "       'MOBILE DESSERT CART', 'NEWSSTAND', 'GAS STATION /GROCERY',\n",
       "       'THEATER/BAR', 'CAT/LIQUOR', 'BOOK STORE',\n",
       "       'CHARTER SCHOOL/CAFETERIA', 'GROCERY STORE/TAQUERIA',\n",
       "       'RESTUARANT AND BAR', 'Illegal Vendor',\n",
       "       'GAS STATION /SUBWAY MINI MART.', 'Gas station', 'CAR WASH',\n",
       "       'CAFE', 'CONVNIENCE STORE', 'School Cafeteria', 'TENT RSTAURANT',\n",
       "       'TAVERN/RESTAURANT', 'ALTERNATIVE SCHOOL', 'TAVERN-LIQUOR',\n",
       "       'Food Vending Machines', 'grocery & restaurant',\n",
       "       'CHICAGO PARK DISTRICT', 'GROCERY STORE/DELI', 'TAVERN/1006',\n",
       "       'ROOM SERVICE', 'SERVICE GAS STATION', 'HERBAL STORE',\n",
       "       'BOYS AND GIRLS CLUB', 'Tavern/Bar', 'Ice cream', 'warehouse',\n",
       "       'Long-Term Care Facility', 'LAUNDROMAT', 'LIQUORE STORE/BAR',\n",
       "       'MOBILE FROZEN DESSERTS DISPENSER-NON-MOTORIZED',\n",
       "       'FROZEN DESSERTS DISPENSER-NON-MOTORIZED', 'Pool',\n",
       "       'blockbuster video', 'banquets/room service', 'Church Kitchen',\n",
       "       'SUMMER FEEDING', 'FROZEN DESSERTS DISPENSER -NON MOTORIZED',\n",
       "       'Mobile Frozen Dessert Dispenser_non  Motorized.',\n",
       "       'MOBILE FROZEN DESSERTS DISPENSER-NON- MOTORIZED',\n",
       "       'MOBILE FROZEN DESSERTS DISPENSER-NON-MOTOR', 'CHURCH/DAY CARE',\n",
       "       'grocery/butcher', 'NAIL SHOP', 'DOLLAR STORE SELLING GROCERY',\n",
       "       'DAYCARE 2-6, UNDER 6', 'NON-FOR PROFIT BASEMENT KIT',\n",
       "       'BAKERY/ RESTAURANT', 'MEXICAN CANDY STORE',\n",
       "       'after school program', 'NOT FOR PROFIT', 'live butcher',\n",
       "       'Meat Market', 'drug treatment facility',\n",
       "       'SHARED KITCHEN USER (LONG TREM)', 'FOOD PANTRY',\n",
       "       'RESTAURANT/LIQUOR', 'NP-KIOSK', 'Day Care Combo (1586)',\n",
       "       'LIQUOR CONSUMPTION ON PREMISES.', 'MOBIL FOOD 1315',\n",
       "       'watermelon house', 'ASSISSTED LIVING', 'Nutrition Store',\n",
       "       'DAYCARE 1586', 'FOOD PANTRY/CHURCH', 'PALETERIA /ICECREAM SHOP',\n",
       "       'LONG TERM CARE FACILITY', 'Social Club', 'bakery/restaurant',\n",
       "       'CHURCH/AFTER SCHOOL PROGRAM', 'unlicensed facility',\n",
       "       'GROCERY & RESTAURANT', '(convenience store)', 'Convenience Store',\n",
       "       'PEDDLER', 'AFTER SCHOOL CARE', 'GENERAL STORE', 'HOOKA BAR',\n",
       "       'KIDS CAFE', 'PREPACKAGE MEAL DISTRIBUTOR (1006 Retail)',\n",
       "       'GIFT/CARD SHOP WITH CANDY', '(gas station)', 'ROOFTOP PATIO',\n",
       "       'COFFEE VENDING MACHINE', 'DRUG STORE/W/ FOOD', 'COMMIASARY',\n",
       "       'GROCERY/LIQUOR', 'tavern/restaurant', 'ICE CREAM PARLOR',\n",
       "       'PRODUCE STAND', \"FARMER'S MARKET\", 'LINITED BUSINESS',\n",
       "       'PRODUCE VENDOR', 'UNLICENSED FACILITY', 'SOUP KITCHEN',\n",
       "       'hooka lounge', 'candy/gelato', 'CANDY MAKER', 'religious',\n",
       "       'TAVERN/LIQUOR', 'Candy', 'incubator', 'WHOLESALE BAKERY',\n",
       "       \"Kids Cafe'\"], dtype=object)"
      ]
     },
     "execution_count": 8,
     "metadata": {},
     "output_type": "execute_result"
    }
   ],
   "source": [
    "df['Facility Type'].unique()"
   ]
  },
  {
   "cell_type": "markdown",
   "metadata": {},
   "source": [
    "A lot of different types of facility are found in the data.\n",
    "\n",
    "First, we thought about only select the \"private\" establishments, where it is possible to eat a main course (for example, the places where you can only eat an ice cream are deleted of our list). They all are categorized in order to be compared with each other.\n"
   ]
  },
  {
   "cell_type": "code",
   "execution_count": 9,
   "metadata": {},
   "outputs": [],
   "source": [
    "public_dic = {'restaurant' : ['Restaurant', 'DINING HALL', 'TENT RSTAURANT'], \\\n",
    "              'grocery_restaurant' : ['Grocery & Restaurant', 'GROCERY& RESTAURANT', 'GROCERY/RESTAURANT',\\\n",
    "                                    'GROCERY/ RESTAURANT', 'GROCERY STORE/ RESTAURANT', 'GROCERY & RESTAURANT',\\\n",
    "                                    'RESTAURANT/GROCERY', 'grocery & restaurant', 'RESTAURANT/GROCERY STORE',\\\n",
    "                                    'GROCERY/TAQUERIA', 'GAS STATION/RESTAURANT'],\\\n",
    "              'banquet' : ['LOUNGE/BANQUET HALL', 'BANQUET', 'Banquet Hall', 'BANQUET FACILITY', 'banquet hall',\\\n",
    "                         'banquets', 'Banquet Dining',  'Banquet/kitchen','RESTAURANT.BANQUET HALLS',\\\n",
    "                         'BANQUET HALL', 'Banquet', 'BOWLING LANES/BANQUETS'], \\\n",
    "              'rooftop_restaurant' : ['Wrigley Roof Top', 'REST/ROOFTOP'],\\\n",
    "              'bar_restaurant' : ['RESTAURANT/BAR', 'RESTUARANT AND BAR', 'BAR/GRILL', 'RESTAURANT/BAR/THEATER',\\\n",
    "                                'JUICE AND SALAD BAR', 'SUSHI COUNTER', 'TAVERN/RESTAURANT', 'tavern/restaurant',\\\n",
    "                                'TAVERN GRILL'], \\\n",
    "              'bakery_restaurant' : ['BAKERY/ RESTAURANT', 'bakery/restaurant', 'RESTAURANT/BAKERY'], \\\n",
    "              'liquor_restaurant' : ['RESTAURANT AND LIQUOR', 'RESTAURANT/LIQUOR'], \\\n",
    "              'catering' : ['CATERING/CAFE', 'Catering'], \\\n",
    "              'golden_diner' : ['Golden Diner']}"
   ]
  },
  {
   "cell_type": "code",
   "execution_count": 10,
   "metadata": {},
   "outputs": [
    {
     "name": "stdout",
     "output_type": "stream",
     "text": [
      "2684\n"
     ]
    }
   ],
   "source": [
    "nombre = 0\n",
    "for y in df['Facility Type'] :\n",
    "    if y == 'Daycare (2 - 6 Years)' :\n",
    "        nombre += 1\n",
    "    else :\n",
    "        pass\n",
    "print(nombre)"
   ]
  },
  {
   "cell_type": "markdown",
   "metadata": {},
   "source": [
    "This command returns the number of occurencs of the `Facility Type` inputed. \n",
    "\n",
    "With trying different types previously categorized and listed in the `public_dic` dictionary we have noted that the results were too distant to conduct a meaningful analysis. That's why we then decided to also select \"public\" establishments like school cafeterias and hospitals. It could be interesting to compare private and public inspection results."
   ]
  },
  {
   "cell_type": "code",
   "execution_count": 11,
   "metadata": {},
   "outputs": [],
   "source": [
    "private_dic = {'daycare' : ['Daycare Above and Under 2 Years', 'Daycare (2 - 6 Years)', 'Daycare Combo 1586',\\\n",
    "                          'Daycare (Under 2 Years)', 'DAYCARE 2 YRS TO 12 YRS', 'Daycare Night', 'DAY CARE 2-14',\\\n",
    "                          'Daycare (2 Years)', 'DAYCARE', 'ADULT DAYCARE', '15 monts to 5 years old', 'youth housing',\\\n",
    "                          'DAYCARE 1586', 'DAYCARE COMBO', '1584-DAY CARE ABOVE 2 YEARS', 'CHURCH/DAY CARE', 'DAY CARE',\\\n",
    "                          'DAYCARE 6 WKS-5YRS', 'DAY CARE 1023', 'DAYCARE 2-6, UNDER 6', 'Day Care Combo (1586)'], \\\n",
    "               'school' : ['SCHOOL', 'School', 'PRIVATE SCHOOL', 'AFTER SCHOOL PROGRAM', 'COLLEGE',\\\n",
    "                         'BEFORE AND AFTER SCHOOL PROGRAM', 'Private School', 'TEACHING SCHOOL',\\\n",
    "                         'PUBLIC SHCOOL', 'CHARTER SCHOOL CAFETERIA', 'CAFETERIA', 'Cafeteria', 'cafeteria',\\\n",
    "                         'UNIVERSITY CAFETERIA', 'PREP INSIDE SCHOOL', 'CHARTER SCHOOL', 'school cafeteria',\\\n",
    "                         'CHARTER SCHOOL/CAFETERIA', 'School Cafeteria', 'ALTERNATIVE SCHOOL', 'CITY OF CHICAGO COLLEGE',\\\n",
    "                         'after school program', 'CHURCH/AFTER SCHOOL PROGRAM', 'AFTER SCHOOL CARE'], \\\n",
    "               'childrens_services' : [\"Children's Services Facility\", 'CHILDRENS SERVICES FACILITY', \\\n",
    "                                     \"CHILDERN'S SERVICE FACILITY\", \"1023 CHILDREN'S SERVICES FACILITY\", \\\n",
    "                                     \"1023 CHILDERN'S SERVICES FACILITY\", \"1023-CHILDREN'S SERVICES FACILITY\", \\\n",
    "                                     \"1023 CHILDERN'S SERVICE FACILITY\", \"1023 CHILDERN'S SERVICE S FACILITY\", \\\n",
    "                                     'CHILDERN ACTIVITY FACILITY', \"CHILDERN'S SERVICES  FACILITY\", '1023'], \\\n",
    "               'adultcare' : ['Long Term Care', 'REHAB CENTER', 'Hospital', 'ASSISTED LIVING', 'SENIOR DAY CARE',\\\n",
    "                            'Assisted Living', 'NURSING HOME', 'ASSISTED LIVING FACILITY', 'SUPPORTIVE LIVING FACILITY',\\\n",
    "                            'Assisted Living Senior Care', 'Adult Family Care Center', '1005 NURSING HOME', \\\n",
    "                            'Long-Term Care Facility', 'LONG TERM CARE FACILITY', 'ASSISSTED LIVING',\\\n",
    "                            'Long-Term Care','Long Term Care Facility', 'VFW HALL']}"
   ]
  },
  {
   "cell_type": "code",
   "execution_count": 12,
   "metadata": {},
   "outputs": [],
   "source": [
    "total_dic = {**public_dic , **private_dic}"
   ]
  },
  {
   "cell_type": "code",
   "execution_count": 13,
   "metadata": {},
   "outputs": [],
   "source": [
    "def newcolfromdict(dataf, dic, inputcolumn, outputcolumn) :\n",
    "    new_list = []\n",
    "    for content in dataf[inputcolumn] :\n",
    "        new_content = 'Not listed'\n",
    "\n",
    "        for k, v in dic.items() :\n",
    "            if type(v) == list :\n",
    "                for element in v :\n",
    "                    if content == element :\n",
    "                        new_content = k\n",
    "            else :\n",
    "                if content == v :\n",
    "                    new_content = k\n",
    "\n",
    "        new_list.append(new_content)\n",
    "    dataf[outputcolumn] = new_list\n",
    "    return dataf"
   ]
  },
  {
   "cell_type": "markdown",
   "metadata": {},
   "source": [
    "The **newcolfromdict** function constructs a new column `outputcolum` from the inputed column `inputcolum` comparing its values to the `dic` dictionary and adds it to the `dataf` dataframe."
   ]
  },
  {
   "cell_type": "code",
   "execution_count": 14,
   "metadata": {},
   "outputs": [],
   "source": [
    "eat_seat = newcolfromdict(df, total_dic, 'Facility Type', 'Facility Group')"
   ]
  },
  {
   "cell_type": "markdown",
   "metadata": {},
   "source": [
    "### Selecting the columns of interest"
   ]
  },
  {
   "cell_type": "code",
   "execution_count": 15,
   "metadata": {},
   "outputs": [
    {
     "data": {
      "text/html": [
       "<div>\n",
       "<style scoped>\n",
       "    .dataframe tbody tr th:only-of-type {\n",
       "        vertical-align: middle;\n",
       "    }\n",
       "\n",
       "    .dataframe tbody tr th {\n",
       "        vertical-align: top;\n",
       "    }\n",
       "\n",
       "    .dataframe thead th {\n",
       "        text-align: right;\n",
       "    }\n",
       "</style>\n",
       "<table border=\"1\" class=\"dataframe\">\n",
       "  <thead>\n",
       "    <tr style=\"text-align: right;\">\n",
       "      <th></th>\n",
       "      <th>Inspection ID</th>\n",
       "      <th>DBA Name</th>\n",
       "      <th>AKA Name</th>\n",
       "      <th>License #</th>\n",
       "      <th>Risk</th>\n",
       "      <th>Address</th>\n",
       "      <th>City</th>\n",
       "      <th>State</th>\n",
       "      <th>Zip</th>\n",
       "      <th>Inspection Date</th>\n",
       "      <th>Inspection Type</th>\n",
       "      <th>Results</th>\n",
       "      <th>Violations</th>\n",
       "      <th>Latitude</th>\n",
       "      <th>Longitude</th>\n",
       "      <th>Location</th>\n",
       "      <th>Facility Group</th>\n",
       "    </tr>\n",
       "  </thead>\n",
       "  <tbody>\n",
       "    <tr>\n",
       "      <th>0</th>\n",
       "      <td>2320971</td>\n",
       "      <td>JUMPSTART EARLY LEARNING ACADEMY</td>\n",
       "      <td>JUMPSTART EARLY LEARNING ACADEMY</td>\n",
       "      <td>2589822.0</td>\n",
       "      <td>Risk 1 (High)</td>\n",
       "      <td>7559 W ADDISON ST</td>\n",
       "      <td>CHICAGO</td>\n",
       "      <td>IL</td>\n",
       "      <td>60634.0</td>\n",
       "      <td>2019-11-01T00:00:00.000</td>\n",
       "      <td>Canvass</td>\n",
       "      <td>Pass w/ Conditions</td>\n",
       "      <td>5. PROCEDURES FOR RESPONDING TO VOMITING AND D...</td>\n",
       "      <td>41.945065</td>\n",
       "      <td>-87.816734</td>\n",
       "      <td>{'longitude': '41.945064857019986', 'latitude'...</td>\n",
       "      <td>childrens_services</td>\n",
       "    </tr>\n",
       "    <tr>\n",
       "      <th>1</th>\n",
       "      <td>2320918</td>\n",
       "      <td>BEEFSTEAK</td>\n",
       "      <td>BEEFSTEAK</td>\n",
       "      <td>2698445.0</td>\n",
       "      <td>Risk 1 (High)</td>\n",
       "      <td>303 E SUPERIOR ST</td>\n",
       "      <td>CHICAGO</td>\n",
       "      <td>IL</td>\n",
       "      <td>60611.0</td>\n",
       "      <td>2019-11-01T00:00:00.000</td>\n",
       "      <td>License</td>\n",
       "      <td>Pass</td>\n",
       "      <td>39. CONTAMINATION PREVENTED DURING FOOD PREPAR...</td>\n",
       "      <td>41.895692</td>\n",
       "      <td>-87.620143</td>\n",
       "      <td>{'longitude': '41.895692401410514', 'latitude'...</td>\n",
       "      <td>restaurant</td>\n",
       "    </tr>\n",
       "  </tbody>\n",
       "</table>\n",
       "</div>"
      ],
      "text/plain": [
       "   Inspection ID                          DBA Name  \\\n",
       "0        2320971  JUMPSTART EARLY LEARNING ACADEMY   \n",
       "1        2320918                         BEEFSTEAK   \n",
       "\n",
       "                           AKA Name  License #           Risk  \\\n",
       "0  JUMPSTART EARLY LEARNING ACADEMY  2589822.0  Risk 1 (High)   \n",
       "1                         BEEFSTEAK  2698445.0  Risk 1 (High)   \n",
       "\n",
       "              Address     City State      Zip          Inspection Date  \\\n",
       "0  7559 W ADDISON ST   CHICAGO    IL  60634.0  2019-11-01T00:00:00.000   \n",
       "1  303 E SUPERIOR ST   CHICAGO    IL  60611.0  2019-11-01T00:00:00.000   \n",
       "\n",
       "  Inspection Type             Results  \\\n",
       "0         Canvass  Pass w/ Conditions   \n",
       "1         License                Pass   \n",
       "\n",
       "                                          Violations   Latitude  Longitude  \\\n",
       "0  5. PROCEDURES FOR RESPONDING TO VOMITING AND D...  41.945065 -87.816734   \n",
       "1  39. CONTAMINATION PREVENTED DURING FOOD PREPAR...  41.895692 -87.620143   \n",
       "\n",
       "                                            Location      Facility Group  \n",
       "0  {'longitude': '41.945064857019986', 'latitude'...  childrens_services  \n",
       "1  {'longitude': '41.895692401410514', 'latitude'...          restaurant  "
      ]
     },
     "execution_count": 15,
     "metadata": {},
     "output_type": "execute_result"
    }
   ],
   "source": [
    "eat_seat = df.loc[df['Facility Group'] != 'Not Listed']\n",
    "eat_seat = eat_seat.drop(columns = ['Facility Type', 'Historical Wards 2003-2015', 'Zip Codes', 'Community Areas', 'Census Tracts', 'Wards'])\n",
    "\n",
    "eat_seat.head(2)"
   ]
  },
  {
   "cell_type": "markdown",
   "metadata": {},
   "source": [
    "To construct the new dataframe the `Historical Wards 2003-2015`, `Zip Codes`, `Community Areas`, `Census Tracts` and `Wards` columns are dropped because mostly not completed, the `Facility Type` column is dropped because it has been replaced by the `Facility group`one and the *Not Listed* establishments are not selected."
   ]
  },
  {
   "cell_type": "code",
   "execution_count": 16,
   "metadata": {},
   "outputs": [
    {
     "name": "stdout",
     "output_type": "stream",
     "text": [
      "195312\n"
     ]
    }
   ],
   "source": [
    "print(len(eat_seat.index))    ##returns the number of rows of the df"
   ]
  },
  {
   "cell_type": "markdown",
   "metadata": {},
   "source": [
    "### Cleaning the zip codes"
   ]
  },
  {
   "cell_type": "code",
   "execution_count": 17,
   "metadata": {},
   "outputs": [],
   "source": [
    "def clean_zip(zipcode):\n",
    "    try :\n",
    "        return int(float(zipcode))\n",
    "    except :\n",
    "        return 0"
   ]
  },
  {
   "cell_type": "code",
   "execution_count": 18,
   "metadata": {},
   "outputs": [],
   "source": [
    "eat_seat.Zip = eat_seat.Zip.apply(clean_zip)    ##guarantees the zipcodes to be integers"
   ]
  },
  {
   "cell_type": "markdown",
   "metadata": {},
   "source": [
    "We found a file associating the chicago zipe codes and their associated community area. Using it we can create a new `Community Area` column."
   ]
  },
  {
   "cell_type": "code",
   "execution_count": 19,
   "metadata": {},
   "outputs": [],
   "source": [
    "zip_to_area = pd.read_csv('ZipCode_to_ComArea.csv',sep=',') ##creation of the dataframe\n",
    "zip_to_area = zip_to_area.drop(columns = ['TOT2010'])\n",
    "\n",
    "zip_to_area.ZipCode = zip_to_area.ZipCode.apply(clean_zip) ##guarantees the zipcodes to be integers\n",
    "\n",
    "zip_to_area = zip_to_area.groupby('ComArea')['ZipCode'].apply(list)    ##groups the zipcodes by community area number\n",
    "zip_to_area = zip_to_area.reset_index()"
   ]
  },
  {
   "cell_type": "code",
   "execution_count": 20,
   "metadata": {},
   "outputs": [],
   "source": [
    "zip_dic = zip_to_area.set_index('ComArea')['ZipCode'].to_dict()"
   ]
  },
  {
   "cell_type": "code",
   "execution_count": 21,
   "metadata": {},
   "outputs": [],
   "source": [
    "eat_seat = newcolfromdict(eat_seat, zip_dic, 'Zip', 'Community Area')"
   ]
  },
  {
   "cell_type": "code",
   "execution_count": 22,
   "metadata": {},
   "outputs": [
    {
     "data": {
      "text/html": [
       "<div>\n",
       "<style scoped>\n",
       "    .dataframe tbody tr th:only-of-type {\n",
       "        vertical-align: middle;\n",
       "    }\n",
       "\n",
       "    .dataframe tbody tr th {\n",
       "        vertical-align: top;\n",
       "    }\n",
       "\n",
       "    .dataframe thead th {\n",
       "        text-align: right;\n",
       "    }\n",
       "</style>\n",
       "<table border=\"1\" class=\"dataframe\">\n",
       "  <thead>\n",
       "    <tr style=\"text-align: right;\">\n",
       "      <th></th>\n",
       "      <th>Inspection ID</th>\n",
       "      <th>DBA Name</th>\n",
       "      <th>AKA Name</th>\n",
       "      <th>License #</th>\n",
       "      <th>Risk</th>\n",
       "      <th>Address</th>\n",
       "      <th>City</th>\n",
       "      <th>State</th>\n",
       "      <th>Zip</th>\n",
       "      <th>Inspection Date</th>\n",
       "      <th>Inspection Type</th>\n",
       "      <th>Results</th>\n",
       "      <th>Violations</th>\n",
       "      <th>Latitude</th>\n",
       "      <th>Longitude</th>\n",
       "      <th>Location</th>\n",
       "      <th>Facility Group</th>\n",
       "      <th>Community Area</th>\n",
       "    </tr>\n",
       "  </thead>\n",
       "  <tbody>\n",
       "    <tr>\n",
       "      <th>0</th>\n",
       "      <td>2320971</td>\n",
       "      <td>JUMPSTART EARLY LEARNING ACADEMY</td>\n",
       "      <td>JUMPSTART EARLY LEARNING ACADEMY</td>\n",
       "      <td>2589822.0</td>\n",
       "      <td>Risk 1 (High)</td>\n",
       "      <td>7559 W ADDISON ST</td>\n",
       "      <td>CHICAGO</td>\n",
       "      <td>IL</td>\n",
       "      <td>60634</td>\n",
       "      <td>2019-11-01T00:00:00.000</td>\n",
       "      <td>Canvass</td>\n",
       "      <td>Pass w/ Conditions</td>\n",
       "      <td>5. PROCEDURES FOR RESPONDING TO VOMITING AND D...</td>\n",
       "      <td>41.945065</td>\n",
       "      <td>-87.816734</td>\n",
       "      <td>{'longitude': '41.945064857019986', 'latitude'...</td>\n",
       "      <td>childrens_services</td>\n",
       "      <td>76</td>\n",
       "    </tr>\n",
       "    <tr>\n",
       "      <th>1</th>\n",
       "      <td>2320918</td>\n",
       "      <td>BEEFSTEAK</td>\n",
       "      <td>BEEFSTEAK</td>\n",
       "      <td>2698445.0</td>\n",
       "      <td>Risk 1 (High)</td>\n",
       "      <td>303 E SUPERIOR ST</td>\n",
       "      <td>CHICAGO</td>\n",
       "      <td>IL</td>\n",
       "      <td>60611</td>\n",
       "      <td>2019-11-01T00:00:00.000</td>\n",
       "      <td>License</td>\n",
       "      <td>Pass</td>\n",
       "      <td>39. CONTAMINATION PREVENTED DURING FOOD PREPAR...</td>\n",
       "      <td>41.895692</td>\n",
       "      <td>-87.620143</td>\n",
       "      <td>{'longitude': '41.895692401410514', 'latitude'...</td>\n",
       "      <td>restaurant</td>\n",
       "      <td>8</td>\n",
       "    </tr>\n",
       "    <tr>\n",
       "      <th>2</th>\n",
       "      <td>2320986</td>\n",
       "      <td>BABA'S COFFEE</td>\n",
       "      <td>BABA'S COFFEE</td>\n",
       "      <td>2423353.0</td>\n",
       "      <td>Risk 1 (High)</td>\n",
       "      <td>5544-5546 N KEDZIE AVE</td>\n",
       "      <td>CHICAGO</td>\n",
       "      <td>IL</td>\n",
       "      <td>60625</td>\n",
       "      <td>2019-11-01T00:00:00.000</td>\n",
       "      <td>Canvass</td>\n",
       "      <td>No Entry</td>\n",
       "      <td>NaN</td>\n",
       "      <td>41.982582</td>\n",
       "      <td>-87.708996</td>\n",
       "      <td>{'longitude': '41.98258181784537', 'latitude':...</td>\n",
       "      <td>restaurant</td>\n",
       "      <td>14</td>\n",
       "    </tr>\n",
       "  </tbody>\n",
       "</table>\n",
       "</div>"
      ],
      "text/plain": [
       "   Inspection ID                          DBA Name  \\\n",
       "0        2320971  JUMPSTART EARLY LEARNING ACADEMY   \n",
       "1        2320918                         BEEFSTEAK   \n",
       "2        2320986                     BABA'S COFFEE   \n",
       "\n",
       "                           AKA Name  License #           Risk  \\\n",
       "0  JUMPSTART EARLY LEARNING ACADEMY  2589822.0  Risk 1 (High)   \n",
       "1                         BEEFSTEAK  2698445.0  Risk 1 (High)   \n",
       "2                     BABA'S COFFEE  2423353.0  Risk 1 (High)   \n",
       "\n",
       "                   Address     City State    Zip          Inspection Date  \\\n",
       "0       7559 W ADDISON ST   CHICAGO    IL  60634  2019-11-01T00:00:00.000   \n",
       "1       303 E SUPERIOR ST   CHICAGO    IL  60611  2019-11-01T00:00:00.000   \n",
       "2  5544-5546 N KEDZIE AVE   CHICAGO    IL  60625  2019-11-01T00:00:00.000   \n",
       "\n",
       "  Inspection Type             Results  \\\n",
       "0         Canvass  Pass w/ Conditions   \n",
       "1         License                Pass   \n",
       "2         Canvass            No Entry   \n",
       "\n",
       "                                          Violations   Latitude  Longitude  \\\n",
       "0  5. PROCEDURES FOR RESPONDING TO VOMITING AND D...  41.945065 -87.816734   \n",
       "1  39. CONTAMINATION PREVENTED DURING FOOD PREPAR...  41.895692 -87.620143   \n",
       "2                                                NaN  41.982582 -87.708996   \n",
       "\n",
       "                                            Location      Facility Group  \\\n",
       "0  {'longitude': '41.945064857019986', 'latitude'...  childrens_services   \n",
       "1  {'longitude': '41.895692401410514', 'latitude'...          restaurant   \n",
       "2  {'longitude': '41.98258181784537', 'latitude':...          restaurant   \n",
       "\n",
       "  Community Area  \n",
       "0             76  \n",
       "1              8  \n",
       "2             14  "
      ]
     },
     "execution_count": 22,
     "metadata": {},
     "output_type": "execute_result"
    }
   ],
   "source": [
    "eat_seat.head(3)"
   ]
  },
  {
   "cell_type": "code",
   "execution_count": 23,
   "metadata": {},
   "outputs": [
    {
     "name": "stdout",
     "output_type": "stream",
     "text": [
      "51\n"
     ]
    }
   ],
   "source": [
    "pb = 0\n",
    "for zipcode in eat_seat.Zip :\n",
    "    if zipcode == 0 : \n",
    "        pb += 1\n",
    "print(pb)"
   ]
  },
  {
   "cell_type": "markdown",
   "metadata": {},
   "source": [
    "The **clean_zip()** function returns **0** if the zip code is not convertible into an integer. Here it means that there are 51 missing zip codes in the `Zip` column, so we need to complete the data using the other informations available.\n",
    "We found a dataset online which contains all the US zip code and the longitude and latitude associated. Only the Chicago zip codes have been kept."
   ]
  },
  {
   "cell_type": "code",
   "execution_count": 24,
   "metadata": {},
   "outputs": [
    {
     "data": {
      "text/html": [
       "<div>\n",
       "<style scoped>\n",
       "    .dataframe tbody tr th:only-of-type {\n",
       "        vertical-align: middle;\n",
       "    }\n",
       "\n",
       "    .dataframe tbody tr th {\n",
       "        vertical-align: top;\n",
       "    }\n",
       "\n",
       "    .dataframe thead th {\n",
       "        text-align: right;\n",
       "    }\n",
       "</style>\n",
       "<table border=\"1\" class=\"dataframe\">\n",
       "  <thead>\n",
       "    <tr style=\"text-align: right;\">\n",
       "      <th></th>\n",
       "      <th>ZIP</th>\n",
       "      <th>LAT</th>\n",
       "      <th>LNG</th>\n",
       "    </tr>\n",
       "  </thead>\n",
       "  <tbody>\n",
       "    <tr>\n",
       "      <th>0</th>\n",
       "      <td>60007</td>\n",
       "      <td>42.008600</td>\n",
       "      <td>-87.997340</td>\n",
       "    </tr>\n",
       "    <tr>\n",
       "      <th>1</th>\n",
       "      <td>60008</td>\n",
       "      <td>42.069786</td>\n",
       "      <td>-88.016221</td>\n",
       "    </tr>\n",
       "    <tr>\n",
       "      <th>2</th>\n",
       "      <td>60010</td>\n",
       "      <td>42.146494</td>\n",
       "      <td>-88.164651</td>\n",
       "    </tr>\n",
       "    <tr>\n",
       "      <th>3</th>\n",
       "      <td>60012</td>\n",
       "      <td>42.272492</td>\n",
       "      <td>-88.314084</td>\n",
       "    </tr>\n",
       "    <tr>\n",
       "      <th>4</th>\n",
       "      <td>60013</td>\n",
       "      <td>42.223439</td>\n",
       "      <td>-88.235506</td>\n",
       "    </tr>\n",
       "  </tbody>\n",
       "</table>\n",
       "</div>"
      ],
      "text/plain": [
       "     ZIP        LAT        LNG\n",
       "0  60007  42.008600 -87.997340\n",
       "1  60008  42.069786 -88.016221\n",
       "2  60010  42.146494 -88.164651\n",
       "3  60012  42.272492 -88.314084\n",
       "4  60013  42.223439 -88.235506"
      ]
     },
     "execution_count": 24,
     "metadata": {},
     "output_type": "execute_result"
    }
   ],
   "source": [
    "ziplatlong = pd.read_csv('ZipLatLong.csv',sep=',')\n",
    "ziplatlong.head()"
   ]
  },
  {
   "cell_type": "markdown",
   "metadata": {},
   "source": [
    "### Managing the changes in the Food Code Rules\n",
    "\n",
    "The Food Code Rules has changed since the 1st July 2018. "
   ]
  },
  {
   "cell_type": "code",
   "execution_count": 25,
   "metadata": {},
   "outputs": [
    {
     "data": {
      "text/html": [
       "<div>\n",
       "<style scoped>\n",
       "    .dataframe tbody tr th:only-of-type {\n",
       "        vertical-align: middle;\n",
       "    }\n",
       "\n",
       "    .dataframe tbody tr th {\n",
       "        vertical-align: top;\n",
       "    }\n",
       "\n",
       "    .dataframe thead th {\n",
       "        text-align: right;\n",
       "    }\n",
       "</style>\n",
       "<table border=\"1\" class=\"dataframe\">\n",
       "  <thead>\n",
       "    <tr style=\"text-align: right;\">\n",
       "      <th></th>\n",
       "      <th>Inspection ID</th>\n",
       "      <th>DBA Name</th>\n",
       "      <th>AKA Name</th>\n",
       "      <th>License #</th>\n",
       "      <th>Risk</th>\n",
       "      <th>Address</th>\n",
       "      <th>City</th>\n",
       "      <th>State</th>\n",
       "      <th>Zip</th>\n",
       "      <th>Inspection Date</th>\n",
       "      <th>Inspection Type</th>\n",
       "      <th>Results</th>\n",
       "      <th>Violations</th>\n",
       "      <th>Latitude</th>\n",
       "      <th>Longitude</th>\n",
       "      <th>Location</th>\n",
       "      <th>Facility Group</th>\n",
       "      <th>Community Area</th>\n",
       "    </tr>\n",
       "  </thead>\n",
       "  <tbody>\n",
       "    <tr>\n",
       "      <th>0</th>\n",
       "      <td>2320971</td>\n",
       "      <td>JUMPSTART EARLY LEARNING ACADEMY</td>\n",
       "      <td>JUMPSTART EARLY LEARNING ACADEMY</td>\n",
       "      <td>2589822.0</td>\n",
       "      <td>Risk 1 (High)</td>\n",
       "      <td>7559 W ADDISON ST</td>\n",
       "      <td>CHICAGO</td>\n",
       "      <td>IL</td>\n",
       "      <td>60634</td>\n",
       "      <td>2019-11-01T00:00:00.000</td>\n",
       "      <td>Canvass</td>\n",
       "      <td>Pass w/ Conditions</td>\n",
       "      <td>5. PROCEDURES FOR RESPONDING TO VOMITING AND D...</td>\n",
       "      <td>41.945065</td>\n",
       "      <td>-87.816734</td>\n",
       "      <td>{'longitude': '41.945064857019986', 'latitude'...</td>\n",
       "      <td>childrens_services</td>\n",
       "      <td>76</td>\n",
       "    </tr>\n",
       "    <tr>\n",
       "      <th>1</th>\n",
       "      <td>2320918</td>\n",
       "      <td>BEEFSTEAK</td>\n",
       "      <td>BEEFSTEAK</td>\n",
       "      <td>2698445.0</td>\n",
       "      <td>Risk 1 (High)</td>\n",
       "      <td>303 E SUPERIOR ST</td>\n",
       "      <td>CHICAGO</td>\n",
       "      <td>IL</td>\n",
       "      <td>60611</td>\n",
       "      <td>2019-11-01T00:00:00.000</td>\n",
       "      <td>License</td>\n",
       "      <td>Pass</td>\n",
       "      <td>39. CONTAMINATION PREVENTED DURING FOOD PREPAR...</td>\n",
       "      <td>41.895692</td>\n",
       "      <td>-87.620143</td>\n",
       "      <td>{'longitude': '41.895692401410514', 'latitude'...</td>\n",
       "      <td>restaurant</td>\n",
       "      <td>8</td>\n",
       "    </tr>\n",
       "    <tr>\n",
       "      <th>2</th>\n",
       "      <td>2320986</td>\n",
       "      <td>BABA'S COFFEE</td>\n",
       "      <td>BABA'S COFFEE</td>\n",
       "      <td>2423353.0</td>\n",
       "      <td>Risk 1 (High)</td>\n",
       "      <td>5544-5546 N KEDZIE AVE</td>\n",
       "      <td>CHICAGO</td>\n",
       "      <td>IL</td>\n",
       "      <td>60625</td>\n",
       "      <td>2019-11-01T00:00:00.000</td>\n",
       "      <td>Canvass</td>\n",
       "      <td>No Entry</td>\n",
       "      <td>NaN</td>\n",
       "      <td>41.982582</td>\n",
       "      <td>-87.708996</td>\n",
       "      <td>{'longitude': '41.98258181784537', 'latitude':...</td>\n",
       "      <td>restaurant</td>\n",
       "      <td>14</td>\n",
       "    </tr>\n",
       "    <tr>\n",
       "      <th>3</th>\n",
       "      <td>2320910</td>\n",
       "      <td>J.T.'S GENUINE SANDWICH</td>\n",
       "      <td>J.T.'S GENUINE SANDWICH</td>\n",
       "      <td>2689893.0</td>\n",
       "      <td>Risk 1 (High)</td>\n",
       "      <td>3970 N ELSTON AVE</td>\n",
       "      <td>CHICAGO</td>\n",
       "      <td>IL</td>\n",
       "      <td>60618</td>\n",
       "      <td>2019-11-01T00:00:00.000</td>\n",
       "      <td>License</td>\n",
       "      <td>Pass</td>\n",
       "      <td>51. PLUMBING INSTALLED; PROPER BACKFLOW DEVICE...</td>\n",
       "      <td>41.953378</td>\n",
       "      <td>-87.718848</td>\n",
       "      <td>{'longitude': '41.95337788158545', 'latitude':...</td>\n",
       "      <td>restaurant</td>\n",
       "      <td>22</td>\n",
       "    </tr>\n",
       "    <tr>\n",
       "      <th>4</th>\n",
       "      <td>2320904</td>\n",
       "      <td>KID'Z COLONY DAYCARE, INC.</td>\n",
       "      <td>KID'Z COLONY DAYCARE, INC.</td>\n",
       "      <td>2215609.0</td>\n",
       "      <td>Risk 1 (High)</td>\n",
       "      <td>6287 S ARCHER AVE</td>\n",
       "      <td>CHICAGO</td>\n",
       "      <td>IL</td>\n",
       "      <td>60638</td>\n",
       "      <td>2019-11-01T00:00:00.000</td>\n",
       "      <td>Canvass</td>\n",
       "      <td>Fail</td>\n",
       "      <td>16. FOOD-CONTACT SURFACES: CLEANED &amp; SANITIZED...</td>\n",
       "      <td>41.793235</td>\n",
       "      <td>-87.777776</td>\n",
       "      <td>{'longitude': '41.7932347787373', 'latitude': ...</td>\n",
       "      <td>daycare</td>\n",
       "      <td>64</td>\n",
       "    </tr>\n",
       "  </tbody>\n",
       "</table>\n",
       "</div>"
      ],
      "text/plain": [
       "   Inspection ID                          DBA Name  \\\n",
       "0        2320971  JUMPSTART EARLY LEARNING ACADEMY   \n",
       "1        2320918                         BEEFSTEAK   \n",
       "2        2320986                     BABA'S COFFEE   \n",
       "3        2320910           J.T.'S GENUINE SANDWICH   \n",
       "4        2320904        KID'Z COLONY DAYCARE, INC.   \n",
       "\n",
       "                           AKA Name  License #           Risk  \\\n",
       "0  JUMPSTART EARLY LEARNING ACADEMY  2589822.0  Risk 1 (High)   \n",
       "1                         BEEFSTEAK  2698445.0  Risk 1 (High)   \n",
       "2                     BABA'S COFFEE  2423353.0  Risk 1 (High)   \n",
       "3           J.T.'S GENUINE SANDWICH  2689893.0  Risk 1 (High)   \n",
       "4        KID'Z COLONY DAYCARE, INC.  2215609.0  Risk 1 (High)   \n",
       "\n",
       "                   Address     City State    Zip          Inspection Date  \\\n",
       "0       7559 W ADDISON ST   CHICAGO    IL  60634  2019-11-01T00:00:00.000   \n",
       "1       303 E SUPERIOR ST   CHICAGO    IL  60611  2019-11-01T00:00:00.000   \n",
       "2  5544-5546 N KEDZIE AVE   CHICAGO    IL  60625  2019-11-01T00:00:00.000   \n",
       "3       3970 N ELSTON AVE   CHICAGO    IL  60618  2019-11-01T00:00:00.000   \n",
       "4       6287 S ARCHER AVE   CHICAGO    IL  60638  2019-11-01T00:00:00.000   \n",
       "\n",
       "  Inspection Type             Results  \\\n",
       "0         Canvass  Pass w/ Conditions   \n",
       "1         License                Pass   \n",
       "2         Canvass            No Entry   \n",
       "3         License                Pass   \n",
       "4         Canvass                Fail   \n",
       "\n",
       "                                          Violations   Latitude  Longitude  \\\n",
       "0  5. PROCEDURES FOR RESPONDING TO VOMITING AND D...  41.945065 -87.816734   \n",
       "1  39. CONTAMINATION PREVENTED DURING FOOD PREPAR...  41.895692 -87.620143   \n",
       "2                                                NaN  41.982582 -87.708996   \n",
       "3  51. PLUMBING INSTALLED; PROPER BACKFLOW DEVICE...  41.953378 -87.718848   \n",
       "4  16. FOOD-CONTACT SURFACES: CLEANED & SANITIZED...  41.793235 -87.777776   \n",
       "\n",
       "                                            Location      Facility Group  \\\n",
       "0  {'longitude': '41.945064857019986', 'latitude'...  childrens_services   \n",
       "1  {'longitude': '41.895692401410514', 'latitude'...          restaurant   \n",
       "2  {'longitude': '41.98258181784537', 'latitude':...          restaurant   \n",
       "3  {'longitude': '41.95337788158545', 'latitude':...          restaurant   \n",
       "4  {'longitude': '41.7932347787373', 'latitude': ...             daycare   \n",
       "\n",
       "  Community Area  \n",
       "0             76  \n",
       "1              8  \n",
       "2             14  \n",
       "3             22  \n",
       "4             64  "
      ]
     },
     "execution_count": 25,
     "metadata": {},
     "output_type": "execute_result"
    }
   ],
   "source": [
    "eat_seat.head()"
   ]
  },
  {
   "cell_type": "code",
   "execution_count": 26,
   "metadata": {},
   "outputs": [
    {
     "data": {
      "text/plain": [
       "Int64Index([     0,      1,      2,      3,      4,      5,      6,      7,\n",
       "                 8,      9,\n",
       "            ...\n",
       "            195302, 195303, 195304, 195305, 195306, 195307, 195308, 195309,\n",
       "            195310, 195311],\n",
       "           dtype='int64', length=195312)"
      ]
     },
     "execution_count": 26,
     "metadata": {},
     "output_type": "execute_result"
    }
   ],
   "source": [
    "eat_seat.index"
   ]
  },
  {
   "cell_type": "code",
   "execution_count": 27,
   "metadata": {},
   "outputs": [
    {
     "data": {
      "text/plain": [
       "Inspection ID        int64\n",
       "DBA Name            object\n",
       "AKA Name            object\n",
       "License #          float64\n",
       "Risk                object\n",
       "Address             object\n",
       "City                object\n",
       "State               object\n",
       "Zip                  int64\n",
       "Inspection Date     object\n",
       "Inspection Type     object\n",
       "Results             object\n",
       "Violations          object\n",
       "Latitude           float64\n",
       "Longitude          float64\n",
       "Location            object\n",
       "Facility Group      object\n",
       "Community Area      object\n",
       "dtype: object"
      ]
     },
     "execution_count": 27,
     "metadata": {},
     "output_type": "execute_result"
    }
   ],
   "source": [
    "eat_seat.dtypes"
   ]
  },
  {
   "cell_type": "code",
   "execution_count": 28,
   "metadata": {},
   "outputs": [
    {
     "name": "stdout",
     "output_type": "stream",
     "text": [
      "<class 'pandas.core.frame.DataFrame'>\n",
      "Int64Index: 195312 entries, 0 to 195311\n",
      "Data columns (total 18 columns):\n",
      "Inspection ID      195312 non-null int64\n",
      "DBA Name           195312 non-null object\n",
      "AKA Name           192862 non-null object\n",
      "License #          195295 non-null float64\n",
      "Risk               195239 non-null object\n",
      "Address            195312 non-null object\n",
      "City               195173 non-null object\n",
      "State              195270 non-null object\n",
      "Zip                195312 non-null int64\n",
      "Inspection Date    195312 non-null object\n",
      "Inspection Type    195311 non-null object\n",
      "Results            195312 non-null object\n",
      "Violations         143530 non-null object\n",
      "Latitude           194627 non-null float64\n",
      "Longitude          194627 non-null float64\n",
      "Location           194627 non-null object\n",
      "Facility Group     195312 non-null object\n",
      "Community Area     195312 non-null object\n",
      "dtypes: float64(3), int64(2), object(13)\n",
      "memory usage: 28.3+ MB\n"
     ]
    }
   ],
   "source": [
    "eat_seat.info()"
   ]
  },
  {
   "cell_type": "markdown",
   "metadata": {},
   "source": [
    "The following code returns every unique entry in the considered column : "
   ]
  },
  {
   "cell_type": "code",
   "execution_count": null,
   "metadata": {},
   "outputs": [],
   "source": [
    "eat_seat.Violations.unique()"
   ]
  },
  {
   "cell_type": "code",
   "execution_count": null,
   "metadata": {},
   "outputs": [],
   "source": [
    "len(eat_seat.Violations.unique())"
   ]
  },
  {
   "cell_type": "markdown",
   "metadata": {},
   "source": [
    "It seems that every violation is a unique entry because it contains not only the violation type but also the comments of the inspectors. We have to split the Violations column into 3 different columns :\n",
    "- Violation number\n",
    "- Violation type\n",
    "- Violation comments\n",
    "\n",
    "It seems that every violation cell is architectured this way :\n",
    "\"number of the violation\". \"TYPE OF THE VIOLATION\" - Comments : \"comments of the inspector\"\n",
    "\n",
    "We can also try to split each line in three, separating the numbers (taking each character until the character \".\"), then separating the violation type (every following character until the character \"-\"), and the rest of the characters would be the comments of the inspector. "
   ]
  },
  {
   "cell_type": "code",
   "execution_count": 75,
   "metadata": {},
   "outputs": [
    {
     "data": {
      "text/plain": [
       "'5. PROCEDURES FOR RESPONDING TO VOMITING AND DIARRHEAL EVENTS - Comments: OBSERVED INCOMPLETE CLEAN UP KIT ON SITE.INSTRUCTED MANAGEMENT TO HAVE A COMPLETE CLEAN UP KIT BY NEXT INSPECTION.CLEAN UP PROCEDURES  ON SITE PRIORITY FOUNDATION VIOLATION  7-38-005   NO CITATION ISSUED | 10. ADEQUATE HANDWASHING SINKS PROPERLY SUPPLIED AND ACCESSIBLE - Comments: OBSERVED EXPOSED HAND SINK NOT ACCESSIBLE FOR HANDWASHING IN THE FOOD PREP AREA.INSTRUCTED MANAGEMENT TO INSTALL EXPOSED HAND SINK AT A LOCATION THAT IS ACCESSIBLE. PRIORITY FOUNDATION VIOLATION 7-38-030(c) NO CITATION ISSUED | 56. ADEQUATE VENTILATION & LIGHTING; DESIGNATED AREAS USED - Comments: OBSERVED HOT LINE HOOD FILTERS DUSTY.INSTRUCTED MANAGEMENT TO CLEAN HOT LINE HOOD FILTERS.'"
      ]
     },
     "execution_count": 75,
     "metadata": {},
     "output_type": "execute_result"
    }
   ],
   "source": [
    "eat_seat['Violations'][0]"
   ]
  },
  {
   "cell_type": "markdown",
   "metadata": {},
   "source": [
    "Actually it seems that it is not a good idea because there is more than one violation in every Violations cell. "
   ]
  },
  {
   "cell_type": "code",
   "execution_count": 76,
   "metadata": {},
   "outputs": [
    {
     "data": {
      "text/plain": [
       "['5',\n",
       " ' PROCEDURES FOR RESPONDING TO VOMITING AND DIARRHEAL EVENTS - Comments: OBSERVED INCOMPLETE CLEAN UP KIT ON SITE',\n",
       " 'INSTRUCTED MANAGEMENT TO HAVE A COMPLETE CLEAN UP KIT BY NEXT INSPECTION',\n",
       " 'CLEAN UP PROCEDURES  ON SITE PRIORITY FOUNDATION VIOLATION  7-38-005   NO CITATION ISSUED | 10',\n",
       " ' ADEQUATE HANDWASHING SINKS PROPERLY SUPPLIED AND ACCESSIBLE - Comments: OBSERVED EXPOSED HAND SINK NOT ACCESSIBLE FOR HANDWASHING IN THE FOOD PREP AREA',\n",
       " 'INSTRUCTED MANAGEMENT TO INSTALL EXPOSED HAND SINK AT A LOCATION THAT IS ACCESSIBLE',\n",
       " ' PRIORITY FOUNDATION VIOLATION 7-38-030(c) NO CITATION ISSUED | 56',\n",
       " ' ADEQUATE VENTILATION & LIGHTING; DESIGNATED AREAS USED - Comments: OBSERVED HOT LINE HOOD FILTERS DUSTY',\n",
       " 'INSTRUCTED MANAGEMENT TO CLEAN HOT LINE HOOD FILTERS',\n",
       " '']"
      ]
     },
     "execution_count": 76,
     "metadata": {},
     "output_type": "execute_result"
    }
   ],
   "source": [
    "eat_seat['Violations'] = eat_seat.Violations.apply(lambda x : str(x))\n",
    "\n",
    "eat_seat['Violations'] = eat_seat.Violations.apply(lambda x : x.split(\".\"))\n",
    "\n",
    "eat_seat['Violations'][0]"
   ]
  },
  {
   "cell_type": "code",
   "execution_count": 44,
   "metadata": {},
   "outputs": [
    {
     "data": {
      "text/plain": [
       "1"
      ]
     },
     "execution_count": 44,
     "metadata": {},
     "output_type": "execute_result"
    }
   ],
   "source": [
    "\n",
    "len(eat_seat['Violations'][0])"
   ]
  },
  {
   "cell_type": "code",
   "execution_count": 47,
   "metadata": {},
   "outputs": [
    {
     "data": {
      "text/plain": [
       "'[\\'[\\\\\\'[\\\\\\\\\\\\\\'[\\\\\\\\\\\\\\\\\\\\\\\\\\\\\\'[\"[\\\\\\\\\\\\\\\\\\\\\\\\\\\\\\\\\\\\\\\\\\\\\\\\\\\\\\\\\\\\\\'5\\\\\\\\\\\\\\\\\\\\\\\\\\\\\\\\\\\\\\\\\\\\\\\\\\\\\\\\\\\\\\', \\\\\\\\\\\\\\\\\\\\\\\\\\\\\\\\\\\\\\\\\\\\\\\\\\\\\\\\\\\\\\' PROCEDURES FOR RESPONDING TO VOMITING AND DIARRHEAL EVENTS - Comments: OBSERVED INCOMPLETE CLEAN UP KIT ON SITE\\\\\\\\\\\\\\\\\\\\\\\\\\\\\\\\\\\\\\\\\\\\\\\\\\\\\\\\\\\\\\', \\\\\\\\\\\\\\\\\\\\\\\\\\\\\\\\\\\\\\\\\\\\\\\\\\\\\\\\\\\\\\'INSTRUCTED MANAGEMENT TO HAVE A COMPLETE CLEAN UP KIT BY NEXT INSPECTION\\\\\\\\\\\\\\\\\\\\\\\\\\\\\\\\\\\\\\\\\\\\\\\\\\\\\\\\\\\\\\', \\\\\\\\\\\\\\\\\\\\\\\\\\\\\\\\\\\\\\\\\\\\\\\\\\\\\\\\\\\\\\'CLEAN UP PROCEDURES  ON SITE PRIORITY FOUNDATION VIOLATION  7-38-005   NO CITATION ISSUED | 10\\\\\\\\\\\\\\\\\\\\\\\\\\\\\\\\\\\\\\\\\\\\\\\\\\\\\\\\\\\\\\', \\\\\\\\\\\\\\\\\\\\\\\\\\\\\\\\\\\\\\\\\\\\\\\\\\\\\\\\\\\\\\' ADEQUATE HANDWASHING SINKS PROPERLY SUPPLIED AND ACCESSIBLE - Comments: OBSERVED EXPOSED HAND SINK NOT ACCESSIBLE FOR HANDWASHING IN THE FOOD PREP AREA\\\\\\\\\\\\\\\\\\\\\\\\\\\\\\\\\\\\\\\\\\\\\\\\\\\\\\\\\\\\\\', \\\\\\\\\\\\\\\\\\\\\\\\\\\\\\\\\\\\\\\\\\\\\\\\\\\\\\\\\\\\\\'INSTRUCTED MANAGEMENT TO INSTALL EXPOSED HAND SINK AT A LOCATION THAT IS ACCESSIBLE\\\\\\\\\\\\\\\\\\\\\\\\\\\\\\\\\\\\\\\\\\\\\\\\\\\\\\\\\\\\\\', \\\\\\\\\\\\\\\\\\\\\\\\\\\\\\\\\\\\\\\\\\\\\\\\\\\\\\\\\\\\\\' PRIORITY FOUNDATION VIOLATION 7-38-030(c) NO CITATION ISSUED | 56\\\\\\\\\\\\\\\\\\\\\\\\\\\\\\\\\\\\\\\\\\\\\\\\\\\\\\\\\\\\\\', \\\\\\\\\\\\\\\\\\\\\\\\\\\\\\\\\\\\\\\\\\\\\\\\\\\\\\\\\\\\\\' ADEQUATE VENTILATION & LIGHTING; DESIGNATED AREAS USED - Comments: OBSERVED HOT LINE HOOD FILTERS DUSTY\\\\\\\\\\\\\\\\\\\\\\\\\\\\\\\\\\\\\\\\\\\\\\\\\\\\\\\\\\\\\\', \\\\\\\\\\\\\\\\\\\\\\\\\\\\\\\\\\\\\\\\\\\\\\\\\\\\\\\\\\\\\\'INSTRUCTED MANAGEMENT TO CLEAN HOT LINE HOOD FILTERS\\\\\\\\\\\\\\\\\\\\\\\\\\\\\\\\\\\\\\\\\\\\\\\\\\\\\\\\\\\\\\', \\\\\\\\\\\\\\\\\\\\\\\\\\\\\\\\\\\\\\\\\\\\\\\\\\\\\\\\\\\\\\'\\\\\\\\\\\\\\\\\\\\\\\\\\\\\\\\\\\\\\\\\\\\\\\\\\\\\\\\\\\\\\']\"]\\\\\\\\\\\\\\\\\\\\\\\\\\\\\\']\\\\\\\\\\\\\\']\\\\\\']\\']'"
      ]
     },
     "execution_count": 47,
     "metadata": {},
     "output_type": "execute_result"
    }
   ],
   "source": [
    "eat_seat['ViolationNumber'] = eat_seat.Violations.apply(lambda x : x[0])\n",
    "\n",
    "eat_seat['ViolationNumber'][0]"
   ]
  },
  {
   "cell_type": "code",
   "execution_count": null,
   "metadata": {},
   "outputs": [],
   "source": [
    "\n",
    "\n",
    "eat_seat['Violations'] = eat_seat.Violations.apply(lambda x : x[1])\n",
    "\n",
    "eat_seat['Violations'] = eat_seat.Violations.apply(lambda x : x.split(\"-\"))\n",
    "\n",
    "eat_seat['ViolationType'] = eat_seat.Violations.apply(lambda x : x[0])\n",
    "\n",
    "eat_seat['ViolationComment'] = eat_seat.Violations.apply(lambda x : x[1])\n"
   ]
  },
  {
   "cell_type": "code",
   "execution_count": 29,
   "metadata": {},
   "outputs": [],
   "source": [
    "import re\n",
    "violators = eat_seat.dropna(subset=['Violations'], axis = 0, how = 'all')\n",
    "violations = violators.apply(lambda row: re.findall('\\|\\s([0-9]+)[.]', str(row['Violations'])), axis = 1)\n",
    "first_violations = violators.apply(lambda row: row['Violations'].split('.')[0], axis = 1)\n",
    "\n",
    "for violation, first_violation in zip(violations, first_violations):\n",
    "    violation.append(first_violation)\n",
    "\n",
    "flat_list = [item for sublist in violations for item in sublist]\n",
    "unique, counts = np.unique(flat_list, return_counts=True)"
   ]
  },
  {
   "cell_type": "code",
   "execution_count": 31,
   "metadata": {},
   "outputs": [
    {
     "data": {
      "text/plain": [
       "0                                               [10, 56, 5]\n",
       "1                                                  [55, 39]\n",
       "3                                              [53, 58, 51]\n",
       "4                                                      [16]\n",
       "5                                  [38, 55, 55, 58, 60, 38]\n",
       "6                                                      [56]\n",
       "7                                              [51, 55, 47]\n",
       "9                                      [49, 51, 55, 55, 10]\n",
       "10                                              [51, 55, 5]\n",
       "13               [5, 10, 23, 25, 40, 45, 48, 53, 55, 58, 3]\n",
       "14                                                 [55, 10]\n",
       "15                                             [52, 55, 10]\n",
       "16                                             [48, 55, 40]\n",
       "18                                                 [55, 51]\n",
       "19             [23, 38, 43, 47, 47, 49, 55, 56, 57, 61, 10]\n",
       "20                                 [49, 49, 51, 55, 55, 10]\n",
       "22                                                 [55, 38]\n",
       "24                                 [49, 49, 55, 56, 58, 41]\n",
       "25                                     [51, 54, 54, 57, 10]\n",
       "26                                         [53, 55, 57, 51]\n",
       "27                         [25, 38, 40, 48, 49, 56, 57, 15]\n",
       "28                                     [47, 51, 56, 56, 37]\n",
       "29                                                     [55]\n",
       "31                                   [5, 47, 53, 55, 58, 3]\n",
       "35                      [36, 38, 38, 49, 54, 55, 55, 56, 5]\n",
       "36                                             [47, 55, 36]\n",
       "38        [5, 37, 41, 45, 47, 47, 49, 53, 55, 55, 55, 60...\n",
       "39                         [17, 51, 55, 55, 55, 55, 56, 10]\n",
       "40                         [37, 39, 49, 55, 56, 56, 58, 21]\n",
       "41                       [5, 25, 36, 47, 50, 56, 57, 58, 3]\n",
       "                                ...                        \n",
       "195264                             [32, 33, 34, 37, 41, 30]\n",
       "195266                                 [33, 34, 35, 36, 32]\n",
       "195267                                                 [38]\n",
       "195268                             [33, 34, 35, 38, 40, 31]\n",
       "195269                                 [33, 35, 38, 40, 32]\n",
       "195272                                             [41, 38]\n",
       "195274                     [32, 33, 34, 35, 36, 38, 41, 13]\n",
       "195275                                         [34, 35, 33]\n",
       "195277                                         [36, 41, 35]\n",
       "195279                              [18, 19, 24, 37, 38, 9]\n",
       "195280                                     [33, 35, 38, 31]\n",
       "195281                         [21, 33, 34, 35, 38, 41, 12]\n",
       "195283                                 [34, 35, 38, 41, 33]\n",
       "195284                             [31, 32, 33, 34, 36, 29]\n",
       "195285                                             [35, 32]\n",
       "195286                     [19, 21, 30, 31, 32, 33, 34, 18]\n",
       "195287                                         [38, 41, 34]\n",
       "195288                             [21, 32, 33, 34, 38, 19]\n",
       "195289                                     [33, 34, 36, 31]\n",
       "195291                                         [35, 38, 18]\n",
       "195292                                  [32, 33, 35, 36, 9]\n",
       "195293                                 [34, 35, 38, 41, 33]\n",
       "195295                             [33, 34, 35, 36, 38, 32]\n",
       "195296                         [33, 34, 35, 36, 38, 40, 32]\n",
       "195297                                                 [21]\n",
       "195298                         [33, 34, 35, 38, 40, 41, 32]\n",
       "195301             [19, 31, 32, 33, 34, 35, 36, 38, 41, 18]\n",
       "195302                         [19, 31, 33, 34, 35, 38, 18]\n",
       "195307                                 [32, 34, 35, 36, 18]\n",
       "195309         [19, 32, 33, 34, 35, 36, 37, 38, 39, 41, 18]\n",
       "Length: 143530, dtype: object"
      ]
     },
     "execution_count": 31,
     "metadata": {},
     "output_type": "execute_result"
    }
   ],
   "source": [
    "violations"
   ]
  },
  {
   "cell_type": "code",
   "execution_count": null,
   "metadata": {},
   "outputs": [],
   "source": []
  }
 ],
 "metadata": {
  "kernelspec": {
   "display_name": "Python 3",
   "language": "python",
   "name": "python3"
  },
  "language_info": {
   "codemirror_mode": {
    "name": "ipython",
    "version": 3
   },
   "file_extension": ".py",
   "mimetype": "text/x-python",
   "name": "python",
   "nbconvert_exporter": "python",
   "pygments_lexer": "ipython3",
   "version": "3.7.3"
  }
 },
 "nbformat": 4,
 "nbformat_minor": 4
}
